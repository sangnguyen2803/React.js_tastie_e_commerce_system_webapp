{
 "cells": [
  {
   "cell_type": "code",
   "execution_count": 259,
   "id": "5c49d308",
   "metadata": {
    "ExecuteTime": {
     "end_time": "2022-02-24T10:20:33.650436Z",
     "start_time": "2022-02-24T10:20:33.628908Z"
    }
   },
   "outputs": [
    {
     "data": {
      "application/javascript": [
       "\n",
       "            setTimeout(function() {\n",
       "                var nbb_cell_id = 259;\n",
       "                var nbb_unformatted_code = \"import pandas as pd\\nimport numpy as np\\nimport re\\nimport random\";\n",
       "                var nbb_formatted_code = \"import pandas as pd\\nimport numpy as np\\nimport re\\nimport random\";\n",
       "                var nbb_cells = Jupyter.notebook.get_cells();\n",
       "                for (var i = 0; i < nbb_cells.length; ++i) {\n",
       "                    if (nbb_cells[i].input_prompt_number == nbb_cell_id) {\n",
       "                        if (nbb_cells[i].get_text() == nbb_unformatted_code) {\n",
       "                             nbb_cells[i].set_text(nbb_formatted_code);\n",
       "                        }\n",
       "                        break;\n",
       "                    }\n",
       "                }\n",
       "            }, 500);\n",
       "            "
      ],
      "text/plain": [
       "<IPython.core.display.Javascript object>"
      ]
     },
     "metadata": {},
     "output_type": "display_data"
    }
   ],
   "source": [
    "import pandas as pd\n",
    "import numpy as np\n",
    "import re\n",
    "import random"
   ]
  },
  {
   "cell_type": "code",
   "execution_count": 260,
   "id": "5a7e1afe",
   "metadata": {
    "ExecuteTime": {
     "end_time": "2022-02-24T10:20:33.666393Z",
     "start_time": "2022-02-24T10:20:33.652430Z"
    }
   },
   "outputs": [
    {
     "name": "stdout",
     "output_type": "stream",
     "text": [
      "The nb_black extension is already loaded. To reload it, use:\n",
      "  %reload_ext nb_black\n"
     ]
    },
    {
     "data": {
      "application/javascript": [
       "\n",
       "            setTimeout(function() {\n",
       "                var nbb_cell_id = 260;\n",
       "                var nbb_unformatted_code = \"%load_ext nb_black\";\n",
       "                var nbb_formatted_code = \"%load_ext nb_black\";\n",
       "                var nbb_cells = Jupyter.notebook.get_cells();\n",
       "                for (var i = 0; i < nbb_cells.length; ++i) {\n",
       "                    if (nbb_cells[i].input_prompt_number == nbb_cell_id) {\n",
       "                        if (nbb_cells[i].get_text() == nbb_unformatted_code) {\n",
       "                             nbb_cells[i].set_text(nbb_formatted_code);\n",
       "                        }\n",
       "                        break;\n",
       "                    }\n",
       "                }\n",
       "            }, 500);\n",
       "            "
      ],
      "text/plain": [
       "<IPython.core.display.Javascript object>"
      ]
     },
     "metadata": {},
     "output_type": "display_data"
    }
   ],
   "source": [
    "%load_ext nb_black"
   ]
  },
  {
   "cell_type": "code",
   "execution_count": 261,
   "id": "4fa91071",
   "metadata": {
    "ExecuteTime": {
     "end_time": "2022-02-24T10:20:33.726403Z",
     "start_time": "2022-02-24T10:20:33.668390Z"
    }
   },
   "outputs": [
    {
     "data": {
      "application/javascript": [
       "\n",
       "            setTimeout(function() {\n",
       "                var nbb_cell_id = 261;\n",
       "                var nbb_unformatted_code = \"df1 = pd.read_csv(\\\"data/restaurant_hamiton.csv\\\")\";\n",
       "                var nbb_formatted_code = \"df1 = pd.read_csv(\\\"data/restaurant_hamiton.csv\\\")\";\n",
       "                var nbb_cells = Jupyter.notebook.get_cells();\n",
       "                for (var i = 0; i < nbb_cells.length; ++i) {\n",
       "                    if (nbb_cells[i].input_prompt_number == nbb_cell_id) {\n",
       "                        if (nbb_cells[i].get_text() == nbb_unformatted_code) {\n",
       "                             nbb_cells[i].set_text(nbb_formatted_code);\n",
       "                        }\n",
       "                        break;\n",
       "                    }\n",
       "                }\n",
       "            }, 500);\n",
       "            "
      ],
      "text/plain": [
       "<IPython.core.display.Javascript object>"
      ]
     },
     "metadata": {},
     "output_type": "display_data"
    }
   ],
   "source": [
    "df1 = pd.read_csv(\"data/restaurant_hamiton.csv\")"
   ]
  },
  {
   "cell_type": "code",
   "execution_count": 262,
   "id": "f6328035",
   "metadata": {
    "ExecuteTime": {
     "end_time": "2022-02-24T10:20:33.849565Z",
     "start_time": "2022-02-24T10:20:33.729397Z"
    }
   },
   "outputs": [
    {
     "data": {
      "application/javascript": [
       "\n",
       "            setTimeout(function() {\n",
       "                var nbb_cell_id = 262;\n",
       "                var nbb_unformatted_code = \"df2 = pd.read_csv(\\\"data/data.csv\\\")\";\n",
       "                var nbb_formatted_code = \"df2 = pd.read_csv(\\\"data/data.csv\\\")\";\n",
       "                var nbb_cells = Jupyter.notebook.get_cells();\n",
       "                for (var i = 0; i < nbb_cells.length; ++i) {\n",
       "                    if (nbb_cells[i].input_prompt_number == nbb_cell_id) {\n",
       "                        if (nbb_cells[i].get_text() == nbb_unformatted_code) {\n",
       "                             nbb_cells[i].set_text(nbb_formatted_code);\n",
       "                        }\n",
       "                        break;\n",
       "                    }\n",
       "                }\n",
       "            }, 500);\n",
       "            "
      ],
      "text/plain": [
       "<IPython.core.display.Javascript object>"
      ]
     },
     "metadata": {},
     "output_type": "display_data"
    }
   ],
   "source": [
    "df2 = pd.read_csv(\"data/data.csv\")"
   ]
  },
  {
   "cell_type": "markdown",
   "id": "4751acac",
   "metadata": {},
   "source": [
    "## EDA"
   ]
  },
  {
   "cell_type": "code",
   "execution_count": 263,
   "id": "13bc98c2",
   "metadata": {
    "ExecuteTime": {
     "end_time": "2022-02-24T10:20:33.865514Z",
     "start_time": "2022-02-24T10:20:33.850553Z"
    }
   },
   "outputs": [
    {
     "data": {
      "text/html": [
       "<div>\n",
       "<style scoped>\n",
       "    .dataframe tbody tr th:only-of-type {\n",
       "        vertical-align: middle;\n",
       "    }\n",
       "\n",
       "    .dataframe tbody tr th {\n",
       "        vertical-align: top;\n",
       "    }\n",
       "\n",
       "    .dataframe thead th {\n",
       "        text-align: right;\n",
       "    }\n",
       "</style>\n",
       "<table border=\"1\" class=\"dataframe\">\n",
       "  <thead>\n",
       "    <tr style=\"text-align: right;\">\n",
       "      <th></th>\n",
       "      <th>title</th>\n",
       "      <th>img_url</th>\n",
       "      <th>restaurant_url</th>\n",
       "      <th>category</th>\n",
       "      <th>city</th>\n",
       "    </tr>\n",
       "  </thead>\n",
       "  <tbody>\n",
       "    <tr>\n",
       "      <th>0</th>\n",
       "      <td>McDonald's (675 Upper James Street)</td>\n",
       "      <td>https://cn-geo1.uber.com/image-proc/resize/eat...</td>\n",
       "      <td>https://www.ubereats.com/ca/store/mcdonalds-67...</td>\n",
       "      <td>24-hours</td>\n",
       "      <td>hamilton</td>\n",
       "    </tr>\n",
       "    <tr>\n",
       "      <th>1</th>\n",
       "      <td>HAMBRGR Downtown</td>\n",
       "      <td>https://cn-geo1.uber.com/image-proc/resize/eat...</td>\n",
       "      <td>https://www.ubereats.com/ca/store/hambrgr-down...</td>\n",
       "      <td>24-hours</td>\n",
       "      <td>hamilton</td>\n",
       "    </tr>\n",
       "    <tr>\n",
       "      <th>2</th>\n",
       "      <td>Popeyes Louisiana Kitchen (11 King St E)</td>\n",
       "      <td>https://cn-geo1.uber.com/image-proc/resize/eat...</td>\n",
       "      <td>https://www.ubereats.com/ca/store/popeyes-loui...</td>\n",
       "      <td>24-hours</td>\n",
       "      <td>hamilton</td>\n",
       "    </tr>\n",
       "    <tr>\n",
       "      <th>3</th>\n",
       "      <td>Wendy's (244 Hwy 20 South)</td>\n",
       "      <td>https://cn-geo1.uber.com/image-proc/resize/eat...</td>\n",
       "      <td>https://www.ubereats.com/ca/store/wendys-244-h...</td>\n",
       "      <td>24-hours</td>\n",
       "      <td>hamilton</td>\n",
       "    </tr>\n",
       "    <tr>\n",
       "      <th>4</th>\n",
       "      <td>The Ship</td>\n",
       "      <td>https://cn-geo1.uber.com/image-proc/resize/eat...</td>\n",
       "      <td>https://www.ubereats.com/ca/store/the-ship/MHS...</td>\n",
       "      <td>24-hours</td>\n",
       "      <td>hamilton</td>\n",
       "    </tr>\n",
       "  </tbody>\n",
       "</table>\n",
       "</div>"
      ],
      "text/plain": [
       "                                      title  \\\n",
       "0       McDonald's (675 Upper James Street)   \n",
       "1                          HAMBRGR Downtown   \n",
       "2  Popeyes Louisiana Kitchen (11 King St E)   \n",
       "3                Wendy's (244 Hwy 20 South)   \n",
       "4                                  The Ship   \n",
       "\n",
       "                                             img_url  \\\n",
       "0  https://cn-geo1.uber.com/image-proc/resize/eat...   \n",
       "1  https://cn-geo1.uber.com/image-proc/resize/eat...   \n",
       "2  https://cn-geo1.uber.com/image-proc/resize/eat...   \n",
       "3  https://cn-geo1.uber.com/image-proc/resize/eat...   \n",
       "4  https://cn-geo1.uber.com/image-proc/resize/eat...   \n",
       "\n",
       "                                      restaurant_url  category      city  \n",
       "0  https://www.ubereats.com/ca/store/mcdonalds-67...  24-hours  hamilton  \n",
       "1  https://www.ubereats.com/ca/store/hambrgr-down...  24-hours  hamilton  \n",
       "2  https://www.ubereats.com/ca/store/popeyes-loui...  24-hours  hamilton  \n",
       "3  https://www.ubereats.com/ca/store/wendys-244-h...  24-hours  hamilton  \n",
       "4  https://www.ubereats.com/ca/store/the-ship/MHS...  24-hours  hamilton  "
      ]
     },
     "execution_count": 263,
     "metadata": {},
     "output_type": "execute_result"
    },
    {
     "data": {
      "application/javascript": [
       "\n",
       "            setTimeout(function() {\n",
       "                var nbb_cell_id = 263;\n",
       "                var nbb_unformatted_code = \"df1.head()\";\n",
       "                var nbb_formatted_code = \"df1.head()\";\n",
       "                var nbb_cells = Jupyter.notebook.get_cells();\n",
       "                for (var i = 0; i < nbb_cells.length; ++i) {\n",
       "                    if (nbb_cells[i].input_prompt_number == nbb_cell_id) {\n",
       "                        if (nbb_cells[i].get_text() == nbb_unformatted_code) {\n",
       "                             nbb_cells[i].set_text(nbb_formatted_code);\n",
       "                        }\n",
       "                        break;\n",
       "                    }\n",
       "                }\n",
       "            }, 500);\n",
       "            "
      ],
      "text/plain": [
       "<IPython.core.display.Javascript object>"
      ]
     },
     "metadata": {},
     "output_type": "display_data"
    }
   ],
   "source": [
    "df1.head()"
   ]
  },
  {
   "cell_type": "code",
   "execution_count": 264,
   "id": "6f88c10d",
   "metadata": {
    "ExecuteTime": {
     "end_time": "2022-02-24T10:20:33.880522Z",
     "start_time": "2022-02-24T10:20:33.867556Z"
    }
   },
   "outputs": [
    {
     "data": {
      "text/plain": [
       "Index(['title', 'img_url', 'restaurant_url', 'category', 'city'], dtype='object')"
      ]
     },
     "execution_count": 264,
     "metadata": {},
     "output_type": "execute_result"
    },
    {
     "data": {
      "application/javascript": [
       "\n",
       "            setTimeout(function() {\n",
       "                var nbb_cell_id = 264;\n",
       "                var nbb_unformatted_code = \"df1.columns\";\n",
       "                var nbb_formatted_code = \"df1.columns\";\n",
       "                var nbb_cells = Jupyter.notebook.get_cells();\n",
       "                for (var i = 0; i < nbb_cells.length; ++i) {\n",
       "                    if (nbb_cells[i].input_prompt_number == nbb_cell_id) {\n",
       "                        if (nbb_cells[i].get_text() == nbb_unformatted_code) {\n",
       "                             nbb_cells[i].set_text(nbb_formatted_code);\n",
       "                        }\n",
       "                        break;\n",
       "                    }\n",
       "                }\n",
       "            }, 500);\n",
       "            "
      ],
      "text/plain": [
       "<IPython.core.display.Javascript object>"
      ]
     },
     "metadata": {},
     "output_type": "display_data"
    }
   ],
   "source": [
    "df1.columns"
   ]
  },
  {
   "cell_type": "code",
   "execution_count": 265,
   "id": "46d50bce",
   "metadata": {
    "ExecuteTime": {
     "end_time": "2022-02-24T10:20:33.910965Z",
     "start_time": "2022-02-24T10:20:33.881519Z"
    }
   },
   "outputs": [
    {
     "data": {
      "application/javascript": [
       "\n",
       "            setTimeout(function() {\n",
       "                var nbb_cell_id = 265;\n",
       "                var nbb_unformatted_code = \"df1 = df1.rename(columns={\\\"title\\\": \\\"restaurant_name\\\", \\\"img_url\\\": \\\"avt_restaurant\\\"})\";\n",
       "                var nbb_formatted_code = \"df1 = df1.rename(columns={\\\"title\\\": \\\"restaurant_name\\\", \\\"img_url\\\": \\\"avt_restaurant\\\"})\";\n",
       "                var nbb_cells = Jupyter.notebook.get_cells();\n",
       "                for (var i = 0; i < nbb_cells.length; ++i) {\n",
       "                    if (nbb_cells[i].input_prompt_number == nbb_cell_id) {\n",
       "                        if (nbb_cells[i].get_text() == nbb_unformatted_code) {\n",
       "                             nbb_cells[i].set_text(nbb_formatted_code);\n",
       "                        }\n",
       "                        break;\n",
       "                    }\n",
       "                }\n",
       "            }, 500);\n",
       "            "
      ],
      "text/plain": [
       "<IPython.core.display.Javascript object>"
      ]
     },
     "metadata": {},
     "output_type": "display_data"
    }
   ],
   "source": [
    "df1 = df1.rename(columns={\"title\": \"restaurant_name\", \"img_url\": \"avt_restaurant\"})"
   ]
  },
  {
   "cell_type": "code",
   "execution_count": 266,
   "id": "e07ba92d",
   "metadata": {
    "ExecuteTime": {
     "end_time": "2022-02-24T10:20:33.942980Z",
     "start_time": "2022-02-24T10:20:33.912951Z"
    }
   },
   "outputs": [
    {
     "data": {
      "text/html": [
       "<div>\n",
       "<style scoped>\n",
       "    .dataframe tbody tr th:only-of-type {\n",
       "        vertical-align: middle;\n",
       "    }\n",
       "\n",
       "    .dataframe tbody tr th {\n",
       "        vertical-align: top;\n",
       "    }\n",
       "\n",
       "    .dataframe thead th {\n",
       "        text-align: right;\n",
       "    }\n",
       "</style>\n",
       "<table border=\"1\" class=\"dataframe\">\n",
       "  <thead>\n",
       "    <tr style=\"text-align: right;\">\n",
       "      <th></th>\n",
       "      <th>title</th>\n",
       "      <th>detail</th>\n",
       "      <th>rating</th>\n",
       "      <th>num_review</th>\n",
       "      <th>menu_category</th>\n",
       "      <th>name</th>\n",
       "      <th>price</th>\n",
       "      <th>description</th>\n",
       "      <th>status</th>\n",
       "      <th>img_url</th>\n",
       "      <th>restaurant_url</th>\n",
       "    </tr>\n",
       "  </thead>\n",
       "  <tbody>\n",
       "    <tr>\n",
       "      <th>0</th>\n",
       "      <td>NaN</td>\n",
       "      <td>4.6 (233 ratings) • American • $</td>\n",
       "      <td>NaN</td>\n",
       "      <td>NaN</td>\n",
       "      <td>Most Popular</td>\n",
       "      <td>Chicken McMuffin Extra Value Meal [523.0 Cals]</td>\n",
       "      <td>SGD 5.69</td>\n",
       "      <td>Chicken McMuffin Extra Value Meal [523.0 Cals]</td>\n",
       "      <td>In stock</td>\n",
       "      <td>https://d1ralsognjng37.cloudfront.net/81325489...</td>\n",
       "      <td>https://www.ubereats.com/ca/store/mcdonalds-67...</td>\n",
       "    </tr>\n",
       "    <tr>\n",
       "      <th>1</th>\n",
       "      <td>NaN</td>\n",
       "      <td>4.6 (233 ratings) • American • $</td>\n",
       "      <td>NaN</td>\n",
       "      <td>NaN</td>\n",
       "      <td>Most Popular</td>\n",
       "      <td>Egg McMuffin Extra Value Meal [450.0 Cals]</td>\n",
       "      <td>SGD 7.29</td>\n",
       "      <td>Egg McMuffin Extra Value Meal [450.0 Cals]</td>\n",
       "      <td>In stock</td>\n",
       "      <td>https://d1ralsognjng37.cloudfront.net/9813c0cf...</td>\n",
       "      <td>https://www.ubereats.com/ca/store/mcdonalds-67...</td>\n",
       "    </tr>\n",
       "    <tr>\n",
       "      <th>2</th>\n",
       "      <td>NaN</td>\n",
       "      <td>4.6 (233 ratings) • American • $</td>\n",
       "      <td>NaN</td>\n",
       "      <td>NaN</td>\n",
       "      <td>Most Popular</td>\n",
       "      <td>Bacon 'N Egg McMuffin Extra Value Meal [470.0 ...</td>\n",
       "      <td>SGD 7.29</td>\n",
       "      <td>Bacon 'N Egg McMuffin Extra Value Meal [470.0 ...</td>\n",
       "      <td>In stock</td>\n",
       "      <td>https://d1ralsognjng37.cloudfront.net/9038ffb5...</td>\n",
       "      <td>https://www.ubereats.com/ca/store/mcdonalds-67...</td>\n",
       "    </tr>\n",
       "    <tr>\n",
       "      <th>3</th>\n",
       "      <td>NaN</td>\n",
       "      <td>4.6 (233 ratings) • American • $</td>\n",
       "      <td>NaN</td>\n",
       "      <td>NaN</td>\n",
       "      <td>Most Popular</td>\n",
       "      <td>Sausage 'N Egg McMuffin Extra Value Meal [590....</td>\n",
       "      <td>SGD 7.29</td>\n",
       "      <td>Sausage 'N Egg McMuffin Extra Value Meal [590....</td>\n",
       "      <td>In stock</td>\n",
       "      <td>https://d1ralsognjng37.cloudfront.net/c8739211...</td>\n",
       "      <td>https://www.ubereats.com/ca/store/mcdonalds-67...</td>\n",
       "    </tr>\n",
       "    <tr>\n",
       "      <th>4</th>\n",
       "      <td>NaN</td>\n",
       "      <td>4.6 (233 ratings) • American • $</td>\n",
       "      <td>NaN</td>\n",
       "      <td>NaN</td>\n",
       "      <td>Breakfast Sandwiches and Burritos</td>\n",
       "      <td>Chicken McMuffin Extra Value Meal [523.0 Cals]</td>\n",
       "      <td>SGD 5.69</td>\n",
       "      <td>Chicken McMuffin Extra Value Meal [523.0 Cals]</td>\n",
       "      <td>In stock</td>\n",
       "      <td>https://d1ralsognjng37.cloudfront.net/81325489...</td>\n",
       "      <td>https://www.ubereats.com/ca/store/mcdonalds-67...</td>\n",
       "    </tr>\n",
       "  </tbody>\n",
       "</table>\n",
       "</div>"
      ],
      "text/plain": [
       "  title                            detail rating num_review  \\\n",
       "0   NaN  4.6 (233 ratings) • American • $    NaN        NaN   \n",
       "1   NaN  4.6 (233 ratings) • American • $    NaN        NaN   \n",
       "2   NaN  4.6 (233 ratings) • American • $    NaN        NaN   \n",
       "3   NaN  4.6 (233 ratings) • American • $    NaN        NaN   \n",
       "4   NaN  4.6 (233 ratings) • American • $    NaN        NaN   \n",
       "\n",
       "                       menu_category  \\\n",
       "0                       Most Popular   \n",
       "1                       Most Popular   \n",
       "2                       Most Popular   \n",
       "3                       Most Popular   \n",
       "4  Breakfast Sandwiches and Burritos   \n",
       "\n",
       "                                                name     price  \\\n",
       "0     Chicken McMuffin Extra Value Meal [523.0 Cals]  SGD 5.69   \n",
       "1         Egg McMuffin Extra Value Meal [450.0 Cals]  SGD 7.29   \n",
       "2  Bacon 'N Egg McMuffin Extra Value Meal [470.0 ...  SGD 7.29   \n",
       "3  Sausage 'N Egg McMuffin Extra Value Meal [590....  SGD 7.29   \n",
       "4     Chicken McMuffin Extra Value Meal [523.0 Cals]  SGD 5.69   \n",
       "\n",
       "                                         description    status  \\\n",
       "0     Chicken McMuffin Extra Value Meal [523.0 Cals]  In stock   \n",
       "1         Egg McMuffin Extra Value Meal [450.0 Cals]  In stock   \n",
       "2  Bacon 'N Egg McMuffin Extra Value Meal [470.0 ...  In stock   \n",
       "3  Sausage 'N Egg McMuffin Extra Value Meal [590....  In stock   \n",
       "4     Chicken McMuffin Extra Value Meal [523.0 Cals]  In stock   \n",
       "\n",
       "                                             img_url  \\\n",
       "0  https://d1ralsognjng37.cloudfront.net/81325489...   \n",
       "1  https://d1ralsognjng37.cloudfront.net/9813c0cf...   \n",
       "2  https://d1ralsognjng37.cloudfront.net/9038ffb5...   \n",
       "3  https://d1ralsognjng37.cloudfront.net/c8739211...   \n",
       "4  https://d1ralsognjng37.cloudfront.net/81325489...   \n",
       "\n",
       "                                      restaurant_url  \n",
       "0  https://www.ubereats.com/ca/store/mcdonalds-67...  \n",
       "1  https://www.ubereats.com/ca/store/mcdonalds-67...  \n",
       "2  https://www.ubereats.com/ca/store/mcdonalds-67...  \n",
       "3  https://www.ubereats.com/ca/store/mcdonalds-67...  \n",
       "4  https://www.ubereats.com/ca/store/mcdonalds-67...  "
      ]
     },
     "execution_count": 266,
     "metadata": {},
     "output_type": "execute_result"
    },
    {
     "data": {
      "application/javascript": [
       "\n",
       "            setTimeout(function() {\n",
       "                var nbb_cell_id = 266;\n",
       "                var nbb_unformatted_code = \"df2.head()\";\n",
       "                var nbb_formatted_code = \"df2.head()\";\n",
       "                var nbb_cells = Jupyter.notebook.get_cells();\n",
       "                for (var i = 0; i < nbb_cells.length; ++i) {\n",
       "                    if (nbb_cells[i].input_prompt_number == nbb_cell_id) {\n",
       "                        if (nbb_cells[i].get_text() == nbb_unformatted_code) {\n",
       "                             nbb_cells[i].set_text(nbb_formatted_code);\n",
       "                        }\n",
       "                        break;\n",
       "                    }\n",
       "                }\n",
       "            }, 500);\n",
       "            "
      ],
      "text/plain": [
       "<IPython.core.display.Javascript object>"
      ]
     },
     "metadata": {},
     "output_type": "display_data"
    }
   ],
   "source": [
    "df2.head()"
   ]
  },
  {
   "cell_type": "code",
   "execution_count": 267,
   "id": "4f4c000d",
   "metadata": {
    "ExecuteTime": {
     "end_time": "2022-02-24T10:20:33.957831Z",
     "start_time": "2022-02-24T10:20:33.944865Z"
    }
   },
   "outputs": [
    {
     "data": {
      "application/javascript": [
       "\n",
       "            setTimeout(function() {\n",
       "                var nbb_cell_id = 267;\n",
       "                var nbb_unformatted_code = \"# df2 = df2.rename(columns={\\\"title\\\": \\\"product_name\\\", \\\"img_url\\\": \\\"img_product\\\"})\";\n",
       "                var nbb_formatted_code = \"# df2 = df2.rename(columns={\\\"title\\\": \\\"product_name\\\", \\\"img_url\\\": \\\"img_product\\\"})\";\n",
       "                var nbb_cells = Jupyter.notebook.get_cells();\n",
       "                for (var i = 0; i < nbb_cells.length; ++i) {\n",
       "                    if (nbb_cells[i].input_prompt_number == nbb_cell_id) {\n",
       "                        if (nbb_cells[i].get_text() == nbb_unformatted_code) {\n",
       "                             nbb_cells[i].set_text(nbb_formatted_code);\n",
       "                        }\n",
       "                        break;\n",
       "                    }\n",
       "                }\n",
       "            }, 500);\n",
       "            "
      ],
      "text/plain": [
       "<IPython.core.display.Javascript object>"
      ]
     },
     "metadata": {},
     "output_type": "display_data"
    }
   ],
   "source": [
    "# df2 = df2.rename(columns={\"title\": \"product_name\", \"img_url\": \"img_product\"})"
   ]
  },
  {
   "cell_type": "code",
   "execution_count": 268,
   "id": "7ad3884f",
   "metadata": {
    "ExecuteTime": {
     "end_time": "2022-02-24T10:20:33.989323Z",
     "start_time": "2022-02-24T10:20:33.966352Z"
    }
   },
   "outputs": [
    {
     "data": {
      "text/plain": [
       "Index(['title', 'detail', 'rating', 'num_review', 'menu_category', 'name',\n",
       "       'price', 'description', 'status', 'img_url', 'restaurant_url'],\n",
       "      dtype='object')"
      ]
     },
     "execution_count": 268,
     "metadata": {},
     "output_type": "execute_result"
    },
    {
     "data": {
      "application/javascript": [
       "\n",
       "            setTimeout(function() {\n",
       "                var nbb_cell_id = 268;\n",
       "                var nbb_unformatted_code = \"df2.columns\";\n",
       "                var nbb_formatted_code = \"df2.columns\";\n",
       "                var nbb_cells = Jupyter.notebook.get_cells();\n",
       "                for (var i = 0; i < nbb_cells.length; ++i) {\n",
       "                    if (nbb_cells[i].input_prompt_number == nbb_cell_id) {\n",
       "                        if (nbb_cells[i].get_text() == nbb_unformatted_code) {\n",
       "                             nbb_cells[i].set_text(nbb_formatted_code);\n",
       "                        }\n",
       "                        break;\n",
       "                    }\n",
       "                }\n",
       "            }, 500);\n",
       "            "
      ],
      "text/plain": [
       "<IPython.core.display.Javascript object>"
      ]
     },
     "metadata": {},
     "output_type": "display_data"
    }
   ],
   "source": [
    "df2.columns"
   ]
  },
  {
   "cell_type": "code",
   "execution_count": 269,
   "id": "e98a74eb",
   "metadata": {
    "ExecuteTime": {
     "end_time": "2022-02-24T10:20:34.020207Z",
     "start_time": "2022-02-24T10:20:33.991285Z"
    }
   },
   "outputs": [
    {
     "name": "stdout",
     "output_type": "stream",
     "text": [
      "<class 'pandas.core.frame.DataFrame'>\n",
      "RangeIndex: 8572 entries, 0 to 8571\n",
      "Data columns (total 5 columns):\n",
      " #   Column           Non-Null Count  Dtype \n",
      "---  ------           --------------  ----- \n",
      " 0   restaurant_name  8572 non-null   object\n",
      " 1   avt_restaurant   8549 non-null   object\n",
      " 2   restaurant_url   8572 non-null   object\n",
      " 3   category         8572 non-null   object\n",
      " 4   city             8572 non-null   object\n",
      "dtypes: object(5)\n",
      "memory usage: 335.0+ KB\n"
     ]
    },
    {
     "data": {
      "application/javascript": [
       "\n",
       "            setTimeout(function() {\n",
       "                var nbb_cell_id = 269;\n",
       "                var nbb_unformatted_code = \"df1.info()\";\n",
       "                var nbb_formatted_code = \"df1.info()\";\n",
       "                var nbb_cells = Jupyter.notebook.get_cells();\n",
       "                for (var i = 0; i < nbb_cells.length; ++i) {\n",
       "                    if (nbb_cells[i].input_prompt_number == nbb_cell_id) {\n",
       "                        if (nbb_cells[i].get_text() == nbb_unformatted_code) {\n",
       "                             nbb_cells[i].set_text(nbb_formatted_code);\n",
       "                        }\n",
       "                        break;\n",
       "                    }\n",
       "                }\n",
       "            }, 500);\n",
       "            "
      ],
      "text/plain": [
       "<IPython.core.display.Javascript object>"
      ]
     },
     "metadata": {},
     "output_type": "display_data"
    }
   ],
   "source": [
    "df1.info()"
   ]
  },
  {
   "cell_type": "code",
   "execution_count": 270,
   "id": "14c15bc4",
   "metadata": {
    "ExecuteTime": {
     "end_time": "2022-02-24T10:20:34.066178Z",
     "start_time": "2022-02-24T10:20:34.024282Z"
    }
   },
   "outputs": [
    {
     "name": "stdout",
     "output_type": "stream",
     "text": [
      "<class 'pandas.core.frame.DataFrame'>\n",
      "RangeIndex: 16835 entries, 0 to 16834\n",
      "Data columns (total 11 columns):\n",
      " #   Column          Non-Null Count  Dtype \n",
      "---  ------          --------------  ----- \n",
      " 0   title           9596 non-null   object\n",
      " 1   detail          16835 non-null  object\n",
      " 2   rating          9596 non-null   object\n",
      " 3   num_review      7170 non-null   object\n",
      " 4   menu_category   16748 non-null  object\n",
      " 5   name            16748 non-null  object\n",
      " 6   price           16747 non-null  object\n",
      " 7   description     9693 non-null   object\n",
      " 8   status          15734 non-null  object\n",
      " 9   img_url         8271 non-null   object\n",
      " 10  restaurant_url  16835 non-null  object\n",
      "dtypes: object(11)\n",
      "memory usage: 1.4+ MB\n"
     ]
    },
    {
     "data": {
      "application/javascript": [
       "\n",
       "            setTimeout(function() {\n",
       "                var nbb_cell_id = 270;\n",
       "                var nbb_unformatted_code = \"df2.info()\";\n",
       "                var nbb_formatted_code = \"df2.info()\";\n",
       "                var nbb_cells = Jupyter.notebook.get_cells();\n",
       "                for (var i = 0; i < nbb_cells.length; ++i) {\n",
       "                    if (nbb_cells[i].input_prompt_number == nbb_cell_id) {\n",
       "                        if (nbb_cells[i].get_text() == nbb_unformatted_code) {\n",
       "                             nbb_cells[i].set_text(nbb_formatted_code);\n",
       "                        }\n",
       "                        break;\n",
       "                    }\n",
       "                }\n",
       "            }, 500);\n",
       "            "
      ],
      "text/plain": [
       "<IPython.core.display.Javascript object>"
      ]
     },
     "metadata": {},
     "output_type": "display_data"
    }
   ],
   "source": [
    "df2.info()"
   ]
  },
  {
   "cell_type": "code",
   "execution_count": 271,
   "id": "95022e7a",
   "metadata": {
    "ExecuteTime": {
     "end_time": "2022-02-24T10:20:34.143795Z",
     "start_time": "2022-02-24T10:20:34.067177Z"
    }
   },
   "outputs": [
    {
     "data": {
      "application/javascript": [
       "\n",
       "            setTimeout(function() {\n",
       "                var nbb_cell_id = 271;\n",
       "                var nbb_unformatted_code = \"df = df2.merge(df1, on=\\\"restaurant_url\\\")\";\n",
       "                var nbb_formatted_code = \"df = df2.merge(df1, on=\\\"restaurant_url\\\")\";\n",
       "                var nbb_cells = Jupyter.notebook.get_cells();\n",
       "                for (var i = 0; i < nbb_cells.length; ++i) {\n",
       "                    if (nbb_cells[i].input_prompt_number == nbb_cell_id) {\n",
       "                        if (nbb_cells[i].get_text() == nbb_unformatted_code) {\n",
       "                             nbb_cells[i].set_text(nbb_formatted_code);\n",
       "                        }\n",
       "                        break;\n",
       "                    }\n",
       "                }\n",
       "            }, 500);\n",
       "            "
      ],
      "text/plain": [
       "<IPython.core.display.Javascript object>"
      ]
     },
     "metadata": {},
     "output_type": "display_data"
    }
   ],
   "source": [
    "df = df2.merge(df1, on=\"restaurant_url\")"
   ]
  },
  {
   "cell_type": "code",
   "execution_count": 272,
   "id": "864f58bf",
   "metadata": {
    "ExecuteTime": {
     "end_time": "2022-02-24T10:20:34.159112Z",
     "start_time": "2022-02-24T10:20:34.145105Z"
    }
   },
   "outputs": [
    {
     "data": {
      "application/javascript": [
       "\n",
       "            setTimeout(function() {\n",
       "                var nbb_cell_id = 272;\n",
       "                var nbb_unformatted_code = \"# df.restaurant_name = df.restaurant_name.dropna()\";\n",
       "                var nbb_formatted_code = \"# df.restaurant_name = df.restaurant_name.dropna()\";\n",
       "                var nbb_cells = Jupyter.notebook.get_cells();\n",
       "                for (var i = 0; i < nbb_cells.length; ++i) {\n",
       "                    if (nbb_cells[i].input_prompt_number == nbb_cell_id) {\n",
       "                        if (nbb_cells[i].get_text() == nbb_unformatted_code) {\n",
       "                             nbb_cells[i].set_text(nbb_formatted_code);\n",
       "                        }\n",
       "                        break;\n",
       "                    }\n",
       "                }\n",
       "            }, 500);\n",
       "            "
      ],
      "text/plain": [
       "<IPython.core.display.Javascript object>"
      ]
     },
     "metadata": {},
     "output_type": "display_data"
    }
   ],
   "source": [
    "# df.restaurant_name = df.restaurant_name.dropna()"
   ]
  },
  {
   "cell_type": "code",
   "execution_count": 273,
   "id": "2e2f240c",
   "metadata": {
    "ExecuteTime": {
     "end_time": "2022-02-24T10:20:34.174175Z",
     "start_time": "2022-02-24T10:20:34.160024Z"
    }
   },
   "outputs": [
    {
     "data": {
      "application/javascript": [
       "\n",
       "            setTimeout(function() {\n",
       "                var nbb_cell_id = 273;\n",
       "                var nbb_unformatted_code = \"# df.product_name = df.product_name.dropna()\";\n",
       "                var nbb_formatted_code = \"# df.product_name = df.product_name.dropna()\";\n",
       "                var nbb_cells = Jupyter.notebook.get_cells();\n",
       "                for (var i = 0; i < nbb_cells.length; ++i) {\n",
       "                    if (nbb_cells[i].input_prompt_number == nbb_cell_id) {\n",
       "                        if (nbb_cells[i].get_text() == nbb_unformatted_code) {\n",
       "                             nbb_cells[i].set_text(nbb_formatted_code);\n",
       "                        }\n",
       "                        break;\n",
       "                    }\n",
       "                }\n",
       "            }, 500);\n",
       "            "
      ],
      "text/plain": [
       "<IPython.core.display.Javascript object>"
      ]
     },
     "metadata": {},
     "output_type": "display_data"
    }
   ],
   "source": [
    "# df.product_name = df.product_name.dropna()"
   ]
  },
  {
   "cell_type": "code",
   "execution_count": 274,
   "id": "dc061d97",
   "metadata": {
    "ExecuteTime": {
     "end_time": "2022-02-24T10:20:34.205445Z",
     "start_time": "2022-02-24T10:20:34.175018Z"
    }
   },
   "outputs": [
    {
     "data": {
      "text/html": [
       "<div>\n",
       "<style scoped>\n",
       "    .dataframe tbody tr th:only-of-type {\n",
       "        vertical-align: middle;\n",
       "    }\n",
       "\n",
       "    .dataframe tbody tr th {\n",
       "        vertical-align: top;\n",
       "    }\n",
       "\n",
       "    .dataframe thead th {\n",
       "        text-align: right;\n",
       "    }\n",
       "</style>\n",
       "<table border=\"1\" class=\"dataframe\">\n",
       "  <thead>\n",
       "    <tr style=\"text-align: right;\">\n",
       "      <th></th>\n",
       "      <th>title</th>\n",
       "      <th>detail</th>\n",
       "      <th>rating</th>\n",
       "      <th>num_review</th>\n",
       "      <th>menu_category</th>\n",
       "      <th>name</th>\n",
       "      <th>price</th>\n",
       "      <th>description</th>\n",
       "      <th>status</th>\n",
       "      <th>img_url</th>\n",
       "      <th>restaurant_url</th>\n",
       "      <th>restaurant_name</th>\n",
       "      <th>avt_restaurant</th>\n",
       "      <th>category</th>\n",
       "      <th>city</th>\n",
       "    </tr>\n",
       "  </thead>\n",
       "  <tbody>\n",
       "    <tr>\n",
       "      <th>0</th>\n",
       "      <td>NaN</td>\n",
       "      <td>4.6 (233 ratings) • American • $</td>\n",
       "      <td>NaN</td>\n",
       "      <td>NaN</td>\n",
       "      <td>Most Popular</td>\n",
       "      <td>Chicken McMuffin Extra Value Meal [523.0 Cals]</td>\n",
       "      <td>SGD 5.69</td>\n",
       "      <td>Chicken McMuffin Extra Value Meal [523.0 Cals]</td>\n",
       "      <td>In stock</td>\n",
       "      <td>https://d1ralsognjng37.cloudfront.net/81325489...</td>\n",
       "      <td>https://www.ubereats.com/ca/store/mcdonalds-67...</td>\n",
       "      <td>McDonald's (675 Upper James Street)</td>\n",
       "      <td>https://cn-geo1.uber.com/image-proc/resize/eat...</td>\n",
       "      <td>24-hours</td>\n",
       "      <td>hamilton</td>\n",
       "    </tr>\n",
       "    <tr>\n",
       "      <th>1</th>\n",
       "      <td>NaN</td>\n",
       "      <td>4.6 (233 ratings) • American • $</td>\n",
       "      <td>NaN</td>\n",
       "      <td>NaN</td>\n",
       "      <td>Most Popular</td>\n",
       "      <td>Chicken McMuffin Extra Value Meal [523.0 Cals]</td>\n",
       "      <td>SGD 5.69</td>\n",
       "      <td>Chicken McMuffin Extra Value Meal [523.0 Cals]</td>\n",
       "      <td>In stock</td>\n",
       "      <td>https://d1ralsognjng37.cloudfront.net/81325489...</td>\n",
       "      <td>https://www.ubereats.com/ca/store/mcdonalds-67...</td>\n",
       "      <td>McDonald's</td>\n",
       "      <td>https://cn-geo1.uber.com/image-proc/resize/eat...</td>\n",
       "      <td>american</td>\n",
       "      <td>hamilton</td>\n",
       "    </tr>\n",
       "    <tr>\n",
       "      <th>2</th>\n",
       "      <td>NaN</td>\n",
       "      <td>4.6 (233 ratings) • American • $</td>\n",
       "      <td>NaN</td>\n",
       "      <td>NaN</td>\n",
       "      <td>Most Popular</td>\n",
       "      <td>Chicken McMuffin Extra Value Meal [523.0 Cals]</td>\n",
       "      <td>SGD 5.69</td>\n",
       "      <td>Chicken McMuffin Extra Value Meal [523.0 Cals]</td>\n",
       "      <td>In stock</td>\n",
       "      <td>https://d1ralsognjng37.cloudfront.net/81325489...</td>\n",
       "      <td>https://www.ubereats.com/ca/store/mcdonalds-67...</td>\n",
       "      <td>McDonald's (675 Upper James Street)</td>\n",
       "      <td>https://cn-geo1.uber.com/image-proc/resize/eat...</td>\n",
       "      <td>bacon</td>\n",
       "      <td>hamilton</td>\n",
       "    </tr>\n",
       "    <tr>\n",
       "      <th>3</th>\n",
       "      <td>NaN</td>\n",
       "      <td>4.6 (233 ratings) • American • $</td>\n",
       "      <td>NaN</td>\n",
       "      <td>NaN</td>\n",
       "      <td>Most Popular</td>\n",
       "      <td>Chicken McMuffin Extra Value Meal [523.0 Cals]</td>\n",
       "      <td>SGD 5.69</td>\n",
       "      <td>Chicken McMuffin Extra Value Meal [523.0 Cals]</td>\n",
       "      <td>In stock</td>\n",
       "      <td>https://d1ralsognjng37.cloudfront.net/81325489...</td>\n",
       "      <td>https://www.ubereats.com/ca/store/mcdonalds-67...</td>\n",
       "      <td>McDonald's (675 Upper James Street)</td>\n",
       "      <td>https://cn-geo1.uber.com/image-proc/resize/eat...</td>\n",
       "      <td>bakery</td>\n",
       "      <td>hamilton</td>\n",
       "    </tr>\n",
       "    <tr>\n",
       "      <th>4</th>\n",
       "      <td>NaN</td>\n",
       "      <td>4.6 (233 ratings) • American • $</td>\n",
       "      <td>NaN</td>\n",
       "      <td>NaN</td>\n",
       "      <td>Most Popular</td>\n",
       "      <td>Chicken McMuffin Extra Value Meal [523.0 Cals]</td>\n",
       "      <td>SGD 5.69</td>\n",
       "      <td>Chicken McMuffin Extra Value Meal [523.0 Cals]</td>\n",
       "      <td>In stock</td>\n",
       "      <td>https://d1ralsognjng37.cloudfront.net/81325489...</td>\n",
       "      <td>https://www.ubereats.com/ca/store/mcdonalds-67...</td>\n",
       "      <td>McDonald's (675 Upper James Street)</td>\n",
       "      <td>https://cn-geo1.uber.com/image-proc/resize/eat...</td>\n",
       "      <td>bar-food</td>\n",
       "      <td>hamilton</td>\n",
       "    </tr>\n",
       "  </tbody>\n",
       "</table>\n",
       "</div>"
      ],
      "text/plain": [
       "  title                            detail rating num_review menu_category  \\\n",
       "0   NaN  4.6 (233 ratings) • American • $    NaN        NaN  Most Popular   \n",
       "1   NaN  4.6 (233 ratings) • American • $    NaN        NaN  Most Popular   \n",
       "2   NaN  4.6 (233 ratings) • American • $    NaN        NaN  Most Popular   \n",
       "3   NaN  4.6 (233 ratings) • American • $    NaN        NaN  Most Popular   \n",
       "4   NaN  4.6 (233 ratings) • American • $    NaN        NaN  Most Popular   \n",
       "\n",
       "                                             name     price  \\\n",
       "0  Chicken McMuffin Extra Value Meal [523.0 Cals]  SGD 5.69   \n",
       "1  Chicken McMuffin Extra Value Meal [523.0 Cals]  SGD 5.69   \n",
       "2  Chicken McMuffin Extra Value Meal [523.0 Cals]  SGD 5.69   \n",
       "3  Chicken McMuffin Extra Value Meal [523.0 Cals]  SGD 5.69   \n",
       "4  Chicken McMuffin Extra Value Meal [523.0 Cals]  SGD 5.69   \n",
       "\n",
       "                                      description    status  \\\n",
       "0  Chicken McMuffin Extra Value Meal [523.0 Cals]  In stock   \n",
       "1  Chicken McMuffin Extra Value Meal [523.0 Cals]  In stock   \n",
       "2  Chicken McMuffin Extra Value Meal [523.0 Cals]  In stock   \n",
       "3  Chicken McMuffin Extra Value Meal [523.0 Cals]  In stock   \n",
       "4  Chicken McMuffin Extra Value Meal [523.0 Cals]  In stock   \n",
       "\n",
       "                                             img_url  \\\n",
       "0  https://d1ralsognjng37.cloudfront.net/81325489...   \n",
       "1  https://d1ralsognjng37.cloudfront.net/81325489...   \n",
       "2  https://d1ralsognjng37.cloudfront.net/81325489...   \n",
       "3  https://d1ralsognjng37.cloudfront.net/81325489...   \n",
       "4  https://d1ralsognjng37.cloudfront.net/81325489...   \n",
       "\n",
       "                                      restaurant_url  \\\n",
       "0  https://www.ubereats.com/ca/store/mcdonalds-67...   \n",
       "1  https://www.ubereats.com/ca/store/mcdonalds-67...   \n",
       "2  https://www.ubereats.com/ca/store/mcdonalds-67...   \n",
       "3  https://www.ubereats.com/ca/store/mcdonalds-67...   \n",
       "4  https://www.ubereats.com/ca/store/mcdonalds-67...   \n",
       "\n",
       "                       restaurant_name  \\\n",
       "0  McDonald's (675 Upper James Street)   \n",
       "1                           McDonald's   \n",
       "2  McDonald's (675 Upper James Street)   \n",
       "3  McDonald's (675 Upper James Street)   \n",
       "4  McDonald's (675 Upper James Street)   \n",
       "\n",
       "                                      avt_restaurant  category      city  \n",
       "0  https://cn-geo1.uber.com/image-proc/resize/eat...  24-hours  hamilton  \n",
       "1  https://cn-geo1.uber.com/image-proc/resize/eat...  american  hamilton  \n",
       "2  https://cn-geo1.uber.com/image-proc/resize/eat...     bacon  hamilton  \n",
       "3  https://cn-geo1.uber.com/image-proc/resize/eat...    bakery  hamilton  \n",
       "4  https://cn-geo1.uber.com/image-proc/resize/eat...  bar-food  hamilton  "
      ]
     },
     "execution_count": 274,
     "metadata": {},
     "output_type": "execute_result"
    },
    {
     "data": {
      "application/javascript": [
       "\n",
       "            setTimeout(function() {\n",
       "                var nbb_cell_id = 274;\n",
       "                var nbb_unformatted_code = \"df.head()\";\n",
       "                var nbb_formatted_code = \"df.head()\";\n",
       "                var nbb_cells = Jupyter.notebook.get_cells();\n",
       "                for (var i = 0; i < nbb_cells.length; ++i) {\n",
       "                    if (nbb_cells[i].input_prompt_number == nbb_cell_id) {\n",
       "                        if (nbb_cells[i].get_text() == nbb_unformatted_code) {\n",
       "                             nbb_cells[i].set_text(nbb_formatted_code);\n",
       "                        }\n",
       "                        break;\n",
       "                    }\n",
       "                }\n",
       "            }, 500);\n",
       "            "
      ],
      "text/plain": [
       "<IPython.core.display.Javascript object>"
      ]
     },
     "metadata": {},
     "output_type": "display_data"
    }
   ],
   "source": [
    "df.head()"
   ]
  },
  {
   "cell_type": "code",
   "execution_count": 275,
   "id": "27999dcf",
   "metadata": {
    "ExecuteTime": {
     "end_time": "2022-02-24T10:20:34.344548Z",
     "start_time": "2022-02-24T10:20:34.207409Z"
    }
   },
   "outputs": [
    {
     "data": {
      "application/javascript": [
       "\n",
       "            setTimeout(function() {\n",
       "                var nbb_cell_id = 275;\n",
       "                var nbb_unformatted_code = \"df = df.drop([\\\"title\\\"], axis=1)\";\n",
       "                var nbb_formatted_code = \"df = df.drop([\\\"title\\\"], axis=1)\";\n",
       "                var nbb_cells = Jupyter.notebook.get_cells();\n",
       "                for (var i = 0; i < nbb_cells.length; ++i) {\n",
       "                    if (nbb_cells[i].input_prompt_number == nbb_cell_id) {\n",
       "                        if (nbb_cells[i].get_text() == nbb_unformatted_code) {\n",
       "                             nbb_cells[i].set_text(nbb_formatted_code);\n",
       "                        }\n",
       "                        break;\n",
       "                    }\n",
       "                }\n",
       "            }, 500);\n",
       "            "
      ],
      "text/plain": [
       "<IPython.core.display.Javascript object>"
      ]
     },
     "metadata": {},
     "output_type": "display_data"
    }
   ],
   "source": [
    "df = df.drop([\"title\"], axis=1)"
   ]
  },
  {
   "cell_type": "code",
   "execution_count": 276,
   "id": "b3208f3c",
   "metadata": {
    "ExecuteTime": {
     "end_time": "2022-02-24T10:20:34.406447Z",
     "start_time": "2022-02-24T10:20:34.346536Z"
    }
   },
   "outputs": [
    {
     "data": {
      "application/javascript": [
       "\n",
       "            setTimeout(function() {\n",
       "                var nbb_cell_id = 276;\n",
       "                var nbb_unformatted_code = \"df = df.rename(\\n    columns={\\n        \\\"category\\\": \\\"restaurant_category\\\",\\n        \\\"name\\\": \\\"product_name\\\",\\n        \\\"detail\\\": \\\"restaurant_description\\\",\\n        \\\"description\\\": \\\"product_description\\\",\\n        'img_url':'product_image'\\n    }\\n)\";\n",
       "                var nbb_formatted_code = \"df = df.rename(\\n    columns={\\n        \\\"category\\\": \\\"restaurant_category\\\",\\n        \\\"name\\\": \\\"product_name\\\",\\n        \\\"detail\\\": \\\"restaurant_description\\\",\\n        \\\"description\\\": \\\"product_description\\\",\\n        \\\"img_url\\\": \\\"product_image\\\",\\n    }\\n)\";\n",
       "                var nbb_cells = Jupyter.notebook.get_cells();\n",
       "                for (var i = 0; i < nbb_cells.length; ++i) {\n",
       "                    if (nbb_cells[i].input_prompt_number == nbb_cell_id) {\n",
       "                        if (nbb_cells[i].get_text() == nbb_unformatted_code) {\n",
       "                             nbb_cells[i].set_text(nbb_formatted_code);\n",
       "                        }\n",
       "                        break;\n",
       "                    }\n",
       "                }\n",
       "            }, 500);\n",
       "            "
      ],
      "text/plain": [
       "<IPython.core.display.Javascript object>"
      ]
     },
     "metadata": {},
     "output_type": "display_data"
    }
   ],
   "source": [
    "df = df.rename(\n",
    "    columns={\n",
    "        \"category\": \"restaurant_category\",\n",
    "        \"name\": \"product_name\",\n",
    "        \"detail\": \"restaurant_description\",\n",
    "        \"description\": \"product_description\",\n",
    "        \"img_url\": \"product_image\",\n",
    "    }\n",
    ")"
   ]
  },
  {
   "cell_type": "code",
   "execution_count": 277,
   "id": "8e45fdb0",
   "metadata": {
    "ExecuteTime": {
     "end_time": "2022-02-24T10:20:34.436383Z",
     "start_time": "2022-02-24T10:20:34.408443Z"
    }
   },
   "outputs": [
    {
     "data": {
      "text/html": [
       "<div>\n",
       "<style scoped>\n",
       "    .dataframe tbody tr th:only-of-type {\n",
       "        vertical-align: middle;\n",
       "    }\n",
       "\n",
       "    .dataframe tbody tr th {\n",
       "        vertical-align: top;\n",
       "    }\n",
       "\n",
       "    .dataframe thead th {\n",
       "        text-align: right;\n",
       "    }\n",
       "</style>\n",
       "<table border=\"1\" class=\"dataframe\">\n",
       "  <thead>\n",
       "    <tr style=\"text-align: right;\">\n",
       "      <th></th>\n",
       "      <th>restaurant_description</th>\n",
       "      <th>rating</th>\n",
       "      <th>num_review</th>\n",
       "      <th>menu_category</th>\n",
       "      <th>product_name</th>\n",
       "      <th>price</th>\n",
       "      <th>product_description</th>\n",
       "      <th>status</th>\n",
       "      <th>product_image</th>\n",
       "      <th>restaurant_url</th>\n",
       "      <th>restaurant_name</th>\n",
       "      <th>avt_restaurant</th>\n",
       "      <th>restaurant_category</th>\n",
       "      <th>city</th>\n",
       "    </tr>\n",
       "  </thead>\n",
       "  <tbody>\n",
       "    <tr>\n",
       "      <th>0</th>\n",
       "      <td>4.6 (233 ratings) • American • $</td>\n",
       "      <td>NaN</td>\n",
       "      <td>NaN</td>\n",
       "      <td>Most Popular</td>\n",
       "      <td>Chicken McMuffin Extra Value Meal [523.0 Cals]</td>\n",
       "      <td>SGD 5.69</td>\n",
       "      <td>Chicken McMuffin Extra Value Meal [523.0 Cals]</td>\n",
       "      <td>In stock</td>\n",
       "      <td>https://d1ralsognjng37.cloudfront.net/81325489...</td>\n",
       "      <td>https://www.ubereats.com/ca/store/mcdonalds-67...</td>\n",
       "      <td>McDonald's (675 Upper James Street)</td>\n",
       "      <td>https://cn-geo1.uber.com/image-proc/resize/eat...</td>\n",
       "      <td>24-hours</td>\n",
       "      <td>hamilton</td>\n",
       "    </tr>\n",
       "    <tr>\n",
       "      <th>1</th>\n",
       "      <td>4.6 (233 ratings) • American • $</td>\n",
       "      <td>NaN</td>\n",
       "      <td>NaN</td>\n",
       "      <td>Most Popular</td>\n",
       "      <td>Chicken McMuffin Extra Value Meal [523.0 Cals]</td>\n",
       "      <td>SGD 5.69</td>\n",
       "      <td>Chicken McMuffin Extra Value Meal [523.0 Cals]</td>\n",
       "      <td>In stock</td>\n",
       "      <td>https://d1ralsognjng37.cloudfront.net/81325489...</td>\n",
       "      <td>https://www.ubereats.com/ca/store/mcdonalds-67...</td>\n",
       "      <td>McDonald's</td>\n",
       "      <td>https://cn-geo1.uber.com/image-proc/resize/eat...</td>\n",
       "      <td>american</td>\n",
       "      <td>hamilton</td>\n",
       "    </tr>\n",
       "    <tr>\n",
       "      <th>2</th>\n",
       "      <td>4.6 (233 ratings) • American • $</td>\n",
       "      <td>NaN</td>\n",
       "      <td>NaN</td>\n",
       "      <td>Most Popular</td>\n",
       "      <td>Chicken McMuffin Extra Value Meal [523.0 Cals]</td>\n",
       "      <td>SGD 5.69</td>\n",
       "      <td>Chicken McMuffin Extra Value Meal [523.0 Cals]</td>\n",
       "      <td>In stock</td>\n",
       "      <td>https://d1ralsognjng37.cloudfront.net/81325489...</td>\n",
       "      <td>https://www.ubereats.com/ca/store/mcdonalds-67...</td>\n",
       "      <td>McDonald's (675 Upper James Street)</td>\n",
       "      <td>https://cn-geo1.uber.com/image-proc/resize/eat...</td>\n",
       "      <td>bacon</td>\n",
       "      <td>hamilton</td>\n",
       "    </tr>\n",
       "    <tr>\n",
       "      <th>3</th>\n",
       "      <td>4.6 (233 ratings) • American • $</td>\n",
       "      <td>NaN</td>\n",
       "      <td>NaN</td>\n",
       "      <td>Most Popular</td>\n",
       "      <td>Chicken McMuffin Extra Value Meal [523.0 Cals]</td>\n",
       "      <td>SGD 5.69</td>\n",
       "      <td>Chicken McMuffin Extra Value Meal [523.0 Cals]</td>\n",
       "      <td>In stock</td>\n",
       "      <td>https://d1ralsognjng37.cloudfront.net/81325489...</td>\n",
       "      <td>https://www.ubereats.com/ca/store/mcdonalds-67...</td>\n",
       "      <td>McDonald's (675 Upper James Street)</td>\n",
       "      <td>https://cn-geo1.uber.com/image-proc/resize/eat...</td>\n",
       "      <td>bakery</td>\n",
       "      <td>hamilton</td>\n",
       "    </tr>\n",
       "    <tr>\n",
       "      <th>4</th>\n",
       "      <td>4.6 (233 ratings) • American • $</td>\n",
       "      <td>NaN</td>\n",
       "      <td>NaN</td>\n",
       "      <td>Most Popular</td>\n",
       "      <td>Chicken McMuffin Extra Value Meal [523.0 Cals]</td>\n",
       "      <td>SGD 5.69</td>\n",
       "      <td>Chicken McMuffin Extra Value Meal [523.0 Cals]</td>\n",
       "      <td>In stock</td>\n",
       "      <td>https://d1ralsognjng37.cloudfront.net/81325489...</td>\n",
       "      <td>https://www.ubereats.com/ca/store/mcdonalds-67...</td>\n",
       "      <td>McDonald's (675 Upper James Street)</td>\n",
       "      <td>https://cn-geo1.uber.com/image-proc/resize/eat...</td>\n",
       "      <td>bar-food</td>\n",
       "      <td>hamilton</td>\n",
       "    </tr>\n",
       "    <tr>\n",
       "      <th>...</th>\n",
       "      <td>...</td>\n",
       "      <td>...</td>\n",
       "      <td>...</td>\n",
       "      <td>...</td>\n",
       "      <td>...</td>\n",
       "      <td>...</td>\n",
       "      <td>...</td>\n",
       "      <td>...</td>\n",
       "      <td>...</td>\n",
       "      <td>...</td>\n",
       "      <td>...</td>\n",
       "      <td>...</td>\n",
       "      <td>...</td>\n",
       "      <td>...</td>\n",
       "    </tr>\n",
       "    <tr>\n",
       "      <th>511445</th>\n",
       "      <td>Here's one of the 3 most popular Grocery takeo...</td>\n",
       "      <td>3.5</td>\n",
       "      <td>(21)</td>\n",
       "      <td>Pet</td>\n",
       "      <td>Milkbone Original Small Dog Treats- 450g</td>\n",
       "      <td>$6.99</td>\n",
       "      <td>450g</td>\n",
       "      <td>In stock</td>\n",
       "      <td>NaN</td>\n",
       "      <td>https://www.ubereats.com/ca/store/hasty-market...</td>\n",
       "      <td>Hasty Market (Kenilworth Ave N)</td>\n",
       "      <td>https://cn-geo1.uber.com/image-proc/resize/eat...</td>\n",
       "      <td>24-hours</td>\n",
       "      <td>hamilton</td>\n",
       "    </tr>\n",
       "    <tr>\n",
       "      <th>511446</th>\n",
       "      <td>Here's one of the 3 most popular Grocery takeo...</td>\n",
       "      <td>3.5</td>\n",
       "      <td>(21)</td>\n",
       "      <td>Pet</td>\n",
       "      <td>Milkbone Original Small Dog Treats- 450g</td>\n",
       "      <td>$6.99</td>\n",
       "      <td>450g</td>\n",
       "      <td>In stock</td>\n",
       "      <td>NaN</td>\n",
       "      <td>https://www.ubereats.com/ca/store/hasty-market...</td>\n",
       "      <td>Hasty Market (Kenilworth Ave N)</td>\n",
       "      <td>https://cn-geo1.uber.com/image-proc/resize/eat...</td>\n",
       "      <td>bento</td>\n",
       "      <td>hamilton</td>\n",
       "    </tr>\n",
       "    <tr>\n",
       "      <th>511447</th>\n",
       "      <td>Here's one of the 3 most popular Grocery takeo...</td>\n",
       "      <td>3.5</td>\n",
       "      <td>(21)</td>\n",
       "      <td>Pet</td>\n",
       "      <td>Milkbone Original Small Dog Treats- 450g</td>\n",
       "      <td>$6.99</td>\n",
       "      <td>450g</td>\n",
       "      <td>In stock</td>\n",
       "      <td>NaN</td>\n",
       "      <td>https://www.ubereats.com/ca/store/hasty-market...</td>\n",
       "      <td>Hasty Market (Kenilworth Ave N)</td>\n",
       "      <td>https://cn-geo1.uber.com/image-proc/resize/eat...</td>\n",
       "      <td>candy</td>\n",
       "      <td>hamilton</td>\n",
       "    </tr>\n",
       "    <tr>\n",
       "      <th>511448</th>\n",
       "      <td>Here's one of the 3 most popular Grocery takeo...</td>\n",
       "      <td>3.5</td>\n",
       "      <td>(21)</td>\n",
       "      <td>Pet</td>\n",
       "      <td>Milkbone Original Small Dog Treats- 450g</td>\n",
       "      <td>$6.99</td>\n",
       "      <td>450g</td>\n",
       "      <td>In stock</td>\n",
       "      <td>NaN</td>\n",
       "      <td>https://www.ubereats.com/ca/store/hasty-market...</td>\n",
       "      <td>Hasty Market (Kenilworth Ave N)</td>\n",
       "      <td>https://cn-geo1.uber.com/image-proc/resize/eat...</td>\n",
       "      <td>frozen-food</td>\n",
       "      <td>hamilton</td>\n",
       "    </tr>\n",
       "    <tr>\n",
       "      <th>511449</th>\n",
       "      <td>Here's one of the 3 most popular Grocery takeo...</td>\n",
       "      <td>3.5</td>\n",
       "      <td>(21)</td>\n",
       "      <td>Pet</td>\n",
       "      <td>Milkbone Original Small Dog Treats- 450g</td>\n",
       "      <td>$6.99</td>\n",
       "      <td>450g</td>\n",
       "      <td>In stock</td>\n",
       "      <td>NaN</td>\n",
       "      <td>https://www.ubereats.com/ca/store/hasty-market...</td>\n",
       "      <td>Hasty Market (Kenilworth Ave N)</td>\n",
       "      <td>https://cn-geo1.uber.com/image-proc/resize/eat...</td>\n",
       "      <td>juice-and-smoothies</td>\n",
       "      <td>hamilton</td>\n",
       "    </tr>\n",
       "  </tbody>\n",
       "</table>\n",
       "<p>511450 rows × 14 columns</p>\n",
       "</div>"
      ],
      "text/plain": [
       "                                   restaurant_description rating num_review  \\\n",
       "0                        4.6 (233 ratings) • American • $    NaN        NaN   \n",
       "1                        4.6 (233 ratings) • American • $    NaN        NaN   \n",
       "2                        4.6 (233 ratings) • American • $    NaN        NaN   \n",
       "3                        4.6 (233 ratings) • American • $    NaN        NaN   \n",
       "4                        4.6 (233 ratings) • American • $    NaN        NaN   \n",
       "...                                                   ...    ...        ...   \n",
       "511445  Here's one of the 3 most popular Grocery takeo...    3.5       (21)   \n",
       "511446  Here's one of the 3 most popular Grocery takeo...    3.5       (21)   \n",
       "511447  Here's one of the 3 most popular Grocery takeo...    3.5       (21)   \n",
       "511448  Here's one of the 3 most popular Grocery takeo...    3.5       (21)   \n",
       "511449  Here's one of the 3 most popular Grocery takeo...    3.5       (21)   \n",
       "\n",
       "       menu_category                                    product_name  \\\n",
       "0       Most Popular  Chicken McMuffin Extra Value Meal [523.0 Cals]   \n",
       "1       Most Popular  Chicken McMuffin Extra Value Meal [523.0 Cals]   \n",
       "2       Most Popular  Chicken McMuffin Extra Value Meal [523.0 Cals]   \n",
       "3       Most Popular  Chicken McMuffin Extra Value Meal [523.0 Cals]   \n",
       "4       Most Popular  Chicken McMuffin Extra Value Meal [523.0 Cals]   \n",
       "...              ...                                             ...   \n",
       "511445           Pet        Milkbone Original Small Dog Treats- 450g   \n",
       "511446           Pet        Milkbone Original Small Dog Treats- 450g   \n",
       "511447           Pet        Milkbone Original Small Dog Treats- 450g   \n",
       "511448           Pet        Milkbone Original Small Dog Treats- 450g   \n",
       "511449           Pet        Milkbone Original Small Dog Treats- 450g   \n",
       "\n",
       "           price                             product_description    status  \\\n",
       "0       SGD 5.69  Chicken McMuffin Extra Value Meal [523.0 Cals]  In stock   \n",
       "1       SGD 5.69  Chicken McMuffin Extra Value Meal [523.0 Cals]  In stock   \n",
       "2       SGD 5.69  Chicken McMuffin Extra Value Meal [523.0 Cals]  In stock   \n",
       "3       SGD 5.69  Chicken McMuffin Extra Value Meal [523.0 Cals]  In stock   \n",
       "4       SGD 5.69  Chicken McMuffin Extra Value Meal [523.0 Cals]  In stock   \n",
       "...          ...                                             ...       ...   \n",
       "511445     $6.99                                            450g  In stock   \n",
       "511446     $6.99                                            450g  In stock   \n",
       "511447     $6.99                                            450g  In stock   \n",
       "511448     $6.99                                            450g  In stock   \n",
       "511449     $6.99                                            450g  In stock   \n",
       "\n",
       "                                            product_image  \\\n",
       "0       https://d1ralsognjng37.cloudfront.net/81325489...   \n",
       "1       https://d1ralsognjng37.cloudfront.net/81325489...   \n",
       "2       https://d1ralsognjng37.cloudfront.net/81325489...   \n",
       "3       https://d1ralsognjng37.cloudfront.net/81325489...   \n",
       "4       https://d1ralsognjng37.cloudfront.net/81325489...   \n",
       "...                                                   ...   \n",
       "511445                                                NaN   \n",
       "511446                                                NaN   \n",
       "511447                                                NaN   \n",
       "511448                                                NaN   \n",
       "511449                                                NaN   \n",
       "\n",
       "                                           restaurant_url  \\\n",
       "0       https://www.ubereats.com/ca/store/mcdonalds-67...   \n",
       "1       https://www.ubereats.com/ca/store/mcdonalds-67...   \n",
       "2       https://www.ubereats.com/ca/store/mcdonalds-67...   \n",
       "3       https://www.ubereats.com/ca/store/mcdonalds-67...   \n",
       "4       https://www.ubereats.com/ca/store/mcdonalds-67...   \n",
       "...                                                   ...   \n",
       "511445  https://www.ubereats.com/ca/store/hasty-market...   \n",
       "511446  https://www.ubereats.com/ca/store/hasty-market...   \n",
       "511447  https://www.ubereats.com/ca/store/hasty-market...   \n",
       "511448  https://www.ubereats.com/ca/store/hasty-market...   \n",
       "511449  https://www.ubereats.com/ca/store/hasty-market...   \n",
       "\n",
       "                            restaurant_name  \\\n",
       "0       McDonald's (675 Upper James Street)   \n",
       "1                                McDonald's   \n",
       "2       McDonald's (675 Upper James Street)   \n",
       "3       McDonald's (675 Upper James Street)   \n",
       "4       McDonald's (675 Upper James Street)   \n",
       "...                                     ...   \n",
       "511445      Hasty Market (Kenilworth Ave N)   \n",
       "511446      Hasty Market (Kenilworth Ave N)   \n",
       "511447      Hasty Market (Kenilworth Ave N)   \n",
       "511448      Hasty Market (Kenilworth Ave N)   \n",
       "511449      Hasty Market (Kenilworth Ave N)   \n",
       "\n",
       "                                           avt_restaurant  \\\n",
       "0       https://cn-geo1.uber.com/image-proc/resize/eat...   \n",
       "1       https://cn-geo1.uber.com/image-proc/resize/eat...   \n",
       "2       https://cn-geo1.uber.com/image-proc/resize/eat...   \n",
       "3       https://cn-geo1.uber.com/image-proc/resize/eat...   \n",
       "4       https://cn-geo1.uber.com/image-proc/resize/eat...   \n",
       "...                                                   ...   \n",
       "511445  https://cn-geo1.uber.com/image-proc/resize/eat...   \n",
       "511446  https://cn-geo1.uber.com/image-proc/resize/eat...   \n",
       "511447  https://cn-geo1.uber.com/image-proc/resize/eat...   \n",
       "511448  https://cn-geo1.uber.com/image-proc/resize/eat...   \n",
       "511449  https://cn-geo1.uber.com/image-proc/resize/eat...   \n",
       "\n",
       "        restaurant_category      city  \n",
       "0                  24-hours  hamilton  \n",
       "1                  american  hamilton  \n",
       "2                     bacon  hamilton  \n",
       "3                    bakery  hamilton  \n",
       "4                  bar-food  hamilton  \n",
       "...                     ...       ...  \n",
       "511445             24-hours  hamilton  \n",
       "511446                bento  hamilton  \n",
       "511447                candy  hamilton  \n",
       "511448          frozen-food  hamilton  \n",
       "511449  juice-and-smoothies  hamilton  \n",
       "\n",
       "[511450 rows x 14 columns]"
      ]
     },
     "execution_count": 277,
     "metadata": {},
     "output_type": "execute_result"
    },
    {
     "data": {
      "application/javascript": [
       "\n",
       "            setTimeout(function() {\n",
       "                var nbb_cell_id = 277;\n",
       "                var nbb_unformatted_code = \"df\";\n",
       "                var nbb_formatted_code = \"df\";\n",
       "                var nbb_cells = Jupyter.notebook.get_cells();\n",
       "                for (var i = 0; i < nbb_cells.length; ++i) {\n",
       "                    if (nbb_cells[i].input_prompt_number == nbb_cell_id) {\n",
       "                        if (nbb_cells[i].get_text() == nbb_unformatted_code) {\n",
       "                             nbb_cells[i].set_text(nbb_formatted_code);\n",
       "                        }\n",
       "                        break;\n",
       "                    }\n",
       "                }\n",
       "            }, 500);\n",
       "            "
      ],
      "text/plain": [
       "<IPython.core.display.Javascript object>"
      ]
     },
     "metadata": {},
     "output_type": "display_data"
    }
   ],
   "source": [
    "df"
   ]
  },
  {
   "cell_type": "code",
   "execution_count": 278,
   "id": "631f95f5",
   "metadata": {
    "ExecuteTime": {
     "end_time": "2022-02-24T10:20:55.777497Z",
     "start_time": "2022-02-24T10:20:34.438379Z"
    }
   },
   "outputs": [
    {
     "data": {
      "application/javascript": [
       "\n",
       "            setTimeout(function() {\n",
       "                var nbb_cell_id = 278;\n",
       "                var nbb_unformatted_code = \"for index, row in df.iterrows():\\n    if row[\\\"rating\\\"] is np.nan and row[\\\"num_review\\\"] is np.nan:\\n        row[\\\"restaurant_description\\\"] = np.nan\";\n",
       "                var nbb_formatted_code = \"for index, row in df.iterrows():\\n    if row[\\\"rating\\\"] is np.nan and row[\\\"num_review\\\"] is np.nan:\\n        row[\\\"restaurant_description\\\"] = np.nan\";\n",
       "                var nbb_cells = Jupyter.notebook.get_cells();\n",
       "                for (var i = 0; i < nbb_cells.length; ++i) {\n",
       "                    if (nbb_cells[i].input_prompt_number == nbb_cell_id) {\n",
       "                        if (nbb_cells[i].get_text() == nbb_unformatted_code) {\n",
       "                             nbb_cells[i].set_text(nbb_formatted_code);\n",
       "                        }\n",
       "                        break;\n",
       "                    }\n",
       "                }\n",
       "            }, 500);\n",
       "            "
      ],
      "text/plain": [
       "<IPython.core.display.Javascript object>"
      ]
     },
     "metadata": {},
     "output_type": "display_data"
    }
   ],
   "source": [
    "for index, row in df.iterrows():\n",
    "    if row[\"rating\"] is np.nan and row[\"num_review\"] is np.nan:\n",
    "        row[\"restaurant_description\"] = np.nan"
   ]
  },
  {
   "cell_type": "code",
   "execution_count": 279,
   "id": "c3faac9a",
   "metadata": {
    "ExecuteTime": {
     "end_time": "2022-02-24T10:20:56.319429Z",
     "start_time": "2022-02-24T10:20:55.778493Z"
    }
   },
   "outputs": [
    {
     "data": {
      "application/javascript": [
       "\n",
       "            setTimeout(function() {\n",
       "                var nbb_cell_id = 279;\n",
       "                var nbb_unformatted_code = \"df[\\\"num_review\\\"] = df[\\\"num_review\\\"].apply(\\n    lambda x: random.randint(1, 200)\\n    if x is np.nan or x.isnumeric() is False\\n    else re.search(\\\"[0-9]+\\\", x).group(0)\\n)\";\n",
       "                var nbb_formatted_code = \"df[\\\"num_review\\\"] = df[\\\"num_review\\\"].apply(\\n    lambda x: random.randint(1, 200)\\n    if x is np.nan or x.isnumeric() is False\\n    else re.search(\\\"[0-9]+\\\", x).group(0)\\n)\";\n",
       "                var nbb_cells = Jupyter.notebook.get_cells();\n",
       "                for (var i = 0; i < nbb_cells.length; ++i) {\n",
       "                    if (nbb_cells[i].input_prompt_number == nbb_cell_id) {\n",
       "                        if (nbb_cells[i].get_text() == nbb_unformatted_code) {\n",
       "                             nbb_cells[i].set_text(nbb_formatted_code);\n",
       "                        }\n",
       "                        break;\n",
       "                    }\n",
       "                }\n",
       "            }, 500);\n",
       "            "
      ],
      "text/plain": [
       "<IPython.core.display.Javascript object>"
      ]
     },
     "metadata": {},
     "output_type": "display_data"
    }
   ],
   "source": [
    "df[\"num_review\"] = df[\"num_review\"].apply(\n",
    "    lambda x: random.randint(1, 200)\n",
    "    if x is np.nan or x.isnumeric() is False\n",
    "    else re.search(\"[0-9]+\", x).group(0)\n",
    ")"
   ]
  },
  {
   "cell_type": "code",
   "execution_count": 280,
   "id": "68d8e7e8",
   "metadata": {
    "ExecuteTime": {
     "end_time": "2022-02-24T10:20:56.825728Z",
     "start_time": "2022-02-24T10:20:56.321424Z"
    }
   },
   "outputs": [
    {
     "data": {
      "application/javascript": [
       "\n",
       "            setTimeout(function() {\n",
       "                var nbb_cell_id = 280;\n",
       "                var nbb_unformatted_code = \"df[\\\"rating\\\"] = df[\\\"rating\\\"].apply(\\n    lambda x: round(random.uniform(3.5, 4.9), 1)\\n    if x is np.nan or x.isnumeric() is False\\n    else x\\n)\";\n",
       "                var nbb_formatted_code = \"df[\\\"rating\\\"] = df[\\\"rating\\\"].apply(\\n    lambda x: round(random.uniform(3.5, 4.9), 1)\\n    if x is np.nan or x.isnumeric() is False\\n    else x\\n)\";\n",
       "                var nbb_cells = Jupyter.notebook.get_cells();\n",
       "                for (var i = 0; i < nbb_cells.length; ++i) {\n",
       "                    if (nbb_cells[i].input_prompt_number == nbb_cell_id) {\n",
       "                        if (nbb_cells[i].get_text() == nbb_unformatted_code) {\n",
       "                             nbb_cells[i].set_text(nbb_formatted_code);\n",
       "                        }\n",
       "                        break;\n",
       "                    }\n",
       "                }\n",
       "            }, 500);\n",
       "            "
      ],
      "text/plain": [
       "<IPython.core.display.Javascript object>"
      ]
     },
     "metadata": {},
     "output_type": "display_data"
    }
   ],
   "source": [
    "df[\"rating\"] = df[\"rating\"].apply(\n",
    "    lambda x: round(random.uniform(3.5, 4.9), 1)\n",
    "    if x is np.nan or x.isnumeric() is False\n",
    "    else x\n",
    ")"
   ]
  },
  {
   "cell_type": "code",
   "execution_count": 281,
   "id": "a1b0163b",
   "metadata": {
    "ExecuteTime": {
     "end_time": "2022-02-24T10:20:57.610489Z",
     "start_time": "2022-02-24T10:20:56.828720Z"
    }
   },
   "outputs": [
    {
     "data": {
      "text/plain": [
       "restaurant_description    False\n",
       "rating                    False\n",
       "num_review                False\n",
       "menu_category             False\n",
       "product_name              False\n",
       "price                     False\n",
       "product_description       False\n",
       "status                    False\n",
       "product_image             False\n",
       "restaurant_url            False\n",
       "restaurant_name           False\n",
       "avt_restaurant            False\n",
       "restaurant_category       False\n",
       "city                      False\n",
       "dtype: bool"
      ]
     },
     "execution_count": 281,
     "metadata": {},
     "output_type": "execute_result"
    },
    {
     "data": {
      "application/javascript": [
       "\n",
       "            setTimeout(function() {\n",
       "                var nbb_cell_id = 281;\n",
       "                var nbb_unformatted_code = \"df.isnull().all()\";\n",
       "                var nbb_formatted_code = \"df.isnull().all()\";\n",
       "                var nbb_cells = Jupyter.notebook.get_cells();\n",
       "                for (var i = 0; i < nbb_cells.length; ++i) {\n",
       "                    if (nbb_cells[i].input_prompt_number == nbb_cell_id) {\n",
       "                        if (nbb_cells[i].get_text() == nbb_unformatted_code) {\n",
       "                             nbb_cells[i].set_text(nbb_formatted_code);\n",
       "                        }\n",
       "                        break;\n",
       "                    }\n",
       "                }\n",
       "            }, 500);\n",
       "            "
      ],
      "text/plain": [
       "<IPython.core.display.Javascript object>"
      ]
     },
     "metadata": {},
     "output_type": "display_data"
    }
   ],
   "source": [
    "df.isnull().all()"
   ]
  },
  {
   "cell_type": "code",
   "execution_count": 282,
   "id": "fa5fae76",
   "metadata": {
    "ExecuteTime": {
     "end_time": "2022-02-24T10:20:58.395521Z",
     "start_time": "2022-02-24T10:20:57.611565Z"
    }
   },
   "outputs": [
    {
     "name": "stdout",
     "output_type": "stream",
     "text": [
      "<class 'pandas.core.frame.DataFrame'>\n",
      "Int64Index: 511450 entries, 0 to 511449\n",
      "Data columns (total 14 columns):\n",
      " #   Column                  Non-Null Count   Dtype \n",
      "---  ------                  --------------   ----- \n",
      " 0   restaurant_description  290189 non-null  object\n",
      " 1   rating                  511450 non-null  object\n",
      " 2   num_review              511450 non-null  int64 \n",
      " 3   menu_category           509449 non-null  object\n",
      " 4   product_name            509449 non-null  object\n",
      " 5   price                   509380 non-null  object\n",
      " 6   product_description     286605 non-null  object\n",
      " 7   status                  482712 non-null  object\n",
      " 8   product_image           253880 non-null  object\n",
      " 9   restaurant_url          511450 non-null  object\n",
      " 10  restaurant_name         511450 non-null  object\n",
      " 11  avt_restaurant          511202 non-null  object\n",
      " 12  restaurant_category     511450 non-null  object\n",
      " 13  city                    511450 non-null  object\n",
      "dtypes: int64(1), object(13)\n",
      "memory usage: 58.5+ MB\n"
     ]
    },
    {
     "data": {
      "application/javascript": [
       "\n",
       "            setTimeout(function() {\n",
       "                var nbb_cell_id = 282;\n",
       "                var nbb_unformatted_code = \"df.info()\";\n",
       "                var nbb_formatted_code = \"df.info()\";\n",
       "                var nbb_cells = Jupyter.notebook.get_cells();\n",
       "                for (var i = 0; i < nbb_cells.length; ++i) {\n",
       "                    if (nbb_cells[i].input_prompt_number == nbb_cell_id) {\n",
       "                        if (nbb_cells[i].get_text() == nbb_unformatted_code) {\n",
       "                             nbb_cells[i].set_text(nbb_formatted_code);\n",
       "                        }\n",
       "                        break;\n",
       "                    }\n",
       "                }\n",
       "            }, 500);\n",
       "            "
      ],
      "text/plain": [
       "<IPython.core.display.Javascript object>"
      ]
     },
     "metadata": {},
     "output_type": "display_data"
    }
   ],
   "source": [
    "df.info()"
   ]
  },
  {
   "cell_type": "code",
   "execution_count": 283,
   "id": "efb9713c",
   "metadata": {
    "ExecuteTime": {
     "end_time": "2022-02-24T10:20:58.441824Z",
     "start_time": "2022-02-24T10:20:58.398506Z"
    }
   },
   "outputs": [
    {
     "data": {
      "text/plain": [
       "array(['SGD 5.69', 'SGD 7.29', 'SGD 1.99', ..., '$17.97', '$18.97',\n",
       "       '$3.98'], dtype=object)"
      ]
     },
     "execution_count": 283,
     "metadata": {},
     "output_type": "execute_result"
    },
    {
     "data": {
      "application/javascript": [
       "\n",
       "            setTimeout(function() {\n",
       "                var nbb_cell_id = 283;\n",
       "                var nbb_unformatted_code = \"df.price.unique()\";\n",
       "                var nbb_formatted_code = \"df.price.unique()\";\n",
       "                var nbb_cells = Jupyter.notebook.get_cells();\n",
       "                for (var i = 0; i < nbb_cells.length; ++i) {\n",
       "                    if (nbb_cells[i].input_prompt_number == nbb_cell_id) {\n",
       "                        if (nbb_cells[i].get_text() == nbb_unformatted_code) {\n",
       "                             nbb_cells[i].set_text(nbb_formatted_code);\n",
       "                        }\n",
       "                        break;\n",
       "                    }\n",
       "                }\n",
       "            }, 500);\n",
       "            "
      ],
      "text/plain": [
       "<IPython.core.display.Javascript object>"
      ]
     },
     "metadata": {},
     "output_type": "display_data"
    }
   ],
   "source": [
    "df.price.unique()"
   ]
  },
  {
   "cell_type": "code",
   "execution_count": 284,
   "id": "9b489fed",
   "metadata": {
    "ExecuteTime": {
     "end_time": "2022-02-24T10:20:58.456942Z",
     "start_time": "2022-02-24T10:20:58.444817Z"
    }
   },
   "outputs": [
    {
     "data": {
      "application/javascript": [
       "\n",
       "            setTimeout(function() {\n",
       "                var nbb_cell_id = 284;\n",
       "                var nbb_unformatted_code = \"def get_number(string):\\n    return float(re.search(\\\"\\\\d+\\\\.\\\\d+\\\", string).group(0))\";\n",
       "                var nbb_formatted_code = \"def get_number(string):\\n    return float(re.search(\\\"\\\\d+\\\\.\\\\d+\\\", string).group(0))\";\n",
       "                var nbb_cells = Jupyter.notebook.get_cells();\n",
       "                for (var i = 0; i < nbb_cells.length; ++i) {\n",
       "                    if (nbb_cells[i].input_prompt_number == nbb_cell_id) {\n",
       "                        if (nbb_cells[i].get_text() == nbb_unformatted_code) {\n",
       "                             nbb_cells[i].set_text(nbb_formatted_code);\n",
       "                        }\n",
       "                        break;\n",
       "                    }\n",
       "                }\n",
       "            }, 500);\n",
       "            "
      ],
      "text/plain": [
       "<IPython.core.display.Javascript object>"
      ]
     },
     "metadata": {},
     "output_type": "display_data"
    }
   ],
   "source": [
    "def get_number(string):\n",
    "    return float(re.search(\"\\d+\\.\\d+\", string).group(0))"
   ]
  },
  {
   "cell_type": "code",
   "execution_count": 285,
   "id": "5b0ba936",
   "metadata": {
    "ExecuteTime": {
     "end_time": "2022-02-24T10:20:59.593113Z",
     "start_time": "2022-02-24T10:20:58.458938Z"
    }
   },
   "outputs": [
    {
     "data": {
      "application/javascript": [
       "\n",
       "            setTimeout(function() {\n",
       "                var nbb_cell_id = 285;\n",
       "                var nbb_unformatted_code = \"# df[\\\"price\\\"].apply(lambda x: float(re.search(\\\"\\\\d+\\\\.\\\\d+\\\", x).group(0)))\\ndf[\\\"price\\\"] = df[\\\"price\\\"].str.extract(\\\"(\\\\d+\\\\.\\\\d+)\\\", expand=True)\";\n",
       "                var nbb_formatted_code = \"# df[\\\"price\\\"].apply(lambda x: float(re.search(\\\"\\\\d+\\\\.\\\\d+\\\", x).group(0)))\\ndf[\\\"price\\\"] = df[\\\"price\\\"].str.extract(\\\"(\\\\d+\\\\.\\\\d+)\\\", expand=True)\";\n",
       "                var nbb_cells = Jupyter.notebook.get_cells();\n",
       "                for (var i = 0; i < nbb_cells.length; ++i) {\n",
       "                    if (nbb_cells[i].input_prompt_number == nbb_cell_id) {\n",
       "                        if (nbb_cells[i].get_text() == nbb_unformatted_code) {\n",
       "                             nbb_cells[i].set_text(nbb_formatted_code);\n",
       "                        }\n",
       "                        break;\n",
       "                    }\n",
       "                }\n",
       "            }, 500);\n",
       "            "
      ],
      "text/plain": [
       "<IPython.core.display.Javascript object>"
      ]
     },
     "metadata": {},
     "output_type": "display_data"
    }
   ],
   "source": [
    "# df[\"price\"].apply(lambda x: float(re.search(\"\\d+\\.\\d+\", x).group(0)))\n",
    "df[\"price\"] = df[\"price\"].str.extract(\"(\\d+\\.\\d+)\", expand=True)"
   ]
  },
  {
   "cell_type": "code",
   "execution_count": 286,
   "id": "5e04fdbc",
   "metadata": {
    "ExecuteTime": {
     "end_time": "2022-02-24T10:20:59.624127Z",
     "start_time": "2022-02-24T10:20:59.597096Z"
    }
   },
   "outputs": [
    {
     "data": {
      "text/html": [
       "<div>\n",
       "<style scoped>\n",
       "    .dataframe tbody tr th:only-of-type {\n",
       "        vertical-align: middle;\n",
       "    }\n",
       "\n",
       "    .dataframe tbody tr th {\n",
       "        vertical-align: top;\n",
       "    }\n",
       "\n",
       "    .dataframe thead th {\n",
       "        text-align: right;\n",
       "    }\n",
       "</style>\n",
       "<table border=\"1\" class=\"dataframe\">\n",
       "  <thead>\n",
       "    <tr style=\"text-align: right;\">\n",
       "      <th></th>\n",
       "      <th>restaurant_description</th>\n",
       "      <th>rating</th>\n",
       "      <th>num_review</th>\n",
       "      <th>menu_category</th>\n",
       "      <th>product_name</th>\n",
       "      <th>price</th>\n",
       "      <th>product_description</th>\n",
       "      <th>status</th>\n",
       "      <th>product_image</th>\n",
       "      <th>restaurant_url</th>\n",
       "      <th>restaurant_name</th>\n",
       "      <th>avt_restaurant</th>\n",
       "      <th>restaurant_category</th>\n",
       "      <th>city</th>\n",
       "    </tr>\n",
       "  </thead>\n",
       "  <tbody>\n",
       "    <tr>\n",
       "      <th>0</th>\n",
       "      <td>NaN</td>\n",
       "      <td>3.6</td>\n",
       "      <td>82</td>\n",
       "      <td>Most Popular</td>\n",
       "      <td>Chicken McMuffin Extra Value Meal [523.0 Cals]</td>\n",
       "      <td>5.69</td>\n",
       "      <td>Chicken McMuffin Extra Value Meal [523.0 Cals]</td>\n",
       "      <td>In stock</td>\n",
       "      <td>https://d1ralsognjng37.cloudfront.net/81325489...</td>\n",
       "      <td>https://www.ubereats.com/ca/store/mcdonalds-67...</td>\n",
       "      <td>McDonald's (675 Upper James Street)</td>\n",
       "      <td>https://cn-geo1.uber.com/image-proc/resize/eat...</td>\n",
       "      <td>24-hours</td>\n",
       "      <td>hamilton</td>\n",
       "    </tr>\n",
       "    <tr>\n",
       "      <th>1</th>\n",
       "      <td>NaN</td>\n",
       "      <td>4.4</td>\n",
       "      <td>25</td>\n",
       "      <td>Most Popular</td>\n",
       "      <td>Chicken McMuffin Extra Value Meal [523.0 Cals]</td>\n",
       "      <td>5.69</td>\n",
       "      <td>Chicken McMuffin Extra Value Meal [523.0 Cals]</td>\n",
       "      <td>In stock</td>\n",
       "      <td>https://d1ralsognjng37.cloudfront.net/81325489...</td>\n",
       "      <td>https://www.ubereats.com/ca/store/mcdonalds-67...</td>\n",
       "      <td>McDonald's</td>\n",
       "      <td>https://cn-geo1.uber.com/image-proc/resize/eat...</td>\n",
       "      <td>american</td>\n",
       "      <td>hamilton</td>\n",
       "    </tr>\n",
       "    <tr>\n",
       "      <th>2</th>\n",
       "      <td>NaN</td>\n",
       "      <td>3.9</td>\n",
       "      <td>124</td>\n",
       "      <td>Most Popular</td>\n",
       "      <td>Chicken McMuffin Extra Value Meal [523.0 Cals]</td>\n",
       "      <td>5.69</td>\n",
       "      <td>Chicken McMuffin Extra Value Meal [523.0 Cals]</td>\n",
       "      <td>In stock</td>\n",
       "      <td>https://d1ralsognjng37.cloudfront.net/81325489...</td>\n",
       "      <td>https://www.ubereats.com/ca/store/mcdonalds-67...</td>\n",
       "      <td>McDonald's (675 Upper James Street)</td>\n",
       "      <td>https://cn-geo1.uber.com/image-proc/resize/eat...</td>\n",
       "      <td>bacon</td>\n",
       "      <td>hamilton</td>\n",
       "    </tr>\n",
       "    <tr>\n",
       "      <th>3</th>\n",
       "      <td>NaN</td>\n",
       "      <td>4.3</td>\n",
       "      <td>28</td>\n",
       "      <td>Most Popular</td>\n",
       "      <td>Chicken McMuffin Extra Value Meal [523.0 Cals]</td>\n",
       "      <td>5.69</td>\n",
       "      <td>Chicken McMuffin Extra Value Meal [523.0 Cals]</td>\n",
       "      <td>In stock</td>\n",
       "      <td>https://d1ralsognjng37.cloudfront.net/81325489...</td>\n",
       "      <td>https://www.ubereats.com/ca/store/mcdonalds-67...</td>\n",
       "      <td>McDonald's (675 Upper James Street)</td>\n",
       "      <td>https://cn-geo1.uber.com/image-proc/resize/eat...</td>\n",
       "      <td>bakery</td>\n",
       "      <td>hamilton</td>\n",
       "    </tr>\n",
       "    <tr>\n",
       "      <th>4</th>\n",
       "      <td>NaN</td>\n",
       "      <td>4.4</td>\n",
       "      <td>63</td>\n",
       "      <td>Most Popular</td>\n",
       "      <td>Chicken McMuffin Extra Value Meal [523.0 Cals]</td>\n",
       "      <td>5.69</td>\n",
       "      <td>Chicken McMuffin Extra Value Meal [523.0 Cals]</td>\n",
       "      <td>In stock</td>\n",
       "      <td>https://d1ralsognjng37.cloudfront.net/81325489...</td>\n",
       "      <td>https://www.ubereats.com/ca/store/mcdonalds-67...</td>\n",
       "      <td>McDonald's (675 Upper James Street)</td>\n",
       "      <td>https://cn-geo1.uber.com/image-proc/resize/eat...</td>\n",
       "      <td>bar-food</td>\n",
       "      <td>hamilton</td>\n",
       "    </tr>\n",
       "    <tr>\n",
       "      <th>...</th>\n",
       "      <td>...</td>\n",
       "      <td>...</td>\n",
       "      <td>...</td>\n",
       "      <td>...</td>\n",
       "      <td>...</td>\n",
       "      <td>...</td>\n",
       "      <td>...</td>\n",
       "      <td>...</td>\n",
       "      <td>...</td>\n",
       "      <td>...</td>\n",
       "      <td>...</td>\n",
       "      <td>...</td>\n",
       "      <td>...</td>\n",
       "      <td>...</td>\n",
       "    </tr>\n",
       "    <tr>\n",
       "      <th>511445</th>\n",
       "      <td>Here's one of the 3 most popular Grocery takeo...</td>\n",
       "      <td>3.7</td>\n",
       "      <td>35</td>\n",
       "      <td>Pet</td>\n",
       "      <td>Milkbone Original Small Dog Treats- 450g</td>\n",
       "      <td>6.99</td>\n",
       "      <td>450g</td>\n",
       "      <td>In stock</td>\n",
       "      <td>NaN</td>\n",
       "      <td>https://www.ubereats.com/ca/store/hasty-market...</td>\n",
       "      <td>Hasty Market (Kenilworth Ave N)</td>\n",
       "      <td>https://cn-geo1.uber.com/image-proc/resize/eat...</td>\n",
       "      <td>24-hours</td>\n",
       "      <td>hamilton</td>\n",
       "    </tr>\n",
       "    <tr>\n",
       "      <th>511446</th>\n",
       "      <td>Here's one of the 3 most popular Grocery takeo...</td>\n",
       "      <td>4.8</td>\n",
       "      <td>20</td>\n",
       "      <td>Pet</td>\n",
       "      <td>Milkbone Original Small Dog Treats- 450g</td>\n",
       "      <td>6.99</td>\n",
       "      <td>450g</td>\n",
       "      <td>In stock</td>\n",
       "      <td>NaN</td>\n",
       "      <td>https://www.ubereats.com/ca/store/hasty-market...</td>\n",
       "      <td>Hasty Market (Kenilworth Ave N)</td>\n",
       "      <td>https://cn-geo1.uber.com/image-proc/resize/eat...</td>\n",
       "      <td>bento</td>\n",
       "      <td>hamilton</td>\n",
       "    </tr>\n",
       "    <tr>\n",
       "      <th>511447</th>\n",
       "      <td>Here's one of the 3 most popular Grocery takeo...</td>\n",
       "      <td>4.3</td>\n",
       "      <td>7</td>\n",
       "      <td>Pet</td>\n",
       "      <td>Milkbone Original Small Dog Treats- 450g</td>\n",
       "      <td>6.99</td>\n",
       "      <td>450g</td>\n",
       "      <td>In stock</td>\n",
       "      <td>NaN</td>\n",
       "      <td>https://www.ubereats.com/ca/store/hasty-market...</td>\n",
       "      <td>Hasty Market (Kenilworth Ave N)</td>\n",
       "      <td>https://cn-geo1.uber.com/image-proc/resize/eat...</td>\n",
       "      <td>candy</td>\n",
       "      <td>hamilton</td>\n",
       "    </tr>\n",
       "    <tr>\n",
       "      <th>511448</th>\n",
       "      <td>Here's one of the 3 most popular Grocery takeo...</td>\n",
       "      <td>3.9</td>\n",
       "      <td>162</td>\n",
       "      <td>Pet</td>\n",
       "      <td>Milkbone Original Small Dog Treats- 450g</td>\n",
       "      <td>6.99</td>\n",
       "      <td>450g</td>\n",
       "      <td>In stock</td>\n",
       "      <td>NaN</td>\n",
       "      <td>https://www.ubereats.com/ca/store/hasty-market...</td>\n",
       "      <td>Hasty Market (Kenilworth Ave N)</td>\n",
       "      <td>https://cn-geo1.uber.com/image-proc/resize/eat...</td>\n",
       "      <td>frozen-food</td>\n",
       "      <td>hamilton</td>\n",
       "    </tr>\n",
       "    <tr>\n",
       "      <th>511449</th>\n",
       "      <td>Here's one of the 3 most popular Grocery takeo...</td>\n",
       "      <td>3.8</td>\n",
       "      <td>108</td>\n",
       "      <td>Pet</td>\n",
       "      <td>Milkbone Original Small Dog Treats- 450g</td>\n",
       "      <td>6.99</td>\n",
       "      <td>450g</td>\n",
       "      <td>In stock</td>\n",
       "      <td>NaN</td>\n",
       "      <td>https://www.ubereats.com/ca/store/hasty-market...</td>\n",
       "      <td>Hasty Market (Kenilworth Ave N)</td>\n",
       "      <td>https://cn-geo1.uber.com/image-proc/resize/eat...</td>\n",
       "      <td>juice-and-smoothies</td>\n",
       "      <td>hamilton</td>\n",
       "    </tr>\n",
       "  </tbody>\n",
       "</table>\n",
       "<p>511450 rows × 14 columns</p>\n",
       "</div>"
      ],
      "text/plain": [
       "                                   restaurant_description rating  num_review  \\\n",
       "0                                                     NaN    3.6          82   \n",
       "1                                                     NaN    4.4          25   \n",
       "2                                                     NaN    3.9         124   \n",
       "3                                                     NaN    4.3          28   \n",
       "4                                                     NaN    4.4          63   \n",
       "...                                                   ...    ...         ...   \n",
       "511445  Here's one of the 3 most popular Grocery takeo...    3.7          35   \n",
       "511446  Here's one of the 3 most popular Grocery takeo...    4.8          20   \n",
       "511447  Here's one of the 3 most popular Grocery takeo...    4.3           7   \n",
       "511448  Here's one of the 3 most popular Grocery takeo...    3.9         162   \n",
       "511449  Here's one of the 3 most popular Grocery takeo...    3.8         108   \n",
       "\n",
       "       menu_category                                    product_name price  \\\n",
       "0       Most Popular  Chicken McMuffin Extra Value Meal [523.0 Cals]  5.69   \n",
       "1       Most Popular  Chicken McMuffin Extra Value Meal [523.0 Cals]  5.69   \n",
       "2       Most Popular  Chicken McMuffin Extra Value Meal [523.0 Cals]  5.69   \n",
       "3       Most Popular  Chicken McMuffin Extra Value Meal [523.0 Cals]  5.69   \n",
       "4       Most Popular  Chicken McMuffin Extra Value Meal [523.0 Cals]  5.69   \n",
       "...              ...                                             ...   ...   \n",
       "511445           Pet        Milkbone Original Small Dog Treats- 450g  6.99   \n",
       "511446           Pet        Milkbone Original Small Dog Treats- 450g  6.99   \n",
       "511447           Pet        Milkbone Original Small Dog Treats- 450g  6.99   \n",
       "511448           Pet        Milkbone Original Small Dog Treats- 450g  6.99   \n",
       "511449           Pet        Milkbone Original Small Dog Treats- 450g  6.99   \n",
       "\n",
       "                                   product_description    status  \\\n",
       "0       Chicken McMuffin Extra Value Meal [523.0 Cals]  In stock   \n",
       "1       Chicken McMuffin Extra Value Meal [523.0 Cals]  In stock   \n",
       "2       Chicken McMuffin Extra Value Meal [523.0 Cals]  In stock   \n",
       "3       Chicken McMuffin Extra Value Meal [523.0 Cals]  In stock   \n",
       "4       Chicken McMuffin Extra Value Meal [523.0 Cals]  In stock   \n",
       "...                                                ...       ...   \n",
       "511445                                            450g  In stock   \n",
       "511446                                            450g  In stock   \n",
       "511447                                            450g  In stock   \n",
       "511448                                            450g  In stock   \n",
       "511449                                            450g  In stock   \n",
       "\n",
       "                                            product_image  \\\n",
       "0       https://d1ralsognjng37.cloudfront.net/81325489...   \n",
       "1       https://d1ralsognjng37.cloudfront.net/81325489...   \n",
       "2       https://d1ralsognjng37.cloudfront.net/81325489...   \n",
       "3       https://d1ralsognjng37.cloudfront.net/81325489...   \n",
       "4       https://d1ralsognjng37.cloudfront.net/81325489...   \n",
       "...                                                   ...   \n",
       "511445                                                NaN   \n",
       "511446                                                NaN   \n",
       "511447                                                NaN   \n",
       "511448                                                NaN   \n",
       "511449                                                NaN   \n",
       "\n",
       "                                           restaurant_url  \\\n",
       "0       https://www.ubereats.com/ca/store/mcdonalds-67...   \n",
       "1       https://www.ubereats.com/ca/store/mcdonalds-67...   \n",
       "2       https://www.ubereats.com/ca/store/mcdonalds-67...   \n",
       "3       https://www.ubereats.com/ca/store/mcdonalds-67...   \n",
       "4       https://www.ubereats.com/ca/store/mcdonalds-67...   \n",
       "...                                                   ...   \n",
       "511445  https://www.ubereats.com/ca/store/hasty-market...   \n",
       "511446  https://www.ubereats.com/ca/store/hasty-market...   \n",
       "511447  https://www.ubereats.com/ca/store/hasty-market...   \n",
       "511448  https://www.ubereats.com/ca/store/hasty-market...   \n",
       "511449  https://www.ubereats.com/ca/store/hasty-market...   \n",
       "\n",
       "                            restaurant_name  \\\n",
       "0       McDonald's (675 Upper James Street)   \n",
       "1                                McDonald's   \n",
       "2       McDonald's (675 Upper James Street)   \n",
       "3       McDonald's (675 Upper James Street)   \n",
       "4       McDonald's (675 Upper James Street)   \n",
       "...                                     ...   \n",
       "511445      Hasty Market (Kenilworth Ave N)   \n",
       "511446      Hasty Market (Kenilworth Ave N)   \n",
       "511447      Hasty Market (Kenilworth Ave N)   \n",
       "511448      Hasty Market (Kenilworth Ave N)   \n",
       "511449      Hasty Market (Kenilworth Ave N)   \n",
       "\n",
       "                                           avt_restaurant  \\\n",
       "0       https://cn-geo1.uber.com/image-proc/resize/eat...   \n",
       "1       https://cn-geo1.uber.com/image-proc/resize/eat...   \n",
       "2       https://cn-geo1.uber.com/image-proc/resize/eat...   \n",
       "3       https://cn-geo1.uber.com/image-proc/resize/eat...   \n",
       "4       https://cn-geo1.uber.com/image-proc/resize/eat...   \n",
       "...                                                   ...   \n",
       "511445  https://cn-geo1.uber.com/image-proc/resize/eat...   \n",
       "511446  https://cn-geo1.uber.com/image-proc/resize/eat...   \n",
       "511447  https://cn-geo1.uber.com/image-proc/resize/eat...   \n",
       "511448  https://cn-geo1.uber.com/image-proc/resize/eat...   \n",
       "511449  https://cn-geo1.uber.com/image-proc/resize/eat...   \n",
       "\n",
       "        restaurant_category      city  \n",
       "0                  24-hours  hamilton  \n",
       "1                  american  hamilton  \n",
       "2                     bacon  hamilton  \n",
       "3                    bakery  hamilton  \n",
       "4                  bar-food  hamilton  \n",
       "...                     ...       ...  \n",
       "511445             24-hours  hamilton  \n",
       "511446                bento  hamilton  \n",
       "511447                candy  hamilton  \n",
       "511448          frozen-food  hamilton  \n",
       "511449  juice-and-smoothies  hamilton  \n",
       "\n",
       "[511450 rows x 14 columns]"
      ]
     },
     "execution_count": 286,
     "metadata": {},
     "output_type": "execute_result"
    },
    {
     "data": {
      "application/javascript": [
       "\n",
       "            setTimeout(function() {\n",
       "                var nbb_cell_id = 286;\n",
       "                var nbb_unformatted_code = \"df\";\n",
       "                var nbb_formatted_code = \"df\";\n",
       "                var nbb_cells = Jupyter.notebook.get_cells();\n",
       "                for (var i = 0; i < nbb_cells.length; ++i) {\n",
       "                    if (nbb_cells[i].input_prompt_number == nbb_cell_id) {\n",
       "                        if (nbb_cells[i].get_text() == nbb_unformatted_code) {\n",
       "                             nbb_cells[i].set_text(nbb_formatted_code);\n",
       "                        }\n",
       "                        break;\n",
       "                    }\n",
       "                }\n",
       "            }, 500);\n",
       "            "
      ],
      "text/plain": [
       "<IPython.core.display.Javascript object>"
      ]
     },
     "metadata": {},
     "output_type": "display_data"
    }
   ],
   "source": [
    "df"
   ]
  },
  {
   "cell_type": "code",
   "execution_count": 287,
   "id": "f7499d68",
   "metadata": {
    "ExecuteTime": {
     "end_time": "2022-02-24T10:21:00.376466Z",
     "start_time": "2022-02-24T10:20:59.625124Z"
    }
   },
   "outputs": [
    {
     "data": {
      "text/plain": [
       "False"
      ]
     },
     "execution_count": 287,
     "metadata": {},
     "output_type": "execute_result"
    },
    {
     "data": {
      "application/javascript": [
       "\n",
       "            setTimeout(function() {\n",
       "                var nbb_cell_id = 287;\n",
       "                var nbb_unformatted_code = \"df.duplicated().all()\";\n",
       "                var nbb_formatted_code = \"df.duplicated().all()\";\n",
       "                var nbb_cells = Jupyter.notebook.get_cells();\n",
       "                for (var i = 0; i < nbb_cells.length; ++i) {\n",
       "                    if (nbb_cells[i].input_prompt_number == nbb_cell_id) {\n",
       "                        if (nbb_cells[i].get_text() == nbb_unformatted_code) {\n",
       "                             nbb_cells[i].set_text(nbb_formatted_code);\n",
       "                        }\n",
       "                        break;\n",
       "                    }\n",
       "                }\n",
       "            }, 500);\n",
       "            "
      ],
      "text/plain": [
       "<IPython.core.display.Javascript object>"
      ]
     },
     "metadata": {},
     "output_type": "display_data"
    }
   ],
   "source": [
    "df.duplicated().all()"
   ]
  },
  {
   "cell_type": "code",
   "execution_count": 288,
   "id": "7a84c134",
   "metadata": {
    "ExecuteTime": {
     "end_time": "2022-02-24T10:21:00.406955Z",
     "start_time": "2022-02-24T10:21:00.379118Z"
    }
   },
   "outputs": [
    {
     "data": {
      "text/html": [
       "<div>\n",
       "<style scoped>\n",
       "    .dataframe tbody tr th:only-of-type {\n",
       "        vertical-align: middle;\n",
       "    }\n",
       "\n",
       "    .dataframe tbody tr th {\n",
       "        vertical-align: top;\n",
       "    }\n",
       "\n",
       "    .dataframe thead th {\n",
       "        text-align: right;\n",
       "    }\n",
       "</style>\n",
       "<table border=\"1\" class=\"dataframe\">\n",
       "  <thead>\n",
       "    <tr style=\"text-align: right;\">\n",
       "      <th></th>\n",
       "      <th>restaurant_description</th>\n",
       "      <th>rating</th>\n",
       "      <th>num_review</th>\n",
       "      <th>menu_category</th>\n",
       "      <th>product_name</th>\n",
       "      <th>price</th>\n",
       "      <th>product_description</th>\n",
       "      <th>status</th>\n",
       "      <th>product_image</th>\n",
       "      <th>restaurant_url</th>\n",
       "      <th>restaurant_name</th>\n",
       "      <th>avt_restaurant</th>\n",
       "      <th>restaurant_category</th>\n",
       "      <th>city</th>\n",
       "    </tr>\n",
       "  </thead>\n",
       "  <tbody>\n",
       "    <tr>\n",
       "      <th>0</th>\n",
       "      <td>NaN</td>\n",
       "      <td>3.6</td>\n",
       "      <td>82</td>\n",
       "      <td>Most Popular</td>\n",
       "      <td>Chicken McMuffin Extra Value Meal [523.0 Cals]</td>\n",
       "      <td>5.69</td>\n",
       "      <td>Chicken McMuffin Extra Value Meal [523.0 Cals]</td>\n",
       "      <td>In stock</td>\n",
       "      <td>https://d1ralsognjng37.cloudfront.net/81325489...</td>\n",
       "      <td>https://www.ubereats.com/ca/store/mcdonalds-67...</td>\n",
       "      <td>McDonald's (675 Upper James Street)</td>\n",
       "      <td>https://cn-geo1.uber.com/image-proc/resize/eat...</td>\n",
       "      <td>24-hours</td>\n",
       "      <td>hamilton</td>\n",
       "    </tr>\n",
       "    <tr>\n",
       "      <th>1</th>\n",
       "      <td>NaN</td>\n",
       "      <td>4.4</td>\n",
       "      <td>25</td>\n",
       "      <td>Most Popular</td>\n",
       "      <td>Chicken McMuffin Extra Value Meal [523.0 Cals]</td>\n",
       "      <td>5.69</td>\n",
       "      <td>Chicken McMuffin Extra Value Meal [523.0 Cals]</td>\n",
       "      <td>In stock</td>\n",
       "      <td>https://d1ralsognjng37.cloudfront.net/81325489...</td>\n",
       "      <td>https://www.ubereats.com/ca/store/mcdonalds-67...</td>\n",
       "      <td>McDonald's</td>\n",
       "      <td>https://cn-geo1.uber.com/image-proc/resize/eat...</td>\n",
       "      <td>american</td>\n",
       "      <td>hamilton</td>\n",
       "    </tr>\n",
       "    <tr>\n",
       "      <th>2</th>\n",
       "      <td>NaN</td>\n",
       "      <td>3.9</td>\n",
       "      <td>124</td>\n",
       "      <td>Most Popular</td>\n",
       "      <td>Chicken McMuffin Extra Value Meal [523.0 Cals]</td>\n",
       "      <td>5.69</td>\n",
       "      <td>Chicken McMuffin Extra Value Meal [523.0 Cals]</td>\n",
       "      <td>In stock</td>\n",
       "      <td>https://d1ralsognjng37.cloudfront.net/81325489...</td>\n",
       "      <td>https://www.ubereats.com/ca/store/mcdonalds-67...</td>\n",
       "      <td>McDonald's (675 Upper James Street)</td>\n",
       "      <td>https://cn-geo1.uber.com/image-proc/resize/eat...</td>\n",
       "      <td>bacon</td>\n",
       "      <td>hamilton</td>\n",
       "    </tr>\n",
       "    <tr>\n",
       "      <th>3</th>\n",
       "      <td>NaN</td>\n",
       "      <td>4.3</td>\n",
       "      <td>28</td>\n",
       "      <td>Most Popular</td>\n",
       "      <td>Chicken McMuffin Extra Value Meal [523.0 Cals]</td>\n",
       "      <td>5.69</td>\n",
       "      <td>Chicken McMuffin Extra Value Meal [523.0 Cals]</td>\n",
       "      <td>In stock</td>\n",
       "      <td>https://d1ralsognjng37.cloudfront.net/81325489...</td>\n",
       "      <td>https://www.ubereats.com/ca/store/mcdonalds-67...</td>\n",
       "      <td>McDonald's (675 Upper James Street)</td>\n",
       "      <td>https://cn-geo1.uber.com/image-proc/resize/eat...</td>\n",
       "      <td>bakery</td>\n",
       "      <td>hamilton</td>\n",
       "    </tr>\n",
       "    <tr>\n",
       "      <th>4</th>\n",
       "      <td>NaN</td>\n",
       "      <td>4.4</td>\n",
       "      <td>63</td>\n",
       "      <td>Most Popular</td>\n",
       "      <td>Chicken McMuffin Extra Value Meal [523.0 Cals]</td>\n",
       "      <td>5.69</td>\n",
       "      <td>Chicken McMuffin Extra Value Meal [523.0 Cals]</td>\n",
       "      <td>In stock</td>\n",
       "      <td>https://d1ralsognjng37.cloudfront.net/81325489...</td>\n",
       "      <td>https://www.ubereats.com/ca/store/mcdonalds-67...</td>\n",
       "      <td>McDonald's (675 Upper James Street)</td>\n",
       "      <td>https://cn-geo1.uber.com/image-proc/resize/eat...</td>\n",
       "      <td>bar-food</td>\n",
       "      <td>hamilton</td>\n",
       "    </tr>\n",
       "    <tr>\n",
       "      <th>...</th>\n",
       "      <td>...</td>\n",
       "      <td>...</td>\n",
       "      <td>...</td>\n",
       "      <td>...</td>\n",
       "      <td>...</td>\n",
       "      <td>...</td>\n",
       "      <td>...</td>\n",
       "      <td>...</td>\n",
       "      <td>...</td>\n",
       "      <td>...</td>\n",
       "      <td>...</td>\n",
       "      <td>...</td>\n",
       "      <td>...</td>\n",
       "      <td>...</td>\n",
       "    </tr>\n",
       "    <tr>\n",
       "      <th>511445</th>\n",
       "      <td>Here's one of the 3 most popular Grocery takeo...</td>\n",
       "      <td>3.7</td>\n",
       "      <td>35</td>\n",
       "      <td>Pet</td>\n",
       "      <td>Milkbone Original Small Dog Treats- 450g</td>\n",
       "      <td>6.99</td>\n",
       "      <td>450g</td>\n",
       "      <td>In stock</td>\n",
       "      <td>NaN</td>\n",
       "      <td>https://www.ubereats.com/ca/store/hasty-market...</td>\n",
       "      <td>Hasty Market (Kenilworth Ave N)</td>\n",
       "      <td>https://cn-geo1.uber.com/image-proc/resize/eat...</td>\n",
       "      <td>24-hours</td>\n",
       "      <td>hamilton</td>\n",
       "    </tr>\n",
       "    <tr>\n",
       "      <th>511446</th>\n",
       "      <td>Here's one of the 3 most popular Grocery takeo...</td>\n",
       "      <td>4.8</td>\n",
       "      <td>20</td>\n",
       "      <td>Pet</td>\n",
       "      <td>Milkbone Original Small Dog Treats- 450g</td>\n",
       "      <td>6.99</td>\n",
       "      <td>450g</td>\n",
       "      <td>In stock</td>\n",
       "      <td>NaN</td>\n",
       "      <td>https://www.ubereats.com/ca/store/hasty-market...</td>\n",
       "      <td>Hasty Market (Kenilworth Ave N)</td>\n",
       "      <td>https://cn-geo1.uber.com/image-proc/resize/eat...</td>\n",
       "      <td>bento</td>\n",
       "      <td>hamilton</td>\n",
       "    </tr>\n",
       "    <tr>\n",
       "      <th>511447</th>\n",
       "      <td>Here's one of the 3 most popular Grocery takeo...</td>\n",
       "      <td>4.3</td>\n",
       "      <td>7</td>\n",
       "      <td>Pet</td>\n",
       "      <td>Milkbone Original Small Dog Treats- 450g</td>\n",
       "      <td>6.99</td>\n",
       "      <td>450g</td>\n",
       "      <td>In stock</td>\n",
       "      <td>NaN</td>\n",
       "      <td>https://www.ubereats.com/ca/store/hasty-market...</td>\n",
       "      <td>Hasty Market (Kenilworth Ave N)</td>\n",
       "      <td>https://cn-geo1.uber.com/image-proc/resize/eat...</td>\n",
       "      <td>candy</td>\n",
       "      <td>hamilton</td>\n",
       "    </tr>\n",
       "    <tr>\n",
       "      <th>511448</th>\n",
       "      <td>Here's one of the 3 most popular Grocery takeo...</td>\n",
       "      <td>3.9</td>\n",
       "      <td>162</td>\n",
       "      <td>Pet</td>\n",
       "      <td>Milkbone Original Small Dog Treats- 450g</td>\n",
       "      <td>6.99</td>\n",
       "      <td>450g</td>\n",
       "      <td>In stock</td>\n",
       "      <td>NaN</td>\n",
       "      <td>https://www.ubereats.com/ca/store/hasty-market...</td>\n",
       "      <td>Hasty Market (Kenilworth Ave N)</td>\n",
       "      <td>https://cn-geo1.uber.com/image-proc/resize/eat...</td>\n",
       "      <td>frozen-food</td>\n",
       "      <td>hamilton</td>\n",
       "    </tr>\n",
       "    <tr>\n",
       "      <th>511449</th>\n",
       "      <td>Here's one of the 3 most popular Grocery takeo...</td>\n",
       "      <td>3.8</td>\n",
       "      <td>108</td>\n",
       "      <td>Pet</td>\n",
       "      <td>Milkbone Original Small Dog Treats- 450g</td>\n",
       "      <td>6.99</td>\n",
       "      <td>450g</td>\n",
       "      <td>In stock</td>\n",
       "      <td>NaN</td>\n",
       "      <td>https://www.ubereats.com/ca/store/hasty-market...</td>\n",
       "      <td>Hasty Market (Kenilworth Ave N)</td>\n",
       "      <td>https://cn-geo1.uber.com/image-proc/resize/eat...</td>\n",
       "      <td>juice-and-smoothies</td>\n",
       "      <td>hamilton</td>\n",
       "    </tr>\n",
       "  </tbody>\n",
       "</table>\n",
       "<p>511450 rows × 14 columns</p>\n",
       "</div>"
      ],
      "text/plain": [
       "                                   restaurant_description rating  num_review  \\\n",
       "0                                                     NaN    3.6          82   \n",
       "1                                                     NaN    4.4          25   \n",
       "2                                                     NaN    3.9         124   \n",
       "3                                                     NaN    4.3          28   \n",
       "4                                                     NaN    4.4          63   \n",
       "...                                                   ...    ...         ...   \n",
       "511445  Here's one of the 3 most popular Grocery takeo...    3.7          35   \n",
       "511446  Here's one of the 3 most popular Grocery takeo...    4.8          20   \n",
       "511447  Here's one of the 3 most popular Grocery takeo...    4.3           7   \n",
       "511448  Here's one of the 3 most popular Grocery takeo...    3.9         162   \n",
       "511449  Here's one of the 3 most popular Grocery takeo...    3.8         108   \n",
       "\n",
       "       menu_category                                    product_name price  \\\n",
       "0       Most Popular  Chicken McMuffin Extra Value Meal [523.0 Cals]  5.69   \n",
       "1       Most Popular  Chicken McMuffin Extra Value Meal [523.0 Cals]  5.69   \n",
       "2       Most Popular  Chicken McMuffin Extra Value Meal [523.0 Cals]  5.69   \n",
       "3       Most Popular  Chicken McMuffin Extra Value Meal [523.0 Cals]  5.69   \n",
       "4       Most Popular  Chicken McMuffin Extra Value Meal [523.0 Cals]  5.69   \n",
       "...              ...                                             ...   ...   \n",
       "511445           Pet        Milkbone Original Small Dog Treats- 450g  6.99   \n",
       "511446           Pet        Milkbone Original Small Dog Treats- 450g  6.99   \n",
       "511447           Pet        Milkbone Original Small Dog Treats- 450g  6.99   \n",
       "511448           Pet        Milkbone Original Small Dog Treats- 450g  6.99   \n",
       "511449           Pet        Milkbone Original Small Dog Treats- 450g  6.99   \n",
       "\n",
       "                                   product_description    status  \\\n",
       "0       Chicken McMuffin Extra Value Meal [523.0 Cals]  In stock   \n",
       "1       Chicken McMuffin Extra Value Meal [523.0 Cals]  In stock   \n",
       "2       Chicken McMuffin Extra Value Meal [523.0 Cals]  In stock   \n",
       "3       Chicken McMuffin Extra Value Meal [523.0 Cals]  In stock   \n",
       "4       Chicken McMuffin Extra Value Meal [523.0 Cals]  In stock   \n",
       "...                                                ...       ...   \n",
       "511445                                            450g  In stock   \n",
       "511446                                            450g  In stock   \n",
       "511447                                            450g  In stock   \n",
       "511448                                            450g  In stock   \n",
       "511449                                            450g  In stock   \n",
       "\n",
       "                                            product_image  \\\n",
       "0       https://d1ralsognjng37.cloudfront.net/81325489...   \n",
       "1       https://d1ralsognjng37.cloudfront.net/81325489...   \n",
       "2       https://d1ralsognjng37.cloudfront.net/81325489...   \n",
       "3       https://d1ralsognjng37.cloudfront.net/81325489...   \n",
       "4       https://d1ralsognjng37.cloudfront.net/81325489...   \n",
       "...                                                   ...   \n",
       "511445                                                NaN   \n",
       "511446                                                NaN   \n",
       "511447                                                NaN   \n",
       "511448                                                NaN   \n",
       "511449                                                NaN   \n",
       "\n",
       "                                           restaurant_url  \\\n",
       "0       https://www.ubereats.com/ca/store/mcdonalds-67...   \n",
       "1       https://www.ubereats.com/ca/store/mcdonalds-67...   \n",
       "2       https://www.ubereats.com/ca/store/mcdonalds-67...   \n",
       "3       https://www.ubereats.com/ca/store/mcdonalds-67...   \n",
       "4       https://www.ubereats.com/ca/store/mcdonalds-67...   \n",
       "...                                                   ...   \n",
       "511445  https://www.ubereats.com/ca/store/hasty-market...   \n",
       "511446  https://www.ubereats.com/ca/store/hasty-market...   \n",
       "511447  https://www.ubereats.com/ca/store/hasty-market...   \n",
       "511448  https://www.ubereats.com/ca/store/hasty-market...   \n",
       "511449  https://www.ubereats.com/ca/store/hasty-market...   \n",
       "\n",
       "                            restaurant_name  \\\n",
       "0       McDonald's (675 Upper James Street)   \n",
       "1                                McDonald's   \n",
       "2       McDonald's (675 Upper James Street)   \n",
       "3       McDonald's (675 Upper James Street)   \n",
       "4       McDonald's (675 Upper James Street)   \n",
       "...                                     ...   \n",
       "511445      Hasty Market (Kenilworth Ave N)   \n",
       "511446      Hasty Market (Kenilworth Ave N)   \n",
       "511447      Hasty Market (Kenilworth Ave N)   \n",
       "511448      Hasty Market (Kenilworth Ave N)   \n",
       "511449      Hasty Market (Kenilworth Ave N)   \n",
       "\n",
       "                                           avt_restaurant  \\\n",
       "0       https://cn-geo1.uber.com/image-proc/resize/eat...   \n",
       "1       https://cn-geo1.uber.com/image-proc/resize/eat...   \n",
       "2       https://cn-geo1.uber.com/image-proc/resize/eat...   \n",
       "3       https://cn-geo1.uber.com/image-proc/resize/eat...   \n",
       "4       https://cn-geo1.uber.com/image-proc/resize/eat...   \n",
       "...                                                   ...   \n",
       "511445  https://cn-geo1.uber.com/image-proc/resize/eat...   \n",
       "511446  https://cn-geo1.uber.com/image-proc/resize/eat...   \n",
       "511447  https://cn-geo1.uber.com/image-proc/resize/eat...   \n",
       "511448  https://cn-geo1.uber.com/image-proc/resize/eat...   \n",
       "511449  https://cn-geo1.uber.com/image-proc/resize/eat...   \n",
       "\n",
       "        restaurant_category      city  \n",
       "0                  24-hours  hamilton  \n",
       "1                  american  hamilton  \n",
       "2                     bacon  hamilton  \n",
       "3                    bakery  hamilton  \n",
       "4                  bar-food  hamilton  \n",
       "...                     ...       ...  \n",
       "511445             24-hours  hamilton  \n",
       "511446                bento  hamilton  \n",
       "511447                candy  hamilton  \n",
       "511448          frozen-food  hamilton  \n",
       "511449  juice-and-smoothies  hamilton  \n",
       "\n",
       "[511450 rows x 14 columns]"
      ]
     },
     "execution_count": 288,
     "metadata": {},
     "output_type": "execute_result"
    },
    {
     "data": {
      "application/javascript": [
       "\n",
       "            setTimeout(function() {\n",
       "                var nbb_cell_id = 288;\n",
       "                var nbb_unformatted_code = \"df\";\n",
       "                var nbb_formatted_code = \"df\";\n",
       "                var nbb_cells = Jupyter.notebook.get_cells();\n",
       "                for (var i = 0; i < nbb_cells.length; ++i) {\n",
       "                    if (nbb_cells[i].input_prompt_number == nbb_cell_id) {\n",
       "                        if (nbb_cells[i].get_text() == nbb_unformatted_code) {\n",
       "                             nbb_cells[i].set_text(nbb_formatted_code);\n",
       "                        }\n",
       "                        break;\n",
       "                    }\n",
       "                }\n",
       "            }, 500);\n",
       "            "
      ],
      "text/plain": [
       "<IPython.core.display.Javascript object>"
      ]
     },
     "metadata": {},
     "output_type": "display_data"
    }
   ],
   "source": [
    "df"
   ]
  },
  {
   "cell_type": "code",
   "execution_count": 289,
   "id": "cf4f6353",
   "metadata": {
    "ExecuteTime": {
     "end_time": "2022-02-24T10:21:11.146416Z",
     "start_time": "2022-02-24T10:21:00.407954Z"
    }
   },
   "outputs": [
    {
     "data": {
      "application/javascript": [
       "\n",
       "            setTimeout(function() {\n",
       "                var nbb_cell_id = 289;\n",
       "                var nbb_unformatted_code = \"df.to_csv(\\\"output_restaurant.csv\\\", index=False)\";\n",
       "                var nbb_formatted_code = \"df.to_csv(\\\"output_restaurant.csv\\\", index=False)\";\n",
       "                var nbb_cells = Jupyter.notebook.get_cells();\n",
       "                for (var i = 0; i < nbb_cells.length; ++i) {\n",
       "                    if (nbb_cells[i].input_prompt_number == nbb_cell_id) {\n",
       "                        if (nbb_cells[i].get_text() == nbb_unformatted_code) {\n",
       "                             nbb_cells[i].set_text(nbb_formatted_code);\n",
       "                        }\n",
       "                        break;\n",
       "                    }\n",
       "                }\n",
       "            }, 500);\n",
       "            "
      ],
      "text/plain": [
       "<IPython.core.display.Javascript object>"
      ]
     },
     "metadata": {},
     "output_type": "display_data"
    }
   ],
   "source": [
    "df.to_csv(\"output_restaurant.csv\", index=False)"
   ]
  },
  {
   "cell_type": "code",
   "execution_count": null,
   "id": "d3003e53",
   "metadata": {},
   "outputs": [],
   "source": []
  }
 ],
 "metadata": {
  "kernelspec": {
   "display_name": "Python 3 (ipykernel)",
   "language": "python",
   "name": "python3"
  },
  "language_info": {
   "codemirror_mode": {
    "name": "ipython",
    "version": 3
   },
   "file_extension": ".py",
   "mimetype": "text/x-python",
   "name": "python",
   "nbconvert_exporter": "python",
   "pygments_lexer": "ipython3",
   "version": "3.10.2"
  }
 },
 "nbformat": 4,
 "nbformat_minor": 5
}
