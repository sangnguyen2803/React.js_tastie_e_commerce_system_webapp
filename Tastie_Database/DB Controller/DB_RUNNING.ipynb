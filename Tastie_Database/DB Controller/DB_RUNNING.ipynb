{
 "cells": [
  {
   "cell_type": "code",
   "execution_count": 19,
   "id": "e13d9f0c",
   "metadata": {
    "ExecuteTime": {
     "end_time": "2022-04-12T09:02:23.024712Z",
     "start_time": "2022-04-12T09:02:23.004136Z"
    }
   },
   "outputs": [],
   "source": [
    "import numpy as np\n",
    "import pandas as pd\n",
    "import random\n",
    "from sqlalchemy.engine import create_engine\n",
    "from mysql.connector import connect\n",
    "import mysql.connector\n",
    "from mysql.connector import Error\n",
    "import pymysql\n",
    "import warnings\n",
    "import traceback\n",
    "from pandas.io import sql\n",
    "from sqlalchemy import create_engine\n",
    "\n",
    "from random import randrange\n",
    "import datetime\n",
    "from datetime import timedelta\n",
    "from sklearn import preprocessing\n",
    "# import datetime\n",
    "\n",
    "# import MySQLdb\n",
    "\n",
    "warnings.filterwarnings(\"ignore\")"
   ]
  },
  {
   "cell_type": "code",
   "execution_count": 20,
   "id": "232de269",
   "metadata": {
    "ExecuteTime": {
     "end_time": "2022-04-12T09:02:23.039672Z",
     "start_time": "2022-04-12T09:02:23.026707Z"
    }
   },
   "outputs": [],
   "source": [
    "from urllib.parse import quote_plus\n"
   ]
  },
  {
   "cell_type": "code",
   "execution_count": 21,
   "id": "185efde0",
   "metadata": {
    "ExecuteTime": {
     "end_time": "2022-04-12T09:02:23.055708Z",
     "start_time": "2022-04-12T09:02:23.041668Z"
    }
   },
   "outputs": [],
   "source": [
    "# connect db\n",
    "def connect_db():\n",
    "    user_name = \"root\"\n",
    "    pwd = \"Trung99\"\n",
    "    server = \"localhost\"\n",
    "    db = \"tastie\"\n",
    "    conn = connect(host=server, user=user_name, password=pwd, database=db, port=3306)\n",
    "    cur = conn.cursor(buffered=True)\n",
    "    return conn, cur\n",
    "\n",
    "\n",
    "# conn = create_engine(conn_str)"
   ]
  },
  {
   "cell_type": "code",
   "execution_count": 22,
   "id": "466310eb",
   "metadata": {
    "ExecuteTime": {
     "end_time": "2022-04-12T09:02:23.070449Z",
     "start_time": "2022-04-12T09:02:23.058650Z"
    }
   },
   "outputs": [],
   "source": [
    "def close_connection(cur, conn):\n",
    "    cur.close()\n",
    "    conn.close()"
   ]
  },
  {
   "cell_type": "code",
   "execution_count": 23,
   "id": "6479e9f9",
   "metadata": {
    "ExecuteTime": {
     "end_time": "2022-04-12T09:02:23.085669Z",
     "start_time": "2022-04-12T09:02:23.072441Z"
    }
   },
   "outputs": [],
   "source": [
    "def random_date(start, end):\n",
    "    delta = end - start\n",
    "    int_delta = (delta.days * 24 * 60 * 60) + delta.seconds\n",
    "    random_second = randrange(int_delta)\n",
    "    return start + timedelta(seconds=random_second)\n"
   ]
  },
  {
   "cell_type": "code",
   "execution_count": 24,
   "id": "3608db79",
   "metadata": {
    "ExecuteTime": {
     "end_time": "2022-04-12T09:02:23.101420Z",
     "start_time": "2022-04-12T09:02:23.087424Z"
    }
   },
   "outputs": [],
   "source": [
    "def insert_execute_many(dataset, table_name):\n",
    "    conn, cur = connect_db()\n",
    "\n",
    "    cols = \"`,`\".join([str(i) for i in list(dataset)])\n",
    "    sql = (\n",
    "        \"INSERT INTO `\"\n",
    "        + table_name\n",
    "        + \"` (`\"\n",
    "        + cols\n",
    "        + \"`) VALUES (\"\n",
    "        + \"%s,\" * (dataset.shape[1] - 1)\n",
    "        + \"%s)\"\n",
    "    )\n",
    "\n",
    "    try:\n",
    "        cur.executemany(sql, dataset.values.tolist())\n",
    "        conn.commit()\n",
    "    except Error as error:\n",
    "        conn.rollback()\n",
    "        print(\"Failed to insert into MySQL table {}\".format(error))\n",
    "    finally:\n",
    "        cur.close()\n",
    "        conn.close()"
   ]
  },
  {
   "cell_type": "code",
   "execution_count": 25,
   "id": "5fc0c64a",
   "metadata": {
    "ExecuteTime": {
     "end_time": "2022-04-12T09:02:23.116479Z",
     "start_time": "2022-04-12T09:02:23.103382Z"
    }
   },
   "outputs": [],
   "source": [
    "# for dataset > 100.000 records and many columns (ex: product)\n",
    "def insert_execute_many_large_dataset(dataset, table_name):\n",
    "    conn, cur = connect_db()\n",
    "    dataset_size = len(dataset)\n",
    "    step = 100000\n",
    "\n",
    "    for start in range(0, len(dataset), step):\n",
    "        if dataset_size < step:\n",
    "            step = abs(step-dataset_size)\n",
    "            end = start + step\n",
    "            insert_execute_many(dataset[start:end], table_name)\n",
    "            break\n",
    "        end = start + step\n",
    "        insert_execute_many(dataset[start:end], table_name) \n",
    "\n",
    "        dataset_size -= step\n"
   ]
  },
  {
   "cell_type": "markdown",
   "id": "ebe91941",
   "metadata": {},
   "source": [
    "### User"
   ]
  },
  {
   "cell_type": "code",
   "execution_count": 26,
   "id": "b0b3a59a",
   "metadata": {
    "ExecuteTime": {
     "end_time": "2022-04-12T09:02:23.346866Z",
     "start_time": "2022-04-12T09:02:23.118477Z"
    }
   },
   "outputs": [],
   "source": [
    "df_user = pd.read_csv(\"mysql_data/user.csv\")"
   ]
  },
  {
   "cell_type": "code",
   "execution_count": 27,
   "id": "7835de23",
   "metadata": {
    "ExecuteTime": {
     "end_time": "2022-04-12T09:02:23.409410Z",
     "start_time": "2022-04-12T09:02:23.348827Z"
    }
   },
   "outputs": [
    {
     "name": "stdout",
     "output_type": "stream",
     "text": [
      "<class 'pandas.core.frame.DataFrame'>\n",
      "RangeIndex: 39128 entries, 0 to 39127\n",
      "Data columns (total 14 columns):\n",
      " #   Column         Non-Null Count  Dtype  \n",
      "---  ------         --------------  -----  \n",
      " 0   user_id        39128 non-null  int64  \n",
      " 1   first_name     39128 non-null  object \n",
      " 2   last_name      39128 non-null  object \n",
      " 3   gender         39128 non-null  int64  \n",
      " 4   birthday       39128 non-null  object \n",
      " 5   email          39128 non-null  object \n",
      " 6   phone          39128 non-null  int64  \n",
      " 7   password       39128 non-null  object \n",
      " 8   role           39128 non-null  int64  \n",
      " 9   user_token     39128 non-null  object \n",
      " 10  registered_at  39128 non-null  object \n",
      " 11  update_at      39128 non-null  object \n",
      " 12  delete_at      0 non-null      float64\n",
      " 13  avatar         0 non-null      float64\n",
      "dtypes: float64(2), int64(4), object(8)\n",
      "memory usage: 4.2+ MB\n"
     ]
    }
   ],
   "source": [
    "df_user.info()"
   ]
  },
  {
   "cell_type": "code",
   "execution_count": 28,
   "id": "522dbc83",
   "metadata": {
    "ExecuteTime": {
     "end_time": "2022-04-12T09:02:23.439427Z",
     "start_time": "2022-04-12T09:02:23.413399Z"
    }
   },
   "outputs": [],
   "source": [
    "df_user.delete_at = (\n",
    "    df_user.delete_at.fillna(np.nan).replace([np.nan], [None])\n",
    ")\n",
    "\n",
    "df_user.avatar = (\n",
    "    df_user.avatar.fillna(np.nan).replace([np.nan], [None])\n",
    ")"
   ]
  },
  {
   "cell_type": "code",
   "execution_count": 29,
   "id": "0ffa6fb3",
   "metadata": {
    "ExecuteTime": {
     "end_time": "2022-04-12T09:02:26.048424Z",
     "start_time": "2022-04-12T09:02:23.441414Z"
    }
   },
   "outputs": [],
   "source": [
    "insert_execute_many(df_user, 'user')"
   ]
  },
  {
   "cell_type": "markdown",
   "id": "dac4a6a0",
   "metadata": {},
   "source": [
    "### Cart"
   ]
  },
  {
   "cell_type": "code",
   "execution_count": 30,
   "id": "e48ca5ee",
   "metadata": {
    "ExecuteTime": {
     "end_time": "2022-04-12T09:02:26.078406Z",
     "start_time": "2022-04-12T09:02:26.050419Z"
    }
   },
   "outputs": [],
   "source": [
    "df_cart = pd.read_csv(\"mysql_data/cart.csv\")"
   ]
  },
  {
   "cell_type": "code",
   "execution_count": 31,
   "id": "27fdd715",
   "metadata": {
    "ExecuteTime": {
     "end_time": "2022-04-12T09:02:26.495600Z",
     "start_time": "2022-04-12T09:02:26.079388Z"
    }
   },
   "outputs": [],
   "source": [
    "insert_execute_many(df_cart, 'cart')"
   ]
  },
  {
   "cell_type": "markdown",
   "id": "84eb115d",
   "metadata": {},
   "source": [
    "### Owner"
   ]
  },
  {
   "cell_type": "code",
   "execution_count": 32,
   "id": "0c7bc593",
   "metadata": {
    "ExecuteTime": {
     "end_time": "2022-04-12T09:02:26.602770Z",
     "start_time": "2022-04-12T09:02:26.496518Z"
    }
   },
   "outputs": [],
   "source": [
    "df_owner = pd.read_csv(\"mysql_data/owner.csv\")"
   ]
  },
  {
   "cell_type": "code",
   "execution_count": 33,
   "id": "a54f30ce",
   "metadata": {
    "ExecuteTime": {
     "end_time": "2022-04-12T09:02:26.618449Z",
     "start_time": "2022-04-12T09:02:26.604785Z"
    }
   },
   "outputs": [],
   "source": [
    "#df_owner.info()\n",
    "\n",
    "df_owner.delete_at = (\n",
    "    df_owner.delete_at.fillna(np.nan).replace([np.nan], [None])\n",
    ")"
   ]
  },
  {
   "cell_type": "code",
   "execution_count": 34,
   "id": "3b9b57a6",
   "metadata": {
    "ExecuteTime": {
     "end_time": "2022-04-12T09:02:27.466590Z",
     "start_time": "2022-04-12T09:02:26.620148Z"
    }
   },
   "outputs": [],
   "source": [
    "insert_execute_many(df_owner, 'owner')"
   ]
  },
  {
   "cell_type": "markdown",
   "id": "b775a8ad",
   "metadata": {},
   "source": [
    "### Provider"
   ]
  },
  {
   "cell_type": "code",
   "execution_count": 35,
   "id": "c078ff9e",
   "metadata": {
    "ExecuteTime": {
     "end_time": "2022-04-12T09:02:27.497163Z",
     "start_time": "2022-04-12T09:02:27.467592Z"
    }
   },
   "outputs": [],
   "source": [
    "df_provider = pd.read_csv(\"mysql_data/provider.csv\")"
   ]
  },
  {
   "cell_type": "code",
   "execution_count": 36,
   "id": "f5e3a795",
   "metadata": {
    "ExecuteTime": {
     "end_time": "2022-04-12T09:02:27.512613Z",
     "start_time": "2022-04-12T09:02:27.498557Z"
    }
   },
   "outputs": [],
   "source": [
    "# df_provider.info()\n",
    "\n",
    "df_provider.delete_at = (\n",
    "    df_provider.delete_at.fillna(np.nan).replace([np.nan], [None])\n",
    ")\n",
    "\n",
    "df_provider.description = (\n",
    "    df_provider.description.fillna(np.nan).replace([np.nan], [None])\n",
    ")"
   ]
  },
  {
   "cell_type": "code",
   "execution_count": 37,
   "id": "7fae7aa0",
   "metadata": {
    "ExecuteTime": {
     "end_time": "2022-04-12T09:02:27.558451Z",
     "start_time": "2022-04-12T09:02:27.514609Z"
    }
   },
   "outputs": [],
   "source": [
    "insert_execute_many(df_provider, 'provider')"
   ]
  },
  {
   "cell_type": "markdown",
   "id": "7f48ba90",
   "metadata": {},
   "source": [
    "### Provider Operation"
   ]
  },
  {
   "cell_type": "code",
   "execution_count": 38,
   "id": "38445894",
   "metadata": {
    "ExecuteTime": {
     "end_time": "2022-04-12T09:02:27.573624Z",
     "start_time": "2022-04-12T09:02:27.559440Z"
    }
   },
   "outputs": [],
   "source": [
    "df_provider_operation = pd.read_csv(\"mysql_data/provider_operation.csv\")"
   ]
  },
  {
   "cell_type": "code",
   "execution_count": 39,
   "id": "0a14ebae",
   "metadata": {
    "ExecuteTime": {
     "end_time": "2022-04-12T09:02:27.589382Z",
     "start_time": "2022-04-12T09:02:27.575423Z"
    }
   },
   "outputs": [],
   "source": [
    "#df_provider_operation.info()\n",
    "df_provider_operation.delete_at = (\n",
    "    df_provider_operation.delete_at.fillna(np.nan).replace([np.nan], [None])\n",
    ")"
   ]
  },
  {
   "cell_type": "code",
   "execution_count": 40,
   "id": "ba881d13",
   "metadata": {
    "ExecuteTime": {
     "end_time": "2022-04-12T09:02:27.651226Z",
     "start_time": "2022-04-12T09:02:27.590391Z"
    }
   },
   "outputs": [],
   "source": [
    "insert_execute_many_large_dataset(df_provider_operation, 'operation')"
   ]
  },
  {
   "cell_type": "markdown",
   "id": "1e846d33",
   "metadata": {},
   "source": [
    "### Product"
   ]
  },
  {
   "cell_type": "code",
   "execution_count": 41,
   "id": "64325a3a",
   "metadata": {
    "ExecuteTime": {
     "end_time": "2022-04-12T09:02:27.727447Z",
     "start_time": "2022-04-12T09:02:27.653205Z"
    }
   },
   "outputs": [],
   "source": [
    "df_product = pd.read_csv(\"mysql_data/product.csv\")"
   ]
  },
  {
   "cell_type": "code",
   "execution_count": 42,
   "id": "3649a3ab",
   "metadata": {
    "ExecuteTime": {
     "end_time": "2022-04-12T09:02:27.742339Z",
     "start_time": "2022-04-12T09:02:27.729188Z"
    }
   },
   "outputs": [],
   "source": [
    "# df_product.info()\n",
    "\n",
    "df_product.delete_at = (\n",
    "    df_product.delete_at.fillna(np.nan).replace([np.nan], [None])\n",
    ")\n",
    "\n",
    "df_product.description = (\n",
    "    df_product.description.fillna(np.nan).replace([np.nan], [None])\n",
    ")\n",
    "\n",
    "df_product.product_image = (\n",
    "    df_product.product_image.fillna(np.nan).replace([np.nan], [None])\n",
    ")"
   ]
  },
  {
   "cell_type": "code",
   "execution_count": 43,
   "id": "a4b5083e",
   "metadata": {
    "ExecuteTime": {
     "end_time": "2022-04-12T09:02:28.528440Z",
     "start_time": "2022-04-12T09:02:27.744148Z"
    }
   },
   "outputs": [],
   "source": [
    "insert_execute_many_large_dataset(df_product, 'product')"
   ]
  },
  {
   "cell_type": "markdown",
   "id": "5d70507c",
   "metadata": {},
   "source": [
    "### Product Option"
   ]
  },
  {
   "cell_type": "code",
   "execution_count": 44,
   "id": "c8cec929",
   "metadata": {
    "ExecuteTime": {
     "end_time": "2022-04-12T09:02:28.544344Z",
     "start_time": "2022-04-12T09:02:28.530364Z"
    }
   },
   "outputs": [],
   "source": [
    "df_product_option = pd.read_csv(\"mysql_data/productoption.csv\")"
   ]
  },
  {
   "cell_type": "code",
   "execution_count": 45,
   "id": "878513e2",
   "metadata": {
    "ExecuteTime": {
     "end_time": "2022-04-12T09:02:28.559595Z",
     "start_time": "2022-04-12T09:02:28.545325Z"
    }
   },
   "outputs": [
    {
     "name": "stdout",
     "output_type": "stream",
     "text": [
      "<class 'pandas.core.frame.DataFrame'>\n",
      "RangeIndex: 12921 entries, 0 to 12920\n",
      "Data columns (total 6 columns):\n",
      " #   Column              Non-Null Count  Dtype  \n",
      "---  ------              --------------  -----  \n",
      " 0   product_id          12921 non-null  int64  \n",
      " 1   label               12921 non-null  object \n",
      " 2   value               12921 non-null  object \n",
      " 3   option_description  0 non-null      float64\n",
      " 4   is_required         12921 non-null  int64  \n",
      " 5   price               12921 non-null  int64  \n",
      "dtypes: float64(1), int64(3), object(2)\n",
      "memory usage: 605.8+ KB\n"
     ]
    }
   ],
   "source": [
    "df_product_option.info()"
   ]
  },
  {
   "cell_type": "code",
   "execution_count": 46,
   "id": "57e657d4",
   "metadata": {
    "ExecuteTime": {
     "end_time": "2022-04-12T09:02:28.575198Z",
     "start_time": "2022-04-12T09:02:28.564582Z"
    }
   },
   "outputs": [
    {
     "data": {
      "text/html": [
       "<div>\n",
       "<style scoped>\n",
       "    .dataframe tbody tr th:only-of-type {\n",
       "        vertical-align: middle;\n",
       "    }\n",
       "\n",
       "    .dataframe tbody tr th {\n",
       "        vertical-align: top;\n",
       "    }\n",
       "\n",
       "    .dataframe thead th {\n",
       "        text-align: right;\n",
       "    }\n",
       "</style>\n",
       "<table border=\"1\" class=\"dataframe\">\n",
       "  <thead>\n",
       "    <tr style=\"text-align: right;\">\n",
       "      <th></th>\n",
       "      <th>product_id</th>\n",
       "      <th>label</th>\n",
       "      <th>value</th>\n",
       "      <th>option_description</th>\n",
       "      <th>is_required</th>\n",
       "      <th>price</th>\n",
       "    </tr>\n",
       "  </thead>\n",
       "  <tbody>\n",
       "    <tr>\n",
       "      <th>0</th>\n",
       "      <td>1000000</td>\n",
       "      <td>?</td>\n",
       "      <td>?</td>\n",
       "      <td>None</td>\n",
       "      <td>1</td>\n",
       "      <td>0</td>\n",
       "    </tr>\n",
       "    <tr>\n",
       "      <th>1</th>\n",
       "      <td>1000001</td>\n",
       "      <td>?</td>\n",
       "      <td>?</td>\n",
       "      <td>None</td>\n",
       "      <td>1</td>\n",
       "      <td>0</td>\n",
       "    </tr>\n",
       "    <tr>\n",
       "      <th>2</th>\n",
       "      <td>1000002</td>\n",
       "      <td>?</td>\n",
       "      <td>?</td>\n",
       "      <td>None</td>\n",
       "      <td>1</td>\n",
       "      <td>0</td>\n",
       "    </tr>\n",
       "    <tr>\n",
       "      <th>3</th>\n",
       "      <td>1000003</td>\n",
       "      <td>?</td>\n",
       "      <td>?</td>\n",
       "      <td>None</td>\n",
       "      <td>1</td>\n",
       "      <td>0</td>\n",
       "    </tr>\n",
       "    <tr>\n",
       "      <th>4</th>\n",
       "      <td>1000004</td>\n",
       "      <td>?</td>\n",
       "      <td>?</td>\n",
       "      <td>None</td>\n",
       "      <td>1</td>\n",
       "      <td>0</td>\n",
       "    </tr>\n",
       "  </tbody>\n",
       "</table>\n",
       "</div>"
      ],
      "text/plain": [
       "   product_id label value option_description  is_required  price\n",
       "0     1000000     ?     ?               None            1      0\n",
       "1     1000001     ?     ?               None            1      0\n",
       "2     1000002     ?     ?               None            1      0\n",
       "3     1000003     ?     ?               None            1      0\n",
       "4     1000004     ?     ?               None            1      0"
      ]
     },
     "execution_count": 46,
     "metadata": {},
     "output_type": "execute_result"
    }
   ],
   "source": [
    "df_product_option.option_description = None\n",
    "df_product_option.head()"
   ]
  },
  {
   "cell_type": "code",
   "execution_count": 47,
   "id": "b096d192",
   "metadata": {
    "ExecuteTime": {
     "end_time": "2022-04-12T09:02:28.899214Z",
     "start_time": "2022-04-12T09:02:28.576195Z"
    }
   },
   "outputs": [],
   "source": [
    "insert_execute_many_large_dataset(df_product_option, 'productoption')"
   ]
  },
  {
   "cell_type": "code",
   "execution_count": null,
   "id": "ea649836",
   "metadata": {},
   "outputs": [],
   "source": []
  },
  {
   "cell_type": "markdown",
   "id": "082783d3",
   "metadata": {},
   "source": [
    "### Provider Category"
   ]
  },
  {
   "cell_type": "code",
   "execution_count": 48,
   "id": "c22b8b75",
   "metadata": {
    "ExecuteTime": {
     "end_time": "2022-04-12T09:02:28.914413Z",
     "start_time": "2022-04-12T09:02:28.900211Z"
    }
   },
   "outputs": [],
   "source": [
    "df_provider_category = pd.read_csv(\"mysql_data/provider_category.csv\")"
   ]
  },
  {
   "cell_type": "code",
   "execution_count": 49,
   "id": "cee5b4cb",
   "metadata": {
    "ExecuteTime": {
     "end_time": "2022-04-12T09:02:28.944338Z",
     "start_time": "2022-04-12T09:02:28.915411Z"
    }
   },
   "outputs": [],
   "source": [
    "insert_execute_many(df_provider_category, 'ProviderCategory')"
   ]
  },
  {
   "cell_type": "markdown",
   "id": "d00dc47a",
   "metadata": {},
   "source": [
    "### Provider Category Detail"
   ]
  },
  {
   "cell_type": "code",
   "execution_count": 50,
   "id": "bc515924",
   "metadata": {
    "ExecuteTime": {
     "end_time": "2022-04-12T09:02:28.959571Z",
     "start_time": "2022-04-12T09:02:28.945331Z"
    }
   },
   "outputs": [],
   "source": [
    "df_provider_category_detail = pd.read_csv(\"mysql_data/provider_category_detail.csv\")"
   ]
  },
  {
   "cell_type": "code",
   "execution_count": 51,
   "id": "6eb9bca6",
   "metadata": {
    "ExecuteTime": {
     "end_time": "2022-04-12T09:02:29.067682Z",
     "start_time": "2022-04-12T09:02:28.961405Z"
    }
   },
   "outputs": [],
   "source": [
    "insert_execute_many_large_dataset(df_provider_category_detail, 'ProviderCategoryDetail')"
   ]
  },
  {
   "cell_type": "markdown",
   "id": "c611ed10",
   "metadata": {},
   "source": [
    "### Cuisine Category"
   ]
  },
  {
   "cell_type": "code",
   "execution_count": 52,
   "id": "fbda65b3",
   "metadata": {
    "ExecuteTime": {
     "end_time": "2022-04-12T09:02:29.082969Z",
     "start_time": "2022-04-12T09:02:29.069569Z"
    }
   },
   "outputs": [],
   "source": [
    "df_cuisine_category = pd.read_csv(\"mysql_data/cuisine_category.csv\")"
   ]
  },
  {
   "cell_type": "code",
   "execution_count": 53,
   "id": "67805343",
   "metadata": {
    "ExecuteTime": {
     "end_time": "2022-04-12T09:02:29.114265Z",
     "start_time": "2022-04-12T09:02:29.084963Z"
    }
   },
   "outputs": [],
   "source": [
    "insert_execute_many_large_dataset(df_cuisine_category, 'CuisineCategory')"
   ]
  },
  {
   "cell_type": "markdown",
   "id": "602c3035",
   "metadata": {},
   "source": [
    "### Cuisine Category Detail"
   ]
  },
  {
   "cell_type": "code",
   "execution_count": 54,
   "id": "317f1a21",
   "metadata": {
    "ExecuteTime": {
     "end_time": "2022-04-12T09:02:29.129365Z",
     "start_time": "2022-04-12T09:02:29.115262Z"
    }
   },
   "outputs": [],
   "source": [
    "df_cuisine_category_detail = pd.read_csv(\"mysql_data/cuisine_category_detail.csv\")"
   ]
  },
  {
   "cell_type": "code",
   "execution_count": 55,
   "id": "4ca15e5b",
   "metadata": {
    "ExecuteTime": {
     "end_time": "2022-04-12T09:02:29.175639Z",
     "start_time": "2022-04-12T09:02:29.131372Z"
    }
   },
   "outputs": [],
   "source": [
    "insert_execute_many_large_dataset(df_cuisine_category_detail, 'CuisineCategoryDetail')"
   ]
  },
  {
   "cell_type": "markdown",
   "id": "76abf625",
   "metadata": {},
   "source": [
    "### Main Food Category"
   ]
  },
  {
   "cell_type": "code",
   "execution_count": 56,
   "id": "d54286be",
   "metadata": {
    "ExecuteTime": {
     "end_time": "2022-04-12T09:02:29.190533Z",
     "start_time": "2022-04-12T09:02:29.177556Z"
    }
   },
   "outputs": [],
   "source": [
    "df_main_food_category = pd.read_csv(\"mysql_data/main_food_category.csv\")"
   ]
  },
  {
   "cell_type": "code",
   "execution_count": 57,
   "id": "42857752",
   "metadata": {
    "ExecuteTime": {
     "end_time": "2022-04-12T09:02:29.221635Z",
     "start_time": "2022-04-12T09:02:29.192518Z"
    }
   },
   "outputs": [],
   "source": [
    "insert_execute_many(df_main_food_category, 'MainFoodCategory')"
   ]
  },
  {
   "cell_type": "markdown",
   "id": "a9b8a001",
   "metadata": {},
   "source": [
    "### Main Food Category Detail"
   ]
  },
  {
   "cell_type": "code",
   "execution_count": 58,
   "id": "542eba6a",
   "metadata": {
    "ExecuteTime": {
     "end_time": "2022-04-12T09:02:29.267692Z",
     "start_time": "2022-04-12T09:02:29.222502Z"
    }
   },
   "outputs": [],
   "source": [
    "df_main_food_category_detail = pd.read_csv(\"mysql_data/main_food_category_detail.csv\")"
   ]
  },
  {
   "cell_type": "code",
   "execution_count": 59,
   "id": "e50cc32d",
   "metadata": {
    "ExecuteTime": {
     "end_time": "2022-04-12T09:02:32.750787Z",
     "start_time": "2022-04-12T09:02:29.269477Z"
    }
   },
   "outputs": [],
   "source": [
    "insert_execute_many_large_dataset(df_main_food_category_detail, 'MainFoodCategoryDetail')"
   ]
  },
  {
   "cell_type": "markdown",
   "id": "b76d8313",
   "metadata": {},
   "source": [
    "### Food Category"
   ]
  },
  {
   "cell_type": "code",
   "execution_count": 60,
   "id": "3d890a9e",
   "metadata": {
    "ExecuteTime": {
     "end_time": "2022-04-12T09:02:32.765607Z",
     "start_time": "2022-04-12T09:02:32.751644Z"
    }
   },
   "outputs": [],
   "source": [
    "df_food_category = pd.read_csv(\"mysql_data/food_category.csv\")"
   ]
  },
  {
   "cell_type": "code",
   "execution_count": 61,
   "id": "14552b3e",
   "metadata": {
    "ExecuteTime": {
     "end_time": "2022-04-12T09:02:32.796443Z",
     "start_time": "2022-04-12T09:02:32.766610Z"
    }
   },
   "outputs": [],
   "source": [
    "insert_execute_many(df_food_category, 'FoodCategory')"
   ]
  },
  {
   "cell_type": "markdown",
   "id": "d0dfd7f8",
   "metadata": {},
   "source": [
    "### Food Category Detail"
   ]
  },
  {
   "cell_type": "code",
   "execution_count": 62,
   "id": "6ea2bfb6",
   "metadata": {
    "ExecuteTime": {
     "end_time": "2022-04-12T09:02:32.875091Z",
     "start_time": "2022-04-12T09:02:32.798444Z"
    }
   },
   "outputs": [],
   "source": [
    "df_food_category_detail = pd.read_csv(\"mysql_data/food_category_detail.csv\")"
   ]
  },
  {
   "cell_type": "code",
   "execution_count": 63,
   "id": "ff234b71",
   "metadata": {
    "ExecuteTime": {
     "end_time": "2022-04-12T09:02:43.649382Z",
     "start_time": "2022-04-12T09:02:32.876935Z"
    }
   },
   "outputs": [],
   "source": [
    "insert_execute_many_large_dataset(df_food_category_detail, 'FoodCategoryDetail')"
   ]
  },
  {
   "cell_type": "markdown",
   "id": "2268eacd",
   "metadata": {},
   "source": [
    "### Menu Category"
   ]
  },
  {
   "cell_type": "code",
   "execution_count": 64,
   "id": "9362b2fb",
   "metadata": {
    "ExecuteTime": {
     "end_time": "2022-04-12T09:02:43.665382Z",
     "start_time": "2022-04-12T09:02:43.650370Z"
    }
   },
   "outputs": [],
   "source": [
    "df_menu_category = pd.read_csv(\"mysql_data/menu_category.csv\")"
   ]
  },
  {
   "cell_type": "code",
   "execution_count": 65,
   "id": "a53cf07e",
   "metadata": {
    "ExecuteTime": {
     "end_time": "2022-04-12T09:02:43.680308Z",
     "start_time": "2022-04-12T09:02:43.667343Z"
    }
   },
   "outputs": [],
   "source": [
    "# df_menu_category.info()"
   ]
  },
  {
   "cell_type": "code",
   "execution_count": 66,
   "id": "ad21b049",
   "metadata": {
    "ExecuteTime": {
     "end_time": "2022-04-12T09:02:43.757569Z",
     "start_time": "2022-04-12T09:02:43.681306Z"
    }
   },
   "outputs": [],
   "source": [
    "insert_execute_many(df_menu_category, 'MenuCategory')"
   ]
  },
  {
   "cell_type": "markdown",
   "id": "e1dce14f",
   "metadata": {},
   "source": [
    "### Menu Category Detail"
   ]
  },
  {
   "cell_type": "code",
   "execution_count": 67,
   "id": "0685f105",
   "metadata": {
    "ExecuteTime": {
     "end_time": "2022-04-12T09:02:43.788338Z",
     "start_time": "2022-04-12T09:02:43.759209Z"
    }
   },
   "outputs": [],
   "source": [
    "df_menu_category_detail = pd.read_csv(\"mysql_data/menu_category_detail.csv\")"
   ]
  },
  {
   "cell_type": "code",
   "execution_count": 68,
   "id": "f3fbd088",
   "metadata": {
    "ExecuteTime": {
     "end_time": "2022-04-12T09:02:44.635644Z",
     "start_time": "2022-04-12T09:02:43.790332Z"
    }
   },
   "outputs": [],
   "source": [
    "insert_execute_many_large_dataset(df_menu_category_detail, 'MenuCategoryDetail')"
   ]
  },
  {
   "cell_type": "code",
   "execution_count": null,
   "id": "433b5710",
   "metadata": {},
   "outputs": [],
   "source": []
  }
 ],
 "metadata": {
  "kernelspec": {
   "display_name": "Python 3 (ipykernel)",
   "language": "python",
   "name": "python3"
  },
  "language_info": {
   "codemirror_mode": {
    "name": "ipython",
    "version": 3
   },
   "file_extension": ".py",
   "mimetype": "text/x-python",
   "name": "python",
   "nbconvert_exporter": "python",
   "pygments_lexer": "ipython3",
   "version": "3.10.2"
  },
  "varInspector": {
   "cols": {
    "lenName": 16,
    "lenType": 16,
    "lenVar": 40
   },
   "kernels_config": {
    "python": {
     "delete_cmd_postfix": "",
     "delete_cmd_prefix": "del ",
     "library": "var_list.py",
     "varRefreshCmd": "print(var_dic_list())"
    },
    "r": {
     "delete_cmd_postfix": ") ",
     "delete_cmd_prefix": "rm(",
     "library": "var_list.r",
     "varRefreshCmd": "cat(var_dic_list()) "
    }
   },
   "types_to_exclude": [
    "module",
    "function",
    "builtin_function_or_method",
    "instance",
    "_Feature"
   ],
   "window_display": false
  }
 },
 "nbformat": 4,
 "nbformat_minor": 5
}
