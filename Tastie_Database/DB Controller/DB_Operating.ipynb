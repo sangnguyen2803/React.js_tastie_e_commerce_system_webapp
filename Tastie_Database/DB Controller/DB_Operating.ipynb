{
 "cells": [
  {
   "cell_type": "code",
   "execution_count": 1,
   "id": "e13d9f0c",
   "metadata": {
    "ExecuteTime": {
     "end_time": "2022-04-12T04:58:10.182125Z",
     "start_time": "2022-04-12T04:58:08.211906Z"
    }
   },
   "outputs": [],
   "source": [
    "import numpy as np\n",
    "import pandas as pd\n",
    "import matplotlib.pyplot as plt\n",
    "import seaborn as sns\n",
    "import random\n",
    "from sqlalchemy.engine import create_engine\n",
    "from mysql.connector import connect\n",
    "import mysql.connector\n",
    "from mysql.connector import Error\n",
    "import pymysql\n",
    "import warnings\n",
    "import traceback\n",
    "from pandas.io import sql\n",
    "from sqlalchemy import create_engine\n",
    "\n",
    "from random import randrange\n",
    "import datetime\n",
    "from datetime import timedelta\n",
    "from sklearn import preprocessing\n",
    "# import datetime\n",
    "\n",
    "# import MySQLdb\n",
    "\n",
    "warnings.filterwarnings(\"ignore\")"
   ]
  },
  {
   "cell_type": "code",
   "execution_count": 2,
   "id": "232de269",
   "metadata": {
    "ExecuteTime": {
     "end_time": "2022-04-12T04:58:10.197104Z",
     "start_time": "2022-04-12T04:58:10.184119Z"
    }
   },
   "outputs": [],
   "source": [
    "from urllib.parse import quote_plus\n"
   ]
  },
  {
   "cell_type": "code",
   "execution_count": 3,
   "id": "a1b2e401",
   "metadata": {
    "ExecuteTime": {
     "end_time": "2022-04-12T04:58:10.319261Z",
     "start_time": "2022-04-12T04:58:10.199099Z"
    }
   },
   "outputs": [
    {
     "data": {
      "application/javascript": "\n            setTimeout(function() {\n                var nbb_cell_id = 3;\n                var nbb_unformatted_code = \"%load_ext nb_black\";\n                var nbb_formatted_code = \"%load_ext nb_black\";\n                var nbb_cells = Jupyter.notebook.get_cells();\n                for (var i = 0; i < nbb_cells.length; ++i) {\n                    if (nbb_cells[i].input_prompt_number == nbb_cell_id) {\n                        if (nbb_cells[i].get_text() == nbb_unformatted_code) {\n                             nbb_cells[i].set_text(nbb_formatted_code);\n                        }\n                        break;\n                    }\n                }\n            }, 500);\n            ",
      "text/plain": [
       "<IPython.core.display.Javascript object>"
      ]
     },
     "metadata": {},
     "output_type": "display_data"
    }
   ],
   "source": [
    "%load_ext nb_black\n"
   ]
  },
  {
   "cell_type": "code",
   "execution_count": 4,
   "id": "2e2088cc",
   "metadata": {
    "ExecuteTime": {
     "end_time": "2022-04-12T04:58:10.366087Z",
     "start_time": "2022-04-12T04:58:10.321502Z"
    }
   },
   "outputs": [
    {
     "data": {
      "application/javascript": "\n            setTimeout(function() {\n                var nbb_cell_id = 4;\n                var nbb_unformatted_code = \"%load_ext sql\";\n                var nbb_formatted_code = \"%load_ext sql\";\n                var nbb_cells = Jupyter.notebook.get_cells();\n                for (var i = 0; i < nbb_cells.length; ++i) {\n                    if (nbb_cells[i].input_prompt_number == nbb_cell_id) {\n                        if (nbb_cells[i].get_text() == nbb_unformatted_code) {\n                             nbb_cells[i].set_text(nbb_formatted_code);\n                        }\n                        break;\n                    }\n                }\n            }, 500);\n            ",
      "text/plain": [
       "<IPython.core.display.Javascript object>"
      ]
     },
     "metadata": {},
     "output_type": "display_data"
    }
   ],
   "source": [
    "%load_ext sql"
   ]
  },
  {
   "cell_type": "code",
   "execution_count": 5,
   "id": "f3c71660",
   "metadata": {
    "ExecuteTime": {
     "end_time": "2022-04-12T04:58:10.381034Z",
     "start_time": "2022-04-12T04:58:10.368031Z"
    }
   },
   "outputs": [
    {
     "data": {
      "application/javascript": "\n            setTimeout(function() {\n                var nbb_cell_id = 5;\n                var nbb_unformatted_code = \"# user_name = \\\"root\\\"\\n# pwd = \\\"Trung99\\\"\\n# server = \\\"localhost\\\"\\n# db = \\\"tastie\\\"\\n# # conn = connect(host=server, user=user_name, password=pwd, database=db, port=3306)\\n# # cur = conn.cursor(buffered=True)\";\n                var nbb_formatted_code = \"# user_name = \\\"root\\\"\\n# pwd = \\\"Trung99\\\"\\n# server = \\\"localhost\\\"\\n# db = \\\"tastie\\\"\\n# # conn = connect(host=server, user=user_name, password=pwd, database=db, port=3306)\\n# # cur = conn.cursor(buffered=True)\";\n                var nbb_cells = Jupyter.notebook.get_cells();\n                for (var i = 0; i < nbb_cells.length; ++i) {\n                    if (nbb_cells[i].input_prompt_number == nbb_cell_id) {\n                        if (nbb_cells[i].get_text() == nbb_unformatted_code) {\n                             nbb_cells[i].set_text(nbb_formatted_code);\n                        }\n                        break;\n                    }\n                }\n            }, 500);\n            ",
      "text/plain": [
       "<IPython.core.display.Javascript object>"
      ]
     },
     "metadata": {},
     "output_type": "display_data"
    }
   ],
   "source": [
    "# user_name = \"root\"\n",
    "# pwd = \"Trung99\"\n",
    "# server = \"localhost\"\n",
    "# db = \"tastie\"\n",
    "# # conn = connect(host=server, user=user_name, password=pwd, database=db, port=3306)\n",
    "# # cur = conn.cursor(buffered=True)"
   ]
  },
  {
   "cell_type": "code",
   "execution_count": 6,
   "id": "1cadba50",
   "metadata": {
    "ExecuteTime": {
     "end_time": "2022-04-12T04:58:10.396429Z",
     "start_time": "2022-04-12T04:58:10.382991Z"
    }
   },
   "outputs": [
    {
     "data": {
      "application/javascript": "\n            setTimeout(function() {\n                var nbb_cell_id = 6;\n                var nbb_unformatted_code = \"# cur.close()\\n# conn.close()\";\n                var nbb_formatted_code = \"# cur.close()\\n# conn.close()\";\n                var nbb_cells = Jupyter.notebook.get_cells();\n                for (var i = 0; i < nbb_cells.length; ++i) {\n                    if (nbb_cells[i].input_prompt_number == nbb_cell_id) {\n                        if (nbb_cells[i].get_text() == nbb_unformatted_code) {\n                             nbb_cells[i].set_text(nbb_formatted_code);\n                        }\n                        break;\n                    }\n                }\n            }, 500);\n            ",
      "text/plain": [
       "<IPython.core.display.Javascript object>"
      ]
     },
     "metadata": {},
     "output_type": "display_data"
    }
   ],
   "source": [
    "# cur.close()\n",
    "# conn.close()"
   ]
  },
  {
   "cell_type": "code",
   "execution_count": 7,
   "id": "cd14c926",
   "metadata": {
    "ExecuteTime": {
     "end_time": "2022-04-12T04:58:10.412160Z",
     "start_time": "2022-04-12T04:58:10.397394Z"
    }
   },
   "outputs": [
    {
     "data": {
      "application/javascript": "\n            setTimeout(function() {\n                var nbb_cell_id = 7;\n                var nbb_unformatted_code = \"# def insert_varibles_into_table(lst_value):\\n#     try:\\n#         connection = mysql.connector.connect(host='localhost',\\n#                                              database='Electronics',\\n#                                              user='pynative',\\n#                                              password='pynative@#29')\\n#         cursor = connection.cursor()\\n#         for i in lst_value:\\n#         mySql_insert_query = \\\"\\\"\\\"INSERT INTO Laptop (Id, Name, Price, Purchase_date) \\n#                                 VALUES (%s, %s, %s, %s) \\\"\\\"\\\"\\n\\n#         record = (id, name, price, purchase_date)\\n#         cursor.execute(mySql_insert_query, record)\\n#         connection.commit()\\n#         print(\\\"Record inserted successfully into Laptop table\\\")\\n\\n#     except mysql.connector.Error as error:\\n#         print(\\\"Failed to insert into MySQL table {}\\\".format(error))\\n\\n#     finally:\\n#         if connection.is_connected():\\n#             cursor.close()\\n#             connection.close()\\n#             print(\\\"MySQL connection is closed\\\")\";\n                var nbb_formatted_code = \"# def insert_varibles_into_table(lst_value):\\n#     try:\\n#         connection = mysql.connector.connect(host='localhost',\\n#                                              database='Electronics',\\n#                                              user='pynative',\\n#                                              password='pynative@#29')\\n#         cursor = connection.cursor()\\n#         for i in lst_value:\\n#         mySql_insert_query = \\\"\\\"\\\"INSERT INTO Laptop (Id, Name, Price, Purchase_date)\\n#                                 VALUES (%s, %s, %s, %s) \\\"\\\"\\\"\\n\\n#         record = (id, name, price, purchase_date)\\n#         cursor.execute(mySql_insert_query, record)\\n#         connection.commit()\\n#         print(\\\"Record inserted successfully into Laptop table\\\")\\n\\n#     except mysql.connector.Error as error:\\n#         print(\\\"Failed to insert into MySQL table {}\\\".format(error))\\n\\n#     finally:\\n#         if connection.is_connected():\\n#             cursor.close()\\n#             connection.close()\\n#             print(\\\"MySQL connection is closed\\\")\";\n                var nbb_cells = Jupyter.notebook.get_cells();\n                for (var i = 0; i < nbb_cells.length; ++i) {\n                    if (nbb_cells[i].input_prompt_number == nbb_cell_id) {\n                        if (nbb_cells[i].get_text() == nbb_unformatted_code) {\n                             nbb_cells[i].set_text(nbb_formatted_code);\n                        }\n                        break;\n                    }\n                }\n            }, 500);\n            ",
      "text/plain": [
       "<IPython.core.display.Javascript object>"
      ]
     },
     "metadata": {},
     "output_type": "display_data"
    }
   ],
   "source": [
    "# def insert_varibles_into_table(lst_value):\n",
    "#     try:\n",
    "#         connection = mysql.connector.connect(host='localhost',\n",
    "#                                              database='Electronics',\n",
    "#                                              user='pynative',\n",
    "#                                              password='pynative@#29')\n",
    "#         cursor = connection.cursor()\n",
    "#         for i in lst_value:\n",
    "#         mySql_insert_query = \"\"\"INSERT INTO Laptop (Id, Name, Price, Purchase_date) \n",
    "#                                 VALUES (%s, %s, %s, %s) \"\"\"\n",
    "\n",
    "#         record = (id, name, price, purchase_date)\n",
    "#         cursor.execute(mySql_insert_query, record)\n",
    "#         connection.commit()\n",
    "#         print(\"Record inserted successfully into Laptop table\")\n",
    "\n",
    "#     except mysql.connector.Error as error:\n",
    "#         print(\"Failed to insert into MySQL table {}\".format(error))\n",
    "\n",
    "#     finally:\n",
    "#         if connection.is_connected():\n",
    "#             cursor.close()\n",
    "#             connection.close()\n",
    "#             print(\"MySQL connection is closed\")\n"
   ]
  },
  {
   "cell_type": "code",
   "execution_count": null,
   "id": "a2e328d6",
   "metadata": {},
   "outputs": [],
   "source": []
  },
  {
   "cell_type": "code",
   "execution_count": 8,
   "id": "185efde0",
   "metadata": {
    "ExecuteTime": {
     "end_time": "2022-04-12T04:58:10.428118Z",
     "start_time": "2022-04-12T04:58:10.413157Z"
    }
   },
   "outputs": [
    {
     "data": {
      "application/javascript": "\n            setTimeout(function() {\n                var nbb_cell_id = 8;\n                var nbb_unformatted_code = \"# connect db\\ndef connect_db():\\n    user_name = \\\"root\\\"\\n    pwd = \\\"Trung99\\\"\\n    server = \\\"localhost\\\"\\n    db = \\\"tastie\\\"\\n    conn = connect(host=server, user=user_name, password=pwd, database=db, port=3306)\\n    cur = conn.cursor(buffered=True)\\n    return conn, cur\\n\\n\\n# conn = create_engine(conn_str)\";\n                var nbb_formatted_code = \"# connect db\\ndef connect_db():\\n    user_name = \\\"root\\\"\\n    pwd = \\\"Trung99\\\"\\n    server = \\\"localhost\\\"\\n    db = \\\"tastie\\\"\\n    conn = connect(host=server, user=user_name, password=pwd, database=db, port=3306)\\n    cur = conn.cursor(buffered=True)\\n    return conn, cur\\n\\n\\n# conn = create_engine(conn_str)\";\n                var nbb_cells = Jupyter.notebook.get_cells();\n                for (var i = 0; i < nbb_cells.length; ++i) {\n                    if (nbb_cells[i].input_prompt_number == nbb_cell_id) {\n                        if (nbb_cells[i].get_text() == nbb_unformatted_code) {\n                             nbb_cells[i].set_text(nbb_formatted_code);\n                        }\n                        break;\n                    }\n                }\n            }, 500);\n            ",
      "text/plain": [
       "<IPython.core.display.Javascript object>"
      ]
     },
     "metadata": {},
     "output_type": "display_data"
    }
   ],
   "source": [
    "# connect db\n",
    "def connect_db():\n",
    "    user_name = \"root\"\n",
    "    pwd = \"Trung99\"\n",
    "    server = \"localhost\"\n",
    "    db = \"tastie\"\n",
    "    conn = connect(host=server, user=user_name, password=pwd, database=db, port=3306)\n",
    "    cur = conn.cursor(buffered=True)\n",
    "    return conn, cur\n",
    "\n",
    "\n",
    "# conn = create_engine(conn_str)"
   ]
  },
  {
   "cell_type": "code",
   "execution_count": 9,
   "id": "466310eb",
   "metadata": {
    "ExecuteTime": {
     "end_time": "2022-04-12T04:58:10.443151Z",
     "start_time": "2022-04-12T04:58:10.429117Z"
    }
   },
   "outputs": [
    {
     "data": {
      "application/javascript": "\n            setTimeout(function() {\n                var nbb_cell_id = 9;\n                var nbb_unformatted_code = \"def close_connection(cur, conn):\\n    cur.close()\\n    conn.close()\";\n                var nbb_formatted_code = \"def close_connection(cur, conn):\\n    cur.close()\\n    conn.close()\";\n                var nbb_cells = Jupyter.notebook.get_cells();\n                for (var i = 0; i < nbb_cells.length; ++i) {\n                    if (nbb_cells[i].input_prompt_number == nbb_cell_id) {\n                        if (nbb_cells[i].get_text() == nbb_unformatted_code) {\n                             nbb_cells[i].set_text(nbb_formatted_code);\n                        }\n                        break;\n                    }\n                }\n            }, 500);\n            ",
      "text/plain": [
       "<IPython.core.display.Javascript object>"
      ]
     },
     "metadata": {},
     "output_type": "display_data"
    }
   ],
   "source": [
    "def close_connection(cur, conn):\n",
    "    cur.close()\n",
    "    conn.close()"
   ]
  },
  {
   "cell_type": "code",
   "execution_count": 10,
   "id": "6479e9f9",
   "metadata": {
    "ExecuteTime": {
     "end_time": "2022-04-12T04:58:10.458780Z",
     "start_time": "2022-04-12T04:58:10.445758Z"
    }
   },
   "outputs": [
    {
     "data": {
      "application/javascript": "\n            setTimeout(function() {\n                var nbb_cell_id = 10;\n                var nbb_unformatted_code = \"def random_date(start, end):\\n    delta = end - start\\n    int_delta = (delta.days * 24 * 60 * 60) + delta.seconds\\n    random_second = randrange(int_delta)\\n    return start + timedelta(seconds=random_second)\";\n                var nbb_formatted_code = \"def random_date(start, end):\\n    delta = end - start\\n    int_delta = (delta.days * 24 * 60 * 60) + delta.seconds\\n    random_second = randrange(int_delta)\\n    return start + timedelta(seconds=random_second)\";\n                var nbb_cells = Jupyter.notebook.get_cells();\n                for (var i = 0; i < nbb_cells.length; ++i) {\n                    if (nbb_cells[i].input_prompt_number == nbb_cell_id) {\n                        if (nbb_cells[i].get_text() == nbb_unformatted_code) {\n                             nbb_cells[i].set_text(nbb_formatted_code);\n                        }\n                        break;\n                    }\n                }\n            }, 500);\n            ",
      "text/plain": [
       "<IPython.core.display.Javascript object>"
      ]
     },
     "metadata": {},
     "output_type": "display_data"
    }
   ],
   "source": [
    "def random_date(start, end):\n",
    "    delta = end - start\n",
    "    int_delta = (delta.days * 24 * 60 * 60) + delta.seconds\n",
    "    random_second = randrange(int_delta)\n",
    "    return start + timedelta(seconds=random_second)\n"
   ]
  },
  {
   "cell_type": "code",
   "execution_count": 11,
   "id": "3608db79",
   "metadata": {
    "ExecuteTime": {
     "end_time": "2022-04-12T04:58:10.474747Z",
     "start_time": "2022-04-12T04:58:10.459777Z"
    }
   },
   "outputs": [
    {
     "data": {
      "application/javascript": "\n            setTimeout(function() {\n                var nbb_cell_id = 11;\n                var nbb_unformatted_code = \"def insert_execute_many(dataset, table_name):\\n    conn, cur = connect_db()\\n\\n    cols = \\\"`,`\\\".join([str(i) for i in list(dataset)])\\n    sql = (\\n        \\\"INSERT INTO `\\\"\\n        + table_name\\n        + \\\"` (`\\\"\\n        + cols\\n        + \\\"`) VALUES (\\\"\\n        + \\\"%s,\\\" * (dataset.shape[1] - 1)\\n        + \\\"%s)\\\"\\n    )\\n\\n    try:\\n        cur.executemany(sql, dataset.values.tolist())\\n        conn.commit()\\n    except Error as error:\\n        conn.rollback()\\n        print(\\\"Failed to insert into MySQL table {}\\\".format(error))\\n    finally:\\n        cur.close()\\n        conn.close()\";\n                var nbb_formatted_code = \"def insert_execute_many(dataset, table_name):\\n    conn, cur = connect_db()\\n\\n    cols = \\\"`,`\\\".join([str(i) for i in list(dataset)])\\n    sql = (\\n        \\\"INSERT INTO `\\\"\\n        + table_name\\n        + \\\"` (`\\\"\\n        + cols\\n        + \\\"`) VALUES (\\\"\\n        + \\\"%s,\\\" * (dataset.shape[1] - 1)\\n        + \\\"%s)\\\"\\n    )\\n\\n    try:\\n        cur.executemany(sql, dataset.values.tolist())\\n        conn.commit()\\n    except Error as error:\\n        conn.rollback()\\n        print(\\\"Failed to insert into MySQL table {}\\\".format(error))\\n    finally:\\n        cur.close()\\n        conn.close()\";\n                var nbb_cells = Jupyter.notebook.get_cells();\n                for (var i = 0; i < nbb_cells.length; ++i) {\n                    if (nbb_cells[i].input_prompt_number == nbb_cell_id) {\n                        if (nbb_cells[i].get_text() == nbb_unformatted_code) {\n                             nbb_cells[i].set_text(nbb_formatted_code);\n                        }\n                        break;\n                    }\n                }\n            }, 500);\n            ",
      "text/plain": [
       "<IPython.core.display.Javascript object>"
      ]
     },
     "metadata": {},
     "output_type": "display_data"
    }
   ],
   "source": [
    "def insert_execute_many(dataset, table_name):\n",
    "    conn, cur = connect_db()\n",
    "\n",
    "    cols = \"`,`\".join([str(i) for i in list(dataset)])\n",
    "    sql = (\n",
    "        \"INSERT INTO `\"\n",
    "        + table_name\n",
    "        + \"` (`\"\n",
    "        + cols\n",
    "        + \"`) VALUES (\"\n",
    "        + \"%s,\" * (dataset.shape[1] - 1)\n",
    "        + \"%s)\"\n",
    "    )\n",
    "\n",
    "    try:\n",
    "        cur.executemany(sql, dataset.values.tolist())\n",
    "        conn.commit()\n",
    "    except Error as error:\n",
    "        conn.rollback()\n",
    "        print(\"Failed to insert into MySQL table {}\".format(error))\n",
    "    finally:\n",
    "        cur.close()\n",
    "        conn.close()"
   ]
  },
  {
   "cell_type": "code",
   "execution_count": 12,
   "id": "5fc0c64a",
   "metadata": {
    "ExecuteTime": {
     "end_time": "2022-04-12T04:58:10.490780Z",
     "start_time": "2022-04-12T04:58:10.475736Z"
    }
   },
   "outputs": [
    {
     "data": {
      "application/javascript": "\n            setTimeout(function() {\n                var nbb_cell_id = 12;\n                var nbb_unformatted_code = \"# for dataset > 100.000 records and many columns (ex: product)\\ndef insert_execute_many_large_dataset(dataset, table_name):\\n    conn, cur = connect_db()\\n    dataset_size = len(dataset)\\n    step = 100000\\n\\n    for start in range(0, len(dataset), step):\\n        if dataset_size < step:\\n            step = abs(step-dataset_size)\\n            end = start + step\\n            insert_execute_many(dataset[start:end], table_name)\\n            break\\n        end = start + step\\n        insert_execute_many(dataset[start:end], table_name) \\n\\n        dataset_size -= step\";\n                var nbb_formatted_code = \"# for dataset > 100.000 records and many columns (ex: product)\\ndef insert_execute_many_large_dataset(dataset, table_name):\\n    conn, cur = connect_db()\\n    dataset_size = len(dataset)\\n    step = 100000\\n\\n    for start in range(0, len(dataset), step):\\n        if dataset_size < step:\\n            step = abs(step - dataset_size)\\n            end = start + step\\n            insert_execute_many(dataset[start:end], table_name)\\n            break\\n        end = start + step\\n        insert_execute_many(dataset[start:end], table_name)\\n\\n        dataset_size -= step\";\n                var nbb_cells = Jupyter.notebook.get_cells();\n                for (var i = 0; i < nbb_cells.length; ++i) {\n                    if (nbb_cells[i].input_prompt_number == nbb_cell_id) {\n                        if (nbb_cells[i].get_text() == nbb_unformatted_code) {\n                             nbb_cells[i].set_text(nbb_formatted_code);\n                        }\n                        break;\n                    }\n                }\n            }, 500);\n            ",
      "text/plain": [
       "<IPython.core.display.Javascript object>"
      ]
     },
     "metadata": {},
     "output_type": "display_data"
    }
   ],
   "source": [
    "# for dataset > 100.000 records and many columns (ex: product)\n",
    "def insert_execute_many_large_dataset(dataset, table_name):\n",
    "    conn, cur = connect_db()\n",
    "    dataset_size = len(dataset)\n",
    "    step = 100000\n",
    "\n",
    "    for start in range(0, len(dataset), step):\n",
    "        if dataset_size < step:\n",
    "            step = abs(step-dataset_size)\n",
    "            end = start + step\n",
    "            insert_execute_many(dataset[start:end], table_name)\n",
    "            break\n",
    "        end = start + step\n",
    "        insert_execute_many(dataset[start:end], table_name) \n",
    "\n",
    "        dataset_size -= step\n"
   ]
  },
  {
   "cell_type": "markdown",
   "id": "ebe91941",
   "metadata": {},
   "source": [
    "### User"
   ]
  },
  {
   "cell_type": "code",
   "execution_count": 13,
   "id": "b0b3a59a",
   "metadata": {
    "ExecuteTime": {
     "end_time": "2022-04-12T04:58:10.690832Z",
     "start_time": "2022-04-12T04:58:10.491740Z"
    }
   },
   "outputs": [
    {
     "data": {
      "application/javascript": "\n            setTimeout(function() {\n                var nbb_cell_id = 13;\n                var nbb_unformatted_code = \"df_user = pd.read_csv(\\\"data/user_info.csv\\\")\";\n                var nbb_formatted_code = \"df_user = pd.read_csv(\\\"data/user_info.csv\\\")\";\n                var nbb_cells = Jupyter.notebook.get_cells();\n                for (var i = 0; i < nbb_cells.length; ++i) {\n                    if (nbb_cells[i].input_prompt_number == nbb_cell_id) {\n                        if (nbb_cells[i].get_text() == nbb_unformatted_code) {\n                             nbb_cells[i].set_text(nbb_formatted_code);\n                        }\n                        break;\n                    }\n                }\n            }, 500);\n            ",
      "text/plain": [
       "<IPython.core.display.Javascript object>"
      ]
     },
     "metadata": {},
     "output_type": "display_data"
    }
   ],
   "source": [
    "df_user = pd.read_csv(\"data/user_info.csv\")"
   ]
  },
  {
   "cell_type": "code",
   "execution_count": 14,
   "id": "181d56e0",
   "metadata": {
    "ExecuteTime": {
     "end_time": "2022-04-12T04:58:10.706773Z",
     "start_time": "2022-04-12T04:58:10.692827Z"
    }
   },
   "outputs": [
    {
     "data": {
      "application/javascript": "\n            setTimeout(function() {\n                var nbb_cell_id = 14;\n                var nbb_unformatted_code = \"# df_user = pd.read_sql_query(\\\"SELECT * FROM user\\\", conn)\";\n                var nbb_formatted_code = \"# df_user = pd.read_sql_query(\\\"SELECT * FROM user\\\", conn)\";\n                var nbb_cells = Jupyter.notebook.get_cells();\n                for (var i = 0; i < nbb_cells.length; ++i) {\n                    if (nbb_cells[i].input_prompt_number == nbb_cell_id) {\n                        if (nbb_cells[i].get_text() == nbb_unformatted_code) {\n                             nbb_cells[i].set_text(nbb_formatted_code);\n                        }\n                        break;\n                    }\n                }\n            }, 500);\n            ",
      "text/plain": [
       "<IPython.core.display.Javascript object>"
      ]
     },
     "metadata": {},
     "output_type": "display_data"
    }
   ],
   "source": [
    "# df_user = pd.read_sql_query(\"SELECT * FROM user\", conn)"
   ]
  },
  {
   "cell_type": "code",
   "execution_count": 15,
   "id": "7f324097",
   "metadata": {
    "ExecuteTime": {
     "end_time": "2022-04-12T04:58:10.768142Z",
     "start_time": "2022-04-12T04:58:10.707878Z"
    }
   },
   "outputs": [
    {
     "name": "stdout",
     "output_type": "stream",
     "text": [
      "<class 'pandas.core.frame.DataFrame'>\n",
      "RangeIndex: 39128 entries, 0 to 39127\n",
      "Data columns (total 13 columns):\n",
      " #   Column         Non-Null Count  Dtype \n",
      "---  ------         --------------  ----- \n",
      " 0   user_id        39128 non-null  int64 \n",
      " 1   first_name     39128 non-null  object\n",
      " 2   last_name      39128 non-null  object\n",
      " 3   gender         39128 non-null  int64 \n",
      " 4   birthday       39128 non-null  object\n",
      " 5   email          39128 non-null  object\n",
      " 6   phone          39128 non-null  int64 \n",
      " 7   password       39128 non-null  object\n",
      " 8   role           39128 non-null  int64 \n",
      " 9   user_token     39128 non-null  object\n",
      " 10  registered_at  39128 non-null  object\n",
      " 11  update_at      39128 non-null  object\n",
      " 12  delete_at      39128 non-null  object\n",
      "dtypes: int64(4), object(9)\n",
      "memory usage: 3.9+ MB\n"
     ]
    },
    {
     "data": {
      "application/javascript": "\n            setTimeout(function() {\n                var nbb_cell_id = 15;\n                var nbb_unformatted_code = \"df_user.info()\";\n                var nbb_formatted_code = \"df_user.info()\";\n                var nbb_cells = Jupyter.notebook.get_cells();\n                for (var i = 0; i < nbb_cells.length; ++i) {\n                    if (nbb_cells[i].input_prompt_number == nbb_cell_id) {\n                        if (nbb_cells[i].get_text() == nbb_unformatted_code) {\n                             nbb_cells[i].set_text(nbb_formatted_code);\n                        }\n                        break;\n                    }\n                }\n            }, 500);\n            ",
      "text/plain": [
       "<IPython.core.display.Javascript object>"
      ]
     },
     "metadata": {},
     "output_type": "display_data"
    }
   ],
   "source": [
    "df_user.info()"
   ]
  },
  {
   "cell_type": "code",
   "execution_count": 16,
   "id": "bb0035c4",
   "metadata": {
    "ExecuteTime": {
     "end_time": "2022-04-12T04:58:10.798995Z",
     "start_time": "2022-04-12T04:58:10.769074Z"
    }
   },
   "outputs": [
    {
     "data": {
      "text/html": [
       "<div>\n",
       "<style scoped>\n",
       "    .dataframe tbody tr th:only-of-type {\n",
       "        vertical-align: middle;\n",
       "    }\n",
       "\n",
       "    .dataframe tbody tr th {\n",
       "        vertical-align: top;\n",
       "    }\n",
       "\n",
       "    .dataframe thead th {\n",
       "        text-align: right;\n",
       "    }\n",
       "</style>\n",
       "<table border=\"1\" class=\"dataframe\">\n",
       "  <thead>\n",
       "    <tr style=\"text-align: right;\">\n",
       "      <th></th>\n",
       "      <th>user_id</th>\n",
       "      <th>first_name</th>\n",
       "      <th>last_name</th>\n",
       "      <th>gender</th>\n",
       "      <th>birthday</th>\n",
       "      <th>email</th>\n",
       "      <th>phone</th>\n",
       "      <th>password</th>\n",
       "      <th>role</th>\n",
       "      <th>user_token</th>\n",
       "      <th>registered_at</th>\n",
       "      <th>update_at</th>\n",
       "      <th>delete_at</th>\n",
       "    </tr>\n",
       "  </thead>\n",
       "  <tbody>\n",
       "    <tr>\n",
       "      <th>0</th>\n",
       "      <td>1000001</td>\n",
       "      <td>Adaline</td>\n",
       "      <td>Rolofs</td>\n",
       "      <td>0</td>\n",
       "      <td>4/11/1986</td>\n",
       "      <td>Altstadt@hubspot.com</td>\n",
       "      <td>127223056</td>\n",
       "      <td>i87Z8UWYV0x</td>\n",
       "      <td>3</td>\n",
       "      <td>6Sd5oV14jY=4hGnBF19T698P45MJilxG#9I49MbgL8txjCU1</td>\n",
       "      <td>12/11/2019 19:47</td>\n",
       "      <td>4/25/2005 8:19</td>\n",
       "      <td>1/1/1971 0:16</td>\n",
       "    </tr>\n",
       "    <tr>\n",
       "      <th>1</th>\n",
       "      <td>1000002</td>\n",
       "      <td>Lenny</td>\n",
       "      <td>Marquez</td>\n",
       "      <td>1</td>\n",
       "      <td>1/6/1970</td>\n",
       "      <td>Bounds@hubspot.com</td>\n",
       "      <td>814852386</td>\n",
       "      <td>zZS260t3a6oF&amp;64wUJ855qLTe03819UpGTfM+Q7m</td>\n",
       "      <td>2</td>\n",
       "      <td>7VLM5aZU44H9#9eKRdf36985H9&amp;V643g=1Ip5I62#D</td>\n",
       "      <td>1/1/2018 0:00</td>\n",
       "      <td>12/25/2013 13:48</td>\n",
       "      <td>7/8/2010 9:00</td>\n",
       "    </tr>\n",
       "    <tr>\n",
       "      <th>2</th>\n",
       "      <td>1000003</td>\n",
       "      <td>Camara</td>\n",
       "      <td>Zywiyask</td>\n",
       "      <td>0</td>\n",
       "      <td>8/17/1988</td>\n",
       "      <td>Deimante.Leyendecker64769@yahoo.com</td>\n",
       "      <td>553575365</td>\n",
       "      <td>y5Y1EuCTa</td>\n",
       "      <td>3</td>\n",
       "      <td>p3hs5SfM2P35N1cPyoWT%3+gH5Gosczz4Cf046Ey0tO55N...</td>\n",
       "      <td>1/1/2018 1:53</td>\n",
       "      <td>8/22/1995 4:43</td>\n",
       "      <td>1/1/1971 0:00</td>\n",
       "    </tr>\n",
       "    <tr>\n",
       "      <th>3</th>\n",
       "      <td>1000004</td>\n",
       "      <td>Seni</td>\n",
       "      <td>Besga</td>\n",
       "      <td>0</td>\n",
       "      <td>1/12/1975</td>\n",
       "      <td>MistiAThamry1672431299849@gmail.com</td>\n",
       "      <td>554173329</td>\n",
       "      <td>rxK%0v#1v178qsyzVNFRa5C2ar849MmPkBq4vu0FiSlU3u96</td>\n",
       "      <td>2</td>\n",
       "      <td>M2pJzT2+9758fj2twtO4s5x9p3j4N12K07mN3gZgSYH2j7...</td>\n",
       "      <td>2/7/2019 13:30</td>\n",
       "      <td>10/29/1980 22:13</td>\n",
       "      <td>1/1/1971 0:02</td>\n",
       "    </tr>\n",
       "    <tr>\n",
       "      <th>4</th>\n",
       "      <td>1000005</td>\n",
       "      <td>Jaunita</td>\n",
       "      <td>Abdurakhmanoff</td>\n",
       "      <td>1</td>\n",
       "      <td>1/7/1975</td>\n",
       "      <td>AkilahOrta6@hubspot.com</td>\n",
       "      <td>980690649</td>\n",
       "      <td>QYG44f^nV67</td>\n",
       "      <td>1</td>\n",
       "      <td>4k97r92q270T9Pzkc0Fc4Il^MBb1MSC9</td>\n",
       "      <td>1/9/2022 5:12</td>\n",
       "      <td>12/8/2002 22:43</td>\n",
       "      <td>3/21/2015 19:33</td>\n",
       "    </tr>\n",
       "    <tr>\n",
       "      <th>...</th>\n",
       "      <td>...</td>\n",
       "      <td>...</td>\n",
       "      <td>...</td>\n",
       "      <td>...</td>\n",
       "      <td>...</td>\n",
       "      <td>...</td>\n",
       "      <td>...</td>\n",
       "      <td>...</td>\n",
       "      <td>...</td>\n",
       "      <td>...</td>\n",
       "      <td>...</td>\n",
       "      <td>...</td>\n",
       "      <td>...</td>\n",
       "    </tr>\n",
       "    <tr>\n",
       "      <th>39123</th>\n",
       "      <td>1039124</td>\n",
       "      <td>Daryl</td>\n",
       "      <td>Hollerbaum</td>\n",
       "      <td>1</td>\n",
       "      <td>9/30/1983</td>\n",
       "      <td>DebbieAlonzo@gmail.com</td>\n",
       "      <td>982536330</td>\n",
       "      <td>D5z9i12%g7uB87tl</td>\n",
       "      <td>3</td>\n",
       "      <td>W841TS^K8dyEq0A4TIOL0oaYZC1IpGFS#</td>\n",
       "      <td>11/27/2018 22:23</td>\n",
       "      <td>1/1/1971 0:00</td>\n",
       "      <td>1/1/1971 0:11</td>\n",
       "    </tr>\n",
       "    <tr>\n",
       "      <th>39124</th>\n",
       "      <td>1039125</td>\n",
       "      <td>Romario</td>\n",
       "      <td>Groenen</td>\n",
       "      <td>1</td>\n",
       "      <td>6/10/1999</td>\n",
       "      <td>AdenaKreuzeder76@hubspot.com</td>\n",
       "      <td>883815268</td>\n",
       "      <td>+8D1h0nEvmX7440kC2d9153&amp;</td>\n",
       "      <td>3</td>\n",
       "      <td>byZvU54Y5p2=C=SL2uCzpllRm0PYGBOkKUnzB133Y673xG...</td>\n",
       "      <td>8/4/2019 13:48</td>\n",
       "      <td>1/1/1971 0:01</td>\n",
       "      <td>4/23/2004 4:32</td>\n",
       "    </tr>\n",
       "    <tr>\n",
       "      <th>39125</th>\n",
       "      <td>1039126</td>\n",
       "      <td>Adelia</td>\n",
       "      <td>Larburu</td>\n",
       "      <td>1</td>\n",
       "      <td>10/18/1998</td>\n",
       "      <td>Masegosa@icloud.com</td>\n",
       "      <td>815569692</td>\n",
       "      <td>&amp;&amp;la7Jys$2</td>\n",
       "      <td>3</td>\n",
       "      <td>0Z2hwq2yoev&amp;QM85i34opVql4n%4V0zZ=4A3Ron586gMab...</td>\n",
       "      <td>11/24/2021 12:49</td>\n",
       "      <td>1/1/1971 0:00</td>\n",
       "      <td>1/1/1971 0:01</td>\n",
       "    </tr>\n",
       "    <tr>\n",
       "      <th>39126</th>\n",
       "      <td>1039127</td>\n",
       "      <td>Lluisa</td>\n",
       "      <td>Hollerbuhl</td>\n",
       "      <td>0</td>\n",
       "      <td>8/17/1987</td>\n",
       "      <td>NovellaAmaya@hubspot.com</td>\n",
       "      <td>630507932</td>\n",
       "      <td>UuH39zB33%Q3L7Np9</td>\n",
       "      <td>1</td>\n",
       "      <td>unDZ3to19u08</td>\n",
       "      <td>4/14/2018 1:59</td>\n",
       "      <td>4/3/1973 9:34</td>\n",
       "      <td>1/1/1971 0:02</td>\n",
       "    </tr>\n",
       "    <tr>\n",
       "      <th>39127</th>\n",
       "      <td>1039128</td>\n",
       "      <td>Emilio</td>\n",
       "      <td>Mihaescu</td>\n",
       "      <td>0</td>\n",
       "      <td>11/13/1971</td>\n",
       "      <td>Acker442942@yahoo.com</td>\n",
       "      <td>850604510</td>\n",
       "      <td>1s7#&amp;F=FmFz78wn8I</td>\n",
       "      <td>1</td>\n",
       "      <td>@1q2Pr+t0dBN40an7I</td>\n",
       "      <td>1/1/2018 0:11</td>\n",
       "      <td>9/28/1978 16:49</td>\n",
       "      <td>1/1/1971 0:35</td>\n",
       "    </tr>\n",
       "  </tbody>\n",
       "</table>\n",
       "<p>39128 rows × 13 columns</p>\n",
       "</div>"
      ],
      "text/plain": [
       "       user_id first_name       last_name  gender    birthday  \\\n",
       "0      1000001    Adaline          Rolofs       0   4/11/1986   \n",
       "1      1000002      Lenny         Marquez       1    1/6/1970   \n",
       "2      1000003     Camara        Zywiyask       0   8/17/1988   \n",
       "3      1000004       Seni           Besga       0   1/12/1975   \n",
       "4      1000005    Jaunita  Abdurakhmanoff       1    1/7/1975   \n",
       "...        ...        ...             ...     ...         ...   \n",
       "39123  1039124      Daryl      Hollerbaum       1   9/30/1983   \n",
       "39124  1039125    Romario         Groenen       1   6/10/1999   \n",
       "39125  1039126     Adelia         Larburu       1  10/18/1998   \n",
       "39126  1039127     Lluisa      Hollerbuhl       0   8/17/1987   \n",
       "39127  1039128     Emilio        Mihaescu       0  11/13/1971   \n",
       "\n",
       "                                     email      phone  \\\n",
       "0                     Altstadt@hubspot.com  127223056   \n",
       "1                       Bounds@hubspot.com  814852386   \n",
       "2      Deimante.Leyendecker64769@yahoo.com  553575365   \n",
       "3      MistiAThamry1672431299849@gmail.com  554173329   \n",
       "4                  AkilahOrta6@hubspot.com  980690649   \n",
       "...                                    ...        ...   \n",
       "39123               DebbieAlonzo@gmail.com  982536330   \n",
       "39124         AdenaKreuzeder76@hubspot.com  883815268   \n",
       "39125                  Masegosa@icloud.com  815569692   \n",
       "39126             NovellaAmaya@hubspot.com  630507932   \n",
       "39127                Acker442942@yahoo.com  850604510   \n",
       "\n",
       "                                               password  role  \\\n",
       "0                                           i87Z8UWYV0x     3   \n",
       "1              zZS260t3a6oF&64wUJ855qLTe03819UpGTfM+Q7m     2   \n",
       "2                                             y5Y1EuCTa     3   \n",
       "3      rxK%0v#1v178qsyzVNFRa5C2ar849MmPkBq4vu0FiSlU3u96     2   \n",
       "4                                           QYG44f^nV67     1   \n",
       "...                                                 ...   ...   \n",
       "39123                                  D5z9i12%g7uB87tl     3   \n",
       "39124                          +8D1h0nEvmX7440kC2d9153&     3   \n",
       "39125                                        &&la7Jys$2     3   \n",
       "39126                                 UuH39zB33%Q3L7Np9     1   \n",
       "39127                                 1s7#&F=FmFz78wn8I     1   \n",
       "\n",
       "                                              user_token     registered_at  \\\n",
       "0       6Sd5oV14jY=4hGnBF19T698P45MJilxG#9I49MbgL8txjCU1  12/11/2019 19:47   \n",
       "1             7VLM5aZU44H9#9eKRdf36985H9&V643g=1Ip5I62#D     1/1/2018 0:00   \n",
       "2      p3hs5SfM2P35N1cPyoWT%3+gH5Gosczz4Cf046Ey0tO55N...     1/1/2018 1:53   \n",
       "3      M2pJzT2+9758fj2twtO4s5x9p3j4N12K07mN3gZgSYH2j7...    2/7/2019 13:30   \n",
       "4                       4k97r92q270T9Pzkc0Fc4Il^MBb1MSC9     1/9/2022 5:12   \n",
       "...                                                  ...               ...   \n",
       "39123                  W841TS^K8dyEq0A4TIOL0oaYZC1IpGFS#  11/27/2018 22:23   \n",
       "39124  byZvU54Y5p2=C=SL2uCzpllRm0PYGBOkKUnzB133Y673xG...    8/4/2019 13:48   \n",
       "39125  0Z2hwq2yoev&QM85i34opVql4n%4V0zZ=4A3Ron586gMab...  11/24/2021 12:49   \n",
       "39126                                       unDZ3to19u08    4/14/2018 1:59   \n",
       "39127                                 @1q2Pr+t0dBN40an7I     1/1/2018 0:11   \n",
       "\n",
       "              update_at        delete_at  \n",
       "0        4/25/2005 8:19    1/1/1971 0:16  \n",
       "1      12/25/2013 13:48    7/8/2010 9:00  \n",
       "2        8/22/1995 4:43    1/1/1971 0:00  \n",
       "3      10/29/1980 22:13    1/1/1971 0:02  \n",
       "4       12/8/2002 22:43  3/21/2015 19:33  \n",
       "...                 ...              ...  \n",
       "39123     1/1/1971 0:00    1/1/1971 0:11  \n",
       "39124     1/1/1971 0:01   4/23/2004 4:32  \n",
       "39125     1/1/1971 0:00    1/1/1971 0:01  \n",
       "39126     4/3/1973 9:34    1/1/1971 0:02  \n",
       "39127   9/28/1978 16:49    1/1/1971 0:35  \n",
       "\n",
       "[39128 rows x 13 columns]"
      ]
     },
     "execution_count": 16,
     "metadata": {},
     "output_type": "execute_result"
    },
    {
     "data": {
      "application/javascript": "\n            setTimeout(function() {\n                var nbb_cell_id = 16;\n                var nbb_unformatted_code = \"df_user\";\n                var nbb_formatted_code = \"df_user\";\n                var nbb_cells = Jupyter.notebook.get_cells();\n                for (var i = 0; i < nbb_cells.length; ++i) {\n                    if (nbb_cells[i].input_prompt_number == nbb_cell_id) {\n                        if (nbb_cells[i].get_text() == nbb_unformatted_code) {\n                             nbb_cells[i].set_text(nbb_formatted_code);\n                        }\n                        break;\n                    }\n                }\n            }, 500);\n            ",
      "text/plain": [
       "<IPython.core.display.Javascript object>"
      ]
     },
     "metadata": {},
     "output_type": "display_data"
    }
   ],
   "source": [
    "df_user"
   ]
  },
  {
   "cell_type": "code",
   "execution_count": 17,
   "id": "48b28235",
   "metadata": {
    "ExecuteTime": {
     "end_time": "2022-04-12T04:58:10.829558Z",
     "start_time": "2022-04-12T04:58:10.799994Z"
    }
   },
   "outputs": [
    {
     "data": {
      "application/javascript": "\n            setTimeout(function() {\n                var nbb_cell_id = 17;\n                var nbb_unformatted_code = \"df_user[\\\"phone\\\"] = df_user[\\\"phone\\\"].apply(lambda x: \\\"0\\\" + str(x))\";\n                var nbb_formatted_code = \"df_user[\\\"phone\\\"] = df_user[\\\"phone\\\"].apply(lambda x: \\\"0\\\" + str(x))\";\n                var nbb_cells = Jupyter.notebook.get_cells();\n                for (var i = 0; i < nbb_cells.length; ++i) {\n                    if (nbb_cells[i].input_prompt_number == nbb_cell_id) {\n                        if (nbb_cells[i].get_text() == nbb_unformatted_code) {\n                             nbb_cells[i].set_text(nbb_formatted_code);\n                        }\n                        break;\n                    }\n                }\n            }, 500);\n            ",
      "text/plain": [
       "<IPython.core.display.Javascript object>"
      ]
     },
     "metadata": {},
     "output_type": "display_data"
    }
   ],
   "source": [
    "df_user[\"phone\"] = df_user[\"phone\"].apply(lambda x: \"0\" + str(x))"
   ]
  },
  {
   "cell_type": "code",
   "execution_count": 18,
   "id": "08d33a88",
   "metadata": {
    "ExecuteTime": {
     "end_time": "2022-04-12T04:58:20.277557Z",
     "start_time": "2022-04-12T04:58:10.830546Z"
    }
   },
   "outputs": [
    {
     "data": {
      "application/javascript": "\n            setTimeout(function() {\n                var nbb_cell_id = 18;\n                var nbb_unformatted_code = \"df_user[\\\"registered_at\\\"] = pd.to_datetime(df_user[\\\"registered_at\\\"])\\ndf_user[\\\"update_at\\\"] = pd.to_datetime(df_user[\\\"registered_at\\\"])  # trick nha\\ndf_user[\\\"delete_at\\\"] = pd.to_datetime(df_user[\\\"delete_at\\\"])\\ndf_user[\\\"birthday\\\"] = pd.to_datetime(df_user[\\\"birthday\\\"])\";\n                var nbb_formatted_code = \"df_user[\\\"registered_at\\\"] = pd.to_datetime(df_user[\\\"registered_at\\\"])\\ndf_user[\\\"update_at\\\"] = pd.to_datetime(df_user[\\\"registered_at\\\"])  # trick nha\\ndf_user[\\\"delete_at\\\"] = pd.to_datetime(df_user[\\\"delete_at\\\"])\\ndf_user[\\\"birthday\\\"] = pd.to_datetime(df_user[\\\"birthday\\\"])\";\n                var nbb_cells = Jupyter.notebook.get_cells();\n                for (var i = 0; i < nbb_cells.length; ++i) {\n                    if (nbb_cells[i].input_prompt_number == nbb_cell_id) {\n                        if (nbb_cells[i].get_text() == nbb_unformatted_code) {\n                             nbb_cells[i].set_text(nbb_formatted_code);\n                        }\n                        break;\n                    }\n                }\n            }, 500);\n            ",
      "text/plain": [
       "<IPython.core.display.Javascript object>"
      ]
     },
     "metadata": {},
     "output_type": "display_data"
    }
   ],
   "source": [
    "df_user[\"registered_at\"] = pd.to_datetime(df_user[\"registered_at\"])\n",
    "df_user[\"update_at\"] = pd.to_datetime(df_user[\"registered_at\"])  # trick nha\n",
    "df_user[\"delete_at\"] = pd.to_datetime(df_user[\"delete_at\"])\n",
    "df_user[\"birthday\"] = pd.to_datetime(df_user[\"birthday\"])\n"
   ]
  },
  {
   "cell_type": "code",
   "execution_count": 19,
   "id": "f825ff30",
   "metadata": {
    "ExecuteTime": {
     "end_time": "2022-04-12T04:58:20.324159Z",
     "start_time": "2022-04-12T04:58:20.279212Z"
    }
   },
   "outputs": [
    {
     "name": "stdout",
     "output_type": "stream",
     "text": [
      "<class 'pandas.core.frame.DataFrame'>\n",
      "RangeIndex: 39128 entries, 0 to 39127\n",
      "Data columns (total 13 columns):\n",
      " #   Column         Non-Null Count  Dtype         \n",
      "---  ------         --------------  -----         \n",
      " 0   user_id        39128 non-null  int64         \n",
      " 1   first_name     39128 non-null  object        \n",
      " 2   last_name      39128 non-null  object        \n",
      " 3   gender         39128 non-null  int64         \n",
      " 4   birthday       39128 non-null  datetime64[ns]\n",
      " 5   email          39128 non-null  object        \n",
      " 6   phone          39128 non-null  object        \n",
      " 7   password       39128 non-null  object        \n",
      " 8   role           39128 non-null  int64         \n",
      " 9   user_token     39128 non-null  object        \n",
      " 10  registered_at  39128 non-null  datetime64[ns]\n",
      " 11  update_at      39128 non-null  datetime64[ns]\n",
      " 12  delete_at      39128 non-null  datetime64[ns]\n",
      "dtypes: datetime64[ns](4), int64(3), object(6)\n",
      "memory usage: 3.9+ MB\n"
     ]
    },
    {
     "data": {
      "application/javascript": "\n            setTimeout(function() {\n                var nbb_cell_id = 19;\n                var nbb_unformatted_code = \"df_user.info()\";\n                var nbb_formatted_code = \"df_user.info()\";\n                var nbb_cells = Jupyter.notebook.get_cells();\n                for (var i = 0; i < nbb_cells.length; ++i) {\n                    if (nbb_cells[i].input_prompt_number == nbb_cell_id) {\n                        if (nbb_cells[i].get_text() == nbb_unformatted_code) {\n                             nbb_cells[i].set_text(nbb_formatted_code);\n                        }\n                        break;\n                    }\n                }\n            }, 500);\n            ",
      "text/plain": [
       "<IPython.core.display.Javascript object>"
      ]
     },
     "metadata": {},
     "output_type": "display_data"
    }
   ],
   "source": [
    "df_user.info()"
   ]
  },
  {
   "cell_type": "code",
   "execution_count": 20,
   "id": "63a88653",
   "metadata": {
    "ExecuteTime": {
     "end_time": "2022-04-12T04:58:20.354983Z",
     "start_time": "2022-04-12T04:58:20.325942Z"
    }
   },
   "outputs": [
    {
     "data": {
      "text/html": [
       "<div>\n",
       "<style scoped>\n",
       "    .dataframe tbody tr th:only-of-type {\n",
       "        vertical-align: middle;\n",
       "    }\n",
       "\n",
       "    .dataframe tbody tr th {\n",
       "        vertical-align: top;\n",
       "    }\n",
       "\n",
       "    .dataframe thead th {\n",
       "        text-align: right;\n",
       "    }\n",
       "</style>\n",
       "<table border=\"1\" class=\"dataframe\">\n",
       "  <thead>\n",
       "    <tr style=\"text-align: right;\">\n",
       "      <th></th>\n",
       "      <th>user_id</th>\n",
       "      <th>first_name</th>\n",
       "      <th>last_name</th>\n",
       "      <th>gender</th>\n",
       "      <th>birthday</th>\n",
       "      <th>email</th>\n",
       "      <th>phone</th>\n",
       "      <th>password</th>\n",
       "      <th>role</th>\n",
       "      <th>user_token</th>\n",
       "      <th>registered_at</th>\n",
       "      <th>update_at</th>\n",
       "      <th>delete_at</th>\n",
       "    </tr>\n",
       "  </thead>\n",
       "  <tbody>\n",
       "    <tr>\n",
       "      <th>0</th>\n",
       "      <td>1000001</td>\n",
       "      <td>Adaline</td>\n",
       "      <td>Rolofs</td>\n",
       "      <td>0</td>\n",
       "      <td>1986-04-11</td>\n",
       "      <td>Altstadt@hubspot.com</td>\n",
       "      <td>0127223056</td>\n",
       "      <td>i87Z8UWYV0x</td>\n",
       "      <td>3</td>\n",
       "      <td>6Sd5oV14jY=4hGnBF19T698P45MJilxG#9I49MbgL8txjCU1</td>\n",
       "      <td>2019-12-11 19:47:00</td>\n",
       "      <td>2019-12-11 19:47:00</td>\n",
       "      <td>1971-01-01 00:16:00</td>\n",
       "    </tr>\n",
       "    <tr>\n",
       "      <th>1</th>\n",
       "      <td>1000002</td>\n",
       "      <td>Lenny</td>\n",
       "      <td>Marquez</td>\n",
       "      <td>1</td>\n",
       "      <td>1970-01-06</td>\n",
       "      <td>Bounds@hubspot.com</td>\n",
       "      <td>0814852386</td>\n",
       "      <td>zZS260t3a6oF&amp;64wUJ855qLTe03819UpGTfM+Q7m</td>\n",
       "      <td>2</td>\n",
       "      <td>7VLM5aZU44H9#9eKRdf36985H9&amp;V643g=1Ip5I62#D</td>\n",
       "      <td>2018-01-01 00:00:00</td>\n",
       "      <td>2018-01-01 00:00:00</td>\n",
       "      <td>2010-07-08 09:00:00</td>\n",
       "    </tr>\n",
       "    <tr>\n",
       "      <th>2</th>\n",
       "      <td>1000003</td>\n",
       "      <td>Camara</td>\n",
       "      <td>Zywiyask</td>\n",
       "      <td>0</td>\n",
       "      <td>1988-08-17</td>\n",
       "      <td>Deimante.Leyendecker64769@yahoo.com</td>\n",
       "      <td>0553575365</td>\n",
       "      <td>y5Y1EuCTa</td>\n",
       "      <td>3</td>\n",
       "      <td>p3hs5SfM2P35N1cPyoWT%3+gH5Gosczz4Cf046Ey0tO55N...</td>\n",
       "      <td>2018-01-01 01:53:00</td>\n",
       "      <td>2018-01-01 01:53:00</td>\n",
       "      <td>1971-01-01 00:00:00</td>\n",
       "    </tr>\n",
       "    <tr>\n",
       "      <th>3</th>\n",
       "      <td>1000004</td>\n",
       "      <td>Seni</td>\n",
       "      <td>Besga</td>\n",
       "      <td>0</td>\n",
       "      <td>1975-01-12</td>\n",
       "      <td>MistiAThamry1672431299849@gmail.com</td>\n",
       "      <td>0554173329</td>\n",
       "      <td>rxK%0v#1v178qsyzVNFRa5C2ar849MmPkBq4vu0FiSlU3u96</td>\n",
       "      <td>2</td>\n",
       "      <td>M2pJzT2+9758fj2twtO4s5x9p3j4N12K07mN3gZgSYH2j7...</td>\n",
       "      <td>2019-02-07 13:30:00</td>\n",
       "      <td>2019-02-07 13:30:00</td>\n",
       "      <td>1971-01-01 00:02:00</td>\n",
       "    </tr>\n",
       "    <tr>\n",
       "      <th>4</th>\n",
       "      <td>1000005</td>\n",
       "      <td>Jaunita</td>\n",
       "      <td>Abdurakhmanoff</td>\n",
       "      <td>1</td>\n",
       "      <td>1975-01-07</td>\n",
       "      <td>AkilahOrta6@hubspot.com</td>\n",
       "      <td>0980690649</td>\n",
       "      <td>QYG44f^nV67</td>\n",
       "      <td>1</td>\n",
       "      <td>4k97r92q270T9Pzkc0Fc4Il^MBb1MSC9</td>\n",
       "      <td>2022-01-09 05:12:00</td>\n",
       "      <td>2022-01-09 05:12:00</td>\n",
       "      <td>2015-03-21 19:33:00</td>\n",
       "    </tr>\n",
       "  </tbody>\n",
       "</table>\n",
       "</div>"
      ],
      "text/plain": [
       "   user_id first_name       last_name  gender   birthday  \\\n",
       "0  1000001    Adaline          Rolofs       0 1986-04-11   \n",
       "1  1000002      Lenny         Marquez       1 1970-01-06   \n",
       "2  1000003     Camara        Zywiyask       0 1988-08-17   \n",
       "3  1000004       Seni           Besga       0 1975-01-12   \n",
       "4  1000005    Jaunita  Abdurakhmanoff       1 1975-01-07   \n",
       "\n",
       "                                 email       phone  \\\n",
       "0                 Altstadt@hubspot.com  0127223056   \n",
       "1                   Bounds@hubspot.com  0814852386   \n",
       "2  Deimante.Leyendecker64769@yahoo.com  0553575365   \n",
       "3  MistiAThamry1672431299849@gmail.com  0554173329   \n",
       "4              AkilahOrta6@hubspot.com  0980690649   \n",
       "\n",
       "                                           password  role  \\\n",
       "0                                       i87Z8UWYV0x     3   \n",
       "1          zZS260t3a6oF&64wUJ855qLTe03819UpGTfM+Q7m     2   \n",
       "2                                         y5Y1EuCTa     3   \n",
       "3  rxK%0v#1v178qsyzVNFRa5C2ar849MmPkBq4vu0FiSlU3u96     2   \n",
       "4                                       QYG44f^nV67     1   \n",
       "\n",
       "                                          user_token       registered_at  \\\n",
       "0   6Sd5oV14jY=4hGnBF19T698P45MJilxG#9I49MbgL8txjCU1 2019-12-11 19:47:00   \n",
       "1         7VLM5aZU44H9#9eKRdf36985H9&V643g=1Ip5I62#D 2018-01-01 00:00:00   \n",
       "2  p3hs5SfM2P35N1cPyoWT%3+gH5Gosczz4Cf046Ey0tO55N... 2018-01-01 01:53:00   \n",
       "3  M2pJzT2+9758fj2twtO4s5x9p3j4N12K07mN3gZgSYH2j7... 2019-02-07 13:30:00   \n",
       "4                   4k97r92q270T9Pzkc0Fc4Il^MBb1MSC9 2022-01-09 05:12:00   \n",
       "\n",
       "            update_at           delete_at  \n",
       "0 2019-12-11 19:47:00 1971-01-01 00:16:00  \n",
       "1 2018-01-01 00:00:00 2010-07-08 09:00:00  \n",
       "2 2018-01-01 01:53:00 1971-01-01 00:00:00  \n",
       "3 2019-02-07 13:30:00 1971-01-01 00:02:00  \n",
       "4 2022-01-09 05:12:00 2015-03-21 19:33:00  "
      ]
     },
     "execution_count": 20,
     "metadata": {},
     "output_type": "execute_result"
    },
    {
     "data": {
      "application/javascript": "\n            setTimeout(function() {\n                var nbb_cell_id = 20;\n                var nbb_unformatted_code = \"df_user.head()\";\n                var nbb_formatted_code = \"df_user.head()\";\n                var nbb_cells = Jupyter.notebook.get_cells();\n                for (var i = 0; i < nbb_cells.length; ++i) {\n                    if (nbb_cells[i].input_prompt_number == nbb_cell_id) {\n                        if (nbb_cells[i].get_text() == nbb_unformatted_code) {\n                             nbb_cells[i].set_text(nbb_formatted_code);\n                        }\n                        break;\n                    }\n                }\n            }, 500);\n            ",
      "text/plain": [
       "<IPython.core.display.Javascript object>"
      ]
     },
     "metadata": {},
     "output_type": "display_data"
    }
   ],
   "source": [
    "df_user.head()"
   ]
  },
  {
   "cell_type": "code",
   "execution_count": 21,
   "id": "20d96245",
   "metadata": {
    "ExecuteTime": {
     "end_time": "2022-04-12T04:58:20.370960Z",
     "start_time": "2022-04-12T04:58:20.356997Z"
    }
   },
   "outputs": [
    {
     "data": {
      "application/javascript": "\n            setTimeout(function() {\n                var nbb_cell_id = 21;\n                var nbb_unformatted_code = \"df_user.delete_at = None\\ndf_user[\\\"avatar\\\"] = None\";\n                var nbb_formatted_code = \"df_user.delete_at = None\\ndf_user[\\\"avatar\\\"] = None\";\n                var nbb_cells = Jupyter.notebook.get_cells();\n                for (var i = 0; i < nbb_cells.length; ++i) {\n                    if (nbb_cells[i].input_prompt_number == nbb_cell_id) {\n                        if (nbb_cells[i].get_text() == nbb_unformatted_code) {\n                             nbb_cells[i].set_text(nbb_formatted_code);\n                        }\n                        break;\n                    }\n                }\n            }, 500);\n            ",
      "text/plain": [
       "<IPython.core.display.Javascript object>"
      ]
     },
     "metadata": {},
     "output_type": "display_data"
    }
   ],
   "source": [
    "df_user.delete_at = None\n",
    "df_user[\"avatar\"] = None"
   ]
  },
  {
   "cell_type": "code",
   "execution_count": 22,
   "id": "064a0add",
   "metadata": {
    "ExecuteTime": {
     "end_time": "2022-04-12T04:58:20.400944Z",
     "start_time": "2022-04-12T04:58:20.371957Z"
    }
   },
   "outputs": [
    {
     "data": {
      "text/html": [
       "<div>\n",
       "<style scoped>\n",
       "    .dataframe tbody tr th:only-of-type {\n",
       "        vertical-align: middle;\n",
       "    }\n",
       "\n",
       "    .dataframe tbody tr th {\n",
       "        vertical-align: top;\n",
       "    }\n",
       "\n",
       "    .dataframe thead th {\n",
       "        text-align: right;\n",
       "    }\n",
       "</style>\n",
       "<table border=\"1\" class=\"dataframe\">\n",
       "  <thead>\n",
       "    <tr style=\"text-align: right;\">\n",
       "      <th></th>\n",
       "      <th>user_id</th>\n",
       "      <th>first_name</th>\n",
       "      <th>last_name</th>\n",
       "      <th>gender</th>\n",
       "      <th>birthday</th>\n",
       "      <th>email</th>\n",
       "      <th>phone</th>\n",
       "      <th>password</th>\n",
       "      <th>role</th>\n",
       "      <th>user_token</th>\n",
       "      <th>registered_at</th>\n",
       "      <th>update_at</th>\n",
       "      <th>delete_at</th>\n",
       "      <th>avatar</th>\n",
       "    </tr>\n",
       "  </thead>\n",
       "  <tbody>\n",
       "    <tr>\n",
       "      <th>0</th>\n",
       "      <td>1000001</td>\n",
       "      <td>Adaline</td>\n",
       "      <td>Rolofs</td>\n",
       "      <td>0</td>\n",
       "      <td>1986-04-11</td>\n",
       "      <td>Altstadt@hubspot.com</td>\n",
       "      <td>0127223056</td>\n",
       "      <td>i87Z8UWYV0x</td>\n",
       "      <td>3</td>\n",
       "      <td>6Sd5oV14jY=4hGnBF19T698P45MJilxG#9I49MbgL8txjCU1</td>\n",
       "      <td>2019-12-11 19:47:00</td>\n",
       "      <td>2019-12-11 19:47:00</td>\n",
       "      <td>None</td>\n",
       "      <td>None</td>\n",
       "    </tr>\n",
       "    <tr>\n",
       "      <th>1</th>\n",
       "      <td>1000002</td>\n",
       "      <td>Lenny</td>\n",
       "      <td>Marquez</td>\n",
       "      <td>1</td>\n",
       "      <td>1970-01-06</td>\n",
       "      <td>Bounds@hubspot.com</td>\n",
       "      <td>0814852386</td>\n",
       "      <td>zZS260t3a6oF&amp;64wUJ855qLTe03819UpGTfM+Q7m</td>\n",
       "      <td>2</td>\n",
       "      <td>7VLM5aZU44H9#9eKRdf36985H9&amp;V643g=1Ip5I62#D</td>\n",
       "      <td>2018-01-01 00:00:00</td>\n",
       "      <td>2018-01-01 00:00:00</td>\n",
       "      <td>None</td>\n",
       "      <td>None</td>\n",
       "    </tr>\n",
       "    <tr>\n",
       "      <th>2</th>\n",
       "      <td>1000003</td>\n",
       "      <td>Camara</td>\n",
       "      <td>Zywiyask</td>\n",
       "      <td>0</td>\n",
       "      <td>1988-08-17</td>\n",
       "      <td>Deimante.Leyendecker64769@yahoo.com</td>\n",
       "      <td>0553575365</td>\n",
       "      <td>y5Y1EuCTa</td>\n",
       "      <td>3</td>\n",
       "      <td>p3hs5SfM2P35N1cPyoWT%3+gH5Gosczz4Cf046Ey0tO55N...</td>\n",
       "      <td>2018-01-01 01:53:00</td>\n",
       "      <td>2018-01-01 01:53:00</td>\n",
       "      <td>None</td>\n",
       "      <td>None</td>\n",
       "    </tr>\n",
       "    <tr>\n",
       "      <th>3</th>\n",
       "      <td>1000004</td>\n",
       "      <td>Seni</td>\n",
       "      <td>Besga</td>\n",
       "      <td>0</td>\n",
       "      <td>1975-01-12</td>\n",
       "      <td>MistiAThamry1672431299849@gmail.com</td>\n",
       "      <td>0554173329</td>\n",
       "      <td>rxK%0v#1v178qsyzVNFRa5C2ar849MmPkBq4vu0FiSlU3u96</td>\n",
       "      <td>2</td>\n",
       "      <td>M2pJzT2+9758fj2twtO4s5x9p3j4N12K07mN3gZgSYH2j7...</td>\n",
       "      <td>2019-02-07 13:30:00</td>\n",
       "      <td>2019-02-07 13:30:00</td>\n",
       "      <td>None</td>\n",
       "      <td>None</td>\n",
       "    </tr>\n",
       "    <tr>\n",
       "      <th>4</th>\n",
       "      <td>1000005</td>\n",
       "      <td>Jaunita</td>\n",
       "      <td>Abdurakhmanoff</td>\n",
       "      <td>1</td>\n",
       "      <td>1975-01-07</td>\n",
       "      <td>AkilahOrta6@hubspot.com</td>\n",
       "      <td>0980690649</td>\n",
       "      <td>QYG44f^nV67</td>\n",
       "      <td>1</td>\n",
       "      <td>4k97r92q270T9Pzkc0Fc4Il^MBb1MSC9</td>\n",
       "      <td>2022-01-09 05:12:00</td>\n",
       "      <td>2022-01-09 05:12:00</td>\n",
       "      <td>None</td>\n",
       "      <td>None</td>\n",
       "    </tr>\n",
       "  </tbody>\n",
       "</table>\n",
       "</div>"
      ],
      "text/plain": [
       "   user_id first_name       last_name  gender   birthday  \\\n",
       "0  1000001    Adaline          Rolofs       0 1986-04-11   \n",
       "1  1000002      Lenny         Marquez       1 1970-01-06   \n",
       "2  1000003     Camara        Zywiyask       0 1988-08-17   \n",
       "3  1000004       Seni           Besga       0 1975-01-12   \n",
       "4  1000005    Jaunita  Abdurakhmanoff       1 1975-01-07   \n",
       "\n",
       "                                 email       phone  \\\n",
       "0                 Altstadt@hubspot.com  0127223056   \n",
       "1                   Bounds@hubspot.com  0814852386   \n",
       "2  Deimante.Leyendecker64769@yahoo.com  0553575365   \n",
       "3  MistiAThamry1672431299849@gmail.com  0554173329   \n",
       "4              AkilahOrta6@hubspot.com  0980690649   \n",
       "\n",
       "                                           password  role  \\\n",
       "0                                       i87Z8UWYV0x     3   \n",
       "1          zZS260t3a6oF&64wUJ855qLTe03819UpGTfM+Q7m     2   \n",
       "2                                         y5Y1EuCTa     3   \n",
       "3  rxK%0v#1v178qsyzVNFRa5C2ar849MmPkBq4vu0FiSlU3u96     2   \n",
       "4                                       QYG44f^nV67     1   \n",
       "\n",
       "                                          user_token       registered_at  \\\n",
       "0   6Sd5oV14jY=4hGnBF19T698P45MJilxG#9I49MbgL8txjCU1 2019-12-11 19:47:00   \n",
       "1         7VLM5aZU44H9#9eKRdf36985H9&V643g=1Ip5I62#D 2018-01-01 00:00:00   \n",
       "2  p3hs5SfM2P35N1cPyoWT%3+gH5Gosczz4Cf046Ey0tO55N... 2018-01-01 01:53:00   \n",
       "3  M2pJzT2+9758fj2twtO4s5x9p3j4N12K07mN3gZgSYH2j7... 2019-02-07 13:30:00   \n",
       "4                   4k97r92q270T9Pzkc0Fc4Il^MBb1MSC9 2022-01-09 05:12:00   \n",
       "\n",
       "            update_at delete_at avatar  \n",
       "0 2019-12-11 19:47:00      None   None  \n",
       "1 2018-01-01 00:00:00      None   None  \n",
       "2 2018-01-01 01:53:00      None   None  \n",
       "3 2019-02-07 13:30:00      None   None  \n",
       "4 2022-01-09 05:12:00      None   None  "
      ]
     },
     "execution_count": 22,
     "metadata": {},
     "output_type": "execute_result"
    },
    {
     "data": {
      "application/javascript": "\n            setTimeout(function() {\n                var nbb_cell_id = 22;\n                var nbb_unformatted_code = \"df_user.head()\";\n                var nbb_formatted_code = \"df_user.head()\";\n                var nbb_cells = Jupyter.notebook.get_cells();\n                for (var i = 0; i < nbb_cells.length; ++i) {\n                    if (nbb_cells[i].input_prompt_number == nbb_cell_id) {\n                        if (nbb_cells[i].get_text() == nbb_unformatted_code) {\n                             nbb_cells[i].set_text(nbb_formatted_code);\n                        }\n                        break;\n                    }\n                }\n            }, 500);\n            ",
      "text/plain": [
       "<IPython.core.display.Javascript object>"
      ]
     },
     "metadata": {},
     "output_type": "display_data"
    }
   ],
   "source": [
    "df_user.head()"
   ]
  },
  {
   "cell_type": "code",
   "execution_count": null,
   "id": "d333b6eb",
   "metadata": {},
   "outputs": [],
   "source": []
  },
  {
   "cell_type": "code",
   "execution_count": 23,
   "id": "2b645f84",
   "metadata": {
    "ExecuteTime": {
     "end_time": "2022-04-12T04:58:21.108487Z",
     "start_time": "2022-04-12T04:58:20.401942Z"
    }
   },
   "outputs": [
    {
     "data": {
      "application/javascript": "\n            setTimeout(function() {\n                var nbb_cell_id = 23;\n                var nbb_unformatted_code = \"df_user.to_csv(\\\"mysql_data/user.csv\\\", index=False)\";\n                var nbb_formatted_code = \"df_user.to_csv(\\\"mysql_data/user.csv\\\", index=False)\";\n                var nbb_cells = Jupyter.notebook.get_cells();\n                for (var i = 0; i < nbb_cells.length; ++i) {\n                    if (nbb_cells[i].input_prompt_number == nbb_cell_id) {\n                        if (nbb_cells[i].get_text() == nbb_unformatted_code) {\n                             nbb_cells[i].set_text(nbb_formatted_code);\n                        }\n                        break;\n                    }\n                }\n            }, 500);\n            ",
      "text/plain": [
       "<IPython.core.display.Javascript object>"
      ]
     },
     "metadata": {},
     "output_type": "display_data"
    }
   ],
   "source": [
    "df_user.to_csv(\"mysql_data/user.csv\", index=False)"
   ]
  },
  {
   "cell_type": "code",
   "execution_count": 24,
   "id": "363d4cfb",
   "metadata": {
    "ExecuteTime": {
     "end_time": "2022-04-12T04:58:21.123471Z",
     "start_time": "2022-04-12T04:58:21.109300Z"
    }
   },
   "outputs": [
    {
     "data": {
      "application/javascript": "\n            setTimeout(function() {\n                var nbb_cell_id = 24;\n                var nbb_unformatted_code = \"# conn, cur = connect_db()\\n# cols = \\\"`,`\\\".join([str(i) for i in list(df_user.columns)])\\n\\n# for i, row in df_user.iterrows():\\n#     sql = (\\n#         \\\"INSERT INTO `user` (`\\\" + cols + \\\"`) VALUES (\\\" + \\\"%s,\\\" * (len(row) - 1) + \\\"%s)\\\"\\n#     )\\n#     #     print(sql)\\n#     #     print(tuple(row))\\n#     #     break\\n\\n#     cur.execute(sql, tuple(row))\\n\\n# conn.commit()\\n# cur.close()\\n# conn.close()\";\n                var nbb_formatted_code = \"# conn, cur = connect_db()\\n# cols = \\\"`,`\\\".join([str(i) for i in list(df_user.columns)])\\n\\n# for i, row in df_user.iterrows():\\n#     sql = (\\n#         \\\"INSERT INTO `user` (`\\\" + cols + \\\"`) VALUES (\\\" + \\\"%s,\\\" * (len(row) - 1) + \\\"%s)\\\"\\n#     )\\n#     #     print(sql)\\n#     #     print(tuple(row))\\n#     #     break\\n\\n#     cur.execute(sql, tuple(row))\\n\\n# conn.commit()\\n# cur.close()\\n# conn.close()\";\n                var nbb_cells = Jupyter.notebook.get_cells();\n                for (var i = 0; i < nbb_cells.length; ++i) {\n                    if (nbb_cells[i].input_prompt_number == nbb_cell_id) {\n                        if (nbb_cells[i].get_text() == nbb_unformatted_code) {\n                             nbb_cells[i].set_text(nbb_formatted_code);\n                        }\n                        break;\n                    }\n                }\n            }, 500);\n            ",
      "text/plain": [
       "<IPython.core.display.Javascript object>"
      ]
     },
     "metadata": {},
     "output_type": "display_data"
    }
   ],
   "source": [
    "# conn, cur = connect_db()\n",
    "# cols = \"`,`\".join([str(i) for i in list(df_user.columns)])\n",
    "\n",
    "# for i, row in df_user.iterrows():\n",
    "#     sql = (\n",
    "#         \"INSERT INTO `user` (`\" + cols + \"`) VALUES (\" + \"%s,\" * (len(row) - 1) + \"%s)\"\n",
    "#     )\n",
    "#     #     print(sql)\n",
    "#     #     print(tuple(row))\n",
    "#     #     break\n",
    "\n",
    "#     cur.execute(sql, tuple(row))\n",
    "\n",
    "# conn.commit()\n",
    "# cur.close()\n",
    "# conn.close()"
   ]
  },
  {
   "cell_type": "markdown",
   "id": "cc71e597",
   "metadata": {},
   "source": [
    "### Cart"
   ]
  },
  {
   "cell_type": "code",
   "execution_count": 25,
   "id": "b919aff9",
   "metadata": {
    "ExecuteTime": {
     "end_time": "2022-04-12T04:58:21.139188Z",
     "start_time": "2022-04-12T04:58:21.124354Z"
    }
   },
   "outputs": [
    {
     "data": {
      "application/javascript": "\n            setTimeout(function() {\n                var nbb_cell_id = 25;\n                var nbb_unformatted_code = \"# df_user[df_user.role == 1][[\\\"user_id\\\"]]\";\n                var nbb_formatted_code = \"# df_user[df_user.role == 1][[\\\"user_id\\\"]]\";\n                var nbb_cells = Jupyter.notebook.get_cells();\n                for (var i = 0; i < nbb_cells.length; ++i) {\n                    if (nbb_cells[i].input_prompt_number == nbb_cell_id) {\n                        if (nbb_cells[i].get_text() == nbb_unformatted_code) {\n                             nbb_cells[i].set_text(nbb_formatted_code);\n                        }\n                        break;\n                    }\n                }\n            }, 500);\n            ",
      "text/plain": [
       "<IPython.core.display.Javascript object>"
      ]
     },
     "metadata": {},
     "output_type": "display_data"
    }
   ],
   "source": [
    "# df_user[df_user.role == 1][[\"user_id\"]]"
   ]
  },
  {
   "cell_type": "code",
   "execution_count": 26,
   "id": "7d03ae01",
   "metadata": {
    "ExecuteTime": {
     "end_time": "2022-04-12T04:58:21.185709Z",
     "start_time": "2022-04-12T04:58:21.141183Z"
    }
   },
   "outputs": [
    {
     "data": {
      "application/javascript": "\n            setTimeout(function() {\n                var nbb_cell_id = 26;\n                var nbb_unformatted_code = \"df_cart = df_user[df_user.role == 1][[\\\"user_id\\\"]]\\ndf_cart.rename(columns={\\\"user_id\\\": \\\"cart_id\\\"}, inplace=True)\";\n                var nbb_formatted_code = \"df_cart = df_user[df_user.role == 1][[\\\"user_id\\\"]]\\ndf_cart.rename(columns={\\\"user_id\\\": \\\"cart_id\\\"}, inplace=True)\";\n                var nbb_cells = Jupyter.notebook.get_cells();\n                for (var i = 0; i < nbb_cells.length; ++i) {\n                    if (nbb_cells[i].input_prompt_number == nbb_cell_id) {\n                        if (nbb_cells[i].get_text() == nbb_unformatted_code) {\n                             nbb_cells[i].set_text(nbb_formatted_code);\n                        }\n                        break;\n                    }\n                }\n            }, 500);\n            ",
      "text/plain": [
       "<IPython.core.display.Javascript object>"
      ]
     },
     "metadata": {},
     "output_type": "display_data"
    }
   ],
   "source": [
    "df_cart = df_user[df_user.role == 1][[\"user_id\"]]\n",
    "df_cart.rename(columns={\"user_id\": \"cart_id\"}, inplace=True)"
   ]
  },
  {
   "cell_type": "code",
   "execution_count": 27,
   "id": "5c78310f",
   "metadata": {
    "ExecuteTime": {
     "end_time": "2022-04-12T04:58:21.201663Z",
     "start_time": "2022-04-12T04:58:21.187704Z"
    }
   },
   "outputs": [
    {
     "data": {
      "text/html": [
       "<div>\n",
       "<style scoped>\n",
       "    .dataframe tbody tr th:only-of-type {\n",
       "        vertical-align: middle;\n",
       "    }\n",
       "\n",
       "    .dataframe tbody tr th {\n",
       "        vertical-align: top;\n",
       "    }\n",
       "\n",
       "    .dataframe thead th {\n",
       "        text-align: right;\n",
       "    }\n",
       "</style>\n",
       "<table border=\"1\" class=\"dataframe\">\n",
       "  <thead>\n",
       "    <tr style=\"text-align: right;\">\n",
       "      <th></th>\n",
       "      <th>cart_id</th>\n",
       "    </tr>\n",
       "  </thead>\n",
       "  <tbody>\n",
       "    <tr>\n",
       "      <th>4</th>\n",
       "      <td>1000005</td>\n",
       "    </tr>\n",
       "    <tr>\n",
       "      <th>5</th>\n",
       "      <td>1000006</td>\n",
       "    </tr>\n",
       "    <tr>\n",
       "      <th>7</th>\n",
       "      <td>1000008</td>\n",
       "    </tr>\n",
       "    <tr>\n",
       "      <th>11</th>\n",
       "      <td>1000012</td>\n",
       "    </tr>\n",
       "    <tr>\n",
       "      <th>13</th>\n",
       "      <td>1000014</td>\n",
       "    </tr>\n",
       "  </tbody>\n",
       "</table>\n",
       "</div>"
      ],
      "text/plain": [
       "    cart_id\n",
       "4   1000005\n",
       "5   1000006\n",
       "7   1000008\n",
       "11  1000012\n",
       "13  1000014"
      ]
     },
     "execution_count": 27,
     "metadata": {},
     "output_type": "execute_result"
    },
    {
     "data": {
      "application/javascript": "\n            setTimeout(function() {\n                var nbb_cell_id = 27;\n                var nbb_unformatted_code = \"df_cart.head()\";\n                var nbb_formatted_code = \"df_cart.head()\";\n                var nbb_cells = Jupyter.notebook.get_cells();\n                for (var i = 0; i < nbb_cells.length; ++i) {\n                    if (nbb_cells[i].input_prompt_number == nbb_cell_id) {\n                        if (nbb_cells[i].get_text() == nbb_unformatted_code) {\n                             nbb_cells[i].set_text(nbb_formatted_code);\n                        }\n                        break;\n                    }\n                }\n            }, 500);\n            ",
      "text/plain": [
       "<IPython.core.display.Javascript object>"
      ]
     },
     "metadata": {},
     "output_type": "display_data"
    }
   ],
   "source": [
    "df_cart.head()"
   ]
  },
  {
   "cell_type": "code",
   "execution_count": 28,
   "id": "a3e03b9f",
   "metadata": {
    "ExecuteTime": {
     "end_time": "2022-04-12T04:58:21.217143Z",
     "start_time": "2022-04-12T04:58:21.208165Z"
    }
   },
   "outputs": [
    {
     "data": {
      "application/javascript": "\n            setTimeout(function() {\n                var nbb_cell_id = 28;\n                var nbb_unformatted_code = \"df_cart[\\\"user_id\\\"] = df_cart[\\\"cart_id\\\"]\";\n                var nbb_formatted_code = \"df_cart[\\\"user_id\\\"] = df_cart[\\\"cart_id\\\"]\";\n                var nbb_cells = Jupyter.notebook.get_cells();\n                for (var i = 0; i < nbb_cells.length; ++i) {\n                    if (nbb_cells[i].input_prompt_number == nbb_cell_id) {\n                        if (nbb_cells[i].get_text() == nbb_unformatted_code) {\n                             nbb_cells[i].set_text(nbb_formatted_code);\n                        }\n                        break;\n                    }\n                }\n            }, 500);\n            ",
      "text/plain": [
       "<IPython.core.display.Javascript object>"
      ]
     },
     "metadata": {},
     "output_type": "display_data"
    }
   ],
   "source": [
    "df_cart[\"user_id\"] = df_cart[\"cart_id\"]"
   ]
  },
  {
   "cell_type": "code",
   "execution_count": 29,
   "id": "a2144c81",
   "metadata": {
    "ExecuteTime": {
     "end_time": "2022-04-12T04:58:21.233252Z",
     "start_time": "2022-04-12T04:58:21.219139Z"
    }
   },
   "outputs": [
    {
     "data": {
      "application/javascript": "\n            setTimeout(function() {\n                var nbb_cell_id = 29;\n                var nbb_unformatted_code = \"df_cart[\\\"cart_state\\\"] = 1\\ndf_cart[\\\"total_price\\\"] = 0\";\n                var nbb_formatted_code = \"df_cart[\\\"cart_state\\\"] = 1\\ndf_cart[\\\"total_price\\\"] = 0\";\n                var nbb_cells = Jupyter.notebook.get_cells();\n                for (var i = 0; i < nbb_cells.length; ++i) {\n                    if (nbb_cells[i].input_prompt_number == nbb_cell_id) {\n                        if (nbb_cells[i].get_text() == nbb_unformatted_code) {\n                             nbb_cells[i].set_text(nbb_formatted_code);\n                        }\n                        break;\n                    }\n                }\n            }, 500);\n            ",
      "text/plain": [
       "<IPython.core.display.Javascript object>"
      ]
     },
     "metadata": {},
     "output_type": "display_data"
    }
   ],
   "source": [
    "df_cart[\"cart_state\"] = 1\n",
    "df_cart[\"total_price\"] = 0"
   ]
  },
  {
   "cell_type": "code",
   "execution_count": 30,
   "id": "aa153e12",
   "metadata": {
    "ExecuteTime": {
     "end_time": "2022-04-12T04:58:21.249208Z",
     "start_time": "2022-04-12T04:58:21.235248Z"
    }
   },
   "outputs": [
    {
     "data": {
      "text/html": [
       "<div>\n",
       "<style scoped>\n",
       "    .dataframe tbody tr th:only-of-type {\n",
       "        vertical-align: middle;\n",
       "    }\n",
       "\n",
       "    .dataframe tbody tr th {\n",
       "        vertical-align: top;\n",
       "    }\n",
       "\n",
       "    .dataframe thead th {\n",
       "        text-align: right;\n",
       "    }\n",
       "</style>\n",
       "<table border=\"1\" class=\"dataframe\">\n",
       "  <thead>\n",
       "    <tr style=\"text-align: right;\">\n",
       "      <th></th>\n",
       "      <th>cart_id</th>\n",
       "      <th>user_id</th>\n",
       "      <th>cart_state</th>\n",
       "      <th>total_price</th>\n",
       "    </tr>\n",
       "  </thead>\n",
       "  <tbody>\n",
       "    <tr>\n",
       "      <th>4</th>\n",
       "      <td>1000005</td>\n",
       "      <td>1000005</td>\n",
       "      <td>1</td>\n",
       "      <td>0</td>\n",
       "    </tr>\n",
       "    <tr>\n",
       "      <th>5</th>\n",
       "      <td>1000006</td>\n",
       "      <td>1000006</td>\n",
       "      <td>1</td>\n",
       "      <td>0</td>\n",
       "    </tr>\n",
       "    <tr>\n",
       "      <th>7</th>\n",
       "      <td>1000008</td>\n",
       "      <td>1000008</td>\n",
       "      <td>1</td>\n",
       "      <td>0</td>\n",
       "    </tr>\n",
       "    <tr>\n",
       "      <th>11</th>\n",
       "      <td>1000012</td>\n",
       "      <td>1000012</td>\n",
       "      <td>1</td>\n",
       "      <td>0</td>\n",
       "    </tr>\n",
       "    <tr>\n",
       "      <th>13</th>\n",
       "      <td>1000014</td>\n",
       "      <td>1000014</td>\n",
       "      <td>1</td>\n",
       "      <td>0</td>\n",
       "    </tr>\n",
       "    <tr>\n",
       "      <th>...</th>\n",
       "      <td>...</td>\n",
       "      <td>...</td>\n",
       "      <td>...</td>\n",
       "      <td>...</td>\n",
       "    </tr>\n",
       "    <tr>\n",
       "      <th>39118</th>\n",
       "      <td>1039119</td>\n",
       "      <td>1039119</td>\n",
       "      <td>1</td>\n",
       "      <td>0</td>\n",
       "    </tr>\n",
       "    <tr>\n",
       "      <th>39119</th>\n",
       "      <td>1039120</td>\n",
       "      <td>1039120</td>\n",
       "      <td>1</td>\n",
       "      <td>0</td>\n",
       "    </tr>\n",
       "    <tr>\n",
       "      <th>39120</th>\n",
       "      <td>1039121</td>\n",
       "      <td>1039121</td>\n",
       "      <td>1</td>\n",
       "      <td>0</td>\n",
       "    </tr>\n",
       "    <tr>\n",
       "      <th>39126</th>\n",
       "      <td>1039127</td>\n",
       "      <td>1039127</td>\n",
       "      <td>1</td>\n",
       "      <td>0</td>\n",
       "    </tr>\n",
       "    <tr>\n",
       "      <th>39127</th>\n",
       "      <td>1039128</td>\n",
       "      <td>1039128</td>\n",
       "      <td>1</td>\n",
       "      <td>0</td>\n",
       "    </tr>\n",
       "  </tbody>\n",
       "</table>\n",
       "<p>13033 rows × 4 columns</p>\n",
       "</div>"
      ],
      "text/plain": [
       "       cart_id  user_id  cart_state  total_price\n",
       "4      1000005  1000005           1            0\n",
       "5      1000006  1000006           1            0\n",
       "7      1000008  1000008           1            0\n",
       "11     1000012  1000012           1            0\n",
       "13     1000014  1000014           1            0\n",
       "...        ...      ...         ...          ...\n",
       "39118  1039119  1039119           1            0\n",
       "39119  1039120  1039120           1            0\n",
       "39120  1039121  1039121           1            0\n",
       "39126  1039127  1039127           1            0\n",
       "39127  1039128  1039128           1            0\n",
       "\n",
       "[13033 rows x 4 columns]"
      ]
     },
     "execution_count": 30,
     "metadata": {},
     "output_type": "execute_result"
    },
    {
     "data": {
      "application/javascript": "\n            setTimeout(function() {\n                var nbb_cell_id = 30;\n                var nbb_unformatted_code = \"df_cart\";\n                var nbb_formatted_code = \"df_cart\";\n                var nbb_cells = Jupyter.notebook.get_cells();\n                for (var i = 0; i < nbb_cells.length; ++i) {\n                    if (nbb_cells[i].input_prompt_number == nbb_cell_id) {\n                        if (nbb_cells[i].get_text() == nbb_unformatted_code) {\n                             nbb_cells[i].set_text(nbb_formatted_code);\n                        }\n                        break;\n                    }\n                }\n            }, 500);\n            ",
      "text/plain": [
       "<IPython.core.display.Javascript object>"
      ]
     },
     "metadata": {},
     "output_type": "display_data"
    }
   ],
   "source": [
    "df_cart"
   ]
  },
  {
   "cell_type": "code",
   "execution_count": 31,
   "id": "d1fce034",
   "metadata": {
    "ExecuteTime": {
     "end_time": "2022-04-12T04:58:21.264168Z",
     "start_time": "2022-04-12T04:58:21.251203Z"
    }
   },
   "outputs": [
    {
     "data": {
      "application/javascript": "\n            setTimeout(function() {\n                var nbb_cell_id = 31;\n                var nbb_unformatted_code = \"cart_values = df_cart.values.tolist()\";\n                var nbb_formatted_code = \"cart_values = df_cart.values.tolist()\";\n                var nbb_cells = Jupyter.notebook.get_cells();\n                for (var i = 0; i < nbb_cells.length; ++i) {\n                    if (nbb_cells[i].input_prompt_number == nbb_cell_id) {\n                        if (nbb_cells[i].get_text() == nbb_unformatted_code) {\n                             nbb_cells[i].set_text(nbb_formatted_code);\n                        }\n                        break;\n                    }\n                }\n            }, 500);\n            ",
      "text/plain": [
       "<IPython.core.display.Javascript object>"
      ]
     },
     "metadata": {},
     "output_type": "display_data"
    }
   ],
   "source": [
    "cart_values = df_cart.values.tolist()"
   ]
  },
  {
   "cell_type": "code",
   "execution_count": 32,
   "id": "2beb8fe4",
   "metadata": {
    "ExecuteTime": {
     "end_time": "2022-04-12T04:58:21.279294Z",
     "start_time": "2022-04-12T04:58:21.265707Z"
    }
   },
   "outputs": [
    {
     "data": {
      "text/plain": [
       "[[1000005, 1000005, 1, 0], [1000006, 1000006, 1, 0]]"
      ]
     },
     "execution_count": 32,
     "metadata": {},
     "output_type": "execute_result"
    },
    {
     "data": {
      "application/javascript": "\n            setTimeout(function() {\n                var nbb_cell_id = 32;\n                var nbb_unformatted_code = \"cart_values[:2]\";\n                var nbb_formatted_code = \"cart_values[:2]\";\n                var nbb_cells = Jupyter.notebook.get_cells();\n                for (var i = 0; i < nbb_cells.length; ++i) {\n                    if (nbb_cells[i].input_prompt_number == nbb_cell_id) {\n                        if (nbb_cells[i].get_text() == nbb_unformatted_code) {\n                             nbb_cells[i].set_text(nbb_formatted_code);\n                        }\n                        break;\n                    }\n                }\n            }, 500);\n            ",
      "text/plain": [
       "<IPython.core.display.Javascript object>"
      ]
     },
     "metadata": {},
     "output_type": "display_data"
    }
   ],
   "source": [
    "cart_values[:2]"
   ]
  },
  {
   "cell_type": "code",
   "execution_count": 33,
   "id": "51ed2c6a",
   "metadata": {
    "ExecuteTime": {
     "end_time": "2022-04-12T04:58:21.295214Z",
     "start_time": "2022-04-12T04:58:21.280253Z"
    }
   },
   "outputs": [
    {
     "data": {
      "application/javascript": "\n            setTimeout(function() {\n                var nbb_cell_id = 33;\n                var nbb_unformatted_code = \"# conn, cur = connect_db()\\n# cols = \\\"`,`\\\".join([str(i) for i in list(df_cart.columns)])\\n# sql = 'INSERT INTO Cart (cart_id, user_id, cart_state, total_price) VALUES (%s, %s, %s, %s)'\\n# cur.executemany(sql, cart_values)\\n# conn.commit()\\n# cur.close()\\n# conn.close()\";\n                var nbb_formatted_code = \"# conn, cur = connect_db()\\n# cols = \\\"`,`\\\".join([str(i) for i in list(df_cart.columns)])\\n# sql = 'INSERT INTO Cart (cart_id, user_id, cart_state, total_price) VALUES (%s, %s, %s, %s)'\\n# cur.executemany(sql, cart_values)\\n# conn.commit()\\n# cur.close()\\n# conn.close()\";\n                var nbb_cells = Jupyter.notebook.get_cells();\n                for (var i = 0; i < nbb_cells.length; ++i) {\n                    if (nbb_cells[i].input_prompt_number == nbb_cell_id) {\n                        if (nbb_cells[i].get_text() == nbb_unformatted_code) {\n                             nbb_cells[i].set_text(nbb_formatted_code);\n                        }\n                        break;\n                    }\n                }\n            }, 500);\n            ",
      "text/plain": [
       "<IPython.core.display.Javascript object>"
      ]
     },
     "metadata": {},
     "output_type": "display_data"
    }
   ],
   "source": [
    "# conn, cur = connect_db()\n",
    "# cols = \"`,`\".join([str(i) for i in list(df_cart.columns)])\n",
    "# sql = 'INSERT INTO Cart (cart_id, user_id, cart_state, total_price) VALUES (%s, %s, %s, %s)'\n",
    "# cur.executemany(sql, cart_values)\n",
    "# conn.commit()\n",
    "# cur.close()\n",
    "# conn.close()\n"
   ]
  },
  {
   "cell_type": "code",
   "execution_count": 34,
   "id": "958e6712",
   "metadata": {
    "ExecuteTime": {
     "end_time": "2022-04-12T04:58:21.325716Z",
     "start_time": "2022-04-12T04:58:21.296253Z"
    }
   },
   "outputs": [
    {
     "data": {
      "application/javascript": "\n            setTimeout(function() {\n                var nbb_cell_id = 34;\n                var nbb_unformatted_code = \"df_cart.to_csv(\\\"mysql_data/cart.csv\\\", index=False)\";\n                var nbb_formatted_code = \"df_cart.to_csv(\\\"mysql_data/cart.csv\\\", index=False)\";\n                var nbb_cells = Jupyter.notebook.get_cells();\n                for (var i = 0; i < nbb_cells.length; ++i) {\n                    if (nbb_cells[i].input_prompt_number == nbb_cell_id) {\n                        if (nbb_cells[i].get_text() == nbb_unformatted_code) {\n                             nbb_cells[i].set_text(nbb_formatted_code);\n                        }\n                        break;\n                    }\n                }\n            }, 500);\n            ",
      "text/plain": [
       "<IPython.core.display.Javascript object>"
      ]
     },
     "metadata": {},
     "output_type": "display_data"
    }
   ],
   "source": [
    "df_cart.to_csv(\"mysql_data/cart.csv\", index=False)"
   ]
  },
  {
   "cell_type": "code",
   "execution_count": 35,
   "id": "6ea95789",
   "metadata": {
    "ExecuteTime": {
     "end_time": "2022-04-12T04:58:21.341722Z",
     "start_time": "2022-04-12T04:58:21.326714Z"
    }
   },
   "outputs": [
    {
     "data": {
      "application/javascript": "\n            setTimeout(function() {\n                var nbb_cell_id = 35;\n                var nbb_unformatted_code = \"# insert_execute_many(df_cart, \\\"Cart\\\")\";\n                var nbb_formatted_code = \"# insert_execute_many(df_cart, \\\"Cart\\\")\";\n                var nbb_cells = Jupyter.notebook.get_cells();\n                for (var i = 0; i < nbb_cells.length; ++i) {\n                    if (nbb_cells[i].input_prompt_number == nbb_cell_id) {\n                        if (nbb_cells[i].get_text() == nbb_unformatted_code) {\n                             nbb_cells[i].set_text(nbb_formatted_code);\n                        }\n                        break;\n                    }\n                }\n            }, 500);\n            ",
      "text/plain": [
       "<IPython.core.display.Javascript object>"
      ]
     },
     "metadata": {},
     "output_type": "display_data"
    }
   ],
   "source": [
    "# insert_execute_many(df_cart, \"Cart\")"
   ]
  },
  {
   "cell_type": "markdown",
   "id": "ff92f08f",
   "metadata": {},
   "source": [
    "### Owner"
   ]
  },
  {
   "cell_type": "code",
   "execution_count": 36,
   "id": "2a002f5a",
   "metadata": {
    "ExecuteTime": {
     "end_time": "2022-04-12T04:58:21.663604Z",
     "start_time": "2022-04-12T04:58:21.342695Z"
    }
   },
   "outputs": [
    {
     "data": {
      "application/javascript": "\n            setTimeout(function() {\n                var nbb_cell_id = 36;\n                var nbb_unformatted_code = \"df_owner = pd.read_csv(\\\"data/owner_info.csv\\\")\";\n                var nbb_formatted_code = \"df_owner = pd.read_csv(\\\"data/owner_info.csv\\\")\";\n                var nbb_cells = Jupyter.notebook.get_cells();\n                for (var i = 0; i < nbb_cells.length; ++i) {\n                    if (nbb_cells[i].input_prompt_number == nbb_cell_id) {\n                        if (nbb_cells[i].get_text() == nbb_unformatted_code) {\n                             nbb_cells[i].set_text(nbb_formatted_code);\n                        }\n                        break;\n                    }\n                }\n            }, 500);\n            ",
      "text/plain": [
       "<IPython.core.display.Javascript object>"
      ]
     },
     "metadata": {},
     "output_type": "display_data"
    }
   ],
   "source": [
    "df_owner = pd.read_csv(\"data/owner_info.csv\")"
   ]
  },
  {
   "cell_type": "code",
   "execution_count": 37,
   "id": "9bc7ba42",
   "metadata": {
    "ExecuteTime": {
     "end_time": "2022-04-12T04:58:21.709635Z",
     "start_time": "2022-04-12T04:58:21.668029Z"
    }
   },
   "outputs": [
    {
     "data": {
      "text/html": [
       "<div>\n",
       "<style scoped>\n",
       "    .dataframe tbody tr th:only-of-type {\n",
       "        vertical-align: middle;\n",
       "    }\n",
       "\n",
       "    .dataframe tbody tr th {\n",
       "        vertical-align: top;\n",
       "    }\n",
       "\n",
       "    .dataframe thead th {\n",
       "        text-align: right;\n",
       "    }\n",
       "</style>\n",
       "<table border=\"1\" class=\"dataframe\">\n",
       "  <thead>\n",
       "    <tr style=\"text-align: right;\">\n",
       "      <th></th>\n",
       "      <th>owner_id</th>\n",
       "      <th>owner_card_id</th>\n",
       "      <th>owner_phone</th>\n",
       "      <th>owner_name</th>\n",
       "      <th>email</th>\n",
       "      <th>company_name</th>\n",
       "      <th>company_address</th>\n",
       "      <th>role</th>\n",
       "      <th>create_at</th>\n",
       "      <th>update_at</th>\n",
       "      <th>delete_at</th>\n",
       "      <th>bank_id_card_number</th>\n",
       "      <th>date_of_issue</th>\n",
       "      <th>bank_beneficiary_name</th>\n",
       "      <th>bank_account_number</th>\n",
       "      <th>bank_name</th>\n",
       "      <th>bank_province</th>\n",
       "      <th>bank_branch</th>\n",
       "    </tr>\n",
       "  </thead>\n",
       "  <tbody>\n",
       "    <tr>\n",
       "      <th>0</th>\n",
       "      <td>1000000</td>\n",
       "      <td>804601922286</td>\n",
       "      <td>459861314</td>\n",
       "      <td>Lashaunda241</td>\n",
       "      <td>Thielsch@zoho.com</td>\n",
       "      <td>WorldWide Optics Corporation</td>\n",
       "      <td>461 NW Riddle Hill Lane, Concord, NH, 04357</td>\n",
       "      <td>1</td>\n",
       "      <td>1/1/2018 12:07:13 AM</td>\n",
       "      <td>1/1/2018 12:00:04 AM</td>\n",
       "      <td>12/26/1974 4:36:38 AM</td>\n",
       "      <td>5553325242948090</td>\n",
       "      <td>3/8/2024</td>\n",
       "      <td>GAAA HR CS S5E</td>\n",
       "      <td>9463011450082423</td>\n",
       "      <td>Pacific Renewable Energy Corporation</td>\n",
       "      <td>240 Hidden Front Way</td>\n",
       "      <td>Zuni</td>\n",
       "    </tr>\n",
       "    <tr>\n",
       "      <th>1</th>\n",
       "      <td>1000001</td>\n",
       "      <td>849082762300</td>\n",
       "      <td>242675663</td>\n",
       "      <td>Liubov1975</td>\n",
       "      <td>Ames974385857@gmail.com</td>\n",
       "      <td>Advanced Research Corp.</td>\n",
       "      <td>11 Red Lake Hwy, Harrisburg, Pennsylvania, 30254</td>\n",
       "      <td>1</td>\n",
       "      <td>10/19/2019 1:01:51 PM</td>\n",
       "      <td>5/18/2021 12:49:32 PM</td>\n",
       "      <td>8/11/2021 9:53:46 PM</td>\n",
       "      <td>4844029508634350</td>\n",
       "      <td>7/21/2023</td>\n",
       "      <td>AYNU CA 76 48Q</td>\n",
       "      <td>4958767034927343</td>\n",
       "      <td>United Z-Mobile Corp.</td>\n",
       "      <td>2948 Stonewood Pkwy</td>\n",
       "      <td>Solon Springs</td>\n",
       "    </tr>\n",
       "    <tr>\n",
       "      <th>2</th>\n",
       "      <td>1000002</td>\n",
       "      <td>368767478644</td>\n",
       "      <td>567642224</td>\n",
       "      <td>Jocelyn5</td>\n",
       "      <td>Morris_Gensrich16241444@gmail.com</td>\n",
       "      <td>National Space Explore Co.</td>\n",
       "      <td>1753 North Church Pkwy, Boise, Idaho, 95705</td>\n",
       "      <td>1</td>\n",
       "      <td>9/25/2020 4:52:24 AM</td>\n",
       "      <td>1/1/2018 12:00:08 AM</td>\n",
       "      <td>1/1/1971 1:19:23 AM</td>\n",
       "      <td>30222044191520</td>\n",
       "      <td>8/1/2026</td>\n",
       "      <td>SHQX NZ PE A85</td>\n",
       "      <td>7357757843438961</td>\n",
       "      <td>Advanced Space Research Inc.</td>\n",
       "      <td>44 West Church Ct</td>\n",
       "      <td>Waconia</td>\n",
       "    </tr>\n",
       "    <tr>\n",
       "      <th>3</th>\n",
       "      <td>1000003</td>\n",
       "      <td>496315878400</td>\n",
       "      <td>441915299</td>\n",
       "      <td>Thiebault1974</td>\n",
       "      <td>GyulaBurnside@yahoo.com</td>\n",
       "      <td>Smart Mining Corporation</td>\n",
       "      <td>1695 Hidden Deepwood Cir, Superior Bldg, India...</td>\n",
       "      <td>1</td>\n",
       "      <td>10/31/2020 7:22:48 PM</td>\n",
       "      <td>5/19/2020 4:23:22 PM</td>\n",
       "      <td>2/2/1993 10:40:48 AM</td>\n",
       "      <td>6280874217787445</td>\n",
       "      <td>8/14/2026</td>\n",
       "      <td>RDNU CO 81 T62</td>\n",
       "      <td>3999399748405384</td>\n",
       "      <td>General Petroleum Inc.</td>\n",
       "      <td>3778 Edgewood Highway</td>\n",
       "      <td>Solvang</td>\n",
       "    </tr>\n",
       "    <tr>\n",
       "      <th>4</th>\n",
       "      <td>1000004</td>\n",
       "      <td>937535134115</td>\n",
       "      <td>986434754</td>\n",
       "      <td>Katherine368</td>\n",
       "      <td>HesseniusL57@gmail.com</td>\n",
       "      <td>Global High-Technologies Corp.</td>\n",
       "      <td>970 Riddle Hill Pkwy, Comcast Building, Albany...</td>\n",
       "      <td>1</td>\n",
       "      <td>10/26/2020 9:11:48 AM</td>\n",
       "      <td>6/9/2018 7:31:29 AM</td>\n",
       "      <td>6/18/1981 4:34:02 AM</td>\n",
       "      <td>5472617632079249</td>\n",
       "      <td>1/26/2023</td>\n",
       "      <td>UOUL IT L2 P27</td>\n",
       "      <td>2788798796848619</td>\n",
       "      <td>City Space Explore Group</td>\n",
       "      <td>12 1st Circle</td>\n",
       "      <td>Lonsdale</td>\n",
       "    </tr>\n",
       "    <tr>\n",
       "      <th>...</th>\n",
       "      <td>...</td>\n",
       "      <td>...</td>\n",
       "      <td>...</td>\n",
       "      <td>...</td>\n",
       "      <td>...</td>\n",
       "      <td>...</td>\n",
       "      <td>...</td>\n",
       "      <td>...</td>\n",
       "      <td>...</td>\n",
       "      <td>...</td>\n",
       "      <td>...</td>\n",
       "      <td>...</td>\n",
       "      <td>...</td>\n",
       "      <td>...</td>\n",
       "      <td>...</td>\n",
       "      <td>...</td>\n",
       "      <td>...</td>\n",
       "      <td>...</td>\n",
       "    </tr>\n",
       "    <tr>\n",
       "      <th>39865</th>\n",
       "      <td>1039865</td>\n",
       "      <td>616834345606</td>\n",
       "      <td>103275255</td>\n",
       "      <td>Lawanna719</td>\n",
       "      <td>Pinter@gmail.com</td>\n",
       "      <td>Professional Wave Energy Corporation</td>\n",
       "      <td>850 E Ashwood Loop, Equitable Building, Richmo...</td>\n",
       "      <td>1</td>\n",
       "      <td>1/16/2018 9:24:04 AM</td>\n",
       "      <td>5/20/2018 10:50:32 AM</td>\n",
       "      <td>5/6/1980 9:50:02 PM</td>\n",
       "      <td>3587304919923897</td>\n",
       "      <td>11/29/2024</td>\n",
       "      <td>YDHI JP 2L</td>\n",
       "      <td>7371321065874441</td>\n",
       "      <td>American Business Corporation</td>\n",
       "      <td>51 Ironwood Ln</td>\n",
       "      <td>Udall</td>\n",
       "    </tr>\n",
       "    <tr>\n",
       "      <th>39866</th>\n",
       "      <td>1039866</td>\n",
       "      <td>152334225117</td>\n",
       "      <td>395361722</td>\n",
       "      <td>Abbott74</td>\n",
       "      <td>Doroteo_Adamson11@icloud.com</td>\n",
       "      <td>United Telecommunications Corp.</td>\n",
       "      <td>263 Mount Hwy, Bismarck, North Dakota, 75644</td>\n",
       "      <td>1</td>\n",
       "      <td>9/23/2020 9:20:50 PM</td>\n",
       "      <td>1/27/2022 5:17:36 PM</td>\n",
       "      <td>1/1/1971 12:38:19 AM</td>\n",
       "      <td>30091443416337</td>\n",
       "      <td>2/18/2023</td>\n",
       "      <td>OAYY AF V3</td>\n",
       "      <td>3048145587478905</td>\n",
       "      <td>First 3G Wireless Inc.</td>\n",
       "      <td>80 Prospect Hill Ln</td>\n",
       "      <td>Mott</td>\n",
       "    </tr>\n",
       "    <tr>\n",
       "      <th>39867</th>\n",
       "      <td>1039867</td>\n",
       "      <td>130824450300</td>\n",
       "      <td>494237072</td>\n",
       "      <td>Bonny1996</td>\n",
       "      <td>Roca.Hyde@icloud.com</td>\n",
       "      <td>First 3G Wireless Group</td>\n",
       "      <td>50 Stonewood Highway, Albany, NY, 79050</td>\n",
       "      <td>2</td>\n",
       "      <td>1/1/2018 12:00:07 AM</td>\n",
       "      <td>12/10/2020 12:21:27 AM</td>\n",
       "      <td>9/1/1996 5:45:05 AM</td>\n",
       "      <td>343087895734427</td>\n",
       "      <td>4/28/2023</td>\n",
       "      <td>LCBP RO RL</td>\n",
       "      <td>4661771645630129</td>\n",
       "      <td>Canadian K-Mobile Corporation</td>\n",
       "      <td>1701 Prospect Hill Circle</td>\n",
       "      <td>Lemont Furnace</td>\n",
       "    </tr>\n",
       "    <tr>\n",
       "      <th>39868</th>\n",
       "      <td>1039868</td>\n",
       "      <td>484570745577</td>\n",
       "      <td>203181142</td>\n",
       "      <td>Brigid1964</td>\n",
       "      <td>AdahNigmann9363@yahoo.com</td>\n",
       "      <td>Canadian High-Technologies Inc.</td>\n",
       "      <td>3032 West Social St, Springfield, Illinois, 48002</td>\n",
       "      <td>2</td>\n",
       "      <td>4/22/2021 3:52:51 PM</td>\n",
       "      <td>12/29/2020 4:48:43 AM</td>\n",
       "      <td>1/1/1971 12:13:18 AM</td>\n",
       "      <td>5245997038363330</td>\n",
       "      <td>5/23/2023</td>\n",
       "      <td>WXRP IT IT JQ2</td>\n",
       "      <td>2785797782395172</td>\n",
       "      <td>Australian Nuclear Power Group</td>\n",
       "      <td>3201 NE Chapel Hill Loop</td>\n",
       "      <td>Moulton</td>\n",
       "    </tr>\n",
       "    <tr>\n",
       "      <th>39869</th>\n",
       "      <td>1039869</td>\n",
       "      <td>616192784376</td>\n",
       "      <td>471864272</td>\n",
       "      <td>Lizar2</td>\n",
       "      <td>NouriaRangnekar@icloud.com</td>\n",
       "      <td>General Broadcasting Corporation</td>\n",
       "      <td>3553 New Mount Dr, STE 814, Richmond, Virginia...</td>\n",
       "      <td>2</td>\n",
       "      <td>1/11/2022 10:57:15 AM</td>\n",
       "      <td>11/20/2018 11:36:30 AM</td>\n",
       "      <td>11/6/2018 12:01:35 AM</td>\n",
       "      <td>30243528931355</td>\n",
       "      <td>12/6/2026</td>\n",
       "      <td>NXYO RO Q3</td>\n",
       "      <td>2688313520367878</td>\n",
       "      <td>South Development Corporation</td>\n",
       "      <td>2815 Hidden Social Lane</td>\n",
       "      <td>Shelbyville</td>\n",
       "    </tr>\n",
       "  </tbody>\n",
       "</table>\n",
       "<p>39870 rows × 18 columns</p>\n",
       "</div>"
      ],
      "text/plain": [
       "       owner_id  owner_card_id  owner_phone     owner_name  \\\n",
       "0       1000000   804601922286    459861314   Lashaunda241   \n",
       "1       1000001   849082762300    242675663     Liubov1975   \n",
       "2       1000002   368767478644    567642224       Jocelyn5   \n",
       "3       1000003   496315878400    441915299  Thiebault1974   \n",
       "4       1000004   937535134115    986434754   Katherine368   \n",
       "...         ...            ...          ...            ...   \n",
       "39865   1039865   616834345606    103275255     Lawanna719   \n",
       "39866   1039866   152334225117    395361722       Abbott74   \n",
       "39867   1039867   130824450300    494237072      Bonny1996   \n",
       "39868   1039868   484570745577    203181142     Brigid1964   \n",
       "39869   1039869   616192784376    471864272         Lizar2   \n",
       "\n",
       "                                   email  \\\n",
       "0                      Thielsch@zoho.com   \n",
       "1                Ames974385857@gmail.com   \n",
       "2      Morris_Gensrich16241444@gmail.com   \n",
       "3                GyulaBurnside@yahoo.com   \n",
       "4                 HesseniusL57@gmail.com   \n",
       "...                                  ...   \n",
       "39865                   Pinter@gmail.com   \n",
       "39866       Doroteo_Adamson11@icloud.com   \n",
       "39867               Roca.Hyde@icloud.com   \n",
       "39868          AdahNigmann9363@yahoo.com   \n",
       "39869         NouriaRangnekar@icloud.com   \n",
       "\n",
       "                               company_name  \\\n",
       "0              WorldWide Optics Corporation   \n",
       "1                   Advanced Research Corp.   \n",
       "2                National Space Explore Co.   \n",
       "3                  Smart Mining Corporation   \n",
       "4            Global High-Technologies Corp.   \n",
       "...                                     ...   \n",
       "39865  Professional Wave Energy Corporation   \n",
       "39866       United Telecommunications Corp.   \n",
       "39867               First 3G Wireless Group   \n",
       "39868       Canadian High-Technologies Inc.   \n",
       "39869      General Broadcasting Corporation   \n",
       "\n",
       "                                         company_address  role  \\\n",
       "0            461 NW Riddle Hill Lane, Concord, NH, 04357     1   \n",
       "1       11 Red Lake Hwy, Harrisburg, Pennsylvania, 30254     1   \n",
       "2            1753 North Church Pkwy, Boise, Idaho, 95705     1   \n",
       "3      1695 Hidden Deepwood Cir, Superior Bldg, India...     1   \n",
       "4      970 Riddle Hill Pkwy, Comcast Building, Albany...     1   \n",
       "...                                                  ...   ...   \n",
       "39865  850 E Ashwood Loop, Equitable Building, Richmo...     1   \n",
       "39866       263 Mount Hwy, Bismarck, North Dakota, 75644     1   \n",
       "39867            50 Stonewood Highway, Albany, NY, 79050     2   \n",
       "39868  3032 West Social St, Springfield, Illinois, 48002     2   \n",
       "39869  3553 New Mount Dr, STE 814, Richmond, Virginia...     2   \n",
       "\n",
       "                   create_at               update_at              delete_at  \\\n",
       "0       1/1/2018 12:07:13 AM    1/1/2018 12:00:04 AM  12/26/1974 4:36:38 AM   \n",
       "1      10/19/2019 1:01:51 PM   5/18/2021 12:49:32 PM   8/11/2021 9:53:46 PM   \n",
       "2       9/25/2020 4:52:24 AM    1/1/2018 12:00:08 AM    1/1/1971 1:19:23 AM   \n",
       "3      10/31/2020 7:22:48 PM    5/19/2020 4:23:22 PM   2/2/1993 10:40:48 AM   \n",
       "4      10/26/2020 9:11:48 AM     6/9/2018 7:31:29 AM   6/18/1981 4:34:02 AM   \n",
       "...                      ...                     ...                    ...   \n",
       "39865   1/16/2018 9:24:04 AM   5/20/2018 10:50:32 AM    5/6/1980 9:50:02 PM   \n",
       "39866   9/23/2020 9:20:50 PM    1/27/2022 5:17:36 PM   1/1/1971 12:38:19 AM   \n",
       "39867   1/1/2018 12:00:07 AM  12/10/2020 12:21:27 AM    9/1/1996 5:45:05 AM   \n",
       "39868   4/22/2021 3:52:51 PM   12/29/2020 4:48:43 AM   1/1/1971 12:13:18 AM   \n",
       "39869  1/11/2022 10:57:15 AM  11/20/2018 11:36:30 AM  11/6/2018 12:01:35 AM   \n",
       "\n",
       "       bank_id_card_number date_of_issue bank_beneficiary_name  \\\n",
       "0         5553325242948090      3/8/2024        GAAA HR CS S5E   \n",
       "1         4844029508634350     7/21/2023        AYNU CA 76 48Q   \n",
       "2           30222044191520      8/1/2026        SHQX NZ PE A85   \n",
       "3         6280874217787445     8/14/2026        RDNU CO 81 T62   \n",
       "4         5472617632079249     1/26/2023        UOUL IT L2 P27   \n",
       "...                    ...           ...                   ...   \n",
       "39865     3587304919923897    11/29/2024            YDHI JP 2L   \n",
       "39866       30091443416337     2/18/2023            OAYY AF V3   \n",
       "39867      343087895734427     4/28/2023            LCBP RO RL   \n",
       "39868     5245997038363330     5/23/2023        WXRP IT IT JQ2   \n",
       "39869       30243528931355     12/6/2026            NXYO RO Q3   \n",
       "\n",
       "       bank_account_number                             bank_name  \\\n",
       "0         9463011450082423  Pacific Renewable Energy Corporation   \n",
       "1         4958767034927343                 United Z-Mobile Corp.   \n",
       "2         7357757843438961          Advanced Space Research Inc.   \n",
       "3         3999399748405384                General Petroleum Inc.   \n",
       "4         2788798796848619              City Space Explore Group   \n",
       "...                    ...                                   ...   \n",
       "39865     7371321065874441         American Business Corporation   \n",
       "39866     3048145587478905                First 3G Wireless Inc.   \n",
       "39867     4661771645630129         Canadian K-Mobile Corporation   \n",
       "39868     2785797782395172        Australian Nuclear Power Group   \n",
       "39869     2688313520367878         South Development Corporation   \n",
       "\n",
       "                   bank_province     bank_branch  \n",
       "0           240 Hidden Front Way            Zuni  \n",
       "1            2948 Stonewood Pkwy   Solon Springs  \n",
       "2              44 West Church Ct         Waconia  \n",
       "3          3778 Edgewood Highway         Solvang  \n",
       "4                  12 1st Circle        Lonsdale  \n",
       "...                          ...             ...  \n",
       "39865             51 Ironwood Ln           Udall  \n",
       "39866        80 Prospect Hill Ln            Mott  \n",
       "39867  1701 Prospect Hill Circle  Lemont Furnace  \n",
       "39868   3201 NE Chapel Hill Loop         Moulton  \n",
       "39869    2815 Hidden Social Lane     Shelbyville  \n",
       "\n",
       "[39870 rows x 18 columns]"
      ]
     },
     "execution_count": 37,
     "metadata": {},
     "output_type": "execute_result"
    },
    {
     "data": {
      "application/javascript": "\n            setTimeout(function() {\n                var nbb_cell_id = 37;\n                var nbb_unformatted_code = \"df_owner\";\n                var nbb_formatted_code = \"df_owner\";\n                var nbb_cells = Jupyter.notebook.get_cells();\n                for (var i = 0; i < nbb_cells.length; ++i) {\n                    if (nbb_cells[i].input_prompt_number == nbb_cell_id) {\n                        if (nbb_cells[i].get_text() == nbb_unformatted_code) {\n                             nbb_cells[i].set_text(nbb_formatted_code);\n                        }\n                        break;\n                    }\n                }\n            }, 500);\n            ",
      "text/plain": [
       "<IPython.core.display.Javascript object>"
      ]
     },
     "metadata": {},
     "output_type": "display_data"
    }
   ],
   "source": [
    "df_owner"
   ]
  },
  {
   "cell_type": "code",
   "execution_count": 38,
   "id": "b1bd8e57",
   "metadata": {
    "ExecuteTime": {
     "end_time": "2022-04-12T04:58:21.786728Z",
     "start_time": "2022-04-12T04:58:21.713213Z"
    }
   },
   "outputs": [
    {
     "name": "stdout",
     "output_type": "stream",
     "text": [
      "<class 'pandas.core.frame.DataFrame'>\n",
      "RangeIndex: 39870 entries, 0 to 39869\n",
      "Data columns (total 18 columns):\n",
      " #   Column                 Non-Null Count  Dtype \n",
      "---  ------                 --------------  ----- \n",
      " 0   owner_id               39870 non-null  int64 \n",
      " 1   owner_card_id          39870 non-null  int64 \n",
      " 2   owner_phone            39870 non-null  int64 \n",
      " 3   owner_name             39870 non-null  object\n",
      " 4   email                  39870 non-null  object\n",
      " 5   company_name           39870 non-null  object\n",
      " 6   company_address        39870 non-null  object\n",
      " 7   role                   39870 non-null  int64 \n",
      " 8   create_at              39870 non-null  object\n",
      " 9   update_at              39870 non-null  object\n",
      " 10  delete_at              39870 non-null  object\n",
      " 11  bank_id_card_number    39870 non-null  int64 \n",
      " 12  date_of_issue          39870 non-null  object\n",
      " 13  bank_beneficiary_name  39870 non-null  object\n",
      " 14  bank_account_number    39870 non-null  int64 \n",
      " 15  bank_name              39870 non-null  object\n",
      " 16  bank_province          39870 non-null  object\n",
      " 17  bank_branch            39870 non-null  object\n",
      "dtypes: int64(6), object(12)\n",
      "memory usage: 5.5+ MB\n"
     ]
    },
    {
     "data": {
      "application/javascript": "\n            setTimeout(function() {\n                var nbb_cell_id = 38;\n                var nbb_unformatted_code = \"df_owner.info()\";\n                var nbb_formatted_code = \"df_owner.info()\";\n                var nbb_cells = Jupyter.notebook.get_cells();\n                for (var i = 0; i < nbb_cells.length; ++i) {\n                    if (nbb_cells[i].input_prompt_number == nbb_cell_id) {\n                        if (nbb_cells[i].get_text() == nbb_unformatted_code) {\n                             nbb_cells[i].set_text(nbb_formatted_code);\n                        }\n                        break;\n                    }\n                }\n            }, 500);\n            ",
      "text/plain": [
       "<IPython.core.display.Javascript object>"
      ]
     },
     "metadata": {},
     "output_type": "display_data"
    }
   ],
   "source": [
    "df_owner.info()"
   ]
  },
  {
   "cell_type": "code",
   "execution_count": 39,
   "id": "8136fcb7",
   "metadata": {
    "ExecuteTime": {
     "end_time": "2022-04-12T04:58:28.034693Z",
     "start_time": "2022-04-12T04:58:21.788827Z"
    }
   },
   "outputs": [
    {
     "data": {
      "application/javascript": "\n            setTimeout(function() {\n                var nbb_cell_id = 39;\n                var nbb_unformatted_code = \"df_owner[\\\"create_at\\\"] = pd.to_datetime(df_owner[\\\"create_at\\\"])\\ndf_owner[\\\"update_at\\\"] = df_owner[\\\"create_at\\\"]\\ndf_owner[\\\"date_of_issue\\\"] = pd.to_datetime(df_owner[\\\"date_of_issue\\\"])\";\n                var nbb_formatted_code = \"df_owner[\\\"create_at\\\"] = pd.to_datetime(df_owner[\\\"create_at\\\"])\\ndf_owner[\\\"update_at\\\"] = df_owner[\\\"create_at\\\"]\\ndf_owner[\\\"date_of_issue\\\"] = pd.to_datetime(df_owner[\\\"date_of_issue\\\"])\";\n                var nbb_cells = Jupyter.notebook.get_cells();\n                for (var i = 0; i < nbb_cells.length; ++i) {\n                    if (nbb_cells[i].input_prompt_number == nbb_cell_id) {\n                        if (nbb_cells[i].get_text() == nbb_unformatted_code) {\n                             nbb_cells[i].set_text(nbb_formatted_code);\n                        }\n                        break;\n                    }\n                }\n            }, 500);\n            ",
      "text/plain": [
       "<IPython.core.display.Javascript object>"
      ]
     },
     "metadata": {},
     "output_type": "display_data"
    }
   ],
   "source": [
    "df_owner[\"create_at\"] = pd.to_datetime(df_owner[\"create_at\"])\n",
    "df_owner[\"update_at\"] = df_owner[\"create_at\"]\n",
    "df_owner[\"date_of_issue\"] = pd.to_datetime(df_owner[\"date_of_issue\"])"
   ]
  },
  {
   "cell_type": "code",
   "execution_count": 40,
   "id": "0f8a8450",
   "metadata": {
    "ExecuteTime": {
     "end_time": "2022-04-12T04:58:28.049917Z",
     "start_time": "2022-04-12T04:58:28.035807Z"
    }
   },
   "outputs": [
    {
     "data": {
      "application/javascript": "\n            setTimeout(function() {\n                var nbb_cell_id = 40;\n                var nbb_unformatted_code = \"# df_owner.role = df_owner.role.astype(\\\"str\\\")\\n# df_owner.bank_id_card_number = df_owner.bank_id_card_number.astype(\\\"str\\\")\\n# df_owner.bank_account_number = df_owner.bank_account_number.astype(\\\"str\\\")\\n# df_owner.owner_phone = df_owner.owner_phone.astype(\\\"str\\\")\\n# df_owner.owner_card_id = df_owner.owner_card_id.astype(\\\"str\\\")\\n# df_owner.owner_id = df_owner.owner_id.astype(\\\"str\\\")\";\n                var nbb_formatted_code = \"# df_owner.role = df_owner.role.astype(\\\"str\\\")\\n# df_owner.bank_id_card_number = df_owner.bank_id_card_number.astype(\\\"str\\\")\\n# df_owner.bank_account_number = df_owner.bank_account_number.astype(\\\"str\\\")\\n# df_owner.owner_phone = df_owner.owner_phone.astype(\\\"str\\\")\\n# df_owner.owner_card_id = df_owner.owner_card_id.astype(\\\"str\\\")\\n# df_owner.owner_id = df_owner.owner_id.astype(\\\"str\\\")\";\n                var nbb_cells = Jupyter.notebook.get_cells();\n                for (var i = 0; i < nbb_cells.length; ++i) {\n                    if (nbb_cells[i].input_prompt_number == nbb_cell_id) {\n                        if (nbb_cells[i].get_text() == nbb_unformatted_code) {\n                             nbb_cells[i].set_text(nbb_formatted_code);\n                        }\n                        break;\n                    }\n                }\n            }, 500);\n            ",
      "text/plain": [
       "<IPython.core.display.Javascript object>"
      ]
     },
     "metadata": {},
     "output_type": "display_data"
    }
   ],
   "source": [
    "# df_owner.role = df_owner.role.astype(\"str\")\n",
    "# df_owner.bank_id_card_number = df_owner.bank_id_card_number.astype(\"str\")\n",
    "# df_owner.bank_account_number = df_owner.bank_account_number.astype(\"str\")\n",
    "# df_owner.owner_phone = df_owner.owner_phone.astype(\"str\")\n",
    "# df_owner.owner_card_id = df_owner.owner_card_id.astype(\"str\")\n",
    "# df_owner.owner_id = df_owner.owner_id.astype(\"str\")"
   ]
  },
  {
   "cell_type": "code",
   "execution_count": 41,
   "id": "d5444fcf",
   "metadata": {
    "ExecuteTime": {
     "end_time": "2022-04-12T04:58:28.065876Z",
     "start_time": "2022-04-12T04:58:28.050915Z"
    }
   },
   "outputs": [
    {
     "data": {
      "application/javascript": "\n            setTimeout(function() {\n                var nbb_cell_id = 41;\n                var nbb_unformatted_code = \"lst_bank_name = [\\n    \\\"JPMorgan Chase & Co.\\\",\\n    \\\"Bank of America Corp.\\\",\\n    \\\"Wells Fargo & Co.\\\",\\n    \\\"Citigroup Inc.\\\",\\n    \\\"U.S. Bancorp\\\",\\n    \\\"Truist Bank\\\",\\n    \\\"PNC Financial Services Group Inc.\\\",\\n    \\\"TD Group US Holdings LLC\\\",\\n    \\\"Goldman Sachs Group Inc.\\\",\\n    \\\"Bank of New York Mellon Corp.\\\",\\n    \\\"Capital One Financial Corp.\\\",\\n    \\\"State Street Corp.\\\",\\n    \\\"Fifth Third Bank\\\",\\n    \\\"HSBC\\\",\\n    \\\"Silicon Valley Bank\\\",\\n]\";\n                var nbb_formatted_code = \"lst_bank_name = [\\n    \\\"JPMorgan Chase & Co.\\\",\\n    \\\"Bank of America Corp.\\\",\\n    \\\"Wells Fargo & Co.\\\",\\n    \\\"Citigroup Inc.\\\",\\n    \\\"U.S. Bancorp\\\",\\n    \\\"Truist Bank\\\",\\n    \\\"PNC Financial Services Group Inc.\\\",\\n    \\\"TD Group US Holdings LLC\\\",\\n    \\\"Goldman Sachs Group Inc.\\\",\\n    \\\"Bank of New York Mellon Corp.\\\",\\n    \\\"Capital One Financial Corp.\\\",\\n    \\\"State Street Corp.\\\",\\n    \\\"Fifth Third Bank\\\",\\n    \\\"HSBC\\\",\\n    \\\"Silicon Valley Bank\\\",\\n]\";\n                var nbb_cells = Jupyter.notebook.get_cells();\n                for (var i = 0; i < nbb_cells.length; ++i) {\n                    if (nbb_cells[i].input_prompt_number == nbb_cell_id) {\n                        if (nbb_cells[i].get_text() == nbb_unformatted_code) {\n                             nbb_cells[i].set_text(nbb_formatted_code);\n                        }\n                        break;\n                    }\n                }\n            }, 500);\n            ",
      "text/plain": [
       "<IPython.core.display.Javascript object>"
      ]
     },
     "metadata": {},
     "output_type": "display_data"
    }
   ],
   "source": [
    "lst_bank_name = [\n",
    "    \"JPMorgan Chase & Co.\",\n",
    "    \"Bank of America Corp.\",\n",
    "    \"Wells Fargo & Co.\",\n",
    "    \"Citigroup Inc.\",\n",
    "    \"U.S. Bancorp\",\n",
    "    \"Truist Bank\",\n",
    "    \"PNC Financial Services Group Inc.\",\n",
    "    \"TD Group US Holdings LLC\",\n",
    "    \"Goldman Sachs Group Inc.\",\n",
    "    \"Bank of New York Mellon Corp.\",\n",
    "    \"Capital One Financial Corp.\",\n",
    "    \"State Street Corp.\",\n",
    "    \"Fifth Third Bank\",\n",
    "    \"HSBC\",\n",
    "    \"Silicon Valley Bank\",\n",
    "]"
   ]
  },
  {
   "cell_type": "code",
   "execution_count": 42,
   "id": "8fb7dd0c",
   "metadata": {
    "ExecuteTime": {
     "end_time": "2022-04-12T04:58:28.112750Z",
     "start_time": "2022-04-12T04:58:28.066873Z"
    }
   },
   "outputs": [
    {
     "data": {
      "application/javascript": "\n            setTimeout(function() {\n                var nbb_cell_id = 42;\n                var nbb_unformatted_code = \"df_owner.bank_name = df_owner.bank_name.apply(lambda x: random.choice(lst_bank_name))\";\n                var nbb_formatted_code = \"df_owner.bank_name = df_owner.bank_name.apply(lambda x: random.choice(lst_bank_name))\";\n                var nbb_cells = Jupyter.notebook.get_cells();\n                for (var i = 0; i < nbb_cells.length; ++i) {\n                    if (nbb_cells[i].input_prompt_number == nbb_cell_id) {\n                        if (nbb_cells[i].get_text() == nbb_unformatted_code) {\n                             nbb_cells[i].set_text(nbb_formatted_code);\n                        }\n                        break;\n                    }\n                }\n            }, 500);\n            ",
      "text/plain": [
       "<IPython.core.display.Javascript object>"
      ]
     },
     "metadata": {},
     "output_type": "display_data"
    }
   ],
   "source": [
    "df_owner.bank_name = df_owner.bank_name.apply(lambda x: random.choice(lst_bank_name))"
   ]
  },
  {
   "cell_type": "code",
   "execution_count": 43,
   "id": "1c49b012",
   "metadata": {
    "ExecuteTime": {
     "end_time": "2022-04-12T04:58:28.127711Z",
     "start_time": "2022-04-12T04:58:28.113862Z"
    }
   },
   "outputs": [
    {
     "data": {
      "text/plain": [
       "array(['HSBC', 'Citigroup Inc.', 'Bank of New York Mellon Corp.',\n",
       "       'Capital One Financial Corp.', 'TD Group US Holdings LLC',\n",
       "       'PNC Financial Services Group Inc.', 'Silicon Valley Bank',\n",
       "       'JPMorgan Chase & Co.', 'Fifth Third Bank', 'U.S. Bancorp',\n",
       "       'State Street Corp.', 'Truist Bank', 'Wells Fargo & Co.',\n",
       "       'Bank of America Corp.', 'Goldman Sachs Group Inc.'], dtype=object)"
      ]
     },
     "execution_count": 43,
     "metadata": {},
     "output_type": "execute_result"
    },
    {
     "data": {
      "application/javascript": "\n            setTimeout(function() {\n                var nbb_cell_id = 43;\n                var nbb_unformatted_code = \"df_owner.bank_name.unique()\";\n                var nbb_formatted_code = \"df_owner.bank_name.unique()\";\n                var nbb_cells = Jupyter.notebook.get_cells();\n                for (var i = 0; i < nbb_cells.length; ++i) {\n                    if (nbb_cells[i].input_prompt_number == nbb_cell_id) {\n                        if (nbb_cells[i].get_text() == nbb_unformatted_code) {\n                             nbb_cells[i].set_text(nbb_formatted_code);\n                        }\n                        break;\n                    }\n                }\n            }, 500);\n            ",
      "text/plain": [
       "<IPython.core.display.Javascript object>"
      ]
     },
     "metadata": {},
     "output_type": "display_data"
    }
   ],
   "source": [
    "df_owner.bank_name.unique()"
   ]
  },
  {
   "cell_type": "code",
   "execution_count": 44,
   "id": "d3bdc12d",
   "metadata": {
    "ExecuteTime": {
     "end_time": "2022-04-12T04:58:28.143573Z",
     "start_time": "2022-04-12T04:58:28.130009Z"
    }
   },
   "outputs": [
    {
     "data": {
      "application/javascript": "\n            setTimeout(function() {\n                var nbb_cell_id = 44;\n                var nbb_unformatted_code = \"df_owner.delete_at = None\";\n                var nbb_formatted_code = \"df_owner.delete_at = None\";\n                var nbb_cells = Jupyter.notebook.get_cells();\n                for (var i = 0; i < nbb_cells.length; ++i) {\n                    if (nbb_cells[i].input_prompt_number == nbb_cell_id) {\n                        if (nbb_cells[i].get_text() == nbb_unformatted_code) {\n                             nbb_cells[i].set_text(nbb_formatted_code);\n                        }\n                        break;\n                    }\n                }\n            }, 500);\n            ",
      "text/plain": [
       "<IPython.core.display.Javascript object>"
      ]
     },
     "metadata": {},
     "output_type": "display_data"
    }
   ],
   "source": [
    "df_owner.delete_at = None"
   ]
  },
  {
   "cell_type": "code",
   "execution_count": 45,
   "id": "76317567",
   "metadata": {
    "ExecuteTime": {
     "end_time": "2022-04-12T04:58:28.158532Z",
     "start_time": "2022-04-12T04:58:28.144569Z"
    },
    "scrolled": true
   },
   "outputs": [
    {
     "data": {
      "text/plain": [
       "(12927, 3)"
      ]
     },
     "execution_count": 45,
     "metadata": {},
     "output_type": "execute_result"
    },
    {
     "data": {
      "application/javascript": "\n            setTimeout(function() {\n                var nbb_cell_id = 45;\n                var nbb_unformatted_code = \"df_user[df_user.role == 2].loc[:, [\\\"user_id\\\", \\\"registered_at\\\", \\\"update_at\\\"]].shape\";\n                var nbb_formatted_code = \"df_user[df_user.role == 2].loc[:, [\\\"user_id\\\", \\\"registered_at\\\", \\\"update_at\\\"]].shape\";\n                var nbb_cells = Jupyter.notebook.get_cells();\n                for (var i = 0; i < nbb_cells.length; ++i) {\n                    if (nbb_cells[i].input_prompt_number == nbb_cell_id) {\n                        if (nbb_cells[i].get_text() == nbb_unformatted_code) {\n                             nbb_cells[i].set_text(nbb_formatted_code);\n                        }\n                        break;\n                    }\n                }\n            }, 500);\n            ",
      "text/plain": [
       "<IPython.core.display.Javascript object>"
      ]
     },
     "metadata": {},
     "output_type": "display_data"
    }
   ],
   "source": [
    "df_user[df_user.role == 2].loc[:, [\"user_id\", \"registered_at\", \"update_at\"]].shape"
   ]
  },
  {
   "cell_type": "code",
   "execution_count": 46,
   "id": "ede90798",
   "metadata": {
    "ExecuteTime": {
     "end_time": "2022-04-12T04:58:28.174620Z",
     "start_time": "2022-04-12T04:58:28.159528Z"
    }
   },
   "outputs": [
    {
     "data": {
      "text/plain": [
       "(39870, 18)"
      ]
     },
     "execution_count": 46,
     "metadata": {},
     "output_type": "execute_result"
    },
    {
     "data": {
      "application/javascript": "\n            setTimeout(function() {\n                var nbb_cell_id = 46;\n                var nbb_unformatted_code = \"df_owner.shape\";\n                var nbb_formatted_code = \"df_owner.shape\";\n                var nbb_cells = Jupyter.notebook.get_cells();\n                for (var i = 0; i < nbb_cells.length; ++i) {\n                    if (nbb_cells[i].input_prompt_number == nbb_cell_id) {\n                        if (nbb_cells[i].get_text() == nbb_unformatted_code) {\n                             nbb_cells[i].set_text(nbb_formatted_code);\n                        }\n                        break;\n                    }\n                }\n            }, 500);\n            ",
      "text/plain": [
       "<IPython.core.display.Javascript object>"
      ]
     },
     "metadata": {},
     "output_type": "display_data"
    }
   ],
   "source": [
    "df_owner.shape"
   ]
  },
  {
   "cell_type": "code",
   "execution_count": 47,
   "id": "b034eadb",
   "metadata": {
    "ExecuteTime": {
     "end_time": "2022-04-12T04:58:28.189546Z",
     "start_time": "2022-04-12T04:58:28.176128Z"
    }
   },
   "outputs": [
    {
     "data": {
      "application/javascript": "\n            setTimeout(function() {\n                var nbb_cell_id = 47;\n                var nbb_unformatted_code = \"df_owner = df_owner.iloc[:12927, :]\";\n                var nbb_formatted_code = \"df_owner = df_owner.iloc[:12927, :]\";\n                var nbb_cells = Jupyter.notebook.get_cells();\n                for (var i = 0; i < nbb_cells.length; ++i) {\n                    if (nbb_cells[i].input_prompt_number == nbb_cell_id) {\n                        if (nbb_cells[i].get_text() == nbb_unformatted_code) {\n                             nbb_cells[i].set_text(nbb_formatted_code);\n                        }\n                        break;\n                    }\n                }\n            }, 500);\n            ",
      "text/plain": [
       "<IPython.core.display.Javascript object>"
      ]
     },
     "metadata": {},
     "output_type": "display_data"
    }
   ],
   "source": [
    "df_owner = df_owner.iloc[:12927, :]"
   ]
  },
  {
   "cell_type": "code",
   "execution_count": 48,
   "id": "77b73a2d",
   "metadata": {
    "ExecuteTime": {
     "end_time": "2022-04-12T04:58:28.298975Z",
     "start_time": "2022-04-12T04:58:28.190775Z"
    }
   },
   "outputs": [
    {
     "data": {
      "application/javascript": "\n            setTimeout(function() {\n                var nbb_cell_id = 48;\n                var nbb_unformatted_code = \"owner_values = df_owner.values.tolist()\";\n                var nbb_formatted_code = \"owner_values = df_owner.values.tolist()\";\n                var nbb_cells = Jupyter.notebook.get_cells();\n                for (var i = 0; i < nbb_cells.length; ++i) {\n                    if (nbb_cells[i].input_prompt_number == nbb_cell_id) {\n                        if (nbb_cells[i].get_text() == nbb_unformatted_code) {\n                             nbb_cells[i].set_text(nbb_formatted_code);\n                        }\n                        break;\n                    }\n                }\n            }, 500);\n            ",
      "text/plain": [
       "<IPython.core.display.Javascript object>"
      ]
     },
     "metadata": {},
     "output_type": "display_data"
    }
   ],
   "source": [
    "owner_values = df_owner.values.tolist()"
   ]
  },
  {
   "cell_type": "code",
   "execution_count": 49,
   "id": "a45c4090",
   "metadata": {
    "ExecuteTime": {
     "end_time": "2022-04-12T04:58:28.314829Z",
     "start_time": "2022-04-12T04:58:28.300831Z"
    }
   },
   "outputs": [
    {
     "data": {
      "application/javascript": "\n            setTimeout(function() {\n                var nbb_cell_id = 49;\n                var nbb_unformatted_code = \"# owner_values[:2]\";\n                var nbb_formatted_code = \"# owner_values[:2]\";\n                var nbb_cells = Jupyter.notebook.get_cells();\n                for (var i = 0; i < nbb_cells.length; ++i) {\n                    if (nbb_cells[i].input_prompt_number == nbb_cell_id) {\n                        if (nbb_cells[i].get_text() == nbb_unformatted_code) {\n                             nbb_cells[i].set_text(nbb_formatted_code);\n                        }\n                        break;\n                    }\n                }\n            }, 500);\n            ",
      "text/plain": [
       "<IPython.core.display.Javascript object>"
      ]
     },
     "metadata": {},
     "output_type": "display_data"
    }
   ],
   "source": [
    "# owner_values[:2]"
   ]
  },
  {
   "cell_type": "code",
   "execution_count": 50,
   "id": "d7c0c2de",
   "metadata": {
    "ExecuteTime": {
     "end_time": "2022-04-12T04:58:28.329953Z",
     "start_time": "2022-04-12T04:58:28.316985Z"
    }
   },
   "outputs": [
    {
     "data": {
      "text/plain": [
       "Index(['owner_id', 'owner_card_id', 'owner_phone', 'owner_name', 'email',\n",
       "       'company_name', 'company_address', 'role', 'create_at', 'update_at',\n",
       "       'delete_at', 'bank_id_card_number', 'date_of_issue',\n",
       "       'bank_beneficiary_name', 'bank_account_number', 'bank_name',\n",
       "       'bank_province', 'bank_branch'],\n",
       "      dtype='object')"
      ]
     },
     "execution_count": 50,
     "metadata": {},
     "output_type": "execute_result"
    },
    {
     "data": {
      "application/javascript": "\n            setTimeout(function() {\n                var nbb_cell_id = 50;\n                var nbb_unformatted_code = \"df_owner.columns\";\n                var nbb_formatted_code = \"df_owner.columns\";\n                var nbb_cells = Jupyter.notebook.get_cells();\n                for (var i = 0; i < nbb_cells.length; ++i) {\n                    if (nbb_cells[i].input_prompt_number == nbb_cell_id) {\n                        if (nbb_cells[i].get_text() == nbb_unformatted_code) {\n                             nbb_cells[i].set_text(nbb_formatted_code);\n                        }\n                        break;\n                    }\n                }\n            }, 500);\n            ",
      "text/plain": [
       "<IPython.core.display.Javascript object>"
      ]
     },
     "metadata": {},
     "output_type": "display_data"
    }
   ],
   "source": [
    "df_owner.columns"
   ]
  },
  {
   "cell_type": "code",
   "execution_count": 51,
   "id": "0fbf8bcf",
   "metadata": {
    "ExecuteTime": {
     "end_time": "2022-04-12T04:58:28.345082Z",
     "start_time": "2022-04-12T04:58:28.332244Z"
    }
   },
   "outputs": [
    {
     "data": {
      "application/javascript": "\n            setTimeout(function() {\n                var nbb_cell_id = 51;\n                var nbb_unformatted_code = \"# b\\u1ecb big lost connect server n\\u00ean ph\\u1ea3i chia ra 2 kho\\u1ea3ng r\\u1ed3i insert :(())\";\n                var nbb_formatted_code = \"# b\\u1ecb big lost connect server n\\u00ean ph\\u1ea3i chia ra 2 kho\\u1ea3ng r\\u1ed3i insert :(())\";\n                var nbb_cells = Jupyter.notebook.get_cells();\n                for (var i = 0; i < nbb_cells.length; ++i) {\n                    if (nbb_cells[i].input_prompt_number == nbb_cell_id) {\n                        if (nbb_cells[i].get_text() == nbb_unformatted_code) {\n                             nbb_cells[i].set_text(nbb_formatted_code);\n                        }\n                        break;\n                    }\n                }\n            }, 500);\n            ",
      "text/plain": [
       "<IPython.core.display.Javascript object>"
      ]
     },
     "metadata": {},
     "output_type": "display_data"
    }
   ],
   "source": [
    "# bị big lost connect server nên phải chia ra 2 khoảng rồi insert :(())"
   ]
  },
  {
   "cell_type": "code",
   "execution_count": 52,
   "id": "4dc017ee",
   "metadata": {
    "ExecuteTime": {
     "end_time": "2022-04-12T04:58:28.654091Z",
     "start_time": "2022-04-12T04:58:28.347084Z"
    }
   },
   "outputs": [
    {
     "data": {
      "application/javascript": "\n            setTimeout(function() {\n                var nbb_cell_id = 52;\n                var nbb_unformatted_code = \"df_owner.to_csv(\\\"mysql_data/owner.csv\\\", index=False)\";\n                var nbb_formatted_code = \"df_owner.to_csv(\\\"mysql_data/owner.csv\\\", index=False)\";\n                var nbb_cells = Jupyter.notebook.get_cells();\n                for (var i = 0; i < nbb_cells.length; ++i) {\n                    if (nbb_cells[i].input_prompt_number == nbb_cell_id) {\n                        if (nbb_cells[i].get_text() == nbb_unformatted_code) {\n                             nbb_cells[i].set_text(nbb_formatted_code);\n                        }\n                        break;\n                    }\n                }\n            }, 500);\n            ",
      "text/plain": [
       "<IPython.core.display.Javascript object>"
      ]
     },
     "metadata": {},
     "output_type": "display_data"
    }
   ],
   "source": [
    "df_owner.to_csv(\"mysql_data/owner.csv\", index=False)"
   ]
  },
  {
   "cell_type": "code",
   "execution_count": 53,
   "id": "932f0f72",
   "metadata": {
    "ExecuteTime": {
     "end_time": "2022-04-12T04:58:28.670048Z",
     "start_time": "2022-04-12T04:58:28.656088Z"
    }
   },
   "outputs": [
    {
     "data": {
      "application/javascript": "\n            setTimeout(function() {\n                var nbb_cell_id = 53;\n                var nbb_unformatted_code = \"# conn, cur = connect_db()\\n# cols = \\\"`,`\\\".join([str(i) for i in list(df_owner.columns)])\\n# sql = (\\n#     \\\"INSERT INTO `owner` (`\\\"\\n#     + cols\\n#     + \\\"`) VALUES (\\\"\\n#     + \\\"%s,\\\" * (df_owner.shape[1] - 1)\\n#     + \\\"%s)\\\"\\n# )\\n\\n# try:\\n#     cur.executemany(sql, owner_values[:6000])  # owner_values\\n#     conn.commit()\\n# except Error as error:\\n#     # conn.rollback()\\n#     print(\\\"Failed to insert into MySQL table {}\\\".format(error))\\n# finally:\\n#     cur.close()\\n#     conn.close()\";\n                var nbb_formatted_code = \"# conn, cur = connect_db()\\n# cols = \\\"`,`\\\".join([str(i) for i in list(df_owner.columns)])\\n# sql = (\\n#     \\\"INSERT INTO `owner` (`\\\"\\n#     + cols\\n#     + \\\"`) VALUES (\\\"\\n#     + \\\"%s,\\\" * (df_owner.shape[1] - 1)\\n#     + \\\"%s)\\\"\\n# )\\n\\n# try:\\n#     cur.executemany(sql, owner_values[:6000])  # owner_values\\n#     conn.commit()\\n# except Error as error:\\n#     # conn.rollback()\\n#     print(\\\"Failed to insert into MySQL table {}\\\".format(error))\\n# finally:\\n#     cur.close()\\n#     conn.close()\";\n                var nbb_cells = Jupyter.notebook.get_cells();\n                for (var i = 0; i < nbb_cells.length; ++i) {\n                    if (nbb_cells[i].input_prompt_number == nbb_cell_id) {\n                        if (nbb_cells[i].get_text() == nbb_unformatted_code) {\n                             nbb_cells[i].set_text(nbb_formatted_code);\n                        }\n                        break;\n                    }\n                }\n            }, 500);\n            ",
      "text/plain": [
       "<IPython.core.display.Javascript object>"
      ]
     },
     "metadata": {},
     "output_type": "display_data"
    }
   ],
   "source": [
    "# conn, cur = connect_db()\n",
    "# cols = \"`,`\".join([str(i) for i in list(df_owner.columns)])\n",
    "# sql = (\n",
    "#     \"INSERT INTO `owner` (`\"\n",
    "#     + cols\n",
    "#     + \"`) VALUES (\"\n",
    "#     + \"%s,\" * (df_owner.shape[1] - 1)\n",
    "#     + \"%s)\"\n",
    "# )\n",
    "\n",
    "# try:\n",
    "#     cur.executemany(sql, owner_values[:6000])  # owner_values\n",
    "#     conn.commit()\n",
    "# except Error as error:\n",
    "#     # conn.rollback()\n",
    "#     print(\"Failed to insert into MySQL table {}\".format(error))\n",
    "# finally:\n",
    "#     cur.close()\n",
    "#     conn.close()"
   ]
  },
  {
   "cell_type": "code",
   "execution_count": 54,
   "id": "b6c768e8",
   "metadata": {
    "ExecuteTime": {
     "end_time": "2022-04-12T04:58:28.685084Z",
     "start_time": "2022-04-12T04:58:28.674037Z"
    }
   },
   "outputs": [
    {
     "data": {
      "application/javascript": "\n            setTimeout(function() {\n                var nbb_cell_id = 54;\n                var nbb_unformatted_code = \"# insert_execute_many(df_owner, \\\"Owner\\\")\";\n                var nbb_formatted_code = \"# insert_execute_many(df_owner, \\\"Owner\\\")\";\n                var nbb_cells = Jupyter.notebook.get_cells();\n                for (var i = 0; i < nbb_cells.length; ++i) {\n                    if (nbb_cells[i].input_prompt_number == nbb_cell_id) {\n                        if (nbb_cells[i].get_text() == nbb_unformatted_code) {\n                             nbb_cells[i].set_text(nbb_formatted_code);\n                        }\n                        break;\n                    }\n                }\n            }, 500);\n            ",
      "text/plain": [
       "<IPython.core.display.Javascript object>"
      ]
     },
     "metadata": {},
     "output_type": "display_data"
    }
   ],
   "source": [
    "# insert_execute_many(df_owner, \"Owner\")"
   ]
  },
  {
   "cell_type": "markdown",
   "id": "ba554251",
   "metadata": {},
   "source": [
    "### provider "
   ]
  },
  {
   "cell_type": "code",
   "execution_count": 55,
   "id": "c42683ff",
   "metadata": {
    "ExecuteTime": {
     "end_time": "2022-04-12T04:58:32.519157Z",
     "start_time": "2022-04-12T04:58:28.687014Z"
    }
   },
   "outputs": [
    {
     "data": {
      "application/javascript": "\n            setTimeout(function() {\n                var nbb_cell_id = 55;\n                var nbb_unformatted_code = \"df = pd.read_csv(\\\"data/output_restaurant.csv\\\")\";\n                var nbb_formatted_code = \"df = pd.read_csv(\\\"data/output_restaurant.csv\\\")\";\n                var nbb_cells = Jupyter.notebook.get_cells();\n                for (var i = 0; i < nbb_cells.length; ++i) {\n                    if (nbb_cells[i].input_prompt_number == nbb_cell_id) {\n                        if (nbb_cells[i].get_text() == nbb_unformatted_code) {\n                             nbb_cells[i].set_text(nbb_formatted_code);\n                        }\n                        break;\n                    }\n                }\n            }, 500);\n            ",
      "text/plain": [
       "<IPython.core.display.Javascript object>"
      ]
     },
     "metadata": {},
     "output_type": "display_data"
    }
   ],
   "source": [
    "df = pd.read_csv(\"data/output_restaurant.csv\")\n"
   ]
  },
  {
   "cell_type": "code",
   "execution_count": 56,
   "id": "83b94840",
   "metadata": {
    "ExecuteTime": {
     "end_time": "2022-04-12T04:58:33.110161Z",
     "start_time": "2022-04-12T04:58:32.521100Z"
    }
   },
   "outputs": [
    {
     "name": "stdout",
     "output_type": "stream",
     "text": [
      "<class 'pandas.core.frame.DataFrame'>\n",
      "RangeIndex: 511450 entries, 0 to 511449\n",
      "Data columns (total 14 columns):\n",
      " #   Column                  Non-Null Count   Dtype  \n",
      "---  ------                  --------------   -----  \n",
      " 0   restaurant_description  290189 non-null  object \n",
      " 1   rating                  511450 non-null  float64\n",
      " 2   num_review              511450 non-null  int64  \n",
      " 3   menu_category           509449 non-null  object \n",
      " 4   product_name            509449 non-null  object \n",
      " 5   price                   504983 non-null  float64\n",
      " 6   product_description     286605 non-null  object \n",
      " 7   status                  482712 non-null  object \n",
      " 8   product_image           253880 non-null  object \n",
      " 9   restaurant_url          511450 non-null  object \n",
      " 10  restaurant_name         511450 non-null  object \n",
      " 11  avt_restaurant          511202 non-null  object \n",
      " 12  restaurant_category     511450 non-null  object \n",
      " 13  city                    511450 non-null  object \n",
      "dtypes: float64(2), int64(1), object(11)\n",
      "memory usage: 54.6+ MB\n"
     ]
    },
    {
     "data": {
      "application/javascript": "\n            setTimeout(function() {\n                var nbb_cell_id = 56;\n                var nbb_unformatted_code = \"df.info()\";\n                var nbb_formatted_code = \"df.info()\";\n                var nbb_cells = Jupyter.notebook.get_cells();\n                for (var i = 0; i < nbb_cells.length; ++i) {\n                    if (nbb_cells[i].input_prompt_number == nbb_cell_id) {\n                        if (nbb_cells[i].get_text() == nbb_unformatted_code) {\n                             nbb_cells[i].set_text(nbb_formatted_code);\n                        }\n                        break;\n                    }\n                }\n            }, 500);\n            ",
      "text/plain": [
       "<IPython.core.display.Javascript object>"
      ]
     },
     "metadata": {},
     "output_type": "display_data"
    }
   ],
   "source": [
    "df.info()"
   ]
  },
  {
   "cell_type": "code",
   "execution_count": 57,
   "id": "094467d6",
   "metadata": {
    "ExecuteTime": {
     "end_time": "2022-04-12T04:58:33.435082Z",
     "start_time": "2022-04-12T04:58:33.111072Z"
    }
   },
   "outputs": [
    {
     "data": {
      "application/javascript": "\n            setTimeout(function() {\n                var nbb_cell_id = 57;\n                var nbb_unformatted_code = \"df.restaurant_category = df.restaurant_category.fillna(\\\"others\\\")\\ndf.menu_category = df.menu_category.fillna(\\\"others\\\")\\ndf = df[df.product_name.notna()]\\ndf = df[df.price.notna()]\\n\\ndf = df.reset_index(drop=True)\";\n                var nbb_formatted_code = \"df.restaurant_category = df.restaurant_category.fillna(\\\"others\\\")\\ndf.menu_category = df.menu_category.fillna(\\\"others\\\")\\ndf = df[df.product_name.notna()]\\ndf = df[df.price.notna()]\\n\\ndf = df.reset_index(drop=True)\";\n                var nbb_cells = Jupyter.notebook.get_cells();\n                for (var i = 0; i < nbb_cells.length; ++i) {\n                    if (nbb_cells[i].input_prompt_number == nbb_cell_id) {\n                        if (nbb_cells[i].get_text() == nbb_unformatted_code) {\n                             nbb_cells[i].set_text(nbb_formatted_code);\n                        }\n                        break;\n                    }\n                }\n            }, 500);\n            ",
      "text/plain": [
       "<IPython.core.display.Javascript object>"
      ]
     },
     "metadata": {},
     "output_type": "display_data"
    }
   ],
   "source": [
    "df.restaurant_category = df.restaurant_category.fillna(\"others\")\n",
    "df.menu_category = df.menu_category.fillna(\"others\")\n",
    "df = df[df.product_name.notna()]\n",
    "df = df[df.price.notna()]\n",
    "\n",
    "df = df.reset_index(drop=True)"
   ]
  },
  {
   "cell_type": "code",
   "execution_count": null,
   "id": "65fb5f62",
   "metadata": {},
   "outputs": [],
   "source": []
  },
  {
   "cell_type": "code",
   "execution_count": null,
   "id": "3fbf9f3f",
   "metadata": {},
   "outputs": [],
   "source": []
  },
  {
   "cell_type": "code",
   "execution_count": null,
   "id": "f87afb38",
   "metadata": {},
   "outputs": [],
   "source": []
  },
  {
   "cell_type": "code",
   "execution_count": 58,
   "id": "af903100",
   "metadata": {
    "ExecuteTime": {
     "end_time": "2022-04-12T04:58:33.698945Z",
     "start_time": "2022-04-12T04:58:33.437081Z"
    }
   },
   "outputs": [
    {
     "data": {
      "application/javascript": "\n            setTimeout(function() {\n                var nbb_cell_id = 58;\n                var nbb_unformatted_code = \"le = preprocessing.LabelEncoder()\\ndf[\\\"product_id\\\"] = le.fit_transform(df[\\\"product_name\\\"])\\n\\ndf[\\\"product_id\\\"] = df[\\\"product_id\\\"].apply(lambda x: x + 1000000)\";\n                var nbb_formatted_code = \"le = preprocessing.LabelEncoder()\\ndf[\\\"product_id\\\"] = le.fit_transform(df[\\\"product_name\\\"])\\n\\ndf[\\\"product_id\\\"] = df[\\\"product_id\\\"].apply(lambda x: x + 1000000)\";\n                var nbb_cells = Jupyter.notebook.get_cells();\n                for (var i = 0; i < nbb_cells.length; ++i) {\n                    if (nbb_cells[i].input_prompt_number == nbb_cell_id) {\n                        if (nbb_cells[i].get_text() == nbb_unformatted_code) {\n                             nbb_cells[i].set_text(nbb_formatted_code);\n                        }\n                        break;\n                    }\n                }\n            }, 500);\n            ",
      "text/plain": [
       "<IPython.core.display.Javascript object>"
      ]
     },
     "metadata": {},
     "output_type": "display_data"
    }
   ],
   "source": [
    "le = preprocessing.LabelEncoder()\n",
    "df[\"product_id\"] = le.fit_transform(df[\"product_name\"])\n",
    "\n",
    "df[\"product_id\"] = df[\"product_id\"].apply(lambda x: x + 1000000)"
   ]
  },
  {
   "cell_type": "code",
   "execution_count": 59,
   "id": "672fa5e5",
   "metadata": {
    "ExecuteTime": {
     "end_time": "2022-04-12T04:58:33.714903Z",
     "start_time": "2022-04-12T04:58:33.700941Z"
    }
   },
   "outputs": [
    {
     "data": {
      "application/javascript": "\n            setTimeout(function() {\n                var nbb_cell_id = 59;\n                var nbb_unformatted_code = \"# # restaurant_url_group = df.groupby(\\\"restaurant_url\\\")\\n\\n# id_range = list(range(1000000, 1000000 + len(df), 1))\\n# df[\\\"provider_id\\\"] = df[[\\\"restaurant_url\\\"]].sum(axis=1).map(hash)\\n\\n# df[\\\"provider_id\\\"] = df.groupby(\\\"restaurant_url\\\").ngroup()\\n# df[\\\"provider_id\\\"] = df[\\\"provider_id\\\"] + 1000000\";\n                var nbb_formatted_code = \"# # restaurant_url_group = df.groupby(\\\"restaurant_url\\\")\\n\\n# id_range = list(range(1000000, 1000000 + len(df), 1))\\n# df[\\\"provider_id\\\"] = df[[\\\"restaurant_url\\\"]].sum(axis=1).map(hash)\\n\\n# df[\\\"provider_id\\\"] = df.groupby(\\\"restaurant_url\\\").ngroup()\\n# df[\\\"provider_id\\\"] = df[\\\"provider_id\\\"] + 1000000\";\n                var nbb_cells = Jupyter.notebook.get_cells();\n                for (var i = 0; i < nbb_cells.length; ++i) {\n                    if (nbb_cells[i].input_prompt_number == nbb_cell_id) {\n                        if (nbb_cells[i].get_text() == nbb_unformatted_code) {\n                             nbb_cells[i].set_text(nbb_formatted_code);\n                        }\n                        break;\n                    }\n                }\n            }, 500);\n            ",
      "text/plain": [
       "<IPython.core.display.Javascript object>"
      ]
     },
     "metadata": {},
     "output_type": "display_data"
    }
   ],
   "source": [
    "# # restaurant_url_group = df.groupby(\"restaurant_url\")\n",
    "\n",
    "# id_range = list(range(1000000, 1000000 + len(df), 1))\n",
    "# df[\"provider_id\"] = df[[\"restaurant_url\"]].sum(axis=1).map(hash)\n",
    "\n",
    "# df[\"provider_id\"] = df.groupby(\"restaurant_url\").ngroup()\n",
    "# df[\"provider_id\"] = df[\"provider_id\"] + 1000000"
   ]
  },
  {
   "cell_type": "code",
   "execution_count": 59,
   "id": "d1b9fad4",
   "metadata": {
    "ExecuteTime": {
     "end_time": "2022-04-12T04:58:33.992642Z",
     "start_time": "2022-04-12T04:58:33.716897Z"
    }
   },
   "outputs": [
    {
     "data": {
      "application/javascript": "\n            setTimeout(function() {\n                var nbb_cell_id = 59;\n                var nbb_unformatted_code = \"le = preprocessing.LabelEncoder()\\ndf[\\\"provider_id\\\"] = le.fit_transform(df[\\\"restaurant_url\\\"])\\n\\ndf[\\\"provider_id\\\"] = df[\\\"provider_id\\\"].apply(lambda x: x + 1000000)\";\n                var nbb_formatted_code = \"le = preprocessing.LabelEncoder()\\ndf[\\\"provider_id\\\"] = le.fit_transform(df[\\\"restaurant_url\\\"])\\n\\ndf[\\\"provider_id\\\"] = df[\\\"provider_id\\\"].apply(lambda x: x + 1000000)\";\n                var nbb_cells = Jupyter.notebook.get_cells();\n                for (var i = 0; i < nbb_cells.length; ++i) {\n                    if (nbb_cells[i].input_prompt_number == nbb_cell_id) {\n                        if (nbb_cells[i].get_text() == nbb_unformatted_code) {\n                             nbb_cells[i].set_text(nbb_formatted_code);\n                        }\n                        break;\n                    }\n                }\n            }, 500);\n            ",
      "text/plain": [
       "<IPython.core.display.Javascript object>"
      ]
     },
     "metadata": {},
     "output_type": "display_data"
    }
   ],
   "source": [
    "le = preprocessing.LabelEncoder()\n",
    "df[\"provider_id\"] = le.fit_transform(df[\"restaurant_url\"])\n",
    "\n",
    "df[\"provider_id\"] = df[\"provider_id\"].apply(lambda x: x + 1000000)"
   ]
  },
  {
   "cell_type": "code",
   "execution_count": 61,
   "id": "cd40544d",
   "metadata": {
    "ExecuteTime": {
     "end_time": "2022-04-12T04:58:34.008236Z",
     "start_time": "2022-04-12T04:58:33.993639Z"
    }
   },
   "outputs": [
    {
     "data": {
      "application/javascript": "\n            setTimeout(function() {\n                var nbb_cell_id = 61;\n                var nbb_unformatted_code = \"# df[df.price.isna()].to_csv(\\\"test.csv\\\", index=False)\";\n                var nbb_formatted_code = \"# df[df.price.isna()].to_csv(\\\"test.csv\\\", index=False)\";\n                var nbb_cells = Jupyter.notebook.get_cells();\n                for (var i = 0; i < nbb_cells.length; ++i) {\n                    if (nbb_cells[i].input_prompt_number == nbb_cell_id) {\n                        if (nbb_cells[i].get_text() == nbb_unformatted_code) {\n                             nbb_cells[i].set_text(nbb_formatted_code);\n                        }\n                        break;\n                    }\n                }\n            }, 500);\n            ",
      "text/plain": [
       "<IPython.core.display.Javascript object>"
      ]
     },
     "metadata": {},
     "output_type": "display_data"
    }
   ],
   "source": [
    "# df[df.price.isna()].to_csv(\"test.csv\", index=False)"
   ]
  },
  {
   "cell_type": "code",
   "execution_count": 62,
   "id": "225cae09",
   "metadata": {
    "ExecuteTime": {
     "end_time": "2022-04-12T04:58:34.023999Z",
     "start_time": "2022-04-12T04:58:34.009225Z"
    }
   },
   "outputs": [
    {
     "data": {
      "application/javascript": "\n            setTimeout(function() {\n                var nbb_cell_id = 62;\n                var nbb_unformatted_code = \"# df.price = df.price.interpolate()\";\n                var nbb_formatted_code = \"# df.price = df.price.interpolate()\";\n                var nbb_cells = Jupyter.notebook.get_cells();\n                for (var i = 0; i < nbb_cells.length; ++i) {\n                    if (nbb_cells[i].input_prompt_number == nbb_cell_id) {\n                        if (nbb_cells[i].get_text() == nbb_unformatted_code) {\n                             nbb_cells[i].set_text(nbb_formatted_code);\n                        }\n                        break;\n                    }\n                }\n            }, 500);\n            ",
      "text/plain": [
       "<IPython.core.display.Javascript object>"
      ]
     },
     "metadata": {},
     "output_type": "display_data"
    }
   ],
   "source": [
    "# df.price = df.price.interpolate()"
   ]
  },
  {
   "cell_type": "code",
   "execution_count": 60,
   "id": "80d7ec8c",
   "metadata": {
    "ExecuteTime": {
     "end_time": "2022-04-12T04:58:34.733806Z",
     "start_time": "2022-04-12T04:58:34.024995Z"
    }
   },
   "outputs": [
    {
     "name": "stdout",
     "output_type": "stream",
     "text": [
      "<class 'pandas.core.frame.DataFrame'>\n",
      "RangeIndex: 504914 entries, 0 to 504913\n",
      "Data columns (total 16 columns):\n",
      " #   Column                  Non-Null Count   Dtype  \n",
      "---  ------                  --------------   -----  \n",
      " 0   restaurant_description  286851 non-null  object \n",
      " 1   rating                  504914 non-null  float64\n",
      " 2   num_review              504914 non-null  int64  \n",
      " 3   menu_category           504914 non-null  object \n",
      " 4   product_name            504914 non-null  object \n",
      " 5   price                   504914 non-null  float64\n",
      " 6   product_description     282070 non-null  object \n",
      " 7   status                  476176 non-null  object \n",
      " 8   product_image           250999 non-null  object \n",
      " 9   restaurant_url          504914 non-null  object \n",
      " 10  restaurant_name         504914 non-null  object \n",
      " 11  avt_restaurant          504666 non-null  object \n",
      " 12  restaurant_category     504914 non-null  object \n",
      " 13  city                    504914 non-null  object \n",
      " 14  product_id              504914 non-null  int64  \n",
      " 15  provider_id             504914 non-null  int64  \n",
      "dtypes: float64(2), int64(3), object(11)\n",
      "memory usage: 61.6+ MB\n"
     ]
    },
    {
     "data": {
      "application/javascript": "\n            setTimeout(function() {\n                var nbb_cell_id = 60;\n                var nbb_unformatted_code = \"df.info()\";\n                var nbb_formatted_code = \"df.info()\";\n                var nbb_cells = Jupyter.notebook.get_cells();\n                for (var i = 0; i < nbb_cells.length; ++i) {\n                    if (nbb_cells[i].input_prompt_number == nbb_cell_id) {\n                        if (nbb_cells[i].get_text() == nbb_unformatted_code) {\n                             nbb_cells[i].set_text(nbb_formatted_code);\n                        }\n                        break;\n                    }\n                }\n            }, 500);\n            ",
      "text/plain": [
       "<IPython.core.display.Javascript object>"
      ]
     },
     "metadata": {},
     "output_type": "display_data"
    }
   ],
   "source": [
    "df.info()"
   ]
  },
  {
   "cell_type": "code",
   "execution_count": 61,
   "id": "93c07003",
   "metadata": {
    "ExecuteTime": {
     "end_time": "2022-04-12T04:58:34.748875Z",
     "start_time": "2022-04-12T04:58:34.735647Z"
    }
   },
   "outputs": [
    {
     "data": {
      "application/javascript": "\n            setTimeout(function() {\n                var nbb_cell_id = 61;\n                var nbb_unformatted_code = \"# df[\\\"Q1_price\\\"] = df.groupby(\\\"provider_id\\\").price.quantile(0.25)\\n# df[\\\"Q3_price\\\"] = df.groupby(\\\"provider_id\\\").price.quantile(0.75)\";\n                var nbb_formatted_code = \"# df[\\\"Q1_price\\\"] = df.groupby(\\\"provider_id\\\").price.quantile(0.25)\\n# df[\\\"Q3_price\\\"] = df.groupby(\\\"provider_id\\\").price.quantile(0.75)\";\n                var nbb_cells = Jupyter.notebook.get_cells();\n                for (var i = 0; i < nbb_cells.length; ++i) {\n                    if (nbb_cells[i].input_prompt_number == nbb_cell_id) {\n                        if (nbb_cells[i].get_text() == nbb_unformatted_code) {\n                             nbb_cells[i].set_text(nbb_formatted_code);\n                        }\n                        break;\n                    }\n                }\n            }, 500);\n            ",
      "text/plain": [
       "<IPython.core.display.Javascript object>"
      ]
     },
     "metadata": {},
     "output_type": "display_data"
    }
   ],
   "source": [
    "# df[\"Q1_price\"] = df.groupby(\"provider_id\").price.quantile(0.25)\n",
    "# df[\"Q3_price\"] = df.groupby(\"provider_id\").price.quantile(0.75)"
   ]
  },
  {
   "cell_type": "code",
   "execution_count": 62,
   "id": "7bffad8f",
   "metadata": {
    "ExecuteTime": {
     "end_time": "2022-04-12T04:58:34.964394Z",
     "start_time": "2022-04-12T04:58:34.750997Z"
    }
   },
   "outputs": [
    {
     "data": {
      "application/javascript": "\n            setTimeout(function() {\n                var nbb_cell_id = 62;\n                var nbb_unformatted_code = \"df_test = df.merge(\\n    df.groupby(\\\"provider_id\\\").price.quantile(0.25).to_frame(), on=\\\"provider_id\\\"\\n).copy()\";\n                var nbb_formatted_code = \"df_test = df.merge(\\n    df.groupby(\\\"provider_id\\\").price.quantile(0.25).to_frame(), on=\\\"provider_id\\\"\\n).copy()\";\n                var nbb_cells = Jupyter.notebook.get_cells();\n                for (var i = 0; i < nbb_cells.length; ++i) {\n                    if (nbb_cells[i].input_prompt_number == nbb_cell_id) {\n                        if (nbb_cells[i].get_text() == nbb_unformatted_code) {\n                             nbb_cells[i].set_text(nbb_formatted_code);\n                        }\n                        break;\n                    }\n                }\n            }, 500);\n            ",
      "text/plain": [
       "<IPython.core.display.Javascript object>"
      ]
     },
     "metadata": {},
     "output_type": "display_data"
    }
   ],
   "source": [
    "df_test = df.merge(\n",
    "    df.groupby(\"provider_id\").price.quantile(0.25).to_frame(), on=\"provider_id\"\n",
    ").copy()"
   ]
  },
  {
   "cell_type": "code",
   "execution_count": 63,
   "id": "8c93ff09",
   "metadata": {
    "ExecuteTime": {
     "end_time": "2022-04-12T05:02:53.207649Z",
     "start_time": "2022-04-12T05:02:53.181678Z"
    }
   },
   "outputs": [
    {
     "data": {
      "text/html": [
       "<div>\n",
       "<style scoped>\n",
       "    .dataframe tbody tr th:only-of-type {\n",
       "        vertical-align: middle;\n",
       "    }\n",
       "\n",
       "    .dataframe tbody tr th {\n",
       "        vertical-align: top;\n",
       "    }\n",
       "\n",
       "    .dataframe thead th {\n",
       "        text-align: right;\n",
       "    }\n",
       "</style>\n",
       "<table border=\"1\" class=\"dataframe\">\n",
       "  <thead>\n",
       "    <tr style=\"text-align: right;\">\n",
       "      <th></th>\n",
       "      <th>restaurant_description</th>\n",
       "      <th>rating</th>\n",
       "      <th>num_review</th>\n",
       "      <th>menu_category</th>\n",
       "      <th>product_name</th>\n",
       "      <th>price_x</th>\n",
       "      <th>product_description</th>\n",
       "      <th>status</th>\n",
       "      <th>product_image</th>\n",
       "      <th>restaurant_url</th>\n",
       "      <th>restaurant_name</th>\n",
       "      <th>avt_restaurant</th>\n",
       "      <th>restaurant_category</th>\n",
       "      <th>city</th>\n",
       "      <th>product_id</th>\n",
       "      <th>provider_id</th>\n",
       "      <th>price_y</th>\n",
       "    </tr>\n",
       "  </thead>\n",
       "  <tbody>\n",
       "    <tr>\n",
       "      <th>0</th>\n",
       "      <td>NaN</td>\n",
       "      <td>3.6</td>\n",
       "      <td>82</td>\n",
       "      <td>Most Popular</td>\n",
       "      <td>Chicken McMuffin Extra Value Meal [523.0 Cals]</td>\n",
       "      <td>5.69</td>\n",
       "      <td>Chicken McMuffin Extra Value Meal [523.0 Cals]</td>\n",
       "      <td>In stock</td>\n",
       "      <td>https://d1ralsognjng37.cloudfront.net/81325489...</td>\n",
       "      <td>https://www.ubereats.com/ca/store/mcdonalds-67...</td>\n",
       "      <td>McDonald's (675 Upper James Street)</td>\n",
       "      <td>https://cn-geo1.uber.com/image-proc/resize/eat...</td>\n",
       "      <td>24-hours</td>\n",
       "      <td>hamilton</td>\n",
       "      <td>1002540</td>\n",
       "      <td>1000047</td>\n",
       "      <td>1.59</td>\n",
       "    </tr>\n",
       "  </tbody>\n",
       "</table>\n",
       "</div>"
      ],
      "text/plain": [
       "  restaurant_description  rating  num_review menu_category  \\\n",
       "0                    NaN     3.6          82  Most Popular   \n",
       "\n",
       "                                     product_name  price_x  \\\n",
       "0  Chicken McMuffin Extra Value Meal [523.0 Cals]     5.69   \n",
       "\n",
       "                              product_description    status  \\\n",
       "0  Chicken McMuffin Extra Value Meal [523.0 Cals]  In stock   \n",
       "\n",
       "                                       product_image  \\\n",
       "0  https://d1ralsognjng37.cloudfront.net/81325489...   \n",
       "\n",
       "                                      restaurant_url  \\\n",
       "0  https://www.ubereats.com/ca/store/mcdonalds-67...   \n",
       "\n",
       "                       restaurant_name  \\\n",
       "0  McDonald's (675 Upper James Street)   \n",
       "\n",
       "                                      avt_restaurant restaurant_category  \\\n",
       "0  https://cn-geo1.uber.com/image-proc/resize/eat...            24-hours   \n",
       "\n",
       "       city  product_id  provider_id  price_y  \n",
       "0  hamilton     1002540      1000047     1.59  "
      ]
     },
     "execution_count": 63,
     "metadata": {},
     "output_type": "execute_result"
    },
    {
     "data": {
      "application/javascript": "\n            setTimeout(function() {\n                var nbb_cell_id = 63;\n                var nbb_unformatted_code = \"df_test.head(1)\";\n                var nbb_formatted_code = \"df_test.head(1)\";\n                var nbb_cells = Jupyter.notebook.get_cells();\n                for (var i = 0; i < nbb_cells.length; ++i) {\n                    if (nbb_cells[i].input_prompt_number == nbb_cell_id) {\n                        if (nbb_cells[i].get_text() == nbb_unformatted_code) {\n                             nbb_cells[i].set_text(nbb_formatted_code);\n                        }\n                        break;\n                    }\n                }\n            }, 500);\n            ",
      "text/plain": [
       "<IPython.core.display.Javascript object>"
      ]
     },
     "metadata": {},
     "output_type": "display_data"
    }
   ],
   "source": [
    "df_test.head(1)"
   ]
  },
  {
   "cell_type": "code",
   "execution_count": 64,
   "id": "57f1a562",
   "metadata": {
    "ExecuteTime": {
     "end_time": "2022-04-12T05:01:06.373029Z",
     "start_time": "2022-04-12T05:01:06.333749Z"
    }
   },
   "outputs": [
    {
     "data": {
      "application/javascript": "\n            setTimeout(function() {\n                var nbb_cell_id = 64;\n                var nbb_unformatted_code = \"df_test = df_test.rename(columns={\\\"price_x\\\": \\\"price\\\", \\\"price_y\\\": \\\"price_min\\\"})\";\n                var nbb_formatted_code = \"df_test = df_test.rename(columns={\\\"price_x\\\": \\\"price\\\", \\\"price_y\\\": \\\"price_min\\\"})\";\n                var nbb_cells = Jupyter.notebook.get_cells();\n                for (var i = 0; i < nbb_cells.length; ++i) {\n                    if (nbb_cells[i].input_prompt_number == nbb_cell_id) {\n                        if (nbb_cells[i].get_text() == nbb_unformatted_code) {\n                             nbb_cells[i].set_text(nbb_formatted_code);\n                        }\n                        break;\n                    }\n                }\n            }, 500);\n            ",
      "text/plain": [
       "<IPython.core.display.Javascript object>"
      ]
     },
     "metadata": {},
     "output_type": "display_data"
    }
   ],
   "source": [
    "df_test = df_test.rename(columns={\"price_x\": \"price\", \"price_y\": \"price_min\"})"
   ]
  },
  {
   "cell_type": "code",
   "execution_count": 65,
   "id": "9f23889f",
   "metadata": {
    "ExecuteTime": {
     "end_time": "2022-04-12T05:02:32.809486Z",
     "start_time": "2022-04-12T05:02:32.677532Z"
    }
   },
   "outputs": [
    {
     "data": {
      "application/javascript": "\n            setTimeout(function() {\n                var nbb_cell_id = 65;\n                var nbb_unformatted_code = \"df_test = df_test.merge(\\n    df_test.groupby(\\\"provider_id\\\").price.quantile(0.75).to_frame(), on=\\\"provider_id\\\"\\n)\";\n                var nbb_formatted_code = \"df_test = df_test.merge(\\n    df_test.groupby(\\\"provider_id\\\").price.quantile(0.75).to_frame(), on=\\\"provider_id\\\"\\n)\";\n                var nbb_cells = Jupyter.notebook.get_cells();\n                for (var i = 0; i < nbb_cells.length; ++i) {\n                    if (nbb_cells[i].input_prompt_number == nbb_cell_id) {\n                        if (nbb_cells[i].get_text() == nbb_unformatted_code) {\n                             nbb_cells[i].set_text(nbb_formatted_code);\n                        }\n                        break;\n                    }\n                }\n            }, 500);\n            ",
      "text/plain": [
       "<IPython.core.display.Javascript object>"
      ]
     },
     "metadata": {},
     "output_type": "display_data"
    }
   ],
   "source": [
    "df_test = df_test.merge(\n",
    "    df_test.groupby(\"provider_id\").price.quantile(0.75).to_frame(), on=\"provider_id\"\n",
    ")"
   ]
  },
  {
   "cell_type": "code",
   "execution_count": 66,
   "id": "8a06ffa9",
   "metadata": {
    "ExecuteTime": {
     "end_time": "2022-04-12T05:02:50.285710Z",
     "start_time": "2022-04-12T05:02:50.233977Z"
    }
   },
   "outputs": [
    {
     "data": {
      "application/javascript": "\n            setTimeout(function() {\n                var nbb_cell_id = 66;\n                var nbb_unformatted_code = \"df_test = df_test.rename(columns={\\\"price_x\\\": \\\"price\\\", \\\"price_y\\\": \\\"price_max\\\"})\";\n                var nbb_formatted_code = \"df_test = df_test.rename(columns={\\\"price_x\\\": \\\"price\\\", \\\"price_y\\\": \\\"price_max\\\"})\";\n                var nbb_cells = Jupyter.notebook.get_cells();\n                for (var i = 0; i < nbb_cells.length; ++i) {\n                    if (nbb_cells[i].input_prompt_number == nbb_cell_id) {\n                        if (nbb_cells[i].get_text() == nbb_unformatted_code) {\n                             nbb_cells[i].set_text(nbb_formatted_code);\n                        }\n                        break;\n                    }\n                }\n            }, 500);\n            ",
      "text/plain": [
       "<IPython.core.display.Javascript object>"
      ]
     },
     "metadata": {},
     "output_type": "display_data"
    }
   ],
   "source": [
    "df_test = df_test.rename(columns={\"price_x\": \"price\", \"price_y\": \"price_max\"})"
   ]
  },
  {
   "cell_type": "code",
   "execution_count": 67,
   "id": "06d4c04b",
   "metadata": {
    "ExecuteTime": {
     "end_time": "2022-04-12T05:03:30.744400Z",
     "start_time": "2022-04-12T05:03:30.704964Z"
    }
   },
   "outputs": [
    {
     "data": {
      "application/javascript": "\n            setTimeout(function() {\n                var nbb_cell_id = 67;\n                var nbb_unformatted_code = \"df = df_test.copy()\";\n                var nbb_formatted_code = \"df = df_test.copy()\";\n                var nbb_cells = Jupyter.notebook.get_cells();\n                for (var i = 0; i < nbb_cells.length; ++i) {\n                    if (nbb_cells[i].input_prompt_number == nbb_cell_id) {\n                        if (nbb_cells[i].get_text() == nbb_unformatted_code) {\n                             nbb_cells[i].set_text(nbb_formatted_code);\n                        }\n                        break;\n                    }\n                }\n            }, 500);\n            ",
      "text/plain": [
       "<IPython.core.display.Javascript object>"
      ]
     },
     "metadata": {},
     "output_type": "display_data"
    }
   ],
   "source": [
    "df = df_test.copy()"
   ]
  },
  {
   "cell_type": "code",
   "execution_count": null,
   "id": "9d0cf7b0",
   "metadata": {},
   "outputs": [],
   "source": []
  },
  {
   "cell_type": "code",
   "execution_count": 68,
   "id": "ff94108f",
   "metadata": {
    "ExecuteTime": {
     "end_time": "2022-04-08T07:15:08.770668Z",
     "start_time": "2022-04-08T07:15:08.760723Z"
    }
   },
   "outputs": [
    {
     "data": {
      "application/javascript": "\n            setTimeout(function() {\n                var nbb_cell_id = 68;\n                var nbb_unformatted_code = \"# df.product_image = df.product_image.apply(lambda x: str(x).replace(\\\"https://\\\", \\\"\\\"))\\n# df.avt_restaurant = df.avt_restaurant.apply(lambda x: str(x).replace(\\\"https://\\\", \\\"\\\"))\";\n                var nbb_formatted_code = \"# df.product_image = df.product_image.apply(lambda x: str(x).replace(\\\"https://\\\", \\\"\\\"))\\n# df.avt_restaurant = df.avt_restaurant.apply(lambda x: str(x).replace(\\\"https://\\\", \\\"\\\"))\";\n                var nbb_cells = Jupyter.notebook.get_cells();\n                for (var i = 0; i < nbb_cells.length; ++i) {\n                    if (nbb_cells[i].input_prompt_number == nbb_cell_id) {\n                        if (nbb_cells[i].get_text() == nbb_unformatted_code) {\n                             nbb_cells[i].set_text(nbb_formatted_code);\n                        }\n                        break;\n                    }\n                }\n            }, 500);\n            ",
      "text/plain": [
       "<IPython.core.display.Javascript object>"
      ]
     },
     "metadata": {},
     "output_type": "display_data"
    }
   ],
   "source": [
    "# df.product_image = df.product_image.apply(lambda x: str(x).replace(\"https://\", \"\"))\n",
    "# df.avt_restaurant = df.avt_restaurant.apply(lambda x: str(x).replace(\"https://\", \"\"))"
   ]
  },
  {
   "cell_type": "code",
   "execution_count": 69,
   "id": "96b26fcb",
   "metadata": {
    "ExecuteTime": {
     "end_time": "2022-04-12T05:06:15.730731Z",
     "start_time": "2022-04-12T05:06:15.712544Z"
    }
   },
   "outputs": [
    {
     "data": {
      "application/javascript": "\n            setTimeout(function() {\n                var nbb_cell_id = 69;\n                var nbb_unformatted_code = \"# df.head()\";\n                var nbb_formatted_code = \"# df.head()\";\n                var nbb_cells = Jupyter.notebook.get_cells();\n                for (var i = 0; i < nbb_cells.length; ++i) {\n                    if (nbb_cells[i].input_prompt_number == nbb_cell_id) {\n                        if (nbb_cells[i].get_text() == nbb_unformatted_code) {\n                             nbb_cells[i].set_text(nbb_formatted_code);\n                        }\n                        break;\n                    }\n                }\n            }, 500);\n            ",
      "text/plain": [
       "<IPython.core.display.Javascript object>"
      ]
     },
     "metadata": {},
     "output_type": "display_data"
    }
   ],
   "source": [
    "# df.head()"
   ]
  },
  {
   "cell_type": "code",
   "execution_count": 70,
   "id": "0cbdd66b",
   "metadata": {
    "ExecuteTime": {
     "end_time": "2022-04-12T05:06:22.814156Z",
     "start_time": "2022-04-12T05:06:22.231554Z"
    }
   },
   "outputs": [
    {
     "name": "stdout",
     "output_type": "stream",
     "text": [
      "<class 'pandas.core.frame.DataFrame'>\n",
      "Int64Index: 504914 entries, 0 to 504913\n",
      "Data columns (total 18 columns):\n",
      " #   Column                  Non-Null Count   Dtype  \n",
      "---  ------                  --------------   -----  \n",
      " 0   restaurant_description  286851 non-null  object \n",
      " 1   rating                  504914 non-null  float64\n",
      " 2   num_review              504914 non-null  int64  \n",
      " 3   menu_category           504914 non-null  object \n",
      " 4   product_name            504914 non-null  object \n",
      " 5   price                   504914 non-null  float64\n",
      " 6   product_description     282070 non-null  object \n",
      " 7   status                  476176 non-null  object \n",
      " 8   product_image           250999 non-null  object \n",
      " 9   restaurant_url          504914 non-null  object \n",
      " 10  restaurant_name         504914 non-null  object \n",
      " 11  avt_restaurant          504666 non-null  object \n",
      " 12  restaurant_category     504914 non-null  object \n",
      " 13  city                    504914 non-null  object \n",
      " 14  product_id              504914 non-null  int64  \n",
      " 15  provider_id             504914 non-null  int64  \n",
      " 16  price_min               504914 non-null  float64\n",
      " 17  price_max               504914 non-null  float64\n",
      "dtypes: float64(4), int64(3), object(11)\n",
      "memory usage: 73.2+ MB\n"
     ]
    },
    {
     "data": {
      "application/javascript": "\n            setTimeout(function() {\n                var nbb_cell_id = 70;\n                var nbb_unformatted_code = \"df.info()\";\n                var nbb_formatted_code = \"df.info()\";\n                var nbb_cells = Jupyter.notebook.get_cells();\n                for (var i = 0; i < nbb_cells.length; ++i) {\n                    if (nbb_cells[i].input_prompt_number == nbb_cell_id) {\n                        if (nbb_cells[i].get_text() == nbb_unformatted_code) {\n                             nbb_cells[i].set_text(nbb_formatted_code);\n                        }\n                        break;\n                    }\n                }\n            }, 500);\n            ",
      "text/plain": [
       "<IPython.core.display.Javascript object>"
      ]
     },
     "metadata": {},
     "output_type": "display_data"
    }
   ],
   "source": [
    "df.info()"
   ]
  },
  {
   "cell_type": "code",
   "execution_count": null,
   "id": "dfcc0d94",
   "metadata": {},
   "outputs": [],
   "source": []
  },
  {
   "cell_type": "code",
   "execution_count": null,
   "id": "cac9fc2e",
   "metadata": {},
   "outputs": [],
   "source": []
  },
  {
   "cell_type": "code",
   "execution_count": 71,
   "id": "58de4fc8",
   "metadata": {
    "ExecuteTime": {
     "end_time": "2022-04-12T05:11:48.159636Z",
     "start_time": "2022-04-12T05:11:48.119639Z"
    }
   },
   "outputs": [
    {
     "data": {
      "application/javascript": "\n            setTimeout(function() {\n                var nbb_cell_id = 71;\n                var nbb_unformatted_code = \"df_provider = df[\\n    [\\n        \\\"provider_id\\\",\\n        \\\"restaurant_url\\\",\\n        \\\"restaurant_name\\\",\\n        \\\"restaurant_category\\\",\\n        \\\"avt_restaurant\\\",\\n        \\\"restaurant_description\\\",\\n        \\\"price_min\\\",\\n        \\\"price_max\\\",\\n    ]\\n]\";\n                var nbb_formatted_code = \"df_provider = df[\\n    [\\n        \\\"provider_id\\\",\\n        \\\"restaurant_url\\\",\\n        \\\"restaurant_name\\\",\\n        \\\"restaurant_category\\\",\\n        \\\"avt_restaurant\\\",\\n        \\\"restaurant_description\\\",\\n        \\\"price_min\\\",\\n        \\\"price_max\\\",\\n    ]\\n]\";\n                var nbb_cells = Jupyter.notebook.get_cells();\n                for (var i = 0; i < nbb_cells.length; ++i) {\n                    if (nbb_cells[i].input_prompt_number == nbb_cell_id) {\n                        if (nbb_cells[i].get_text() == nbb_unformatted_code) {\n                             nbb_cells[i].set_text(nbb_formatted_code);\n                        }\n                        break;\n                    }\n                }\n            }, 500);\n            ",
      "text/plain": [
       "<IPython.core.display.Javascript object>"
      ]
     },
     "metadata": {},
     "output_type": "display_data"
    }
   ],
   "source": [
    "df_provider = df[\n",
    "    [\n",
    "        \"provider_id\",\n",
    "        \"restaurant_url\",\n",
    "        \"restaurant_name\",\n",
    "        \"restaurant_category\",\n",
    "        \"avt_restaurant\",\n",
    "        \"restaurant_description\",\n",
    "        \"price_min\",\n",
    "        \"price_max\",\n",
    "    ]\n",
    "]"
   ]
  },
  {
   "cell_type": "code",
   "execution_count": 72,
   "id": "9e570a97",
   "metadata": {
    "ExecuteTime": {
     "end_time": "2022-04-12T05:11:51.571217Z",
     "start_time": "2022-04-12T05:11:51.443643Z"
    }
   },
   "outputs": [
    {
     "data": {
      "application/javascript": "\n            setTimeout(function() {\n                var nbb_cell_id = 72;\n                var nbb_unformatted_code = \"df_provider.drop_duplicates(subset=[\\\"restaurant_url\\\"], inplace=True)\";\n                var nbb_formatted_code = \"df_provider.drop_duplicates(subset=[\\\"restaurant_url\\\"], inplace=True)\";\n                var nbb_cells = Jupyter.notebook.get_cells();\n                for (var i = 0; i < nbb_cells.length; ++i) {\n                    if (nbb_cells[i].input_prompt_number == nbb_cell_id) {\n                        if (nbb_cells[i].get_text() == nbb_unformatted_code) {\n                             nbb_cells[i].set_text(nbb_formatted_code);\n                        }\n                        break;\n                    }\n                }\n            }, 500);\n            ",
      "text/plain": [
       "<IPython.core.display.Javascript object>"
      ]
     },
     "metadata": {},
     "output_type": "display_data"
    }
   ],
   "source": [
    "df_provider.drop_duplicates(subset=[\"restaurant_url\"], inplace=True)"
   ]
  },
  {
   "cell_type": "code",
   "execution_count": null,
   "id": "1a88d6c1",
   "metadata": {},
   "outputs": [],
   "source": []
  },
  {
   "cell_type": "code",
   "execution_count": 73,
   "id": "8d6a4f7a",
   "metadata": {
    "ExecuteTime": {
     "end_time": "2022-04-12T05:11:52.638125Z",
     "start_time": "2022-04-12T05:11:52.626147Z"
    }
   },
   "outputs": [
    {
     "data": {
      "application/javascript": "\n            setTimeout(function() {\n                var nbb_cell_id = 73;\n                var nbb_unformatted_code = \"df_provider.reset_index(inplace=True)\";\n                var nbb_formatted_code = \"df_provider.reset_index(inplace=True)\";\n                var nbb_cells = Jupyter.notebook.get_cells();\n                for (var i = 0; i < nbb_cells.length; ++i) {\n                    if (nbb_cells[i].input_prompt_number == nbb_cell_id) {\n                        if (nbb_cells[i].get_text() == nbb_unformatted_code) {\n                             nbb_cells[i].set_text(nbb_formatted_code);\n                        }\n                        break;\n                    }\n                }\n            }, 500);\n            ",
      "text/plain": [
       "<IPython.core.display.Javascript object>"
      ]
     },
     "metadata": {},
     "output_type": "display_data"
    }
   ],
   "source": [
    "df_provider.reset_index(inplace=True)"
   ]
  },
  {
   "cell_type": "code",
   "execution_count": 74,
   "id": "d7ae840b",
   "metadata": {
    "ExecuteTime": {
     "end_time": "2022-04-12T05:11:54.083579Z",
     "start_time": "2022-04-12T05:11:54.060756Z"
    }
   },
   "outputs": [
    {
     "data": {
      "text/html": [
       "<div>\n",
       "<style scoped>\n",
       "    .dataframe tbody tr th:only-of-type {\n",
       "        vertical-align: middle;\n",
       "    }\n",
       "\n",
       "    .dataframe tbody tr th {\n",
       "        vertical-align: top;\n",
       "    }\n",
       "\n",
       "    .dataframe thead th {\n",
       "        text-align: right;\n",
       "    }\n",
       "</style>\n",
       "<table border=\"1\" class=\"dataframe\">\n",
       "  <thead>\n",
       "    <tr style=\"text-align: right;\">\n",
       "      <th></th>\n",
       "      <th>index</th>\n",
       "      <th>provider_id</th>\n",
       "      <th>restaurant_url</th>\n",
       "      <th>restaurant_name</th>\n",
       "      <th>restaurant_category</th>\n",
       "      <th>avt_restaurant</th>\n",
       "      <th>restaurant_description</th>\n",
       "      <th>price_min</th>\n",
       "      <th>price_max</th>\n",
       "    </tr>\n",
       "  </thead>\n",
       "  <tbody>\n",
       "    <tr>\n",
       "      <th>0</th>\n",
       "      <td>0</td>\n",
       "      <td>1000047</td>\n",
       "      <td>https://www.ubereats.com/ca/store/mcdonalds-67...</td>\n",
       "      <td>McDonald's (675 Upper James Street)</td>\n",
       "      <td>24-hours</td>\n",
       "      <td>https://cn-geo1.uber.com/image-proc/resize/eat...</td>\n",
       "      <td>NaN</td>\n",
       "      <td>1.59</td>\n",
       "      <td>3.69</td>\n",
       "    </tr>\n",
       "    <tr>\n",
       "      <th>1</th>\n",
       "      <td>4350</td>\n",
       "      <td>1000033</td>\n",
       "      <td>https://www.ubereats.com/ca/store/hambrgr-down...</td>\n",
       "      <td>HAMBRGR Downtown</td>\n",
       "      <td>24-hours</td>\n",
       "      <td>https://cn-geo1.uber.com/image-proc/resize/eat...</td>\n",
       "      <td>You've found one of the hottest delivery spots...</td>\n",
       "      <td>9.00</td>\n",
       "      <td>16.00</td>\n",
       "    </tr>\n",
       "    <tr>\n",
       "      <th>2</th>\n",
       "      <td>12306</td>\n",
       "      <td>1000061</td>\n",
       "      <td>https://www.ubereats.com/ca/store/popeyes-loui...</td>\n",
       "      <td>Popeyes Louisiana Kitchen (11 King St E)</td>\n",
       "      <td>24-hours</td>\n",
       "      <td>https://cn-geo1.uber.com/image-proc/resize/eat...</td>\n",
       "      <td>NaN</td>\n",
       "      <td>3.79</td>\n",
       "      <td>14.49</td>\n",
       "    </tr>\n",
       "    <tr>\n",
       "      <th>3</th>\n",
       "      <td>24150</td>\n",
       "      <td>1000102</td>\n",
       "      <td>https://www.ubereats.com/ca/store/wendys-244-h...</td>\n",
       "      <td>Wendy's (244 Hwy 20 South)</td>\n",
       "      <td>24-hours</td>\n",
       "      <td>https://cn-geo1.uber.com/image-proc/resize/eat...</td>\n",
       "      <td>Wish you could ask someone what's best here? O...</td>\n",
       "      <td>2.74</td>\n",
       "      <td>9.89</td>\n",
       "    </tr>\n",
       "    <tr>\n",
       "      <th>4</th>\n",
       "      <td>24223</td>\n",
       "      <td>1000094</td>\n",
       "      <td>https://www.ubereats.com/ca/store/the-ship/MHS...</td>\n",
       "      <td>The Ship</td>\n",
       "      <td>24-hours</td>\n",
       "      <td>https://cn-geo1.uber.com/image-proc/resize/eat...</td>\n",
       "      <td>NaN</td>\n",
       "      <td>9.00</td>\n",
       "      <td>18.00</td>\n",
       "    </tr>\n",
       "    <tr>\n",
       "      <th>...</th>\n",
       "      <td>...</td>\n",
       "      <td>...</td>\n",
       "      <td>...</td>\n",
       "      <td>...</td>\n",
       "      <td>...</td>\n",
       "      <td>...</td>\n",
       "      <td>...</td>\n",
       "      <td>...</td>\n",
       "      <td>...</td>\n",
       "    </tr>\n",
       "    <tr>\n",
       "      <th>102</th>\n",
       "      <td>474059</td>\n",
       "      <td>1000071</td>\n",
       "      <td>https://www.ubereats.com/ca/store/smokes-pouti...</td>\n",
       "      <td>Smoke's Poutinerie (Hamilton)</td>\n",
       "      <td>bacon</td>\n",
       "      <td>https://cn-geo1.uber.com/image-proc/resize/eat...</td>\n",
       "      <td>Here's one of the hottest delivery spots in al...</td>\n",
       "      <td>12.99</td>\n",
       "      <td>19.99</td>\n",
       "    </tr>\n",
       "    <tr>\n",
       "      <th>103</th>\n",
       "      <td>475770</td>\n",
       "      <td>1000034</td>\n",
       "      <td>https://www.ubereats.com/ca/store/harveys-fenn...</td>\n",
       "      <td>Harvey's (Fennell Ave)</td>\n",
       "      <td>appetizers</td>\n",
       "      <td>https://cn-geo1.uber.com/image-proc/resize/eat...</td>\n",
       "      <td>This place is one of the hottest places for de...</td>\n",
       "      <td>5.84</td>\n",
       "      <td>11.49</td>\n",
       "    </tr>\n",
       "    <tr>\n",
       "      <th>104</th>\n",
       "      <td>477954</td>\n",
       "      <td>1000079</td>\n",
       "      <td>https://www.ubereats.com/ca/store/sunrise-mark...</td>\n",
       "      <td>Sunrise Market (Cannon St)</td>\n",
       "      <td>24-hours</td>\n",
       "      <td>https://cn-geo1.uber.com/image-proc/resize/eat...</td>\n",
       "      <td>Wish you could ask Sunrise Market customers wh...</td>\n",
       "      <td>3.99</td>\n",
       "      <td>8.99</td>\n",
       "    </tr>\n",
       "    <tr>\n",
       "      <th>105</th>\n",
       "      <td>494194</td>\n",
       "      <td>1000005</td>\n",
       "      <td>https://www.ubereats.com/ca/store/anytime-conv...</td>\n",
       "      <td>ANYTIME CONVENIENCE</td>\n",
       "      <td>24-hours</td>\n",
       "      <td>https://cn-geo1.uber.com/image-proc/resize/eat...</td>\n",
       "      <td>NaN</td>\n",
       "      <td>3.97</td>\n",
       "      <td>8.88</td>\n",
       "    </tr>\n",
       "    <tr>\n",
       "      <th>106</th>\n",
       "      <td>502834</td>\n",
       "      <td>1000035</td>\n",
       "      <td>https://www.ubereats.com/ca/store/hasty-market...</td>\n",
       "      <td>Hasty Market (Kenilworth Ave N)</td>\n",
       "      <td>24-hours</td>\n",
       "      <td>https://cn-geo1.uber.com/image-proc/resize/eat...</td>\n",
       "      <td>Here's one of the 3 most popular Grocery takeo...</td>\n",
       "      <td>3.99</td>\n",
       "      <td>6.99</td>\n",
       "    </tr>\n",
       "  </tbody>\n",
       "</table>\n",
       "<p>107 rows × 9 columns</p>\n",
       "</div>"
      ],
      "text/plain": [
       "      index  provider_id                                     restaurant_url  \\\n",
       "0         0      1000047  https://www.ubereats.com/ca/store/mcdonalds-67...   \n",
       "1      4350      1000033  https://www.ubereats.com/ca/store/hambrgr-down...   \n",
       "2     12306      1000061  https://www.ubereats.com/ca/store/popeyes-loui...   \n",
       "3     24150      1000102  https://www.ubereats.com/ca/store/wendys-244-h...   \n",
       "4     24223      1000094  https://www.ubereats.com/ca/store/the-ship/MHS...   \n",
       "..      ...          ...                                                ...   \n",
       "102  474059      1000071  https://www.ubereats.com/ca/store/smokes-pouti...   \n",
       "103  475770      1000034  https://www.ubereats.com/ca/store/harveys-fenn...   \n",
       "104  477954      1000079  https://www.ubereats.com/ca/store/sunrise-mark...   \n",
       "105  494194      1000005  https://www.ubereats.com/ca/store/anytime-conv...   \n",
       "106  502834      1000035  https://www.ubereats.com/ca/store/hasty-market...   \n",
       "\n",
       "                              restaurant_name restaurant_category  \\\n",
       "0         McDonald's (675 Upper James Street)            24-hours   \n",
       "1                            HAMBRGR Downtown            24-hours   \n",
       "2    Popeyes Louisiana Kitchen (11 King St E)            24-hours   \n",
       "3                  Wendy's (244 Hwy 20 South)            24-hours   \n",
       "4                                    The Ship            24-hours   \n",
       "..                                        ...                 ...   \n",
       "102             Smoke's Poutinerie (Hamilton)               bacon   \n",
       "103                    Harvey's (Fennell Ave)          appetizers   \n",
       "104                Sunrise Market (Cannon St)            24-hours   \n",
       "105                       ANYTIME CONVENIENCE            24-hours   \n",
       "106           Hasty Market (Kenilworth Ave N)            24-hours   \n",
       "\n",
       "                                        avt_restaurant  \\\n",
       "0    https://cn-geo1.uber.com/image-proc/resize/eat...   \n",
       "1    https://cn-geo1.uber.com/image-proc/resize/eat...   \n",
       "2    https://cn-geo1.uber.com/image-proc/resize/eat...   \n",
       "3    https://cn-geo1.uber.com/image-proc/resize/eat...   \n",
       "4    https://cn-geo1.uber.com/image-proc/resize/eat...   \n",
       "..                                                 ...   \n",
       "102  https://cn-geo1.uber.com/image-proc/resize/eat...   \n",
       "103  https://cn-geo1.uber.com/image-proc/resize/eat...   \n",
       "104  https://cn-geo1.uber.com/image-proc/resize/eat...   \n",
       "105  https://cn-geo1.uber.com/image-proc/resize/eat...   \n",
       "106  https://cn-geo1.uber.com/image-proc/resize/eat...   \n",
       "\n",
       "                                restaurant_description  price_min  price_max  \n",
       "0                                                  NaN       1.59       3.69  \n",
       "1    You've found one of the hottest delivery spots...       9.00      16.00  \n",
       "2                                                  NaN       3.79      14.49  \n",
       "3    Wish you could ask someone what's best here? O...       2.74       9.89  \n",
       "4                                                  NaN       9.00      18.00  \n",
       "..                                                 ...        ...        ...  \n",
       "102  Here's one of the hottest delivery spots in al...      12.99      19.99  \n",
       "103  This place is one of the hottest places for de...       5.84      11.49  \n",
       "104  Wish you could ask Sunrise Market customers wh...       3.99       8.99  \n",
       "105                                                NaN       3.97       8.88  \n",
       "106  Here's one of the 3 most popular Grocery takeo...       3.99       6.99  \n",
       "\n",
       "[107 rows x 9 columns]"
      ]
     },
     "execution_count": 74,
     "metadata": {},
     "output_type": "execute_result"
    },
    {
     "data": {
      "application/javascript": "\n            setTimeout(function() {\n                var nbb_cell_id = 74;\n                var nbb_unformatted_code = \"df_provider\";\n                var nbb_formatted_code = \"df_provider\";\n                var nbb_cells = Jupyter.notebook.get_cells();\n                for (var i = 0; i < nbb_cells.length; ++i) {\n                    if (nbb_cells[i].input_prompt_number == nbb_cell_id) {\n                        if (nbb_cells[i].get_text() == nbb_unformatted_code) {\n                             nbb_cells[i].set_text(nbb_formatted_code);\n                        }\n                        break;\n                    }\n                }\n            }, 500);\n            ",
      "text/plain": [
       "<IPython.core.display.Javascript object>"
      ]
     },
     "metadata": {},
     "output_type": "display_data"
    }
   ],
   "source": [
    "df_provider"
   ]
  },
  {
   "cell_type": "code",
   "execution_count": 75,
   "id": "ea0f2b54",
   "metadata": {
    "ExecuteTime": {
     "end_time": "2022-04-12T05:11:59.471429Z",
     "start_time": "2022-04-12T05:11:59.455972Z"
    }
   },
   "outputs": [
    {
     "data": {
      "application/javascript": "\n            setTimeout(function() {\n                var nbb_cell_id = 75;\n                var nbb_unformatted_code = \"provider_data = df_provider[[\\\"provider_id\\\"]]\";\n                var nbb_formatted_code = \"provider_data = df_provider[[\\\"provider_id\\\"]]\";\n                var nbb_cells = Jupyter.notebook.get_cells();\n                for (var i = 0; i < nbb_cells.length; ++i) {\n                    if (nbb_cells[i].input_prompt_number == nbb_cell_id) {\n                        if (nbb_cells[i].get_text() == nbb_unformatted_code) {\n                             nbb_cells[i].set_text(nbb_formatted_code);\n                        }\n                        break;\n                    }\n                }\n            }, 500);\n            ",
      "text/plain": [
       "<IPython.core.display.Javascript object>"
      ]
     },
     "metadata": {},
     "output_type": "display_data"
    }
   ],
   "source": [
    "provider_data = df_provider[[\"provider_id\"]]"
   ]
  },
  {
   "cell_type": "code",
   "execution_count": 76,
   "id": "05366617",
   "metadata": {
    "ExecuteTime": {
     "end_time": "2022-04-12T05:12:24.158141Z",
     "start_time": "2022-04-12T05:12:24.129564Z"
    }
   },
   "outputs": [
    {
     "data": {
      "text/html": [
       "<div>\n",
       "<style scoped>\n",
       "    .dataframe tbody tr th:only-of-type {\n",
       "        vertical-align: middle;\n",
       "    }\n",
       "\n",
       "    .dataframe tbody tr th {\n",
       "        vertical-align: top;\n",
       "    }\n",
       "\n",
       "    .dataframe thead th {\n",
       "        text-align: right;\n",
       "    }\n",
       "</style>\n",
       "<table border=\"1\" class=\"dataframe\">\n",
       "  <thead>\n",
       "    <tr style=\"text-align: right;\">\n",
       "      <th></th>\n",
       "      <th>provider_id</th>\n",
       "    </tr>\n",
       "  </thead>\n",
       "  <tbody>\n",
       "    <tr>\n",
       "      <th>0</th>\n",
       "      <td>1000047</td>\n",
       "    </tr>\n",
       "    <tr>\n",
       "      <th>1</th>\n",
       "      <td>1000033</td>\n",
       "    </tr>\n",
       "    <tr>\n",
       "      <th>2</th>\n",
       "      <td>1000061</td>\n",
       "    </tr>\n",
       "    <tr>\n",
       "      <th>3</th>\n",
       "      <td>1000102</td>\n",
       "    </tr>\n",
       "    <tr>\n",
       "      <th>4</th>\n",
       "      <td>1000094</td>\n",
       "    </tr>\n",
       "    <tr>\n",
       "      <th>...</th>\n",
       "      <td>...</td>\n",
       "    </tr>\n",
       "    <tr>\n",
       "      <th>102</th>\n",
       "      <td>1000071</td>\n",
       "    </tr>\n",
       "    <tr>\n",
       "      <th>103</th>\n",
       "      <td>1000034</td>\n",
       "    </tr>\n",
       "    <tr>\n",
       "      <th>104</th>\n",
       "      <td>1000079</td>\n",
       "    </tr>\n",
       "    <tr>\n",
       "      <th>105</th>\n",
       "      <td>1000005</td>\n",
       "    </tr>\n",
       "    <tr>\n",
       "      <th>106</th>\n",
       "      <td>1000035</td>\n",
       "    </tr>\n",
       "  </tbody>\n",
       "</table>\n",
       "<p>107 rows × 1 columns</p>\n",
       "</div>"
      ],
      "text/plain": [
       "     provider_id\n",
       "0        1000047\n",
       "1        1000033\n",
       "2        1000061\n",
       "3        1000102\n",
       "4        1000094\n",
       "..           ...\n",
       "102      1000071\n",
       "103      1000034\n",
       "104      1000079\n",
       "105      1000005\n",
       "106      1000035\n",
       "\n",
       "[107 rows x 1 columns]"
      ]
     },
     "execution_count": 76,
     "metadata": {},
     "output_type": "execute_result"
    },
    {
     "data": {
      "application/javascript": "\n            setTimeout(function() {\n                var nbb_cell_id = 76;\n                var nbb_unformatted_code = \"provider_data\";\n                var nbb_formatted_code = \"provider_data\";\n                var nbb_cells = Jupyter.notebook.get_cells();\n                for (var i = 0; i < nbb_cells.length; ++i) {\n                    if (nbb_cells[i].input_prompt_number == nbb_cell_id) {\n                        if (nbb_cells[i].get_text() == nbb_unformatted_code) {\n                             nbb_cells[i].set_text(nbb_formatted_code);\n                        }\n                        break;\n                    }\n                }\n            }, 500);\n            ",
      "text/plain": [
       "<IPython.core.display.Javascript object>"
      ]
     },
     "metadata": {},
     "output_type": "display_data"
    }
   ],
   "source": [
    "provider_data"
   ]
  },
  {
   "cell_type": "code",
   "execution_count": 77,
   "id": "7ce6cb90",
   "metadata": {
    "ExecuteTime": {
     "end_time": "2022-04-12T05:12:02.847881Z",
     "start_time": "2022-04-12T05:12:02.826858Z"
    }
   },
   "outputs": [
    {
     "data": {
      "application/javascript": "\n            setTimeout(function() {\n                var nbb_cell_id = 77;\n                var nbb_unformatted_code = \"provider_data[\\\"merchant_name\\\"] = df_provider[[\\\"restaurant_name\\\"]]\";\n                var nbb_formatted_code = \"provider_data[\\\"merchant_name\\\"] = df_provider[[\\\"restaurant_name\\\"]]\";\n                var nbb_cells = Jupyter.notebook.get_cells();\n                for (var i = 0; i < nbb_cells.length; ++i) {\n                    if (nbb_cells[i].input_prompt_number == nbb_cell_id) {\n                        if (nbb_cells[i].get_text() == nbb_unformatted_code) {\n                             nbb_cells[i].set_text(nbb_formatted_code);\n                        }\n                        break;\n                    }\n                }\n            }, 500);\n            ",
      "text/plain": [
       "<IPython.core.display.Javascript object>"
      ]
     },
     "metadata": {},
     "output_type": "display_data"
    }
   ],
   "source": [
    "provider_data[\"merchant_name\"] = df_provider[[\"restaurant_name\"]]"
   ]
  },
  {
   "cell_type": "code",
   "execution_count": 78,
   "id": "86ff7240",
   "metadata": {
    "ExecuteTime": {
     "end_time": "2022-04-12T05:12:03.636248Z",
     "start_time": "2022-04-12T05:12:03.608264Z"
    }
   },
   "outputs": [
    {
     "data": {
      "text/html": [
       "<div>\n",
       "<style scoped>\n",
       "    .dataframe tbody tr th:only-of-type {\n",
       "        vertical-align: middle;\n",
       "    }\n",
       "\n",
       "    .dataframe tbody tr th {\n",
       "        vertical-align: top;\n",
       "    }\n",
       "\n",
       "    .dataframe thead th {\n",
       "        text-align: right;\n",
       "    }\n",
       "</style>\n",
       "<table border=\"1\" class=\"dataframe\">\n",
       "  <thead>\n",
       "    <tr style=\"text-align: right;\">\n",
       "      <th></th>\n",
       "      <th>restaurant_description</th>\n",
       "      <th>rating</th>\n",
       "      <th>num_review</th>\n",
       "      <th>menu_category</th>\n",
       "      <th>product_name</th>\n",
       "      <th>price</th>\n",
       "      <th>product_description</th>\n",
       "      <th>status</th>\n",
       "      <th>product_image</th>\n",
       "      <th>restaurant_url</th>\n",
       "      <th>restaurant_name</th>\n",
       "      <th>avt_restaurant</th>\n",
       "      <th>restaurant_category</th>\n",
       "      <th>city</th>\n",
       "      <th>product_id</th>\n",
       "      <th>provider_id</th>\n",
       "      <th>price_min</th>\n",
       "      <th>price_max</th>\n",
       "    </tr>\n",
       "  </thead>\n",
       "  <tbody>\n",
       "    <tr>\n",
       "      <th>0</th>\n",
       "      <td>NaN</td>\n",
       "      <td>3.6</td>\n",
       "      <td>82</td>\n",
       "      <td>Most Popular</td>\n",
       "      <td>Chicken McMuffin Extra Value Meal [523.0 Cals]</td>\n",
       "      <td>5.69</td>\n",
       "      <td>Chicken McMuffin Extra Value Meal [523.0 Cals]</td>\n",
       "      <td>In stock</td>\n",
       "      <td>https://d1ralsognjng37.cloudfront.net/81325489...</td>\n",
       "      <td>https://www.ubereats.com/ca/store/mcdonalds-67...</td>\n",
       "      <td>McDonald's (675 Upper James Street)</td>\n",
       "      <td>https://cn-geo1.uber.com/image-proc/resize/eat...</td>\n",
       "      <td>24-hours</td>\n",
       "      <td>hamilton</td>\n",
       "      <td>1002540</td>\n",
       "      <td>1000047</td>\n",
       "      <td>1.59</td>\n",
       "      <td>3.69</td>\n",
       "    </tr>\n",
       "    <tr>\n",
       "      <th>1</th>\n",
       "      <td>NaN</td>\n",
       "      <td>4.4</td>\n",
       "      <td>25</td>\n",
       "      <td>Most Popular</td>\n",
       "      <td>Chicken McMuffin Extra Value Meal [523.0 Cals]</td>\n",
       "      <td>5.69</td>\n",
       "      <td>Chicken McMuffin Extra Value Meal [523.0 Cals]</td>\n",
       "      <td>In stock</td>\n",
       "      <td>https://d1ralsognjng37.cloudfront.net/81325489...</td>\n",
       "      <td>https://www.ubereats.com/ca/store/mcdonalds-67...</td>\n",
       "      <td>McDonald's</td>\n",
       "      <td>https://cn-geo1.uber.com/image-proc/resize/eat...</td>\n",
       "      <td>american</td>\n",
       "      <td>hamilton</td>\n",
       "      <td>1002540</td>\n",
       "      <td>1000047</td>\n",
       "      <td>1.59</td>\n",
       "      <td>3.69</td>\n",
       "    </tr>\n",
       "    <tr>\n",
       "      <th>2</th>\n",
       "      <td>NaN</td>\n",
       "      <td>3.9</td>\n",
       "      <td>124</td>\n",
       "      <td>Most Popular</td>\n",
       "      <td>Chicken McMuffin Extra Value Meal [523.0 Cals]</td>\n",
       "      <td>5.69</td>\n",
       "      <td>Chicken McMuffin Extra Value Meal [523.0 Cals]</td>\n",
       "      <td>In stock</td>\n",
       "      <td>https://d1ralsognjng37.cloudfront.net/81325489...</td>\n",
       "      <td>https://www.ubereats.com/ca/store/mcdonalds-67...</td>\n",
       "      <td>McDonald's (675 Upper James Street)</td>\n",
       "      <td>https://cn-geo1.uber.com/image-proc/resize/eat...</td>\n",
       "      <td>bacon</td>\n",
       "      <td>hamilton</td>\n",
       "      <td>1002540</td>\n",
       "      <td>1000047</td>\n",
       "      <td>1.59</td>\n",
       "      <td>3.69</td>\n",
       "    </tr>\n",
       "  </tbody>\n",
       "</table>\n",
       "</div>"
      ],
      "text/plain": [
       "  restaurant_description  rating  num_review menu_category  \\\n",
       "0                    NaN     3.6          82  Most Popular   \n",
       "1                    NaN     4.4          25  Most Popular   \n",
       "2                    NaN     3.9         124  Most Popular   \n",
       "\n",
       "                                     product_name  price  \\\n",
       "0  Chicken McMuffin Extra Value Meal [523.0 Cals]   5.69   \n",
       "1  Chicken McMuffin Extra Value Meal [523.0 Cals]   5.69   \n",
       "2  Chicken McMuffin Extra Value Meal [523.0 Cals]   5.69   \n",
       "\n",
       "                              product_description    status  \\\n",
       "0  Chicken McMuffin Extra Value Meal [523.0 Cals]  In stock   \n",
       "1  Chicken McMuffin Extra Value Meal [523.0 Cals]  In stock   \n",
       "2  Chicken McMuffin Extra Value Meal [523.0 Cals]  In stock   \n",
       "\n",
       "                                       product_image  \\\n",
       "0  https://d1ralsognjng37.cloudfront.net/81325489...   \n",
       "1  https://d1ralsognjng37.cloudfront.net/81325489...   \n",
       "2  https://d1ralsognjng37.cloudfront.net/81325489...   \n",
       "\n",
       "                                      restaurant_url  \\\n",
       "0  https://www.ubereats.com/ca/store/mcdonalds-67...   \n",
       "1  https://www.ubereats.com/ca/store/mcdonalds-67...   \n",
       "2  https://www.ubereats.com/ca/store/mcdonalds-67...   \n",
       "\n",
       "                       restaurant_name  \\\n",
       "0  McDonald's (675 Upper James Street)   \n",
       "1                           McDonald's   \n",
       "2  McDonald's (675 Upper James Street)   \n",
       "\n",
       "                                      avt_restaurant restaurant_category  \\\n",
       "0  https://cn-geo1.uber.com/image-proc/resize/eat...            24-hours   \n",
       "1  https://cn-geo1.uber.com/image-proc/resize/eat...            american   \n",
       "2  https://cn-geo1.uber.com/image-proc/resize/eat...               bacon   \n",
       "\n",
       "       city  product_id  provider_id  price_min  price_max  \n",
       "0  hamilton     1002540      1000047       1.59       3.69  \n",
       "1  hamilton     1002540      1000047       1.59       3.69  \n",
       "2  hamilton     1002540      1000047       1.59       3.69  "
      ]
     },
     "execution_count": 78,
     "metadata": {},
     "output_type": "execute_result"
    },
    {
     "data": {
      "application/javascript": "\n            setTimeout(function() {\n                var nbb_cell_id = 78;\n                var nbb_unformatted_code = \"df.head(3)\";\n                var nbb_formatted_code = \"df.head(3)\";\n                var nbb_cells = Jupyter.notebook.get_cells();\n                for (var i = 0; i < nbb_cells.length; ++i) {\n                    if (nbb_cells[i].input_prompt_number == nbb_cell_id) {\n                        if (nbb_cells[i].get_text() == nbb_unformatted_code) {\n                             nbb_cells[i].set_text(nbb_formatted_code);\n                        }\n                        break;\n                    }\n                }\n            }, 500);\n            ",
      "text/plain": [
       "<IPython.core.display.Javascript object>"
      ]
     },
     "metadata": {},
     "output_type": "display_data"
    }
   ],
   "source": [
    "df.head(3)"
   ]
  },
  {
   "cell_type": "code",
   "execution_count": 79,
   "id": "3cb63f7e",
   "metadata": {
    "ExecuteTime": {
     "end_time": "2022-04-12T05:12:13.362020Z",
     "start_time": "2022-04-12T05:12:13.309248Z"
    }
   },
   "outputs": [
    {
     "data": {
      "application/javascript": "\n            setTimeout(function() {\n                var nbb_cell_id = 79;\n                var nbb_unformatted_code = \"provider_data['address'] = '227'\\nprovider_data['road'] = 'Nguy\\u1ec5n V\\u0103n C\\u1eeb'\\nprovider_data['ward_id'] = '1'\\nprovider_data['district_id'] = '2'\\nprovider_data['city_id'] = '3'\\nprovider_data['description'] = df_provider.restaurant_description\\nprovider_data['keyword'] = 'abc'\\nprovider_data['hotline'] = '0123456789'\\nprovider_data['tax_code'] = '9876543210'\\nprovider_data['price_range'] = str(20-150)\\nprovider_data['avatar'] = df_provider.avt_restaurant\\nprovider_data['cover_picture'] = 'https://encrypted-tbn0.gstatic.com/images?q=tbn:ANd9GcSDbdE3wNH9nQqdx7FDXPgKBYDkCka871-Jpw&usqp=CAU'\\nprovider_data['facade_photo'] = 'https://frameru.com/wp-content/uploads/2021/06/Restaurant-facade-logo-mockup.jpg'\\nprovider_data['latitude'] = '10.762328'\\nprovider_data['longitude'] = '106.6805406'\\nprovider_data['estimated_cooking_time'] = '30'\\nprovider_data['status'] = 1\\nprovider_data['erc'] = 'https://media-cdn.tripadvisor.com/media/photo-s/13/e5/43/22/fb-img-1532845074912.jpg'\\n# provider_data['rush_hour'] = '16h-19h'\\nprovider_data['rush_hour'] = datetime.time(3,45,12)\\n\\nprovider_data['order_totals'] = 500\\nprovider_data['user_id'] = df_user[df_user.role == 2].iloc[:107,:][\\\"user_id\\\"].values\\nprovider_data['owner_id'] = df_owner[\\\"owner_id\\\"]\\nprovider_data['current_form'] = 5\\nprovider_data['registered_at'] = '2021-12-14 19:49:49'\\nprovider_data['update_at'] = '2021-12-14 19:49:49'\\nprovider_data['delete_at'] = None\";\n                var nbb_formatted_code = \"provider_data[\\\"address\\\"] = \\\"227\\\"\\nprovider_data[\\\"road\\\"] = \\\"Nguy\\u1ec5n V\\u0103n C\\u1eeb\\\"\\nprovider_data[\\\"ward_id\\\"] = \\\"1\\\"\\nprovider_data[\\\"district_id\\\"] = \\\"2\\\"\\nprovider_data[\\\"city_id\\\"] = \\\"3\\\"\\nprovider_data[\\\"description\\\"] = df_provider.restaurant_description\\nprovider_data[\\\"keyword\\\"] = \\\"abc\\\"\\nprovider_data[\\\"hotline\\\"] = \\\"0123456789\\\"\\nprovider_data[\\\"tax_code\\\"] = \\\"9876543210\\\"\\nprovider_data[\\\"price_range\\\"] = str(20 - 150)\\nprovider_data[\\\"avatar\\\"] = df_provider.avt_restaurant\\nprovider_data[\\n    \\\"cover_picture\\\"\\n] = \\\"https://encrypted-tbn0.gstatic.com/images?q=tbn:ANd9GcSDbdE3wNH9nQqdx7FDXPgKBYDkCka871-Jpw&usqp=CAU\\\"\\nprovider_data[\\n    \\\"facade_photo\\\"\\n] = \\\"https://frameru.com/wp-content/uploads/2021/06/Restaurant-facade-logo-mockup.jpg\\\"\\nprovider_data[\\\"latitude\\\"] = \\\"10.762328\\\"\\nprovider_data[\\\"longitude\\\"] = \\\"106.6805406\\\"\\nprovider_data[\\\"estimated_cooking_time\\\"] = \\\"30\\\"\\nprovider_data[\\\"status\\\"] = 1\\nprovider_data[\\n    \\\"erc\\\"\\n] = \\\"https://media-cdn.tripadvisor.com/media/photo-s/13/e5/43/22/fb-img-1532845074912.jpg\\\"\\n# provider_data['rush_hour'] = '16h-19h'\\nprovider_data[\\\"rush_hour\\\"] = datetime.time(3, 45, 12)\\n\\nprovider_data[\\\"order_totals\\\"] = 500\\nprovider_data[\\\"user_id\\\"] = df_user[df_user.role == 2].iloc[:107, :][\\\"user_id\\\"].values\\nprovider_data[\\\"owner_id\\\"] = df_owner[\\\"owner_id\\\"]\\nprovider_data[\\\"current_form\\\"] = 5\\nprovider_data[\\\"registered_at\\\"] = \\\"2021-12-14 19:49:49\\\"\\nprovider_data[\\\"update_at\\\"] = \\\"2021-12-14 19:49:49\\\"\\nprovider_data[\\\"delete_at\\\"] = None\";\n                var nbb_cells = Jupyter.notebook.get_cells();\n                for (var i = 0; i < nbb_cells.length; ++i) {\n                    if (nbb_cells[i].input_prompt_number == nbb_cell_id) {\n                        if (nbb_cells[i].get_text() == nbb_unformatted_code) {\n                             nbb_cells[i].set_text(nbb_formatted_code);\n                        }\n                        break;\n                    }\n                }\n            }, 500);\n            ",
      "text/plain": [
       "<IPython.core.display.Javascript object>"
      ]
     },
     "metadata": {},
     "output_type": "display_data"
    }
   ],
   "source": [
    "provider_data['address'] = '227'\n",
    "provider_data['road'] = 'Nguyễn Văn Cừ'\n",
    "provider_data['ward_id'] = '1'\n",
    "provider_data['district_id'] = '2'\n",
    "provider_data['city_id'] = '3'\n",
    "provider_data['description'] = df_provider.restaurant_description\n",
    "provider_data['keyword'] = 'abc'\n",
    "provider_data['hotline'] = '0123456789'\n",
    "provider_data['tax_code'] = '9876543210'\n",
    "provider_data['price_range'] = str(20-150)\n",
    "provider_data['avatar'] = df_provider.avt_restaurant\n",
    "provider_data['cover_picture'] = 'https://encrypted-tbn0.gstatic.com/images?q=tbn:ANd9GcSDbdE3wNH9nQqdx7FDXPgKBYDkCka871-Jpw&usqp=CAU'\n",
    "provider_data['facade_photo'] = 'https://frameru.com/wp-content/uploads/2021/06/Restaurant-facade-logo-mockup.jpg'\n",
    "provider_data['latitude'] = '10.762328'\n",
    "provider_data['longitude'] = '106.6805406'\n",
    "provider_data['estimated_cooking_time'] = '30'\n",
    "provider_data['status'] = 1\n",
    "provider_data['erc'] = 'https://media-cdn.tripadvisor.com/media/photo-s/13/e5/43/22/fb-img-1532845074912.jpg'\n",
    "# provider_data['rush_hour'] = '16h-19h'\n",
    "provider_data['rush_hour'] = datetime.time(3,45,12)\n",
    "\n",
    "provider_data['order_totals'] = 500\n",
    "provider_data['user_id'] = df_user[df_user.role == 2].iloc[:107,:][\"user_id\"].values\n",
    "provider_data['owner_id'] = df_owner[\"owner_id\"]\n",
    "provider_data['current_form'] = 5\n",
    "provider_data['registered_at'] = '2021-12-14 19:49:49'\n",
    "provider_data['update_at'] = '2021-12-14 19:49:49'\n",
    "provider_data['delete_at'] = None\n",
    "\n"
   ]
  },
  {
   "cell_type": "code",
   "execution_count": 80,
   "id": "70341d60",
   "metadata": {
    "ExecuteTime": {
     "end_time": "2022-04-12T05:30:32.884108Z",
     "start_time": "2022-04-12T05:30:32.864015Z"
    }
   },
   "outputs": [
    {
     "data": {
      "application/javascript": "\n            setTimeout(function() {\n                var nbb_cell_id = 80;\n                var nbb_unformatted_code = \"provider_data[\\\"price_range\\\"] = df_provider[\\\"price_min\\\"].astype(str)\\nprovider_data[\\\"price_range\\\"] = (\\n    provider_data[\\\"price_range\\\"] + \\\"-\\\" + df_provider[\\\"price_max\\\"].astype(str)\\n)\";\n                var nbb_formatted_code = \"provider_data[\\\"price_range\\\"] = df_provider[\\\"price_min\\\"].astype(str)\\nprovider_data[\\\"price_range\\\"] = (\\n    provider_data[\\\"price_range\\\"] + \\\"-\\\" + df_provider[\\\"price_max\\\"].astype(str)\\n)\";\n                var nbb_cells = Jupyter.notebook.get_cells();\n                for (var i = 0; i < nbb_cells.length; ++i) {\n                    if (nbb_cells[i].input_prompt_number == nbb_cell_id) {\n                        if (nbb_cells[i].get_text() == nbb_unformatted_code) {\n                             nbb_cells[i].set_text(nbb_formatted_code);\n                        }\n                        break;\n                    }\n                }\n            }, 500);\n            ",
      "text/plain": [
       "<IPython.core.display.Javascript object>"
      ]
     },
     "metadata": {},
     "output_type": "display_data"
    }
   ],
   "source": [
    "provider_data[\"price_range\"] = df_provider[\"price_min\"].astype(str)\n",
    "provider_data[\"price_range\"] = (\n",
    "    provider_data[\"price_range\"] + \"-\" + df_provider[\"price_max\"].astype(str)\n",
    ")"
   ]
  },
  {
   "cell_type": "code",
   "execution_count": 81,
   "id": "cca06e3c",
   "metadata": {
    "ExecuteTime": {
     "end_time": "2022-04-12T05:30:33.687618Z",
     "start_time": "2022-04-12T05:30:33.674118Z"
    }
   },
   "outputs": [
    {
     "data": {
      "text/html": [
       "<div>\n",
       "<style scoped>\n",
       "    .dataframe tbody tr th:only-of-type {\n",
       "        vertical-align: middle;\n",
       "    }\n",
       "\n",
       "    .dataframe tbody tr th {\n",
       "        vertical-align: top;\n",
       "    }\n",
       "\n",
       "    .dataframe thead th {\n",
       "        text-align: right;\n",
       "    }\n",
       "</style>\n",
       "<table border=\"1\" class=\"dataframe\">\n",
       "  <thead>\n",
       "    <tr style=\"text-align: right;\">\n",
       "      <th></th>\n",
       "      <th>tax_code</th>\n",
       "      <th>price_range</th>\n",
       "      <th>avatar</th>\n",
       "      <th>cover_picture</th>\n",
       "      <th>facade_photo</th>\n",
       "    </tr>\n",
       "  </thead>\n",
       "  <tbody>\n",
       "    <tr>\n",
       "      <th>0</th>\n",
       "      <td>9876543210</td>\n",
       "      <td>1.59-3.69</td>\n",
       "      <td>https://cn-geo1.uber.com/image-proc/resize/eat...</td>\n",
       "      <td>https://encrypted-tbn0.gstatic.com/images?q=tb...</td>\n",
       "      <td>https://frameru.com/wp-content/uploads/2021/06...</td>\n",
       "    </tr>\n",
       "    <tr>\n",
       "      <th>1</th>\n",
       "      <td>9876543210</td>\n",
       "      <td>9.0-16.0</td>\n",
       "      <td>https://cn-geo1.uber.com/image-proc/resize/eat...</td>\n",
       "      <td>https://encrypted-tbn0.gstatic.com/images?q=tb...</td>\n",
       "      <td>https://frameru.com/wp-content/uploads/2021/06...</td>\n",
       "    </tr>\n",
       "    <tr>\n",
       "      <th>2</th>\n",
       "      <td>9876543210</td>\n",
       "      <td>3.79-14.49</td>\n",
       "      <td>https://cn-geo1.uber.com/image-proc/resize/eat...</td>\n",
       "      <td>https://encrypted-tbn0.gstatic.com/images?q=tb...</td>\n",
       "      <td>https://frameru.com/wp-content/uploads/2021/06...</td>\n",
       "    </tr>\n",
       "    <tr>\n",
       "      <th>3</th>\n",
       "      <td>9876543210</td>\n",
       "      <td>2.74-9.89</td>\n",
       "      <td>https://cn-geo1.uber.com/image-proc/resize/eat...</td>\n",
       "      <td>https://encrypted-tbn0.gstatic.com/images?q=tb...</td>\n",
       "      <td>https://frameru.com/wp-content/uploads/2021/06...</td>\n",
       "    </tr>\n",
       "    <tr>\n",
       "      <th>4</th>\n",
       "      <td>9876543210</td>\n",
       "      <td>9.0-18.0</td>\n",
       "      <td>https://cn-geo1.uber.com/image-proc/resize/eat...</td>\n",
       "      <td>https://encrypted-tbn0.gstatic.com/images?q=tb...</td>\n",
       "      <td>https://frameru.com/wp-content/uploads/2021/06...</td>\n",
       "    </tr>\n",
       "  </tbody>\n",
       "</table>\n",
       "</div>"
      ],
      "text/plain": [
       "     tax_code price_range                                             avatar  \\\n",
       "0  9876543210   1.59-3.69  https://cn-geo1.uber.com/image-proc/resize/eat...   \n",
       "1  9876543210    9.0-16.0  https://cn-geo1.uber.com/image-proc/resize/eat...   \n",
       "2  9876543210  3.79-14.49  https://cn-geo1.uber.com/image-proc/resize/eat...   \n",
       "3  9876543210   2.74-9.89  https://cn-geo1.uber.com/image-proc/resize/eat...   \n",
       "4  9876543210    9.0-18.0  https://cn-geo1.uber.com/image-proc/resize/eat...   \n",
       "\n",
       "                                       cover_picture  \\\n",
       "0  https://encrypted-tbn0.gstatic.com/images?q=tb...   \n",
       "1  https://encrypted-tbn0.gstatic.com/images?q=tb...   \n",
       "2  https://encrypted-tbn0.gstatic.com/images?q=tb...   \n",
       "3  https://encrypted-tbn0.gstatic.com/images?q=tb...   \n",
       "4  https://encrypted-tbn0.gstatic.com/images?q=tb...   \n",
       "\n",
       "                                        facade_photo  \n",
       "0  https://frameru.com/wp-content/uploads/2021/06...  \n",
       "1  https://frameru.com/wp-content/uploads/2021/06...  \n",
       "2  https://frameru.com/wp-content/uploads/2021/06...  \n",
       "3  https://frameru.com/wp-content/uploads/2021/06...  \n",
       "4  https://frameru.com/wp-content/uploads/2021/06...  "
      ]
     },
     "execution_count": 81,
     "metadata": {},
     "output_type": "execute_result"
    },
    {
     "data": {
      "application/javascript": "\n            setTimeout(function() {\n                var nbb_cell_id = 81;\n                var nbb_unformatted_code = \"provider_data.iloc[:, 10:15].head(5)\";\n                var nbb_formatted_code = \"provider_data.iloc[:, 10:15].head(5)\";\n                var nbb_cells = Jupyter.notebook.get_cells();\n                for (var i = 0; i < nbb_cells.length; ++i) {\n                    if (nbb_cells[i].input_prompt_number == nbb_cell_id) {\n                        if (nbb_cells[i].get_text() == nbb_unformatted_code) {\n                             nbb_cells[i].set_text(nbb_formatted_code);\n                        }\n                        break;\n                    }\n                }\n            }, 500);\n            ",
      "text/plain": [
       "<IPython.core.display.Javascript object>"
      ]
     },
     "metadata": {},
     "output_type": "display_data"
    }
   ],
   "source": [
    "provider_data.iloc[:, 10:15].head(5)"
   ]
  },
  {
   "cell_type": "code",
   "execution_count": 88,
   "id": "1f2f7457",
   "metadata": {},
   "outputs": [
    {
     "data": {
      "application/javascript": "\n            setTimeout(function() {\n                var nbb_cell_id = 88;\n                var nbb_unformatted_code = \"import requests\";\n                var nbb_formatted_code = \"import requests\";\n                var nbb_cells = Jupyter.notebook.get_cells();\n                for (var i = 0; i < nbb_cells.length; ++i) {\n                    if (nbb_cells[i].input_prompt_number == nbb_cell_id) {\n                        if (nbb_cells[i].get_text() == nbb_unformatted_code) {\n                             nbb_cells[i].set_text(nbb_formatted_code);\n                        }\n                        break;\n                    }\n                }\n            }, 500);\n            ",
      "text/plain": [
       "<IPython.core.display.Javascript object>"
      ]
     },
     "metadata": {},
     "output_type": "display_data"
    }
   ],
   "source": [
    "import requests\n"
   ]
  },
  {
   "cell_type": "code",
   "execution_count": 90,
   "id": "93125ad2",
   "metadata": {},
   "outputs": [
    {
     "data": {
      "application/javascript": "\n            setTimeout(function() {\n                var nbb_cell_id = 90;\n                var nbb_unformatted_code = \"# GOOGLE_MAPS_API_URL = 'http://maps.googleapis.com/maps/api/geocode/json'\\n\\n# params = {\\n#     'address': 'oshiwara industerial center goregaon west mumbai',\\n#     'sensor': 'false',\\n#     'region': 'india'\\n# }\\n\\n# # Do the request and get the response data\\n# req = requests.get(GOOGLE_MAPS_API_URL, params=params)\\n# res = req.json()\\n\\n# # Use the first result\\n# result = res['results'][0]\\n\\n# geodata = dict()\\n# geodata['lat'] = result['geometry']['location']['lat']\\n# geodata['lng'] = result['geometry']['location']['lng']\\n# geodata['address'] = result['formatted_address']\\n\\n# print('{address}. (lat, lng) = ({lat}, {lng})'.format(**geodata))\";\n                var nbb_formatted_code = \"# GOOGLE_MAPS_API_URL = 'http://maps.googleapis.com/maps/api/geocode/json'\\n\\n# params = {\\n#     'address': 'oshiwara industerial center goregaon west mumbai',\\n#     'sensor': 'false',\\n#     'region': 'india'\\n# }\\n\\n# # Do the request and get the response data\\n# req = requests.get(GOOGLE_MAPS_API_URL, params=params)\\n# res = req.json()\\n\\n# # Use the first result\\n# result = res['results'][0]\\n\\n# geodata = dict()\\n# geodata['lat'] = result['geometry']['location']['lat']\\n# geodata['lng'] = result['geometry']['location']['lng']\\n# geodata['address'] = result['formatted_address']\\n\\n# print('{address}. (lat, lng) = ({lat}, {lng})'.format(**geodata))\";\n                var nbb_cells = Jupyter.notebook.get_cells();\n                for (var i = 0; i < nbb_cells.length; ++i) {\n                    if (nbb_cells[i].input_prompt_number == nbb_cell_id) {\n                        if (nbb_cells[i].get_text() == nbb_unformatted_code) {\n                             nbb_cells[i].set_text(nbb_formatted_code);\n                        }\n                        break;\n                    }\n                }\n            }, 500);\n            ",
      "text/plain": [
       "<IPython.core.display.Javascript object>"
      ]
     },
     "metadata": {},
     "output_type": "display_data"
    }
   ],
   "source": [
    "# GOOGLE_MAPS_API_URL = 'http://maps.googleapis.com/maps/api/geocode/json'\n",
    "\n",
    "# params = {\n",
    "#     'address': 'oshiwara industerial center goregaon west mumbai',\n",
    "#     'sensor': 'false',\n",
    "#     'region': 'india'\n",
    "# }\n",
    "\n",
    "# # Do the request and get the response data\n",
    "# req = requests.get(GOOGLE_MAPS_API_URL, params=params)\n",
    "# res = req.json()\n",
    "\n",
    "# # Use the first result\n",
    "# result = res['results'][0]\n",
    "\n",
    "# geodata = dict()\n",
    "# geodata['lat'] = result['geometry']['location']['lat']\n",
    "# geodata['lng'] = result['geometry']['location']['lng']\n",
    "# geodata['address'] = result['formatted_address']\n",
    "\n",
    "# print('{address}. (lat, lng) = ({lat}, {lng})'.format(**geodata))"
   ]
  },
  {
   "cell_type": "code",
   "execution_count": null,
   "id": "3820f338",
   "metadata": {},
   "outputs": [],
   "source": []
  },
  {
   "cell_type": "code",
   "execution_count": 64,
   "id": "448622d3",
   "metadata": {
    "ExecuteTime": {
     "end_time": "2022-03-31T06:37:13.235940Z",
     "start_time": "2022-03-31T06:37:13.213957Z"
    }
   },
   "outputs": [
    {
     "data": {
      "application/javascript": "\n            setTimeout(function() {\n                var nbb_cell_id = 64;\n                var nbb_unformatted_code = \"d1 = datetime.datetime.strptime(\\\"1/1/2018 1:30 PM\\\", \\\"%m/%d/%Y %I:%M %p\\\")\\nd2 = datetime.datetime.strptime(\\\"1/1/2022 4:50 AM\\\", \\\"%m/%d/%Y %I:%M %p\\\")\\n\\n# random_date(start, end)\";\n                var nbb_formatted_code = \"d1 = datetime.datetime.strptime(\\\"1/1/2018 1:30 PM\\\", \\\"%m/%d/%Y %I:%M %p\\\")\\nd2 = datetime.datetime.strptime(\\\"1/1/2022 4:50 AM\\\", \\\"%m/%d/%Y %I:%M %p\\\")\\n\\n# random_date(start, end)\";\n                var nbb_cells = Jupyter.notebook.get_cells();\n                for (var i = 0; i < nbb_cells.length; ++i) {\n                    if (nbb_cells[i].input_prompt_number == nbb_cell_id) {\n                        if (nbb_cells[i].get_text() == nbb_unformatted_code) {\n                             nbb_cells[i].set_text(nbb_formatted_code);\n                        }\n                        break;\n                    }\n                }\n            }, 500);\n            ",
      "text/plain": [
       "<IPython.core.display.Javascript object>"
      ]
     },
     "metadata": {},
     "output_type": "display_data"
    }
   ],
   "source": [
    "d1 = datetime.datetime.strptime(\"1/1/2018 1:30 PM\", \"%m/%d/%Y %I:%M %p\")\n",
    "d2 = datetime.datetime.strptime(\"1/1/2022 4:50 AM\", \"%m/%d/%Y %I:%M %p\")\n",
    "\n",
    "# random_date(start, end)"
   ]
  },
  {
   "cell_type": "code",
   "execution_count": 65,
   "id": "b34456c7",
   "metadata": {
    "ExecuteTime": {
     "end_time": "2022-03-31T06:37:14.408888Z",
     "start_time": "2022-03-31T06:37:14.397908Z"
    }
   },
   "outputs": [
    {
     "data": {
      "application/javascript": "\n            setTimeout(function() {\n                var nbb_cell_id = 65;\n                var nbb_unformatted_code = \"provider_data[\\\"registered_at\\\"] = provider_data[\\\"registered_at\\\"].apply(\\n    lambda x: random_date(d1, d2)\\n)\";\n                var nbb_formatted_code = \"provider_data[\\\"registered_at\\\"] = provider_data[\\\"registered_at\\\"].apply(\\n    lambda x: random_date(d1, d2)\\n)\";\n                var nbb_cells = Jupyter.notebook.get_cells();\n                for (var i = 0; i < nbb_cells.length; ++i) {\n                    if (nbb_cells[i].input_prompt_number == nbb_cell_id) {\n                        if (nbb_cells[i].get_text() == nbb_unformatted_code) {\n                             nbb_cells[i].set_text(nbb_formatted_code);\n                        }\n                        break;\n                    }\n                }\n            }, 500);\n            ",
      "text/plain": [
       "<IPython.core.display.Javascript object>"
      ]
     },
     "metadata": {},
     "output_type": "display_data"
    }
   ],
   "source": [
    "provider_data[\"registered_at\"] = provider_data[\"registered_at\"].apply(\n",
    "    lambda x: random_date(d1, d2)\n",
    ")"
   ]
  },
  {
   "cell_type": "code",
   "execution_count": 66,
   "id": "910e3f5b",
   "metadata": {
    "ExecuteTime": {
     "end_time": "2022-03-31T06:37:15.222185Z",
     "start_time": "2022-03-31T06:37:15.206355Z"
    }
   },
   "outputs": [
    {
     "data": {
      "application/javascript": "\n            setTimeout(function() {\n                var nbb_cell_id = 66;\n                var nbb_unformatted_code = \"# provider_data[\\\"registered_at\\\"] = pd.to_datetime(df_user[\\\"registered_at\\\"])\\nprovider_data[\\\"update_at\\\"] = provider_data[\\\"registered_at\\\"]  # trick nha\\n# provider_data[\\\"delete_at\\\"] = datetime.time(0, 0)\\nprovider_data[\\\"delete_at\\\"] = provider_data[\\\"registered_at\\\"]\";\n                var nbb_formatted_code = \"# provider_data[\\\"registered_at\\\"] = pd.to_datetime(df_user[\\\"registered_at\\\"])\\nprovider_data[\\\"update_at\\\"] = provider_data[\\\"registered_at\\\"]  # trick nha\\n# provider_data[\\\"delete_at\\\"] = datetime.time(0, 0)\\nprovider_data[\\\"delete_at\\\"] = provider_data[\\\"registered_at\\\"]\";\n                var nbb_cells = Jupyter.notebook.get_cells();\n                for (var i = 0; i < nbb_cells.length; ++i) {\n                    if (nbb_cells[i].input_prompt_number == nbb_cell_id) {\n                        if (nbb_cells[i].get_text() == nbb_unformatted_code) {\n                             nbb_cells[i].set_text(nbb_formatted_code);\n                        }\n                        break;\n                    }\n                }\n            }, 500);\n            ",
      "text/plain": [
       "<IPython.core.display.Javascript object>"
      ]
     },
     "metadata": {},
     "output_type": "display_data"
    }
   ],
   "source": [
    "# provider_data[\"registered_at\"] = pd.to_datetime(df_user[\"registered_at\"])\n",
    "provider_data[\"update_at\"] = provider_data[\"registered_at\"]  # trick nha\n",
    "# provider_data[\"delete_at\"] = datetime.time(0, 0)\n",
    "provider_data[\"delete_at\"] = provider_data[\"registered_at\"]"
   ]
  },
  {
   "cell_type": "code",
   "execution_count": 67,
   "id": "e0b1fd41",
   "metadata": {
    "ExecuteTime": {
     "end_time": "2022-03-31T06:37:19.492439Z",
     "start_time": "2022-03-31T06:37:19.460410Z"
    }
   },
   "outputs": [
    {
     "data": {
      "text/html": [
       "<div>\n",
       "<style scoped>\n",
       "    .dataframe tbody tr th:only-of-type {\n",
       "        vertical-align: middle;\n",
       "    }\n",
       "\n",
       "    .dataframe tbody tr th {\n",
       "        vertical-align: top;\n",
       "    }\n",
       "\n",
       "    .dataframe thead th {\n",
       "        text-align: right;\n",
       "    }\n",
       "</style>\n",
       "<table border=\"1\" class=\"dataframe\">\n",
       "  <thead>\n",
       "    <tr style=\"text-align: right;\">\n",
       "      <th></th>\n",
       "      <th>provider_id</th>\n",
       "      <th>merchant_name</th>\n",
       "      <th>address</th>\n",
       "      <th>road</th>\n",
       "      <th>ward_id</th>\n",
       "      <th>district_id</th>\n",
       "      <th>city_id</th>\n",
       "      <th>description</th>\n",
       "      <th>keyword</th>\n",
       "      <th>hotline</th>\n",
       "      <th>...</th>\n",
       "      <th>status</th>\n",
       "      <th>erc</th>\n",
       "      <th>rush_hour</th>\n",
       "      <th>order_totals</th>\n",
       "      <th>user_id</th>\n",
       "      <th>owner_id</th>\n",
       "      <th>current_form</th>\n",
       "      <th>registered_at</th>\n",
       "      <th>update_at</th>\n",
       "      <th>delete_at</th>\n",
       "    </tr>\n",
       "  </thead>\n",
       "  <tbody>\n",
       "    <tr>\n",
       "      <th>0</th>\n",
       "      <td>1000047</td>\n",
       "      <td>McDonald's (675 Upper James Street)</td>\n",
       "      <td>227</td>\n",
       "      <td>Nguyễn Văn Cừ</td>\n",
       "      <td>1</td>\n",
       "      <td>2</td>\n",
       "      <td>3</td>\n",
       "      <td>NaN</td>\n",
       "      <td>abc</td>\n",
       "      <td>0123456789</td>\n",
       "      <td>...</td>\n",
       "      <td>1</td>\n",
       "      <td>https://media-cdn.tripadvisor.com/media/photo-...</td>\n",
       "      <td>03:45:12</td>\n",
       "      <td>500</td>\n",
       "      <td>1000002</td>\n",
       "      <td>1000000</td>\n",
       "      <td>5</td>\n",
       "      <td>2021-02-18 20:22:11</td>\n",
       "      <td>2021-02-18 20:22:11</td>\n",
       "      <td>2021-02-18 20:22:11</td>\n",
       "    </tr>\n",
       "    <tr>\n",
       "      <th>1</th>\n",
       "      <td>1000033</td>\n",
       "      <td>HAMBRGR Downtown</td>\n",
       "      <td>227</td>\n",
       "      <td>Nguyễn Văn Cừ</td>\n",
       "      <td>1</td>\n",
       "      <td>2</td>\n",
       "      <td>3</td>\n",
       "      <td>You've found one of the hottest delivery spots...</td>\n",
       "      <td>abc</td>\n",
       "      <td>0123456789</td>\n",
       "      <td>...</td>\n",
       "      <td>1</td>\n",
       "      <td>https://media-cdn.tripadvisor.com/media/photo-...</td>\n",
       "      <td>03:45:12</td>\n",
       "      <td>500</td>\n",
       "      <td>1000004</td>\n",
       "      <td>1000001</td>\n",
       "      <td>5</td>\n",
       "      <td>2021-06-04 03:09:21</td>\n",
       "      <td>2021-06-04 03:09:21</td>\n",
       "      <td>2021-06-04 03:09:21</td>\n",
       "    </tr>\n",
       "    <tr>\n",
       "      <th>2</th>\n",
       "      <td>1000061</td>\n",
       "      <td>Popeyes Louisiana Kitchen (11 King St E)</td>\n",
       "      <td>227</td>\n",
       "      <td>Nguyễn Văn Cừ</td>\n",
       "      <td>1</td>\n",
       "      <td>2</td>\n",
       "      <td>3</td>\n",
       "      <td>NaN</td>\n",
       "      <td>abc</td>\n",
       "      <td>0123456789</td>\n",
       "      <td>...</td>\n",
       "      <td>1</td>\n",
       "      <td>https://media-cdn.tripadvisor.com/media/photo-...</td>\n",
       "      <td>03:45:12</td>\n",
       "      <td>500</td>\n",
       "      <td>1000015</td>\n",
       "      <td>1000002</td>\n",
       "      <td>5</td>\n",
       "      <td>2018-09-25 20:22:28</td>\n",
       "      <td>2018-09-25 20:22:28</td>\n",
       "      <td>2018-09-25 20:22:28</td>\n",
       "    </tr>\n",
       "    <tr>\n",
       "      <th>3</th>\n",
       "      <td>1000103</td>\n",
       "      <td>Wendy's (244 Hwy 20 South)</td>\n",
       "      <td>227</td>\n",
       "      <td>Nguyễn Văn Cừ</td>\n",
       "      <td>1</td>\n",
       "      <td>2</td>\n",
       "      <td>3</td>\n",
       "      <td>Wish you could ask someone what's best here? O...</td>\n",
       "      <td>abc</td>\n",
       "      <td>0123456789</td>\n",
       "      <td>...</td>\n",
       "      <td>1</td>\n",
       "      <td>https://media-cdn.tripadvisor.com/media/photo-...</td>\n",
       "      <td>03:45:12</td>\n",
       "      <td>500</td>\n",
       "      <td>1000017</td>\n",
       "      <td>1000003</td>\n",
       "      <td>5</td>\n",
       "      <td>2020-11-25 15:26:09</td>\n",
       "      <td>2020-11-25 15:26:09</td>\n",
       "      <td>2020-11-25 15:26:09</td>\n",
       "    </tr>\n",
       "    <tr>\n",
       "      <th>4</th>\n",
       "      <td>1000094</td>\n",
       "      <td>The Ship</td>\n",
       "      <td>227</td>\n",
       "      <td>Nguyễn Văn Cừ</td>\n",
       "      <td>1</td>\n",
       "      <td>2</td>\n",
       "      <td>3</td>\n",
       "      <td>NaN</td>\n",
       "      <td>abc</td>\n",
       "      <td>0123456789</td>\n",
       "      <td>...</td>\n",
       "      <td>1</td>\n",
       "      <td>https://media-cdn.tripadvisor.com/media/photo-...</td>\n",
       "      <td>03:45:12</td>\n",
       "      <td>500</td>\n",
       "      <td>1000018</td>\n",
       "      <td>1000004</td>\n",
       "      <td>5</td>\n",
       "      <td>2019-09-20 15:13:28</td>\n",
       "      <td>2019-09-20 15:13:28</td>\n",
       "      <td>2019-09-20 15:13:28</td>\n",
       "    </tr>\n",
       "  </tbody>\n",
       "</table>\n",
       "<p>5 rows × 28 columns</p>\n",
       "</div>"
      ],
      "text/plain": [
       "   provider_id                             merchant_name address  \\\n",
       "0      1000047       McDonald's (675 Upper James Street)     227   \n",
       "1      1000033                          HAMBRGR Downtown     227   \n",
       "2      1000061  Popeyes Louisiana Kitchen (11 King St E)     227   \n",
       "3      1000103                Wendy's (244 Hwy 20 South)     227   \n",
       "4      1000094                                  The Ship     227   \n",
       "\n",
       "            road ward_id district_id city_id  \\\n",
       "0  Nguyễn Văn Cừ       1           2       3   \n",
       "1  Nguyễn Văn Cừ       1           2       3   \n",
       "2  Nguyễn Văn Cừ       1           2       3   \n",
       "3  Nguyễn Văn Cừ       1           2       3   \n",
       "4  Nguyễn Văn Cừ       1           2       3   \n",
       "\n",
       "                                         description keyword     hotline  ...  \\\n",
       "0                                                NaN     abc  0123456789  ...   \n",
       "1  You've found one of the hottest delivery spots...     abc  0123456789  ...   \n",
       "2                                                NaN     abc  0123456789  ...   \n",
       "3  Wish you could ask someone what's best here? O...     abc  0123456789  ...   \n",
       "4                                                NaN     abc  0123456789  ...   \n",
       "\n",
       "  status                                                erc rush_hour  \\\n",
       "0      1  https://media-cdn.tripadvisor.com/media/photo-...  03:45:12   \n",
       "1      1  https://media-cdn.tripadvisor.com/media/photo-...  03:45:12   \n",
       "2      1  https://media-cdn.tripadvisor.com/media/photo-...  03:45:12   \n",
       "3      1  https://media-cdn.tripadvisor.com/media/photo-...  03:45:12   \n",
       "4      1  https://media-cdn.tripadvisor.com/media/photo-...  03:45:12   \n",
       "\n",
       "  order_totals  user_id owner_id current_form       registered_at  \\\n",
       "0          500  1000002  1000000            5 2021-02-18 20:22:11   \n",
       "1          500  1000004  1000001            5 2021-06-04 03:09:21   \n",
       "2          500  1000015  1000002            5 2018-09-25 20:22:28   \n",
       "3          500  1000017  1000003            5 2020-11-25 15:26:09   \n",
       "4          500  1000018  1000004            5 2019-09-20 15:13:28   \n",
       "\n",
       "            update_at           delete_at  \n",
       "0 2021-02-18 20:22:11 2021-02-18 20:22:11  \n",
       "1 2021-06-04 03:09:21 2021-06-04 03:09:21  \n",
       "2 2018-09-25 20:22:28 2018-09-25 20:22:28  \n",
       "3 2020-11-25 15:26:09 2020-11-25 15:26:09  \n",
       "4 2019-09-20 15:13:28 2019-09-20 15:13:28  \n",
       "\n",
       "[5 rows x 28 columns]"
      ]
     },
     "execution_count": 67,
     "metadata": {},
     "output_type": "execute_result"
    },
    {
     "data": {
      "application/javascript": "\n            setTimeout(function() {\n                var nbb_cell_id = 67;\n                var nbb_unformatted_code = \"provider_data.head()\";\n                var nbb_formatted_code = \"provider_data.head()\";\n                var nbb_cells = Jupyter.notebook.get_cells();\n                for (var i = 0; i < nbb_cells.length; ++i) {\n                    if (nbb_cells[i].input_prompt_number == nbb_cell_id) {\n                        if (nbb_cells[i].get_text() == nbb_unformatted_code) {\n                             nbb_cells[i].set_text(nbb_formatted_code);\n                        }\n                        break;\n                    }\n                }\n            }, 500);\n            ",
      "text/plain": [
       "<IPython.core.display.Javascript object>"
      ]
     },
     "metadata": {},
     "output_type": "display_data"
    }
   ],
   "source": [
    "provider_data.head()"
   ]
  },
  {
   "cell_type": "code",
   "execution_count": 68,
   "id": "f5a9ff76",
   "metadata": {
    "ExecuteTime": {
     "end_time": "2022-03-31T06:37:27.926466Z",
     "start_time": "2022-03-31T06:37:27.896004Z"
    }
   },
   "outputs": [
    {
     "name": "stdout",
     "output_type": "stream",
     "text": [
      "<class 'pandas.core.frame.DataFrame'>\n",
      "RangeIndex: 108 entries, 0 to 107\n",
      "Data columns (total 28 columns):\n",
      " #   Column                  Non-Null Count  Dtype         \n",
      "---  ------                  --------------  -----         \n",
      " 0   provider_id             108 non-null    int64         \n",
      " 1   merchant_name           108 non-null    object        \n",
      " 2   address                 108 non-null    object        \n",
      " 3   road                    108 non-null    object        \n",
      " 4   ward_id                 108 non-null    object        \n",
      " 5   district_id             108 non-null    object        \n",
      " 6   city_id                 108 non-null    object        \n",
      " 7   description             53 non-null     object        \n",
      " 8   keyword                 108 non-null    object        \n",
      " 9   hotline                 108 non-null    object        \n",
      " 10  tax_code                108 non-null    object        \n",
      " 11  price_range             108 non-null    object        \n",
      " 12  avatar                  108 non-null    object        \n",
      " 13  cover_picture           108 non-null    object        \n",
      " 14  facade_photo            108 non-null    object        \n",
      " 15  latitude                108 non-null    object        \n",
      " 16  longitude               108 non-null    object        \n",
      " 17  estimated_cooking_time  108 non-null    object        \n",
      " 18  status                  108 non-null    int64         \n",
      " 19  erc                     108 non-null    object        \n",
      " 20  rush_hour               108 non-null    object        \n",
      " 21  order_totals            108 non-null    int64         \n",
      " 22  user_id                 108 non-null    int64         \n",
      " 23  owner_id                108 non-null    int64         \n",
      " 24  current_form            108 non-null    int64         \n",
      " 25  registered_at           108 non-null    datetime64[ns]\n",
      " 26  update_at               108 non-null    datetime64[ns]\n",
      " 27  delete_at               108 non-null    datetime64[ns]\n",
      "dtypes: datetime64[ns](3), int64(6), object(19)\n",
      "memory usage: 23.8+ KB\n"
     ]
    },
    {
     "data": {
      "application/javascript": "\n            setTimeout(function() {\n                var nbb_cell_id = 68;\n                var nbb_unformatted_code = \"provider_data.info()\";\n                var nbb_formatted_code = \"provider_data.info()\";\n                var nbb_cells = Jupyter.notebook.get_cells();\n                for (var i = 0; i < nbb_cells.length; ++i) {\n                    if (nbb_cells[i].input_prompt_number == nbb_cell_id) {\n                        if (nbb_cells[i].get_text() == nbb_unformatted_code) {\n                             nbb_cells[i].set_text(nbb_formatted_code);\n                        }\n                        break;\n                    }\n                }\n            }, 500);\n            ",
      "text/plain": [
       "<IPython.core.display.Javascript object>"
      ]
     },
     "metadata": {},
     "output_type": "display_data"
    }
   ],
   "source": [
    "provider_data.info()"
   ]
  },
  {
   "cell_type": "code",
   "execution_count": 69,
   "id": "360556c6",
   "metadata": {
    "ExecuteTime": {
     "end_time": "2022-03-31T06:37:28.269030Z",
     "start_time": "2022-03-31T06:37:28.248278Z"
    }
   },
   "outputs": [
    {
     "data": {
      "application/javascript": "\n            setTimeout(function() {\n                var nbb_cell_id = 69;\n                var nbb_unformatted_code = \"provider_data.description = provider_data.description.fillna(np.nan).replace(\\n    [np.nan], [None]\\n)\";\n                var nbb_formatted_code = \"provider_data.description = provider_data.description.fillna(np.nan).replace(\\n    [np.nan], [None]\\n)\";\n                var nbb_cells = Jupyter.notebook.get_cells();\n                for (var i = 0; i < nbb_cells.length; ++i) {\n                    if (nbb_cells[i].input_prompt_number == nbb_cell_id) {\n                        if (nbb_cells[i].get_text() == nbb_unformatted_code) {\n                             nbb_cells[i].set_text(nbb_formatted_code);\n                        }\n                        break;\n                    }\n                }\n            }, 500);\n            ",
      "text/plain": [
       "<IPython.core.display.Javascript object>"
      ]
     },
     "metadata": {},
     "output_type": "display_data"
    }
   ],
   "source": [
    "provider_data.description = provider_data.description.fillna(np.nan).replace(\n",
    "    [np.nan], [None]\n",
    ")"
   ]
  },
  {
   "cell_type": "code",
   "execution_count": 70,
   "id": "4885742d",
   "metadata": {
    "ExecuteTime": {
     "end_time": "2022-03-31T06:37:29.260116Z",
     "start_time": "2022-03-31T06:37:29.249098Z"
    }
   },
   "outputs": [
    {
     "data": {
      "application/javascript": "\n            setTimeout(function() {\n                var nbb_cell_id = 70;\n                var nbb_unformatted_code = \"provider_data.description = provider_data.description.apply(\\n    lambda x: x.rpartition(\\\".\\\")[0] + \\\".\\\" if x != None else x\\n)\";\n                var nbb_formatted_code = \"provider_data.description = provider_data.description.apply(\\n    lambda x: x.rpartition(\\\".\\\")[0] + \\\".\\\" if x != None else x\\n)\";\n                var nbb_cells = Jupyter.notebook.get_cells();\n                for (var i = 0; i < nbb_cells.length; ++i) {\n                    if (nbb_cells[i].input_prompt_number == nbb_cell_id) {\n                        if (nbb_cells[i].get_text() == nbb_unformatted_code) {\n                             nbb_cells[i].set_text(nbb_formatted_code);\n                        }\n                        break;\n                    }\n                }\n            }, 500);\n            ",
      "text/plain": [
       "<IPython.core.display.Javascript object>"
      ]
     },
     "metadata": {},
     "output_type": "display_data"
    }
   ],
   "source": [
    "provider_data.description = provider_data.description.apply(\n",
    "    lambda x: x.rpartition(\".\")[0] + \".\" if x != None else x\n",
    ")"
   ]
  },
  {
   "cell_type": "code",
   "execution_count": 71,
   "id": "1d0002a1",
   "metadata": {
    "ExecuteTime": {
     "end_time": "2022-03-21T15:14:49.534749Z",
     "start_time": "2022-03-21T15:14:49.526712Z"
    }
   },
   "outputs": [
    {
     "data": {
      "application/javascript": "\n            setTimeout(function() {\n                var nbb_cell_id = 71;\n                var nbb_unformatted_code = \"# provider_data.description = provider_data.description.apply(\\n#     lambda x: \\\"?\\\" if x == None else x\\n# )\";\n                var nbb_formatted_code = \"# provider_data.description = provider_data.description.apply(\\n#     lambda x: \\\"?\\\" if x == None else x\\n# )\";\n                var nbb_cells = Jupyter.notebook.get_cells();\n                for (var i = 0; i < nbb_cells.length; ++i) {\n                    if (nbb_cells[i].input_prompt_number == nbb_cell_id) {\n                        if (nbb_cells[i].get_text() == nbb_unformatted_code) {\n                             nbb_cells[i].set_text(nbb_formatted_code);\n                        }\n                        break;\n                    }\n                }\n            }, 500);\n            ",
      "text/plain": [
       "<IPython.core.display.Javascript object>"
      ]
     },
     "metadata": {},
     "output_type": "display_data"
    }
   ],
   "source": [
    "# provider_data.description = provider_data.description.apply(\n",
    "#     lambda x: \"?\" if x == None else x\n",
    "# )"
   ]
  },
  {
   "cell_type": "code",
   "execution_count": 72,
   "id": "5f0a93de",
   "metadata": {
    "ExecuteTime": {
     "end_time": "2022-03-21T15:14:49.889437Z",
     "start_time": "2022-03-21T15:14:49.869488Z"
    }
   },
   "outputs": [
    {
     "data": {
      "application/javascript": "\n            setTimeout(function() {\n                var nbb_cell_id = 72;\n                var nbb_unformatted_code = \"# provider_data.description = \\\"abc\\\"\";\n                var nbb_formatted_code = \"# provider_data.description = \\\"abc\\\"\";\n                var nbb_cells = Jupyter.notebook.get_cells();\n                for (var i = 0; i < nbb_cells.length; ++i) {\n                    if (nbb_cells[i].input_prompt_number == nbb_cell_id) {\n                        if (nbb_cells[i].get_text() == nbb_unformatted_code) {\n                             nbb_cells[i].set_text(nbb_formatted_code);\n                        }\n                        break;\n                    }\n                }\n            }, 500);\n            ",
      "text/plain": [
       "<IPython.core.display.Javascript object>"
      ]
     },
     "metadata": {},
     "output_type": "display_data"
    }
   ],
   "source": [
    "# provider_data.description = \"abc\""
   ]
  },
  {
   "cell_type": "code",
   "execution_count": 73,
   "id": "0c868a22",
   "metadata": {
    "ExecuteTime": {
     "end_time": "2022-03-21T15:14:50.385614Z",
     "start_time": "2022-03-21T15:14:50.364669Z"
    }
   },
   "outputs": [
    {
     "data": {
      "application/javascript": "\n            setTimeout(function() {\n                var nbb_cell_id = 73;\n                var nbb_unformatted_code = \"# provider_data = provider_data.dropna()\";\n                var nbb_formatted_code = \"# provider_data = provider_data.dropna()\";\n                var nbb_cells = Jupyter.notebook.get_cells();\n                for (var i = 0; i < nbb_cells.length; ++i) {\n                    if (nbb_cells[i].input_prompt_number == nbb_cell_id) {\n                        if (nbb_cells[i].get_text() == nbb_unformatted_code) {\n                             nbb_cells[i].set_text(nbb_formatted_code);\n                        }\n                        break;\n                    }\n                }\n            }, 500);\n            ",
      "text/plain": [
       "<IPython.core.display.Javascript object>"
      ]
     },
     "metadata": {},
     "output_type": "display_data"
    }
   ],
   "source": [
    "# provider_data = provider_data.dropna()"
   ]
  },
  {
   "cell_type": "code",
   "execution_count": 74,
   "id": "e1769c6d",
   "metadata": {
    "ExecuteTime": {
     "end_time": "2022-03-21T15:14:52.039543Z",
     "start_time": "2022-03-21T15:14:52.018596Z"
    }
   },
   "outputs": [
    {
     "data": {
      "text/plain": [
       "Index(['provider_id', 'merchant_name', 'address', 'road', 'ward_id',\n",
       "       'district_id', 'city_id', 'description', 'keyword', 'hotline',\n",
       "       'tax_code', 'price_range', 'avatar', 'cover_picture', 'facade_photo',\n",
       "       'latitude', 'longitude', 'estimated_cooking_time', 'status', 'erc',\n",
       "       'rush_hour', 'order_totals', 'user_id', 'owner_id', 'current_form',\n",
       "       'registered_at', 'update_at', 'delete_at'],\n",
       "      dtype='object')"
      ]
     },
     "execution_count": 74,
     "metadata": {},
     "output_type": "execute_result"
    },
    {
     "data": {
      "application/javascript": "\n            setTimeout(function() {\n                var nbb_cell_id = 74;\n                var nbb_unformatted_code = \"provider_data.columns\";\n                var nbb_formatted_code = \"provider_data.columns\";\n                var nbb_cells = Jupyter.notebook.get_cells();\n                for (var i = 0; i < nbb_cells.length; ++i) {\n                    if (nbb_cells[i].input_prompt_number == nbb_cell_id) {\n                        if (nbb_cells[i].get_text() == nbb_unformatted_code) {\n                             nbb_cells[i].set_text(nbb_formatted_code);\n                        }\n                        break;\n                    }\n                }\n            }, 500);\n            ",
      "text/plain": [
       "<IPython.core.display.Javascript object>"
      ]
     },
     "metadata": {},
     "output_type": "display_data"
    }
   ],
   "source": [
    "provider_data.columns"
   ]
  },
  {
   "cell_type": "code",
   "execution_count": 75,
   "id": "5a7df2db",
   "metadata": {
    "ExecuteTime": {
     "end_time": "2022-03-31T06:37:34.240839Z",
     "start_time": "2022-03-31T06:37:34.225617Z"
    }
   },
   "outputs": [
    {
     "data": {
      "application/javascript": "\n            setTimeout(function() {\n                var nbb_cell_id = 75;\n                var nbb_unformatted_code = \"provider_data[\\\"delete_at\\\"] = None\";\n                var nbb_formatted_code = \"provider_data[\\\"delete_at\\\"] = None\";\n                var nbb_cells = Jupyter.notebook.get_cells();\n                for (var i = 0; i < nbb_cells.length; ++i) {\n                    if (nbb_cells[i].input_prompt_number == nbb_cell_id) {\n                        if (nbb_cells[i].get_text() == nbb_unformatted_code) {\n                             nbb_cells[i].set_text(nbb_formatted_code);\n                        }\n                        break;\n                    }\n                }\n            }, 500);\n            ",
      "text/plain": [
       "<IPython.core.display.Javascript object>"
      ]
     },
     "metadata": {},
     "output_type": "display_data"
    }
   ],
   "source": [
    "provider_data[\"delete_at\"] = None"
   ]
  },
  {
   "cell_type": "code",
   "execution_count": 1101,
   "id": "28fb8c13",
   "metadata": {
    "ExecuteTime": {
     "end_time": "2022-03-21T15:14:52.909887Z",
     "start_time": "2022-03-21T15:14:52.895905Z"
    }
   },
   "outputs": [
    {
     "data": {
      "application/javascript": "\n            setTimeout(function() {\n                var nbb_cell_id = 1101;\n                var nbb_unformatted_code = \"# conn, cur = connect_db()\\n# cols = \\\"`,`\\\".join([str(i) for i in list(provider_data.columns)])\\n# sql = (\\n#     \\\"INSERT INTO `provider` (`\\\"\\n#     + cols\\n#     + \\\"`) VALUES (\\\"\\n#     + \\\"%s,\\\" * (provider_data.shape[1] - 1)\\n#     + \\\"%s)\\\"\\n# )\\n\\n# try:\\n#     cur.executemany(sql, provider_data.values.tolist())  # owner_values\\n#     conn.commit()\\n# except Error as error:\\n#     # conn.rollback()\\n#     print(\\\"Failed to insert into MySQL table {}\\\".format(error))\\n# finally:\\n#     cur.close()\\n#     conn.close()\";\n                var nbb_formatted_code = \"# conn, cur = connect_db()\\n# cols = \\\"`,`\\\".join([str(i) for i in list(provider_data.columns)])\\n# sql = (\\n#     \\\"INSERT INTO `provider` (`\\\"\\n#     + cols\\n#     + \\\"`) VALUES (\\\"\\n#     + \\\"%s,\\\" * (provider_data.shape[1] - 1)\\n#     + \\\"%s)\\\"\\n# )\\n\\n# try:\\n#     cur.executemany(sql, provider_data.values.tolist())  # owner_values\\n#     conn.commit()\\n# except Error as error:\\n#     # conn.rollback()\\n#     print(\\\"Failed to insert into MySQL table {}\\\".format(error))\\n# finally:\\n#     cur.close()\\n#     conn.close()\";\n                var nbb_cells = Jupyter.notebook.get_cells();\n                for (var i = 0; i < nbb_cells.length; ++i) {\n                    if (nbb_cells[i].input_prompt_number == nbb_cell_id) {\n                        if (nbb_cells[i].get_text() == nbb_unformatted_code) {\n                             nbb_cells[i].set_text(nbb_formatted_code);\n                        }\n                        break;\n                    }\n                }\n            }, 500);\n            ",
      "text/plain": [
       "<IPython.core.display.Javascript object>"
      ]
     },
     "metadata": {},
     "output_type": "display_data"
    }
   ],
   "source": [
    "# conn, cur = connect_db()\n",
    "# cols = \"`,`\".join([str(i) for i in list(provider_data.columns)])\n",
    "# sql = (\n",
    "#     \"INSERT INTO `provider` (`\"\n",
    "#     + cols\n",
    "#     + \"`) VALUES (\"\n",
    "#     + \"%s,\" * (provider_data.shape[1] - 1)\n",
    "#     + \"%s)\"\n",
    "# )\n",
    "\n",
    "# try:\n",
    "#     cur.executemany(sql, provider_data.values.tolist())  # owner_values\n",
    "#     conn.commit()\n",
    "# except Error as error:\n",
    "#     # conn.rollback()\n",
    "#     print(\"Failed to insert into MySQL table {}\".format(error))\n",
    "# finally:\n",
    "#     cur.close()\n",
    "#     conn.close()"
   ]
  },
  {
   "cell_type": "code",
   "execution_count": 142,
   "id": "462b757f",
   "metadata": {
    "ExecuteTime": {
     "end_time": "2022-03-21T15:14:54.376221Z",
     "start_time": "2022-03-21T15:14:54.337296Z"
    }
   },
   "outputs": [
    {
     "data": {
      "text/html": [
       "<div>\n",
       "<style scoped>\n",
       "    .dataframe tbody tr th:only-of-type {\n",
       "        vertical-align: middle;\n",
       "    }\n",
       "\n",
       "    .dataframe tbody tr th {\n",
       "        vertical-align: top;\n",
       "    }\n",
       "\n",
       "    .dataframe thead th {\n",
       "        text-align: right;\n",
       "    }\n",
       "</style>\n",
       "<table border=\"1\" class=\"dataframe\">\n",
       "  <thead>\n",
       "    <tr style=\"text-align: right;\">\n",
       "      <th></th>\n",
       "      <th>provider_id</th>\n",
       "      <th>merchant_name</th>\n",
       "      <th>address</th>\n",
       "      <th>road</th>\n",
       "      <th>ward_id</th>\n",
       "      <th>district_id</th>\n",
       "      <th>city_id</th>\n",
       "      <th>description</th>\n",
       "      <th>keyword</th>\n",
       "      <th>hotline</th>\n",
       "      <th>...</th>\n",
       "      <th>status</th>\n",
       "      <th>erc</th>\n",
       "      <th>rush_hour</th>\n",
       "      <th>order_totals</th>\n",
       "      <th>user_id</th>\n",
       "      <th>owner_id</th>\n",
       "      <th>current_form</th>\n",
       "      <th>registered_at</th>\n",
       "      <th>update_at</th>\n",
       "      <th>delete_at</th>\n",
       "    </tr>\n",
       "  </thead>\n",
       "  <tbody>\n",
       "    <tr>\n",
       "      <th>0</th>\n",
       "      <td>1000047</td>\n",
       "      <td>McDonald's (675 Upper James Street)</td>\n",
       "      <td>227</td>\n",
       "      <td>Nguyễn Văn Cừ</td>\n",
       "      <td>1</td>\n",
       "      <td>2</td>\n",
       "      <td>3</td>\n",
       "      <td>None</td>\n",
       "      <td>abc</td>\n",
       "      <td>0123456789</td>\n",
       "      <td>...</td>\n",
       "      <td>1</td>\n",
       "      <td>https://media-cdn.tripadvisor.com/media/photo-...</td>\n",
       "      <td>03:45:12</td>\n",
       "      <td>500</td>\n",
       "      <td>1000002</td>\n",
       "      <td>1000000</td>\n",
       "      <td>5</td>\n",
       "      <td>2020-09-04 21:04:21</td>\n",
       "      <td>2020-09-04 21:04:21</td>\n",
       "      <td>None</td>\n",
       "    </tr>\n",
       "    <tr>\n",
       "      <th>1</th>\n",
       "      <td>1000033</td>\n",
       "      <td>HAMBRGR Downtown</td>\n",
       "      <td>227</td>\n",
       "      <td>Nguyễn Văn Cừ</td>\n",
       "      <td>1</td>\n",
       "      <td>2</td>\n",
       "      <td>3</td>\n",
       "      <td>You've found one of the hottest delivery spots...</td>\n",
       "      <td>abc</td>\n",
       "      <td>0123456789</td>\n",
       "      <td>...</td>\n",
       "      <td>1</td>\n",
       "      <td>https://media-cdn.tripadvisor.com/media/photo-...</td>\n",
       "      <td>03:45:12</td>\n",
       "      <td>500</td>\n",
       "      <td>1000004</td>\n",
       "      <td>1000001</td>\n",
       "      <td>5</td>\n",
       "      <td>2021-05-18 19:29:57</td>\n",
       "      <td>2021-05-18 19:29:57</td>\n",
       "      <td>None</td>\n",
       "    </tr>\n",
       "  </tbody>\n",
       "</table>\n",
       "<p>2 rows × 28 columns</p>\n",
       "</div>"
      ],
      "text/plain": [
       "   provider_id                        merchant_name address           road  \\\n",
       "0      1000047  McDonald's (675 Upper James Street)     227  Nguyễn Văn Cừ   \n",
       "1      1000033                     HAMBRGR Downtown     227  Nguyễn Văn Cừ   \n",
       "\n",
       "  ward_id district_id city_id  \\\n",
       "0       1           2       3   \n",
       "1       1           2       3   \n",
       "\n",
       "                                         description keyword     hotline  ...  \\\n",
       "0                                               None     abc  0123456789  ...   \n",
       "1  You've found one of the hottest delivery spots...     abc  0123456789  ...   \n",
       "\n",
       "  status                                                erc rush_hour  \\\n",
       "0      1  https://media-cdn.tripadvisor.com/media/photo-...  03:45:12   \n",
       "1      1  https://media-cdn.tripadvisor.com/media/photo-...  03:45:12   \n",
       "\n",
       "  order_totals  user_id owner_id current_form       registered_at  \\\n",
       "0          500  1000002  1000000            5 2020-09-04 21:04:21   \n",
       "1          500  1000004  1000001            5 2021-05-18 19:29:57   \n",
       "\n",
       "            update_at delete_at  \n",
       "0 2020-09-04 21:04:21      None  \n",
       "1 2021-05-18 19:29:57      None  \n",
       "\n",
       "[2 rows x 28 columns]"
      ]
     },
     "execution_count": 142,
     "metadata": {},
     "output_type": "execute_result"
    }
   ],
   "source": [
    "provider_data.head(2)"
   ]
  },
  {
   "cell_type": "code",
   "execution_count": 250,
   "id": "8a19b373",
   "metadata": {},
   "outputs": [],
   "source": [
    "provider_data.to_csv('mysql_data/provider.csv', index = False)"
   ]
  },
  {
   "cell_type": "code",
   "execution_count": 1103,
   "id": "55f6e447",
   "metadata": {
    "ExecuteTime": {
     "end_time": "2022-03-21T15:15:31.377333Z",
     "start_time": "2022-03-21T15:15:31.311539Z"
    }
   },
   "outputs": [
    {
     "data": {
      "application/javascript": "\n            setTimeout(function() {\n                var nbb_cell_id = 1103;\n                var nbb_unformatted_code = \"insert_execute_many(provider_data, \\\"Provider\\\")\";\n                var nbb_formatted_code = \"insert_execute_many(provider_data, \\\"Provider\\\")\";\n                var nbb_cells = Jupyter.notebook.get_cells();\n                for (var i = 0; i < nbb_cells.length; ++i) {\n                    if (nbb_cells[i].input_prompt_number == nbb_cell_id) {\n                        if (nbb_cells[i].get_text() == nbb_unformatted_code) {\n                             nbb_cells[i].set_text(nbb_formatted_code);\n                        }\n                        break;\n                    }\n                }\n            }, 500);\n            ",
      "text/plain": [
       "<IPython.core.display.Javascript object>"
      ]
     },
     "metadata": {},
     "output_type": "display_data"
    }
   ],
   "source": [
    "insert_execute_many(provider_data, \"Provider\")"
   ]
  },
  {
   "cell_type": "markdown",
   "id": "d38a300c",
   "metadata": {},
   "source": [
    "### Provider Operation"
   ]
  },
  {
   "cell_type": "code",
   "execution_count": 76,
   "id": "bec4812d",
   "metadata": {},
   "outputs": [
    {
     "data": {
      "application/javascript": "\n            setTimeout(function() {\n                var nbb_cell_id = 76;\n                var nbb_unformatted_code = \"df_operation_temp = provider_data[['provider_id']]\";\n                var nbb_formatted_code = \"df_operation_temp = provider_data[[\\\"provider_id\\\"]]\";\n                var nbb_cells = Jupyter.notebook.get_cells();\n                for (var i = 0; i < nbb_cells.length; ++i) {\n                    if (nbb_cells[i].input_prompt_number == nbb_cell_id) {\n                        if (nbb_cells[i].get_text() == nbb_unformatted_code) {\n                             nbb_cells[i].set_text(nbb_formatted_code);\n                        }\n                        break;\n                    }\n                }\n            }, 500);\n            ",
      "text/plain": [
       "<IPython.core.display.Javascript object>"
      ]
     },
     "metadata": {},
     "output_type": "display_data"
    }
   ],
   "source": [
    "df_operation_temp = provider_data[['provider_id']]"
   ]
  },
  {
   "cell_type": "code",
   "execution_count": 77,
   "id": "06ca1580",
   "metadata": {},
   "outputs": [
    {
     "data": {
      "text/plain": [
       "(108, 1)"
      ]
     },
     "execution_count": 77,
     "metadata": {},
     "output_type": "execute_result"
    },
    {
     "data": {
      "application/javascript": "\n            setTimeout(function() {\n                var nbb_cell_id = 77;\n                var nbb_unformatted_code = \"df_operation_temp.shape\";\n                var nbb_formatted_code = \"df_operation_temp.shape\";\n                var nbb_cells = Jupyter.notebook.get_cells();\n                for (var i = 0; i < nbb_cells.length; ++i) {\n                    if (nbb_cells[i].input_prompt_number == nbb_cell_id) {\n                        if (nbb_cells[i].get_text() == nbb_unformatted_code) {\n                             nbb_cells[i].set_text(nbb_formatted_code);\n                        }\n                        break;\n                    }\n                }\n            }, 500);\n            ",
      "text/plain": [
       "<IPython.core.display.Javascript object>"
      ]
     },
     "metadata": {},
     "output_type": "display_data"
    }
   ],
   "source": [
    "df_operation_temp.shape"
   ]
  },
  {
   "cell_type": "code",
   "execution_count": 78,
   "id": "0c487980",
   "metadata": {},
   "outputs": [
    {
     "data": {
      "application/javascript": "\n            setTimeout(function() {\n                var nbb_cell_id = 78;\n                var nbb_unformatted_code = \"df_operation_sunday = df_operation_temp.copy()\\ndf_operation_monday = df_operation_temp.copy()\\ndf_operation_tuesday = df_operation_temp.copy()\\ndf_operation_wednesday = df_operation_temp.copy()\\ndf_operation_thursday = df_operation_temp.copy()\\ndf_operation_friday = df_operation_temp.copy()\\ndf_operation_saturday = df_operation_temp.copy()\\ndf_operation_sunday  = df_operation_temp.copy()\\n\\ndf_operation_sunday['day'] = 1\\ndf_operation_monday['day'] = 2\\ndf_operation_tuesday['day'] = 3\\ndf_operation_wednesday['day'] = 4\\ndf_operation_thursday['day'] = 5\\ndf_operation_friday['day'] = 6\\ndf_operation_saturday['day'] = 7\";\n                var nbb_formatted_code = \"df_operation_sunday = df_operation_temp.copy()\\ndf_operation_monday = df_operation_temp.copy()\\ndf_operation_tuesday = df_operation_temp.copy()\\ndf_operation_wednesday = df_operation_temp.copy()\\ndf_operation_thursday = df_operation_temp.copy()\\ndf_operation_friday = df_operation_temp.copy()\\ndf_operation_saturday = df_operation_temp.copy()\\ndf_operation_sunday = df_operation_temp.copy()\\n\\ndf_operation_sunday[\\\"day\\\"] = 1\\ndf_operation_monday[\\\"day\\\"] = 2\\ndf_operation_tuesday[\\\"day\\\"] = 3\\ndf_operation_wednesday[\\\"day\\\"] = 4\\ndf_operation_thursday[\\\"day\\\"] = 5\\ndf_operation_friday[\\\"day\\\"] = 6\\ndf_operation_saturday[\\\"day\\\"] = 7\";\n                var nbb_cells = Jupyter.notebook.get_cells();\n                for (var i = 0; i < nbb_cells.length; ++i) {\n                    if (nbb_cells[i].input_prompt_number == nbb_cell_id) {\n                        if (nbb_cells[i].get_text() == nbb_unformatted_code) {\n                             nbb_cells[i].set_text(nbb_formatted_code);\n                        }\n                        break;\n                    }\n                }\n            }, 500);\n            ",
      "text/plain": [
       "<IPython.core.display.Javascript object>"
      ]
     },
     "metadata": {},
     "output_type": "display_data"
    }
   ],
   "source": [
    "df_operation_sunday = df_operation_temp.copy()\n",
    "df_operation_monday = df_operation_temp.copy()\n",
    "df_operation_tuesday = df_operation_temp.copy()\n",
    "df_operation_wednesday = df_operation_temp.copy()\n",
    "df_operation_thursday = df_operation_temp.copy()\n",
    "df_operation_friday = df_operation_temp.copy()\n",
    "df_operation_saturday = df_operation_temp.copy()\n",
    "df_operation_sunday  = df_operation_temp.copy()\n",
    "\n",
    "df_operation_sunday['day'] = 1\n",
    "df_operation_monday['day'] = 2\n",
    "df_operation_tuesday['day'] = 3\n",
    "df_operation_wednesday['day'] = 4\n",
    "df_operation_thursday['day'] = 5\n",
    "df_operation_friday['day'] = 6\n",
    "df_operation_saturday['day'] = 7\n"
   ]
  },
  {
   "cell_type": "code",
   "execution_count": 79,
   "id": "50a85775",
   "metadata": {},
   "outputs": [
    {
     "data": {
      "text/html": [
       "<div>\n",
       "<style scoped>\n",
       "    .dataframe tbody tr th:only-of-type {\n",
       "        vertical-align: middle;\n",
       "    }\n",
       "\n",
       "    .dataframe tbody tr th {\n",
       "        vertical-align: top;\n",
       "    }\n",
       "\n",
       "    .dataframe thead th {\n",
       "        text-align: right;\n",
       "    }\n",
       "</style>\n",
       "<table border=\"1\" class=\"dataframe\">\n",
       "  <thead>\n",
       "    <tr style=\"text-align: right;\">\n",
       "      <th></th>\n",
       "      <th>provider_id</th>\n",
       "      <th>day</th>\n",
       "    </tr>\n",
       "  </thead>\n",
       "  <tbody>\n",
       "    <tr>\n",
       "      <th>0</th>\n",
       "      <td>1000047</td>\n",
       "      <td>1</td>\n",
       "    </tr>\n",
       "    <tr>\n",
       "      <th>1</th>\n",
       "      <td>1000033</td>\n",
       "      <td>1</td>\n",
       "    </tr>\n",
       "    <tr>\n",
       "      <th>2</th>\n",
       "      <td>1000061</td>\n",
       "      <td>1</td>\n",
       "    </tr>\n",
       "    <tr>\n",
       "      <th>3</th>\n",
       "      <td>1000103</td>\n",
       "      <td>1</td>\n",
       "    </tr>\n",
       "    <tr>\n",
       "      <th>4</th>\n",
       "      <td>1000094</td>\n",
       "      <td>1</td>\n",
       "    </tr>\n",
       "  </tbody>\n",
       "</table>\n",
       "</div>"
      ],
      "text/plain": [
       "   provider_id  day\n",
       "0      1000047    1\n",
       "1      1000033    1\n",
       "2      1000061    1\n",
       "3      1000103    1\n",
       "4      1000094    1"
      ]
     },
     "execution_count": 79,
     "metadata": {},
     "output_type": "execute_result"
    },
    {
     "data": {
      "application/javascript": "\n            setTimeout(function() {\n                var nbb_cell_id = 79;\n                var nbb_unformatted_code = \"df_operation_sunday.head()\";\n                var nbb_formatted_code = \"df_operation_sunday.head()\";\n                var nbb_cells = Jupyter.notebook.get_cells();\n                for (var i = 0; i < nbb_cells.length; ++i) {\n                    if (nbb_cells[i].input_prompt_number == nbb_cell_id) {\n                        if (nbb_cells[i].get_text() == nbb_unformatted_code) {\n                             nbb_cells[i].set_text(nbb_formatted_code);\n                        }\n                        break;\n                    }\n                }\n            }, 500);\n            ",
      "text/plain": [
       "<IPython.core.display.Javascript object>"
      ]
     },
     "metadata": {},
     "output_type": "display_data"
    }
   ],
   "source": [
    "df_operation_sunday.head()"
   ]
  },
  {
   "cell_type": "code",
   "execution_count": 80,
   "id": "74036b7c",
   "metadata": {},
   "outputs": [
    {
     "data": {
      "text/html": [
       "<div>\n",
       "<style scoped>\n",
       "    .dataframe tbody tr th:only-of-type {\n",
       "        vertical-align: middle;\n",
       "    }\n",
       "\n",
       "    .dataframe tbody tr th {\n",
       "        vertical-align: top;\n",
       "    }\n",
       "\n",
       "    .dataframe thead th {\n",
       "        text-align: right;\n",
       "    }\n",
       "</style>\n",
       "<table border=\"1\" class=\"dataframe\">\n",
       "  <thead>\n",
       "    <tr style=\"text-align: right;\">\n",
       "      <th></th>\n",
       "      <th>provider_id</th>\n",
       "      <th>day</th>\n",
       "    </tr>\n",
       "  </thead>\n",
       "  <tbody>\n",
       "    <tr>\n",
       "      <th>103</th>\n",
       "      <td>1000034</td>\n",
       "      <td>7</td>\n",
       "    </tr>\n",
       "    <tr>\n",
       "      <th>104</th>\n",
       "      <td>1000099</td>\n",
       "      <td>7</td>\n",
       "    </tr>\n",
       "    <tr>\n",
       "      <th>105</th>\n",
       "      <td>1000079</td>\n",
       "      <td>7</td>\n",
       "    </tr>\n",
       "    <tr>\n",
       "      <th>106</th>\n",
       "      <td>1000005</td>\n",
       "      <td>7</td>\n",
       "    </tr>\n",
       "    <tr>\n",
       "      <th>107</th>\n",
       "      <td>1000035</td>\n",
       "      <td>7</td>\n",
       "    </tr>\n",
       "  </tbody>\n",
       "</table>\n",
       "</div>"
      ],
      "text/plain": [
       "     provider_id  day\n",
       "103      1000034    7\n",
       "104      1000099    7\n",
       "105      1000079    7\n",
       "106      1000005    7\n",
       "107      1000035    7"
      ]
     },
     "execution_count": 80,
     "metadata": {},
     "output_type": "execute_result"
    },
    {
     "data": {
      "application/javascript": "\n            setTimeout(function() {\n                var nbb_cell_id = 80;\n                var nbb_unformatted_code = \"df_operation_saturday.tail()\";\n                var nbb_formatted_code = \"df_operation_saturday.tail()\";\n                var nbb_cells = Jupyter.notebook.get_cells();\n                for (var i = 0; i < nbb_cells.length; ++i) {\n                    if (nbb_cells[i].input_prompt_number == nbb_cell_id) {\n                        if (nbb_cells[i].get_text() == nbb_unformatted_code) {\n                             nbb_cells[i].set_text(nbb_formatted_code);\n                        }\n                        break;\n                    }\n                }\n            }, 500);\n            ",
      "text/plain": [
       "<IPython.core.display.Javascript object>"
      ]
     },
     "metadata": {},
     "output_type": "display_data"
    }
   ],
   "source": [
    "df_operation_saturday.tail()\n"
   ]
  },
  {
   "cell_type": "code",
   "execution_count": 81,
   "id": "9d4744cc",
   "metadata": {},
   "outputs": [
    {
     "data": {
      "application/javascript": "\n            setTimeout(function() {\n                var nbb_cell_id = 81;\n                var nbb_unformatted_code = \"from random import randrange\\nimport datetime \\n\\ndef create_end_time(start_time, operating_time):\\n    res = start_time.hour + operating_time\\n    return 23 if res > 23 else res\";\n                var nbb_formatted_code = \"from random import randrange\\nimport datetime\\n\\n\\ndef create_end_time(start_time, operating_time):\\n    res = start_time.hour + operating_time\\n    return 23 if res > 23 else res\";\n                var nbb_cells = Jupyter.notebook.get_cells();\n                for (var i = 0; i < nbb_cells.length; ++i) {\n                    if (nbb_cells[i].input_prompt_number == nbb_cell_id) {\n                        if (nbb_cells[i].get_text() == nbb_unformatted_code) {\n                             nbb_cells[i].set_text(nbb_formatted_code);\n                        }\n                        break;\n                    }\n                }\n            }, 500);\n            ",
      "text/plain": [
       "<IPython.core.display.Javascript object>"
      ]
     },
     "metadata": {},
     "output_type": "display_data"
    }
   ],
   "source": [
    "from random import randrange\n",
    "import datetime \n",
    "\n",
    "def create_end_time(start_time, operating_time):\n",
    "    res = start_time.hour + operating_time\n",
    "    return 23 if res > 23 else res"
   ]
  },
  {
   "cell_type": "code",
   "execution_count": 82,
   "id": "8b4ddd9b",
   "metadata": {},
   "outputs": [
    {
     "data": {
      "application/javascript": "\n            setTimeout(function() {\n                var nbb_cell_id = 82;\n                var nbb_unformatted_code = \"df_operation_sunday['open_time'] = datetime.time(random.randint(0, 23), 0, 0)\\ndf_operation_monday['open_time'] = datetime.time(random.randint(0, 23), 0, 0)\\ndf_operation_tuesday['open_time'] = datetime.time(random.randint(0, 23), 0, 0)\\ndf_operation_wednesday['open_time'] = datetime.time(random.randint(0, 23), 0, 0)\\ndf_operation_thursday['open_time'] = datetime.time(random.randint(0, 23), 0, 0)\\ndf_operation_friday['open_time'] = datetime.time(random.randint(0, 23), 0, 0)\\ndf_operation_saturday['open_time'] = datetime.time(random.randint(0, 23), 0, 0)\\n\\n\\n\\ndf_operation_sunday['open_time'] = df_operation_sunday['open_time'].apply(lambda x: datetime.time(random.randint(0, 13), 0, 0))  \\ndf_operation_monday['open_time'] = df_operation_monday['open_time'].apply(lambda x: datetime.time(random.randint(0, 13), 0, 0)) \\ndf_operation_tuesday['open_time'] = df_operation_tuesday['open_time'].apply(lambda x: datetime.time(random.randint(0, 13), 0, 0))\\ndf_operation_wednesday['open_time'] = df_operation_wednesday['open_time'].apply(lambda x: datetime.time(random.randint(0, 13), 0, 0))\\ndf_operation_thursday['open_time'] = df_operation_thursday['open_time'].apply(lambda x: datetime.time(random.randint(0, 13), 0, 0))\\ndf_operation_friday['open_time'] = df_operation_friday['open_time'].apply(lambda x: datetime.time(random.randint(0, 13), 0, 0))\\ndf_operation_saturday['open_time'] = df_operation_saturday['open_time'].apply(lambda x: datetime.time(random.randint(0, 13), 0, 0))\";\n                var nbb_formatted_code = \"df_operation_sunday[\\\"open_time\\\"] = datetime.time(random.randint(0, 23), 0, 0)\\ndf_operation_monday[\\\"open_time\\\"] = datetime.time(random.randint(0, 23), 0, 0)\\ndf_operation_tuesday[\\\"open_time\\\"] = datetime.time(random.randint(0, 23), 0, 0)\\ndf_operation_wednesday[\\\"open_time\\\"] = datetime.time(random.randint(0, 23), 0, 0)\\ndf_operation_thursday[\\\"open_time\\\"] = datetime.time(random.randint(0, 23), 0, 0)\\ndf_operation_friday[\\\"open_time\\\"] = datetime.time(random.randint(0, 23), 0, 0)\\ndf_operation_saturday[\\\"open_time\\\"] = datetime.time(random.randint(0, 23), 0, 0)\\n\\n\\ndf_operation_sunday[\\\"open_time\\\"] = df_operation_sunday[\\\"open_time\\\"].apply(\\n    lambda x: datetime.time(random.randint(0, 13), 0, 0)\\n)\\ndf_operation_monday[\\\"open_time\\\"] = df_operation_monday[\\\"open_time\\\"].apply(\\n    lambda x: datetime.time(random.randint(0, 13), 0, 0)\\n)\\ndf_operation_tuesday[\\\"open_time\\\"] = df_operation_tuesday[\\\"open_time\\\"].apply(\\n    lambda x: datetime.time(random.randint(0, 13), 0, 0)\\n)\\ndf_operation_wednesday[\\\"open_time\\\"] = df_operation_wednesday[\\\"open_time\\\"].apply(\\n    lambda x: datetime.time(random.randint(0, 13), 0, 0)\\n)\\ndf_operation_thursday[\\\"open_time\\\"] = df_operation_thursday[\\\"open_time\\\"].apply(\\n    lambda x: datetime.time(random.randint(0, 13), 0, 0)\\n)\\ndf_operation_friday[\\\"open_time\\\"] = df_operation_friday[\\\"open_time\\\"].apply(\\n    lambda x: datetime.time(random.randint(0, 13), 0, 0)\\n)\\ndf_operation_saturday[\\\"open_time\\\"] = df_operation_saturday[\\\"open_time\\\"].apply(\\n    lambda x: datetime.time(random.randint(0, 13), 0, 0)\\n)\";\n                var nbb_cells = Jupyter.notebook.get_cells();\n                for (var i = 0; i < nbb_cells.length; ++i) {\n                    if (nbb_cells[i].input_prompt_number == nbb_cell_id) {\n                        if (nbb_cells[i].get_text() == nbb_unformatted_code) {\n                             nbb_cells[i].set_text(nbb_formatted_code);\n                        }\n                        break;\n                    }\n                }\n            }, 500);\n            ",
      "text/plain": [
       "<IPython.core.display.Javascript object>"
      ]
     },
     "metadata": {},
     "output_type": "display_data"
    }
   ],
   "source": [
    "df_operation_sunday['open_time'] = datetime.time(random.randint(0, 23), 0, 0)\n",
    "df_operation_monday['open_time'] = datetime.time(random.randint(0, 23), 0, 0)\n",
    "df_operation_tuesday['open_time'] = datetime.time(random.randint(0, 23), 0, 0)\n",
    "df_operation_wednesday['open_time'] = datetime.time(random.randint(0, 23), 0, 0)\n",
    "df_operation_thursday['open_time'] = datetime.time(random.randint(0, 23), 0, 0)\n",
    "df_operation_friday['open_time'] = datetime.time(random.randint(0, 23), 0, 0)\n",
    "df_operation_saturday['open_time'] = datetime.time(random.randint(0, 23), 0, 0)\n",
    "\n",
    "\n",
    "\n",
    "df_operation_sunday['open_time'] = df_operation_sunday['open_time'].apply(lambda x: datetime.time(random.randint(0, 13), 0, 0))  \n",
    "df_operation_monday['open_time'] = df_operation_monday['open_time'].apply(lambda x: datetime.time(random.randint(0, 13), 0, 0)) \n",
    "df_operation_tuesday['open_time'] = df_operation_tuesday['open_time'].apply(lambda x: datetime.time(random.randint(0, 13), 0, 0))\n",
    "df_operation_wednesday['open_time'] = df_operation_wednesday['open_time'].apply(lambda x: datetime.time(random.randint(0, 13), 0, 0))\n",
    "df_operation_thursday['open_time'] = df_operation_thursday['open_time'].apply(lambda x: datetime.time(random.randint(0, 13), 0, 0))\n",
    "df_operation_friday['open_time'] = df_operation_friday['open_time'].apply(lambda x: datetime.time(random.randint(0, 13), 0, 0))\n",
    "df_operation_saturday['open_time'] = df_operation_saturday['open_time'].apply(lambda x: datetime.time(random.randint(0, 13), 0, 0))\n"
   ]
  },
  {
   "cell_type": "code",
   "execution_count": 83,
   "id": "605919a4",
   "metadata": {},
   "outputs": [
    {
     "data": {
      "text/html": [
       "<div>\n",
       "<style scoped>\n",
       "    .dataframe tbody tr th:only-of-type {\n",
       "        vertical-align: middle;\n",
       "    }\n",
       "\n",
       "    .dataframe tbody tr th {\n",
       "        vertical-align: top;\n",
       "    }\n",
       "\n",
       "    .dataframe thead th {\n",
       "        text-align: right;\n",
       "    }\n",
       "</style>\n",
       "<table border=\"1\" class=\"dataframe\">\n",
       "  <thead>\n",
       "    <tr style=\"text-align: right;\">\n",
       "      <th></th>\n",
       "      <th>provider_id</th>\n",
       "      <th>day</th>\n",
       "      <th>open_time</th>\n",
       "    </tr>\n",
       "  </thead>\n",
       "  <tbody>\n",
       "    <tr>\n",
       "      <th>0</th>\n",
       "      <td>1000047</td>\n",
       "      <td>6</td>\n",
       "      <td>03:00:00</td>\n",
       "    </tr>\n",
       "    <tr>\n",
       "      <th>1</th>\n",
       "      <td>1000033</td>\n",
       "      <td>6</td>\n",
       "      <td>07:00:00</td>\n",
       "    </tr>\n",
       "    <tr>\n",
       "      <th>2</th>\n",
       "      <td>1000061</td>\n",
       "      <td>6</td>\n",
       "      <td>11:00:00</td>\n",
       "    </tr>\n",
       "    <tr>\n",
       "      <th>3</th>\n",
       "      <td>1000103</td>\n",
       "      <td>6</td>\n",
       "      <td>11:00:00</td>\n",
       "    </tr>\n",
       "    <tr>\n",
       "      <th>4</th>\n",
       "      <td>1000094</td>\n",
       "      <td>6</td>\n",
       "      <td>11:00:00</td>\n",
       "    </tr>\n",
       "  </tbody>\n",
       "</table>\n",
       "</div>"
      ],
      "text/plain": [
       "   provider_id  day open_time\n",
       "0      1000047    6  03:00:00\n",
       "1      1000033    6  07:00:00\n",
       "2      1000061    6  11:00:00\n",
       "3      1000103    6  11:00:00\n",
       "4      1000094    6  11:00:00"
      ]
     },
     "execution_count": 83,
     "metadata": {},
     "output_type": "execute_result"
    },
    {
     "data": {
      "application/javascript": "\n            setTimeout(function() {\n                var nbb_cell_id = 83;\n                var nbb_unformatted_code = \"df_operation_friday.head()\";\n                var nbb_formatted_code = \"df_operation_friday.head()\";\n                var nbb_cells = Jupyter.notebook.get_cells();\n                for (var i = 0; i < nbb_cells.length; ++i) {\n                    if (nbb_cells[i].input_prompt_number == nbb_cell_id) {\n                        if (nbb_cells[i].get_text() == nbb_unformatted_code) {\n                             nbb_cells[i].set_text(nbb_formatted_code);\n                        }\n                        break;\n                    }\n                }\n            }, 500);\n            ",
      "text/plain": [
       "<IPython.core.display.Javascript object>"
      ]
     },
     "metadata": {},
     "output_type": "display_data"
    }
   ],
   "source": [
    "df_operation_friday.head()"
   ]
  },
  {
   "cell_type": "code",
   "execution_count": 84,
   "id": "9b3b0a24",
   "metadata": {},
   "outputs": [
    {
     "data": {
      "application/javascript": "\n            setTimeout(function() {\n                var nbb_cell_id = 84;\n                var nbb_unformatted_code = \"# df_operation_sunday['close_time'] = datetime.time(random.randint(0, 23), 0, 0)\\n# df_operation_monday['close_time'] = datetime.time(random.randint(0, 23), 0, 0)\\n# df_operation_tuesday['close_time'] = datetime.time(random.randint(0, 23), 0, 0)\\n# df_operation_wednesday['close_time'] = datetime.time(random.randint(0, 23), 0, 0)\\n# df_operation_thursday['close_time'] = datetime.time(random.randint(0, 23), 0, 0)\\n# df_operation_friday['close_time'] = datetime.time(random.randint(0, 23), 0, 0)\\n# df_operation_sunday['close_time'] = datetime.time(random.randint(0, 23), 0, 0)\\n\\n\\ndf_operation_sunday['close_time'] = df_operation_sunday.open_time.apply(lambda x: datetime.time(create_end_time(x, random.randint(12, 20)), 0, 0))  \\ndf_operation_monday['close_time'] = df_operation_monday.open_time.apply(lambda x: datetime.time(create_end_time(x, random.randint(12, 20)), 0, 0))\\ndf_operation_tuesday['close_time']= df_operation_tuesday.open_time.apply(lambda x: datetime.time(create_end_time(x, random.randint(12, 20)), 0, 0))\\ndf_operation_wednesday['close_time'] = df_operation_wednesday.open_time.apply(lambda x: datetime.time(create_end_time(x, random.randint(12, 20)), 0, 0))\\ndf_operation_thursday['close_time'] = df_operation_thursday.open_time.apply(lambda x: datetime.time(create_end_time(x, random.randint(12, 20)), 0, 0))\\ndf_operation_friday['close_time'] = df_operation_friday.open_time.apply(lambda x: datetime.time(create_end_time(x, random.randint(12, 20)), 0, 0))\\ndf_operation_saturday['close_time'] = df_operation_saturday.open_time.apply(lambda x: datetime.time(create_end_time(x, random.randint(12, 20)), 0, 0))\";\n                var nbb_formatted_code = \"# df_operation_sunday['close_time'] = datetime.time(random.randint(0, 23), 0, 0)\\n# df_operation_monday['close_time'] = datetime.time(random.randint(0, 23), 0, 0)\\n# df_operation_tuesday['close_time'] = datetime.time(random.randint(0, 23), 0, 0)\\n# df_operation_wednesday['close_time'] = datetime.time(random.randint(0, 23), 0, 0)\\n# df_operation_thursday['close_time'] = datetime.time(random.randint(0, 23), 0, 0)\\n# df_operation_friday['close_time'] = datetime.time(random.randint(0, 23), 0, 0)\\n# df_operation_sunday['close_time'] = datetime.time(random.randint(0, 23), 0, 0)\\n\\n\\ndf_operation_sunday[\\\"close_time\\\"] = df_operation_sunday.open_time.apply(\\n    lambda x: datetime.time(create_end_time(x, random.randint(12, 20)), 0, 0)\\n)\\ndf_operation_monday[\\\"close_time\\\"] = df_operation_monday.open_time.apply(\\n    lambda x: datetime.time(create_end_time(x, random.randint(12, 20)), 0, 0)\\n)\\ndf_operation_tuesday[\\\"close_time\\\"] = df_operation_tuesday.open_time.apply(\\n    lambda x: datetime.time(create_end_time(x, random.randint(12, 20)), 0, 0)\\n)\\ndf_operation_wednesday[\\\"close_time\\\"] = df_operation_wednesday.open_time.apply(\\n    lambda x: datetime.time(create_end_time(x, random.randint(12, 20)), 0, 0)\\n)\\ndf_operation_thursday[\\\"close_time\\\"] = df_operation_thursday.open_time.apply(\\n    lambda x: datetime.time(create_end_time(x, random.randint(12, 20)), 0, 0)\\n)\\ndf_operation_friday[\\\"close_time\\\"] = df_operation_friday.open_time.apply(\\n    lambda x: datetime.time(create_end_time(x, random.randint(12, 20)), 0, 0)\\n)\\ndf_operation_saturday[\\\"close_time\\\"] = df_operation_saturday.open_time.apply(\\n    lambda x: datetime.time(create_end_time(x, random.randint(12, 20)), 0, 0)\\n)\";\n                var nbb_cells = Jupyter.notebook.get_cells();\n                for (var i = 0; i < nbb_cells.length; ++i) {\n                    if (nbb_cells[i].input_prompt_number == nbb_cell_id) {\n                        if (nbb_cells[i].get_text() == nbb_unformatted_code) {\n                             nbb_cells[i].set_text(nbb_formatted_code);\n                        }\n                        break;\n                    }\n                }\n            }, 500);\n            ",
      "text/plain": [
       "<IPython.core.display.Javascript object>"
      ]
     },
     "metadata": {},
     "output_type": "display_data"
    }
   ],
   "source": [
    "# df_operation_sunday['close_time'] = datetime.time(random.randint(0, 23), 0, 0)\n",
    "# df_operation_monday['close_time'] = datetime.time(random.randint(0, 23), 0, 0)\n",
    "# df_operation_tuesday['close_time'] = datetime.time(random.randint(0, 23), 0, 0)\n",
    "# df_operation_wednesday['close_time'] = datetime.time(random.randint(0, 23), 0, 0)\n",
    "# df_operation_thursday['close_time'] = datetime.time(random.randint(0, 23), 0, 0)\n",
    "# df_operation_friday['close_time'] = datetime.time(random.randint(0, 23), 0, 0)\n",
    "# df_operation_sunday['close_time'] = datetime.time(random.randint(0, 23), 0, 0)\n",
    "\n",
    "\n",
    "df_operation_sunday['close_time'] = df_operation_sunday.open_time.apply(lambda x: datetime.time(create_end_time(x, random.randint(12, 20)), 0, 0))  \n",
    "df_operation_monday['close_time'] = df_operation_monday.open_time.apply(lambda x: datetime.time(create_end_time(x, random.randint(12, 20)), 0, 0))\n",
    "df_operation_tuesday['close_time']= df_operation_tuesday.open_time.apply(lambda x: datetime.time(create_end_time(x, random.randint(12, 20)), 0, 0))\n",
    "df_operation_wednesday['close_time'] = df_operation_wednesday.open_time.apply(lambda x: datetime.time(create_end_time(x, random.randint(12, 20)), 0, 0))\n",
    "df_operation_thursday['close_time'] = df_operation_thursday.open_time.apply(lambda x: datetime.time(create_end_time(x, random.randint(12, 20)), 0, 0))\n",
    "df_operation_friday['close_time'] = df_operation_friday.open_time.apply(lambda x: datetime.time(create_end_time(x, random.randint(12, 20)), 0, 0))\n",
    "df_operation_saturday['close_time'] = df_operation_saturday.open_time.apply(lambda x: datetime.time(create_end_time(x, random.randint(12, 20)), 0, 0))"
   ]
  },
  {
   "cell_type": "code",
   "execution_count": 85,
   "id": "eb914c58",
   "metadata": {},
   "outputs": [
    {
     "data": {
      "text/html": [
       "<div>\n",
       "<style scoped>\n",
       "    .dataframe tbody tr th:only-of-type {\n",
       "        vertical-align: middle;\n",
       "    }\n",
       "\n",
       "    .dataframe tbody tr th {\n",
       "        vertical-align: top;\n",
       "    }\n",
       "\n",
       "    .dataframe thead th {\n",
       "        text-align: right;\n",
       "    }\n",
       "</style>\n",
       "<table border=\"1\" class=\"dataframe\">\n",
       "  <thead>\n",
       "    <tr style=\"text-align: right;\">\n",
       "      <th></th>\n",
       "      <th>provider_id</th>\n",
       "      <th>day</th>\n",
       "      <th>open_time</th>\n",
       "      <th>close_time</th>\n",
       "    </tr>\n",
       "  </thead>\n",
       "  <tbody>\n",
       "    <tr>\n",
       "      <th>0</th>\n",
       "      <td>1000047</td>\n",
       "      <td>6</td>\n",
       "      <td>03:00:00</td>\n",
       "      <td>17:00:00</td>\n",
       "    </tr>\n",
       "    <tr>\n",
       "      <th>1</th>\n",
       "      <td>1000033</td>\n",
       "      <td>6</td>\n",
       "      <td>07:00:00</td>\n",
       "      <td>20:00:00</td>\n",
       "    </tr>\n",
       "    <tr>\n",
       "      <th>2</th>\n",
       "      <td>1000061</td>\n",
       "      <td>6</td>\n",
       "      <td>11:00:00</td>\n",
       "      <td>23:00:00</td>\n",
       "    </tr>\n",
       "    <tr>\n",
       "      <th>3</th>\n",
       "      <td>1000103</td>\n",
       "      <td>6</td>\n",
       "      <td>11:00:00</td>\n",
       "      <td>23:00:00</td>\n",
       "    </tr>\n",
       "    <tr>\n",
       "      <th>4</th>\n",
       "      <td>1000094</td>\n",
       "      <td>6</td>\n",
       "      <td>11:00:00</td>\n",
       "      <td>23:00:00</td>\n",
       "    </tr>\n",
       "  </tbody>\n",
       "</table>\n",
       "</div>"
      ],
      "text/plain": [
       "   provider_id  day open_time close_time\n",
       "0      1000047    6  03:00:00   17:00:00\n",
       "1      1000033    6  07:00:00   20:00:00\n",
       "2      1000061    6  11:00:00   23:00:00\n",
       "3      1000103    6  11:00:00   23:00:00\n",
       "4      1000094    6  11:00:00   23:00:00"
      ]
     },
     "execution_count": 85,
     "metadata": {},
     "output_type": "execute_result"
    },
    {
     "data": {
      "application/javascript": "\n            setTimeout(function() {\n                var nbb_cell_id = 85;\n                var nbb_unformatted_code = \"df_operation_friday.head()\";\n                var nbb_formatted_code = \"df_operation_friday.head()\";\n                var nbb_cells = Jupyter.notebook.get_cells();\n                for (var i = 0; i < nbb_cells.length; ++i) {\n                    if (nbb_cells[i].input_prompt_number == nbb_cell_id) {\n                        if (nbb_cells[i].get_text() == nbb_unformatted_code) {\n                             nbb_cells[i].set_text(nbb_formatted_code);\n                        }\n                        break;\n                    }\n                }\n            }, 500);\n            ",
      "text/plain": [
       "<IPython.core.display.Javascript object>"
      ]
     },
     "metadata": {},
     "output_type": "display_data"
    }
   ],
   "source": [
    "df_operation_friday.head()"
   ]
  },
  {
   "cell_type": "code",
   "execution_count": 86,
   "id": "cd74b5a2",
   "metadata": {},
   "outputs": [
    {
     "data": {
      "application/javascript": "\n            setTimeout(function() {\n                var nbb_cell_id = 86;\n                var nbb_unformatted_code = \"d1 = datetime.datetime.strptime(\\\"1/1/2018 1:30 PM\\\", \\\"%m/%d/%Y %I:%M %p\\\")\\nd2 = datetime.datetime.strptime(\\\"1/1/2022 4:50 AM\\\", \\\"%m/%d/%Y %I:%M %p\\\")\";\n                var nbb_formatted_code = \"d1 = datetime.datetime.strptime(\\\"1/1/2018 1:30 PM\\\", \\\"%m/%d/%Y %I:%M %p\\\")\\nd2 = datetime.datetime.strptime(\\\"1/1/2022 4:50 AM\\\", \\\"%m/%d/%Y %I:%M %p\\\")\";\n                var nbb_cells = Jupyter.notebook.get_cells();\n                for (var i = 0; i < nbb_cells.length; ++i) {\n                    if (nbb_cells[i].input_prompt_number == nbb_cell_id) {\n                        if (nbb_cells[i].get_text() == nbb_unformatted_code) {\n                             nbb_cells[i].set_text(nbb_formatted_code);\n                        }\n                        break;\n                    }\n                }\n            }, 500);\n            ",
      "text/plain": [
       "<IPython.core.display.Javascript object>"
      ]
     },
     "metadata": {},
     "output_type": "display_data"
    }
   ],
   "source": [
    "d1 = datetime.datetime.strptime(\"1/1/2018 1:30 PM\", \"%m/%d/%Y %I:%M %p\")\n",
    "d2 = datetime.datetime.strptime(\"1/1/2022 4:50 AM\", \"%m/%d/%Y %I:%M %p\")"
   ]
  },
  {
   "cell_type": "code",
   "execution_count": 87,
   "id": "465ab4ba",
   "metadata": {},
   "outputs": [
    {
     "data": {
      "text/plain": [
       "datetime.datetime(2018, 1, 1, 13, 30)"
      ]
     },
     "execution_count": 87,
     "metadata": {},
     "output_type": "execute_result"
    },
    {
     "data": {
      "application/javascript": "\n            setTimeout(function() {\n                var nbb_cell_id = 87;\n                var nbb_unformatted_code = \"d1\";\n                var nbb_formatted_code = \"d1\";\n                var nbb_cells = Jupyter.notebook.get_cells();\n                for (var i = 0; i < nbb_cells.length; ++i) {\n                    if (nbb_cells[i].input_prompt_number == nbb_cell_id) {\n                        if (nbb_cells[i].get_text() == nbb_unformatted_code) {\n                             nbb_cells[i].set_text(nbb_formatted_code);\n                        }\n                        break;\n                    }\n                }\n            }, 500);\n            ",
      "text/plain": [
       "<IPython.core.display.Javascript object>"
      ]
     },
     "metadata": {},
     "output_type": "display_data"
    }
   ],
   "source": [
    "d1"
   ]
  },
  {
   "cell_type": "code",
   "execution_count": 88,
   "id": "fa16df1f",
   "metadata": {},
   "outputs": [
    {
     "data": {
      "application/javascript": "\n            setTimeout(function() {\n                var nbb_cell_id = 88;\n                var nbb_unformatted_code = \"df_operation_sunday['create_at'] = d1\\ndf_operation_monday['create_at'] = d1\\ndf_operation_tuesday['create_at'] = d1\\ndf_operation_wednesday['create_at'] = d1\\ndf_operation_thursday['create_at'] = d1\\ndf_operation_friday['create_at'] = d1\\ndf_operation_saturday['create_at'] = d1\\n\\n\\n\\n\\ndf_operation_sunday[\\\"create_at\\\"] = df_operation_sunday[\\\"create_at\\\"].apply(\\n    lambda x: random_date(d1, d2)\\n)\\ndf_operation_monday[\\\"create_at\\\"] = df_operation_monday[\\\"create_at\\\"].apply(\\n    lambda x: random_date(d1, d2)\\n)\\ndf_operation_tuesday[\\\"create_at\\\"] = df_operation_tuesday[\\\"create_at\\\"].apply(\\n    lambda x: random_date(d1, d2)\\n)\\ndf_operation_wednesday[\\\"create_at\\\"] = df_operation_wednesday[\\\"create_at\\\"].apply(\\n    lambda x: random_date(d1, d2)\\n)\\ndf_operation_thursday[\\\"create_at\\\"] = df_operation_thursday[\\\"create_at\\\"].apply(\\n    lambda x: random_date(d1, d2)\\n)\\ndf_operation_friday[\\\"create_at\\\"] = df_operation_friday[\\\"create_at\\\"].apply(\\n    lambda x: random_date(d1, d2)\\n)\\ndf_operation_saturday[\\\"create_at\\\"] = df_operation_saturday[\\\"create_at\\\"].apply(\\n    lambda x: random_date(d1, d2)\\n)\";\n                var nbb_formatted_code = \"df_operation_sunday[\\\"create_at\\\"] = d1\\ndf_operation_monday[\\\"create_at\\\"] = d1\\ndf_operation_tuesday[\\\"create_at\\\"] = d1\\ndf_operation_wednesday[\\\"create_at\\\"] = d1\\ndf_operation_thursday[\\\"create_at\\\"] = d1\\ndf_operation_friday[\\\"create_at\\\"] = d1\\ndf_operation_saturday[\\\"create_at\\\"] = d1\\n\\n\\ndf_operation_sunday[\\\"create_at\\\"] = df_operation_sunday[\\\"create_at\\\"].apply(\\n    lambda x: random_date(d1, d2)\\n)\\ndf_operation_monday[\\\"create_at\\\"] = df_operation_monday[\\\"create_at\\\"].apply(\\n    lambda x: random_date(d1, d2)\\n)\\ndf_operation_tuesday[\\\"create_at\\\"] = df_operation_tuesday[\\\"create_at\\\"].apply(\\n    lambda x: random_date(d1, d2)\\n)\\ndf_operation_wednesday[\\\"create_at\\\"] = df_operation_wednesday[\\\"create_at\\\"].apply(\\n    lambda x: random_date(d1, d2)\\n)\\ndf_operation_thursday[\\\"create_at\\\"] = df_operation_thursday[\\\"create_at\\\"].apply(\\n    lambda x: random_date(d1, d2)\\n)\\ndf_operation_friday[\\\"create_at\\\"] = df_operation_friday[\\\"create_at\\\"].apply(\\n    lambda x: random_date(d1, d2)\\n)\\ndf_operation_saturday[\\\"create_at\\\"] = df_operation_saturday[\\\"create_at\\\"].apply(\\n    lambda x: random_date(d1, d2)\\n)\";\n                var nbb_cells = Jupyter.notebook.get_cells();\n                for (var i = 0; i < nbb_cells.length; ++i) {\n                    if (nbb_cells[i].input_prompt_number == nbb_cell_id) {\n                        if (nbb_cells[i].get_text() == nbb_unformatted_code) {\n                             nbb_cells[i].set_text(nbb_formatted_code);\n                        }\n                        break;\n                    }\n                }\n            }, 500);\n            ",
      "text/plain": [
       "<IPython.core.display.Javascript object>"
      ]
     },
     "metadata": {},
     "output_type": "display_data"
    }
   ],
   "source": [
    "df_operation_sunday['create_at'] = d1\n",
    "df_operation_monday['create_at'] = d1\n",
    "df_operation_tuesday['create_at'] = d1\n",
    "df_operation_wednesday['create_at'] = d1\n",
    "df_operation_thursday['create_at'] = d1\n",
    "df_operation_friday['create_at'] = d1\n",
    "df_operation_saturday['create_at'] = d1\n",
    "\n",
    "\n",
    "\n",
    "\n",
    "df_operation_sunday[\"create_at\"] = df_operation_sunday[\"create_at\"].apply(\n",
    "    lambda x: random_date(d1, d2)\n",
    ")\n",
    "df_operation_monday[\"create_at\"] = df_operation_monday[\"create_at\"].apply(\n",
    "    lambda x: random_date(d1, d2)\n",
    ")\n",
    "df_operation_tuesday[\"create_at\"] = df_operation_tuesday[\"create_at\"].apply(\n",
    "    lambda x: random_date(d1, d2)\n",
    ")\n",
    "df_operation_wednesday[\"create_at\"] = df_operation_wednesday[\"create_at\"].apply(\n",
    "    lambda x: random_date(d1, d2)\n",
    ")\n",
    "df_operation_thursday[\"create_at\"] = df_operation_thursday[\"create_at\"].apply(\n",
    "    lambda x: random_date(d1, d2)\n",
    ")\n",
    "df_operation_friday[\"create_at\"] = df_operation_friday[\"create_at\"].apply(\n",
    "    lambda x: random_date(d1, d2)\n",
    ")\n",
    "df_operation_saturday[\"create_at\"] = df_operation_saturday[\"create_at\"].apply(\n",
    "    lambda x: random_date(d1, d2)\n",
    ")"
   ]
  },
  {
   "cell_type": "code",
   "execution_count": 89,
   "id": "0afe5677",
   "metadata": {},
   "outputs": [
    {
     "data": {
      "application/javascript": "\n            setTimeout(function() {\n                var nbb_cell_id = 89;\n                var nbb_unformatted_code = \"df_operation = pd.concat([df_operation_sunday, df_operation_monday, df_operation_tuesday, \\ndf_operation_wednesday, df_operation_thursday, df_operation_friday, df_operation_saturday], ignore_index=True)\";\n                var nbb_formatted_code = \"df_operation = pd.concat(\\n    [\\n        df_operation_sunday,\\n        df_operation_monday,\\n        df_operation_tuesday,\\n        df_operation_wednesday,\\n        df_operation_thursday,\\n        df_operation_friday,\\n        df_operation_saturday,\\n    ],\\n    ignore_index=True,\\n)\";\n                var nbb_cells = Jupyter.notebook.get_cells();\n                for (var i = 0; i < nbb_cells.length; ++i) {\n                    if (nbb_cells[i].input_prompt_number == nbb_cell_id) {\n                        if (nbb_cells[i].get_text() == nbb_unformatted_code) {\n                             nbb_cells[i].set_text(nbb_formatted_code);\n                        }\n                        break;\n                    }\n                }\n            }, 500);\n            ",
      "text/plain": [
       "<IPython.core.display.Javascript object>"
      ]
     },
     "metadata": {},
     "output_type": "display_data"
    }
   ],
   "source": [
    "df_operation = pd.concat([df_operation_sunday, df_operation_monday, df_operation_tuesday, \n",
    "df_operation_wednesday, df_operation_thursday, df_operation_friday, df_operation_saturday], ignore_index=True)"
   ]
  },
  {
   "cell_type": "code",
   "execution_count": 90,
   "id": "17bc34ec",
   "metadata": {},
   "outputs": [
    {
     "data": {
      "text/html": [
       "<div>\n",
       "<style scoped>\n",
       "    .dataframe tbody tr th:only-of-type {\n",
       "        vertical-align: middle;\n",
       "    }\n",
       "\n",
       "    .dataframe tbody tr th {\n",
       "        vertical-align: top;\n",
       "    }\n",
       "\n",
       "    .dataframe thead th {\n",
       "        text-align: right;\n",
       "    }\n",
       "</style>\n",
       "<table border=\"1\" class=\"dataframe\">\n",
       "  <thead>\n",
       "    <tr style=\"text-align: right;\">\n",
       "      <th></th>\n",
       "      <th>provider_id</th>\n",
       "      <th>day</th>\n",
       "      <th>open_time</th>\n",
       "      <th>close_time</th>\n",
       "      <th>create_at</th>\n",
       "    </tr>\n",
       "  </thead>\n",
       "  <tbody>\n",
       "    <tr>\n",
       "      <th>0</th>\n",
       "      <td>1000047</td>\n",
       "      <td>1</td>\n",
       "      <td>03:00:00</td>\n",
       "      <td>21:00:00</td>\n",
       "      <td>2020-08-12 06:07:04</td>\n",
       "    </tr>\n",
       "    <tr>\n",
       "      <th>1</th>\n",
       "      <td>1000033</td>\n",
       "      <td>1</td>\n",
       "      <td>05:00:00</td>\n",
       "      <td>20:00:00</td>\n",
       "      <td>2021-10-12 09:09:41</td>\n",
       "    </tr>\n",
       "    <tr>\n",
       "      <th>2</th>\n",
       "      <td>1000061</td>\n",
       "      <td>1</td>\n",
       "      <td>00:00:00</td>\n",
       "      <td>17:00:00</td>\n",
       "      <td>2020-07-28 07:51:35</td>\n",
       "    </tr>\n",
       "    <tr>\n",
       "      <th>3</th>\n",
       "      <td>1000103</td>\n",
       "      <td>1</td>\n",
       "      <td>07:00:00</td>\n",
       "      <td>19:00:00</td>\n",
       "      <td>2021-01-21 02:17:20</td>\n",
       "    </tr>\n",
       "    <tr>\n",
       "      <th>4</th>\n",
       "      <td>1000094</td>\n",
       "      <td>1</td>\n",
       "      <td>04:00:00</td>\n",
       "      <td>19:00:00</td>\n",
       "      <td>2021-01-29 10:17:29</td>\n",
       "    </tr>\n",
       "  </tbody>\n",
       "</table>\n",
       "</div>"
      ],
      "text/plain": [
       "   provider_id  day open_time close_time           create_at\n",
       "0      1000047    1  03:00:00   21:00:00 2020-08-12 06:07:04\n",
       "1      1000033    1  05:00:00   20:00:00 2021-10-12 09:09:41\n",
       "2      1000061    1  00:00:00   17:00:00 2020-07-28 07:51:35\n",
       "3      1000103    1  07:00:00   19:00:00 2021-01-21 02:17:20\n",
       "4      1000094    1  04:00:00   19:00:00 2021-01-29 10:17:29"
      ]
     },
     "execution_count": 90,
     "metadata": {},
     "output_type": "execute_result"
    },
    {
     "data": {
      "application/javascript": "\n            setTimeout(function() {\n                var nbb_cell_id = 90;\n                var nbb_unformatted_code = \"df_operation.head()\\n#df_operation.tail()\";\n                var nbb_formatted_code = \"df_operation.head()\\n# df_operation.tail()\";\n                var nbb_cells = Jupyter.notebook.get_cells();\n                for (var i = 0; i < nbb_cells.length; ++i) {\n                    if (nbb_cells[i].input_prompt_number == nbb_cell_id) {\n                        if (nbb_cells[i].get_text() == nbb_unformatted_code) {\n                             nbb_cells[i].set_text(nbb_formatted_code);\n                        }\n                        break;\n                    }\n                }\n            }, 500);\n            ",
      "text/plain": [
       "<IPython.core.display.Javascript object>"
      ]
     },
     "metadata": {},
     "output_type": "display_data"
    }
   ],
   "source": [
    "df_operation.head()\n",
    "#df_operation.tail()"
   ]
  },
  {
   "cell_type": "code",
   "execution_count": 91,
   "id": "6148f67f",
   "metadata": {},
   "outputs": [
    {
     "data": {
      "text/plain": [
       "array([1, 2, 3, 4, 5, 6, 7], dtype=int64)"
      ]
     },
     "execution_count": 91,
     "metadata": {},
     "output_type": "execute_result"
    },
    {
     "data": {
      "application/javascript": "\n            setTimeout(function() {\n                var nbb_cell_id = 91;\n                var nbb_unformatted_code = \"df_operation.day.unique()\";\n                var nbb_formatted_code = \"df_operation.day.unique()\";\n                var nbb_cells = Jupyter.notebook.get_cells();\n                for (var i = 0; i < nbb_cells.length; ++i) {\n                    if (nbb_cells[i].input_prompt_number == nbb_cell_id) {\n                        if (nbb_cells[i].get_text() == nbb_unformatted_code) {\n                             nbb_cells[i].set_text(nbb_formatted_code);\n                        }\n                        break;\n                    }\n                }\n            }, 500);\n            ",
      "text/plain": [
       "<IPython.core.display.Javascript object>"
      ]
     },
     "metadata": {},
     "output_type": "display_data"
    }
   ],
   "source": [
    "df_operation.day.unique()"
   ]
  },
  {
   "cell_type": "code",
   "execution_count": 92,
   "id": "c95b539f",
   "metadata": {},
   "outputs": [
    {
     "data": {
      "text/plain": [
       "(756, 5)"
      ]
     },
     "execution_count": 92,
     "metadata": {},
     "output_type": "execute_result"
    },
    {
     "data": {
      "application/javascript": "\n            setTimeout(function() {\n                var nbb_cell_id = 92;\n                var nbb_unformatted_code = \"df_operation.shape\";\n                var nbb_formatted_code = \"df_operation.shape\";\n                var nbb_cells = Jupyter.notebook.get_cells();\n                for (var i = 0; i < nbb_cells.length; ++i) {\n                    if (nbb_cells[i].input_prompt_number == nbb_cell_id) {\n                        if (nbb_cells[i].get_text() == nbb_unformatted_code) {\n                             nbb_cells[i].set_text(nbb_formatted_code);\n                        }\n                        break;\n                    }\n                }\n            }, 500);\n            ",
      "text/plain": [
       "<IPython.core.display.Javascript object>"
      ]
     },
     "metadata": {},
     "output_type": "display_data"
    }
   ],
   "source": [
    "df_operation.shape"
   ]
  },
  {
   "cell_type": "code",
   "execution_count": 93,
   "id": "089d5460",
   "metadata": {},
   "outputs": [
    {
     "data": {
      "application/javascript": "\n            setTimeout(function() {\n                var nbb_cell_id = 93;\n                var nbb_unformatted_code = \"df_operation['update_at'] = df_operation.create_at\\ndf_operation['delete_at'] = None\";\n                var nbb_formatted_code = \"df_operation[\\\"update_at\\\"] = df_operation.create_at\\ndf_operation[\\\"delete_at\\\"] = None\";\n                var nbb_cells = Jupyter.notebook.get_cells();\n                for (var i = 0; i < nbb_cells.length; ++i) {\n                    if (nbb_cells[i].input_prompt_number == nbb_cell_id) {\n                        if (nbb_cells[i].get_text() == nbb_unformatted_code) {\n                             nbb_cells[i].set_text(nbb_formatted_code);\n                        }\n                        break;\n                    }\n                }\n            }, 500);\n            ",
      "text/plain": [
       "<IPython.core.display.Javascript object>"
      ]
     },
     "metadata": {},
     "output_type": "display_data"
    }
   ],
   "source": [
    "df_operation['update_at'] = df_operation.create_at\n",
    "df_operation['delete_at'] = None"
   ]
  },
  {
   "cell_type": "code",
   "execution_count": 1122,
   "id": "a7520b8d",
   "metadata": {},
   "outputs": [
    {
     "data": {
      "application/javascript": "\n            setTimeout(function() {\n                var nbb_cell_id = 1122;\n                var nbb_unformatted_code = \"df_operation.head()\\ndf_operation.to_csv('provider_operation.csv', index=False)\";\n                var nbb_formatted_code = \"df_operation.head()\\ndf_operation.to_csv(\\\"provider_operation.csv\\\", index=False)\";\n                var nbb_cells = Jupyter.notebook.get_cells();\n                for (var i = 0; i < nbb_cells.length; ++i) {\n                    if (nbb_cells[i].input_prompt_number == nbb_cell_id) {\n                        if (nbb_cells[i].get_text() == nbb_unformatted_code) {\n                             nbb_cells[i].set_text(nbb_formatted_code);\n                        }\n                        break;\n                    }\n                }\n            }, 500);\n            ",
      "text/plain": [
       "<IPython.core.display.Javascript object>"
      ]
     },
     "metadata": {},
     "output_type": "display_data"
    }
   ],
   "source": [
    "df_operation.head()\n",
    "df_operation.to_csv('provider_operation.csv', index=False)"
   ]
  },
  {
   "cell_type": "code",
   "execution_count": 251,
   "id": "2c0cd32a",
   "metadata": {},
   "outputs": [],
   "source": [
    "df_operation.to_csv('mysql_data/provider_operation.csv', index = False)"
   ]
  },
  {
   "cell_type": "code",
   "execution_count": 1123,
   "id": "cafa554d",
   "metadata": {},
   "outputs": [
    {
     "data": {
      "application/javascript": "\n            setTimeout(function() {\n                var nbb_cell_id = 1123;\n                var nbb_unformatted_code = \"insert_execute_many(df_operation, 'operation')\";\n                var nbb_formatted_code = \"insert_execute_many(df_operation, \\\"operation\\\")\";\n                var nbb_cells = Jupyter.notebook.get_cells();\n                for (var i = 0; i < nbb_cells.length; ++i) {\n                    if (nbb_cells[i].input_prompt_number == nbb_cell_id) {\n                        if (nbb_cells[i].get_text() == nbb_unformatted_code) {\n                             nbb_cells[i].set_text(nbb_formatted_code);\n                        }\n                        break;\n                    }\n                }\n            }, 500);\n            ",
      "text/plain": [
       "<IPython.core.display.Javascript object>"
      ]
     },
     "metadata": {},
     "output_type": "display_data"
    }
   ],
   "source": [
    "insert_execute_many(df_operation, 'operation')"
   ]
  },
  {
   "cell_type": "code",
   "execution_count": null,
   "id": "c5c2f7ab",
   "metadata": {},
   "outputs": [],
   "source": []
  },
  {
   "cell_type": "markdown",
   "id": "26c37a2b",
   "metadata": {},
   "source": [
    "### Product"
   ]
  },
  {
   "cell_type": "code",
   "execution_count": 94,
   "id": "1e9c0745",
   "metadata": {
    "ExecuteTime": {
     "end_time": "2022-03-21T15:58:48.263114Z",
     "start_time": "2022-03-21T15:58:48.240164Z"
    }
   },
   "outputs": [
    {
     "data": {
      "text/html": [
       "<div>\n",
       "<style scoped>\n",
       "    .dataframe tbody tr th:only-of-type {\n",
       "        vertical-align: middle;\n",
       "    }\n",
       "\n",
       "    .dataframe tbody tr th {\n",
       "        vertical-align: top;\n",
       "    }\n",
       "\n",
       "    .dataframe thead th {\n",
       "        text-align: right;\n",
       "    }\n",
       "</style>\n",
       "<table border=\"1\" class=\"dataframe\">\n",
       "  <thead>\n",
       "    <tr style=\"text-align: right;\">\n",
       "      <th></th>\n",
       "      <th>restaurant_description</th>\n",
       "      <th>rating</th>\n",
       "      <th>num_review</th>\n",
       "      <th>menu_category</th>\n",
       "      <th>product_name</th>\n",
       "      <th>price</th>\n",
       "      <th>product_description</th>\n",
       "      <th>status</th>\n",
       "      <th>product_image</th>\n",
       "      <th>restaurant_url</th>\n",
       "      <th>restaurant_name</th>\n",
       "      <th>avt_restaurant</th>\n",
       "      <th>restaurant_category</th>\n",
       "      <th>city</th>\n",
       "      <th>product_id</th>\n",
       "      <th>provider_id</th>\n",
       "    </tr>\n",
       "  </thead>\n",
       "  <tbody>\n",
       "    <tr>\n",
       "      <th>0</th>\n",
       "      <td>NaN</td>\n",
       "      <td>3.6</td>\n",
       "      <td>82</td>\n",
       "      <td>Most Popular</td>\n",
       "      <td>Chicken McMuffin Extra Value Meal [523.0 Cals]</td>\n",
       "      <td>5.69</td>\n",
       "      <td>Chicken McMuffin Extra Value Meal [523.0 Cals]</td>\n",
       "      <td>In stock</td>\n",
       "      <td>https://d1ralsognjng37.cloudfront.net/81325489...</td>\n",
       "      <td>https://www.ubereats.com/ca/store/mcdonalds-67...</td>\n",
       "      <td>McDonald's (675 Upper James Street)</td>\n",
       "      <td>https://cn-geo1.uber.com/image-proc/resize/eat...</td>\n",
       "      <td>24-hours</td>\n",
       "      <td>hamilton</td>\n",
       "      <td>1002564</td>\n",
       "      <td>1000047</td>\n",
       "    </tr>\n",
       "    <tr>\n",
       "      <th>1</th>\n",
       "      <td>NaN</td>\n",
       "      <td>4.4</td>\n",
       "      <td>25</td>\n",
       "      <td>Most Popular</td>\n",
       "      <td>Chicken McMuffin Extra Value Meal [523.0 Cals]</td>\n",
       "      <td>5.69</td>\n",
       "      <td>Chicken McMuffin Extra Value Meal [523.0 Cals]</td>\n",
       "      <td>In stock</td>\n",
       "      <td>https://d1ralsognjng37.cloudfront.net/81325489...</td>\n",
       "      <td>https://www.ubereats.com/ca/store/mcdonalds-67...</td>\n",
       "      <td>McDonald's</td>\n",
       "      <td>https://cn-geo1.uber.com/image-proc/resize/eat...</td>\n",
       "      <td>american</td>\n",
       "      <td>hamilton</td>\n",
       "      <td>1002564</td>\n",
       "      <td>1000047</td>\n",
       "    </tr>\n",
       "    <tr>\n",
       "      <th>2</th>\n",
       "      <td>NaN</td>\n",
       "      <td>3.9</td>\n",
       "      <td>124</td>\n",
       "      <td>Most Popular</td>\n",
       "      <td>Chicken McMuffin Extra Value Meal [523.0 Cals]</td>\n",
       "      <td>5.69</td>\n",
       "      <td>Chicken McMuffin Extra Value Meal [523.0 Cals]</td>\n",
       "      <td>In stock</td>\n",
       "      <td>https://d1ralsognjng37.cloudfront.net/81325489...</td>\n",
       "      <td>https://www.ubereats.com/ca/store/mcdonalds-67...</td>\n",
       "      <td>McDonald's (675 Upper James Street)</td>\n",
       "      <td>https://cn-geo1.uber.com/image-proc/resize/eat...</td>\n",
       "      <td>bacon</td>\n",
       "      <td>hamilton</td>\n",
       "      <td>1002564</td>\n",
       "      <td>1000047</td>\n",
       "    </tr>\n",
       "    <tr>\n",
       "      <th>3</th>\n",
       "      <td>NaN</td>\n",
       "      <td>4.3</td>\n",
       "      <td>28</td>\n",
       "      <td>Most Popular</td>\n",
       "      <td>Chicken McMuffin Extra Value Meal [523.0 Cals]</td>\n",
       "      <td>5.69</td>\n",
       "      <td>Chicken McMuffin Extra Value Meal [523.0 Cals]</td>\n",
       "      <td>In stock</td>\n",
       "      <td>https://d1ralsognjng37.cloudfront.net/81325489...</td>\n",
       "      <td>https://www.ubereats.com/ca/store/mcdonalds-67...</td>\n",
       "      <td>McDonald's (675 Upper James Street)</td>\n",
       "      <td>https://cn-geo1.uber.com/image-proc/resize/eat...</td>\n",
       "      <td>bakery</td>\n",
       "      <td>hamilton</td>\n",
       "      <td>1002564</td>\n",
       "      <td>1000047</td>\n",
       "    </tr>\n",
       "    <tr>\n",
       "      <th>4</th>\n",
       "      <td>NaN</td>\n",
       "      <td>4.4</td>\n",
       "      <td>63</td>\n",
       "      <td>Most Popular</td>\n",
       "      <td>Chicken McMuffin Extra Value Meal [523.0 Cals]</td>\n",
       "      <td>5.69</td>\n",
       "      <td>Chicken McMuffin Extra Value Meal [523.0 Cals]</td>\n",
       "      <td>In stock</td>\n",
       "      <td>https://d1ralsognjng37.cloudfront.net/81325489...</td>\n",
       "      <td>https://www.ubereats.com/ca/store/mcdonalds-67...</td>\n",
       "      <td>McDonald's (675 Upper James Street)</td>\n",
       "      <td>https://cn-geo1.uber.com/image-proc/resize/eat...</td>\n",
       "      <td>bar-food</td>\n",
       "      <td>hamilton</td>\n",
       "      <td>1002564</td>\n",
       "      <td>1000047</td>\n",
       "    </tr>\n",
       "  </tbody>\n",
       "</table>\n",
       "</div>"
      ],
      "text/plain": [
       "  restaurant_description  rating  num_review menu_category  \\\n",
       "0                    NaN     3.6          82  Most Popular   \n",
       "1                    NaN     4.4          25  Most Popular   \n",
       "2                    NaN     3.9         124  Most Popular   \n",
       "3                    NaN     4.3          28  Most Popular   \n",
       "4                    NaN     4.4          63  Most Popular   \n",
       "\n",
       "                                     product_name  price  \\\n",
       "0  Chicken McMuffin Extra Value Meal [523.0 Cals]   5.69   \n",
       "1  Chicken McMuffin Extra Value Meal [523.0 Cals]   5.69   \n",
       "2  Chicken McMuffin Extra Value Meal [523.0 Cals]   5.69   \n",
       "3  Chicken McMuffin Extra Value Meal [523.0 Cals]   5.69   \n",
       "4  Chicken McMuffin Extra Value Meal [523.0 Cals]   5.69   \n",
       "\n",
       "                              product_description    status  \\\n",
       "0  Chicken McMuffin Extra Value Meal [523.0 Cals]  In stock   \n",
       "1  Chicken McMuffin Extra Value Meal [523.0 Cals]  In stock   \n",
       "2  Chicken McMuffin Extra Value Meal [523.0 Cals]  In stock   \n",
       "3  Chicken McMuffin Extra Value Meal [523.0 Cals]  In stock   \n",
       "4  Chicken McMuffin Extra Value Meal [523.0 Cals]  In stock   \n",
       "\n",
       "                                       product_image  \\\n",
       "0  https://d1ralsognjng37.cloudfront.net/81325489...   \n",
       "1  https://d1ralsognjng37.cloudfront.net/81325489...   \n",
       "2  https://d1ralsognjng37.cloudfront.net/81325489...   \n",
       "3  https://d1ralsognjng37.cloudfront.net/81325489...   \n",
       "4  https://d1ralsognjng37.cloudfront.net/81325489...   \n",
       "\n",
       "                                      restaurant_url  \\\n",
       "0  https://www.ubereats.com/ca/store/mcdonalds-67...   \n",
       "1  https://www.ubereats.com/ca/store/mcdonalds-67...   \n",
       "2  https://www.ubereats.com/ca/store/mcdonalds-67...   \n",
       "3  https://www.ubereats.com/ca/store/mcdonalds-67...   \n",
       "4  https://www.ubereats.com/ca/store/mcdonalds-67...   \n",
       "\n",
       "                       restaurant_name  \\\n",
       "0  McDonald's (675 Upper James Street)   \n",
       "1                           McDonald's   \n",
       "2  McDonald's (675 Upper James Street)   \n",
       "3  McDonald's (675 Upper James Street)   \n",
       "4  McDonald's (675 Upper James Street)   \n",
       "\n",
       "                                      avt_restaurant restaurant_category  \\\n",
       "0  https://cn-geo1.uber.com/image-proc/resize/eat...            24-hours   \n",
       "1  https://cn-geo1.uber.com/image-proc/resize/eat...            american   \n",
       "2  https://cn-geo1.uber.com/image-proc/resize/eat...               bacon   \n",
       "3  https://cn-geo1.uber.com/image-proc/resize/eat...              bakery   \n",
       "4  https://cn-geo1.uber.com/image-proc/resize/eat...            bar-food   \n",
       "\n",
       "       city  product_id  provider_id  \n",
       "0  hamilton     1002564      1000047  \n",
       "1  hamilton     1002564      1000047  \n",
       "2  hamilton     1002564      1000047  \n",
       "3  hamilton     1002564      1000047  \n",
       "4  hamilton     1002564      1000047  "
      ]
     },
     "execution_count": 94,
     "metadata": {},
     "output_type": "execute_result"
    },
    {
     "data": {
      "application/javascript": "\n            setTimeout(function() {\n                var nbb_cell_id = 94;\n                var nbb_unformatted_code = \"df.head()\";\n                var nbb_formatted_code = \"df.head()\";\n                var nbb_cells = Jupyter.notebook.get_cells();\n                for (var i = 0; i < nbb_cells.length; ++i) {\n                    if (nbb_cells[i].input_prompt_number == nbb_cell_id) {\n                        if (nbb_cells[i].get_text() == nbb_unformatted_code) {\n                             nbb_cells[i].set_text(nbb_formatted_code);\n                        }\n                        break;\n                    }\n                }\n            }, 500);\n            ",
      "text/plain": [
       "<IPython.core.display.Javascript object>"
      ]
     },
     "metadata": {},
     "output_type": "display_data"
    }
   ],
   "source": [
    "df.head()"
   ]
  },
  {
   "cell_type": "code",
   "execution_count": 95,
   "id": "cba0310f",
   "metadata": {
    "ExecuteTime": {
     "end_time": "2022-03-21T15:58:49.306595Z",
     "start_time": "2022-03-21T15:58:49.291606Z"
    }
   },
   "outputs": [
    {
     "data": {
      "text/plain": [
       "False"
      ]
     },
     "execution_count": 95,
     "metadata": {},
     "output_type": "execute_result"
    },
    {
     "data": {
      "application/javascript": "\n            setTimeout(function() {\n                var nbb_cell_id = 95;\n                var nbb_unformatted_code = \"provider_data[\\\"merchant_name\\\"].is_unique\";\n                var nbb_formatted_code = \"provider_data[\\\"merchant_name\\\"].is_unique\";\n                var nbb_cells = Jupyter.notebook.get_cells();\n                for (var i = 0; i < nbb_cells.length; ++i) {\n                    if (nbb_cells[i].input_prompt_number == nbb_cell_id) {\n                        if (nbb_cells[i].get_text() == nbb_unformatted_code) {\n                             nbb_cells[i].set_text(nbb_formatted_code);\n                        }\n                        break;\n                    }\n                }\n            }, 500);\n            ",
      "text/plain": [
       "<IPython.core.display.Javascript object>"
      ]
     },
     "metadata": {},
     "output_type": "display_data"
    }
   ],
   "source": [
    "provider_data[\"merchant_name\"].is_unique"
   ]
  },
  {
   "cell_type": "code",
   "execution_count": 96,
   "id": "d1673909",
   "metadata": {
    "ExecuteTime": {
     "end_time": "2022-03-21T15:58:49.866684Z",
     "start_time": "2022-03-21T15:58:49.827743Z"
    }
   },
   "outputs": [
    {
     "data": {
      "text/html": [
       "<div>\n",
       "<style scoped>\n",
       "    .dataframe tbody tr th:only-of-type {\n",
       "        vertical-align: middle;\n",
       "    }\n",
       "\n",
       "    .dataframe tbody tr th {\n",
       "        vertical-align: top;\n",
       "    }\n",
       "\n",
       "    .dataframe thead th {\n",
       "        text-align: right;\n",
       "    }\n",
       "</style>\n",
       "<table border=\"1\" class=\"dataframe\">\n",
       "  <thead>\n",
       "    <tr style=\"text-align: right;\">\n",
       "      <th></th>\n",
       "      <th>provider_id</th>\n",
       "      <th>merchant_name</th>\n",
       "      <th>address</th>\n",
       "      <th>road</th>\n",
       "      <th>ward_id</th>\n",
       "      <th>district_id</th>\n",
       "      <th>city_id</th>\n",
       "      <th>description</th>\n",
       "      <th>keyword</th>\n",
       "      <th>hotline</th>\n",
       "      <th>...</th>\n",
       "      <th>status</th>\n",
       "      <th>erc</th>\n",
       "      <th>rush_hour</th>\n",
       "      <th>order_totals</th>\n",
       "      <th>user_id</th>\n",
       "      <th>owner_id</th>\n",
       "      <th>current_form</th>\n",
       "      <th>registered_at</th>\n",
       "      <th>update_at</th>\n",
       "      <th>delete_at</th>\n",
       "    </tr>\n",
       "  </thead>\n",
       "  <tbody>\n",
       "    <tr>\n",
       "      <th>0</th>\n",
       "      <td>1000047</td>\n",
       "      <td>McDonald's (675 Upper James Street)</td>\n",
       "      <td>227</td>\n",
       "      <td>Nguyễn Văn Cừ</td>\n",
       "      <td>1</td>\n",
       "      <td>2</td>\n",
       "      <td>3</td>\n",
       "      <td>None</td>\n",
       "      <td>abc</td>\n",
       "      <td>0123456789</td>\n",
       "      <td>...</td>\n",
       "      <td>1</td>\n",
       "      <td>https://media-cdn.tripadvisor.com/media/photo-...</td>\n",
       "      <td>03:45:12</td>\n",
       "      <td>500</td>\n",
       "      <td>1000002</td>\n",
       "      <td>1000000</td>\n",
       "      <td>5</td>\n",
       "      <td>2021-02-18 20:22:11</td>\n",
       "      <td>2021-02-18 20:22:11</td>\n",
       "      <td>None</td>\n",
       "    </tr>\n",
       "  </tbody>\n",
       "</table>\n",
       "<p>1 rows × 28 columns</p>\n",
       "</div>"
      ],
      "text/plain": [
       "   provider_id                        merchant_name address           road  \\\n",
       "0      1000047  McDonald's (675 Upper James Street)     227  Nguyễn Văn Cừ   \n",
       "\n",
       "  ward_id district_id city_id description keyword     hotline  ... status  \\\n",
       "0       1           2       3        None     abc  0123456789  ...      1   \n",
       "\n",
       "                                                 erc rush_hour order_totals  \\\n",
       "0  https://media-cdn.tripadvisor.com/media/photo-...  03:45:12          500   \n",
       "\n",
       "   user_id owner_id current_form       registered_at           update_at  \\\n",
       "0  1000002  1000000            5 2021-02-18 20:22:11 2021-02-18 20:22:11   \n",
       "\n",
       "  delete_at  \n",
       "0      None  \n",
       "\n",
       "[1 rows x 28 columns]"
      ]
     },
     "execution_count": 96,
     "metadata": {},
     "output_type": "execute_result"
    },
    {
     "data": {
      "application/javascript": "\n            setTimeout(function() {\n                var nbb_cell_id = 96;\n                var nbb_unformatted_code = \"provider_data.head(1)\";\n                var nbb_formatted_code = \"provider_data.head(1)\";\n                var nbb_cells = Jupyter.notebook.get_cells();\n                for (var i = 0; i < nbb_cells.length; ++i) {\n                    if (nbb_cells[i].input_prompt_number == nbb_cell_id) {\n                        if (nbb_cells[i].get_text() == nbb_unformatted_code) {\n                             nbb_cells[i].set_text(nbb_formatted_code);\n                        }\n                        break;\n                    }\n                }\n            }, 500);\n            ",
      "text/plain": [
       "<IPython.core.display.Javascript object>"
      ]
     },
     "metadata": {},
     "output_type": "display_data"
    }
   ],
   "source": [
    "provider_data.head(1)"
   ]
  },
  {
   "cell_type": "code",
   "execution_count": 97,
   "id": "8465b899",
   "metadata": {
    "ExecuteTime": {
     "end_time": "2022-03-21T16:01:29.441473Z",
     "start_time": "2022-03-21T16:01:29.408553Z"
    }
   },
   "outputs": [
    {
     "data": {
      "text/html": [
       "<div>\n",
       "<style scoped>\n",
       "    .dataframe tbody tr th:only-of-type {\n",
       "        vertical-align: middle;\n",
       "    }\n",
       "\n",
       "    .dataframe tbody tr th {\n",
       "        vertical-align: top;\n",
       "    }\n",
       "\n",
       "    .dataframe thead th {\n",
       "        text-align: right;\n",
       "    }\n",
       "</style>\n",
       "<table border=\"1\" class=\"dataframe\">\n",
       "  <thead>\n",
       "    <tr style=\"text-align: right;\">\n",
       "      <th></th>\n",
       "      <th>restaurant_description</th>\n",
       "      <th>rating</th>\n",
       "      <th>num_review</th>\n",
       "      <th>menu_category</th>\n",
       "      <th>product_name</th>\n",
       "      <th>price</th>\n",
       "      <th>product_description</th>\n",
       "      <th>status</th>\n",
       "      <th>product_image</th>\n",
       "      <th>restaurant_url</th>\n",
       "      <th>restaurant_name</th>\n",
       "      <th>avt_restaurant</th>\n",
       "      <th>restaurant_category</th>\n",
       "      <th>city</th>\n",
       "      <th>product_id</th>\n",
       "      <th>provider_id</th>\n",
       "    </tr>\n",
       "  </thead>\n",
       "  <tbody>\n",
       "    <tr>\n",
       "      <th>0</th>\n",
       "      <td>NaN</td>\n",
       "      <td>3.6</td>\n",
       "      <td>82</td>\n",
       "      <td>Most Popular</td>\n",
       "      <td>Chicken McMuffin Extra Value Meal [523.0 Cals]</td>\n",
       "      <td>5.69</td>\n",
       "      <td>Chicken McMuffin Extra Value Meal [523.0 Cals]</td>\n",
       "      <td>In stock</td>\n",
       "      <td>https://d1ralsognjng37.cloudfront.net/81325489...</td>\n",
       "      <td>https://www.ubereats.com/ca/store/mcdonalds-67...</td>\n",
       "      <td>McDonald's (675 Upper James Street)</td>\n",
       "      <td>https://cn-geo1.uber.com/image-proc/resize/eat...</td>\n",
       "      <td>24-hours</td>\n",
       "      <td>hamilton</td>\n",
       "      <td>1002564</td>\n",
       "      <td>1000047</td>\n",
       "    </tr>\n",
       "  </tbody>\n",
       "</table>\n",
       "</div>"
      ],
      "text/plain": [
       "  restaurant_description  rating  num_review menu_category  \\\n",
       "0                    NaN     3.6          82  Most Popular   \n",
       "\n",
       "                                     product_name  price  \\\n",
       "0  Chicken McMuffin Extra Value Meal [523.0 Cals]   5.69   \n",
       "\n",
       "                              product_description    status  \\\n",
       "0  Chicken McMuffin Extra Value Meal [523.0 Cals]  In stock   \n",
       "\n",
       "                                       product_image  \\\n",
       "0  https://d1ralsognjng37.cloudfront.net/81325489...   \n",
       "\n",
       "                                      restaurant_url  \\\n",
       "0  https://www.ubereats.com/ca/store/mcdonalds-67...   \n",
       "\n",
       "                       restaurant_name  \\\n",
       "0  McDonald's (675 Upper James Street)   \n",
       "\n",
       "                                      avt_restaurant restaurant_category  \\\n",
       "0  https://cn-geo1.uber.com/image-proc/resize/eat...            24-hours   \n",
       "\n",
       "       city  product_id  provider_id  \n",
       "0  hamilton     1002564      1000047  "
      ]
     },
     "execution_count": 97,
     "metadata": {},
     "output_type": "execute_result"
    },
    {
     "data": {
      "application/javascript": "\n            setTimeout(function() {\n                var nbb_cell_id = 97;\n                var nbb_unformatted_code = \"df.head(1)\";\n                var nbb_formatted_code = \"df.head(1)\";\n                var nbb_cells = Jupyter.notebook.get_cells();\n                for (var i = 0; i < nbb_cells.length; ++i) {\n                    if (nbb_cells[i].input_prompt_number == nbb_cell_id) {\n                        if (nbb_cells[i].get_text() == nbb_unformatted_code) {\n                             nbb_cells[i].set_text(nbb_formatted_code);\n                        }\n                        break;\n                    }\n                }\n            }, 500);\n            ",
      "text/plain": [
       "<IPython.core.display.Javascript object>"
      ]
     },
     "metadata": {},
     "output_type": "display_data"
    }
   ],
   "source": [
    "df.head(1)"
   ]
  },
  {
   "cell_type": "code",
   "execution_count": 98,
   "id": "1c062051",
   "metadata": {
    "ExecuteTime": {
     "end_time": "2022-03-21T16:46:54.478238Z",
     "start_time": "2022-03-21T16:46:54.303370Z"
    }
   },
   "outputs": [
    {
     "data": {
      "application/javascript": "\n            setTimeout(function() {\n                var nbb_cell_id = 98;\n                var nbb_unformatted_code = \"# df_product = df[[\\\"product_id\\\", \\\"provider_id\\\", \\\"product_name\\\"]]\\n\\ndf_product = df[[\\\"product_id\\\", \\\"provider_id\\\", \\\"product_name\\\"]]\";\n                var nbb_formatted_code = \"# df_product = df[[\\\"product_id\\\", \\\"provider_id\\\", \\\"product_name\\\"]]\\n\\ndf_product = df[[\\\"product_id\\\", \\\"provider_id\\\", \\\"product_name\\\"]]\";\n                var nbb_cells = Jupyter.notebook.get_cells();\n                for (var i = 0; i < nbb_cells.length; ++i) {\n                    if (nbb_cells[i].input_prompt_number == nbb_cell_id) {\n                        if (nbb_cells[i].get_text() == nbb_unformatted_code) {\n                             nbb_cells[i].set_text(nbb_formatted_code);\n                        }\n                        break;\n                    }\n                }\n            }, 500);\n            ",
      "text/plain": [
       "<IPython.core.display.Javascript object>"
      ]
     },
     "metadata": {},
     "output_type": "display_data"
    }
   ],
   "source": [
    "# df_product = df[[\"product_id\", \"provider_id\", \"product_name\"]]\n",
    "\n",
    "df_product = df[[\"product_id\", \"provider_id\", \"product_name\"]]"
   ]
  },
  {
   "cell_type": "code",
   "execution_count": 99,
   "id": "17c099ae",
   "metadata": {},
   "outputs": [
    {
     "data": {
      "text/plain": [
       "1011571"
      ]
     },
     "execution_count": 99,
     "metadata": {},
     "output_type": "execute_result"
    },
    {
     "data": {
      "application/javascript": "\n            setTimeout(function() {\n                var nbb_cell_id = 99;\n                var nbb_unformatted_code = \"df.product_id.max()\";\n                var nbb_formatted_code = \"df.product_id.max()\";\n                var nbb_cells = Jupyter.notebook.get_cells();\n                for (var i = 0; i < nbb_cells.length; ++i) {\n                    if (nbb_cells[i].input_prompt_number == nbb_cell_id) {\n                        if (nbb_cells[i].get_text() == nbb_unformatted_code) {\n                             nbb_cells[i].set_text(nbb_formatted_code);\n                        }\n                        break;\n                    }\n                }\n            }, 500);\n            ",
      "text/plain": [
       "<IPython.core.display.Javascript object>"
      ]
     },
     "metadata": {},
     "output_type": "display_data"
    }
   ],
   "source": [
    "df.product_id.max()"
   ]
  },
  {
   "cell_type": "code",
   "execution_count": 100,
   "id": "e1470489",
   "metadata": {
    "ExecuteTime": {
     "end_time": "2022-03-21T16:46:55.718364Z",
     "start_time": "2022-03-21T16:46:55.211073Z"
    }
   },
   "outputs": [
    {
     "data": {
      "application/javascript": "\n            setTimeout(function() {\n                var nbb_cell_id = 100;\n                var nbb_unformatted_code = \"df_product[\\\"product_status\\\"] = 1\\n\\ndf_product[\\\"description\\\"] = (\\n    df[\\\"product_description\\\"].fillna(np.nan).replace([np.nan], [None])\\n)\\ndf_product[\\\"description\\\"] = df_product[\\\"description\\\"].apply(\\n    lambda x: x.rpartition(\\\".\\\")[0] + \\\".\\\" if x != None else x\\n)\\n\\ndf_product[\\\"price\\\"] = df.price\\ndf_product[\\\"product_image\\\"] = df.product_image\\ndf_product[\\\"quantity\\\"] = 1000\\ndf_product[\\\"sold_quantity\\\"] = 1000\\ndf_product[\\\"position\\\"] = 1\\ndf_product[\\\"rating\\\"] = df.rating\\ndf_product[\\\"create_at\\\"] = \\\"2021-12-14 19:49:49\\\"\\ndf_product[\\\"update_at\\\"] = \\\"2021-12-14 19:49:49\\\"\\ndf_product[\\\"delete_at\\\"] = None\\ndf_product[\\\"calo\\\"] = 300\";\n                var nbb_formatted_code = \"df_product[\\\"product_status\\\"] = 1\\n\\ndf_product[\\\"description\\\"] = (\\n    df[\\\"product_description\\\"].fillna(np.nan).replace([np.nan], [None])\\n)\\ndf_product[\\\"description\\\"] = df_product[\\\"description\\\"].apply(\\n    lambda x: x.rpartition(\\\".\\\")[0] + \\\".\\\" if x != None else x\\n)\\n\\ndf_product[\\\"price\\\"] = df.price\\ndf_product[\\\"product_image\\\"] = df.product_image\\ndf_product[\\\"quantity\\\"] = 1000\\ndf_product[\\\"sold_quantity\\\"] = 1000\\ndf_product[\\\"position\\\"] = 1\\ndf_product[\\\"rating\\\"] = df.rating\\ndf_product[\\\"create_at\\\"] = \\\"2021-12-14 19:49:49\\\"\\ndf_product[\\\"update_at\\\"] = \\\"2021-12-14 19:49:49\\\"\\ndf_product[\\\"delete_at\\\"] = None\\ndf_product[\\\"calo\\\"] = 300\";\n                var nbb_cells = Jupyter.notebook.get_cells();\n                for (var i = 0; i < nbb_cells.length; ++i) {\n                    if (nbb_cells[i].input_prompt_number == nbb_cell_id) {\n                        if (nbb_cells[i].get_text() == nbb_unformatted_code) {\n                             nbb_cells[i].set_text(nbb_formatted_code);\n                        }\n                        break;\n                    }\n                }\n            }, 500);\n            ",
      "text/plain": [
       "<IPython.core.display.Javascript object>"
      ]
     },
     "metadata": {},
     "output_type": "display_data"
    }
   ],
   "source": [
    "df_product[\"product_status\"] = 1\n",
    "\n",
    "df_product[\"description\"] = (\n",
    "    df[\"product_description\"].fillna(np.nan).replace([np.nan], [None])\n",
    ")\n",
    "df_product[\"description\"] = df_product[\"description\"].apply(\n",
    "    lambda x: x.rpartition(\".\")[0] + \".\" if x != None else x\n",
    ")\n",
    "\n",
    "df_product[\"price\"] = df.price\n",
    "df_product[\"product_image\"] = df.product_image\n",
    "df_product[\"quantity\"] = 1000\n",
    "df_product[\"sold_quantity\"] = 1000\n",
    "df_product[\"position\"] = 1\n",
    "df_product[\"rating\"] = df.rating\n",
    "df_product[\"create_at\"] = \"2021-12-14 19:49:49\"\n",
    "df_product[\"update_at\"] = \"2021-12-14 19:49:49\"\n",
    "df_product[\"delete_at\"] = None\n",
    "df_product[\"calo\"] = 300"
   ]
  },
  {
   "cell_type": "code",
   "execution_count": 101,
   "id": "21169418",
   "metadata": {},
   "outputs": [
    {
     "data": {
      "application/javascript": "\n            setTimeout(function() {\n                var nbb_cell_id = 101;\n                var nbb_unformatted_code = \"import datetime\";\n                var nbb_formatted_code = \"import datetime\";\n                var nbb_cells = Jupyter.notebook.get_cells();\n                for (var i = 0; i < nbb_cells.length; ++i) {\n                    if (nbb_cells[i].input_prompt_number == nbb_cell_id) {\n                        if (nbb_cells[i].get_text() == nbb_unformatted_code) {\n                             nbb_cells[i].set_text(nbb_formatted_code);\n                        }\n                        break;\n                    }\n                }\n            }, 500);\n            ",
      "text/plain": [
       "<IPython.core.display.Javascript object>"
      ]
     },
     "metadata": {},
     "output_type": "display_data"
    }
   ],
   "source": [
    "import datetime"
   ]
  },
  {
   "cell_type": "code",
   "execution_count": 102,
   "id": "90da6a34",
   "metadata": {
    "ExecuteTime": {
     "end_time": "2022-03-21T16:53:17.509158Z",
     "start_time": "2022-03-21T16:53:15.264334Z"
    }
   },
   "outputs": [
    {
     "data": {
      "application/javascript": "\n            setTimeout(function() {\n                var nbb_cell_id = 102;\n                var nbb_unformatted_code = \"d1 = datetime.datetime.strptime(\\\"1/1/2018 1:30 PM\\\", \\\"%m/%d/%Y %I:%M %p\\\")\\nd2 = datetime.datetime.strptime(\\\"1/1/2022 4:50 AM\\\", \\\"%m/%d/%Y %I:%M %p\\\")\\ndf_product[\\\"create_at\\\"] = df_product[\\\"create_at\\\"].apply(lambda x: random_date(d1, d2))\\n# provider_data[\\\"registered_at\\\"] = pd.to_datetime(df_user[\\\"registered_at\\\"])\\ndf_product[\\\"update_at\\\"] = df_product[\\\"create_at\\\"]  # trick nha\\n# provider_data[\\\"delete_at\\\"] = datetime.time(0, 0)\\ndf_product[\\\"delete_at\\\"] = None\";\n                var nbb_formatted_code = \"d1 = datetime.datetime.strptime(\\\"1/1/2018 1:30 PM\\\", \\\"%m/%d/%Y %I:%M %p\\\")\\nd2 = datetime.datetime.strptime(\\\"1/1/2022 4:50 AM\\\", \\\"%m/%d/%Y %I:%M %p\\\")\\ndf_product[\\\"create_at\\\"] = df_product[\\\"create_at\\\"].apply(lambda x: random_date(d1, d2))\\n# provider_data[\\\"registered_at\\\"] = pd.to_datetime(df_user[\\\"registered_at\\\"])\\ndf_product[\\\"update_at\\\"] = df_product[\\\"create_at\\\"]  # trick nha\\n# provider_data[\\\"delete_at\\\"] = datetime.time(0, 0)\\ndf_product[\\\"delete_at\\\"] = None\";\n                var nbb_cells = Jupyter.notebook.get_cells();\n                for (var i = 0; i < nbb_cells.length; ++i) {\n                    if (nbb_cells[i].input_prompt_number == nbb_cell_id) {\n                        if (nbb_cells[i].get_text() == nbb_unformatted_code) {\n                             nbb_cells[i].set_text(nbb_formatted_code);\n                        }\n                        break;\n                    }\n                }\n            }, 500);\n            ",
      "text/plain": [
       "<IPython.core.display.Javascript object>"
      ]
     },
     "metadata": {},
     "output_type": "display_data"
    }
   ],
   "source": [
    "d1 = datetime.datetime.strptime(\"1/1/2018 1:30 PM\", \"%m/%d/%Y %I:%M %p\")\n",
    "d2 = datetime.datetime.strptime(\"1/1/2022 4:50 AM\", \"%m/%d/%Y %I:%M %p\")\n",
    "df_product[\"create_at\"] = df_product[\"create_at\"].apply(lambda x: random_date(d1, d2))\n",
    "# provider_data[\"registered_at\"] = pd.to_datetime(df_user[\"registered_at\"])\n",
    "df_product[\"update_at\"] = df_product[\"create_at\"]  # trick nha\n",
    "# provider_data[\"delete_at\"] = datetime.time(0, 0)\n",
    "df_product[\"delete_at\"] = None"
   ]
  },
  {
   "cell_type": "code",
   "execution_count": 103,
   "id": "d9bbef53",
   "metadata": {
    "ExecuteTime": {
     "end_time": "2022-03-21T16:53:17.787598Z",
     "start_time": "2022-03-21T16:53:17.511984Z"
    }
   },
   "outputs": [
    {
     "name": "stdout",
     "output_type": "stream",
     "text": [
      "<class 'pandas.core.frame.DataFrame'>\n",
      "RangeIndex: 511450 entries, 0 to 511449\n",
      "Data columns (total 15 columns):\n",
      " #   Column          Non-Null Count   Dtype         \n",
      "---  ------          --------------   -----         \n",
      " 0   product_id      511450 non-null  int64         \n",
      " 1   provider_id     511450 non-null  int64         \n",
      " 2   product_name    509449 non-null  object        \n",
      " 3   product_status  511450 non-null  int64         \n",
      " 4   description     286605 non-null  object        \n",
      " 5   price           504983 non-null  float64       \n",
      " 6   product_image   253880 non-null  object        \n",
      " 7   quantity        511450 non-null  int64         \n",
      " 8   sold_quantity   511450 non-null  int64         \n",
      " 9   position        511450 non-null  int64         \n",
      " 10  rating          511450 non-null  float64       \n",
      " 11  create_at       511450 non-null  datetime64[ns]\n",
      " 12  update_at       511450 non-null  datetime64[ns]\n",
      " 13  delete_at       0 non-null       object        \n",
      " 14  calo            511450 non-null  int64         \n",
      "dtypes: datetime64[ns](2), float64(2), int64(7), object(4)\n",
      "memory usage: 58.5+ MB\n"
     ]
    },
    {
     "data": {
      "application/javascript": "\n            setTimeout(function() {\n                var nbb_cell_id = 103;\n                var nbb_unformatted_code = \"df_product.info()\";\n                var nbb_formatted_code = \"df_product.info()\";\n                var nbb_cells = Jupyter.notebook.get_cells();\n                for (var i = 0; i < nbb_cells.length; ++i) {\n                    if (nbb_cells[i].input_prompt_number == nbb_cell_id) {\n                        if (nbb_cells[i].get_text() == nbb_unformatted_code) {\n                             nbb_cells[i].set_text(nbb_formatted_code);\n                        }\n                        break;\n                    }\n                }\n            }, 500);\n            ",
      "text/plain": [
       "<IPython.core.display.Javascript object>"
      ]
     },
     "metadata": {},
     "output_type": "display_data"
    }
   ],
   "source": [
    "df_product.info()"
   ]
  },
  {
   "cell_type": "code",
   "execution_count": 104,
   "id": "003870e3",
   "metadata": {
    "ExecuteTime": {
     "end_time": "2022-03-21T16:46:59.415574Z",
     "start_time": "2022-03-21T16:46:59.389023Z"
    }
   },
   "outputs": [
    {
     "data": {
      "application/javascript": "\n            setTimeout(function() {\n                var nbb_cell_id = 104;\n                var nbb_unformatted_code = \"df_product[\\\"price\\\"] = df_product[\\\"price\\\"].fillna(0)\";\n                var nbb_formatted_code = \"df_product[\\\"price\\\"] = df_product[\\\"price\\\"].fillna(0)\";\n                var nbb_cells = Jupyter.notebook.get_cells();\n                for (var i = 0; i < nbb_cells.length; ++i) {\n                    if (nbb_cells[i].input_prompt_number == nbb_cell_id) {\n                        if (nbb_cells[i].get_text() == nbb_unformatted_code) {\n                             nbb_cells[i].set_text(nbb_formatted_code);\n                        }\n                        break;\n                    }\n                }\n            }, 500);\n            ",
      "text/plain": [
       "<IPython.core.display.Javascript object>"
      ]
     },
     "metadata": {},
     "output_type": "display_data"
    }
   ],
   "source": [
    "df_product[\"price\"] = df_product[\"price\"].fillna(0)\n"
   ]
  },
  {
   "cell_type": "code",
   "execution_count": 105,
   "id": "08ad7fc2",
   "metadata": {
    "ExecuteTime": {
     "end_time": "2022-03-21T16:53:06.865813Z",
     "start_time": "2022-03-21T16:53:06.741504Z"
    }
   },
   "outputs": [
    {
     "data": {
      "application/javascript": "\n            setTimeout(function() {\n                var nbb_cell_id = 105;\n                var nbb_unformatted_code = \"df_product.dropna(subset=[\\\"product_name\\\"], inplace=True)\";\n                var nbb_formatted_code = \"df_product.dropna(subset=[\\\"product_name\\\"], inplace=True)\";\n                var nbb_cells = Jupyter.notebook.get_cells();\n                for (var i = 0; i < nbb_cells.length; ++i) {\n                    if (nbb_cells[i].input_prompt_number == nbb_cell_id) {\n                        if (nbb_cells[i].get_text() == nbb_unformatted_code) {\n                             nbb_cells[i].set_text(nbb_formatted_code);\n                        }\n                        break;\n                    }\n                }\n            }, 500);\n            ",
      "text/plain": [
       "<IPython.core.display.Javascript object>"
      ]
     },
     "metadata": {},
     "output_type": "display_data"
    }
   ],
   "source": [
    "df_product.dropna(subset=[\"product_name\"], inplace=True)"
   ]
  },
  {
   "cell_type": "code",
   "execution_count": 106,
   "id": "9f9678cf",
   "metadata": {
    "ExecuteTime": {
     "end_time": "2022-03-21T16:47:00.409125Z",
     "start_time": "2022-03-21T16:47:00.307772Z"
    }
   },
   "outputs": [
    {
     "data": {
      "application/javascript": "\n            setTimeout(function() {\n                var nbb_cell_id = 106;\n                var nbb_unformatted_code = \"df[\\\"product_image\\\"] = df[\\\"product_image\\\"].fillna(\\n    \\\"tophinhanhdep.com/wp-content/uploads/2021/10/Pure-White-Wallpapers.jpg\\\"\\n)\";\n                var nbb_formatted_code = \"df[\\\"product_image\\\"] = df[\\\"product_image\\\"].fillna(\\n    \\\"tophinhanhdep.com/wp-content/uploads/2021/10/Pure-White-Wallpapers.jpg\\\"\\n)\";\n                var nbb_cells = Jupyter.notebook.get_cells();\n                for (var i = 0; i < nbb_cells.length; ++i) {\n                    if (nbb_cells[i].input_prompt_number == nbb_cell_id) {\n                        if (nbb_cells[i].get_text() == nbb_unformatted_code) {\n                             nbb_cells[i].set_text(nbb_formatted_code);\n                        }\n                        break;\n                    }\n                }\n            }, 500);\n            ",
      "text/plain": [
       "<IPython.core.display.Javascript object>"
      ]
     },
     "metadata": {},
     "output_type": "display_data"
    }
   ],
   "source": [
    "df[\"product_image\"] = df[\"product_image\"].fillna(\n",
    "    \"tophinhanhdep.com/wp-content/uploads/2021/10/Pure-White-Wallpapers.jpg\"\n",
    ")"
   ]
  },
  {
   "cell_type": "code",
   "execution_count": 107,
   "id": "0e326b19",
   "metadata": {
    "ExecuteTime": {
     "end_time": "2022-03-21T16:47:02.513878Z",
     "start_time": "2022-03-21T16:47:02.491937Z"
    }
   },
   "outputs": [
    {
     "data": {
      "application/javascript": "\n            setTimeout(function() {\n                var nbb_cell_id = 107;\n                var nbb_unformatted_code = \"# conn, cur = connect_db()\\n# cols = \\\"`,`\\\".join([str(i) for i in list(df_product.columns)])\\n# sql = (\\n#     \\\"INSERT INTO `product` (`\\\"\\n#     + cols\\n#     + \\\"`) VALUES (\\\"\\n#     + \\\"%s,\\\" * (df_product.shape[1] - 1)\\n#     + \\\"%s)\\\"\\n# )\\n\\n# try:\\n#     cur.executemany(sql, df_product.values.tolist()[50000:60000])  # owner_values\\n#     conn.commit()\\n# except Error as error:\\n#     # conn.rollback()\\n#     print(\\\"Failed to insert into MySQL table {}\\\".format(error))\\n# finally:\\n#     cur.close()\\n#     conn.close()\";\n                var nbb_formatted_code = \"# conn, cur = connect_db()\\n# cols = \\\"`,`\\\".join([str(i) for i in list(df_product.columns)])\\n# sql = (\\n#     \\\"INSERT INTO `product` (`\\\"\\n#     + cols\\n#     + \\\"`) VALUES (\\\"\\n#     + \\\"%s,\\\" * (df_product.shape[1] - 1)\\n#     + \\\"%s)\\\"\\n# )\\n\\n# try:\\n#     cur.executemany(sql, df_product.values.tolist()[50000:60000])  # owner_values\\n#     conn.commit()\\n# except Error as error:\\n#     # conn.rollback()\\n#     print(\\\"Failed to insert into MySQL table {}\\\".format(error))\\n# finally:\\n#     cur.close()\\n#     conn.close()\";\n                var nbb_cells = Jupyter.notebook.get_cells();\n                for (var i = 0; i < nbb_cells.length; ++i) {\n                    if (nbb_cells[i].input_prompt_number == nbb_cell_id) {\n                        if (nbb_cells[i].get_text() == nbb_unformatted_code) {\n                             nbb_cells[i].set_text(nbb_formatted_code);\n                        }\n                        break;\n                    }\n                }\n            }, 500);\n            ",
      "text/plain": [
       "<IPython.core.display.Javascript object>"
      ]
     },
     "metadata": {},
     "output_type": "display_data"
    }
   ],
   "source": [
    "# conn, cur = connect_db()\n",
    "# cols = \"`,`\".join([str(i) for i in list(df_product.columns)])\n",
    "# sql = (\n",
    "#     \"INSERT INTO `product` (`\"\n",
    "#     + cols\n",
    "#     + \"`) VALUES (\"\n",
    "#     + \"%s,\" * (df_product.shape[1] - 1)\n",
    "#     + \"%s)\"\n",
    "# )\n",
    "\n",
    "# try:\n",
    "#     cur.executemany(sql, df_product.values.tolist()[50000:60000])  # owner_values\n",
    "#     conn.commit()\n",
    "# except Error as error:\n",
    "#     # conn.rollback()\n",
    "#     print(\"Failed to insert into MySQL table {}\".format(error))\n",
    "# finally:\n",
    "#     cur.close()\n",
    "#     conn.close()"
   ]
  },
  {
   "cell_type": "code",
   "execution_count": 108,
   "id": "1586b767",
   "metadata": {
    "ExecuteTime": {
     "end_time": "2022-03-21T16:47:04.072339Z",
     "start_time": "2022-03-21T16:47:04.048367Z"
    }
   },
   "outputs": [
    {
     "data": {
      "text/html": [
       "<div>\n",
       "<style scoped>\n",
       "    .dataframe tbody tr th:only-of-type {\n",
       "        vertical-align: middle;\n",
       "    }\n",
       "\n",
       "    .dataframe tbody tr th {\n",
       "        vertical-align: top;\n",
       "    }\n",
       "\n",
       "    .dataframe thead th {\n",
       "        text-align: right;\n",
       "    }\n",
       "</style>\n",
       "<table border=\"1\" class=\"dataframe\">\n",
       "  <thead>\n",
       "    <tr style=\"text-align: right;\">\n",
       "      <th></th>\n",
       "      <th>product_id</th>\n",
       "      <th>provider_id</th>\n",
       "      <th>product_name</th>\n",
       "      <th>product_status</th>\n",
       "      <th>description</th>\n",
       "      <th>price</th>\n",
       "      <th>product_image</th>\n",
       "      <th>quantity</th>\n",
       "      <th>sold_quantity</th>\n",
       "      <th>position</th>\n",
       "      <th>rating</th>\n",
       "      <th>create_at</th>\n",
       "      <th>update_at</th>\n",
       "      <th>delete_at</th>\n",
       "      <th>calo</th>\n",
       "    </tr>\n",
       "  </thead>\n",
       "  <tbody>\n",
       "    <tr>\n",
       "      <th>0</th>\n",
       "      <td>1002564</td>\n",
       "      <td>1000047</td>\n",
       "      <td>Chicken McMuffin Extra Value Meal [523.0 Cals]</td>\n",
       "      <td>1</td>\n",
       "      <td>Chicken McMuffin Extra Value Meal [523.</td>\n",
       "      <td>5.69</td>\n",
       "      <td>https://d1ralsognjng37.cloudfront.net/81325489...</td>\n",
       "      <td>1000</td>\n",
       "      <td>1000</td>\n",
       "      <td>1</td>\n",
       "      <td>3.6</td>\n",
       "      <td>2021-03-07 08:23:48</td>\n",
       "      <td>2021-03-07 08:23:48</td>\n",
       "      <td>None</td>\n",
       "      <td>300</td>\n",
       "    </tr>\n",
       "    <tr>\n",
       "      <th>1</th>\n",
       "      <td>1002564</td>\n",
       "      <td>1000047</td>\n",
       "      <td>Chicken McMuffin Extra Value Meal [523.0 Cals]</td>\n",
       "      <td>1</td>\n",
       "      <td>Chicken McMuffin Extra Value Meal [523.</td>\n",
       "      <td>5.69</td>\n",
       "      <td>https://d1ralsognjng37.cloudfront.net/81325489...</td>\n",
       "      <td>1000</td>\n",
       "      <td>1000</td>\n",
       "      <td>1</td>\n",
       "      <td>4.4</td>\n",
       "      <td>2019-05-10 13:18:04</td>\n",
       "      <td>2019-05-10 13:18:04</td>\n",
       "      <td>None</td>\n",
       "      <td>300</td>\n",
       "    </tr>\n",
       "    <tr>\n",
       "      <th>2</th>\n",
       "      <td>1002564</td>\n",
       "      <td>1000047</td>\n",
       "      <td>Chicken McMuffin Extra Value Meal [523.0 Cals]</td>\n",
       "      <td>1</td>\n",
       "      <td>Chicken McMuffin Extra Value Meal [523.</td>\n",
       "      <td>5.69</td>\n",
       "      <td>https://d1ralsognjng37.cloudfront.net/81325489...</td>\n",
       "      <td>1000</td>\n",
       "      <td>1000</td>\n",
       "      <td>1</td>\n",
       "      <td>3.9</td>\n",
       "      <td>2021-06-21 05:19:37</td>\n",
       "      <td>2021-06-21 05:19:37</td>\n",
       "      <td>None</td>\n",
       "      <td>300</td>\n",
       "    </tr>\n",
       "    <tr>\n",
       "      <th>3</th>\n",
       "      <td>1002564</td>\n",
       "      <td>1000047</td>\n",
       "      <td>Chicken McMuffin Extra Value Meal [523.0 Cals]</td>\n",
       "      <td>1</td>\n",
       "      <td>Chicken McMuffin Extra Value Meal [523.</td>\n",
       "      <td>5.69</td>\n",
       "      <td>https://d1ralsognjng37.cloudfront.net/81325489...</td>\n",
       "      <td>1000</td>\n",
       "      <td>1000</td>\n",
       "      <td>1</td>\n",
       "      <td>4.3</td>\n",
       "      <td>2020-11-20 12:42:03</td>\n",
       "      <td>2020-11-20 12:42:03</td>\n",
       "      <td>None</td>\n",
       "      <td>300</td>\n",
       "    </tr>\n",
       "    <tr>\n",
       "      <th>4</th>\n",
       "      <td>1002564</td>\n",
       "      <td>1000047</td>\n",
       "      <td>Chicken McMuffin Extra Value Meal [523.0 Cals]</td>\n",
       "      <td>1</td>\n",
       "      <td>Chicken McMuffin Extra Value Meal [523.</td>\n",
       "      <td>5.69</td>\n",
       "      <td>https://d1ralsognjng37.cloudfront.net/81325489...</td>\n",
       "      <td>1000</td>\n",
       "      <td>1000</td>\n",
       "      <td>1</td>\n",
       "      <td>4.4</td>\n",
       "      <td>2018-04-03 07:14:43</td>\n",
       "      <td>2018-04-03 07:14:43</td>\n",
       "      <td>None</td>\n",
       "      <td>300</td>\n",
       "    </tr>\n",
       "  </tbody>\n",
       "</table>\n",
       "</div>"
      ],
      "text/plain": [
       "   product_id  provider_id                                    product_name  \\\n",
       "0     1002564      1000047  Chicken McMuffin Extra Value Meal [523.0 Cals]   \n",
       "1     1002564      1000047  Chicken McMuffin Extra Value Meal [523.0 Cals]   \n",
       "2     1002564      1000047  Chicken McMuffin Extra Value Meal [523.0 Cals]   \n",
       "3     1002564      1000047  Chicken McMuffin Extra Value Meal [523.0 Cals]   \n",
       "4     1002564      1000047  Chicken McMuffin Extra Value Meal [523.0 Cals]   \n",
       "\n",
       "   product_status                              description  price  \\\n",
       "0               1  Chicken McMuffin Extra Value Meal [523.   5.69   \n",
       "1               1  Chicken McMuffin Extra Value Meal [523.   5.69   \n",
       "2               1  Chicken McMuffin Extra Value Meal [523.   5.69   \n",
       "3               1  Chicken McMuffin Extra Value Meal [523.   5.69   \n",
       "4               1  Chicken McMuffin Extra Value Meal [523.   5.69   \n",
       "\n",
       "                                       product_image  quantity  sold_quantity  \\\n",
       "0  https://d1ralsognjng37.cloudfront.net/81325489...      1000           1000   \n",
       "1  https://d1ralsognjng37.cloudfront.net/81325489...      1000           1000   \n",
       "2  https://d1ralsognjng37.cloudfront.net/81325489...      1000           1000   \n",
       "3  https://d1ralsognjng37.cloudfront.net/81325489...      1000           1000   \n",
       "4  https://d1ralsognjng37.cloudfront.net/81325489...      1000           1000   \n",
       "\n",
       "   position  rating           create_at           update_at delete_at  calo  \n",
       "0         1     3.6 2021-03-07 08:23:48 2021-03-07 08:23:48      None   300  \n",
       "1         1     4.4 2019-05-10 13:18:04 2019-05-10 13:18:04      None   300  \n",
       "2         1     3.9 2021-06-21 05:19:37 2021-06-21 05:19:37      None   300  \n",
       "3         1     4.3 2020-11-20 12:42:03 2020-11-20 12:42:03      None   300  \n",
       "4         1     4.4 2018-04-03 07:14:43 2018-04-03 07:14:43      None   300  "
      ]
     },
     "execution_count": 108,
     "metadata": {},
     "output_type": "execute_result"
    },
    {
     "data": {
      "application/javascript": "\n            setTimeout(function() {\n                var nbb_cell_id = 108;\n                var nbb_unformatted_code = \"df_product.head(5)\";\n                var nbb_formatted_code = \"df_product.head(5)\";\n                var nbb_cells = Jupyter.notebook.get_cells();\n                for (var i = 0; i < nbb_cells.length; ++i) {\n                    if (nbb_cells[i].input_prompt_number == nbb_cell_id) {\n                        if (nbb_cells[i].get_text() == nbb_unformatted_code) {\n                             nbb_cells[i].set_text(nbb_formatted_code);\n                        }\n                        break;\n                    }\n                }\n            }, 500);\n            ",
      "text/plain": [
       "<IPython.core.display.Javascript object>"
      ]
     },
     "metadata": {},
     "output_type": "display_data"
    }
   ],
   "source": [
    "df_product.head(5)"
   ]
  },
  {
   "cell_type": "code",
   "execution_count": 109,
   "id": "7d26540e",
   "metadata": {
    "ExecuteTime": {
     "end_time": "2022-03-21T16:47:20.114614Z",
     "start_time": "2022-03-21T16:47:20.101419Z"
    }
   },
   "outputs": [
    {
     "data": {
      "text/plain": [
       "509449"
      ]
     },
     "execution_count": 109,
     "metadata": {},
     "output_type": "execute_result"
    },
    {
     "data": {
      "application/javascript": "\n            setTimeout(function() {\n                var nbb_cell_id = 109;\n                var nbb_unformatted_code = \"len(df_product)\";\n                var nbb_formatted_code = \"len(df_product)\";\n                var nbb_cells = Jupyter.notebook.get_cells();\n                for (var i = 0; i < nbb_cells.length; ++i) {\n                    if (nbb_cells[i].input_prompt_number == nbb_cell_id) {\n                        if (nbb_cells[i].get_text() == nbb_unformatted_code) {\n                             nbb_cells[i].set_text(nbb_formatted_code);\n                        }\n                        break;\n                    }\n                }\n            }, 500);\n            ",
      "text/plain": [
       "<IPython.core.display.Javascript object>"
      ]
     },
     "metadata": {},
     "output_type": "display_data"
    }
   ],
   "source": [
    "len(df_product)"
   ]
  },
  {
   "cell_type": "markdown",
   "id": "b70ba2ef",
   "metadata": {},
   "source": [
    "#### drop duplicate product "
   ]
  },
  {
   "cell_type": "code",
   "execution_count": 110,
   "id": "6bcf477a",
   "metadata": {},
   "outputs": [
    {
     "data": {
      "application/javascript": "\n            setTimeout(function() {\n                var nbb_cell_id = 110;\n                var nbb_unformatted_code = \"df_product_temp = df_product.drop_duplicates(subset=['product_name', 'product_image'])\\ndf_product_temp = df_product_temp.reset_index(drop=True)\";\n                var nbb_formatted_code = \"df_product_temp = df_product.drop_duplicates(subset=[\\\"product_name\\\", \\\"product_image\\\"])\\ndf_product_temp = df_product_temp.reset_index(drop=True)\";\n                var nbb_cells = Jupyter.notebook.get_cells();\n                for (var i = 0; i < nbb_cells.length; ++i) {\n                    if (nbb_cells[i].input_prompt_number == nbb_cell_id) {\n                        if (nbb_cells[i].get_text() == nbb_unformatted_code) {\n                             nbb_cells[i].set_text(nbb_formatted_code);\n                        }\n                        break;\n                    }\n                }\n            }, 500);\n            ",
      "text/plain": [
       "<IPython.core.display.Javascript object>"
      ]
     },
     "metadata": {},
     "output_type": "display_data"
    }
   ],
   "source": [
    "df_product_temp = df_product.drop_duplicates(subset=['product_name', 'product_image'])\n",
    "df_product_temp = df_product_temp.reset_index(drop=True)"
   ]
  },
  {
   "cell_type": "code",
   "execution_count": 111,
   "id": "722698b4",
   "metadata": {},
   "outputs": [
    {
     "data": {
      "text/plain": [
       "(12921, 15)"
      ]
     },
     "execution_count": 111,
     "metadata": {},
     "output_type": "execute_result"
    },
    {
     "data": {
      "application/javascript": "\n            setTimeout(function() {\n                var nbb_cell_id = 111;\n                var nbb_unformatted_code = \"df_product_temp.shape\";\n                var nbb_formatted_code = \"df_product_temp.shape\";\n                var nbb_cells = Jupyter.notebook.get_cells();\n                for (var i = 0; i < nbb_cells.length; ++i) {\n                    if (nbb_cells[i].input_prompt_number == nbb_cell_id) {\n                        if (nbb_cells[i].get_text() == nbb_unformatted_code) {\n                             nbb_cells[i].set_text(nbb_formatted_code);\n                        }\n                        break;\n                    }\n                }\n            }, 500);\n            ",
      "text/plain": [
       "<IPython.core.display.Javascript object>"
      ]
     },
     "metadata": {},
     "output_type": "display_data"
    }
   ],
   "source": [
    "df_product_temp.shape"
   ]
  },
  {
   "cell_type": "code",
   "execution_count": 112,
   "id": "8dd06571",
   "metadata": {},
   "outputs": [
    {
     "data": {
      "text/html": [
       "<div>\n",
       "<style scoped>\n",
       "    .dataframe tbody tr th:only-of-type {\n",
       "        vertical-align: middle;\n",
       "    }\n",
       "\n",
       "    .dataframe tbody tr th {\n",
       "        vertical-align: top;\n",
       "    }\n",
       "\n",
       "    .dataframe thead th {\n",
       "        text-align: right;\n",
       "    }\n",
       "</style>\n",
       "<table border=\"1\" class=\"dataframe\">\n",
       "  <thead>\n",
       "    <tr style=\"text-align: right;\">\n",
       "      <th></th>\n",
       "      <th>product_id</th>\n",
       "      <th>provider_id</th>\n",
       "      <th>product_name</th>\n",
       "      <th>product_status</th>\n",
       "      <th>description</th>\n",
       "      <th>price</th>\n",
       "      <th>product_image</th>\n",
       "      <th>quantity</th>\n",
       "      <th>sold_quantity</th>\n",
       "      <th>position</th>\n",
       "      <th>rating</th>\n",
       "      <th>create_at</th>\n",
       "      <th>update_at</th>\n",
       "      <th>delete_at</th>\n",
       "      <th>calo</th>\n",
       "    </tr>\n",
       "  </thead>\n",
       "  <tbody>\n",
       "    <tr>\n",
       "      <th>0</th>\n",
       "      <td>1002564</td>\n",
       "      <td>1000047</td>\n",
       "      <td>Chicken McMuffin Extra Value Meal [523.0 Cals]</td>\n",
       "      <td>1</td>\n",
       "      <td>Chicken McMuffin Extra Value Meal [523.</td>\n",
       "      <td>5.69</td>\n",
       "      <td>https://d1ralsognjng37.cloudfront.net/81325489...</td>\n",
       "      <td>1000</td>\n",
       "      <td>1000</td>\n",
       "      <td>1</td>\n",
       "      <td>3.6</td>\n",
       "      <td>2021-03-07 08:23:48</td>\n",
       "      <td>2021-03-07 08:23:48</td>\n",
       "      <td>None</td>\n",
       "      <td>300</td>\n",
       "    </tr>\n",
       "    <tr>\n",
       "      <th>1</th>\n",
       "      <td>1003816</td>\n",
       "      <td>1000047</td>\n",
       "      <td>Egg McMuffin Extra Value Meal [450.0 Cals]</td>\n",
       "      <td>1</td>\n",
       "      <td>Egg McMuffin Extra Value Meal [450.</td>\n",
       "      <td>7.29</td>\n",
       "      <td>https://d1ralsognjng37.cloudfront.net/9813c0cf...</td>\n",
       "      <td>1000</td>\n",
       "      <td>1000</td>\n",
       "      <td>1</td>\n",
       "      <td>4.5</td>\n",
       "      <td>2018-07-07 10:29:07</td>\n",
       "      <td>2018-07-07 10:29:07</td>\n",
       "      <td>None</td>\n",
       "      <td>300</td>\n",
       "    </tr>\n",
       "    <tr>\n",
       "      <th>2</th>\n",
       "      <td>1001234</td>\n",
       "      <td>1000047</td>\n",
       "      <td>Bacon 'N Egg McMuffin Extra Value Meal [470.0 ...</td>\n",
       "      <td>1</td>\n",
       "      <td>Bacon 'N Egg McMuffin Extra Value Meal [470.</td>\n",
       "      <td>7.29</td>\n",
       "      <td>https://d1ralsognjng37.cloudfront.net/9038ffb5...</td>\n",
       "      <td>1000</td>\n",
       "      <td>1000</td>\n",
       "      <td>1</td>\n",
       "      <td>3.8</td>\n",
       "      <td>2018-11-17 16:21:00</td>\n",
       "      <td>2018-11-17 16:21:00</td>\n",
       "      <td>None</td>\n",
       "      <td>300</td>\n",
       "    </tr>\n",
       "    <tr>\n",
       "      <th>3</th>\n",
       "      <td>1009201</td>\n",
       "      <td>1000047</td>\n",
       "      <td>Sausage 'N Egg McMuffin Extra Value Meal [590....</td>\n",
       "      <td>1</td>\n",
       "      <td>Sausage 'N Egg McMuffin Extra Value Meal [590.</td>\n",
       "      <td>7.29</td>\n",
       "      <td>https://d1ralsognjng37.cloudfront.net/c8739211...</td>\n",
       "      <td>1000</td>\n",
       "      <td>1000</td>\n",
       "      <td>1</td>\n",
       "      <td>3.9</td>\n",
       "      <td>2018-09-12 12:14:56</td>\n",
       "      <td>2018-09-12 12:14:56</td>\n",
       "      <td>None</td>\n",
       "      <td>300</td>\n",
       "    </tr>\n",
       "    <tr>\n",
       "      <th>4</th>\n",
       "      <td>1006637</td>\n",
       "      <td>1000047</td>\n",
       "      <td>Med Premium Roast Coffee [4.0 Cals]</td>\n",
       "      <td>1</td>\n",
       "      <td>Med Premium Roast Coffee [4.</td>\n",
       "      <td>1.99</td>\n",
       "      <td>https://d1ralsognjng37.cloudfront.net/f82f9ca7...</td>\n",
       "      <td>1000</td>\n",
       "      <td>1000</td>\n",
       "      <td>1</td>\n",
       "      <td>3.6</td>\n",
       "      <td>2020-01-19 17:06:13</td>\n",
       "      <td>2020-01-19 17:06:13</td>\n",
       "      <td>None</td>\n",
       "      <td>300</td>\n",
       "    </tr>\n",
       "  </tbody>\n",
       "</table>\n",
       "</div>"
      ],
      "text/plain": [
       "   product_id  provider_id                                       product_name  \\\n",
       "0     1002564      1000047     Chicken McMuffin Extra Value Meal [523.0 Cals]   \n",
       "1     1003816      1000047         Egg McMuffin Extra Value Meal [450.0 Cals]   \n",
       "2     1001234      1000047  Bacon 'N Egg McMuffin Extra Value Meal [470.0 ...   \n",
       "3     1009201      1000047  Sausage 'N Egg McMuffin Extra Value Meal [590....   \n",
       "4     1006637      1000047                Med Premium Roast Coffee [4.0 Cals]   \n",
       "\n",
       "   product_status                                     description  price  \\\n",
       "0               1         Chicken McMuffin Extra Value Meal [523.   5.69   \n",
       "1               1             Egg McMuffin Extra Value Meal [450.   7.29   \n",
       "2               1    Bacon 'N Egg McMuffin Extra Value Meal [470.   7.29   \n",
       "3               1  Sausage 'N Egg McMuffin Extra Value Meal [590.   7.29   \n",
       "4               1                    Med Premium Roast Coffee [4.   1.99   \n",
       "\n",
       "                                       product_image  quantity  sold_quantity  \\\n",
       "0  https://d1ralsognjng37.cloudfront.net/81325489...      1000           1000   \n",
       "1  https://d1ralsognjng37.cloudfront.net/9813c0cf...      1000           1000   \n",
       "2  https://d1ralsognjng37.cloudfront.net/9038ffb5...      1000           1000   \n",
       "3  https://d1ralsognjng37.cloudfront.net/c8739211...      1000           1000   \n",
       "4  https://d1ralsognjng37.cloudfront.net/f82f9ca7...      1000           1000   \n",
       "\n",
       "   position  rating           create_at           update_at delete_at  calo  \n",
       "0         1     3.6 2021-03-07 08:23:48 2021-03-07 08:23:48      None   300  \n",
       "1         1     4.5 2018-07-07 10:29:07 2018-07-07 10:29:07      None   300  \n",
       "2         1     3.8 2018-11-17 16:21:00 2018-11-17 16:21:00      None   300  \n",
       "3         1     3.9 2018-09-12 12:14:56 2018-09-12 12:14:56      None   300  \n",
       "4         1     3.6 2020-01-19 17:06:13 2020-01-19 17:06:13      None   300  "
      ]
     },
     "execution_count": 112,
     "metadata": {},
     "output_type": "execute_result"
    },
    {
     "data": {
      "application/javascript": "\n            setTimeout(function() {\n                var nbb_cell_id = 112;\n                var nbb_unformatted_code = \"df_product_temp.head()\";\n                var nbb_formatted_code = \"df_product_temp.head()\";\n                var nbb_cells = Jupyter.notebook.get_cells();\n                for (var i = 0; i < nbb_cells.length; ++i) {\n                    if (nbb_cells[i].input_prompt_number == nbb_cell_id) {\n                        if (nbb_cells[i].get_text() == nbb_unformatted_code) {\n                             nbb_cells[i].set_text(nbb_formatted_code);\n                        }\n                        break;\n                    }\n                }\n            }, 500);\n            ",
      "text/plain": [
       "<IPython.core.display.Javascript object>"
      ]
     },
     "metadata": {},
     "output_type": "display_data"
    }
   ],
   "source": [
    "df_product_temp.head()"
   ]
  },
  {
   "cell_type": "code",
   "execution_count": 113,
   "id": "9f676f1a",
   "metadata": {},
   "outputs": [
    {
     "data": {
      "application/javascript": "\n            setTimeout(function() {\n                var nbb_cell_id = 113;\n                var nbb_unformatted_code = \"df_product_temp.product_id = list(range(1000000, len(df_product_temp)+1000000, 1))\";\n                var nbb_formatted_code = \"df_product_temp.product_id = list(range(1000000, len(df_product_temp) + 1000000, 1))\";\n                var nbb_cells = Jupyter.notebook.get_cells();\n                for (var i = 0; i < nbb_cells.length; ++i) {\n                    if (nbb_cells[i].input_prompt_number == nbb_cell_id) {\n                        if (nbb_cells[i].get_text() == nbb_unformatted_code) {\n                             nbb_cells[i].set_text(nbb_formatted_code);\n                        }\n                        break;\n                    }\n                }\n            }, 500);\n            ",
      "text/plain": [
       "<IPython.core.display.Javascript object>"
      ]
     },
     "metadata": {},
     "output_type": "display_data"
    }
   ],
   "source": [
    "df_product_temp.product_id = list(range(1000000, len(df_product_temp)+1000000, 1))"
   ]
  },
  {
   "cell_type": "code",
   "execution_count": 114,
   "id": "52ee4a92",
   "metadata": {},
   "outputs": [
    {
     "data": {
      "text/html": [
       "<div>\n",
       "<style scoped>\n",
       "    .dataframe tbody tr th:only-of-type {\n",
       "        vertical-align: middle;\n",
       "    }\n",
       "\n",
       "    .dataframe tbody tr th {\n",
       "        vertical-align: top;\n",
       "    }\n",
       "\n",
       "    .dataframe thead th {\n",
       "        text-align: right;\n",
       "    }\n",
       "</style>\n",
       "<table border=\"1\" class=\"dataframe\">\n",
       "  <thead>\n",
       "    <tr style=\"text-align: right;\">\n",
       "      <th></th>\n",
       "      <th>product_id</th>\n",
       "      <th>provider_id</th>\n",
       "      <th>product_name</th>\n",
       "      <th>product_status</th>\n",
       "      <th>description</th>\n",
       "      <th>price</th>\n",
       "      <th>product_image</th>\n",
       "      <th>quantity</th>\n",
       "      <th>sold_quantity</th>\n",
       "      <th>position</th>\n",
       "      <th>rating</th>\n",
       "      <th>create_at</th>\n",
       "      <th>update_at</th>\n",
       "      <th>delete_at</th>\n",
       "      <th>calo</th>\n",
       "    </tr>\n",
       "  </thead>\n",
       "  <tbody>\n",
       "    <tr>\n",
       "      <th>0</th>\n",
       "      <td>1000000</td>\n",
       "      <td>1000047</td>\n",
       "      <td>Chicken McMuffin Extra Value Meal [523.0 Cals]</td>\n",
       "      <td>1</td>\n",
       "      <td>Chicken McMuffin Extra Value Meal [523.</td>\n",
       "      <td>5.69</td>\n",
       "      <td>https://d1ralsognjng37.cloudfront.net/81325489...</td>\n",
       "      <td>1000</td>\n",
       "      <td>1000</td>\n",
       "      <td>1</td>\n",
       "      <td>3.6</td>\n",
       "      <td>2021-03-07 08:23:48</td>\n",
       "      <td>2021-03-07 08:23:48</td>\n",
       "      <td>None</td>\n",
       "      <td>300</td>\n",
       "    </tr>\n",
       "    <tr>\n",
       "      <th>1</th>\n",
       "      <td>1000001</td>\n",
       "      <td>1000047</td>\n",
       "      <td>Egg McMuffin Extra Value Meal [450.0 Cals]</td>\n",
       "      <td>1</td>\n",
       "      <td>Egg McMuffin Extra Value Meal [450.</td>\n",
       "      <td>7.29</td>\n",
       "      <td>https://d1ralsognjng37.cloudfront.net/9813c0cf...</td>\n",
       "      <td>1000</td>\n",
       "      <td>1000</td>\n",
       "      <td>1</td>\n",
       "      <td>4.5</td>\n",
       "      <td>2018-07-07 10:29:07</td>\n",
       "      <td>2018-07-07 10:29:07</td>\n",
       "      <td>None</td>\n",
       "      <td>300</td>\n",
       "    </tr>\n",
       "    <tr>\n",
       "      <th>2</th>\n",
       "      <td>1000002</td>\n",
       "      <td>1000047</td>\n",
       "      <td>Bacon 'N Egg McMuffin Extra Value Meal [470.0 ...</td>\n",
       "      <td>1</td>\n",
       "      <td>Bacon 'N Egg McMuffin Extra Value Meal [470.</td>\n",
       "      <td>7.29</td>\n",
       "      <td>https://d1ralsognjng37.cloudfront.net/9038ffb5...</td>\n",
       "      <td>1000</td>\n",
       "      <td>1000</td>\n",
       "      <td>1</td>\n",
       "      <td>3.8</td>\n",
       "      <td>2018-11-17 16:21:00</td>\n",
       "      <td>2018-11-17 16:21:00</td>\n",
       "      <td>None</td>\n",
       "      <td>300</td>\n",
       "    </tr>\n",
       "    <tr>\n",
       "      <th>3</th>\n",
       "      <td>1000003</td>\n",
       "      <td>1000047</td>\n",
       "      <td>Sausage 'N Egg McMuffin Extra Value Meal [590....</td>\n",
       "      <td>1</td>\n",
       "      <td>Sausage 'N Egg McMuffin Extra Value Meal [590.</td>\n",
       "      <td>7.29</td>\n",
       "      <td>https://d1ralsognjng37.cloudfront.net/c8739211...</td>\n",
       "      <td>1000</td>\n",
       "      <td>1000</td>\n",
       "      <td>1</td>\n",
       "      <td>3.9</td>\n",
       "      <td>2018-09-12 12:14:56</td>\n",
       "      <td>2018-09-12 12:14:56</td>\n",
       "      <td>None</td>\n",
       "      <td>300</td>\n",
       "    </tr>\n",
       "    <tr>\n",
       "      <th>4</th>\n",
       "      <td>1000004</td>\n",
       "      <td>1000047</td>\n",
       "      <td>Med Premium Roast Coffee [4.0 Cals]</td>\n",
       "      <td>1</td>\n",
       "      <td>Med Premium Roast Coffee [4.</td>\n",
       "      <td>1.99</td>\n",
       "      <td>https://d1ralsognjng37.cloudfront.net/f82f9ca7...</td>\n",
       "      <td>1000</td>\n",
       "      <td>1000</td>\n",
       "      <td>1</td>\n",
       "      <td>3.6</td>\n",
       "      <td>2020-01-19 17:06:13</td>\n",
       "      <td>2020-01-19 17:06:13</td>\n",
       "      <td>None</td>\n",
       "      <td>300</td>\n",
       "    </tr>\n",
       "  </tbody>\n",
       "</table>\n",
       "</div>"
      ],
      "text/plain": [
       "   product_id  provider_id                                       product_name  \\\n",
       "0     1000000      1000047     Chicken McMuffin Extra Value Meal [523.0 Cals]   \n",
       "1     1000001      1000047         Egg McMuffin Extra Value Meal [450.0 Cals]   \n",
       "2     1000002      1000047  Bacon 'N Egg McMuffin Extra Value Meal [470.0 ...   \n",
       "3     1000003      1000047  Sausage 'N Egg McMuffin Extra Value Meal [590....   \n",
       "4     1000004      1000047                Med Premium Roast Coffee [4.0 Cals]   \n",
       "\n",
       "   product_status                                     description  price  \\\n",
       "0               1         Chicken McMuffin Extra Value Meal [523.   5.69   \n",
       "1               1             Egg McMuffin Extra Value Meal [450.   7.29   \n",
       "2               1    Bacon 'N Egg McMuffin Extra Value Meal [470.   7.29   \n",
       "3               1  Sausage 'N Egg McMuffin Extra Value Meal [590.   7.29   \n",
       "4               1                    Med Premium Roast Coffee [4.   1.99   \n",
       "\n",
       "                                       product_image  quantity  sold_quantity  \\\n",
       "0  https://d1ralsognjng37.cloudfront.net/81325489...      1000           1000   \n",
       "1  https://d1ralsognjng37.cloudfront.net/9813c0cf...      1000           1000   \n",
       "2  https://d1ralsognjng37.cloudfront.net/9038ffb5...      1000           1000   \n",
       "3  https://d1ralsognjng37.cloudfront.net/c8739211...      1000           1000   \n",
       "4  https://d1ralsognjng37.cloudfront.net/f82f9ca7...      1000           1000   \n",
       "\n",
       "   position  rating           create_at           update_at delete_at  calo  \n",
       "0         1     3.6 2021-03-07 08:23:48 2021-03-07 08:23:48      None   300  \n",
       "1         1     4.5 2018-07-07 10:29:07 2018-07-07 10:29:07      None   300  \n",
       "2         1     3.8 2018-11-17 16:21:00 2018-11-17 16:21:00      None   300  \n",
       "3         1     3.9 2018-09-12 12:14:56 2018-09-12 12:14:56      None   300  \n",
       "4         1     3.6 2020-01-19 17:06:13 2020-01-19 17:06:13      None   300  "
      ]
     },
     "execution_count": 114,
     "metadata": {},
     "output_type": "execute_result"
    },
    {
     "data": {
      "application/javascript": "\n            setTimeout(function() {\n                var nbb_cell_id = 114;\n                var nbb_unformatted_code = \"df_product_temp.head()\";\n                var nbb_formatted_code = \"df_product_temp.head()\";\n                var nbb_cells = Jupyter.notebook.get_cells();\n                for (var i = 0; i < nbb_cells.length; ++i) {\n                    if (nbb_cells[i].input_prompt_number == nbb_cell_id) {\n                        if (nbb_cells[i].get_text() == nbb_unformatted_code) {\n                             nbb_cells[i].set_text(nbb_formatted_code);\n                        }\n                        break;\n                    }\n                }\n            }, 500);\n            ",
      "text/plain": [
       "<IPython.core.display.Javascript object>"
      ]
     },
     "metadata": {},
     "output_type": "display_data"
    }
   ],
   "source": [
    "df_product_temp.head()"
   ]
  },
  {
   "cell_type": "code",
   "execution_count": 115,
   "id": "b3ff7f34",
   "metadata": {},
   "outputs": [
    {
     "name": "stdout",
     "output_type": "stream",
     "text": [
      "<class 'pandas.core.frame.DataFrame'>\n",
      "RangeIndex: 12921 entries, 0 to 12920\n",
      "Data columns (total 15 columns):\n",
      " #   Column          Non-Null Count  Dtype         \n",
      "---  ------          --------------  -----         \n",
      " 0   product_id      12921 non-null  int64         \n",
      " 1   provider_id     12921 non-null  int64         \n",
      " 2   product_name    12921 non-null  object        \n",
      " 3   product_status  12921 non-null  int64         \n",
      " 4   description     6992 non-null   object        \n",
      " 5   price           12921 non-null  float64       \n",
      " 6   product_image   6265 non-null   object        \n",
      " 7   quantity        12921 non-null  int64         \n",
      " 8   sold_quantity   12921 non-null  int64         \n",
      " 9   position        12921 non-null  int64         \n",
      " 10  rating          12921 non-null  float64       \n",
      " 11  create_at       12921 non-null  datetime64[ns]\n",
      " 12  update_at       12921 non-null  datetime64[ns]\n",
      " 13  delete_at       0 non-null      object        \n",
      " 14  calo            12921 non-null  int64         \n",
      "dtypes: datetime64[ns](2), float64(2), int64(7), object(4)\n",
      "memory usage: 1.5+ MB\n"
     ]
    },
    {
     "data": {
      "application/javascript": "\n            setTimeout(function() {\n                var nbb_cell_id = 115;\n                var nbb_unformatted_code = \"df_product_temp.info()\";\n                var nbb_formatted_code = \"df_product_temp.info()\";\n                var nbb_cells = Jupyter.notebook.get_cells();\n                for (var i = 0; i < nbb_cells.length; ++i) {\n                    if (nbb_cells[i].input_prompt_number == nbb_cell_id) {\n                        if (nbb_cells[i].get_text() == nbb_unformatted_code) {\n                             nbb_cells[i].set_text(nbb_formatted_code);\n                        }\n                        break;\n                    }\n                }\n            }, 500);\n            ",
      "text/plain": [
       "<IPython.core.display.Javascript object>"
      ]
     },
     "metadata": {},
     "output_type": "display_data"
    }
   ],
   "source": [
    "df_product_temp.info()"
   ]
  },
  {
   "cell_type": "code",
   "execution_count": 116,
   "id": "41492850",
   "metadata": {},
   "outputs": [
    {
     "data": {
      "application/javascript": "\n            setTimeout(function() {\n                var nbb_cell_id = 116;\n                var nbb_unformatted_code = \"df_product_temp.delete_at = None\";\n                var nbb_formatted_code = \"df_product_temp.delete_at = None\";\n                var nbb_cells = Jupyter.notebook.get_cells();\n                for (var i = 0; i < nbb_cells.length; ++i) {\n                    if (nbb_cells[i].input_prompt_number == nbb_cell_id) {\n                        if (nbb_cells[i].get_text() == nbb_unformatted_code) {\n                             nbb_cells[i].set_text(nbb_formatted_code);\n                        }\n                        break;\n                    }\n                }\n            }, 500);\n            ",
      "text/plain": [
       "<IPython.core.display.Javascript object>"
      ]
     },
     "metadata": {},
     "output_type": "display_data"
    }
   ],
   "source": [
    "df_product_temp.delete_at = None\n"
   ]
  },
  {
   "cell_type": "code",
   "execution_count": 117,
   "id": "906d56db",
   "metadata": {},
   "outputs": [
    {
     "data": {
      "application/javascript": "\n            setTimeout(function() {\n                var nbb_cell_id = 117;\n                var nbb_unformatted_code = \"df_product_temp.description = df_product_temp.description.fillna(np.nan).replace(\\n    [np.nan], [None]\\n)\\n\\ndf_product_temp.product_image = df_product_temp.product_image.fillna(np.nan).replace(\\n    [np.nan], [None]\\n)\";\n                var nbb_formatted_code = \"df_product_temp.description = df_product_temp.description.fillna(np.nan).replace(\\n    [np.nan], [None]\\n)\\n\\ndf_product_temp.product_image = df_product_temp.product_image.fillna(np.nan).replace(\\n    [np.nan], [None]\\n)\";\n                var nbb_cells = Jupyter.notebook.get_cells();\n                for (var i = 0; i < nbb_cells.length; ++i) {\n                    if (nbb_cells[i].input_prompt_number == nbb_cell_id) {\n                        if (nbb_cells[i].get_text() == nbb_unformatted_code) {\n                             nbb_cells[i].set_text(nbb_formatted_code);\n                        }\n                        break;\n                    }\n                }\n            }, 500);\n            ",
      "text/plain": [
       "<IPython.core.display.Javascript object>"
      ]
     },
     "metadata": {},
     "output_type": "display_data"
    }
   ],
   "source": [
    "df_product_temp.description = df_product_temp.description.fillna(np.nan).replace(\n",
    "    [np.nan], [None]\n",
    ")\n",
    "\n",
    "df_product_temp.product_image = df_product_temp.product_image.fillna(np.nan).replace(\n",
    "    [np.nan], [None]\n",
    ")"
   ]
  },
  {
   "cell_type": "code",
   "execution_count": 118,
   "id": "f2a18e75",
   "metadata": {},
   "outputs": [
    {
     "data": {
      "application/javascript": "\n            setTimeout(function() {\n                var nbb_cell_id = 118;\n                var nbb_unformatted_code = \"df_product_temp.to_csv('mysql_data/product.csv', index = False)\";\n                var nbb_formatted_code = \"df_product_temp.to_csv(\\\"mysql_data/product.csv\\\", index=False)\";\n                var nbb_cells = Jupyter.notebook.get_cells();\n                for (var i = 0; i < nbb_cells.length; ++i) {\n                    if (nbb_cells[i].input_prompt_number == nbb_cell_id) {\n                        if (nbb_cells[i].get_text() == nbb_unformatted_code) {\n                             nbb_cells[i].set_text(nbb_formatted_code);\n                        }\n                        break;\n                    }\n                }\n            }, 500);\n            ",
      "text/plain": [
       "<IPython.core.display.Javascript object>"
      ]
     },
     "metadata": {},
     "output_type": "display_data"
    }
   ],
   "source": [
    "df_product_temp.to_csv('mysql_data/product.csv', index = False)"
   ]
  },
  {
   "cell_type": "code",
   "execution_count": 1148,
   "id": "3215752b",
   "metadata": {
    "ExecuteTime": {
     "end_time": "2022-03-21T16:54:59.408364Z",
     "start_time": "2022-03-21T16:54:24.711182Z"
    }
   },
   "outputs": [
    {
     "data": {
      "application/javascript": "\n            setTimeout(function() {\n                var nbb_cell_id = 1148;\n                var nbb_unformatted_code = \"#insert_execute_many_large_dataset(df_product, \\\"Product\\\")\\ninsert_execute_many_large_dataset(df_product_temp, \\\"Product\\\")\";\n                var nbb_formatted_code = \"# insert_execute_many_large_dataset(df_product, \\\"Product\\\")\\ninsert_execute_many_large_dataset(df_product_temp, \\\"Product\\\")\";\n                var nbb_cells = Jupyter.notebook.get_cells();\n                for (var i = 0; i < nbb_cells.length; ++i) {\n                    if (nbb_cells[i].input_prompt_number == nbb_cell_id) {\n                        if (nbb_cells[i].get_text() == nbb_unformatted_code) {\n                             nbb_cells[i].set_text(nbb_formatted_code);\n                        }\n                        break;\n                    }\n                }\n            }, 500);\n            ",
      "text/plain": [
       "<IPython.core.display.Javascript object>"
      ]
     },
     "metadata": {},
     "output_type": "display_data"
    }
   ],
   "source": [
    "#insert_execute_many_large_dataset(df_product, \"Product\")\n",
    "insert_execute_many_large_dataset(df_product_temp, \"Product\")"
   ]
  },
  {
   "cell_type": "code",
   "execution_count": 1149,
   "id": "dbef1e49",
   "metadata": {
    "ExecuteTime": {
     "end_time": "2022-03-21T16:47:36.078842Z",
     "start_time": "2022-03-21T16:47:36.073789Z"
    }
   },
   "outputs": [
    {
     "data": {
      "application/javascript": "\n            setTimeout(function() {\n                var nbb_cell_id = 1149;\n                var nbb_unformatted_code = \"# cur.close()\\n# conn.close()\";\n                var nbb_formatted_code = \"# cur.close()\\n# conn.close()\";\n                var nbb_cells = Jupyter.notebook.get_cells();\n                for (var i = 0; i < nbb_cells.length; ++i) {\n                    if (nbb_cells[i].input_prompt_number == nbb_cell_id) {\n                        if (nbb_cells[i].get_text() == nbb_unformatted_code) {\n                             nbb_cells[i].set_text(nbb_formatted_code);\n                        }\n                        break;\n                    }\n                }\n            }, 500);\n            ",
      "text/plain": [
       "<IPython.core.display.Javascript object>"
      ]
     },
     "metadata": {},
     "output_type": "display_data"
    }
   ],
   "source": [
    "# cur.close()\n",
    "# conn.close()\n"
   ]
  },
  {
   "cell_type": "code",
   "execution_count": null,
   "id": "d22def8d",
   "metadata": {},
   "outputs": [],
   "source": []
  },
  {
   "cell_type": "markdown",
   "id": "5512c3db",
   "metadata": {},
   "source": [
    "###  Category Of Provider"
   ]
  },
  {
   "cell_type": "markdown",
   "id": "21624220",
   "metadata": {
    "ExecuteTime": {
     "end_time": "2022-03-31T06:33:21.412118Z",
     "start_time": "2022-03-31T06:33:21.395260Z"
    }
   },
   "source": [
    "#### Provider Category Detail"
   ]
  },
  {
   "cell_type": "code",
   "execution_count": 119,
   "id": "36894e93",
   "metadata": {
    "ExecuteTime": {
     "end_time": "2022-03-31T06:38:07.855036Z",
     "start_time": "2022-03-31T06:38:07.831447Z"
    }
   },
   "outputs": [
    {
     "data": {
      "text/html": [
       "<div>\n",
       "<style scoped>\n",
       "    .dataframe tbody tr th:only-of-type {\n",
       "        vertical-align: middle;\n",
       "    }\n",
       "\n",
       "    .dataframe tbody tr th {\n",
       "        vertical-align: top;\n",
       "    }\n",
       "\n",
       "    .dataframe thead th {\n",
       "        text-align: right;\n",
       "    }\n",
       "</style>\n",
       "<table border=\"1\" class=\"dataframe\">\n",
       "  <thead>\n",
       "    <tr style=\"text-align: right;\">\n",
       "      <th></th>\n",
       "      <th>restaurant_description</th>\n",
       "      <th>rating</th>\n",
       "      <th>num_review</th>\n",
       "      <th>menu_category</th>\n",
       "      <th>product_name</th>\n",
       "      <th>price</th>\n",
       "      <th>product_description</th>\n",
       "      <th>status</th>\n",
       "      <th>product_image</th>\n",
       "      <th>restaurant_url</th>\n",
       "      <th>restaurant_name</th>\n",
       "      <th>avt_restaurant</th>\n",
       "      <th>restaurant_category</th>\n",
       "      <th>city</th>\n",
       "      <th>product_id</th>\n",
       "      <th>provider_id</th>\n",
       "    </tr>\n",
       "  </thead>\n",
       "  <tbody>\n",
       "    <tr>\n",
       "      <th>0</th>\n",
       "      <td>NaN</td>\n",
       "      <td>3.6</td>\n",
       "      <td>82</td>\n",
       "      <td>Most Popular</td>\n",
       "      <td>Chicken McMuffin Extra Value Meal [523.0 Cals]</td>\n",
       "      <td>5.69</td>\n",
       "      <td>Chicken McMuffin Extra Value Meal [523.0 Cals]</td>\n",
       "      <td>In stock</td>\n",
       "      <td>https://d1ralsognjng37.cloudfront.net/81325489...</td>\n",
       "      <td>https://www.ubereats.com/ca/store/mcdonalds-67...</td>\n",
       "      <td>McDonald's (675 Upper James Street)</td>\n",
       "      <td>https://cn-geo1.uber.com/image-proc/resize/eat...</td>\n",
       "      <td>24-hours</td>\n",
       "      <td>hamilton</td>\n",
       "      <td>1002564</td>\n",
       "      <td>1000047</td>\n",
       "    </tr>\n",
       "    <tr>\n",
       "      <th>1</th>\n",
       "      <td>NaN</td>\n",
       "      <td>4.4</td>\n",
       "      <td>25</td>\n",
       "      <td>Most Popular</td>\n",
       "      <td>Chicken McMuffin Extra Value Meal [523.0 Cals]</td>\n",
       "      <td>5.69</td>\n",
       "      <td>Chicken McMuffin Extra Value Meal [523.0 Cals]</td>\n",
       "      <td>In stock</td>\n",
       "      <td>https://d1ralsognjng37.cloudfront.net/81325489...</td>\n",
       "      <td>https://www.ubereats.com/ca/store/mcdonalds-67...</td>\n",
       "      <td>McDonald's</td>\n",
       "      <td>https://cn-geo1.uber.com/image-proc/resize/eat...</td>\n",
       "      <td>american</td>\n",
       "      <td>hamilton</td>\n",
       "      <td>1002564</td>\n",
       "      <td>1000047</td>\n",
       "    </tr>\n",
       "    <tr>\n",
       "      <th>2</th>\n",
       "      <td>NaN</td>\n",
       "      <td>3.9</td>\n",
       "      <td>124</td>\n",
       "      <td>Most Popular</td>\n",
       "      <td>Chicken McMuffin Extra Value Meal [523.0 Cals]</td>\n",
       "      <td>5.69</td>\n",
       "      <td>Chicken McMuffin Extra Value Meal [523.0 Cals]</td>\n",
       "      <td>In stock</td>\n",
       "      <td>https://d1ralsognjng37.cloudfront.net/81325489...</td>\n",
       "      <td>https://www.ubereats.com/ca/store/mcdonalds-67...</td>\n",
       "      <td>McDonald's (675 Upper James Street)</td>\n",
       "      <td>https://cn-geo1.uber.com/image-proc/resize/eat...</td>\n",
       "      <td>bacon</td>\n",
       "      <td>hamilton</td>\n",
       "      <td>1002564</td>\n",
       "      <td>1000047</td>\n",
       "    </tr>\n",
       "  </tbody>\n",
       "</table>\n",
       "</div>"
      ],
      "text/plain": [
       "  restaurant_description  rating  num_review menu_category  \\\n",
       "0                    NaN     3.6          82  Most Popular   \n",
       "1                    NaN     4.4          25  Most Popular   \n",
       "2                    NaN     3.9         124  Most Popular   \n",
       "\n",
       "                                     product_name  price  \\\n",
       "0  Chicken McMuffin Extra Value Meal [523.0 Cals]   5.69   \n",
       "1  Chicken McMuffin Extra Value Meal [523.0 Cals]   5.69   \n",
       "2  Chicken McMuffin Extra Value Meal [523.0 Cals]   5.69   \n",
       "\n",
       "                              product_description    status  \\\n",
       "0  Chicken McMuffin Extra Value Meal [523.0 Cals]  In stock   \n",
       "1  Chicken McMuffin Extra Value Meal [523.0 Cals]  In stock   \n",
       "2  Chicken McMuffin Extra Value Meal [523.0 Cals]  In stock   \n",
       "\n",
       "                                       product_image  \\\n",
       "0  https://d1ralsognjng37.cloudfront.net/81325489...   \n",
       "1  https://d1ralsognjng37.cloudfront.net/81325489...   \n",
       "2  https://d1ralsognjng37.cloudfront.net/81325489...   \n",
       "\n",
       "                                      restaurant_url  \\\n",
       "0  https://www.ubereats.com/ca/store/mcdonalds-67...   \n",
       "1  https://www.ubereats.com/ca/store/mcdonalds-67...   \n",
       "2  https://www.ubereats.com/ca/store/mcdonalds-67...   \n",
       "\n",
       "                       restaurant_name  \\\n",
       "0  McDonald's (675 Upper James Street)   \n",
       "1                           McDonald's   \n",
       "2  McDonald's (675 Upper James Street)   \n",
       "\n",
       "                                      avt_restaurant restaurant_category  \\\n",
       "0  https://cn-geo1.uber.com/image-proc/resize/eat...            24-hours   \n",
       "1  https://cn-geo1.uber.com/image-proc/resize/eat...            american   \n",
       "2  https://cn-geo1.uber.com/image-proc/resize/eat...               bacon   \n",
       "\n",
       "       city  product_id  provider_id  \n",
       "0  hamilton     1002564      1000047  \n",
       "1  hamilton     1002564      1000047  \n",
       "2  hamilton     1002564      1000047  "
      ]
     },
     "execution_count": 119,
     "metadata": {},
     "output_type": "execute_result"
    },
    {
     "data": {
      "application/javascript": "\n            setTimeout(function() {\n                var nbb_cell_id = 119;\n                var nbb_unformatted_code = \"df.head(3)\";\n                var nbb_formatted_code = \"df.head(3)\";\n                var nbb_cells = Jupyter.notebook.get_cells();\n                for (var i = 0; i < nbb_cells.length; ++i) {\n                    if (nbb_cells[i].input_prompt_number == nbb_cell_id) {\n                        if (nbb_cells[i].get_text() == nbb_unformatted_code) {\n                             nbb_cells[i].set_text(nbb_formatted_code);\n                        }\n                        break;\n                    }\n                }\n            }, 500);\n            ",
      "text/plain": [
       "<IPython.core.display.Javascript object>"
      ]
     },
     "metadata": {},
     "output_type": "display_data"
    }
   ],
   "source": [
    "df.head(3)"
   ]
  },
  {
   "cell_type": "code",
   "execution_count": 120,
   "id": "587ddabf",
   "metadata": {},
   "outputs": [
    {
     "data": {
      "application/javascript": "\n            setTimeout(function() {\n                var nbb_cell_id = 120;\n                var nbb_unformatted_code = \"le = preprocessing.LabelEncoder()\\ndf['restaurant_category_id'] = le.fit_transform(df.restaurant_category)\\n\\ndf['restaurant_category_id'] = df['restaurant_category_id'].apply(lambda x: x+ 1000000)\";\n                var nbb_formatted_code = \"le = preprocessing.LabelEncoder()\\ndf[\\\"restaurant_category_id\\\"] = le.fit_transform(df.restaurant_category)\\n\\ndf[\\\"restaurant_category_id\\\"] = df[\\\"restaurant_category_id\\\"].apply(lambda x: x + 1000000)\";\n                var nbb_cells = Jupyter.notebook.get_cells();\n                for (var i = 0; i < nbb_cells.length; ++i) {\n                    if (nbb_cells[i].input_prompt_number == nbb_cell_id) {\n                        if (nbb_cells[i].get_text() == nbb_unformatted_code) {\n                             nbb_cells[i].set_text(nbb_formatted_code);\n                        }\n                        break;\n                    }\n                }\n            }, 500);\n            ",
      "text/plain": [
       "<IPython.core.display.Javascript object>"
      ]
     },
     "metadata": {},
     "output_type": "display_data"
    }
   ],
   "source": [
    "le = preprocessing.LabelEncoder()\n",
    "df['restaurant_category_id'] = le.fit_transform(df.restaurant_category)\n",
    "\n",
    "df['restaurant_category_id'] = df['restaurant_category_id'].apply(lambda x: x+ 1000000)"
   ]
  },
  {
   "cell_type": "code",
   "execution_count": 121,
   "id": "5dcdce05",
   "metadata": {},
   "outputs": [
    {
     "data": {
      "text/html": [
       "<div>\n",
       "<style scoped>\n",
       "    .dataframe tbody tr th:only-of-type {\n",
       "        vertical-align: middle;\n",
       "    }\n",
       "\n",
       "    .dataframe tbody tr th {\n",
       "        vertical-align: top;\n",
       "    }\n",
       "\n",
       "    .dataframe thead th {\n",
       "        text-align: right;\n",
       "    }\n",
       "</style>\n",
       "<table border=\"1\" class=\"dataframe\">\n",
       "  <thead>\n",
       "    <tr style=\"text-align: right;\">\n",
       "      <th></th>\n",
       "      <th>restaurant_description</th>\n",
       "      <th>rating</th>\n",
       "      <th>num_review</th>\n",
       "      <th>menu_category</th>\n",
       "      <th>product_name</th>\n",
       "      <th>price</th>\n",
       "      <th>product_description</th>\n",
       "      <th>status</th>\n",
       "      <th>product_image</th>\n",
       "      <th>restaurant_url</th>\n",
       "      <th>restaurant_name</th>\n",
       "      <th>avt_restaurant</th>\n",
       "      <th>restaurant_category</th>\n",
       "      <th>city</th>\n",
       "      <th>product_id</th>\n",
       "      <th>provider_id</th>\n",
       "      <th>restaurant_category_id</th>\n",
       "    </tr>\n",
       "  </thead>\n",
       "  <tbody>\n",
       "    <tr>\n",
       "      <th>0</th>\n",
       "      <td>NaN</td>\n",
       "      <td>3.6</td>\n",
       "      <td>82</td>\n",
       "      <td>Most Popular</td>\n",
       "      <td>Chicken McMuffin Extra Value Meal [523.0 Cals]</td>\n",
       "      <td>5.69</td>\n",
       "      <td>Chicken McMuffin Extra Value Meal [523.0 Cals]</td>\n",
       "      <td>In stock</td>\n",
       "      <td>https://d1ralsognjng37.cloudfront.net/81325489...</td>\n",
       "      <td>https://www.ubereats.com/ca/store/mcdonalds-67...</td>\n",
       "      <td>McDonald's (675 Upper James Street)</td>\n",
       "      <td>https://cn-geo1.uber.com/image-proc/resize/eat...</td>\n",
       "      <td>24-hours</td>\n",
       "      <td>hamilton</td>\n",
       "      <td>1002564</td>\n",
       "      <td>1000047</td>\n",
       "      <td>1000000</td>\n",
       "    </tr>\n",
       "    <tr>\n",
       "      <th>1</th>\n",
       "      <td>NaN</td>\n",
       "      <td>4.4</td>\n",
       "      <td>25</td>\n",
       "      <td>Most Popular</td>\n",
       "      <td>Chicken McMuffin Extra Value Meal [523.0 Cals]</td>\n",
       "      <td>5.69</td>\n",
       "      <td>Chicken McMuffin Extra Value Meal [523.0 Cals]</td>\n",
       "      <td>In stock</td>\n",
       "      <td>https://d1ralsognjng37.cloudfront.net/81325489...</td>\n",
       "      <td>https://www.ubereats.com/ca/store/mcdonalds-67...</td>\n",
       "      <td>McDonald's</td>\n",
       "      <td>https://cn-geo1.uber.com/image-proc/resize/eat...</td>\n",
       "      <td>american</td>\n",
       "      <td>hamilton</td>\n",
       "      <td>1002564</td>\n",
       "      <td>1000047</td>\n",
       "      <td>1000006</td>\n",
       "    </tr>\n",
       "    <tr>\n",
       "      <th>2</th>\n",
       "      <td>NaN</td>\n",
       "      <td>3.9</td>\n",
       "      <td>124</td>\n",
       "      <td>Most Popular</td>\n",
       "      <td>Chicken McMuffin Extra Value Meal [523.0 Cals]</td>\n",
       "      <td>5.69</td>\n",
       "      <td>Chicken McMuffin Extra Value Meal [523.0 Cals]</td>\n",
       "      <td>In stock</td>\n",
       "      <td>https://d1ralsognjng37.cloudfront.net/81325489...</td>\n",
       "      <td>https://www.ubereats.com/ca/store/mcdonalds-67...</td>\n",
       "      <td>McDonald's (675 Upper James Street)</td>\n",
       "      <td>https://cn-geo1.uber.com/image-proc/resize/eat...</td>\n",
       "      <td>bacon</td>\n",
       "      <td>hamilton</td>\n",
       "      <td>1002564</td>\n",
       "      <td>1000047</td>\n",
       "      <td>1000011</td>\n",
       "    </tr>\n",
       "  </tbody>\n",
       "</table>\n",
       "</div>"
      ],
      "text/plain": [
       "  restaurant_description  rating  num_review menu_category  \\\n",
       "0                    NaN     3.6          82  Most Popular   \n",
       "1                    NaN     4.4          25  Most Popular   \n",
       "2                    NaN     3.9         124  Most Popular   \n",
       "\n",
       "                                     product_name  price  \\\n",
       "0  Chicken McMuffin Extra Value Meal [523.0 Cals]   5.69   \n",
       "1  Chicken McMuffin Extra Value Meal [523.0 Cals]   5.69   \n",
       "2  Chicken McMuffin Extra Value Meal [523.0 Cals]   5.69   \n",
       "\n",
       "                              product_description    status  \\\n",
       "0  Chicken McMuffin Extra Value Meal [523.0 Cals]  In stock   \n",
       "1  Chicken McMuffin Extra Value Meal [523.0 Cals]  In stock   \n",
       "2  Chicken McMuffin Extra Value Meal [523.0 Cals]  In stock   \n",
       "\n",
       "                                       product_image  \\\n",
       "0  https://d1ralsognjng37.cloudfront.net/81325489...   \n",
       "1  https://d1ralsognjng37.cloudfront.net/81325489...   \n",
       "2  https://d1ralsognjng37.cloudfront.net/81325489...   \n",
       "\n",
       "                                      restaurant_url  \\\n",
       "0  https://www.ubereats.com/ca/store/mcdonalds-67...   \n",
       "1  https://www.ubereats.com/ca/store/mcdonalds-67...   \n",
       "2  https://www.ubereats.com/ca/store/mcdonalds-67...   \n",
       "\n",
       "                       restaurant_name  \\\n",
       "0  McDonald's (675 Upper James Street)   \n",
       "1                           McDonald's   \n",
       "2  McDonald's (675 Upper James Street)   \n",
       "\n",
       "                                      avt_restaurant restaurant_category  \\\n",
       "0  https://cn-geo1.uber.com/image-proc/resize/eat...            24-hours   \n",
       "1  https://cn-geo1.uber.com/image-proc/resize/eat...            american   \n",
       "2  https://cn-geo1.uber.com/image-proc/resize/eat...               bacon   \n",
       "\n",
       "       city  product_id  provider_id  restaurant_category_id  \n",
       "0  hamilton     1002564      1000047                 1000000  \n",
       "1  hamilton     1002564      1000047                 1000006  \n",
       "2  hamilton     1002564      1000047                 1000011  "
      ]
     },
     "execution_count": 121,
     "metadata": {},
     "output_type": "execute_result"
    },
    {
     "data": {
      "application/javascript": "\n            setTimeout(function() {\n                var nbb_cell_id = 121;\n                var nbb_unformatted_code = \"df.head(3)\";\n                var nbb_formatted_code = \"df.head(3)\";\n                var nbb_cells = Jupyter.notebook.get_cells();\n                for (var i = 0; i < nbb_cells.length; ++i) {\n                    if (nbb_cells[i].input_prompt_number == nbb_cell_id) {\n                        if (nbb_cells[i].get_text() == nbb_unformatted_code) {\n                             nbb_cells[i].set_text(nbb_formatted_code);\n                        }\n                        break;\n                    }\n                }\n            }, 500);\n            ",
      "text/plain": [
       "<IPython.core.display.Javascript object>"
      ]
     },
     "metadata": {},
     "output_type": "display_data"
    }
   ],
   "source": [
    "df.head(3)"
   ]
  },
  {
   "cell_type": "markdown",
   "id": "89087dfa",
   "metadata": {},
   "source": [
    "#### provider_category"
   ]
  },
  {
   "cell_type": "code",
   "execution_count": 122,
   "id": "f7789c0a",
   "metadata": {},
   "outputs": [
    {
     "data": {
      "application/javascript": "\n            setTimeout(function() {\n                var nbb_cell_id = 122;\n                var nbb_unformatted_code = \"df_provider_category = df[\\n    [\\\"restaurant_category_id\\\", \\\"restaurant_category\\\"]\\n].drop_duplicates(ignore_index=True)\\n\\ndf_provider_category = df_provider_category.rename(\\n    columns={\\n        \\\"restaurant_category_id\\\": \\\"provider_category_id\\\",\\n        \\\"restaurant_category\\\": \\\"provider_category_name\\\",\\n    }\\n)\";\n                var nbb_formatted_code = \"df_provider_category = df[\\n    [\\\"restaurant_category_id\\\", \\\"restaurant_category\\\"]\\n].drop_duplicates(ignore_index=True)\\n\\ndf_provider_category = df_provider_category.rename(\\n    columns={\\n        \\\"restaurant_category_id\\\": \\\"provider_category_id\\\",\\n        \\\"restaurant_category\\\": \\\"provider_category_name\\\",\\n    }\\n)\";\n                var nbb_cells = Jupyter.notebook.get_cells();\n                for (var i = 0; i < nbb_cells.length; ++i) {\n                    if (nbb_cells[i].input_prompt_number == nbb_cell_id) {\n                        if (nbb_cells[i].get_text() == nbb_unformatted_code) {\n                             nbb_cells[i].set_text(nbb_formatted_code);\n                        }\n                        break;\n                    }\n                }\n            }, 500);\n            ",
      "text/plain": [
       "<IPython.core.display.Javascript object>"
      ]
     },
     "metadata": {},
     "output_type": "display_data"
    }
   ],
   "source": [
    "df_provider_category = df[\n",
    "    [\"restaurant_category_id\", \"restaurant_category\"]\n",
    "].drop_duplicates(ignore_index=True)\n",
    "\n",
    "df_provider_category = df_provider_category.rename(\n",
    "    columns={\n",
    "        \"restaurant_category_id\": \"provider_category_id\",\n",
    "        \"restaurant_category\": \"provider_category_name\",\n",
    "    }\n",
    ")\n"
   ]
  },
  {
   "cell_type": "code",
   "execution_count": 123,
   "id": "afda366e",
   "metadata": {},
   "outputs": [
    {
     "data": {
      "text/html": [
       "<div>\n",
       "<style scoped>\n",
       "    .dataframe tbody tr th:only-of-type {\n",
       "        vertical-align: middle;\n",
       "    }\n",
       "\n",
       "    .dataframe tbody tr th {\n",
       "        vertical-align: top;\n",
       "    }\n",
       "\n",
       "    .dataframe thead th {\n",
       "        text-align: right;\n",
       "    }\n",
       "</style>\n",
       "<table border=\"1\" class=\"dataframe\">\n",
       "  <thead>\n",
       "    <tr style=\"text-align: right;\">\n",
       "      <th></th>\n",
       "      <th>provider_category_id</th>\n",
       "      <th>provider_category_name</th>\n",
       "    </tr>\n",
       "  </thead>\n",
       "  <tbody>\n",
       "    <tr>\n",
       "      <th>0</th>\n",
       "      <td>1000000</td>\n",
       "      <td>24-hours</td>\n",
       "    </tr>\n",
       "    <tr>\n",
       "      <th>1</th>\n",
       "      <td>1000006</td>\n",
       "      <td>american</td>\n",
       "    </tr>\n",
       "    <tr>\n",
       "      <th>2</th>\n",
       "      <td>1000011</td>\n",
       "      <td>bacon</td>\n",
       "    </tr>\n",
       "    <tr>\n",
       "      <th>3</th>\n",
       "      <td>1000012</td>\n",
       "      <td>bakery</td>\n",
       "    </tr>\n",
       "    <tr>\n",
       "      <th>4</th>\n",
       "      <td>1000013</td>\n",
       "      <td>bar-food</td>\n",
       "    </tr>\n",
       "  </tbody>\n",
       "</table>\n",
       "</div>"
      ],
      "text/plain": [
       "   provider_category_id provider_category_name\n",
       "0               1000000               24-hours\n",
       "1               1000006               american\n",
       "2               1000011                  bacon\n",
       "3               1000012                 bakery\n",
       "4               1000013               bar-food"
      ]
     },
     "execution_count": 123,
     "metadata": {},
     "output_type": "execute_result"
    },
    {
     "data": {
      "application/javascript": "\n            setTimeout(function() {\n                var nbb_cell_id = 123;\n                var nbb_unformatted_code = \"df_provider_category.head()\";\n                var nbb_formatted_code = \"df_provider_category.head()\";\n                var nbb_cells = Jupyter.notebook.get_cells();\n                for (var i = 0; i < nbb_cells.length; ++i) {\n                    if (nbb_cells[i].input_prompt_number == nbb_cell_id) {\n                        if (nbb_cells[i].get_text() == nbb_unformatted_code) {\n                             nbb_cells[i].set_text(nbb_formatted_code);\n                        }\n                        break;\n                    }\n                }\n            }, 500);\n            ",
      "text/plain": [
       "<IPython.core.display.Javascript object>"
      ]
     },
     "metadata": {},
     "output_type": "display_data"
    }
   ],
   "source": [
    "df_provider_category.head()"
   ]
  },
  {
   "cell_type": "code",
   "execution_count": 124,
   "id": "193c1d02",
   "metadata": {},
   "outputs": [
    {
     "data": {
      "application/javascript": "\n            setTimeout(function() {\n                var nbb_cell_id = 124;\n                var nbb_unformatted_code = \"df_provider_category.to_csv('mysql_data/provider_category.csv', index = False)\";\n                var nbb_formatted_code = \"df_provider_category.to_csv(\\\"mysql_data/provider_category.csv\\\", index=False)\";\n                var nbb_cells = Jupyter.notebook.get_cells();\n                for (var i = 0; i < nbb_cells.length; ++i) {\n                    if (nbb_cells[i].input_prompt_number == nbb_cell_id) {\n                        if (nbb_cells[i].get_text() == nbb_unformatted_code) {\n                             nbb_cells[i].set_text(nbb_formatted_code);\n                        }\n                        break;\n                    }\n                }\n            }, 500);\n            ",
      "text/plain": [
       "<IPython.core.display.Javascript object>"
      ]
     },
     "metadata": {},
     "output_type": "display_data"
    }
   ],
   "source": [
    "df_provider_category.to_csv('mysql_data/provider_category.csv', index = False)"
   ]
  },
  {
   "cell_type": "code",
   "execution_count": 1155,
   "id": "dbba5fe6",
   "metadata": {},
   "outputs": [
    {
     "data": {
      "application/javascript": "\n            setTimeout(function() {\n                var nbb_cell_id = 1155;\n                var nbb_unformatted_code = \"insert_execute_many(df_provider_category, 'providercategory')\";\n                var nbb_formatted_code = \"insert_execute_many(df_provider_category, \\\"providercategory\\\")\";\n                var nbb_cells = Jupyter.notebook.get_cells();\n                for (var i = 0; i < nbb_cells.length; ++i) {\n                    if (nbb_cells[i].input_prompt_number == nbb_cell_id) {\n                        if (nbb_cells[i].get_text() == nbb_unformatted_code) {\n                             nbb_cells[i].set_text(nbb_formatted_code);\n                        }\n                        break;\n                    }\n                }\n            }, 500);\n            ",
      "text/plain": [
       "<IPython.core.display.Javascript object>"
      ]
     },
     "metadata": {},
     "output_type": "display_data"
    }
   ],
   "source": [
    "insert_execute_many(df_provider_category, 'providercategory')"
   ]
  },
  {
   "cell_type": "markdown",
   "id": "a2259c98",
   "metadata": {},
   "source": [
    "#### provider_category_detail"
   ]
  },
  {
   "cell_type": "code",
   "execution_count": 125,
   "id": "00d20992",
   "metadata": {},
   "outputs": [
    {
     "data": {
      "text/html": [
       "<div>\n",
       "<style scoped>\n",
       "    .dataframe tbody tr th:only-of-type {\n",
       "        vertical-align: middle;\n",
       "    }\n",
       "\n",
       "    .dataframe tbody tr th {\n",
       "        vertical-align: top;\n",
       "    }\n",
       "\n",
       "    .dataframe thead th {\n",
       "        text-align: right;\n",
       "    }\n",
       "</style>\n",
       "<table border=\"1\" class=\"dataframe\">\n",
       "  <thead>\n",
       "    <tr style=\"text-align: right;\">\n",
       "      <th></th>\n",
       "      <th>provider_category_id</th>\n",
       "      <th>provider_id</th>\n",
       "    </tr>\n",
       "  </thead>\n",
       "  <tbody>\n",
       "    <tr>\n",
       "      <th>0</th>\n",
       "      <td>1000000</td>\n",
       "      <td>1000047</td>\n",
       "    </tr>\n",
       "    <tr>\n",
       "      <th>1</th>\n",
       "      <td>1000006</td>\n",
       "      <td>1000047</td>\n",
       "    </tr>\n",
       "    <tr>\n",
       "      <th>2</th>\n",
       "      <td>1000011</td>\n",
       "      <td>1000047</td>\n",
       "    </tr>\n",
       "    <tr>\n",
       "      <th>3</th>\n",
       "      <td>1000012</td>\n",
       "      <td>1000047</td>\n",
       "    </tr>\n",
       "    <tr>\n",
       "      <th>4</th>\n",
       "      <td>1000013</td>\n",
       "      <td>1000047</td>\n",
       "    </tr>\n",
       "  </tbody>\n",
       "</table>\n",
       "</div>"
      ],
      "text/plain": [
       "   provider_category_id  provider_id\n",
       "0               1000000      1000047\n",
       "1               1000006      1000047\n",
       "2               1000011      1000047\n",
       "3               1000012      1000047\n",
       "4               1000013      1000047"
      ]
     },
     "execution_count": 125,
     "metadata": {},
     "output_type": "execute_result"
    },
    {
     "data": {
      "application/javascript": "\n            setTimeout(function() {\n                var nbb_cell_id = 125;\n                var nbb_unformatted_code = \"df_provider_category_detail = df[['restaurant_category_id', 'provider_id']].drop_duplicates(ignore_index=True)\\n\\ndf_provider_category_detail= df_provider_category_detail.rename(\\n    columns={\\n        \\\"restaurant_category_id\\\": \\\"provider_category_id\\\",\\n    }\\n)\\n\\ndf_provider_category_detail.head()\";\n                var nbb_formatted_code = \"df_provider_category_detail = df[\\n    [\\\"restaurant_category_id\\\", \\\"provider_id\\\"]\\n].drop_duplicates(ignore_index=True)\\n\\ndf_provider_category_detail = df_provider_category_detail.rename(\\n    columns={\\n        \\\"restaurant_category_id\\\": \\\"provider_category_id\\\",\\n    }\\n)\\n\\ndf_provider_category_detail.head()\";\n                var nbb_cells = Jupyter.notebook.get_cells();\n                for (var i = 0; i < nbb_cells.length; ++i) {\n                    if (nbb_cells[i].input_prompt_number == nbb_cell_id) {\n                        if (nbb_cells[i].get_text() == nbb_unformatted_code) {\n                             nbb_cells[i].set_text(nbb_formatted_code);\n                        }\n                        break;\n                    }\n                }\n            }, 500);\n            ",
      "text/plain": [
       "<IPython.core.display.Javascript object>"
      ]
     },
     "metadata": {},
     "output_type": "display_data"
    }
   ],
   "source": [
    "df_provider_category_detail = df[['restaurant_category_id', 'provider_id']].drop_duplicates(ignore_index=True)\n",
    "\n",
    "df_provider_category_detail= df_provider_category_detail.rename(\n",
    "    columns={\n",
    "        \"restaurant_category_id\": \"provider_category_id\",\n",
    "    }\n",
    ")\n",
    "\n",
    "df_provider_category_detail.head()"
   ]
  },
  {
   "cell_type": "code",
   "execution_count": 126,
   "id": "44b863e9",
   "metadata": {},
   "outputs": [
    {
     "data": {
      "application/javascript": "\n            setTimeout(function() {\n                var nbb_cell_id = 126;\n                var nbb_unformatted_code = \"df_provider_category_detail.to_csv('mysql_data/provider_category_detail.csv', index = False)\";\n                var nbb_formatted_code = \"df_provider_category_detail.to_csv(\\n    \\\"mysql_data/provider_category_detail.csv\\\", index=False\\n)\";\n                var nbb_cells = Jupyter.notebook.get_cells();\n                for (var i = 0; i < nbb_cells.length; ++i) {\n                    if (nbb_cells[i].input_prompt_number == nbb_cell_id) {\n                        if (nbb_cells[i].get_text() == nbb_unformatted_code) {\n                             nbb_cells[i].set_text(nbb_formatted_code);\n                        }\n                        break;\n                    }\n                }\n            }, 500);\n            ",
      "text/plain": [
       "<IPython.core.display.Javascript object>"
      ]
     },
     "metadata": {},
     "output_type": "display_data"
    }
   ],
   "source": [
    "df_provider_category_detail.to_csv('mysql_data/provider_category_detail.csv', index = False)"
   ]
  },
  {
   "cell_type": "code",
   "execution_count": 1157,
   "id": "79f92de2",
   "metadata": {},
   "outputs": [
    {
     "data": {
      "application/javascript": "\n            setTimeout(function() {\n                var nbb_cell_id = 1157;\n                var nbb_unformatted_code = \"insert_execute_many_large_dataset(df_provider_category_detail, 'providercategorydetail')\";\n                var nbb_formatted_code = \"insert_execute_many_large_dataset(df_provider_category_detail, \\\"providercategorydetail\\\")\";\n                var nbb_cells = Jupyter.notebook.get_cells();\n                for (var i = 0; i < nbb_cells.length; ++i) {\n                    if (nbb_cells[i].input_prompt_number == nbb_cell_id) {\n                        if (nbb_cells[i].get_text() == nbb_unformatted_code) {\n                             nbb_cells[i].set_text(nbb_formatted_code);\n                        }\n                        break;\n                    }\n                }\n            }, 500);\n            ",
      "text/plain": [
       "<IPython.core.display.Javascript object>"
      ]
     },
     "metadata": {},
     "output_type": "display_data"
    }
   ],
   "source": [
    "insert_execute_many_large_dataset(df_provider_category_detail, 'providercategorydetail')"
   ]
  },
  {
   "cell_type": "markdown",
   "id": "8adeff49",
   "metadata": {},
   "source": [
    "#### cuisine_category"
   ]
  },
  {
   "cell_type": "code",
   "execution_count": 127,
   "id": "8efbde42",
   "metadata": {},
   "outputs": [
    {
     "data": {
      "application/javascript": "\n            setTimeout(function() {\n                var nbb_cell_id = 127;\n                var nbb_unformatted_code = \"cuisine_category = ['afghan', 'african', 'american', 'arabian', 'asian', 'asian-fusion', 'belgian', 'british', 'canadian', 'caribbean', 'chinese', 'colombian', 'european', 'korean', 'dutch', 'eastern-european', 'ethiopian', 'filipino', 'german', 'greek', 'indonesian', 'italian', 'jamaican', 'japanese', 'indian', 'lebanese', 'latin-american', 'english', 'malaysian', 'mediterranean', 'mexican',  'french', 'modern-asian', 'modern-european', 'new-american', 'new-canadian', 'new-mexican',  'middle-eastern',  'nepalese', 'north-indian', 'northern-thai',  'persian', 'portuguese', 'halal', 'shanghai', 'south-american', 'south-asian', 'south-east-asian', 'south-indian', 'southern', 'southern-thai', 'taiwanese', 'thai', 'traditional-american', 'vietnamese', 'western', 'latin-fusion', 'spanish', 'others']\";\n                var nbb_formatted_code = \"cuisine_category = [\\n    \\\"afghan\\\",\\n    \\\"african\\\",\\n    \\\"american\\\",\\n    \\\"arabian\\\",\\n    \\\"asian\\\",\\n    \\\"asian-fusion\\\",\\n    \\\"belgian\\\",\\n    \\\"british\\\",\\n    \\\"canadian\\\",\\n    \\\"caribbean\\\",\\n    \\\"chinese\\\",\\n    \\\"colombian\\\",\\n    \\\"european\\\",\\n    \\\"korean\\\",\\n    \\\"dutch\\\",\\n    \\\"eastern-european\\\",\\n    \\\"ethiopian\\\",\\n    \\\"filipino\\\",\\n    \\\"german\\\",\\n    \\\"greek\\\",\\n    \\\"indonesian\\\",\\n    \\\"italian\\\",\\n    \\\"jamaican\\\",\\n    \\\"japanese\\\",\\n    \\\"indian\\\",\\n    \\\"lebanese\\\",\\n    \\\"latin-american\\\",\\n    \\\"english\\\",\\n    \\\"malaysian\\\",\\n    \\\"mediterranean\\\",\\n    \\\"mexican\\\",\\n    \\\"french\\\",\\n    \\\"modern-asian\\\",\\n    \\\"modern-european\\\",\\n    \\\"new-american\\\",\\n    \\\"new-canadian\\\",\\n    \\\"new-mexican\\\",\\n    \\\"middle-eastern\\\",\\n    \\\"nepalese\\\",\\n    \\\"north-indian\\\",\\n    \\\"northern-thai\\\",\\n    \\\"persian\\\",\\n    \\\"portuguese\\\",\\n    \\\"halal\\\",\\n    \\\"shanghai\\\",\\n    \\\"south-american\\\",\\n    \\\"south-asian\\\",\\n    \\\"south-east-asian\\\",\\n    \\\"south-indian\\\",\\n    \\\"southern\\\",\\n    \\\"southern-thai\\\",\\n    \\\"taiwanese\\\",\\n    \\\"thai\\\",\\n    \\\"traditional-american\\\",\\n    \\\"vietnamese\\\",\\n    \\\"western\\\",\\n    \\\"latin-fusion\\\",\\n    \\\"spanish\\\",\\n    \\\"others\\\",\\n]\";\n                var nbb_cells = Jupyter.notebook.get_cells();\n                for (var i = 0; i < nbb_cells.length; ++i) {\n                    if (nbb_cells[i].input_prompt_number == nbb_cell_id) {\n                        if (nbb_cells[i].get_text() == nbb_unformatted_code) {\n                             nbb_cells[i].set_text(nbb_formatted_code);\n                        }\n                        break;\n                    }\n                }\n            }, 500);\n            ",
      "text/plain": [
       "<IPython.core.display.Javascript object>"
      ]
     },
     "metadata": {},
     "output_type": "display_data"
    }
   ],
   "source": [
    "cuisine_category = ['afghan', 'african', 'american', 'arabian', 'asian', 'asian-fusion', 'belgian', 'british', 'canadian', 'caribbean', 'chinese', 'colombian', 'european', 'korean', 'dutch', 'eastern-european', 'ethiopian', 'filipino', 'german', 'greek', 'indonesian', 'italian', 'jamaican', 'japanese', 'indian', 'lebanese', 'latin-american', 'english', 'malaysian', 'mediterranean', 'mexican',  'french', 'modern-asian', 'modern-european', 'new-american', 'new-canadian', 'new-mexican',  'middle-eastern',  'nepalese', 'north-indian', 'northern-thai',  'persian', 'portuguese', 'halal', 'shanghai', 'south-american', 'south-asian', 'south-east-asian', 'south-indian', 'southern', 'southern-thai', 'taiwanese', 'thai', 'traditional-american', 'vietnamese', 'western', 'latin-fusion', 'spanish', 'others']"
   ]
  },
  {
   "cell_type": "code",
   "execution_count": 128,
   "id": "9232b6a7",
   "metadata": {},
   "outputs": [
    {
     "data": {
      "application/javascript": "\n            setTimeout(function() {\n                var nbb_cell_id = 128;\n                var nbb_unformatted_code = \"df['cuisine_category_name'] = df.restaurant_category.apply(lambda x: 'others' if x not in cuisine_category else x)\";\n                var nbb_formatted_code = \"df[\\\"cuisine_category_name\\\"] = df.restaurant_category.apply(\\n    lambda x: \\\"others\\\" if x not in cuisine_category else x\\n)\";\n                var nbb_cells = Jupyter.notebook.get_cells();\n                for (var i = 0; i < nbb_cells.length; ++i) {\n                    if (nbb_cells[i].input_prompt_number == nbb_cell_id) {\n                        if (nbb_cells[i].get_text() == nbb_unformatted_code) {\n                             nbb_cells[i].set_text(nbb_formatted_code);\n                        }\n                        break;\n                    }\n                }\n            }, 500);\n            ",
      "text/plain": [
       "<IPython.core.display.Javascript object>"
      ]
     },
     "metadata": {},
     "output_type": "display_data"
    }
   ],
   "source": [
    "df['cuisine_category_name'] = df.restaurant_category.apply(lambda x: 'others' if x not in cuisine_category else x)"
   ]
  },
  {
   "cell_type": "code",
   "execution_count": 129,
   "id": "cf6d74cb",
   "metadata": {},
   "outputs": [
    {
     "data": {
      "text/html": [
       "<div>\n",
       "<style scoped>\n",
       "    .dataframe tbody tr th:only-of-type {\n",
       "        vertical-align: middle;\n",
       "    }\n",
       "\n",
       "    .dataframe tbody tr th {\n",
       "        vertical-align: top;\n",
       "    }\n",
       "\n",
       "    .dataframe thead th {\n",
       "        text-align: right;\n",
       "    }\n",
       "</style>\n",
       "<table border=\"1\" class=\"dataframe\">\n",
       "  <thead>\n",
       "    <tr style=\"text-align: right;\">\n",
       "      <th></th>\n",
       "      <th>restaurant_description</th>\n",
       "      <th>rating</th>\n",
       "      <th>num_review</th>\n",
       "      <th>menu_category</th>\n",
       "      <th>product_name</th>\n",
       "      <th>price</th>\n",
       "      <th>product_description</th>\n",
       "      <th>status</th>\n",
       "      <th>product_image</th>\n",
       "      <th>restaurant_url</th>\n",
       "      <th>restaurant_name</th>\n",
       "      <th>avt_restaurant</th>\n",
       "      <th>restaurant_category</th>\n",
       "      <th>city</th>\n",
       "      <th>product_id</th>\n",
       "      <th>provider_id</th>\n",
       "      <th>restaurant_category_id</th>\n",
       "      <th>cuisine_category_name</th>\n",
       "    </tr>\n",
       "  </thead>\n",
       "  <tbody>\n",
       "    <tr>\n",
       "      <th>0</th>\n",
       "      <td>NaN</td>\n",
       "      <td>3.6</td>\n",
       "      <td>82</td>\n",
       "      <td>Most Popular</td>\n",
       "      <td>Chicken McMuffin Extra Value Meal [523.0 Cals]</td>\n",
       "      <td>5.69</td>\n",
       "      <td>Chicken McMuffin Extra Value Meal [523.0 Cals]</td>\n",
       "      <td>In stock</td>\n",
       "      <td>https://d1ralsognjng37.cloudfront.net/81325489...</td>\n",
       "      <td>https://www.ubereats.com/ca/store/mcdonalds-67...</td>\n",
       "      <td>McDonald's (675 Upper James Street)</td>\n",
       "      <td>https://cn-geo1.uber.com/image-proc/resize/eat...</td>\n",
       "      <td>24-hours</td>\n",
       "      <td>hamilton</td>\n",
       "      <td>1002564</td>\n",
       "      <td>1000047</td>\n",
       "      <td>1000000</td>\n",
       "      <td>others</td>\n",
       "    </tr>\n",
       "    <tr>\n",
       "      <th>1</th>\n",
       "      <td>NaN</td>\n",
       "      <td>4.4</td>\n",
       "      <td>25</td>\n",
       "      <td>Most Popular</td>\n",
       "      <td>Chicken McMuffin Extra Value Meal [523.0 Cals]</td>\n",
       "      <td>5.69</td>\n",
       "      <td>Chicken McMuffin Extra Value Meal [523.0 Cals]</td>\n",
       "      <td>In stock</td>\n",
       "      <td>https://d1ralsognjng37.cloudfront.net/81325489...</td>\n",
       "      <td>https://www.ubereats.com/ca/store/mcdonalds-67...</td>\n",
       "      <td>McDonald's</td>\n",
       "      <td>https://cn-geo1.uber.com/image-proc/resize/eat...</td>\n",
       "      <td>american</td>\n",
       "      <td>hamilton</td>\n",
       "      <td>1002564</td>\n",
       "      <td>1000047</td>\n",
       "      <td>1000006</td>\n",
       "      <td>american</td>\n",
       "    </tr>\n",
       "    <tr>\n",
       "      <th>2</th>\n",
       "      <td>NaN</td>\n",
       "      <td>3.9</td>\n",
       "      <td>124</td>\n",
       "      <td>Most Popular</td>\n",
       "      <td>Chicken McMuffin Extra Value Meal [523.0 Cals]</td>\n",
       "      <td>5.69</td>\n",
       "      <td>Chicken McMuffin Extra Value Meal [523.0 Cals]</td>\n",
       "      <td>In stock</td>\n",
       "      <td>https://d1ralsognjng37.cloudfront.net/81325489...</td>\n",
       "      <td>https://www.ubereats.com/ca/store/mcdonalds-67...</td>\n",
       "      <td>McDonald's (675 Upper James Street)</td>\n",
       "      <td>https://cn-geo1.uber.com/image-proc/resize/eat...</td>\n",
       "      <td>bacon</td>\n",
       "      <td>hamilton</td>\n",
       "      <td>1002564</td>\n",
       "      <td>1000047</td>\n",
       "      <td>1000011</td>\n",
       "      <td>others</td>\n",
       "    </tr>\n",
       "  </tbody>\n",
       "</table>\n",
       "</div>"
      ],
      "text/plain": [
       "  restaurant_description  rating  num_review menu_category  \\\n",
       "0                    NaN     3.6          82  Most Popular   \n",
       "1                    NaN     4.4          25  Most Popular   \n",
       "2                    NaN     3.9         124  Most Popular   \n",
       "\n",
       "                                     product_name  price  \\\n",
       "0  Chicken McMuffin Extra Value Meal [523.0 Cals]   5.69   \n",
       "1  Chicken McMuffin Extra Value Meal [523.0 Cals]   5.69   \n",
       "2  Chicken McMuffin Extra Value Meal [523.0 Cals]   5.69   \n",
       "\n",
       "                              product_description    status  \\\n",
       "0  Chicken McMuffin Extra Value Meal [523.0 Cals]  In stock   \n",
       "1  Chicken McMuffin Extra Value Meal [523.0 Cals]  In stock   \n",
       "2  Chicken McMuffin Extra Value Meal [523.0 Cals]  In stock   \n",
       "\n",
       "                                       product_image  \\\n",
       "0  https://d1ralsognjng37.cloudfront.net/81325489...   \n",
       "1  https://d1ralsognjng37.cloudfront.net/81325489...   \n",
       "2  https://d1ralsognjng37.cloudfront.net/81325489...   \n",
       "\n",
       "                                      restaurant_url  \\\n",
       "0  https://www.ubereats.com/ca/store/mcdonalds-67...   \n",
       "1  https://www.ubereats.com/ca/store/mcdonalds-67...   \n",
       "2  https://www.ubereats.com/ca/store/mcdonalds-67...   \n",
       "\n",
       "                       restaurant_name  \\\n",
       "0  McDonald's (675 Upper James Street)   \n",
       "1                           McDonald's   \n",
       "2  McDonald's (675 Upper James Street)   \n",
       "\n",
       "                                      avt_restaurant restaurant_category  \\\n",
       "0  https://cn-geo1.uber.com/image-proc/resize/eat...            24-hours   \n",
       "1  https://cn-geo1.uber.com/image-proc/resize/eat...            american   \n",
       "2  https://cn-geo1.uber.com/image-proc/resize/eat...               bacon   \n",
       "\n",
       "       city  product_id  provider_id  restaurant_category_id  \\\n",
       "0  hamilton     1002564      1000047                 1000000   \n",
       "1  hamilton     1002564      1000047                 1000006   \n",
       "2  hamilton     1002564      1000047                 1000011   \n",
       "\n",
       "  cuisine_category_name  \n",
       "0                others  \n",
       "1              american  \n",
       "2                others  "
      ]
     },
     "execution_count": 129,
     "metadata": {},
     "output_type": "execute_result"
    },
    {
     "data": {
      "application/javascript": "\n            setTimeout(function() {\n                var nbb_cell_id = 129;\n                var nbb_unformatted_code = \"df.head(3)\";\n                var nbb_formatted_code = \"df.head(3)\";\n                var nbb_cells = Jupyter.notebook.get_cells();\n                for (var i = 0; i < nbb_cells.length; ++i) {\n                    if (nbb_cells[i].input_prompt_number == nbb_cell_id) {\n                        if (nbb_cells[i].get_text() == nbb_unformatted_code) {\n                             nbb_cells[i].set_text(nbb_formatted_code);\n                        }\n                        break;\n                    }\n                }\n            }, 500);\n            ",
      "text/plain": [
       "<IPython.core.display.Javascript object>"
      ]
     },
     "metadata": {},
     "output_type": "display_data"
    }
   ],
   "source": [
    "df.head(3)"
   ]
  },
  {
   "cell_type": "code",
   "execution_count": 130,
   "id": "0e16a267",
   "metadata": {},
   "outputs": [
    {
     "data": {
      "application/javascript": "\n            setTimeout(function() {\n                var nbb_cell_id = 130;\n                var nbb_unformatted_code = \"df['cuisine_category_id'] = le.fit_transform(df.cuisine_category_name)\\ndf['cuisine_category_id'] = df['cuisine_category_id'].apply(lambda x: x + 1000000)\";\n                var nbb_formatted_code = \"df[\\\"cuisine_category_id\\\"] = le.fit_transform(df.cuisine_category_name)\\ndf[\\\"cuisine_category_id\\\"] = df[\\\"cuisine_category_id\\\"].apply(lambda x: x + 1000000)\";\n                var nbb_cells = Jupyter.notebook.get_cells();\n                for (var i = 0; i < nbb_cells.length; ++i) {\n                    if (nbb_cells[i].input_prompt_number == nbb_cell_id) {\n                        if (nbb_cells[i].get_text() == nbb_unformatted_code) {\n                             nbb_cells[i].set_text(nbb_formatted_code);\n                        }\n                        break;\n                    }\n                }\n            }, 500);\n            ",
      "text/plain": [
       "<IPython.core.display.Javascript object>"
      ]
     },
     "metadata": {},
     "output_type": "display_data"
    }
   ],
   "source": [
    "df['cuisine_category_id'] = le.fit_transform(df.cuisine_category_name)\n",
    "df['cuisine_category_id'] = df['cuisine_category_id'].apply(lambda x: x + 1000000)"
   ]
  },
  {
   "cell_type": "code",
   "execution_count": 131,
   "id": "0884b702",
   "metadata": {},
   "outputs": [
    {
     "data": {
      "application/javascript": "\n            setTimeout(function() {\n                var nbb_cell_id = 131;\n                var nbb_unformatted_code = \"df_cuisine = df[['cuisine_category_id', 'cuisine_category_name']].drop_duplicates(ignore_index=True) \";\n                var nbb_formatted_code = \"df_cuisine = df[[\\\"cuisine_category_id\\\", \\\"cuisine_category_name\\\"]].drop_duplicates(\\n    ignore_index=True\\n)\";\n                var nbb_cells = Jupyter.notebook.get_cells();\n                for (var i = 0; i < nbb_cells.length; ++i) {\n                    if (nbb_cells[i].input_prompt_number == nbb_cell_id) {\n                        if (nbb_cells[i].get_text() == nbb_unformatted_code) {\n                             nbb_cells[i].set_text(nbb_formatted_code);\n                        }\n                        break;\n                    }\n                }\n            }, 500);\n            ",
      "text/plain": [
       "<IPython.core.display.Javascript object>"
      ]
     },
     "metadata": {},
     "output_type": "display_data"
    }
   ],
   "source": [
    "df_cuisine = df[['cuisine_category_id', 'cuisine_category_name']].drop_duplicates(ignore_index=True) "
   ]
  },
  {
   "cell_type": "code",
   "execution_count": 132,
   "id": "537a4502",
   "metadata": {},
   "outputs": [
    {
     "data": {
      "text/html": [
       "<div>\n",
       "<style scoped>\n",
       "    .dataframe tbody tr th:only-of-type {\n",
       "        vertical-align: middle;\n",
       "    }\n",
       "\n",
       "    .dataframe tbody tr th {\n",
       "        vertical-align: top;\n",
       "    }\n",
       "\n",
       "    .dataframe thead th {\n",
       "        text-align: right;\n",
       "    }\n",
       "</style>\n",
       "<table border=\"1\" class=\"dataframe\">\n",
       "  <thead>\n",
       "    <tr style=\"text-align: right;\">\n",
       "      <th></th>\n",
       "      <th>cuisine_category_id</th>\n",
       "      <th>cuisine_category_name</th>\n",
       "    </tr>\n",
       "  </thead>\n",
       "  <tbody>\n",
       "    <tr>\n",
       "      <th>0</th>\n",
       "      <td>1000032</td>\n",
       "      <td>others</td>\n",
       "    </tr>\n",
       "    <tr>\n",
       "      <th>1</th>\n",
       "      <td>1000002</td>\n",
       "      <td>american</td>\n",
       "    </tr>\n",
       "    <tr>\n",
       "      <th>2</th>\n",
       "      <td>1000041</td>\n",
       "      <td>western</td>\n",
       "    </tr>\n",
       "    <tr>\n",
       "      <th>3</th>\n",
       "      <td>1000031</td>\n",
       "      <td>northern-thai</td>\n",
       "    </tr>\n",
       "    <tr>\n",
       "      <th>4</th>\n",
       "      <td>1000038</td>\n",
       "      <td>southern-thai</td>\n",
       "    </tr>\n",
       "  </tbody>\n",
       "</table>\n",
       "</div>"
      ],
      "text/plain": [
       "   cuisine_category_id cuisine_category_name\n",
       "0              1000032                others\n",
       "1              1000002              american\n",
       "2              1000041               western\n",
       "3              1000031         northern-thai\n",
       "4              1000038         southern-thai"
      ]
     },
     "execution_count": 132,
     "metadata": {},
     "output_type": "execute_result"
    },
    {
     "data": {
      "application/javascript": "\n            setTimeout(function() {\n                var nbb_cell_id = 132;\n                var nbb_unformatted_code = \"df_cuisine.head()\";\n                var nbb_formatted_code = \"df_cuisine.head()\";\n                var nbb_cells = Jupyter.notebook.get_cells();\n                for (var i = 0; i < nbb_cells.length; ++i) {\n                    if (nbb_cells[i].input_prompt_number == nbb_cell_id) {\n                        if (nbb_cells[i].get_text() == nbb_unformatted_code) {\n                             nbb_cells[i].set_text(nbb_formatted_code);\n                        }\n                        break;\n                    }\n                }\n            }, 500);\n            ",
      "text/plain": [
       "<IPython.core.display.Javascript object>"
      ]
     },
     "metadata": {},
     "output_type": "display_data"
    }
   ],
   "source": [
    "df_cuisine.head()"
   ]
  },
  {
   "cell_type": "code",
   "execution_count": 133,
   "id": "32d5896b",
   "metadata": {},
   "outputs": [
    {
     "data": {
      "application/javascript": "\n            setTimeout(function() {\n                var nbb_cell_id = 133;\n                var nbb_unformatted_code = \"df_cuisine.to_csv('mysql_data/cuisine_category.csv', index = False)\";\n                var nbb_formatted_code = \"df_cuisine.to_csv(\\\"mysql_data/cuisine_category.csv\\\", index=False)\";\n                var nbb_cells = Jupyter.notebook.get_cells();\n                for (var i = 0; i < nbb_cells.length; ++i) {\n                    if (nbb_cells[i].input_prompt_number == nbb_cell_id) {\n                        if (nbb_cells[i].get_text() == nbb_unformatted_code) {\n                             nbb_cells[i].set_text(nbb_formatted_code);\n                        }\n                        break;\n                    }\n                }\n            }, 500);\n            ",
      "text/plain": [
       "<IPython.core.display.Javascript object>"
      ]
     },
     "metadata": {},
     "output_type": "display_data"
    }
   ],
   "source": [
    "df_cuisine.to_csv('mysql_data/cuisine_category.csv', index = False)"
   ]
  },
  {
   "cell_type": "code",
   "execution_count": 1164,
   "id": "3faadaab",
   "metadata": {},
   "outputs": [
    {
     "data": {
      "application/javascript": "\n            setTimeout(function() {\n                var nbb_cell_id = 1164;\n                var nbb_unformatted_code = \"insert_execute_many(df_cuisine, \\\"CuisineCategory\\\")\";\n                var nbb_formatted_code = \"insert_execute_many(df_cuisine, \\\"CuisineCategory\\\")\";\n                var nbb_cells = Jupyter.notebook.get_cells();\n                for (var i = 0; i < nbb_cells.length; ++i) {\n                    if (nbb_cells[i].input_prompt_number == nbb_cell_id) {\n                        if (nbb_cells[i].get_text() == nbb_unformatted_code) {\n                             nbb_cells[i].set_text(nbb_formatted_code);\n                        }\n                        break;\n                    }\n                }\n            }, 500);\n            ",
      "text/plain": [
       "<IPython.core.display.Javascript object>"
      ]
     },
     "metadata": {},
     "output_type": "display_data"
    }
   ],
   "source": [
    "insert_execute_many(df_cuisine, \"CuisineCategory\")"
   ]
  },
  {
   "cell_type": "markdown",
   "id": "84d7e9fd",
   "metadata": {},
   "source": [
    "#### cuisine_category_detail"
   ]
  },
  {
   "cell_type": "code",
   "execution_count": 134,
   "id": "13c7ce8e",
   "metadata": {},
   "outputs": [
    {
     "data": {
      "text/html": [
       "<div>\n",
       "<style scoped>\n",
       "    .dataframe tbody tr th:only-of-type {\n",
       "        vertical-align: middle;\n",
       "    }\n",
       "\n",
       "    .dataframe tbody tr th {\n",
       "        vertical-align: top;\n",
       "    }\n",
       "\n",
       "    .dataframe thead th {\n",
       "        text-align: right;\n",
       "    }\n",
       "</style>\n",
       "<table border=\"1\" class=\"dataframe\">\n",
       "  <thead>\n",
       "    <tr style=\"text-align: right;\">\n",
       "      <th></th>\n",
       "      <th>cuisine_category_id</th>\n",
       "      <th>provider_id</th>\n",
       "    </tr>\n",
       "  </thead>\n",
       "  <tbody>\n",
       "    <tr>\n",
       "      <th>0</th>\n",
       "      <td>1000032</td>\n",
       "      <td>1000047</td>\n",
       "    </tr>\n",
       "    <tr>\n",
       "      <th>1</th>\n",
       "      <td>1000002</td>\n",
       "      <td>1000047</td>\n",
       "    </tr>\n",
       "    <tr>\n",
       "      <th>2</th>\n",
       "      <td>1000041</td>\n",
       "      <td>1000047</td>\n",
       "    </tr>\n",
       "    <tr>\n",
       "      <th>3</th>\n",
       "      <td>1000032</td>\n",
       "      <td>1000033</td>\n",
       "    </tr>\n",
       "    <tr>\n",
       "      <th>4</th>\n",
       "      <td>1000002</td>\n",
       "      <td>1000033</td>\n",
       "    </tr>\n",
       "  </tbody>\n",
       "</table>\n",
       "</div>"
      ],
      "text/plain": [
       "   cuisine_category_id  provider_id\n",
       "0              1000032      1000047\n",
       "1              1000002      1000047\n",
       "2              1000041      1000047\n",
       "3              1000032      1000033\n",
       "4              1000002      1000033"
      ]
     },
     "execution_count": 134,
     "metadata": {},
     "output_type": "execute_result"
    },
    {
     "data": {
      "application/javascript": "\n            setTimeout(function() {\n                var nbb_cell_id = 134;\n                var nbb_unformatted_code = \"df_cuisine_category_detail = df[['cuisine_category_id', 'provider_id']].drop_duplicates(ignore_index=True)\\ndf_cuisine_category_detail.head()\";\n                var nbb_formatted_code = \"df_cuisine_category_detail = df[[\\\"cuisine_category_id\\\", \\\"provider_id\\\"]].drop_duplicates(\\n    ignore_index=True\\n)\\ndf_cuisine_category_detail.head()\";\n                var nbb_cells = Jupyter.notebook.get_cells();\n                for (var i = 0; i < nbb_cells.length; ++i) {\n                    if (nbb_cells[i].input_prompt_number == nbb_cell_id) {\n                        if (nbb_cells[i].get_text() == nbb_unformatted_code) {\n                             nbb_cells[i].set_text(nbb_formatted_code);\n                        }\n                        break;\n                    }\n                }\n            }, 500);\n            ",
      "text/plain": [
       "<IPython.core.display.Javascript object>"
      ]
     },
     "metadata": {},
     "output_type": "display_data"
    }
   ],
   "source": [
    "df_cuisine_category_detail = df[['cuisine_category_id', 'provider_id']].drop_duplicates(ignore_index=True)\n",
    "df_cuisine_category_detail.head()"
   ]
  },
  {
   "cell_type": "code",
   "execution_count": 135,
   "id": "eb744465",
   "metadata": {},
   "outputs": [
    {
     "data": {
      "application/javascript": "\n            setTimeout(function() {\n                var nbb_cell_id = 135;\n                var nbb_unformatted_code = \"df_cuisine_category_detail.to_csv('mysql_data/cuisine_category_detail.csv', index = False)\";\n                var nbb_formatted_code = \"df_cuisine_category_detail.to_csv(\\\"mysql_data/cuisine_category_detail.csv\\\", index=False)\";\n                var nbb_cells = Jupyter.notebook.get_cells();\n                for (var i = 0; i < nbb_cells.length; ++i) {\n                    if (nbb_cells[i].input_prompt_number == nbb_cell_id) {\n                        if (nbb_cells[i].get_text() == nbb_unformatted_code) {\n                             nbb_cells[i].set_text(nbb_formatted_code);\n                        }\n                        break;\n                    }\n                }\n            }, 500);\n            ",
      "text/plain": [
       "<IPython.core.display.Javascript object>"
      ]
     },
     "metadata": {},
     "output_type": "display_data"
    }
   ],
   "source": [
    "df_cuisine_category_detail.to_csv('mysql_data/cuisine_category_detail.csv', index = False)"
   ]
  },
  {
   "cell_type": "code",
   "execution_count": 1166,
   "id": "12cf747b",
   "metadata": {},
   "outputs": [
    {
     "data": {
      "application/javascript": "\n            setTimeout(function() {\n                var nbb_cell_id = 1166;\n                var nbb_unformatted_code = \"insert_execute_many_large_dataset(df_cuisine_category_detail, \\\"CuisineCategoryDetail\\\")\";\n                var nbb_formatted_code = \"insert_execute_many_large_dataset(df_cuisine_category_detail, \\\"CuisineCategoryDetail\\\")\";\n                var nbb_cells = Jupyter.notebook.get_cells();\n                for (var i = 0; i < nbb_cells.length; ++i) {\n                    if (nbb_cells[i].input_prompt_number == nbb_cell_id) {\n                        if (nbb_cells[i].get_text() == nbb_unformatted_code) {\n                             nbb_cells[i].set_text(nbb_formatted_code);\n                        }\n                        break;\n                    }\n                }\n            }, 500);\n            ",
      "text/plain": [
       "<IPython.core.display.Javascript object>"
      ]
     },
     "metadata": {},
     "output_type": "display_data"
    }
   ],
   "source": [
    "insert_execute_many_large_dataset(df_cuisine_category_detail, \"CuisineCategoryDetail\")"
   ]
  },
  {
   "cell_type": "markdown",
   "id": "a8787a6f",
   "metadata": {},
   "source": [
    "#### MainFoodCategory - Food Category"
   ]
  },
  {
   "cell_type": "code",
   "execution_count": 136,
   "id": "c8406fb6",
   "metadata": {},
   "outputs": [
    {
     "data": {
      "application/javascript": "\n            setTimeout(function() {\n                var nbb_cell_id = 136;\n                var nbb_unformatted_code = \"main_food_category = {\\n    \\\"healthy\\\": [\\n        \\\"acai\\\",\\n        \\\"allergy-friendly\\\",\\n        \\\"gluten-free\\\",\\n        \\\"kids-friendly\\\",\\n        \\\"healthy\\\",\\n        \\\"low-calorie\\\",\\n        \\\"low-carb\\\",\\n        \\\"organic\\\",\\n    ],\\n    \\\"daily_meal\\\": [\\n        \\\"appetizers\\\",\\n        \\\"dessert\\\",\\n        \\\"late-night\\\",\\n        \\\"bread\\\",\\n        \\\"soup\\\",\\n        \\\"mac-and-cheese\\\",\\n        \\\"noodles\\\",\\n        \\\"salad\\\",\\n    ],\\n    \\\"vegan\\\": [\\\"vegan-friendly\\\", \\\"vegetarian\\\", \\\"vegetarian-friendly\\\"],\\n    \\\"fast_food\\\": [\\\"bacon\\\", \\\"burger\\\", \\\"fast-food\\\", \\\"frozen-food\\\", \\\"sandwich\\\", \\\"wings\\\"],\\n    \\\"beverage\\\": [\\n        \\\"drink\\\",\\n        \\\"juice-and-smoothies\\\",\\n        \\\"milkshake\\\",\\n    ],\\n    \\\"alcool\\\": [\\\"wine\\\", \\\"rum\\\"],\\n    \\\"junk_food\\\": [\\\"ice-cream-and-frozen-yogurt\\\", \\\"matcha\\\", \\\"tapas\\\", \\\"snacks\\\"],\\n    \\\"proteins\\\": [\\\"beef\\\", \\\"cured-meat\\\", \\\"eggs\\\", \\\"lobster\\\", \\\"oysters\\\", \\\"seafood\\\", \\\"ribs\\\"],\\n    \\\"sweets\\\": [\\n        \\\"cupcake\\\",\\n        \\\"cake\\\",\\n        \\\"candy\\\",\\n        \\\"custard\\\",\\n        \\\"donut\\\",\\n        \\\"sweets\\\",\\n        \\\"pastry\\\",\\n        \\\"pie\\\",\\n    ],\\n    \\\"specialty\\\": [\\n        \\\"bento\\\",\\n        \\\"biryani\\\",\\n        \\\"charcuterie\\\",\\n        \\\"congee\\\",\\n        \\\"couscous\\\",\\n        \\\"curry\\\",\\n        \\\"dim-sum\\\",\\n        \\\"dosa\\\",\\n        \\\"fish-and-chips\\\",\\n        \\\"indian-curry\\\",\\n        \\\"japanese-curry\\\",\\n        \\\"kebabs\\\",\\n        \\\"korean-bbq\\\",\\n        \\\"lasagne\\\",\\n        \\\"pho\\\",\\n        \\\"pizza\\\",\\n        \\\"pasta\\\",\\n        \\\"yakitori\\\",\\n        \\\"tex-mex\\\",\\n        \\\"ramen\\\",\\n        \\\"paella\\\",\\n        \\\"poke\\\",\\n        \\\"rolls\\\",\\n        \\\"shawarma\\\",\\n        \\\"udon\\\",\\n        \\\"pollo\\\",\\n        \\\"poutine\\\",\\n        \\\"pretzel\\\",\\n        \\\"soul-food\\\",\\n    ],\\n    \\\"raw\\\": [\\\"raw\\\", \\\"sushi\\\", \\\"sashimi\\\", \\\"salmon\\\"],\\n    \\\"others\\\": [\\\"bar-food\\\", \\\"bbq\\\", \\\"grill\\\", \\\"hotpot\\\", \\\"chili\\\", \\\"spirits\\\", \\\"wrap\\\"],\\n}\";\n                var nbb_formatted_code = \"main_food_category = {\\n    \\\"healthy\\\": [\\n        \\\"acai\\\",\\n        \\\"allergy-friendly\\\",\\n        \\\"gluten-free\\\",\\n        \\\"kids-friendly\\\",\\n        \\\"healthy\\\",\\n        \\\"low-calorie\\\",\\n        \\\"low-carb\\\",\\n        \\\"organic\\\",\\n    ],\\n    \\\"daily_meal\\\": [\\n        \\\"appetizers\\\",\\n        \\\"dessert\\\",\\n        \\\"late-night\\\",\\n        \\\"bread\\\",\\n        \\\"soup\\\",\\n        \\\"mac-and-cheese\\\",\\n        \\\"noodles\\\",\\n        \\\"salad\\\",\\n    ],\\n    \\\"vegan\\\": [\\\"vegan-friendly\\\", \\\"vegetarian\\\", \\\"vegetarian-friendly\\\"],\\n    \\\"fast_food\\\": [\\\"bacon\\\", \\\"burger\\\", \\\"fast-food\\\", \\\"frozen-food\\\", \\\"sandwich\\\", \\\"wings\\\"],\\n    \\\"beverage\\\": [\\n        \\\"drink\\\",\\n        \\\"juice-and-smoothies\\\",\\n        \\\"milkshake\\\",\\n    ],\\n    \\\"alcool\\\": [\\\"wine\\\", \\\"rum\\\"],\\n    \\\"junk_food\\\": [\\\"ice-cream-and-frozen-yogurt\\\", \\\"matcha\\\", \\\"tapas\\\", \\\"snacks\\\"],\\n    \\\"proteins\\\": [\\\"beef\\\", \\\"cured-meat\\\", \\\"eggs\\\", \\\"lobster\\\", \\\"oysters\\\", \\\"seafood\\\", \\\"ribs\\\"],\\n    \\\"sweets\\\": [\\n        \\\"cupcake\\\",\\n        \\\"cake\\\",\\n        \\\"candy\\\",\\n        \\\"custard\\\",\\n        \\\"donut\\\",\\n        \\\"sweets\\\",\\n        \\\"pastry\\\",\\n        \\\"pie\\\",\\n    ],\\n    \\\"specialty\\\": [\\n        \\\"bento\\\",\\n        \\\"biryani\\\",\\n        \\\"charcuterie\\\",\\n        \\\"congee\\\",\\n        \\\"couscous\\\",\\n        \\\"curry\\\",\\n        \\\"dim-sum\\\",\\n        \\\"dosa\\\",\\n        \\\"fish-and-chips\\\",\\n        \\\"indian-curry\\\",\\n        \\\"japanese-curry\\\",\\n        \\\"kebabs\\\",\\n        \\\"korean-bbq\\\",\\n        \\\"lasagne\\\",\\n        \\\"pho\\\",\\n        \\\"pizza\\\",\\n        \\\"pasta\\\",\\n        \\\"yakitori\\\",\\n        \\\"tex-mex\\\",\\n        \\\"ramen\\\",\\n        \\\"paella\\\",\\n        \\\"poke\\\",\\n        \\\"rolls\\\",\\n        \\\"shawarma\\\",\\n        \\\"udon\\\",\\n        \\\"pollo\\\",\\n        \\\"poutine\\\",\\n        \\\"pretzel\\\",\\n        \\\"soul-food\\\",\\n    ],\\n    \\\"raw\\\": [\\\"raw\\\", \\\"sushi\\\", \\\"sashimi\\\", \\\"salmon\\\"],\\n    \\\"others\\\": [\\\"bar-food\\\", \\\"bbq\\\", \\\"grill\\\", \\\"hotpot\\\", \\\"chili\\\", \\\"spirits\\\", \\\"wrap\\\"],\\n}\";\n                var nbb_cells = Jupyter.notebook.get_cells();\n                for (var i = 0; i < nbb_cells.length; ++i) {\n                    if (nbb_cells[i].input_prompt_number == nbb_cell_id) {\n                        if (nbb_cells[i].get_text() == nbb_unformatted_code) {\n                             nbb_cells[i].set_text(nbb_formatted_code);\n                        }\n                        break;\n                    }\n                }\n            }, 500);\n            ",
      "text/plain": [
       "<IPython.core.display.Javascript object>"
      ]
     },
     "metadata": {},
     "output_type": "display_data"
    }
   ],
   "source": [
    "main_food_category = {\n",
    "    \"healthy\": [\n",
    "        \"acai\",\n",
    "        \"allergy-friendly\",\n",
    "        \"gluten-free\",\n",
    "        \"kids-friendly\",\n",
    "        \"healthy\",\n",
    "        \"low-calorie\",\n",
    "        \"low-carb\",\n",
    "        \"organic\",\n",
    "    ],\n",
    "    \"daily_meal\": [\n",
    "        \"appetizers\",\n",
    "        \"dessert\",\n",
    "        \"late-night\",\n",
    "        \"bread\",\n",
    "        \"soup\",\n",
    "        \"mac-and-cheese\",\n",
    "        \"noodles\",\n",
    "        \"salad\",\n",
    "    ],\n",
    "    \"vegan\": [\"vegan-friendly\", \"vegetarian\", \"vegetarian-friendly\"],\n",
    "    \"fast_food\": [\"bacon\", \"burger\", \"fast-food\", \"frozen-food\", \"sandwich\", \"wings\"],\n",
    "    \"beverage\": [\n",
    "        \"drink\",\n",
    "        \"juice-and-smoothies\",\n",
    "        \"milkshake\",\n",
    "    ],\n",
    "    \"alcool\": [\"wine\", \"rum\"],\n",
    "    \"junk_food\": [\"ice-cream-and-frozen-yogurt\", \"matcha\", \"tapas\", \"snacks\"],\n",
    "    \"proteins\": [\"beef\", \"cured-meat\", \"eggs\", \"lobster\", \"oysters\", \"seafood\", \"ribs\"],\n",
    "    \"sweets\": [\n",
    "        \"cupcake\",\n",
    "        \"cake\",\n",
    "        \"candy\",\n",
    "        \"custard\",\n",
    "        \"donut\",\n",
    "        \"sweets\",\n",
    "        \"pastry\",\n",
    "        \"pie\",\n",
    "    ],\n",
    "    \"specialty\": [\n",
    "        \"bento\",\n",
    "        \"biryani\",\n",
    "        \"charcuterie\",\n",
    "        \"congee\",\n",
    "        \"couscous\",\n",
    "        \"curry\",\n",
    "        \"dim-sum\",\n",
    "        \"dosa\",\n",
    "        \"fish-and-chips\",\n",
    "        \"indian-curry\",\n",
    "        \"japanese-curry\",\n",
    "        \"kebabs\",\n",
    "        \"korean-bbq\",\n",
    "        \"lasagne\",\n",
    "        \"pho\",\n",
    "        \"pizza\",\n",
    "        \"pasta\",\n",
    "        \"yakitori\",\n",
    "        \"tex-mex\",\n",
    "        \"ramen\",\n",
    "        \"paella\",\n",
    "        \"poke\",\n",
    "        \"rolls\",\n",
    "        \"shawarma\",\n",
    "        \"udon\",\n",
    "        \"pollo\",\n",
    "        \"poutine\",\n",
    "        \"pretzel\",\n",
    "        \"soul-food\",\n",
    "    ],\n",
    "    \"raw\": [\"raw\", \"sushi\", \"sashimi\", \"salmon\"],\n",
    "    \"others\": [\"bar-food\", \"bbq\", \"grill\", \"hotpot\", \"chili\", \"spirits\", \"wrap\"],\n",
    "}"
   ]
  },
  {
   "cell_type": "code",
   "execution_count": 137,
   "id": "03994adc",
   "metadata": {},
   "outputs": [
    {
     "data": {
      "application/javascript": "\n            setTimeout(function() {\n                var nbb_cell_id = 137;\n                var nbb_unformatted_code = \"food_category = ['acai', 'allergy-friendly', 'appetizers', 'bacon', 'bar-food', 'bbq', 'beef', 'bento', 'biryani', 'burger', 'charcuterie', 'chili', 'congee', 'cupcake', 'bread', 'cake', 'candy', 'cured-meat', 'couscous', 'curry', 'custard',  'dessert', 'dim-sum',  'donut', 'dosa', 'drink', 'eggs', 'fast-food', 'fish-and-chips', 'frozen-food', 'gluten-free', 'grill', 'hotpot',   'ice-cream-and-frozen-yogurt', 'indian-curry', 'japanese-curry', 'juice-and-smoothies', 'kebabs', 'kids-friendly', 'healthy', 'korean-bbq', 'lasagne',   'late-night', 'soup', 'milkshake',   'lobster', 'low-calorie', 'low-carb', 'mac-and-cheese', 'matcha', 'oysters', 'pho', 'pizza', 'wine', 'sushi',  'rum', 'pasta',  'tapas', 'tex-mex', 'noodles', 'organic', 'paella', 'pie',  'poke', 'ramen', 'raw', 'ribs', 'rolls','salad', 'salmon', 'snacks', 'sandwich', 'sashimi', 'seafood', 'shawarma', 'vegan-friendly', 'vegetarian', 'udon', 'wings',  'wrap', 'yakitori',  'spirits', 'sweets', 'pastry',  'vegetarian-friendly', 'pollo', 'poutine', 'pretzel', 'soul-food']\";\n                var nbb_formatted_code = \"food_category = [\\n    \\\"acai\\\",\\n    \\\"allergy-friendly\\\",\\n    \\\"appetizers\\\",\\n    \\\"bacon\\\",\\n    \\\"bar-food\\\",\\n    \\\"bbq\\\",\\n    \\\"beef\\\",\\n    \\\"bento\\\",\\n    \\\"biryani\\\",\\n    \\\"burger\\\",\\n    \\\"charcuterie\\\",\\n    \\\"chili\\\",\\n    \\\"congee\\\",\\n    \\\"cupcake\\\",\\n    \\\"bread\\\",\\n    \\\"cake\\\",\\n    \\\"candy\\\",\\n    \\\"cured-meat\\\",\\n    \\\"couscous\\\",\\n    \\\"curry\\\",\\n    \\\"custard\\\",\\n    \\\"dessert\\\",\\n    \\\"dim-sum\\\",\\n    \\\"donut\\\",\\n    \\\"dosa\\\",\\n    \\\"drink\\\",\\n    \\\"eggs\\\",\\n    \\\"fast-food\\\",\\n    \\\"fish-and-chips\\\",\\n    \\\"frozen-food\\\",\\n    \\\"gluten-free\\\",\\n    \\\"grill\\\",\\n    \\\"hotpot\\\",\\n    \\\"ice-cream-and-frozen-yogurt\\\",\\n    \\\"indian-curry\\\",\\n    \\\"japanese-curry\\\",\\n    \\\"juice-and-smoothies\\\",\\n    \\\"kebabs\\\",\\n    \\\"kids-friendly\\\",\\n    \\\"healthy\\\",\\n    \\\"korean-bbq\\\",\\n    \\\"lasagne\\\",\\n    \\\"late-night\\\",\\n    \\\"soup\\\",\\n    \\\"milkshake\\\",\\n    \\\"lobster\\\",\\n    \\\"low-calorie\\\",\\n    \\\"low-carb\\\",\\n    \\\"mac-and-cheese\\\",\\n    \\\"matcha\\\",\\n    \\\"oysters\\\",\\n    \\\"pho\\\",\\n    \\\"pizza\\\",\\n    \\\"wine\\\",\\n    \\\"sushi\\\",\\n    \\\"rum\\\",\\n    \\\"pasta\\\",\\n    \\\"tapas\\\",\\n    \\\"tex-mex\\\",\\n    \\\"noodles\\\",\\n    \\\"organic\\\",\\n    \\\"paella\\\",\\n    \\\"pie\\\",\\n    \\\"poke\\\",\\n    \\\"ramen\\\",\\n    \\\"raw\\\",\\n    \\\"ribs\\\",\\n    \\\"rolls\\\",\\n    \\\"salad\\\",\\n    \\\"salmon\\\",\\n    \\\"snacks\\\",\\n    \\\"sandwich\\\",\\n    \\\"sashimi\\\",\\n    \\\"seafood\\\",\\n    \\\"shawarma\\\",\\n    \\\"vegan-friendly\\\",\\n    \\\"vegetarian\\\",\\n    \\\"udon\\\",\\n    \\\"wings\\\",\\n    \\\"wrap\\\",\\n    \\\"yakitori\\\",\\n    \\\"spirits\\\",\\n    \\\"sweets\\\",\\n    \\\"pastry\\\",\\n    \\\"vegetarian-friendly\\\",\\n    \\\"pollo\\\",\\n    \\\"poutine\\\",\\n    \\\"pretzel\\\",\\n    \\\"soul-food\\\",\\n]\";\n                var nbb_cells = Jupyter.notebook.get_cells();\n                for (var i = 0; i < nbb_cells.length; ++i) {\n                    if (nbb_cells[i].input_prompt_number == nbb_cell_id) {\n                        if (nbb_cells[i].get_text() == nbb_unformatted_code) {\n                             nbb_cells[i].set_text(nbb_formatted_code);\n                        }\n                        break;\n                    }\n                }\n            }, 500);\n            ",
      "text/plain": [
       "<IPython.core.display.Javascript object>"
      ]
     },
     "metadata": {},
     "output_type": "display_data"
    }
   ],
   "source": [
    "food_category = ['acai', 'allergy-friendly', 'appetizers', 'bacon', 'bar-food', 'bbq', 'beef', 'bento', 'biryani', 'burger', 'charcuterie', 'chili', 'congee', 'cupcake', 'bread', 'cake', 'candy', 'cured-meat', 'couscous', 'curry', 'custard',  'dessert', 'dim-sum',  'donut', 'dosa', 'drink', 'eggs', 'fast-food', 'fish-and-chips', 'frozen-food', 'gluten-free', 'grill', 'hotpot',   'ice-cream-and-frozen-yogurt', 'indian-curry', 'japanese-curry', 'juice-and-smoothies', 'kebabs', 'kids-friendly', 'healthy', 'korean-bbq', 'lasagne',   'late-night', 'soup', 'milkshake',   'lobster', 'low-calorie', 'low-carb', 'mac-and-cheese', 'matcha', 'oysters', 'pho', 'pizza', 'wine', 'sushi',  'rum', 'pasta',  'tapas', 'tex-mex', 'noodles', 'organic', 'paella', 'pie',  'poke', 'ramen', 'raw', 'ribs', 'rolls','salad', 'salmon', 'snacks', 'sandwich', 'sashimi', 'seafood', 'shawarma', 'vegan-friendly', 'vegetarian', 'udon', 'wings',  'wrap', 'yakitori',  'spirits', 'sweets', 'pastry',  'vegetarian-friendly', 'pollo', 'poutine', 'pretzel', 'soul-food']\n"
   ]
  },
  {
   "cell_type": "code",
   "execution_count": 138,
   "id": "82432e37",
   "metadata": {},
   "outputs": [
    {
     "data": {
      "application/javascript": "\n            setTimeout(function() {\n                var nbb_cell_id = 138;\n                var nbb_unformatted_code = \"df['food_category_name'] = df.restaurant_category.apply(lambda x: 'others' if x not in food_category else x)\";\n                var nbb_formatted_code = \"df[\\\"food_category_name\\\"] = df.restaurant_category.apply(\\n    lambda x: \\\"others\\\" if x not in food_category else x\\n)\";\n                var nbb_cells = Jupyter.notebook.get_cells();\n                for (var i = 0; i < nbb_cells.length; ++i) {\n                    if (nbb_cells[i].input_prompt_number == nbb_cell_id) {\n                        if (nbb_cells[i].get_text() == nbb_unformatted_code) {\n                             nbb_cells[i].set_text(nbb_formatted_code);\n                        }\n                        break;\n                    }\n                }\n            }, 500);\n            ",
      "text/plain": [
       "<IPython.core.display.Javascript object>"
      ]
     },
     "metadata": {},
     "output_type": "display_data"
    }
   ],
   "source": [
    "df['food_category_name'] = df.restaurant_category.apply(lambda x: 'others' if x not in food_category else x)"
   ]
  },
  {
   "cell_type": "code",
   "execution_count": 139,
   "id": "fe814ff7",
   "metadata": {},
   "outputs": [
    {
     "data": {
      "text/html": [
       "<div>\n",
       "<style scoped>\n",
       "    .dataframe tbody tr th:only-of-type {\n",
       "        vertical-align: middle;\n",
       "    }\n",
       "\n",
       "    .dataframe tbody tr th {\n",
       "        vertical-align: top;\n",
       "    }\n",
       "\n",
       "    .dataframe thead th {\n",
       "        text-align: right;\n",
       "    }\n",
       "</style>\n",
       "<table border=\"1\" class=\"dataframe\">\n",
       "  <thead>\n",
       "    <tr style=\"text-align: right;\">\n",
       "      <th></th>\n",
       "      <th>restaurant_description</th>\n",
       "      <th>rating</th>\n",
       "      <th>num_review</th>\n",
       "      <th>menu_category</th>\n",
       "      <th>product_name</th>\n",
       "      <th>price</th>\n",
       "      <th>product_description</th>\n",
       "      <th>status</th>\n",
       "      <th>product_image</th>\n",
       "      <th>restaurant_url</th>\n",
       "      <th>restaurant_name</th>\n",
       "      <th>avt_restaurant</th>\n",
       "      <th>restaurant_category</th>\n",
       "      <th>city</th>\n",
       "      <th>product_id</th>\n",
       "      <th>provider_id</th>\n",
       "      <th>restaurant_category_id</th>\n",
       "      <th>cuisine_category_name</th>\n",
       "      <th>cuisine_category_id</th>\n",
       "      <th>food_category_name</th>\n",
       "    </tr>\n",
       "  </thead>\n",
       "  <tbody>\n",
       "    <tr>\n",
       "      <th>0</th>\n",
       "      <td>NaN</td>\n",
       "      <td>3.6</td>\n",
       "      <td>82</td>\n",
       "      <td>Most Popular</td>\n",
       "      <td>Chicken McMuffin Extra Value Meal [523.0 Cals]</td>\n",
       "      <td>5.69</td>\n",
       "      <td>Chicken McMuffin Extra Value Meal [523.0 Cals]</td>\n",
       "      <td>In stock</td>\n",
       "      <td>https://d1ralsognjng37.cloudfront.net/81325489...</td>\n",
       "      <td>https://www.ubereats.com/ca/store/mcdonalds-67...</td>\n",
       "      <td>McDonald's (675 Upper James Street)</td>\n",
       "      <td>https://cn-geo1.uber.com/image-proc/resize/eat...</td>\n",
       "      <td>24-hours</td>\n",
       "      <td>hamilton</td>\n",
       "      <td>1002564</td>\n",
       "      <td>1000047</td>\n",
       "      <td>1000000</td>\n",
       "      <td>others</td>\n",
       "      <td>1000032</td>\n",
       "      <td>others</td>\n",
       "    </tr>\n",
       "    <tr>\n",
       "      <th>1</th>\n",
       "      <td>NaN</td>\n",
       "      <td>4.4</td>\n",
       "      <td>25</td>\n",
       "      <td>Most Popular</td>\n",
       "      <td>Chicken McMuffin Extra Value Meal [523.0 Cals]</td>\n",
       "      <td>5.69</td>\n",
       "      <td>Chicken McMuffin Extra Value Meal [523.0 Cals]</td>\n",
       "      <td>In stock</td>\n",
       "      <td>https://d1ralsognjng37.cloudfront.net/81325489...</td>\n",
       "      <td>https://www.ubereats.com/ca/store/mcdonalds-67...</td>\n",
       "      <td>McDonald's</td>\n",
       "      <td>https://cn-geo1.uber.com/image-proc/resize/eat...</td>\n",
       "      <td>american</td>\n",
       "      <td>hamilton</td>\n",
       "      <td>1002564</td>\n",
       "      <td>1000047</td>\n",
       "      <td>1000006</td>\n",
       "      <td>american</td>\n",
       "      <td>1000002</td>\n",
       "      <td>others</td>\n",
       "    </tr>\n",
       "    <tr>\n",
       "      <th>2</th>\n",
       "      <td>NaN</td>\n",
       "      <td>3.9</td>\n",
       "      <td>124</td>\n",
       "      <td>Most Popular</td>\n",
       "      <td>Chicken McMuffin Extra Value Meal [523.0 Cals]</td>\n",
       "      <td>5.69</td>\n",
       "      <td>Chicken McMuffin Extra Value Meal [523.0 Cals]</td>\n",
       "      <td>In stock</td>\n",
       "      <td>https://d1ralsognjng37.cloudfront.net/81325489...</td>\n",
       "      <td>https://www.ubereats.com/ca/store/mcdonalds-67...</td>\n",
       "      <td>McDonald's (675 Upper James Street)</td>\n",
       "      <td>https://cn-geo1.uber.com/image-proc/resize/eat...</td>\n",
       "      <td>bacon</td>\n",
       "      <td>hamilton</td>\n",
       "      <td>1002564</td>\n",
       "      <td>1000047</td>\n",
       "      <td>1000011</td>\n",
       "      <td>others</td>\n",
       "      <td>1000032</td>\n",
       "      <td>bacon</td>\n",
       "    </tr>\n",
       "    <tr>\n",
       "      <th>3</th>\n",
       "      <td>NaN</td>\n",
       "      <td>4.3</td>\n",
       "      <td>28</td>\n",
       "      <td>Most Popular</td>\n",
       "      <td>Chicken McMuffin Extra Value Meal [523.0 Cals]</td>\n",
       "      <td>5.69</td>\n",
       "      <td>Chicken McMuffin Extra Value Meal [523.0 Cals]</td>\n",
       "      <td>In stock</td>\n",
       "      <td>https://d1ralsognjng37.cloudfront.net/81325489...</td>\n",
       "      <td>https://www.ubereats.com/ca/store/mcdonalds-67...</td>\n",
       "      <td>McDonald's (675 Upper James Street)</td>\n",
       "      <td>https://cn-geo1.uber.com/image-proc/resize/eat...</td>\n",
       "      <td>bakery</td>\n",
       "      <td>hamilton</td>\n",
       "      <td>1002564</td>\n",
       "      <td>1000047</td>\n",
       "      <td>1000012</td>\n",
       "      <td>others</td>\n",
       "      <td>1000032</td>\n",
       "      <td>others</td>\n",
       "    </tr>\n",
       "    <tr>\n",
       "      <th>4</th>\n",
       "      <td>NaN</td>\n",
       "      <td>4.4</td>\n",
       "      <td>63</td>\n",
       "      <td>Most Popular</td>\n",
       "      <td>Chicken McMuffin Extra Value Meal [523.0 Cals]</td>\n",
       "      <td>5.69</td>\n",
       "      <td>Chicken McMuffin Extra Value Meal [523.0 Cals]</td>\n",
       "      <td>In stock</td>\n",
       "      <td>https://d1ralsognjng37.cloudfront.net/81325489...</td>\n",
       "      <td>https://www.ubereats.com/ca/store/mcdonalds-67...</td>\n",
       "      <td>McDonald's (675 Upper James Street)</td>\n",
       "      <td>https://cn-geo1.uber.com/image-proc/resize/eat...</td>\n",
       "      <td>bar-food</td>\n",
       "      <td>hamilton</td>\n",
       "      <td>1002564</td>\n",
       "      <td>1000047</td>\n",
       "      <td>1000013</td>\n",
       "      <td>others</td>\n",
       "      <td>1000032</td>\n",
       "      <td>bar-food</td>\n",
       "    </tr>\n",
       "  </tbody>\n",
       "</table>\n",
       "</div>"
      ],
      "text/plain": [
       "  restaurant_description  rating  num_review menu_category  \\\n",
       "0                    NaN     3.6          82  Most Popular   \n",
       "1                    NaN     4.4          25  Most Popular   \n",
       "2                    NaN     3.9         124  Most Popular   \n",
       "3                    NaN     4.3          28  Most Popular   \n",
       "4                    NaN     4.4          63  Most Popular   \n",
       "\n",
       "                                     product_name  price  \\\n",
       "0  Chicken McMuffin Extra Value Meal [523.0 Cals]   5.69   \n",
       "1  Chicken McMuffin Extra Value Meal [523.0 Cals]   5.69   \n",
       "2  Chicken McMuffin Extra Value Meal [523.0 Cals]   5.69   \n",
       "3  Chicken McMuffin Extra Value Meal [523.0 Cals]   5.69   \n",
       "4  Chicken McMuffin Extra Value Meal [523.0 Cals]   5.69   \n",
       "\n",
       "                              product_description    status  \\\n",
       "0  Chicken McMuffin Extra Value Meal [523.0 Cals]  In stock   \n",
       "1  Chicken McMuffin Extra Value Meal [523.0 Cals]  In stock   \n",
       "2  Chicken McMuffin Extra Value Meal [523.0 Cals]  In stock   \n",
       "3  Chicken McMuffin Extra Value Meal [523.0 Cals]  In stock   \n",
       "4  Chicken McMuffin Extra Value Meal [523.0 Cals]  In stock   \n",
       "\n",
       "                                       product_image  \\\n",
       "0  https://d1ralsognjng37.cloudfront.net/81325489...   \n",
       "1  https://d1ralsognjng37.cloudfront.net/81325489...   \n",
       "2  https://d1ralsognjng37.cloudfront.net/81325489...   \n",
       "3  https://d1ralsognjng37.cloudfront.net/81325489...   \n",
       "4  https://d1ralsognjng37.cloudfront.net/81325489...   \n",
       "\n",
       "                                      restaurant_url  \\\n",
       "0  https://www.ubereats.com/ca/store/mcdonalds-67...   \n",
       "1  https://www.ubereats.com/ca/store/mcdonalds-67...   \n",
       "2  https://www.ubereats.com/ca/store/mcdonalds-67...   \n",
       "3  https://www.ubereats.com/ca/store/mcdonalds-67...   \n",
       "4  https://www.ubereats.com/ca/store/mcdonalds-67...   \n",
       "\n",
       "                       restaurant_name  \\\n",
       "0  McDonald's (675 Upper James Street)   \n",
       "1                           McDonald's   \n",
       "2  McDonald's (675 Upper James Street)   \n",
       "3  McDonald's (675 Upper James Street)   \n",
       "4  McDonald's (675 Upper James Street)   \n",
       "\n",
       "                                      avt_restaurant restaurant_category  \\\n",
       "0  https://cn-geo1.uber.com/image-proc/resize/eat...            24-hours   \n",
       "1  https://cn-geo1.uber.com/image-proc/resize/eat...            american   \n",
       "2  https://cn-geo1.uber.com/image-proc/resize/eat...               bacon   \n",
       "3  https://cn-geo1.uber.com/image-proc/resize/eat...              bakery   \n",
       "4  https://cn-geo1.uber.com/image-proc/resize/eat...            bar-food   \n",
       "\n",
       "       city  product_id  provider_id  restaurant_category_id  \\\n",
       "0  hamilton     1002564      1000047                 1000000   \n",
       "1  hamilton     1002564      1000047                 1000006   \n",
       "2  hamilton     1002564      1000047                 1000011   \n",
       "3  hamilton     1002564      1000047                 1000012   \n",
       "4  hamilton     1002564      1000047                 1000013   \n",
       "\n",
       "  cuisine_category_name  cuisine_category_id food_category_name  \n",
       "0                others              1000032             others  \n",
       "1              american              1000002             others  \n",
       "2                others              1000032              bacon  \n",
       "3                others              1000032             others  \n",
       "4                others              1000032           bar-food  "
      ]
     },
     "execution_count": 139,
     "metadata": {},
     "output_type": "execute_result"
    },
    {
     "data": {
      "application/javascript": "\n            setTimeout(function() {\n                var nbb_cell_id = 139;\n                var nbb_unformatted_code = \"df.head(5)\";\n                var nbb_formatted_code = \"df.head(5)\";\n                var nbb_cells = Jupyter.notebook.get_cells();\n                for (var i = 0; i < nbb_cells.length; ++i) {\n                    if (nbb_cells[i].input_prompt_number == nbb_cell_id) {\n                        if (nbb_cells[i].get_text() == nbb_unformatted_code) {\n                             nbb_cells[i].set_text(nbb_formatted_code);\n                        }\n                        break;\n                    }\n                }\n            }, 500);\n            ",
      "text/plain": [
       "<IPython.core.display.Javascript object>"
      ]
     },
     "metadata": {},
     "output_type": "display_data"
    }
   ],
   "source": [
    "df.head(5)"
   ]
  },
  {
   "cell_type": "code",
   "execution_count": 140,
   "id": "09663d0f",
   "metadata": {},
   "outputs": [
    {
     "data": {
      "application/javascript": "\n            setTimeout(function() {\n                var nbb_cell_id = 140;\n                var nbb_unformatted_code = \"df['food_category_id'] = le.fit_transform(df['food_category_name'])\\ndf['food_category_id'] = df['food_category_id'].apply(lambda x: x + 1000000)\";\n                var nbb_formatted_code = \"df[\\\"food_category_id\\\"] = le.fit_transform(df[\\\"food_category_name\\\"])\\ndf[\\\"food_category_id\\\"] = df[\\\"food_category_id\\\"].apply(lambda x: x + 1000000)\";\n                var nbb_cells = Jupyter.notebook.get_cells();\n                for (var i = 0; i < nbb_cells.length; ++i) {\n                    if (nbb_cells[i].input_prompt_number == nbb_cell_id) {\n                        if (nbb_cells[i].get_text() == nbb_unformatted_code) {\n                             nbb_cells[i].set_text(nbb_formatted_code);\n                        }\n                        break;\n                    }\n                }\n            }, 500);\n            ",
      "text/plain": [
       "<IPython.core.display.Javascript object>"
      ]
     },
     "metadata": {},
     "output_type": "display_data"
    }
   ],
   "source": [
    "df['food_category_id'] = le.fit_transform(df['food_category_name'])\n",
    "df['food_category_id'] = df['food_category_id'].apply(lambda x: x + 1000000)"
   ]
  },
  {
   "cell_type": "code",
   "execution_count": 141,
   "id": "ae6d7bad",
   "metadata": {},
   "outputs": [
    {
     "name": "stdout",
     "output_type": "stream",
     "text": [
      "['healthy', 'daily_meal', 'vegan', 'fast_food', 'beverage', 'alcool', 'junk_food', 'proteins', 'sweets', 'specialty', 'raw', 'others']\n"
     ]
    },
    {
     "data": {
      "application/javascript": "\n            setTimeout(function() {\n                var nbb_cell_id = 141;\n                var nbb_unformatted_code = \"list_main = list(main_food_category.keys())\\nprint(list_main)\";\n                var nbb_formatted_code = \"list_main = list(main_food_category.keys())\\nprint(list_main)\";\n                var nbb_cells = Jupyter.notebook.get_cells();\n                for (var i = 0; i < nbb_cells.length; ++i) {\n                    if (nbb_cells[i].input_prompt_number == nbb_cell_id) {\n                        if (nbb_cells[i].get_text() == nbb_unformatted_code) {\n                             nbb_cells[i].set_text(nbb_formatted_code);\n                        }\n                        break;\n                    }\n                }\n            }, 500);\n            ",
      "text/plain": [
       "<IPython.core.display.Javascript object>"
      ]
     },
     "metadata": {},
     "output_type": "display_data"
    }
   ],
   "source": [
    "list_main = list(main_food_category.keys())\n",
    "print(list_main)"
   ]
  },
  {
   "cell_type": "code",
   "execution_count": 142,
   "id": "68383bab",
   "metadata": {},
   "outputs": [
    {
     "data": {
      "application/javascript": "\n            setTimeout(function() {\n                var nbb_cell_id = 142;\n                var nbb_unformatted_code = \"def map_main_food_id(fied):\\n    id = -1\\n    if fied in [\\n        \\\"acai\\\",\\n        \\\"allergy-friendly\\\",\\n        \\\"gluten-free\\\",\\n        \\\"kids-friendly\\\",\\n        \\\"healthy\\\",\\n        \\\"low-calorie\\\",\\n        \\\"low-carb\\\",\\n        \\\"organic\\\",\\n    ]:\\n        id = 1000000\\n    elif fied in [\\n        \\\"appetizers\\\",\\n        \\\"dessert\\\",\\n        \\\"late-night\\\",\\n        \\\"bread\\\",\\n        \\\"soup\\\",\\n        \\\"mac-and-cheese\\\",\\n        \\\"noodles\\\",\\n        \\\"salad\\\",\\n    ]:\\n        id = 1000001\\n    elif fied in [\\\"vegan-friendly\\\", \\\"vegetarian\\\", \\\"vegetarian-friendly\\\"]:\\n        id = 1000002\\n    elif fied in [\\\"bacon\\\", \\\"burger\\\", \\\"fast-food\\\", \\\"frozen-food\\\", \\\"sandwich\\\", \\\"wings\\\"]:\\n        id = 1000003\\n    elif fied in [\\n        \\\"drink\\\",\\n        \\\"juice-and-smoothies\\\",\\n        \\\"milkshake\\\",\\n    ]:\\n        id = 1000004\\n    elif fied in [\\\"wine\\\", \\\"rum\\\"]:\\n        id = 1000005\\n    elif fied in [\\\"ice-cream-and-frozen-yogurt\\\", \\\"matcha\\\", \\\"tapas\\\", \\\"snacks\\\"]:\\n        id = 1000006\\n    elif fied in [\\n        \\\"beef\\\",\\n        \\\"cured-meat\\\",\\n        \\\"eggs\\\",\\n        \\\"lobster\\\",\\n        \\\"oysters\\\",\\n        \\\"seafood\\\",\\n        \\\"ribs\\\",\\n    ]:\\n        id = 1000007\\n    elif fied in [\\n        \\\"cupcake\\\",\\n        \\\"cake\\\",\\n        \\\"candy\\\",\\n        \\\"custard\\\",\\n        \\\"donut\\\",\\n        \\\"sweets\\\",\\n        \\\"pastry\\\",\\n        \\\"pie\\\",\\n    ]:\\n        id = 1000008\\n    elif fied in [\\n        \\\"bento\\\",\\n        \\\"biryani\\\",\\n        \\\"charcuterie\\\",\\n        \\\"congee\\\",\\n        \\\"couscous\\\",\\n        \\\"curry\\\",\\n        \\\"dim-sum\\\",\\n        \\\"dosa\\\",\\n        \\\"fish-and-chips\\\",\\n        \\\"indian-curry\\\",\\n        \\\"japanese-curry\\\",\\n        \\\"kebabs\\\",\\n        \\\"korean-bbq\\\",\\n        \\\"lasagne\\\",\\n        \\\"pho\\\",\\n        \\\"pizza\\\",\\n        \\\"pasta\\\",\\n        \\\"yakitori\\\",\\n        \\\"tex-mex\\\",\\n        \\\"ramen\\\",\\n        \\\"paella\\\",\\n        \\\"poke\\\",\\n        \\\"rolls\\\",\\n        \\\"shawarma\\\",\\n        \\\"udon\\\",\\n        \\\"pollo\\\",\\n        \\\"poutine\\\",\\n        \\\"pretzel\\\",\\n        \\\"soul-food\\\",\\n    ]:\\n        id = 1000009\\n    elif fied in [\\\"raw\\\", \\\"sushi\\\", \\\"sashimi\\\", \\\"salmon\\\"]:\\n        id = 1000010\\n    else:\\n        id = 1000011\\n    return id\";\n                var nbb_formatted_code = \"def map_main_food_id(fied):\\n    id = -1\\n    if fied in [\\n        \\\"acai\\\",\\n        \\\"allergy-friendly\\\",\\n        \\\"gluten-free\\\",\\n        \\\"kids-friendly\\\",\\n        \\\"healthy\\\",\\n        \\\"low-calorie\\\",\\n        \\\"low-carb\\\",\\n        \\\"organic\\\",\\n    ]:\\n        id = 1000000\\n    elif fied in [\\n        \\\"appetizers\\\",\\n        \\\"dessert\\\",\\n        \\\"late-night\\\",\\n        \\\"bread\\\",\\n        \\\"soup\\\",\\n        \\\"mac-and-cheese\\\",\\n        \\\"noodles\\\",\\n        \\\"salad\\\",\\n    ]:\\n        id = 1000001\\n    elif fied in [\\\"vegan-friendly\\\", \\\"vegetarian\\\", \\\"vegetarian-friendly\\\"]:\\n        id = 1000002\\n    elif fied in [\\\"bacon\\\", \\\"burger\\\", \\\"fast-food\\\", \\\"frozen-food\\\", \\\"sandwich\\\", \\\"wings\\\"]:\\n        id = 1000003\\n    elif fied in [\\n        \\\"drink\\\",\\n        \\\"juice-and-smoothies\\\",\\n        \\\"milkshake\\\",\\n    ]:\\n        id = 1000004\\n    elif fied in [\\\"wine\\\", \\\"rum\\\"]:\\n        id = 1000005\\n    elif fied in [\\\"ice-cream-and-frozen-yogurt\\\", \\\"matcha\\\", \\\"tapas\\\", \\\"snacks\\\"]:\\n        id = 1000006\\n    elif fied in [\\n        \\\"beef\\\",\\n        \\\"cured-meat\\\",\\n        \\\"eggs\\\",\\n        \\\"lobster\\\",\\n        \\\"oysters\\\",\\n        \\\"seafood\\\",\\n        \\\"ribs\\\",\\n    ]:\\n        id = 1000007\\n    elif fied in [\\n        \\\"cupcake\\\",\\n        \\\"cake\\\",\\n        \\\"candy\\\",\\n        \\\"custard\\\",\\n        \\\"donut\\\",\\n        \\\"sweets\\\",\\n        \\\"pastry\\\",\\n        \\\"pie\\\",\\n    ]:\\n        id = 1000008\\n    elif fied in [\\n        \\\"bento\\\",\\n        \\\"biryani\\\",\\n        \\\"charcuterie\\\",\\n        \\\"congee\\\",\\n        \\\"couscous\\\",\\n        \\\"curry\\\",\\n        \\\"dim-sum\\\",\\n        \\\"dosa\\\",\\n        \\\"fish-and-chips\\\",\\n        \\\"indian-curry\\\",\\n        \\\"japanese-curry\\\",\\n        \\\"kebabs\\\",\\n        \\\"korean-bbq\\\",\\n        \\\"lasagne\\\",\\n        \\\"pho\\\",\\n        \\\"pizza\\\",\\n        \\\"pasta\\\",\\n        \\\"yakitori\\\",\\n        \\\"tex-mex\\\",\\n        \\\"ramen\\\",\\n        \\\"paella\\\",\\n        \\\"poke\\\",\\n        \\\"rolls\\\",\\n        \\\"shawarma\\\",\\n        \\\"udon\\\",\\n        \\\"pollo\\\",\\n        \\\"poutine\\\",\\n        \\\"pretzel\\\",\\n        \\\"soul-food\\\",\\n    ]:\\n        id = 1000009\\n    elif fied in [\\\"raw\\\", \\\"sushi\\\", \\\"sashimi\\\", \\\"salmon\\\"]:\\n        id = 1000010\\n    else:\\n        id = 1000011\\n    return id\";\n                var nbb_cells = Jupyter.notebook.get_cells();\n                for (var i = 0; i < nbb_cells.length; ++i) {\n                    if (nbb_cells[i].input_prompt_number == nbb_cell_id) {\n                        if (nbb_cells[i].get_text() == nbb_unformatted_code) {\n                             nbb_cells[i].set_text(nbb_formatted_code);\n                        }\n                        break;\n                    }\n                }\n            }, 500);\n            ",
      "text/plain": [
       "<IPython.core.display.Javascript object>"
      ]
     },
     "metadata": {},
     "output_type": "display_data"
    }
   ],
   "source": [
    "def map_main_food_id(fied):\n",
    "    id = -1\n",
    "    if fied in [\n",
    "        \"acai\",\n",
    "        \"allergy-friendly\",\n",
    "        \"gluten-free\",\n",
    "        \"kids-friendly\",\n",
    "        \"healthy\",\n",
    "        \"low-calorie\",\n",
    "        \"low-carb\",\n",
    "        \"organic\",\n",
    "    ]:\n",
    "        id = 1000000\n",
    "    elif fied in [\n",
    "        \"appetizers\",\n",
    "        \"dessert\",\n",
    "        \"late-night\",\n",
    "        \"bread\",\n",
    "        \"soup\",\n",
    "        \"mac-and-cheese\",\n",
    "        \"noodles\",\n",
    "        \"salad\",\n",
    "    ]:\n",
    "        id = 1000001\n",
    "    elif fied in [\"vegan-friendly\", \"vegetarian\", \"vegetarian-friendly\"]:\n",
    "        id = 1000002\n",
    "    elif fied in [\"bacon\", \"burger\", \"fast-food\", \"frozen-food\", \"sandwich\", \"wings\"]:\n",
    "        id = 1000003\n",
    "    elif fied in [\n",
    "        \"drink\",\n",
    "        \"juice-and-smoothies\",\n",
    "        \"milkshake\",\n",
    "    ]:\n",
    "        id = 1000004\n",
    "    elif fied in [\"wine\", \"rum\"]:\n",
    "        id = 1000005\n",
    "    elif fied in [\"ice-cream-and-frozen-yogurt\", \"matcha\", \"tapas\", \"snacks\"]:\n",
    "        id = 1000006\n",
    "    elif fied in [\n",
    "        \"beef\",\n",
    "        \"cured-meat\",\n",
    "        \"eggs\",\n",
    "        \"lobster\",\n",
    "        \"oysters\",\n",
    "        \"seafood\",\n",
    "        \"ribs\",\n",
    "    ]:\n",
    "        id = 1000007\n",
    "    elif fied in [\n",
    "        \"cupcake\",\n",
    "        \"cake\",\n",
    "        \"candy\",\n",
    "        \"custard\",\n",
    "        \"donut\",\n",
    "        \"sweets\",\n",
    "        \"pastry\",\n",
    "        \"pie\",\n",
    "    ]:\n",
    "        id = 1000008\n",
    "    elif fied in [\n",
    "        \"bento\",\n",
    "        \"biryani\",\n",
    "        \"charcuterie\",\n",
    "        \"congee\",\n",
    "        \"couscous\",\n",
    "        \"curry\",\n",
    "        \"dim-sum\",\n",
    "        \"dosa\",\n",
    "        \"fish-and-chips\",\n",
    "        \"indian-curry\",\n",
    "        \"japanese-curry\",\n",
    "        \"kebabs\",\n",
    "        \"korean-bbq\",\n",
    "        \"lasagne\",\n",
    "        \"pho\",\n",
    "        \"pizza\",\n",
    "        \"pasta\",\n",
    "        \"yakitori\",\n",
    "        \"tex-mex\",\n",
    "        \"ramen\",\n",
    "        \"paella\",\n",
    "        \"poke\",\n",
    "        \"rolls\",\n",
    "        \"shawarma\",\n",
    "        \"udon\",\n",
    "        \"pollo\",\n",
    "        \"poutine\",\n",
    "        \"pretzel\",\n",
    "        \"soul-food\",\n",
    "    ]:\n",
    "        id = 1000009\n",
    "    elif fied in [\"raw\", \"sushi\", \"sashimi\", \"salmon\"]:\n",
    "        id = 1000010\n",
    "    else:\n",
    "        id = 1000011\n",
    "    return id"
   ]
  },
  {
   "cell_type": "code",
   "execution_count": 143,
   "id": "435b9fcc",
   "metadata": {},
   "outputs": [
    {
     "data": {
      "application/javascript": "\n            setTimeout(function() {\n                var nbb_cell_id = 143;\n                var nbb_unformatted_code = \"def map_main_food_name(fied):\\n    name = 'others'\\n    if fied in [\\n        \\\"acai\\\",\\n        \\\"allergy-friendly\\\",\\n        \\\"gluten-free\\\",\\n        \\\"kids-friendly\\\",\\n        \\\"healthy\\\",\\n        \\\"low-calorie\\\",\\n        \\\"low-carb\\\",\\n        \\\"organic\\\",\\n    ]:\\n        name = 'healthy'\\n    elif fied in [\\n        \\\"appetizers\\\",\\n        \\\"dessert\\\",\\n        \\\"late-night\\\",\\n        \\\"bread\\\",\\n        \\\"soup\\\",\\n        \\\"mac-and-cheese\\\",\\n        \\\"noodles\\\",\\n        \\\"salad\\\",\\n    ]:\\n        name = 'daily_meal'\\n    elif fied in [\\\"vegan-friendly\\\", \\\"vegetarian\\\", \\\"vegetarian-friendly\\\"]:\\n        name = 'vegan'\\n    elif fied in [\\\"bacon\\\", \\\"burger\\\", \\\"fast-food\\\", \\\"frozen-food\\\", \\\"sandwich\\\", \\\"wings\\\"]:\\n        name = 'fast food'\\n    elif fied in [\\n        \\\"drink\\\",\\n        \\\"juice-and-smoothies\\\",\\n        \\\"milkshake\\\",\\n    ]:\\n        name = 'beverage'\\n    elif fied in [\\\"wine\\\", \\\"rum\\\"]:\\n        name = 'alcohol'\\n    elif fied in [\\\"ice-cream-and-frozen-yogurt\\\", \\\"matcha\\\", \\\"tapas\\\", \\\"snacks\\\"]:\\n        name = 'junk_food'\\n    elif fied in [\\n        \\\"beef\\\",\\n        \\\"cured-meat\\\",\\n        \\\"eggs\\\",\\n        \\\"lobster\\\",\\n        \\\"oysters\\\",\\n        \\\"seafood\\\",\\n        \\\"ribs\\\",\\n    ]:\\n        name = 'protein'\\n    elif fied in [\\n        \\\"cupcake\\\",\\n        \\\"cake\\\",\\n        \\\"candy\\\",\\n        \\\"custard\\\",\\n        \\\"donut\\\",\\n        \\\"sweets\\\",\\n        \\\"pastry\\\",\\n        \\\"pie\\\",\\n    ]:\\n        name = 'sweet'\\n    elif fied in [\\n        \\\"bento\\\",\\n        \\\"biryani\\\",\\n        \\\"charcuterie\\\",\\n        \\\"congee\\\",\\n        \\\"couscous\\\",\\n        \\\"curry\\\",\\n        \\\"dim-sum\\\",\\n        \\\"dosa\\\",\\n        \\\"fish-and-chips\\\",\\n        \\\"indian-curry\\\",\\n        \\\"japanese-curry\\\",\\n        \\\"kebabs\\\",\\n        \\\"korean-bbq\\\",\\n        \\\"lasagne\\\",\\n        \\\"pho\\\",\\n        \\\"pizza\\\",\\n        \\\"pasta\\\",\\n        \\\"yakitori\\\",\\n        \\\"tex-mex\\\",\\n        \\\"ramen\\\",\\n        \\\"paella\\\",\\n        \\\"poke\\\",\\n        \\\"rolls\\\",\\n        \\\"shawarma\\\",\\n        \\\"udon\\\",\\n        \\\"pollo\\\",\\n        \\\"poutine\\\",\\n        \\\"pretzel\\\",\\n        \\\"soul-food\\\",\\n    ]:\\n        name = 'specialty'\\n\\n    elif fied in [\\\"raw\\\", \\\"sushi\\\", \\\"sashimi\\\", \\\"salmon\\\"]:\\n        name = 'raw'\\n    return name\";\n                var nbb_formatted_code = \"def map_main_food_name(fied):\\n    name = \\\"others\\\"\\n    if fied in [\\n        \\\"acai\\\",\\n        \\\"allergy-friendly\\\",\\n        \\\"gluten-free\\\",\\n        \\\"kids-friendly\\\",\\n        \\\"healthy\\\",\\n        \\\"low-calorie\\\",\\n        \\\"low-carb\\\",\\n        \\\"organic\\\",\\n    ]:\\n        name = \\\"healthy\\\"\\n    elif fied in [\\n        \\\"appetizers\\\",\\n        \\\"dessert\\\",\\n        \\\"late-night\\\",\\n        \\\"bread\\\",\\n        \\\"soup\\\",\\n        \\\"mac-and-cheese\\\",\\n        \\\"noodles\\\",\\n        \\\"salad\\\",\\n    ]:\\n        name = \\\"daily_meal\\\"\\n    elif fied in [\\\"vegan-friendly\\\", \\\"vegetarian\\\", \\\"vegetarian-friendly\\\"]:\\n        name = \\\"vegan\\\"\\n    elif fied in [\\\"bacon\\\", \\\"burger\\\", \\\"fast-food\\\", \\\"frozen-food\\\", \\\"sandwich\\\", \\\"wings\\\"]:\\n        name = \\\"fast food\\\"\\n    elif fied in [\\n        \\\"drink\\\",\\n        \\\"juice-and-smoothies\\\",\\n        \\\"milkshake\\\",\\n    ]:\\n        name = \\\"beverage\\\"\\n    elif fied in [\\\"wine\\\", \\\"rum\\\"]:\\n        name = \\\"alcohol\\\"\\n    elif fied in [\\\"ice-cream-and-frozen-yogurt\\\", \\\"matcha\\\", \\\"tapas\\\", \\\"snacks\\\"]:\\n        name = \\\"junk_food\\\"\\n    elif fied in [\\n        \\\"beef\\\",\\n        \\\"cured-meat\\\",\\n        \\\"eggs\\\",\\n        \\\"lobster\\\",\\n        \\\"oysters\\\",\\n        \\\"seafood\\\",\\n        \\\"ribs\\\",\\n    ]:\\n        name = \\\"protein\\\"\\n    elif fied in [\\n        \\\"cupcake\\\",\\n        \\\"cake\\\",\\n        \\\"candy\\\",\\n        \\\"custard\\\",\\n        \\\"donut\\\",\\n        \\\"sweets\\\",\\n        \\\"pastry\\\",\\n        \\\"pie\\\",\\n    ]:\\n        name = \\\"sweet\\\"\\n    elif fied in [\\n        \\\"bento\\\",\\n        \\\"biryani\\\",\\n        \\\"charcuterie\\\",\\n        \\\"congee\\\",\\n        \\\"couscous\\\",\\n        \\\"curry\\\",\\n        \\\"dim-sum\\\",\\n        \\\"dosa\\\",\\n        \\\"fish-and-chips\\\",\\n        \\\"indian-curry\\\",\\n        \\\"japanese-curry\\\",\\n        \\\"kebabs\\\",\\n        \\\"korean-bbq\\\",\\n        \\\"lasagne\\\",\\n        \\\"pho\\\",\\n        \\\"pizza\\\",\\n        \\\"pasta\\\",\\n        \\\"yakitori\\\",\\n        \\\"tex-mex\\\",\\n        \\\"ramen\\\",\\n        \\\"paella\\\",\\n        \\\"poke\\\",\\n        \\\"rolls\\\",\\n        \\\"shawarma\\\",\\n        \\\"udon\\\",\\n        \\\"pollo\\\",\\n        \\\"poutine\\\",\\n        \\\"pretzel\\\",\\n        \\\"soul-food\\\",\\n    ]:\\n        name = \\\"specialty\\\"\\n\\n    elif fied in [\\\"raw\\\", \\\"sushi\\\", \\\"sashimi\\\", \\\"salmon\\\"]:\\n        name = \\\"raw\\\"\\n    return name\";\n                var nbb_cells = Jupyter.notebook.get_cells();\n                for (var i = 0; i < nbb_cells.length; ++i) {\n                    if (nbb_cells[i].input_prompt_number == nbb_cell_id) {\n                        if (nbb_cells[i].get_text() == nbb_unformatted_code) {\n                             nbb_cells[i].set_text(nbb_formatted_code);\n                        }\n                        break;\n                    }\n                }\n            }, 500);\n            ",
      "text/plain": [
       "<IPython.core.display.Javascript object>"
      ]
     },
     "metadata": {},
     "output_type": "display_data"
    }
   ],
   "source": [
    "def map_main_food_name(fied):\n",
    "    name = 'others'\n",
    "    if fied in [\n",
    "        \"acai\",\n",
    "        \"allergy-friendly\",\n",
    "        \"gluten-free\",\n",
    "        \"kids-friendly\",\n",
    "        \"healthy\",\n",
    "        \"low-calorie\",\n",
    "        \"low-carb\",\n",
    "        \"organic\",\n",
    "    ]:\n",
    "        name = 'healthy'\n",
    "    elif fied in [\n",
    "        \"appetizers\",\n",
    "        \"dessert\",\n",
    "        \"late-night\",\n",
    "        \"bread\",\n",
    "        \"soup\",\n",
    "        \"mac-and-cheese\",\n",
    "        \"noodles\",\n",
    "        \"salad\",\n",
    "    ]:\n",
    "        name = 'daily_meal'\n",
    "    elif fied in [\"vegan-friendly\", \"vegetarian\", \"vegetarian-friendly\"]:\n",
    "        name = 'vegan'\n",
    "    elif fied in [\"bacon\", \"burger\", \"fast-food\", \"frozen-food\", \"sandwich\", \"wings\"]:\n",
    "        name = 'fast food'\n",
    "    elif fied in [\n",
    "        \"drink\",\n",
    "        \"juice-and-smoothies\",\n",
    "        \"milkshake\",\n",
    "    ]:\n",
    "        name = 'beverage'\n",
    "    elif fied in [\"wine\", \"rum\"]:\n",
    "        name = 'alcohol'\n",
    "    elif fied in [\"ice-cream-and-frozen-yogurt\", \"matcha\", \"tapas\", \"snacks\"]:\n",
    "        name = 'junk_food'\n",
    "    elif fied in [\n",
    "        \"beef\",\n",
    "        \"cured-meat\",\n",
    "        \"eggs\",\n",
    "        \"lobster\",\n",
    "        \"oysters\",\n",
    "        \"seafood\",\n",
    "        \"ribs\",\n",
    "    ]:\n",
    "        name = 'protein'\n",
    "    elif fied in [\n",
    "        \"cupcake\",\n",
    "        \"cake\",\n",
    "        \"candy\",\n",
    "        \"custard\",\n",
    "        \"donut\",\n",
    "        \"sweets\",\n",
    "        \"pastry\",\n",
    "        \"pie\",\n",
    "    ]:\n",
    "        name = 'sweet'\n",
    "    elif fied in [\n",
    "        \"bento\",\n",
    "        \"biryani\",\n",
    "        \"charcuterie\",\n",
    "        \"congee\",\n",
    "        \"couscous\",\n",
    "        \"curry\",\n",
    "        \"dim-sum\",\n",
    "        \"dosa\",\n",
    "        \"fish-and-chips\",\n",
    "        \"indian-curry\",\n",
    "        \"japanese-curry\",\n",
    "        \"kebabs\",\n",
    "        \"korean-bbq\",\n",
    "        \"lasagne\",\n",
    "        \"pho\",\n",
    "        \"pizza\",\n",
    "        \"pasta\",\n",
    "        \"yakitori\",\n",
    "        \"tex-mex\",\n",
    "        \"ramen\",\n",
    "        \"paella\",\n",
    "        \"poke\",\n",
    "        \"rolls\",\n",
    "        \"shawarma\",\n",
    "        \"udon\",\n",
    "        \"pollo\",\n",
    "        \"poutine\",\n",
    "        \"pretzel\",\n",
    "        \"soul-food\",\n",
    "    ]:\n",
    "        name = 'specialty'\n",
    "\n",
    "    elif fied in [\"raw\", \"sushi\", \"sashimi\", \"salmon\"]:\n",
    "        name = 'raw'\n",
    "    return name"
   ]
  },
  {
   "cell_type": "code",
   "execution_count": 144,
   "id": "33bd48ec",
   "metadata": {},
   "outputs": [
    {
     "data": {
      "application/javascript": "\n            setTimeout(function() {\n                var nbb_cell_id = 144;\n                var nbb_unformatted_code = \"df['main_food_category_name'] = df.food_category_name.apply(lambda x: map_main_food_name(x))\";\n                var nbb_formatted_code = \"df[\\\"main_food_category_name\\\"] = df.food_category_name.apply(\\n    lambda x: map_main_food_name(x)\\n)\";\n                var nbb_cells = Jupyter.notebook.get_cells();\n                for (var i = 0; i < nbb_cells.length; ++i) {\n                    if (nbb_cells[i].input_prompt_number == nbb_cell_id) {\n                        if (nbb_cells[i].get_text() == nbb_unformatted_code) {\n                             nbb_cells[i].set_text(nbb_formatted_code);\n                        }\n                        break;\n                    }\n                }\n            }, 500);\n            ",
      "text/plain": [
       "<IPython.core.display.Javascript object>"
      ]
     },
     "metadata": {},
     "output_type": "display_data"
    }
   ],
   "source": [
    "df['main_food_category_name'] = df.food_category_name.apply(lambda x: map_main_food_name(x))"
   ]
  },
  {
   "cell_type": "code",
   "execution_count": 145,
   "id": "b21f4cb2",
   "metadata": {},
   "outputs": [
    {
     "data": {
      "text/html": [
       "<div>\n",
       "<style scoped>\n",
       "    .dataframe tbody tr th:only-of-type {\n",
       "        vertical-align: middle;\n",
       "    }\n",
       "\n",
       "    .dataframe tbody tr th {\n",
       "        vertical-align: top;\n",
       "    }\n",
       "\n",
       "    .dataframe thead th {\n",
       "        text-align: right;\n",
       "    }\n",
       "</style>\n",
       "<table border=\"1\" class=\"dataframe\">\n",
       "  <thead>\n",
       "    <tr style=\"text-align: right;\">\n",
       "      <th></th>\n",
       "      <th>restaurant_description</th>\n",
       "      <th>rating</th>\n",
       "      <th>num_review</th>\n",
       "      <th>menu_category</th>\n",
       "      <th>product_name</th>\n",
       "      <th>price</th>\n",
       "      <th>product_description</th>\n",
       "      <th>status</th>\n",
       "      <th>product_image</th>\n",
       "      <th>restaurant_url</th>\n",
       "      <th>...</th>\n",
       "      <th>restaurant_category</th>\n",
       "      <th>city</th>\n",
       "      <th>product_id</th>\n",
       "      <th>provider_id</th>\n",
       "      <th>restaurant_category_id</th>\n",
       "      <th>cuisine_category_name</th>\n",
       "      <th>cuisine_category_id</th>\n",
       "      <th>food_category_name</th>\n",
       "      <th>food_category_id</th>\n",
       "      <th>main_food_category_name</th>\n",
       "    </tr>\n",
       "  </thead>\n",
       "  <tbody>\n",
       "    <tr>\n",
       "      <th>0</th>\n",
       "      <td>NaN</td>\n",
       "      <td>3.6</td>\n",
       "      <td>82</td>\n",
       "      <td>Most Popular</td>\n",
       "      <td>Chicken McMuffin Extra Value Meal [523.0 Cals]</td>\n",
       "      <td>5.69</td>\n",
       "      <td>Chicken McMuffin Extra Value Meal [523.0 Cals]</td>\n",
       "      <td>In stock</td>\n",
       "      <td>https://d1ralsognjng37.cloudfront.net/81325489...</td>\n",
       "      <td>https://www.ubereats.com/ca/store/mcdonalds-67...</td>\n",
       "      <td>...</td>\n",
       "      <td>24-hours</td>\n",
       "      <td>hamilton</td>\n",
       "      <td>1002564</td>\n",
       "      <td>1000047</td>\n",
       "      <td>1000000</td>\n",
       "      <td>others</td>\n",
       "      <td>1000032</td>\n",
       "      <td>others</td>\n",
       "      <td>1000051</td>\n",
       "      <td>others</td>\n",
       "    </tr>\n",
       "    <tr>\n",
       "      <th>1</th>\n",
       "      <td>NaN</td>\n",
       "      <td>4.4</td>\n",
       "      <td>25</td>\n",
       "      <td>Most Popular</td>\n",
       "      <td>Chicken McMuffin Extra Value Meal [523.0 Cals]</td>\n",
       "      <td>5.69</td>\n",
       "      <td>Chicken McMuffin Extra Value Meal [523.0 Cals]</td>\n",
       "      <td>In stock</td>\n",
       "      <td>https://d1ralsognjng37.cloudfront.net/81325489...</td>\n",
       "      <td>https://www.ubereats.com/ca/store/mcdonalds-67...</td>\n",
       "      <td>...</td>\n",
       "      <td>american</td>\n",
       "      <td>hamilton</td>\n",
       "      <td>1002564</td>\n",
       "      <td>1000047</td>\n",
       "      <td>1000006</td>\n",
       "      <td>american</td>\n",
       "      <td>1000002</td>\n",
       "      <td>others</td>\n",
       "      <td>1000051</td>\n",
       "      <td>others</td>\n",
       "    </tr>\n",
       "    <tr>\n",
       "      <th>2</th>\n",
       "      <td>NaN</td>\n",
       "      <td>3.9</td>\n",
       "      <td>124</td>\n",
       "      <td>Most Popular</td>\n",
       "      <td>Chicken McMuffin Extra Value Meal [523.0 Cals]</td>\n",
       "      <td>5.69</td>\n",
       "      <td>Chicken McMuffin Extra Value Meal [523.0 Cals]</td>\n",
       "      <td>In stock</td>\n",
       "      <td>https://d1ralsognjng37.cloudfront.net/81325489...</td>\n",
       "      <td>https://www.ubereats.com/ca/store/mcdonalds-67...</td>\n",
       "      <td>...</td>\n",
       "      <td>bacon</td>\n",
       "      <td>hamilton</td>\n",
       "      <td>1002564</td>\n",
       "      <td>1000047</td>\n",
       "      <td>1000011</td>\n",
       "      <td>others</td>\n",
       "      <td>1000032</td>\n",
       "      <td>bacon</td>\n",
       "      <td>1000003</td>\n",
       "      <td>fast food</td>\n",
       "    </tr>\n",
       "    <tr>\n",
       "      <th>3</th>\n",
       "      <td>NaN</td>\n",
       "      <td>4.3</td>\n",
       "      <td>28</td>\n",
       "      <td>Most Popular</td>\n",
       "      <td>Chicken McMuffin Extra Value Meal [523.0 Cals]</td>\n",
       "      <td>5.69</td>\n",
       "      <td>Chicken McMuffin Extra Value Meal [523.0 Cals]</td>\n",
       "      <td>In stock</td>\n",
       "      <td>https://d1ralsognjng37.cloudfront.net/81325489...</td>\n",
       "      <td>https://www.ubereats.com/ca/store/mcdonalds-67...</td>\n",
       "      <td>...</td>\n",
       "      <td>bakery</td>\n",
       "      <td>hamilton</td>\n",
       "      <td>1002564</td>\n",
       "      <td>1000047</td>\n",
       "      <td>1000012</td>\n",
       "      <td>others</td>\n",
       "      <td>1000032</td>\n",
       "      <td>others</td>\n",
       "      <td>1000051</td>\n",
       "      <td>others</td>\n",
       "    </tr>\n",
       "    <tr>\n",
       "      <th>4</th>\n",
       "      <td>NaN</td>\n",
       "      <td>4.4</td>\n",
       "      <td>63</td>\n",
       "      <td>Most Popular</td>\n",
       "      <td>Chicken McMuffin Extra Value Meal [523.0 Cals]</td>\n",
       "      <td>5.69</td>\n",
       "      <td>Chicken McMuffin Extra Value Meal [523.0 Cals]</td>\n",
       "      <td>In stock</td>\n",
       "      <td>https://d1ralsognjng37.cloudfront.net/81325489...</td>\n",
       "      <td>https://www.ubereats.com/ca/store/mcdonalds-67...</td>\n",
       "      <td>...</td>\n",
       "      <td>bar-food</td>\n",
       "      <td>hamilton</td>\n",
       "      <td>1002564</td>\n",
       "      <td>1000047</td>\n",
       "      <td>1000013</td>\n",
       "      <td>others</td>\n",
       "      <td>1000032</td>\n",
       "      <td>bar-food</td>\n",
       "      <td>1000004</td>\n",
       "      <td>others</td>\n",
       "    </tr>\n",
       "  </tbody>\n",
       "</table>\n",
       "<p>5 rows × 22 columns</p>\n",
       "</div>"
      ],
      "text/plain": [
       "  restaurant_description  rating  num_review menu_category  \\\n",
       "0                    NaN     3.6          82  Most Popular   \n",
       "1                    NaN     4.4          25  Most Popular   \n",
       "2                    NaN     3.9         124  Most Popular   \n",
       "3                    NaN     4.3          28  Most Popular   \n",
       "4                    NaN     4.4          63  Most Popular   \n",
       "\n",
       "                                     product_name  price  \\\n",
       "0  Chicken McMuffin Extra Value Meal [523.0 Cals]   5.69   \n",
       "1  Chicken McMuffin Extra Value Meal [523.0 Cals]   5.69   \n",
       "2  Chicken McMuffin Extra Value Meal [523.0 Cals]   5.69   \n",
       "3  Chicken McMuffin Extra Value Meal [523.0 Cals]   5.69   \n",
       "4  Chicken McMuffin Extra Value Meal [523.0 Cals]   5.69   \n",
       "\n",
       "                              product_description    status  \\\n",
       "0  Chicken McMuffin Extra Value Meal [523.0 Cals]  In stock   \n",
       "1  Chicken McMuffin Extra Value Meal [523.0 Cals]  In stock   \n",
       "2  Chicken McMuffin Extra Value Meal [523.0 Cals]  In stock   \n",
       "3  Chicken McMuffin Extra Value Meal [523.0 Cals]  In stock   \n",
       "4  Chicken McMuffin Extra Value Meal [523.0 Cals]  In stock   \n",
       "\n",
       "                                       product_image  \\\n",
       "0  https://d1ralsognjng37.cloudfront.net/81325489...   \n",
       "1  https://d1ralsognjng37.cloudfront.net/81325489...   \n",
       "2  https://d1ralsognjng37.cloudfront.net/81325489...   \n",
       "3  https://d1ralsognjng37.cloudfront.net/81325489...   \n",
       "4  https://d1ralsognjng37.cloudfront.net/81325489...   \n",
       "\n",
       "                                      restaurant_url  ... restaurant_category  \\\n",
       "0  https://www.ubereats.com/ca/store/mcdonalds-67...  ...            24-hours   \n",
       "1  https://www.ubereats.com/ca/store/mcdonalds-67...  ...            american   \n",
       "2  https://www.ubereats.com/ca/store/mcdonalds-67...  ...               bacon   \n",
       "3  https://www.ubereats.com/ca/store/mcdonalds-67...  ...              bakery   \n",
       "4  https://www.ubereats.com/ca/store/mcdonalds-67...  ...            bar-food   \n",
       "\n",
       "       city product_id provider_id  restaurant_category_id  \\\n",
       "0  hamilton    1002564     1000047                 1000000   \n",
       "1  hamilton    1002564     1000047                 1000006   \n",
       "2  hamilton    1002564     1000047                 1000011   \n",
       "3  hamilton    1002564     1000047                 1000012   \n",
       "4  hamilton    1002564     1000047                 1000013   \n",
       "\n",
       "   cuisine_category_name  cuisine_category_id food_category_name  \\\n",
       "0                 others              1000032             others   \n",
       "1               american              1000002             others   \n",
       "2                 others              1000032              bacon   \n",
       "3                 others              1000032             others   \n",
       "4                 others              1000032           bar-food   \n",
       "\n",
       "   food_category_id main_food_category_name  \n",
       "0           1000051                  others  \n",
       "1           1000051                  others  \n",
       "2           1000003               fast food  \n",
       "3           1000051                  others  \n",
       "4           1000004                  others  \n",
       "\n",
       "[5 rows x 22 columns]"
      ]
     },
     "execution_count": 145,
     "metadata": {},
     "output_type": "execute_result"
    },
    {
     "data": {
      "application/javascript": "\n            setTimeout(function() {\n                var nbb_cell_id = 145;\n                var nbb_unformatted_code = \"df.head(5)\";\n                var nbb_formatted_code = \"df.head(5)\";\n                var nbb_cells = Jupyter.notebook.get_cells();\n                for (var i = 0; i < nbb_cells.length; ++i) {\n                    if (nbb_cells[i].input_prompt_number == nbb_cell_id) {\n                        if (nbb_cells[i].get_text() == nbb_unformatted_code) {\n                             nbb_cells[i].set_text(nbb_formatted_code);\n                        }\n                        break;\n                    }\n                }\n            }, 500);\n            ",
      "text/plain": [
       "<IPython.core.display.Javascript object>"
      ]
     },
     "metadata": {},
     "output_type": "display_data"
    }
   ],
   "source": [
    "df.head(5)"
   ]
  },
  {
   "cell_type": "code",
   "execution_count": 146,
   "id": "49954fba",
   "metadata": {},
   "outputs": [
    {
     "data": {
      "text/plain": [
       "array(['others', 'fast food', 'daily_meal', 'sweet', 'beverage',\n",
       "       'protein', 'specialty', 'junk_food', 'healthy', 'vegan', 'alcohol',\n",
       "       'raw'], dtype=object)"
      ]
     },
     "execution_count": 146,
     "metadata": {},
     "output_type": "execute_result"
    },
    {
     "data": {
      "application/javascript": "\n            setTimeout(function() {\n                var nbb_cell_id = 146;\n                var nbb_unformatted_code = \"df['main_food_category_name'].unique()\";\n                var nbb_formatted_code = \"df[\\\"main_food_category_name\\\"].unique()\";\n                var nbb_cells = Jupyter.notebook.get_cells();\n                for (var i = 0; i < nbb_cells.length; ++i) {\n                    if (nbb_cells[i].input_prompt_number == nbb_cell_id) {\n                        if (nbb_cells[i].get_text() == nbb_unformatted_code) {\n                             nbb_cells[i].set_text(nbb_formatted_code);\n                        }\n                        break;\n                    }\n                }\n            }, 500);\n            ",
      "text/plain": [
       "<IPython.core.display.Javascript object>"
      ]
     },
     "metadata": {},
     "output_type": "display_data"
    }
   ],
   "source": [
    "df['main_food_category_name'].unique()"
   ]
  },
  {
   "cell_type": "code",
   "execution_count": 147,
   "id": "77444b30",
   "metadata": {},
   "outputs": [
    {
     "data": {
      "application/javascript": "\n            setTimeout(function() {\n                var nbb_cell_id = 147;\n                var nbb_unformatted_code = \"df['main_food_category_id'] = le.fit_transform(df['main_food_category_name'])\\ndf['main_food_category_id'] = df['main_food_category_id'].apply(lambda x: x+1000000)\";\n                var nbb_formatted_code = \"df[\\\"main_food_category_id\\\"] = le.fit_transform(df[\\\"main_food_category_name\\\"])\\ndf[\\\"main_food_category_id\\\"] = df[\\\"main_food_category_id\\\"].apply(lambda x: x + 1000000)\";\n                var nbb_cells = Jupyter.notebook.get_cells();\n                for (var i = 0; i < nbb_cells.length; ++i) {\n                    if (nbb_cells[i].input_prompt_number == nbb_cell_id) {\n                        if (nbb_cells[i].get_text() == nbb_unformatted_code) {\n                             nbb_cells[i].set_text(nbb_formatted_code);\n                        }\n                        break;\n                    }\n                }\n            }, 500);\n            ",
      "text/plain": [
       "<IPython.core.display.Javascript object>"
      ]
     },
     "metadata": {},
     "output_type": "display_data"
    }
   ],
   "source": [
    "df['main_food_category_id'] = le.fit_transform(df['main_food_category_name'])\n",
    "df['main_food_category_id'] = df['main_food_category_id'].apply(lambda x: x+1000000)"
   ]
  },
  {
   "cell_type": "code",
   "execution_count": 148,
   "id": "57b69f8e",
   "metadata": {},
   "outputs": [
    {
     "data": {
      "application/javascript": "\n            setTimeout(function() {\n                var nbb_cell_id = 148;\n                var nbb_unformatted_code = \"df_main_food_category = df[['main_food_category_id', 'main_food_category_name']].drop_duplicates(ignore_index=True)\";\n                var nbb_formatted_code = \"df_main_food_category = df[\\n    [\\\"main_food_category_id\\\", \\\"main_food_category_name\\\"]\\n].drop_duplicates(ignore_index=True)\";\n                var nbb_cells = Jupyter.notebook.get_cells();\n                for (var i = 0; i < nbb_cells.length; ++i) {\n                    if (nbb_cells[i].input_prompt_number == nbb_cell_id) {\n                        if (nbb_cells[i].get_text() == nbb_unformatted_code) {\n                             nbb_cells[i].set_text(nbb_formatted_code);\n                        }\n                        break;\n                    }\n                }\n            }, 500);\n            ",
      "text/plain": [
       "<IPython.core.display.Javascript object>"
      ]
     },
     "metadata": {},
     "output_type": "display_data"
    }
   ],
   "source": [
    "df_main_food_category = df[['main_food_category_id', 'main_food_category_name']].drop_duplicates(ignore_index=True)"
   ]
  },
  {
   "cell_type": "code",
   "execution_count": 149,
   "id": "f04d567a",
   "metadata": {},
   "outputs": [
    {
     "data": {
      "text/plain": [
       "(12, 2)"
      ]
     },
     "execution_count": 149,
     "metadata": {},
     "output_type": "execute_result"
    },
    {
     "data": {
      "application/javascript": "\n            setTimeout(function() {\n                var nbb_cell_id = 149;\n                var nbb_unformatted_code = \"df_main_food_category.shape\";\n                var nbb_formatted_code = \"df_main_food_category.shape\";\n                var nbb_cells = Jupyter.notebook.get_cells();\n                for (var i = 0; i < nbb_cells.length; ++i) {\n                    if (nbb_cells[i].input_prompt_number == nbb_cell_id) {\n                        if (nbb_cells[i].get_text() == nbb_unformatted_code) {\n                             nbb_cells[i].set_text(nbb_formatted_code);\n                        }\n                        break;\n                    }\n                }\n            }, 500);\n            ",
      "text/plain": [
       "<IPython.core.display.Javascript object>"
      ]
     },
     "metadata": {},
     "output_type": "display_data"
    }
   ],
   "source": [
    "df_main_food_category.shape"
   ]
  },
  {
   "cell_type": "code",
   "execution_count": 150,
   "id": "263b4eb2",
   "metadata": {},
   "outputs": [
    {
     "data": {
      "application/javascript": "\n            setTimeout(function() {\n                var nbb_cell_id = 150;\n                var nbb_unformatted_code = \"df_main_food_category.to_csv('mysql_data/main_food_category.csv', index = False)\";\n                var nbb_formatted_code = \"df_main_food_category.to_csv(\\\"mysql_data/main_food_category.csv\\\", index=False)\";\n                var nbb_cells = Jupyter.notebook.get_cells();\n                for (var i = 0; i < nbb_cells.length; ++i) {\n                    if (nbb_cells[i].input_prompt_number == nbb_cell_id) {\n                        if (nbb_cells[i].get_text() == nbb_unformatted_code) {\n                             nbb_cells[i].set_text(nbb_formatted_code);\n                        }\n                        break;\n                    }\n                }\n            }, 500);\n            ",
      "text/plain": [
       "<IPython.core.display.Javascript object>"
      ]
     },
     "metadata": {},
     "output_type": "display_data"
    }
   ],
   "source": [
    "df_main_food_category.to_csv('mysql_data/main_food_category.csv', index = False)"
   ]
  },
  {
   "cell_type": "code",
   "execution_count": 1181,
   "id": "eeb474da",
   "metadata": {},
   "outputs": [
    {
     "data": {
      "application/javascript": "\n            setTimeout(function() {\n                var nbb_cell_id = 1181;\n                var nbb_unformatted_code = \"insert_execute_many(df_main_food_category, \\\"MainFoodCategory\\\")\";\n                var nbb_formatted_code = \"insert_execute_many(df_main_food_category, \\\"MainFoodCategory\\\")\";\n                var nbb_cells = Jupyter.notebook.get_cells();\n                for (var i = 0; i < nbb_cells.length; ++i) {\n                    if (nbb_cells[i].input_prompt_number == nbb_cell_id) {\n                        if (nbb_cells[i].get_text() == nbb_unformatted_code) {\n                             nbb_cells[i].set_text(nbb_formatted_code);\n                        }\n                        break;\n                    }\n                }\n            }, 500);\n            ",
      "text/plain": [
       "<IPython.core.display.Javascript object>"
      ]
     },
     "metadata": {},
     "output_type": "display_data"
    }
   ],
   "source": [
    "insert_execute_many(df_main_food_category, \"MainFoodCategory\")"
   ]
  },
  {
   "cell_type": "markdown",
   "id": "c21f6c47",
   "metadata": {},
   "source": [
    "#### Main Food Category Detail"
   ]
  },
  {
   "cell_type": "code",
   "execution_count": 151,
   "id": "dd620f9c",
   "metadata": {},
   "outputs": [
    {
     "data": {
      "application/javascript": "\n            setTimeout(function() {\n                var nbb_cell_id = 151;\n                var nbb_unformatted_code = \"# df_main_food_category_detail = df.drop_duplicates(\\n#     subset=[\\\"product_name\\\", \\\"product_image\\\"]\\n# )[[\\\"main_food_category_id\\\", \\\"product_id\\\"]].drop_duplicates(ignore_index=True)\\n\\n\\ndf_main_food_category_detail = df[\\n    [\\\"main_food_category_id\\\", \\\"product_id\\\"]\\n].drop_duplicates(ignore_index=True)\";\n                var nbb_formatted_code = \"# df_main_food_category_detail = df.drop_duplicates(\\n#     subset=[\\\"product_name\\\", \\\"product_image\\\"]\\n# )[[\\\"main_food_category_id\\\", \\\"product_id\\\"]].drop_duplicates(ignore_index=True)\\n\\n\\ndf_main_food_category_detail = df[\\n    [\\\"main_food_category_id\\\", \\\"product_id\\\"]\\n].drop_duplicates(ignore_index=True)\";\n                var nbb_cells = Jupyter.notebook.get_cells();\n                for (var i = 0; i < nbb_cells.length; ++i) {\n                    if (nbb_cells[i].input_prompt_number == nbb_cell_id) {\n                        if (nbb_cells[i].get_text() == nbb_unformatted_code) {\n                             nbb_cells[i].set_text(nbb_formatted_code);\n                        }\n                        break;\n                    }\n                }\n            }, 500);\n            ",
      "text/plain": [
       "<IPython.core.display.Javascript object>"
      ]
     },
     "metadata": {},
     "output_type": "display_data"
    }
   ],
   "source": [
    "# df_main_food_category_detail = df.drop_duplicates(\n",
    "#     subset=[\"product_name\", \"product_image\"]\n",
    "# )[[\"main_food_category_id\", \"product_id\"]].drop_duplicates(ignore_index=True)\n",
    "\n",
    "\n",
    "df_main_food_category_detail = df[\n",
    "    [\"main_food_category_id\", \"product_id\"]\n",
    "].drop_duplicates(ignore_index=True)\n"
   ]
  },
  {
   "cell_type": "code",
   "execution_count": 152,
   "id": "3a793dcb",
   "metadata": {},
   "outputs": [
    {
     "data": {
      "text/plain": [
       "array([1000006, 1000003, 1000002, 1000010, 1000001, 1000007, 1000009,\n",
       "       1000005, 1000004, 1000011, 1000000, 1000008], dtype=int64)"
      ]
     },
     "execution_count": 152,
     "metadata": {},
     "output_type": "execute_result"
    },
    {
     "data": {
      "application/javascript": "\n            setTimeout(function() {\n                var nbb_cell_id = 152;\n                var nbb_unformatted_code = \"df_main_food_category_detail.main_food_category_id.unique()\";\n                var nbb_formatted_code = \"df_main_food_category_detail.main_food_category_id.unique()\";\n                var nbb_cells = Jupyter.notebook.get_cells();\n                for (var i = 0; i < nbb_cells.length; ++i) {\n                    if (nbb_cells[i].input_prompt_number == nbb_cell_id) {\n                        if (nbb_cells[i].get_text() == nbb_unformatted_code) {\n                             nbb_cells[i].set_text(nbb_formatted_code);\n                        }\n                        break;\n                    }\n                }\n            }, 500);\n            ",
      "text/plain": [
       "<IPython.core.display.Javascript object>"
      ]
     },
     "metadata": {},
     "output_type": "display_data"
    }
   ],
   "source": [
    "df_main_food_category_detail.main_food_category_id.unique()"
   ]
  },
  {
   "cell_type": "code",
   "execution_count": 153,
   "id": "cbaedd65",
   "metadata": {},
   "outputs": [
    {
     "data": {
      "text/html": [
       "<div>\n",
       "<style scoped>\n",
       "    .dataframe tbody tr th:only-of-type {\n",
       "        vertical-align: middle;\n",
       "    }\n",
       "\n",
       "    .dataframe tbody tr th {\n",
       "        vertical-align: top;\n",
       "    }\n",
       "\n",
       "    .dataframe thead th {\n",
       "        text-align: right;\n",
       "    }\n",
       "</style>\n",
       "<table border=\"1\" class=\"dataframe\">\n",
       "  <thead>\n",
       "    <tr style=\"text-align: right;\">\n",
       "      <th></th>\n",
       "      <th>main_food_category_id</th>\n",
       "      <th>product_id</th>\n",
       "    </tr>\n",
       "  </thead>\n",
       "  <tbody>\n",
       "    <tr>\n",
       "      <th>0</th>\n",
       "      <td>1000006</td>\n",
       "      <td>1002564</td>\n",
       "    </tr>\n",
       "    <tr>\n",
       "      <th>1</th>\n",
       "      <td>1000003</td>\n",
       "      <td>1002564</td>\n",
       "    </tr>\n",
       "    <tr>\n",
       "      <th>2</th>\n",
       "      <td>1000002</td>\n",
       "      <td>1002564</td>\n",
       "    </tr>\n",
       "    <tr>\n",
       "      <th>3</th>\n",
       "      <td>1000010</td>\n",
       "      <td>1002564</td>\n",
       "    </tr>\n",
       "    <tr>\n",
       "      <th>4</th>\n",
       "      <td>1000001</td>\n",
       "      <td>1002564</td>\n",
       "    </tr>\n",
       "  </tbody>\n",
       "</table>\n",
       "</div>"
      ],
      "text/plain": [
       "   main_food_category_id  product_id\n",
       "0                1000006     1002564\n",
       "1                1000003     1002564\n",
       "2                1000002     1002564\n",
       "3                1000010     1002564\n",
       "4                1000001     1002564"
      ]
     },
     "execution_count": 153,
     "metadata": {},
     "output_type": "execute_result"
    },
    {
     "data": {
      "application/javascript": "\n            setTimeout(function() {\n                var nbb_cell_id = 153;\n                var nbb_unformatted_code = \"df_main_food_category_detail.head()\";\n                var nbb_formatted_code = \"df_main_food_category_detail.head()\";\n                var nbb_cells = Jupyter.notebook.get_cells();\n                for (var i = 0; i < nbb_cells.length; ++i) {\n                    if (nbb_cells[i].input_prompt_number == nbb_cell_id) {\n                        if (nbb_cells[i].get_text() == nbb_unformatted_code) {\n                             nbb_cells[i].set_text(nbb_formatted_code);\n                        }\n                        break;\n                    }\n                }\n            }, 500);\n            ",
      "text/plain": [
       "<IPython.core.display.Javascript object>"
      ]
     },
     "metadata": {},
     "output_type": "display_data"
    }
   ],
   "source": [
    "df_main_food_category_detail.head()"
   ]
  },
  {
   "cell_type": "code",
   "execution_count": 154,
   "id": "24c8f068",
   "metadata": {},
   "outputs": [
    {
     "data": {
      "text/plain": [
       "(101764, 2)"
      ]
     },
     "execution_count": 154,
     "metadata": {},
     "output_type": "execute_result"
    },
    {
     "data": {
      "application/javascript": "\n            setTimeout(function() {\n                var nbb_cell_id = 154;\n                var nbb_unformatted_code = \"df_main_food_category_detail.shape\";\n                var nbb_formatted_code = \"df_main_food_category_detail.shape\";\n                var nbb_cells = Jupyter.notebook.get_cells();\n                for (var i = 0; i < nbb_cells.length; ++i) {\n                    if (nbb_cells[i].input_prompt_number == nbb_cell_id) {\n                        if (nbb_cells[i].get_text() == nbb_unformatted_code) {\n                             nbb_cells[i].set_text(nbb_formatted_code);\n                        }\n                        break;\n                    }\n                }\n            }, 500);\n            ",
      "text/plain": [
       "<IPython.core.display.Javascript object>"
      ]
     },
     "metadata": {},
     "output_type": "display_data"
    }
   ],
   "source": [
    "df_main_food_category_detail.shape"
   ]
  },
  {
   "cell_type": "code",
   "execution_count": 155,
   "id": "33de3e2d",
   "metadata": {},
   "outputs": [
    {
     "data": {
      "application/javascript": "\n            setTimeout(function() {\n                var nbb_cell_id = 155;\n                var nbb_unformatted_code = \"df_main_food_category_detail.to_csv('mysql_data/main_food_category_detail.csv', index = False)\";\n                var nbb_formatted_code = \"df_main_food_category_detail.to_csv(\\n    \\\"mysql_data/main_food_category_detail.csv\\\", index=False\\n)\";\n                var nbb_cells = Jupyter.notebook.get_cells();\n                for (var i = 0; i < nbb_cells.length; ++i) {\n                    if (nbb_cells[i].input_prompt_number == nbb_cell_id) {\n                        if (nbb_cells[i].get_text() == nbb_unformatted_code) {\n                             nbb_cells[i].set_text(nbb_formatted_code);\n                        }\n                        break;\n                    }\n                }\n            }, 500);\n            ",
      "text/plain": [
       "<IPython.core.display.Javascript object>"
      ]
     },
     "metadata": {},
     "output_type": "display_data"
    }
   ],
   "source": [
    "df_main_food_category_detail.to_csv('mysql_data/main_food_category_detail.csv', index = False)"
   ]
  },
  {
   "cell_type": "code",
   "execution_count": 156,
   "id": "f167188c",
   "metadata": {},
   "outputs": [
    {
     "name": "stdout",
     "output_type": "stream",
     "text": [
      "Failed to insert into MySQL table 1062 (23000): Duplicate entry '1002564-1000006' for key 'mainfoodcategorydetail.PRIMARY'\n",
      "Failed to insert into MySQL table 1062 (23000): Duplicate entry '1005950-1000009' for key 'mainfoodcategorydetail.PRIMARY'\n"
     ]
    },
    {
     "data": {
      "application/javascript": "\n            setTimeout(function() {\n                var nbb_cell_id = 156;\n                var nbb_unformatted_code = \"insert_execute_many_large_dataset(df_main_food_category_detail, 'MainFoodCategoryDetail')\";\n                var nbb_formatted_code = \"insert_execute_many_large_dataset(\\n    df_main_food_category_detail, \\\"MainFoodCategoryDetail\\\"\\n)\";\n                var nbb_cells = Jupyter.notebook.get_cells();\n                for (var i = 0; i < nbb_cells.length; ++i) {\n                    if (nbb_cells[i].input_prompt_number == nbb_cell_id) {\n                        if (nbb_cells[i].get_text() == nbb_unformatted_code) {\n                             nbb_cells[i].set_text(nbb_formatted_code);\n                        }\n                        break;\n                    }\n                }\n            }, 500);\n            ",
      "text/plain": [
       "<IPython.core.display.Javascript object>"
      ]
     },
     "metadata": {},
     "output_type": "display_data"
    }
   ],
   "source": [
    "insert_execute_many_large_dataset(df_main_food_category_detail, 'MainFoodCategoryDetail')"
   ]
  },
  {
   "cell_type": "markdown",
   "id": "ae120e53",
   "metadata": {},
   "source": [
    "#### Food Category"
   ]
  },
  {
   "cell_type": "code",
   "execution_count": 157,
   "id": "7b9cb14c",
   "metadata": {},
   "outputs": [
    {
     "data": {
      "application/javascript": "\n            setTimeout(function() {\n                var nbb_cell_id = 157;\n                var nbb_unformatted_code = \"df_food_category = df[['food_category_name', 'food_category_id', 'main_food_category_id']].drop_duplicates(ignore_index=True)\";\n                var nbb_formatted_code = \"df_food_category = df[\\n    [\\\"food_category_name\\\", \\\"food_category_id\\\", \\\"main_food_category_id\\\"]\\n].drop_duplicates(ignore_index=True)\";\n                var nbb_cells = Jupyter.notebook.get_cells();\n                for (var i = 0; i < nbb_cells.length; ++i) {\n                    if (nbb_cells[i].input_prompt_number == nbb_cell_id) {\n                        if (nbb_cells[i].get_text() == nbb_unformatted_code) {\n                             nbb_cells[i].set_text(nbb_formatted_code);\n                        }\n                        break;\n                    }\n                }\n            }, 500);\n            ",
      "text/plain": [
       "<IPython.core.display.Javascript object>"
      ]
     },
     "metadata": {},
     "output_type": "display_data"
    }
   ],
   "source": [
    "df_food_category = df[['food_category_name', 'food_category_id', 'main_food_category_id']].drop_duplicates(ignore_index=True)"
   ]
  },
  {
   "cell_type": "code",
   "execution_count": 158,
   "id": "5a65b45b",
   "metadata": {},
   "outputs": [
    {
     "data": {
      "text/plain": [
       "(88, 3)"
      ]
     },
     "execution_count": 158,
     "metadata": {},
     "output_type": "execute_result"
    },
    {
     "data": {
      "application/javascript": "\n            setTimeout(function() {\n                var nbb_cell_id = 158;\n                var nbb_unformatted_code = \"df_food_category.shape\";\n                var nbb_formatted_code = \"df_food_category.shape\";\n                var nbb_cells = Jupyter.notebook.get_cells();\n                for (var i = 0; i < nbb_cells.length; ++i) {\n                    if (nbb_cells[i].input_prompt_number == nbb_cell_id) {\n                        if (nbb_cells[i].get_text() == nbb_unformatted_code) {\n                             nbb_cells[i].set_text(nbb_formatted_code);\n                        }\n                        break;\n                    }\n                }\n            }, 500);\n            ",
      "text/plain": [
       "<IPython.core.display.Javascript object>"
      ]
     },
     "metadata": {},
     "output_type": "display_data"
    }
   ],
   "source": [
    "df_food_category.shape"
   ]
  },
  {
   "cell_type": "code",
   "execution_count": 159,
   "id": "711c9f0f",
   "metadata": {},
   "outputs": [
    {
     "data": {
      "application/javascript": "\n            setTimeout(function() {\n                var nbb_cell_id = 159;\n                var nbb_unformatted_code = \"df_food_category.to_csv('mysql_data/food_category.csv', index = False)\";\n                var nbb_formatted_code = \"df_food_category.to_csv(\\\"mysql_data/food_category.csv\\\", index=False)\";\n                var nbb_cells = Jupyter.notebook.get_cells();\n                for (var i = 0; i < nbb_cells.length; ++i) {\n                    if (nbb_cells[i].input_prompt_number == nbb_cell_id) {\n                        if (nbb_cells[i].get_text() == nbb_unformatted_code) {\n                             nbb_cells[i].set_text(nbb_formatted_code);\n                        }\n                        break;\n                    }\n                }\n            }, 500);\n            ",
      "text/plain": [
       "<IPython.core.display.Javascript object>"
      ]
     },
     "metadata": {},
     "output_type": "display_data"
    }
   ],
   "source": [
    "df_food_category.to_csv('mysql_data/food_category.csv', index = False)"
   ]
  },
  {
   "cell_type": "code",
   "execution_count": 1190,
   "id": "b6eb3f91",
   "metadata": {},
   "outputs": [
    {
     "data": {
      "application/javascript": "\n            setTimeout(function() {\n                var nbb_cell_id = 1190;\n                var nbb_unformatted_code = \"insert_execute_many(df_food_category, 'FoodCategory')\";\n                var nbb_formatted_code = \"insert_execute_many(df_food_category, \\\"FoodCategory\\\")\";\n                var nbb_cells = Jupyter.notebook.get_cells();\n                for (var i = 0; i < nbb_cells.length; ++i) {\n                    if (nbb_cells[i].input_prompt_number == nbb_cell_id) {\n                        if (nbb_cells[i].get_text() == nbb_unformatted_code) {\n                             nbb_cells[i].set_text(nbb_formatted_code);\n                        }\n                        break;\n                    }\n                }\n            }, 500);\n            ",
      "text/plain": [
       "<IPython.core.display.Javascript object>"
      ]
     },
     "metadata": {},
     "output_type": "display_data"
    }
   ],
   "source": [
    "insert_execute_many(df_food_category, 'FoodCategory')"
   ]
  },
  {
   "cell_type": "markdown",
   "id": "e0509d9c",
   "metadata": {},
   "source": [
    "#### Food Category Detail"
   ]
  },
  {
   "cell_type": "code",
   "execution_count": 160,
   "id": "9a061b9b",
   "metadata": {},
   "outputs": [
    {
     "data": {
      "application/javascript": "\n            setTimeout(function() {\n                var nbb_cell_id = 160;\n                var nbb_unformatted_code = \"df_food_category_detail = df[[\\\"food_category_id\\\", \\\"product_id\\\"]].drop_duplicates(\\n    ignore_index=True\\n)\";\n                var nbb_formatted_code = \"df_food_category_detail = df[[\\\"food_category_id\\\", \\\"product_id\\\"]].drop_duplicates(\\n    ignore_index=True\\n)\";\n                var nbb_cells = Jupyter.notebook.get_cells();\n                for (var i = 0; i < nbb_cells.length; ++i) {\n                    if (nbb_cells[i].input_prompt_number == nbb_cell_id) {\n                        if (nbb_cells[i].get_text() == nbb_unformatted_code) {\n                             nbb_cells[i].set_text(nbb_formatted_code);\n                        }\n                        break;\n                    }\n                }\n            }, 500);\n            ",
      "text/plain": [
       "<IPython.core.display.Javascript object>"
      ]
     },
     "metadata": {},
     "output_type": "display_data"
    }
   ],
   "source": [
    "df_food_category_detail = df[[\"food_category_id\", \"product_id\"]].drop_duplicates(\n",
    "    ignore_index=True\n",
    ")\n"
   ]
  },
  {
   "cell_type": "code",
   "execution_count": 161,
   "id": "17011ec9",
   "metadata": {},
   "outputs": [
    {
     "data": {
      "text/html": [
       "<div>\n",
       "<style scoped>\n",
       "    .dataframe tbody tr th:only-of-type {\n",
       "        vertical-align: middle;\n",
       "    }\n",
       "\n",
       "    .dataframe tbody tr th {\n",
       "        vertical-align: top;\n",
       "    }\n",
       "\n",
       "    .dataframe thead th {\n",
       "        text-align: right;\n",
       "    }\n",
       "</style>\n",
       "<table border=\"1\" class=\"dataframe\">\n",
       "  <thead>\n",
       "    <tr style=\"text-align: right;\">\n",
       "      <th></th>\n",
       "      <th>food_category_id</th>\n",
       "      <th>product_id</th>\n",
       "    </tr>\n",
       "  </thead>\n",
       "  <tbody>\n",
       "    <tr>\n",
       "      <th>0</th>\n",
       "      <td>1000051</td>\n",
       "      <td>1002564</td>\n",
       "    </tr>\n",
       "    <tr>\n",
       "      <th>1</th>\n",
       "      <td>1000003</td>\n",
       "      <td>1002564</td>\n",
       "    </tr>\n",
       "    <tr>\n",
       "      <th>2</th>\n",
       "      <td>1000004</td>\n",
       "      <td>1002564</td>\n",
       "    </tr>\n",
       "    <tr>\n",
       "      <th>3</th>\n",
       "      <td>1000010</td>\n",
       "      <td>1002564</td>\n",
       "    </tr>\n",
       "    <tr>\n",
       "      <th>4</th>\n",
       "      <td>1000021</td>\n",
       "      <td>1002564</td>\n",
       "    </tr>\n",
       "  </tbody>\n",
       "</table>\n",
       "</div>"
      ],
      "text/plain": [
       "   food_category_id  product_id\n",
       "0           1000051     1002564\n",
       "1           1000003     1002564\n",
       "2           1000004     1002564\n",
       "3           1000010     1002564\n",
       "4           1000021     1002564"
      ]
     },
     "execution_count": 161,
     "metadata": {},
     "output_type": "execute_result"
    },
    {
     "data": {
      "application/javascript": "\n            setTimeout(function() {\n                var nbb_cell_id = 161;\n                var nbb_unformatted_code = \"df_food_category_detail.head(5)\";\n                var nbb_formatted_code = \"df_food_category_detail.head(5)\";\n                var nbb_cells = Jupyter.notebook.get_cells();\n                for (var i = 0; i < nbb_cells.length; ++i) {\n                    if (nbb_cells[i].input_prompt_number == nbb_cell_id) {\n                        if (nbb_cells[i].get_text() == nbb_unformatted_code) {\n                             nbb_cells[i].set_text(nbb_formatted_code);\n                        }\n                        break;\n                    }\n                }\n            }, 500);\n            ",
      "text/plain": [
       "<IPython.core.display.Javascript object>"
      ]
     },
     "metadata": {},
     "output_type": "display_data"
    }
   ],
   "source": [
    "df_food_category_detail.head(5)"
   ]
  },
  {
   "cell_type": "code",
   "execution_count": 162,
   "id": "4b6454c0",
   "metadata": {},
   "outputs": [
    {
     "data": {
      "text/plain": [
       "(276304, 2)"
      ]
     },
     "execution_count": 162,
     "metadata": {},
     "output_type": "execute_result"
    },
    {
     "data": {
      "application/javascript": "\n            setTimeout(function() {\n                var nbb_cell_id = 162;\n                var nbb_unformatted_code = \"df_food_category_detail.shape\";\n                var nbb_formatted_code = \"df_food_category_detail.shape\";\n                var nbb_cells = Jupyter.notebook.get_cells();\n                for (var i = 0; i < nbb_cells.length; ++i) {\n                    if (nbb_cells[i].input_prompt_number == nbb_cell_id) {\n                        if (nbb_cells[i].get_text() == nbb_unformatted_code) {\n                             nbb_cells[i].set_text(nbb_formatted_code);\n                        }\n                        break;\n                    }\n                }\n            }, 500);\n            ",
      "text/plain": [
       "<IPython.core.display.Javascript object>"
      ]
     },
     "metadata": {},
     "output_type": "display_data"
    }
   ],
   "source": [
    "df_food_category_detail.shape"
   ]
  },
  {
   "cell_type": "code",
   "execution_count": 163,
   "id": "fc1b3407",
   "metadata": {},
   "outputs": [
    {
     "data": {
      "application/javascript": "\n            setTimeout(function() {\n                var nbb_cell_id = 163;\n                var nbb_unformatted_code = \"df_food_category_detail.to_csv('mysql_data/food_category_detail.csv', index = False)\";\n                var nbb_formatted_code = \"df_food_category_detail.to_csv(\\\"mysql_data/food_category_detail.csv\\\", index=False)\";\n                var nbb_cells = Jupyter.notebook.get_cells();\n                for (var i = 0; i < nbb_cells.length; ++i) {\n                    if (nbb_cells[i].input_prompt_number == nbb_cell_id) {\n                        if (nbb_cells[i].get_text() == nbb_unformatted_code) {\n                             nbb_cells[i].set_text(nbb_formatted_code);\n                        }\n                        break;\n                    }\n                }\n            }, 500);\n            ",
      "text/plain": [
       "<IPython.core.display.Javascript object>"
      ]
     },
     "metadata": {},
     "output_type": "display_data"
    }
   ],
   "source": [
    "df_food_category_detail.to_csv('mysql_data/food_category_detail.csv', index = False)"
   ]
  },
  {
   "cell_type": "code",
   "execution_count": 1194,
   "id": "52dd399a",
   "metadata": {},
   "outputs": [
    {
     "data": {
      "application/javascript": "\n            setTimeout(function() {\n                var nbb_cell_id = 1194;\n                var nbb_unformatted_code = \"insert_execute_many_large_dataset(df_food_category_detail, 'FoodCategoryDetail')\";\n                var nbb_formatted_code = \"insert_execute_many_large_dataset(df_food_category_detail, \\\"FoodCategoryDetail\\\")\";\n                var nbb_cells = Jupyter.notebook.get_cells();\n                for (var i = 0; i < nbb_cells.length; ++i) {\n                    if (nbb_cells[i].input_prompt_number == nbb_cell_id) {\n                        if (nbb_cells[i].get_text() == nbb_unformatted_code) {\n                             nbb_cells[i].set_text(nbb_formatted_code);\n                        }\n                        break;\n                    }\n                }\n            }, 500);\n            ",
      "text/plain": [
       "<IPython.core.display.Javascript object>"
      ]
     },
     "metadata": {},
     "output_type": "display_data"
    }
   ],
   "source": [
    "insert_execute_many_large_dataset(df_food_category_detail, 'FoodCategoryDetail')"
   ]
  },
  {
   "cell_type": "markdown",
   "id": "6762d9d3",
   "metadata": {},
   "source": [
    "#### Menu Category"
   ]
  },
  {
   "cell_type": "code",
   "execution_count": 233,
   "id": "50370cd9",
   "metadata": {},
   "outputs": [],
   "source": [
    "df.menu_category = df.menu_category.fillna('Others')"
   ]
  },
  {
   "cell_type": "code",
   "execution_count": 234,
   "id": "7d8a60c0",
   "metadata": {},
   "outputs": [],
   "source": [
    "df['menu_category_id'] = le.fit_transform(df.menu_category)\n",
    "df['menu_category_id'] = df['menu_category_id'] .apply(lambda x: x+1000000)"
   ]
  },
  {
   "cell_type": "code",
   "execution_count": 235,
   "id": "cdbc0b16",
   "metadata": {},
   "outputs": [],
   "source": [
    "df_menu_category =  df[['menu_category', 'provider_id', 'menu_category_id']]\n",
    "df_menu_category['position'] = 1"
   ]
  },
  {
   "cell_type": "code",
   "execution_count": 236,
   "id": "6614a225",
   "metadata": {},
   "outputs": [
    {
     "data": {
      "text/html": [
       "<div>\n",
       "<style scoped>\n",
       "    .dataframe tbody tr th:only-of-type {\n",
       "        vertical-align: middle;\n",
       "    }\n",
       "\n",
       "    .dataframe tbody tr th {\n",
       "        vertical-align: top;\n",
       "    }\n",
       "\n",
       "    .dataframe thead th {\n",
       "        text-align: right;\n",
       "    }\n",
       "</style>\n",
       "<table border=\"1\" class=\"dataframe\">\n",
       "  <thead>\n",
       "    <tr style=\"text-align: right;\">\n",
       "      <th></th>\n",
       "      <th>menu_category</th>\n",
       "      <th>provider_id</th>\n",
       "      <th>menu_category_id</th>\n",
       "      <th>position</th>\n",
       "    </tr>\n",
       "  </thead>\n",
       "  <tbody>\n",
       "    <tr>\n",
       "      <th>0</th>\n",
       "      <td>Most Popular</td>\n",
       "      <td>1000047</td>\n",
       "      <td>1000412</td>\n",
       "      <td>1</td>\n",
       "    </tr>\n",
       "    <tr>\n",
       "      <th>1</th>\n",
       "      <td>Most Popular</td>\n",
       "      <td>1000047</td>\n",
       "      <td>1000412</td>\n",
       "      <td>1</td>\n",
       "    </tr>\n",
       "    <tr>\n",
       "      <th>2</th>\n",
       "      <td>Most Popular</td>\n",
       "      <td>1000047</td>\n",
       "      <td>1000412</td>\n",
       "      <td>1</td>\n",
       "    </tr>\n",
       "    <tr>\n",
       "      <th>3</th>\n",
       "      <td>Most Popular</td>\n",
       "      <td>1000047</td>\n",
       "      <td>1000412</td>\n",
       "      <td>1</td>\n",
       "    </tr>\n",
       "    <tr>\n",
       "      <th>4</th>\n",
       "      <td>Most Popular</td>\n",
       "      <td>1000047</td>\n",
       "      <td>1000412</td>\n",
       "      <td>1</td>\n",
       "    </tr>\n",
       "    <tr>\n",
       "      <th>...</th>\n",
       "      <td>...</td>\n",
       "      <td>...</td>\n",
       "      <td>...</td>\n",
       "      <td>...</td>\n",
       "    </tr>\n",
       "    <tr>\n",
       "      <th>511445</th>\n",
       "      <td>Pet</td>\n",
       "      <td>1000035</td>\n",
       "      <td>1000459</td>\n",
       "      <td>1</td>\n",
       "    </tr>\n",
       "    <tr>\n",
       "      <th>511446</th>\n",
       "      <td>Pet</td>\n",
       "      <td>1000035</td>\n",
       "      <td>1000459</td>\n",
       "      <td>1</td>\n",
       "    </tr>\n",
       "    <tr>\n",
       "      <th>511447</th>\n",
       "      <td>Pet</td>\n",
       "      <td>1000035</td>\n",
       "      <td>1000459</td>\n",
       "      <td>1</td>\n",
       "    </tr>\n",
       "    <tr>\n",
       "      <th>511448</th>\n",
       "      <td>Pet</td>\n",
       "      <td>1000035</td>\n",
       "      <td>1000459</td>\n",
       "      <td>1</td>\n",
       "    </tr>\n",
       "    <tr>\n",
       "      <th>511449</th>\n",
       "      <td>Pet</td>\n",
       "      <td>1000035</td>\n",
       "      <td>1000459</td>\n",
       "      <td>1</td>\n",
       "    </tr>\n",
       "  </tbody>\n",
       "</table>\n",
       "<p>511450 rows × 4 columns</p>\n",
       "</div>"
      ],
      "text/plain": [
       "       menu_category  provider_id  menu_category_id  position\n",
       "0       Most Popular      1000047           1000412         1\n",
       "1       Most Popular      1000047           1000412         1\n",
       "2       Most Popular      1000047           1000412         1\n",
       "3       Most Popular      1000047           1000412         1\n",
       "4       Most Popular      1000047           1000412         1\n",
       "...              ...          ...               ...       ...\n",
       "511445           Pet      1000035           1000459         1\n",
       "511446           Pet      1000035           1000459         1\n",
       "511447           Pet      1000035           1000459         1\n",
       "511448           Pet      1000035           1000459         1\n",
       "511449           Pet      1000035           1000459         1\n",
       "\n",
       "[511450 rows x 4 columns]"
      ]
     },
     "execution_count": 236,
     "metadata": {},
     "output_type": "execute_result"
    }
   ],
   "source": [
    "df_menu_category"
   ]
  },
  {
   "cell_type": "code",
   "execution_count": 237,
   "id": "eaca7278",
   "metadata": {},
   "outputs": [],
   "source": [
    "df_menu_category = df_menu_category.drop_duplicates(subset=['menu_category', 'provider_id'],ignore_index=True)"
   ]
  },
  {
   "cell_type": "code",
   "execution_count": 238,
   "id": "a8c81ce5",
   "metadata": {},
   "outputs": [
    {
     "data": {
      "text/html": [
       "<div>\n",
       "<style scoped>\n",
       "    .dataframe tbody tr th:only-of-type {\n",
       "        vertical-align: middle;\n",
       "    }\n",
       "\n",
       "    .dataframe tbody tr th {\n",
       "        vertical-align: top;\n",
       "    }\n",
       "\n",
       "    .dataframe thead th {\n",
       "        text-align: right;\n",
       "    }\n",
       "</style>\n",
       "<table border=\"1\" class=\"dataframe\">\n",
       "  <thead>\n",
       "    <tr style=\"text-align: right;\">\n",
       "      <th></th>\n",
       "      <th>menu_category</th>\n",
       "      <th>provider_id</th>\n",
       "      <th>menu_category_id</th>\n",
       "      <th>position</th>\n",
       "    </tr>\n",
       "  </thead>\n",
       "  <tbody>\n",
       "    <tr>\n",
       "      <th>0</th>\n",
       "      <td>Most Popular</td>\n",
       "      <td>1000047</td>\n",
       "      <td>1000412</td>\n",
       "      <td>1</td>\n",
       "    </tr>\n",
       "    <tr>\n",
       "      <th>1</th>\n",
       "      <td>Breakfast Sandwiches and Burritos</td>\n",
       "      <td>1000047</td>\n",
       "      <td>1000080</td>\n",
       "      <td>1</td>\n",
       "    </tr>\n",
       "    <tr>\n",
       "      <th>2</th>\n",
       "      <td>Hot Drinks</td>\n",
       "      <td>1000047</td>\n",
       "      <td>1000333</td>\n",
       "      <td>1</td>\n",
       "    </tr>\n",
       "    <tr>\n",
       "      <th>3</th>\n",
       "      <td>Cold Drinks</td>\n",
       "      <td>1000047</td>\n",
       "      <td>1000170</td>\n",
       "      <td>1</td>\n",
       "    </tr>\n",
       "    <tr>\n",
       "      <th>4</th>\n",
       "      <td>Snacks &amp; Sides</td>\n",
       "      <td>1000047</td>\n",
       "      <td>1000578</td>\n",
       "      <td>1</td>\n",
       "    </tr>\n",
       "    <tr>\n",
       "      <th>...</th>\n",
       "      <td>...</td>\n",
       "      <td>...</td>\n",
       "      <td>...</td>\n",
       "      <td>...</td>\n",
       "    </tr>\n",
       "    <tr>\n",
       "      <th>1138</th>\n",
       "      <td>Better for you Beverage</td>\n",
       "      <td>1000035</td>\n",
       "      <td>1000057</td>\n",
       "      <td>1</td>\n",
       "    </tr>\n",
       "    <tr>\n",
       "      <th>1139</th>\n",
       "      <td>Cold Coffee &amp; Iced Tea</td>\n",
       "      <td>1000035</td>\n",
       "      <td>1000167</td>\n",
       "      <td>1</td>\n",
       "    </tr>\n",
       "    <tr>\n",
       "      <th>1140</th>\n",
       "      <td>Soft Drinks</td>\n",
       "      <td>1000035</td>\n",
       "      <td>1000580</td>\n",
       "      <td>1</td>\n",
       "    </tr>\n",
       "    <tr>\n",
       "      <th>1141</th>\n",
       "      <td>Confectionery</td>\n",
       "      <td>1000035</td>\n",
       "      <td>1000180</td>\n",
       "      <td>1</td>\n",
       "    </tr>\n",
       "    <tr>\n",
       "      <th>1142</th>\n",
       "      <td>Pet</td>\n",
       "      <td>1000035</td>\n",
       "      <td>1000459</td>\n",
       "      <td>1</td>\n",
       "    </tr>\n",
       "  </tbody>\n",
       "</table>\n",
       "<p>1143 rows × 4 columns</p>\n",
       "</div>"
      ],
      "text/plain": [
       "                          menu_category  provider_id  menu_category_id  \\\n",
       "0                          Most Popular      1000047           1000412   \n",
       "1     Breakfast Sandwiches and Burritos      1000047           1000080   \n",
       "2                            Hot Drinks      1000047           1000333   \n",
       "3                           Cold Drinks      1000047           1000170   \n",
       "4                        Snacks & Sides      1000047           1000578   \n",
       "...                                 ...          ...               ...   \n",
       "1138            Better for you Beverage      1000035           1000057   \n",
       "1139             Cold Coffee & Iced Tea      1000035           1000167   \n",
       "1140                        Soft Drinks      1000035           1000580   \n",
       "1141                      Confectionery      1000035           1000180   \n",
       "1142                                Pet      1000035           1000459   \n",
       "\n",
       "      position  \n",
       "0            1  \n",
       "1            1  \n",
       "2            1  \n",
       "3            1  \n",
       "4            1  \n",
       "...        ...  \n",
       "1138         1  \n",
       "1139         1  \n",
       "1140         1  \n",
       "1141         1  \n",
       "1142         1  \n",
       "\n",
       "[1143 rows x 4 columns]"
      ]
     },
     "execution_count": 238,
     "metadata": {},
     "output_type": "execute_result"
    }
   ],
   "source": [
    "df_menu_category"
   ]
  },
  {
   "cell_type": "code",
   "execution_count": 239,
   "id": "c65f4d39",
   "metadata": {},
   "outputs": [],
   "source": [
    "df_menu_category[\"menu_id\"] = list(\n",
    "    range(1000000, 1000000 + df_menu_category.shape[0], 1)\n",
    ")\n"
   ]
  },
  {
   "cell_type": "code",
   "execution_count": 240,
   "id": "3d13b196",
   "metadata": {},
   "outputs": [],
   "source": [
    "df_menu_category = df_menu_category[['menu_id', 'menu_category', 'provider_id', 'position']]\n",
    "\n",
    "df_menu_category = df_menu_category.rename(columns={'menu_category': 'name'})"
   ]
  },
  {
   "cell_type": "code",
   "execution_count": 241,
   "id": "24dae6f3",
   "metadata": {},
   "outputs": [
    {
     "data": {
      "text/html": [
       "<div>\n",
       "<style scoped>\n",
       "    .dataframe tbody tr th:only-of-type {\n",
       "        vertical-align: middle;\n",
       "    }\n",
       "\n",
       "    .dataframe tbody tr th {\n",
       "        vertical-align: top;\n",
       "    }\n",
       "\n",
       "    .dataframe thead th {\n",
       "        text-align: right;\n",
       "    }\n",
       "</style>\n",
       "<table border=\"1\" class=\"dataframe\">\n",
       "  <thead>\n",
       "    <tr style=\"text-align: right;\">\n",
       "      <th></th>\n",
       "      <th>menu_id</th>\n",
       "      <th>name</th>\n",
       "      <th>provider_id</th>\n",
       "      <th>position</th>\n",
       "    </tr>\n",
       "  </thead>\n",
       "  <tbody>\n",
       "    <tr>\n",
       "      <th>0</th>\n",
       "      <td>1000000</td>\n",
       "      <td>Most Popular</td>\n",
       "      <td>1000047</td>\n",
       "      <td>1</td>\n",
       "    </tr>\n",
       "    <tr>\n",
       "      <th>1</th>\n",
       "      <td>1000001</td>\n",
       "      <td>Breakfast Sandwiches and Burritos</td>\n",
       "      <td>1000047</td>\n",
       "      <td>1</td>\n",
       "    </tr>\n",
       "    <tr>\n",
       "      <th>2</th>\n",
       "      <td>1000002</td>\n",
       "      <td>Hot Drinks</td>\n",
       "      <td>1000047</td>\n",
       "      <td>1</td>\n",
       "    </tr>\n",
       "    <tr>\n",
       "      <th>3</th>\n",
       "      <td>1000003</td>\n",
       "      <td>Cold Drinks</td>\n",
       "      <td>1000047</td>\n",
       "      <td>1</td>\n",
       "    </tr>\n",
       "    <tr>\n",
       "      <th>4</th>\n",
       "      <td>1000004</td>\n",
       "      <td>Snacks &amp; Sides</td>\n",
       "      <td>1000047</td>\n",
       "      <td>1</td>\n",
       "    </tr>\n",
       "    <tr>\n",
       "      <th>...</th>\n",
       "      <td>...</td>\n",
       "      <td>...</td>\n",
       "      <td>...</td>\n",
       "      <td>...</td>\n",
       "    </tr>\n",
       "    <tr>\n",
       "      <th>1138</th>\n",
       "      <td>1001138</td>\n",
       "      <td>Better for you Beverage</td>\n",
       "      <td>1000035</td>\n",
       "      <td>1</td>\n",
       "    </tr>\n",
       "    <tr>\n",
       "      <th>1139</th>\n",
       "      <td>1001139</td>\n",
       "      <td>Cold Coffee &amp; Iced Tea</td>\n",
       "      <td>1000035</td>\n",
       "      <td>1</td>\n",
       "    </tr>\n",
       "    <tr>\n",
       "      <th>1140</th>\n",
       "      <td>1001140</td>\n",
       "      <td>Soft Drinks</td>\n",
       "      <td>1000035</td>\n",
       "      <td>1</td>\n",
       "    </tr>\n",
       "    <tr>\n",
       "      <th>1141</th>\n",
       "      <td>1001141</td>\n",
       "      <td>Confectionery</td>\n",
       "      <td>1000035</td>\n",
       "      <td>1</td>\n",
       "    </tr>\n",
       "    <tr>\n",
       "      <th>1142</th>\n",
       "      <td>1001142</td>\n",
       "      <td>Pet</td>\n",
       "      <td>1000035</td>\n",
       "      <td>1</td>\n",
       "    </tr>\n",
       "  </tbody>\n",
       "</table>\n",
       "<p>1143 rows × 4 columns</p>\n",
       "</div>"
      ],
      "text/plain": [
       "      menu_id                               name  provider_id  position\n",
       "0     1000000                       Most Popular      1000047         1\n",
       "1     1000001  Breakfast Sandwiches and Burritos      1000047         1\n",
       "2     1000002                         Hot Drinks      1000047         1\n",
       "3     1000003                        Cold Drinks      1000047         1\n",
       "4     1000004                     Snacks & Sides      1000047         1\n",
       "...       ...                                ...          ...       ...\n",
       "1138  1001138            Better for you Beverage      1000035         1\n",
       "1139  1001139             Cold Coffee & Iced Tea      1000035         1\n",
       "1140  1001140                        Soft Drinks      1000035         1\n",
       "1141  1001141                      Confectionery      1000035         1\n",
       "1142  1001142                                Pet      1000035         1\n",
       "\n",
       "[1143 rows x 4 columns]"
      ]
     },
     "execution_count": 241,
     "metadata": {},
     "output_type": "execute_result"
    }
   ],
   "source": [
    "df_menu_category"
   ]
  },
  {
   "cell_type": "code",
   "execution_count": 242,
   "id": "4c6930e3",
   "metadata": {},
   "outputs": [
    {
     "name": "stdout",
     "output_type": "stream",
     "text": [
      "<class 'pandas.core.frame.DataFrame'>\n",
      "RangeIndex: 1143 entries, 0 to 1142\n",
      "Data columns (total 4 columns):\n",
      " #   Column       Non-Null Count  Dtype \n",
      "---  ------       --------------  ----- \n",
      " 0   menu_id      1143 non-null   int64 \n",
      " 1   name         1143 non-null   object\n",
      " 2   provider_id  1143 non-null   int64 \n",
      " 3   position     1143 non-null   int64 \n",
      "dtypes: int64(3), object(1)\n",
      "memory usage: 35.8+ KB\n"
     ]
    }
   ],
   "source": [
    "df_menu_category.info()"
   ]
  },
  {
   "cell_type": "code",
   "execution_count": 243,
   "id": "711057ca",
   "metadata": {},
   "outputs": [],
   "source": [
    "df_menu_category.to_csv('mysql_data/menu_category.csv', index = False)"
   ]
  },
  {
   "cell_type": "code",
   "execution_count": 1205,
   "id": "d0d24a81",
   "metadata": {},
   "outputs": [
    {
     "data": {
      "application/javascript": "\n            setTimeout(function() {\n                var nbb_cell_id = 1205;\n                var nbb_unformatted_code = \"insert_execute_many_large_dataset(df_menu_category, 'MenuCategory')\";\n                var nbb_formatted_code = \"insert_execute_many_large_dataset(df_menu_category, \\\"MenuCategory\\\")\";\n                var nbb_cells = Jupyter.notebook.get_cells();\n                for (var i = 0; i < nbb_cells.length; ++i) {\n                    if (nbb_cells[i].input_prompt_number == nbb_cell_id) {\n                        if (nbb_cells[i].get_text() == nbb_unformatted_code) {\n                             nbb_cells[i].set_text(nbb_formatted_code);\n                        }\n                        break;\n                    }\n                }\n            }, 500);\n            ",
      "text/plain": [
       "<IPython.core.display.Javascript object>"
      ]
     },
     "metadata": {},
     "output_type": "display_data"
    }
   ],
   "source": [
    "insert_execute_many_large_dataset(df_menu_category, 'MenuCategory')"
   ]
  },
  {
   "cell_type": "markdown",
   "id": "b4b94043",
   "metadata": {},
   "source": [
    "#### Menu Category Detail"
   ]
  },
  {
   "cell_type": "code",
   "execution_count": 244,
   "id": "5d2bbafb",
   "metadata": {},
   "outputs": [],
   "source": [
    "df_menu_category_detail = df[['menu_category_id', 'product_id']]"
   ]
  },
  {
   "cell_type": "code",
   "execution_count": 245,
   "id": "04a5bb16",
   "metadata": {},
   "outputs": [],
   "source": [
    "df_menu_category_detail = df_menu_category_detail.rename(\n",
    "    columns={\"menu_category_id\": \"menu_id\"}\n",
    ")\n"
   ]
  },
  {
   "cell_type": "code",
   "execution_count": 246,
   "id": "d02b185e",
   "metadata": {},
   "outputs": [
    {
     "data": {
      "text/html": [
       "<div>\n",
       "<style scoped>\n",
       "    .dataframe tbody tr th:only-of-type {\n",
       "        vertical-align: middle;\n",
       "    }\n",
       "\n",
       "    .dataframe tbody tr th {\n",
       "        vertical-align: top;\n",
       "    }\n",
       "\n",
       "    .dataframe thead th {\n",
       "        text-align: right;\n",
       "    }\n",
       "</style>\n",
       "<table border=\"1\" class=\"dataframe\">\n",
       "  <thead>\n",
       "    <tr style=\"text-align: right;\">\n",
       "      <th></th>\n",
       "      <th>menu_id</th>\n",
       "      <th>product_id</th>\n",
       "    </tr>\n",
       "  </thead>\n",
       "  <tbody>\n",
       "    <tr>\n",
       "      <th>0</th>\n",
       "      <td>1000412</td>\n",
       "      <td>1002564</td>\n",
       "    </tr>\n",
       "    <tr>\n",
       "      <th>1</th>\n",
       "      <td>1000412</td>\n",
       "      <td>1002564</td>\n",
       "    </tr>\n",
       "    <tr>\n",
       "      <th>2</th>\n",
       "      <td>1000412</td>\n",
       "      <td>1002564</td>\n",
       "    </tr>\n",
       "    <tr>\n",
       "      <th>3</th>\n",
       "      <td>1000412</td>\n",
       "      <td>1002564</td>\n",
       "    </tr>\n",
       "    <tr>\n",
       "      <th>4</th>\n",
       "      <td>1000412</td>\n",
       "      <td>1002564</td>\n",
       "    </tr>\n",
       "    <tr>\n",
       "      <th>...</th>\n",
       "      <td>...</td>\n",
       "      <td>...</td>\n",
       "    </tr>\n",
       "    <tr>\n",
       "      <th>511445</th>\n",
       "      <td>1000459</td>\n",
       "      <td>1006762</td>\n",
       "    </tr>\n",
       "    <tr>\n",
       "      <th>511446</th>\n",
       "      <td>1000459</td>\n",
       "      <td>1006762</td>\n",
       "    </tr>\n",
       "    <tr>\n",
       "      <th>511447</th>\n",
       "      <td>1000459</td>\n",
       "      <td>1006762</td>\n",
       "    </tr>\n",
       "    <tr>\n",
       "      <th>511448</th>\n",
       "      <td>1000459</td>\n",
       "      <td>1006762</td>\n",
       "    </tr>\n",
       "    <tr>\n",
       "      <th>511449</th>\n",
       "      <td>1000459</td>\n",
       "      <td>1006762</td>\n",
       "    </tr>\n",
       "  </tbody>\n",
       "</table>\n",
       "<p>511450 rows × 2 columns</p>\n",
       "</div>"
      ],
      "text/plain": [
       "        menu_id  product_id\n",
       "0       1000412     1002564\n",
       "1       1000412     1002564\n",
       "2       1000412     1002564\n",
       "3       1000412     1002564\n",
       "4       1000412     1002564\n",
       "...         ...         ...\n",
       "511445  1000459     1006762\n",
       "511446  1000459     1006762\n",
       "511447  1000459     1006762\n",
       "511448  1000459     1006762\n",
       "511449  1000459     1006762\n",
       "\n",
       "[511450 rows x 2 columns]"
      ]
     },
     "execution_count": 246,
     "metadata": {},
     "output_type": "execute_result"
    }
   ],
   "source": [
    "df_menu_category_detail"
   ]
  },
  {
   "cell_type": "code",
   "execution_count": 247,
   "id": "fedd9ec3",
   "metadata": {},
   "outputs": [],
   "source": [
    "df_menu_category_detail = df_menu_category_detail.drop_duplicates()"
   ]
  },
  {
   "cell_type": "code",
   "execution_count": 248,
   "id": "e444edac",
   "metadata": {},
   "outputs": [],
   "source": [
    "df_menu_category_detail.to_csv('mysql_data/menu_category_detail.csv', index = False)"
   ]
  },
  {
   "cell_type": "code",
   "execution_count": 1210,
   "id": "19d41e78",
   "metadata": {},
   "outputs": [
    {
     "data": {
      "application/javascript": "\n            setTimeout(function() {\n                var nbb_cell_id = 1210;\n                var nbb_unformatted_code = \"insert_execute_many_large_dataset(df_menu_category_detail, 'MenuCategoryDetail')\";\n                var nbb_formatted_code = \"insert_execute_many_large_dataset(df_menu_category_detail, \\\"MenuCategoryDetail\\\")\";\n                var nbb_cells = Jupyter.notebook.get_cells();\n                for (var i = 0; i < nbb_cells.length; ++i) {\n                    if (nbb_cells[i].input_prompt_number == nbb_cell_id) {\n                        if (nbb_cells[i].get_text() == nbb_unformatted_code) {\n                             nbb_cells[i].set_text(nbb_formatted_code);\n                        }\n                        break;\n                    }\n                }\n            }, 500);\n            ",
      "text/plain": [
       "<IPython.core.display.Javascript object>"
      ]
     },
     "metadata": {},
     "output_type": "display_data"
    }
   ],
   "source": [
    "insert_execute_many_large_dataset(df_menu_category_detail, 'MenuCategoryDetail')"
   ]
  },
  {
   "cell_type": "markdown",
   "id": "7a535c96",
   "metadata": {},
   "source": [
    "### TEST\n",
    "---"
   ]
  },
  {
   "cell_type": "markdown",
   "id": "1bd0fb63",
   "metadata": {},
   "source": [
    "### Fix menu category"
   ]
  },
  {
   "cell_type": "code",
   "execution_count": 290,
   "id": "e6d8721f",
   "metadata": {},
   "outputs": [
    {
     "data": {
      "application/javascript": "\n            setTimeout(function() {\n                var nbb_cell_id = 290;\n                var nbb_unformatted_code = \"df_new = pd.read_csv('data/output_restaurant.csv')\";\n                var nbb_formatted_code = \"df_new = pd.read_csv(\\\"data/output_restaurant.csv\\\")\";\n                var nbb_cells = Jupyter.notebook.get_cells();\n                for (var i = 0; i < nbb_cells.length; ++i) {\n                    if (nbb_cells[i].input_prompt_number == nbb_cell_id) {\n                        if (nbb_cells[i].get_text() == nbb_unformatted_code) {\n                             nbb_cells[i].set_text(nbb_formatted_code);\n                        }\n                        break;\n                    }\n                }\n            }, 500);\n            ",
      "text/plain": [
       "<IPython.core.display.Javascript object>"
      ]
     },
     "metadata": {},
     "output_type": "display_data"
    }
   ],
   "source": [
    "df_new = pd.read_csv('data/output_restaurant.csv')\n"
   ]
  },
  {
   "cell_type": "code",
   "execution_count": 291,
   "id": "d88f0304",
   "metadata": {},
   "outputs": [
    {
     "data": {
      "application/javascript": "\n            setTimeout(function() {\n                var nbb_cell_id = 291;\n                var nbb_unformatted_code = \"df_new.menu_category = df_new.menu_category.fillna('Others')\";\n                var nbb_formatted_code = \"df_new.menu_category = df_new.menu_category.fillna(\\\"Others\\\")\";\n                var nbb_cells = Jupyter.notebook.get_cells();\n                for (var i = 0; i < nbb_cells.length; ++i) {\n                    if (nbb_cells[i].input_prompt_number == nbb_cell_id) {\n                        if (nbb_cells[i].get_text() == nbb_unformatted_code) {\n                             nbb_cells[i].set_text(nbb_formatted_code);\n                        }\n                        break;\n                    }\n                }\n            }, 500);\n            ",
      "text/plain": [
       "<IPython.core.display.Javascript object>"
      ]
     },
     "metadata": {},
     "output_type": "display_data"
    }
   ],
   "source": [
    "df_new.menu_category = df_new.menu_category.fillna('Others')"
   ]
  },
  {
   "cell_type": "code",
   "execution_count": 292,
   "id": "11fcee79",
   "metadata": {},
   "outputs": [
    {
     "data": {
      "application/javascript": "\n            setTimeout(function() {\n                var nbb_cell_id = 292;\n                var nbb_unformatted_code = \"le = preprocessing.LabelEncoder()\\ndf_new[\\\"product_id\\\"] = le.fit_transform(df_new['product_name'])\\n\\ndf_new[\\\"product_id\\\"] = df_new[\\\"product_id\\\"].apply(lambda x: x+1000000)\";\n                var nbb_formatted_code = \"le = preprocessing.LabelEncoder()\\ndf_new[\\\"product_id\\\"] = le.fit_transform(df_new[\\\"product_name\\\"])\\n\\ndf_new[\\\"product_id\\\"] = df_new[\\\"product_id\\\"].apply(lambda x: x + 1000000)\";\n                var nbb_cells = Jupyter.notebook.get_cells();\n                for (var i = 0; i < nbb_cells.length; ++i) {\n                    if (nbb_cells[i].input_prompt_number == nbb_cell_id) {\n                        if (nbb_cells[i].get_text() == nbb_unformatted_code) {\n                             nbb_cells[i].set_text(nbb_formatted_code);\n                        }\n                        break;\n                    }\n                }\n            }, 500);\n            ",
      "text/plain": [
       "<IPython.core.display.Javascript object>"
      ]
     },
     "metadata": {},
     "output_type": "display_data"
    }
   ],
   "source": [
    "le = preprocessing.LabelEncoder()\n",
    "df_new[\"product_id\"] = le.fit_transform(df_new['product_name'])\n",
    "\n",
    "df_new[\"product_id\"] = df_new[\"product_id\"].apply(lambda x: x+1000000)"
   ]
  },
  {
   "cell_type": "code",
   "execution_count": 293,
   "id": "f508fcf2",
   "metadata": {},
   "outputs": [
    {
     "data": {
      "application/javascript": "\n            setTimeout(function() {\n                var nbb_cell_id = 293;\n                var nbb_unformatted_code = \"df_new[\\\"provider_id\\\"] = le.fit_transform(df_new['restaurant_url'])\\n\\ndf_new[\\\"provider_id\\\"] = df_new[\\\"provider_id\\\"].apply(lambda x: x+1000000)\";\n                var nbb_formatted_code = \"df_new[\\\"provider_id\\\"] = le.fit_transform(df_new[\\\"restaurant_url\\\"])\\n\\ndf_new[\\\"provider_id\\\"] = df_new[\\\"provider_id\\\"].apply(lambda x: x + 1000000)\";\n                var nbb_cells = Jupyter.notebook.get_cells();\n                for (var i = 0; i < nbb_cells.length; ++i) {\n                    if (nbb_cells[i].input_prompt_number == nbb_cell_id) {\n                        if (nbb_cells[i].get_text() == nbb_unformatted_code) {\n                             nbb_cells[i].set_text(nbb_formatted_code);\n                        }\n                        break;\n                    }\n                }\n            }, 500);\n            ",
      "text/plain": [
       "<IPython.core.display.Javascript object>"
      ]
     },
     "metadata": {},
     "output_type": "display_data"
    }
   ],
   "source": [
    "df_new[\"provider_id\"] = le.fit_transform(df_new['restaurant_url'])\n",
    "\n",
    "df_new[\"provider_id\"] = df_new[\"provider_id\"].apply(lambda x: x+1000000)"
   ]
  },
  {
   "cell_type": "code",
   "execution_count": 294,
   "id": "064e950a",
   "metadata": {},
   "outputs": [
    {
     "data": {
      "application/javascript": "\n            setTimeout(function() {\n                var nbb_cell_id = 294;\n                var nbb_unformatted_code = \"df_new.dropna(subset=[\\\"product_name\\\"], inplace=True)\";\n                var nbb_formatted_code = \"df_new.dropna(subset=[\\\"product_name\\\"], inplace=True)\";\n                var nbb_cells = Jupyter.notebook.get_cells();\n                for (var i = 0; i < nbb_cells.length; ++i) {\n                    if (nbb_cells[i].input_prompt_number == nbb_cell_id) {\n                        if (nbb_cells[i].get_text() == nbb_unformatted_code) {\n                             nbb_cells[i].set_text(nbb_formatted_code);\n                        }\n                        break;\n                    }\n                }\n            }, 500);\n            ",
      "text/plain": [
       "<IPython.core.display.Javascript object>"
      ]
     },
     "metadata": {},
     "output_type": "display_data"
    }
   ],
   "source": [
    "df_new.dropna(subset=[\"product_name\"], inplace=True)\n"
   ]
  },
  {
   "cell_type": "code",
   "execution_count": 295,
   "id": "58c0d5c2",
   "metadata": {},
   "outputs": [
    {
     "data": {
      "application/javascript": "\n            setTimeout(function() {\n                var nbb_cell_id = 295;\n                var nbb_unformatted_code = \"df_new.reset_index(inplace = True)\";\n                var nbb_formatted_code = \"df_new.reset_index(inplace=True)\";\n                var nbb_cells = Jupyter.notebook.get_cells();\n                for (var i = 0; i < nbb_cells.length; ++i) {\n                    if (nbb_cells[i].input_prompt_number == nbb_cell_id) {\n                        if (nbb_cells[i].get_text() == nbb_unformatted_code) {\n                             nbb_cells[i].set_text(nbb_formatted_code);\n                        }\n                        break;\n                    }\n                }\n            }, 500);\n            ",
      "text/plain": [
       "<IPython.core.display.Javascript object>"
      ]
     },
     "metadata": {},
     "output_type": "display_data"
    }
   ],
   "source": [
    "df_new.reset_index(inplace = True)"
   ]
  },
  {
   "cell_type": "code",
   "execution_count": 296,
   "id": "add42dcf",
   "metadata": {},
   "outputs": [
    {
     "name": "stdout",
     "output_type": "stream",
     "text": [
      "<class 'pandas.core.frame.DataFrame'>\n",
      "RangeIndex: 509449 entries, 0 to 509448\n",
      "Data columns (total 17 columns):\n",
      " #   Column                  Non-Null Count   Dtype  \n",
      "---  ------                  --------------   -----  \n",
      " 0   index                   509449 non-null  int64  \n",
      " 1   restaurant_description  290189 non-null  object \n",
      " 2   rating                  509449 non-null  float64\n",
      " 3   num_review              509449 non-null  int64  \n",
      " 4   menu_category           509449 non-null  object \n",
      " 5   product_name            509449 non-null  object \n",
      " 6   price                   504914 non-null  float64\n",
      " 7   product_description     286605 non-null  object \n",
      " 8   status                  480711 non-null  object \n",
      " 9   product_image           253880 non-null  object \n",
      " 10  restaurant_url          509449 non-null  object \n",
      " 11  restaurant_name         509449 non-null  object \n",
      " 12  avt_restaurant          509201 non-null  object \n",
      " 13  restaurant_category     509449 non-null  object \n",
      " 14  city                    509449 non-null  object \n",
      " 15  product_id              509449 non-null  int64  \n",
      " 16  provider_id             509449 non-null  int64  \n",
      "dtypes: float64(2), int64(4), object(11)\n",
      "memory usage: 66.1+ MB\n"
     ]
    },
    {
     "data": {
      "application/javascript": "\n            setTimeout(function() {\n                var nbb_cell_id = 296;\n                var nbb_unformatted_code = \"df_new.info()\";\n                var nbb_formatted_code = \"df_new.info()\";\n                var nbb_cells = Jupyter.notebook.get_cells();\n                for (var i = 0; i < nbb_cells.length; ++i) {\n                    if (nbb_cells[i].input_prompt_number == nbb_cell_id) {\n                        if (nbb_cells[i].get_text() == nbb_unformatted_code) {\n                             nbb_cells[i].set_text(nbb_formatted_code);\n                        }\n                        break;\n                    }\n                }\n            }, 500);\n            ",
      "text/plain": [
       "<IPython.core.display.Javascript object>"
      ]
     },
     "metadata": {},
     "output_type": "display_data"
    }
   ],
   "source": [
    "df_new.info()"
   ]
  },
  {
   "cell_type": "code",
   "execution_count": 297,
   "id": "b06b04e2",
   "metadata": {},
   "outputs": [
    {
     "data": {
      "application/javascript": "\n            setTimeout(function() {\n                var nbb_cell_id = 297;\n                var nbb_unformatted_code = \"df_new_2 = df_new[['menu_category', 'product_id', 'product_name', 'provider_id']]\";\n                var nbb_formatted_code = \"df_new_2 = df_new[[\\\"menu_category\\\", \\\"product_id\\\", \\\"product_name\\\", \\\"provider_id\\\"]]\";\n                var nbb_cells = Jupyter.notebook.get_cells();\n                for (var i = 0; i < nbb_cells.length; ++i) {\n                    if (nbb_cells[i].input_prompt_number == nbb_cell_id) {\n                        if (nbb_cells[i].get_text() == nbb_unformatted_code) {\n                             nbb_cells[i].set_text(nbb_formatted_code);\n                        }\n                        break;\n                    }\n                }\n            }, 500);\n            ",
      "text/plain": [
       "<IPython.core.display.Javascript object>"
      ]
     },
     "metadata": {},
     "output_type": "display_data"
    }
   ],
   "source": [
    "df_new_2 = df_new[['menu_category', 'product_id', 'product_name', 'provider_id']]"
   ]
  },
  {
   "cell_type": "code",
   "execution_count": 301,
   "id": "cb21d56d",
   "metadata": {},
   "outputs": [
    {
     "data": {
      "text/plain": [
       "(13972, 5)"
      ]
     },
     "execution_count": 301,
     "metadata": {},
     "output_type": "execute_result"
    },
    {
     "data": {
      "application/javascript": "\n            setTimeout(function() {\n                var nbb_cell_id = 301;\n                var nbb_unformatted_code = \"df_new_2.shape\";\n                var nbb_formatted_code = \"df_new_2.shape\";\n                var nbb_cells = Jupyter.notebook.get_cells();\n                for (var i = 0; i < nbb_cells.length; ++i) {\n                    if (nbb_cells[i].input_prompt_number == nbb_cell_id) {\n                        if (nbb_cells[i].get_text() == nbb_unformatted_code) {\n                             nbb_cells[i].set_text(nbb_formatted_code);\n                        }\n                        break;\n                    }\n                }\n            }, 500);\n            ",
      "text/plain": [
       "<IPython.core.display.Javascript object>"
      ]
     },
     "metadata": {},
     "output_type": "display_data"
    }
   ],
   "source": [
    "df_new_2.shape"
   ]
  },
  {
   "cell_type": "code",
   "execution_count": 299,
   "id": "4f3deca0",
   "metadata": {},
   "outputs": [
    {
     "data": {
      "application/javascript": "\n            setTimeout(function() {\n                var nbb_cell_id = 299;\n                var nbb_unformatted_code = \"df_new_2 = df_new_2.drop_duplicates()\";\n                var nbb_formatted_code = \"df_new_2 = df_new_2.drop_duplicates()\";\n                var nbb_cells = Jupyter.notebook.get_cells();\n                for (var i = 0; i < nbb_cells.length; ++i) {\n                    if (nbb_cells[i].input_prompt_number == nbb_cell_id) {\n                        if (nbb_cells[i].get_text() == nbb_unformatted_code) {\n                             nbb_cells[i].set_text(nbb_formatted_code);\n                        }\n                        break;\n                    }\n                }\n            }, 500);\n            ",
      "text/plain": [
       "<IPython.core.display.Javascript object>"
      ]
     },
     "metadata": {},
     "output_type": "display_data"
    }
   ],
   "source": [
    "df_new_2 = df_new_2.drop_duplicates()"
   ]
  },
  {
   "cell_type": "code",
   "execution_count": 300,
   "id": "213b724d",
   "metadata": {},
   "outputs": [
    {
     "data": {
      "application/javascript": "\n            setTimeout(function() {\n                var nbb_cell_id = 300;\n                var nbb_unformatted_code = \"df_new_2[\\\"menu_id\\\"] = list(range(1000000, 1000000 + len(df_new_2), 1))\";\n                var nbb_formatted_code = \"df_new_2[\\\"menu_id\\\"] = list(range(1000000, 1000000 + len(df_new_2), 1))\";\n                var nbb_cells = Jupyter.notebook.get_cells();\n                for (var i = 0; i < nbb_cells.length; ++i) {\n                    if (nbb_cells[i].input_prompt_number == nbb_cell_id) {\n                        if (nbb_cells[i].get_text() == nbb_unformatted_code) {\n                             nbb_cells[i].set_text(nbb_formatted_code);\n                        }\n                        break;\n                    }\n                }\n            }, 500);\n            ",
      "text/plain": [
       "<IPython.core.display.Javascript object>"
      ]
     },
     "metadata": {},
     "output_type": "display_data"
    }
   ],
   "source": [
    "df_new_2[\"menu_id\"] = list(range(1000000, 1000000 + len(df_new_2), 1))"
   ]
  },
  {
   "cell_type": "code",
   "execution_count": 302,
   "id": "55da37c3",
   "metadata": {},
   "outputs": [
    {
     "data": {
      "text/html": [
       "<div>\n",
       "<style scoped>\n",
       "    .dataframe tbody tr th:only-of-type {\n",
       "        vertical-align: middle;\n",
       "    }\n",
       "\n",
       "    .dataframe tbody tr th {\n",
       "        vertical-align: top;\n",
       "    }\n",
       "\n",
       "    .dataframe thead th {\n",
       "        text-align: right;\n",
       "    }\n",
       "</style>\n",
       "<table border=\"1\" class=\"dataframe\">\n",
       "  <thead>\n",
       "    <tr style=\"text-align: right;\">\n",
       "      <th></th>\n",
       "      <th>menu_category</th>\n",
       "      <th>product_id</th>\n",
       "      <th>product_name</th>\n",
       "      <th>provider_id</th>\n",
       "      <th>menu_id</th>\n",
       "    </tr>\n",
       "  </thead>\n",
       "  <tbody>\n",
       "    <tr>\n",
       "      <th>0</th>\n",
       "      <td>Most Popular</td>\n",
       "      <td>1002564</td>\n",
       "      <td>Chicken McMuffin Extra Value Meal [523.0 Cals]</td>\n",
       "      <td>1000047</td>\n",
       "      <td>1000000</td>\n",
       "    </tr>\n",
       "    <tr>\n",
       "      <th>29</th>\n",
       "      <td>Most Popular</td>\n",
       "      <td>1003816</td>\n",
       "      <td>Egg McMuffin Extra Value Meal [450.0 Cals]</td>\n",
       "      <td>1000047</td>\n",
       "      <td>1000001</td>\n",
       "    </tr>\n",
       "    <tr>\n",
       "      <th>58</th>\n",
       "      <td>Most Popular</td>\n",
       "      <td>1001234</td>\n",
       "      <td>Bacon 'N Egg McMuffin Extra Value Meal [470.0 ...</td>\n",
       "      <td>1000047</td>\n",
       "      <td>1000002</td>\n",
       "    </tr>\n",
       "    <tr>\n",
       "      <th>87</th>\n",
       "      <td>Most Popular</td>\n",
       "      <td>1009201</td>\n",
       "      <td>Sausage 'N Egg McMuffin Extra Value Meal [590....</td>\n",
       "      <td>1000047</td>\n",
       "      <td>1000003</td>\n",
       "    </tr>\n",
       "    <tr>\n",
       "      <th>116</th>\n",
       "      <td>Breakfast Sandwiches and Burritos</td>\n",
       "      <td>1002564</td>\n",
       "      <td>Chicken McMuffin Extra Value Meal [523.0 Cals]</td>\n",
       "      <td>1000047</td>\n",
       "      <td>1000004</td>\n",
       "    </tr>\n",
       "  </tbody>\n",
       "</table>\n",
       "</div>"
      ],
      "text/plain": [
       "                         menu_category  product_id  \\\n",
       "0                         Most Popular     1002564   \n",
       "29                        Most Popular     1003816   \n",
       "58                        Most Popular     1001234   \n",
       "87                        Most Popular     1009201   \n",
       "116  Breakfast Sandwiches and Burritos     1002564   \n",
       "\n",
       "                                          product_name  provider_id  menu_id  \n",
       "0       Chicken McMuffin Extra Value Meal [523.0 Cals]      1000047  1000000  \n",
       "29          Egg McMuffin Extra Value Meal [450.0 Cals]      1000047  1000001  \n",
       "58   Bacon 'N Egg McMuffin Extra Value Meal [470.0 ...      1000047  1000002  \n",
       "87   Sausage 'N Egg McMuffin Extra Value Meal [590....      1000047  1000003  \n",
       "116     Chicken McMuffin Extra Value Meal [523.0 Cals]      1000047  1000004  "
      ]
     },
     "execution_count": 302,
     "metadata": {},
     "output_type": "execute_result"
    },
    {
     "data": {
      "application/javascript": "\n            setTimeout(function() {\n                var nbb_cell_id = 302;\n                var nbb_unformatted_code = \"df_new_2.head()\";\n                var nbb_formatted_code = \"df_new_2.head()\";\n                var nbb_cells = Jupyter.notebook.get_cells();\n                for (var i = 0; i < nbb_cells.length; ++i) {\n                    if (nbb_cells[i].input_prompt_number == nbb_cell_id) {\n                        if (nbb_cells[i].get_text() == nbb_unformatted_code) {\n                             nbb_cells[i].set_text(nbb_formatted_code);\n                        }\n                        break;\n                    }\n                }\n            }, 500);\n            ",
      "text/plain": [
       "<IPython.core.display.Javascript object>"
      ]
     },
     "metadata": {},
     "output_type": "display_data"
    }
   ],
   "source": [
    "df_new_2.head()"
   ]
  },
  {
   "cell_type": "code",
   "execution_count": 264,
   "id": "38b45124",
   "metadata": {},
   "outputs": [
    {
     "data": {
      "application/javascript": "\n            setTimeout(function() {\n                var nbb_cell_id = 264;\n                var nbb_unformatted_code = \"df_menu_category_new =  df_new_2[['menu_id', 'menu_category', 'provider_id']]\";\n                var nbb_formatted_code = \"df_menu_category_new = df_new_2[[\\\"menu_id\\\", \\\"menu_category\\\", \\\"provider_id\\\"]]\";\n                var nbb_cells = Jupyter.notebook.get_cells();\n                for (var i = 0; i < nbb_cells.length; ++i) {\n                    if (nbb_cells[i].input_prompt_number == nbb_cell_id) {\n                        if (nbb_cells[i].get_text() == nbb_unformatted_code) {\n                             nbb_cells[i].set_text(nbb_formatted_code);\n                        }\n                        break;\n                    }\n                }\n            }, 500);\n            ",
      "text/plain": [
       "<IPython.core.display.Javascript object>"
      ]
     },
     "metadata": {},
     "output_type": "display_data"
    }
   ],
   "source": [
    "df_menu_category_new =  df_new_2[['menu_id', 'menu_category', 'provider_id']]"
   ]
  },
  {
   "cell_type": "code",
   "execution_count": 265,
   "id": "9f2c1fe9",
   "metadata": {},
   "outputs": [
    {
     "data": {
      "application/javascript": "\n            setTimeout(function() {\n                var nbb_cell_id = 265;\n                var nbb_unformatted_code = \"df_menu_category_new = df_menu_category_new.rename(columns={'menu_category':'name'})\";\n                var nbb_formatted_code = \"df_menu_category_new = df_menu_category_new.rename(columns={\\\"menu_category\\\": \\\"name\\\"})\";\n                var nbb_cells = Jupyter.notebook.get_cells();\n                for (var i = 0; i < nbb_cells.length; ++i) {\n                    if (nbb_cells[i].input_prompt_number == nbb_cell_id) {\n                        if (nbb_cells[i].get_text() == nbb_unformatted_code) {\n                             nbb_cells[i].set_text(nbb_formatted_code);\n                        }\n                        break;\n                    }\n                }\n            }, 500);\n            ",
      "text/plain": [
       "<IPython.core.display.Javascript object>"
      ]
     },
     "metadata": {},
     "output_type": "display_data"
    }
   ],
   "source": [
    "df_menu_category_new = df_menu_category_new.rename(columns={'menu_category':'name'})"
   ]
  },
  {
   "cell_type": "code",
   "execution_count": 266,
   "id": "6119ebd0",
   "metadata": {},
   "outputs": [
    {
     "data": {
      "text/html": [
       "<div>\n",
       "<style scoped>\n",
       "    .dataframe tbody tr th:only-of-type {\n",
       "        vertical-align: middle;\n",
       "    }\n",
       "\n",
       "    .dataframe tbody tr th {\n",
       "        vertical-align: top;\n",
       "    }\n",
       "\n",
       "    .dataframe thead th {\n",
       "        text-align: right;\n",
       "    }\n",
       "</style>\n",
       "<table border=\"1\" class=\"dataframe\">\n",
       "  <thead>\n",
       "    <tr style=\"text-align: right;\">\n",
       "      <th></th>\n",
       "      <th>menu_id</th>\n",
       "      <th>name</th>\n",
       "      <th>provider_id</th>\n",
       "    </tr>\n",
       "  </thead>\n",
       "  <tbody>\n",
       "    <tr>\n",
       "      <th>0</th>\n",
       "      <td>1000000</td>\n",
       "      <td>Most Popular</td>\n",
       "      <td>1000047</td>\n",
       "    </tr>\n",
       "    <tr>\n",
       "      <th>29</th>\n",
       "      <td>1000001</td>\n",
       "      <td>Most Popular</td>\n",
       "      <td>1000047</td>\n",
       "    </tr>\n",
       "    <tr>\n",
       "      <th>58</th>\n",
       "      <td>1000002</td>\n",
       "      <td>Most Popular</td>\n",
       "      <td>1000047</td>\n",
       "    </tr>\n",
       "    <tr>\n",
       "      <th>87</th>\n",
       "      <td>1000003</td>\n",
       "      <td>Most Popular</td>\n",
       "      <td>1000047</td>\n",
       "    </tr>\n",
       "    <tr>\n",
       "      <th>116</th>\n",
       "      <td>1000004</td>\n",
       "      <td>Breakfast Sandwiches and Burritos</td>\n",
       "      <td>1000047</td>\n",
       "    </tr>\n",
       "    <tr>\n",
       "      <th>...</th>\n",
       "      <td>...</td>\n",
       "      <td>...</td>\n",
       "      <td>...</td>\n",
       "    </tr>\n",
       "    <tr>\n",
       "      <th>509424</th>\n",
       "      <td>1013967</td>\n",
       "      <td>Pet</td>\n",
       "      <td>1000035</td>\n",
       "    </tr>\n",
       "    <tr>\n",
       "      <th>509429</th>\n",
       "      <td>1013968</td>\n",
       "      <td>Pet</td>\n",
       "      <td>1000035</td>\n",
       "    </tr>\n",
       "    <tr>\n",
       "      <th>509434</th>\n",
       "      <td>1013969</td>\n",
       "      <td>Pet</td>\n",
       "      <td>1000035</td>\n",
       "    </tr>\n",
       "    <tr>\n",
       "      <th>509439</th>\n",
       "      <td>1013970</td>\n",
       "      <td>Pet</td>\n",
       "      <td>1000035</td>\n",
       "    </tr>\n",
       "    <tr>\n",
       "      <th>509444</th>\n",
       "      <td>1013971</td>\n",
       "      <td>Pet</td>\n",
       "      <td>1000035</td>\n",
       "    </tr>\n",
       "  </tbody>\n",
       "</table>\n",
       "<p>13972 rows × 3 columns</p>\n",
       "</div>"
      ],
      "text/plain": [
       "        menu_id                               name  provider_id\n",
       "0       1000000                       Most Popular      1000047\n",
       "29      1000001                       Most Popular      1000047\n",
       "58      1000002                       Most Popular      1000047\n",
       "87      1000003                       Most Popular      1000047\n",
       "116     1000004  Breakfast Sandwiches and Burritos      1000047\n",
       "...         ...                                ...          ...\n",
       "509424  1013967                                Pet      1000035\n",
       "509429  1013968                                Pet      1000035\n",
       "509434  1013969                                Pet      1000035\n",
       "509439  1013970                                Pet      1000035\n",
       "509444  1013971                                Pet      1000035\n",
       "\n",
       "[13972 rows x 3 columns]"
      ]
     },
     "execution_count": 266,
     "metadata": {},
     "output_type": "execute_result"
    },
    {
     "data": {
      "application/javascript": "\n            setTimeout(function() {\n                var nbb_cell_id = 266;\n                var nbb_unformatted_code = \"df_menu_category_new\";\n                var nbb_formatted_code = \"df_menu_category_new\";\n                var nbb_cells = Jupyter.notebook.get_cells();\n                for (var i = 0; i < nbb_cells.length; ++i) {\n                    if (nbb_cells[i].input_prompt_number == nbb_cell_id) {\n                        if (nbb_cells[i].get_text() == nbb_unformatted_code) {\n                             nbb_cells[i].set_text(nbb_formatted_code);\n                        }\n                        break;\n                    }\n                }\n            }, 500);\n            ",
      "text/plain": [
       "<IPython.core.display.Javascript object>"
      ]
     },
     "metadata": {},
     "output_type": "display_data"
    }
   ],
   "source": [
    "df_menu_category_new"
   ]
  },
  {
   "cell_type": "code",
   "execution_count": 267,
   "id": "c2b85769",
   "metadata": {},
   "outputs": [
    {
     "data": {
      "text/plain": [
       "(13972, 3)"
      ]
     },
     "execution_count": 267,
     "metadata": {},
     "output_type": "execute_result"
    },
    {
     "data": {
      "application/javascript": "\n            setTimeout(function() {\n                var nbb_cell_id = 267;\n                var nbb_unformatted_code = \"df_menu_category_new.shape\";\n                var nbb_formatted_code = \"df_menu_category_new.shape\";\n                var nbb_cells = Jupyter.notebook.get_cells();\n                for (var i = 0; i < nbb_cells.length; ++i) {\n                    if (nbb_cells[i].input_prompt_number == nbb_cell_id) {\n                        if (nbb_cells[i].get_text() == nbb_unformatted_code) {\n                             nbb_cells[i].set_text(nbb_formatted_code);\n                        }\n                        break;\n                    }\n                }\n            }, 500);\n            ",
      "text/plain": [
       "<IPython.core.display.Javascript object>"
      ]
     },
     "metadata": {},
     "output_type": "display_data"
    }
   ],
   "source": [
    "df_menu_category_new.shape"
   ]
  },
  {
   "cell_type": "code",
   "execution_count": 274,
   "id": "c47caa7c",
   "metadata": {},
   "outputs": [
    {
     "data": {
      "application/javascript": "\n            setTimeout(function() {\n                var nbb_cell_id = 274;\n                var nbb_unformatted_code = \"df_menu_category_new = df_menu_category_new.drop_duplicates(subset=['name', 'provider_id'])\";\n                var nbb_formatted_code = \"df_menu_category_new = df_menu_category_new.drop_duplicates(\\n    subset=[\\\"name\\\", \\\"provider_id\\\"]\\n)\";\n                var nbb_cells = Jupyter.notebook.get_cells();\n                for (var i = 0; i < nbb_cells.length; ++i) {\n                    if (nbb_cells[i].input_prompt_number == nbb_cell_id) {\n                        if (nbb_cells[i].get_text() == nbb_unformatted_code) {\n                             nbb_cells[i].set_text(nbb_formatted_code);\n                        }\n                        break;\n                    }\n                }\n            }, 500);\n            ",
      "text/plain": [
       "<IPython.core.display.Javascript object>"
      ]
     },
     "metadata": {},
     "output_type": "display_data"
    }
   ],
   "source": [
    "df_menu_category_new = df_menu_category_new.drop_duplicates(subset=['name', 'provider_id'])"
   ]
  },
  {
   "cell_type": "code",
   "execution_count": 275,
   "id": "efe09daa",
   "metadata": {},
   "outputs": [
    {
     "data": {
      "text/plain": [
       "(1142, 4)"
      ]
     },
     "execution_count": 275,
     "metadata": {},
     "output_type": "execute_result"
    },
    {
     "data": {
      "application/javascript": "\n            setTimeout(function() {\n                var nbb_cell_id = 275;\n                var nbb_unformatted_code = \"df_menu_category_new.shape\";\n                var nbb_formatted_code = \"df_menu_category_new.shape\";\n                var nbb_cells = Jupyter.notebook.get_cells();\n                for (var i = 0; i < nbb_cells.length; ++i) {\n                    if (nbb_cells[i].input_prompt_number == nbb_cell_id) {\n                        if (nbb_cells[i].get_text() == nbb_unformatted_code) {\n                             nbb_cells[i].set_text(nbb_formatted_code);\n                        }\n                        break;\n                    }\n                }\n            }, 500);\n            ",
      "text/plain": [
       "<IPython.core.display.Javascript object>"
      ]
     },
     "metadata": {},
     "output_type": "display_data"
    }
   ],
   "source": [
    "df_menu_category_new.shape"
   ]
  },
  {
   "cell_type": "code",
   "execution_count": 270,
   "id": "cb6e00fb",
   "metadata": {},
   "outputs": [
    {
     "data": {
      "application/javascript": "\n            setTimeout(function() {\n                var nbb_cell_id = 270;\n                var nbb_unformatted_code = \"df_menu_category_new['position'] = 1\";\n                var nbb_formatted_code = \"df_menu_category_new[\\\"position\\\"] = 1\";\n                var nbb_cells = Jupyter.notebook.get_cells();\n                for (var i = 0; i < nbb_cells.length; ++i) {\n                    if (nbb_cells[i].input_prompt_number == nbb_cell_id) {\n                        if (nbb_cells[i].get_text() == nbb_unformatted_code) {\n                             nbb_cells[i].set_text(nbb_formatted_code);\n                        }\n                        break;\n                    }\n                }\n            }, 500);\n            ",
      "text/plain": [
       "<IPython.core.display.Javascript object>"
      ]
     },
     "metadata": {},
     "output_type": "display_data"
    }
   ],
   "source": [
    "df_menu_category_new['position'] = 1"
   ]
  },
  {
   "cell_type": "code",
   "execution_count": 276,
   "id": "1f82dd02",
   "metadata": {},
   "outputs": [
    {
     "data": {
      "text/html": [
       "<div>\n",
       "<style scoped>\n",
       "    .dataframe tbody tr th:only-of-type {\n",
       "        vertical-align: middle;\n",
       "    }\n",
       "\n",
       "    .dataframe tbody tr th {\n",
       "        vertical-align: top;\n",
       "    }\n",
       "\n",
       "    .dataframe thead th {\n",
       "        text-align: right;\n",
       "    }\n",
       "</style>\n",
       "<table border=\"1\" class=\"dataframe\">\n",
       "  <thead>\n",
       "    <tr style=\"text-align: right;\">\n",
       "      <th></th>\n",
       "      <th>menu_id</th>\n",
       "      <th>name</th>\n",
       "      <th>provider_id</th>\n",
       "      <th>position</th>\n",
       "    </tr>\n",
       "  </thead>\n",
       "  <tbody>\n",
       "    <tr>\n",
       "      <th>0</th>\n",
       "      <td>1000000</td>\n",
       "      <td>Most Popular</td>\n",
       "      <td>1000047</td>\n",
       "      <td>1</td>\n",
       "    </tr>\n",
       "    <tr>\n",
       "      <th>116</th>\n",
       "      <td>1000004</td>\n",
       "      <td>Breakfast Sandwiches and Burritos</td>\n",
       "      <td>1000047</td>\n",
       "      <td>1</td>\n",
       "    </tr>\n",
       "    <tr>\n",
       "      <th>232</th>\n",
       "      <td>1000008</td>\n",
       "      <td>Hot Drinks</td>\n",
       "      <td>1000047</td>\n",
       "      <td>1</td>\n",
       "    </tr>\n",
       "    <tr>\n",
       "      <th>377</th>\n",
       "      <td>1000013</td>\n",
       "      <td>Cold Drinks</td>\n",
       "      <td>1000047</td>\n",
       "      <td>1</td>\n",
       "    </tr>\n",
       "    <tr>\n",
       "      <th>928</th>\n",
       "      <td>1000032</td>\n",
       "      <td>Snacks &amp; Sides</td>\n",
       "      <td>1000047</td>\n",
       "      <td>1</td>\n",
       "    </tr>\n",
       "    <tr>\n",
       "      <th>...</th>\n",
       "      <td>...</td>\n",
       "      <td>...</td>\n",
       "      <td>...</td>\n",
       "      <td>...</td>\n",
       "    </tr>\n",
       "    <tr>\n",
       "      <th>508929</th>\n",
       "      <td>1013868</td>\n",
       "      <td>Better for you Beverage</td>\n",
       "      <td>1000035</td>\n",
       "      <td>1</td>\n",
       "    </tr>\n",
       "    <tr>\n",
       "      <th>509004</th>\n",
       "      <td>1013883</td>\n",
       "      <td>Cold Coffee &amp; Iced Tea</td>\n",
       "      <td>1000035</td>\n",
       "      <td>1</td>\n",
       "    </tr>\n",
       "    <tr>\n",
       "      <th>509124</th>\n",
       "      <td>1013907</td>\n",
       "      <td>Soft Drinks</td>\n",
       "      <td>1000035</td>\n",
       "      <td>1</td>\n",
       "    </tr>\n",
       "    <tr>\n",
       "      <th>509194</th>\n",
       "      <td>1013921</td>\n",
       "      <td>Confectionery</td>\n",
       "      <td>1000035</td>\n",
       "      <td>1</td>\n",
       "    </tr>\n",
       "    <tr>\n",
       "      <th>509384</th>\n",
       "      <td>1013959</td>\n",
       "      <td>Pet</td>\n",
       "      <td>1000035</td>\n",
       "      <td>1</td>\n",
       "    </tr>\n",
       "  </tbody>\n",
       "</table>\n",
       "<p>1142 rows × 4 columns</p>\n",
       "</div>"
      ],
      "text/plain": [
       "        menu_id                               name  provider_id  position\n",
       "0       1000000                       Most Popular      1000047         1\n",
       "116     1000004  Breakfast Sandwiches and Burritos      1000047         1\n",
       "232     1000008                         Hot Drinks      1000047         1\n",
       "377     1000013                        Cold Drinks      1000047         1\n",
       "928     1000032                     Snacks & Sides      1000047         1\n",
       "...         ...                                ...          ...       ...\n",
       "508929  1013868            Better for you Beverage      1000035         1\n",
       "509004  1013883             Cold Coffee & Iced Tea      1000035         1\n",
       "509124  1013907                        Soft Drinks      1000035         1\n",
       "509194  1013921                      Confectionery      1000035         1\n",
       "509384  1013959                                Pet      1000035         1\n",
       "\n",
       "[1142 rows x 4 columns]"
      ]
     },
     "execution_count": 276,
     "metadata": {},
     "output_type": "execute_result"
    },
    {
     "data": {
      "application/javascript": "\n            setTimeout(function() {\n                var nbb_cell_id = 276;\n                var nbb_unformatted_code = \"df_menu_category_new\";\n                var nbb_formatted_code = \"df_menu_category_new\";\n                var nbb_cells = Jupyter.notebook.get_cells();\n                for (var i = 0; i < nbb_cells.length; ++i) {\n                    if (nbb_cells[i].input_prompt_number == nbb_cell_id) {\n                        if (nbb_cells[i].get_text() == nbb_unformatted_code) {\n                             nbb_cells[i].set_text(nbb_formatted_code);\n                        }\n                        break;\n                    }\n                }\n            }, 500);\n            ",
      "text/plain": [
       "<IPython.core.display.Javascript object>"
      ]
     },
     "metadata": {},
     "output_type": "display_data"
    }
   ],
   "source": [
    "df_menu_category_new"
   ]
  },
  {
   "cell_type": "code",
   "execution_count": 277,
   "id": "be53cda0",
   "metadata": {},
   "outputs": [
    {
     "data": {
      "application/javascript": "\n            setTimeout(function() {\n                var nbb_cell_id = 277;\n                var nbb_unformatted_code = \"insert_execute_many(df_menu_category_new, 'MenuCategory')\";\n                var nbb_formatted_code = \"insert_execute_many(df_menu_category_new, \\\"MenuCategory\\\")\";\n                var nbb_cells = Jupyter.notebook.get_cells();\n                for (var i = 0; i < nbb_cells.length; ++i) {\n                    if (nbb_cells[i].input_prompt_number == nbb_cell_id) {\n                        if (nbb_cells[i].get_text() == nbb_unformatted_code) {\n                             nbb_cells[i].set_text(nbb_formatted_code);\n                        }\n                        break;\n                    }\n                }\n            }, 500);\n            ",
      "text/plain": [
       "<IPython.core.display.Javascript object>"
      ]
     },
     "metadata": {},
     "output_type": "display_data"
    }
   ],
   "source": [
    "insert_execute_many(df_menu_category_new, 'MenuCategory')"
   ]
  },
  {
   "cell_type": "markdown",
   "id": "2ed8b941",
   "metadata": {},
   "source": [
    "### Menu category Detail Fix"
   ]
  },
  {
   "cell_type": "code",
   "execution_count": 279,
   "id": "902ff0e1",
   "metadata": {},
   "outputs": [
    {
     "data": {
      "application/javascript": "\n            setTimeout(function() {\n                var nbb_cell_id = 279;\n                var nbb_unformatted_code = \"df_new_menu_detail = df_new_2[['menu_id', 'product_id']]\";\n                var nbb_formatted_code = \"df_new_menu_detail = df_new_2[[\\\"menu_id\\\", \\\"product_id\\\"]]\";\n                var nbb_cells = Jupyter.notebook.get_cells();\n                for (var i = 0; i < nbb_cells.length; ++i) {\n                    if (nbb_cells[i].input_prompt_number == nbb_cell_id) {\n                        if (nbb_cells[i].get_text() == nbb_unformatted_code) {\n                             nbb_cells[i].set_text(nbb_formatted_code);\n                        }\n                        break;\n                    }\n                }\n            }, 500);\n            ",
      "text/plain": [
       "<IPython.core.display.Javascript object>"
      ]
     },
     "metadata": {},
     "output_type": "display_data"
    }
   ],
   "source": [
    "df_new_menu_detail = df_new_2[['menu_id', 'product_id']]"
   ]
  },
  {
   "cell_type": "code",
   "execution_count": 280,
   "id": "668cdd97",
   "metadata": {},
   "outputs": [
    {
     "data": {
      "text/html": [
       "<div>\n",
       "<style scoped>\n",
       "    .dataframe tbody tr th:only-of-type {\n",
       "        vertical-align: middle;\n",
       "    }\n",
       "\n",
       "    .dataframe tbody tr th {\n",
       "        vertical-align: top;\n",
       "    }\n",
       "\n",
       "    .dataframe thead th {\n",
       "        text-align: right;\n",
       "    }\n",
       "</style>\n",
       "<table border=\"1\" class=\"dataframe\">\n",
       "  <thead>\n",
       "    <tr style=\"text-align: right;\">\n",
       "      <th></th>\n",
       "      <th>menu_id</th>\n",
       "      <th>product_id</th>\n",
       "    </tr>\n",
       "  </thead>\n",
       "  <tbody>\n",
       "    <tr>\n",
       "      <th>0</th>\n",
       "      <td>1000000</td>\n",
       "      <td>1002564</td>\n",
       "    </tr>\n",
       "    <tr>\n",
       "      <th>29</th>\n",
       "      <td>1000001</td>\n",
       "      <td>1003816</td>\n",
       "    </tr>\n",
       "    <tr>\n",
       "      <th>58</th>\n",
       "      <td>1000002</td>\n",
       "      <td>1001234</td>\n",
       "    </tr>\n",
       "    <tr>\n",
       "      <th>87</th>\n",
       "      <td>1000003</td>\n",
       "      <td>1009201</td>\n",
       "    </tr>\n",
       "    <tr>\n",
       "      <th>116</th>\n",
       "      <td>1000004</td>\n",
       "      <td>1002564</td>\n",
       "    </tr>\n",
       "    <tr>\n",
       "      <th>...</th>\n",
       "      <td>...</td>\n",
       "      <td>...</td>\n",
       "    </tr>\n",
       "    <tr>\n",
       "      <th>509424</th>\n",
       "      <td>1013967</td>\n",
       "      <td>1004337</td>\n",
       "    </tr>\n",
       "    <tr>\n",
       "      <th>509429</th>\n",
       "      <td>1013968</td>\n",
       "      <td>1008466</td>\n",
       "    </tr>\n",
       "    <tr>\n",
       "      <th>509434</th>\n",
       "      <td>1013969</td>\n",
       "      <td>1008475</td>\n",
       "    </tr>\n",
       "    <tr>\n",
       "      <th>509439</th>\n",
       "      <td>1013970</td>\n",
       "      <td>1007987</td>\n",
       "    </tr>\n",
       "    <tr>\n",
       "      <th>509444</th>\n",
       "      <td>1013971</td>\n",
       "      <td>1006762</td>\n",
       "    </tr>\n",
       "  </tbody>\n",
       "</table>\n",
       "<p>13972 rows × 2 columns</p>\n",
       "</div>"
      ],
      "text/plain": [
       "        menu_id  product_id\n",
       "0       1000000     1002564\n",
       "29      1000001     1003816\n",
       "58      1000002     1001234\n",
       "87      1000003     1009201\n",
       "116     1000004     1002564\n",
       "...         ...         ...\n",
       "509424  1013967     1004337\n",
       "509429  1013968     1008466\n",
       "509434  1013969     1008475\n",
       "509439  1013970     1007987\n",
       "509444  1013971     1006762\n",
       "\n",
       "[13972 rows x 2 columns]"
      ]
     },
     "execution_count": 280,
     "metadata": {},
     "output_type": "execute_result"
    },
    {
     "data": {
      "application/javascript": "\n            setTimeout(function() {\n                var nbb_cell_id = 280;\n                var nbb_unformatted_code = \"df_new_menu_detail\";\n                var nbb_formatted_code = \"df_new_menu_detail\";\n                var nbb_cells = Jupyter.notebook.get_cells();\n                for (var i = 0; i < nbb_cells.length; ++i) {\n                    if (nbb_cells[i].input_prompt_number == nbb_cell_id) {\n                        if (nbb_cells[i].get_text() == nbb_unformatted_code) {\n                             nbb_cells[i].set_text(nbb_formatted_code);\n                        }\n                        break;\n                    }\n                }\n            }, 500);\n            ",
      "text/plain": [
       "<IPython.core.display.Javascript object>"
      ]
     },
     "metadata": {},
     "output_type": "display_data"
    }
   ],
   "source": [
    "df_new_menu_detail"
   ]
  },
  {
   "cell_type": "code",
   "execution_count": 281,
   "id": "2ae1c866",
   "metadata": {},
   "outputs": [
    {
     "data": {
      "application/javascript": "\n            setTimeout(function() {\n                var nbb_cell_id = 281;\n                var nbb_unformatted_code = \"df_new_menu_detail = df_new_menu_detail.drop_duplicates()\";\n                var nbb_formatted_code = \"df_new_menu_detail = df_new_menu_detail.drop_duplicates()\";\n                var nbb_cells = Jupyter.notebook.get_cells();\n                for (var i = 0; i < nbb_cells.length; ++i) {\n                    if (nbb_cells[i].input_prompt_number == nbb_cell_id) {\n                        if (nbb_cells[i].get_text() == nbb_unformatted_code) {\n                             nbb_cells[i].set_text(nbb_formatted_code);\n                        }\n                        break;\n                    }\n                }\n            }, 500);\n            ",
      "text/plain": [
       "<IPython.core.display.Javascript object>"
      ]
     },
     "metadata": {},
     "output_type": "display_data"
    }
   ],
   "source": [
    "df_new_menu_detail = df_new_menu_detail.drop_duplicates()"
   ]
  },
  {
   "cell_type": "code",
   "execution_count": 282,
   "id": "46a60ca7",
   "metadata": {},
   "outputs": [
    {
     "name": "stdout",
     "output_type": "stream",
     "text": [
      "Failed to insert into MySQL table 1452 (23000): Cannot add or update a child row: a foreign key constraint fails (`tastie`.`menucategorydetail`, CONSTRAINT `FK_MenuCategories_belongto_MenuCategory` FOREIGN KEY (`menu_id`) REFERENCES `menucategory` (`menu_id`))\n"
     ]
    },
    {
     "data": {
      "application/javascript": "\n            setTimeout(function() {\n                var nbb_cell_id = 282;\n                var nbb_unformatted_code = \"insert_execute_many_large_dataset(df_new_menu_detail, 'MenuCategoryDetail')\";\n                var nbb_formatted_code = \"insert_execute_many_large_dataset(df_new_menu_detail, \\\"MenuCategoryDetail\\\")\";\n                var nbb_cells = Jupyter.notebook.get_cells();\n                for (var i = 0; i < nbb_cells.length; ++i) {\n                    if (nbb_cells[i].input_prompt_number == nbb_cell_id) {\n                        if (nbb_cells[i].get_text() == nbb_unformatted_code) {\n                             nbb_cells[i].set_text(nbb_formatted_code);\n                        }\n                        break;\n                    }\n                }\n            }, 500);\n            ",
      "text/plain": [
       "<IPython.core.display.Javascript object>"
      ]
     },
     "metadata": {},
     "output_type": "display_data"
    }
   ],
   "source": [
    "insert_execute_many_large_dataset(df_new_menu_detail, 'MenuCategoryDetail')"
   ]
  },
  {
   "cell_type": "code",
   "execution_count": null,
   "id": "2eef0094",
   "metadata": {},
   "outputs": [],
   "source": []
  },
  {
   "cell_type": "code",
   "execution_count": null,
   "id": "7ea48fd9",
   "metadata": {},
   "outputs": [],
   "source": []
  },
  {
   "cell_type": "code",
   "execution_count": 1211,
   "id": "28c283c1",
   "metadata": {
    "ExecuteTime": {
     "end_time": "2022-03-07T15:36:42.539580Z",
     "start_time": "2022-03-07T15:36:42.517569Z"
    }
   },
   "outputs": [
    {
     "data": {
      "application/javascript": "\n            setTimeout(function() {\n                var nbb_cell_id = 1211;\n                var nbb_unformatted_code = \"# user_name = \\\"root\\\"\\n# pwd = \\\"Trung99\\\"\\n# server = \\\"localhost\\\"\\n# db = \\\"tastie\\\"\\n\\n# conn_str = \\\"mysql+pymysql://{user}:{password}@{host}/{database}?charset=utf8\\\".format(\\n#     user=user_name, password=pwd, host=server, database=db\\n# )\\n\\n# %sql $conn_str\";\n                var nbb_formatted_code = \"# user_name = \\\"root\\\"\\n# pwd = \\\"Trung99\\\"\\n# server = \\\"localhost\\\"\\n# db = \\\"tastie\\\"\\n\\n# conn_str = \\\"mysql+pymysql://{user}:{password}@{host}/{database}?charset=utf8\\\".format(\\n#     user=user_name, password=pwd, host=server, database=db\\n# )\\n\\n# %sql $conn_str\";\n                var nbb_cells = Jupyter.notebook.get_cells();\n                for (var i = 0; i < nbb_cells.length; ++i) {\n                    if (nbb_cells[i].input_prompt_number == nbb_cell_id) {\n                        if (nbb_cells[i].get_text() == nbb_unformatted_code) {\n                             nbb_cells[i].set_text(nbb_formatted_code);\n                        }\n                        break;\n                    }\n                }\n            }, 500);\n            ",
      "text/plain": [
       "<IPython.core.display.Javascript object>"
      ]
     },
     "metadata": {},
     "output_type": "display_data"
    }
   ],
   "source": [
    "# user_name = \"root\"\n",
    "# pwd = \"Trung99\"\n",
    "# server = \"localhost\"\n",
    "# db = \"tastie\"\n",
    "\n",
    "# conn_str = \"mysql+pymysql://{user}:{password}@{host}/{database}?charset=utf8\".format(\n",
    "#     user=user_name, password=pwd, host=server, database=db\n",
    "# )\n",
    "\n",
    "# %sql $conn_str"
   ]
  },
  {
   "cell_type": "code",
   "execution_count": 1212,
   "id": "59d1197e",
   "metadata": {},
   "outputs": [
    {
     "data": {
      "application/javascript": "\n            setTimeout(function() {\n                var nbb_cell_id = 1212;\n                var nbb_unformatted_code = \"# df.res\";\n                var nbb_formatted_code = \"# df.res\";\n                var nbb_cells = Jupyter.notebook.get_cells();\n                for (var i = 0; i < nbb_cells.length; ++i) {\n                    if (nbb_cells[i].input_prompt_number == nbb_cell_id) {\n                        if (nbb_cells[i].get_text() == nbb_unformatted_code) {\n                             nbb_cells[i].set_text(nbb_formatted_code);\n                        }\n                        break;\n                    }\n                }\n            }, 500);\n            ",
      "text/plain": [
       "<IPython.core.display.Javascript object>"
      ]
     },
     "metadata": {},
     "output_type": "display_data"
    }
   ],
   "source": [
    "# df.res"
   ]
  },
  {
   "cell_type": "code",
   "execution_count": 1219,
   "id": "bbfc2a53",
   "metadata": {},
   "outputs": [
    {
     "data": {
      "application/javascript": "\n            setTimeout(function() {\n                var nbb_cell_id = 1219;\n                var nbb_unformatted_code = \"df.to_csv('test.csv', index=False)\";\n                var nbb_formatted_code = \"df.to_csv(\\\"test.csv\\\", index=False)\";\n                var nbb_cells = Jupyter.notebook.get_cells();\n                for (var i = 0; i < nbb_cells.length; ++i) {\n                    if (nbb_cells[i].input_prompt_number == nbb_cell_id) {\n                        if (nbb_cells[i].get_text() == nbb_unformatted_code) {\n                             nbb_cells[i].set_text(nbb_formatted_code);\n                        }\n                        break;\n                    }\n                }\n            }, 500);\n            ",
      "text/plain": [
       "<IPython.core.display.Javascript object>"
      ]
     },
     "metadata": {},
     "output_type": "display_data"
    }
   ],
   "source": [
    "df.to_csv('test.csv', index=False)"
   ]
  },
  {
   "cell_type": "code",
   "execution_count": null,
   "id": "53c5e246",
   "metadata": {},
   "outputs": [],
   "source": []
  },
  {
   "cell_type": "code",
   "execution_count": null,
   "id": "70a20012",
   "metadata": {},
   "outputs": [],
   "source": []
  },
  {
   "cell_type": "code",
   "execution_count": null,
   "id": "91efa9b2",
   "metadata": {},
   "outputs": [],
   "source": []
  },
  {
   "cell_type": "code",
   "execution_count": 1213,
   "id": "34ba967a",
   "metadata": {
    "ExecuteTime": {
     "end_time": "2022-03-07T20:09:35.142383Z",
     "start_time": "2022-03-07T20:09:35.119473Z"
    }
   },
   "outputs": [
    {
     "data": {
      "application/javascript": "\n            setTimeout(function() {\n                var nbb_cell_id = 1213;\n                var nbb_unformatted_code = \"# cur.close()\\n# conn.close()\";\n                var nbb_formatted_code = \"# cur.close()\\n# conn.close()\";\n                var nbb_cells = Jupyter.notebook.get_cells();\n                for (var i = 0; i < nbb_cells.length; ++i) {\n                    if (nbb_cells[i].input_prompt_number == nbb_cell_id) {\n                        if (nbb_cells[i].get_text() == nbb_unformatted_code) {\n                             nbb_cells[i].set_text(nbb_formatted_code);\n                        }\n                        break;\n                    }\n                }\n            }, 500);\n            ",
      "text/plain": [
       "<IPython.core.display.Javascript object>"
      ]
     },
     "metadata": {},
     "output_type": "display_data"
    }
   ],
   "source": [
    "# cur.close()\n",
    "# conn.close()"
   ]
  },
  {
   "cell_type": "code",
   "execution_count": null,
   "id": "eb22552f",
   "metadata": {},
   "outputs": [],
   "source": []
  },
  {
   "cell_type": "code",
   "execution_count": null,
   "id": "09bf3f3d",
   "metadata": {},
   "outputs": [],
   "source": []
  },
  {
   "cell_type": "code",
   "execution_count": null,
   "id": "1af31a98",
   "metadata": {},
   "outputs": [],
   "source": []
  },
  {
   "cell_type": "code",
   "execution_count": 1214,
   "id": "459446c4",
   "metadata": {
    "ExecuteTime": {
     "end_time": "2022-03-18T04:51:22.551568Z",
     "start_time": "2022-03-18T04:51:22.476562Z"
    }
   },
   "outputs": [
    {
     "data": {
      "application/javascript": "\n            setTimeout(function() {\n                var nbb_cell_id = 1214;\n                var nbb_unformatted_code = \"# from geopy.geocoders import Nominatim\";\n                var nbb_formatted_code = \"# from geopy.geocoders import Nominatim\";\n                var nbb_cells = Jupyter.notebook.get_cells();\n                for (var i = 0; i < nbb_cells.length; ++i) {\n                    if (nbb_cells[i].input_prompt_number == nbb_cell_id) {\n                        if (nbb_cells[i].get_text() == nbb_unformatted_code) {\n                             nbb_cells[i].set_text(nbb_formatted_code);\n                        }\n                        break;\n                    }\n                }\n            }, 500);\n            ",
      "text/plain": [
       "<IPython.core.display.Javascript object>"
      ]
     },
     "metadata": {},
     "output_type": "display_data"
    }
   ],
   "source": [
    "# from geopy.geocoders import Nominatim"
   ]
  },
  {
   "cell_type": "code",
   "execution_count": 1215,
   "id": "a3d6443f",
   "metadata": {
    "ExecuteTime": {
     "end_time": "2022-03-18T04:51:48.144514Z",
     "start_time": "2022-03-18T04:51:48.074382Z"
    }
   },
   "outputs": [
    {
     "data": {
      "application/javascript": "\n            setTimeout(function() {\n                var nbb_cell_id = 1215;\n                var nbb_unformatted_code = \"# geolocator = Nominatim(user_agent=\\\"specify_your_app_name_here\\\")\";\n                var nbb_formatted_code = \"# geolocator = Nominatim(user_agent=\\\"specify_your_app_name_here\\\")\";\n                var nbb_cells = Jupyter.notebook.get_cells();\n                for (var i = 0; i < nbb_cells.length; ++i) {\n                    if (nbb_cells[i].input_prompt_number == nbb_cell_id) {\n                        if (nbb_cells[i].get_text() == nbb_unformatted_code) {\n                             nbb_cells[i].set_text(nbb_formatted_code);\n                        }\n                        break;\n                    }\n                }\n            }, 500);\n            ",
      "text/plain": [
       "<IPython.core.display.Javascript object>"
      ]
     },
     "metadata": {},
     "output_type": "display_data"
    }
   ],
   "source": [
    "# geolocator = Nominatim(user_agent=\"specify_your_app_name_here\")"
   ]
  },
  {
   "cell_type": "code",
   "execution_count": null,
   "id": "b11682f5",
   "metadata": {},
   "outputs": [],
   "source": []
  }
 ],
 "metadata": {
  "kernelspec": {
   "display_name": "Python 3 (ipykernel)",
   "language": "python",
   "name": "python3"
  },
  "language_info": {
   "codemirror_mode": {
    "name": "ipython",
    "version": 3
   },
   "file_extension": ".py",
   "mimetype": "text/x-python",
   "name": "python",
   "nbconvert_exporter": "python",
   "pygments_lexer": "ipython3",
   "version": "3.10.2"
  },
  "varInspector": {
   "cols": {
    "lenName": 16,
    "lenType": 16,
    "lenVar": 40
   },
   "kernels_config": {
    "python": {
     "delete_cmd_postfix": "",
     "delete_cmd_prefix": "del ",
     "library": "var_list.py",
     "varRefreshCmd": "print(var_dic_list())"
    },
    "r": {
     "delete_cmd_postfix": ") ",
     "delete_cmd_prefix": "rm(",
     "library": "var_list.r",
     "varRefreshCmd": "cat(var_dic_list()) "
    }
   },
   "types_to_exclude": [
    "module",
    "function",
    "builtin_function_or_method",
    "instance",
    "_Feature"
   ],
   "window_display": false
  }
 },
 "nbformat": 4,
 "nbformat_minor": 5
}
