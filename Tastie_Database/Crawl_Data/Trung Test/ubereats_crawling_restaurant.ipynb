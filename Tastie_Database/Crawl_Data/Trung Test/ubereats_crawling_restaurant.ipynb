{
 "cells": [
  {
   "cell_type": "code",
   "execution_count": 1,
   "metadata": {},
   "outputs": [
    {
     "data": {
      "application/javascript": "\n            setTimeout(function() {\n                var nbb_cell_id = 1;\n                var nbb_unformatted_code = \"import warnings\\n\\nwarnings.filterwarnings(\\\"ignore\\\")\\nfrom selenium.webdriver.common.keys import Keys\\nfrom selenium.webdriver.support.ui import WebDriverWait\\nfrom selenium.webdriver.common.by import By\\nfrom selenium.webdriver.support import expected_conditions as EC\\nfrom selenium.common.exceptions import NoSuchElementException\\nfrom selenium import webdriver\\nfrom selenium.webdriver.chrome.options import Options\\n\\nimport pandas as pd\\nimport time\\nimport os\\nimport json\\nimport numpy as np\\nimport random\\n\\n\\n%load_ext nb_black\\n\\n# selenium _ beautusoup _ request\";\n                var nbb_formatted_code = \"import warnings\\n\\nwarnings.filterwarnings(\\\"ignore\\\")\\nfrom selenium.webdriver.common.keys import Keys\\nfrom selenium.webdriver.support.ui import WebDriverWait\\nfrom selenium.webdriver.common.by import By\\nfrom selenium.webdriver.support import expected_conditions as EC\\nfrom selenium.common.exceptions import NoSuchElementException\\nfrom selenium import webdriver\\nfrom selenium.webdriver.chrome.options import Options\\n\\nimport pandas as pd\\nimport time\\nimport os\\nimport json\\nimport numpy as np\\nimport random\\n\\n\\n%load_ext nb_black\\n\\n# selenium _ beautusoup _ request\";\n                var nbb_cells = Jupyter.notebook.get_cells();\n                for (var i = 0; i < nbb_cells.length; ++i) {\n                    if (nbb_cells[i].input_prompt_number == nbb_cell_id) {\n                        if (nbb_cells[i].get_text() == nbb_unformatted_code) {\n                             nbb_cells[i].set_text(nbb_formatted_code);\n                        }\n                        break;\n                    }\n                }\n            }, 500);\n            ",
      "text/plain": [
       "<IPython.core.display.Javascript object>"
      ]
     },
     "metadata": {},
     "output_type": "display_data"
    }
   ],
   "source": [
    "import warnings\n",
    "\n",
    "warnings.filterwarnings(\"ignore\")\n",
    "from selenium.webdriver.common.keys import Keys\n",
    "from selenium.webdriver.support.ui import WebDriverWait\n",
    "from selenium.webdriver.common.by import By\n",
    "from selenium.webdriver.support import expected_conditions as EC\n",
    "from selenium.common.exceptions import NoSuchElementException\n",
    "from selenium import webdriver\n",
    "from selenium.webdriver.chrome.options import Options\n",
    "\n",
    "import pandas as pd\n",
    "import time\n",
    "import os\n",
    "import json\n",
    "import numpy as np\n",
    "import random\n",
    "\n",
    "\n",
    "%load_ext nb_black\n",
    "\n",
    "# selenium _ beautusoup _ request"
   ]
  },
  {
   "cell_type": "code",
   "execution_count": 2,
   "metadata": {},
   "outputs": [
    {
     "data": {
      "application/javascript": "\n            setTimeout(function() {\n                var nbb_cell_id = 2;\n                var nbb_unformatted_code = \"def driver_operation(url, size):\\n    # options = webdriver.ChromeOptions()  # I would also suggest to use this instead of Options()\\n    # options.add_argument(\\\"--headless\\\")\\n    # options.add_argument(\\\"--enable-javascript\\\")  # To be on the safe side, although it seems to be enabled by default\\n\\n    options = webdriver.ChromeOptions()\\n    options.add_experimental_option('excludeSwitches', ['enable-logging'])\\n    #options.headless = True\\n\\n    driver = webdriver.Chrome(executable_path=\\\"chromedriver_win32/chromedriver.exe\\\", options=options)\\n    driver.maximize_window()\\n    driver.set_window_size(1920, 1080)\\n    driver.get(url)\\n    time.sleep(1)\\n\\n    for i in range(0, size+1):\\n        driver.execute_script(\\\"window.scrollTo({start}*document.body.scrollHeight/{r}, {end}*document.body.scrollHeight/{r}-100)\\\".format(start=i, end = i+1, r=size))\\n        time.sleep(2)\\n\\n    return driver\\n\\n\\n\\n\\n\\n\\n\\n#scroll_to_bottom(driver)\";\n                var nbb_formatted_code = \"def driver_operation(url, size):\\n    # options = webdriver.ChromeOptions()  # I would also suggest to use this instead of Options()\\n    # options.add_argument(\\\"--headless\\\")\\n    # options.add_argument(\\\"--enable-javascript\\\")  # To be on the safe side, although it seems to be enabled by default\\n\\n    options = webdriver.ChromeOptions()\\n    options.add_experimental_option(\\\"excludeSwitches\\\", [\\\"enable-logging\\\"])\\n    # options.headless = True\\n\\n    driver = webdriver.Chrome(\\n        executable_path=\\\"chromedriver_win32/chromedriver.exe\\\", options=options\\n    )\\n    driver.maximize_window()\\n    driver.set_window_size(1920, 1080)\\n    driver.get(url)\\n    time.sleep(1)\\n\\n    for i in range(0, size + 1):\\n        driver.execute_script(\\n            \\\"window.scrollTo({start}*document.body.scrollHeight/{r}, {end}*document.body.scrollHeight/{r}-100)\\\".format(\\n                start=i, end=i + 1, r=size\\n            )\\n        )\\n        time.sleep(2)\\n\\n    return driver\\n\\n\\n# scroll_to_bottom(driver)\";\n                var nbb_cells = Jupyter.notebook.get_cells();\n                for (var i = 0; i < nbb_cells.length; ++i) {\n                    if (nbb_cells[i].input_prompt_number == nbb_cell_id) {\n                        if (nbb_cells[i].get_text() == nbb_unformatted_code) {\n                             nbb_cells[i].set_text(nbb_formatted_code);\n                        }\n                        break;\n                    }\n                }\n            }, 500);\n            ",
      "text/plain": [
       "<IPython.core.display.Javascript object>"
      ]
     },
     "metadata": {},
     "output_type": "display_data"
    }
   ],
   "source": [
    "def driver_operation(url, size):\n",
    "    # options = webdriver.ChromeOptions()  # I would also suggest to use this instead of Options()\n",
    "    # options.add_argument(\"--headless\")\n",
    "    # options.add_argument(\"--enable-javascript\")  # To be on the safe side, although it seems to be enabled by default\n",
    "\n",
    "    options = webdriver.ChromeOptions()\n",
    "    options.add_experimental_option('excludeSwitches', ['enable-logging'])\n",
    "    #options.headless = True\n",
    "\n",
    "    driver = webdriver.Chrome(executable_path=\"chromedriver_win32/chromedriver.exe\", options=options)\n",
    "    driver.maximize_window()\n",
    "    driver.set_window_size(1920, 1080)\n",
    "    driver.get(url)\n",
    "    time.sleep(1)\n",
    "\n",
    "    for i in range(0, size+1):\n",
    "        driver.execute_script(\"window.scrollTo({start}*document.body.scrollHeight/{r}, {end}*document.body.scrollHeight/{r}-100)\".format(start=i, end = i+1, r=size))\n",
    "        time.sleep(1.5)\n",
    "\n",
    "    return driver\n",
    "\n",
    "\n",
    "\n",
    "\n",
    "\n",
    "\n",
    "\n",
    "#scroll_to_bottom(driver)"
   ]
  },
  {
   "cell_type": "code",
   "execution_count": 12,
   "metadata": {},
   "outputs": [
    {
     "data": {
      "application/javascript": "\n            setTimeout(function() {\n                var nbb_cell_id = 12;\n                var nbb_unformatted_code = \"def scrape_restaurants(base_url, location, driver):\\n\\n    cat = []\\n    try: \\n        temp_urls = driver.find_element_by_xpath('/html/body/div[1]/div[1]/div/main/div[2]/div[3]').find_elements_by_tag_name(\\\"a\\\")\\n        for url in temp_urls:\\n            cat.append(url.get_attribute('href'))\\n    except:\\n        print(\\\"Skipped \\\" + cat)\\n\\n\\n    with open('temp_urls.txt', 'a') as f:\\n        cat_str = list(map(lambda x: str(x)+'\\\\n', cat))\\n        for i in cat_str:\\n            f.write(i)\\n\\n\\n    lines_seen = set()  # holds lines already seen\\n    out_file = open(location + \\\"_restaurant_urls.txt\\\", \\\"w+\\\")\\n    for line in open(\\\"temp_urls.txt\\\", \\\"r\\\"):\\n        if line not in lines_seen:  # not a duplicate\\n            out_file.write(line)\\n            lines_seen.add(line)\\n    out_file.close()\\n    os.remove(\\\"temp_urls.txt\\\")\\n\\n    with open(location + \\\"_restaurant_urls.txt\\\") as file:\\n        categories_lst = file.readlines()\\n\\n    categories_lst = [str(i)[:-1] for i in categories_lst]\\n\\n    # driver = webdriver.Chrome(executable_path=\\\"chromedriver_win32/chromedriver.exe\\\")\\n    # driver.maximize_window()\\n    # driver.set_window_size(1920, 1080)\\n\\n    restaurant_arr = []\\n    for url in categories_lst:\\n        driver.get(url)\\n        restaurant_lst = driver.find_element_by_xpath(\\\"/html/body/div[1]/div[1]/div/main/div[5]/div\\\").find_elements_by_tag_name(\\\"a\\\")\\n        for i in restaurant_lst:\\n            restaurant_arr.append(i.get_attribute('href'))\\n\\n\\n\\n    with open('restaurant_new_test.txt', 'a') as f:\\n        restaurant_str2 = list(map(lambda x: str(x)+'\\\\n', restaurant_arr))\\n        for i in restaurant_str2:\\n            f.write(i)\\n\\n    os.remove('temp_urls.txt')\";\n                var nbb_formatted_code = \"def scrape_restaurants(base_url, location, driver):\\n\\n    cat = []\\n    try:\\n        temp_urls = driver.find_element_by_xpath(\\n            \\\"/html/body/div[1]/div[1]/div/main/div[2]/div[3]\\\"\\n        ).find_elements_by_tag_name(\\\"a\\\")\\n        for url in temp_urls:\\n            cat.append(url.get_attribute(\\\"href\\\"))\\n    except:\\n        print(\\\"Skipped \\\" + cat)\\n\\n    with open(\\\"temp_urls.txt\\\", \\\"a\\\") as f:\\n        cat_str = list(map(lambda x: str(x) + \\\"\\\\n\\\", cat))\\n        for i in cat_str:\\n            f.write(i)\\n\\n    lines_seen = set()  # holds lines already seen\\n    out_file = open(location + \\\"_restaurant_urls.txt\\\", \\\"w+\\\")\\n    for line in open(\\\"temp_urls.txt\\\", \\\"r\\\"):\\n        if line not in lines_seen:  # not a duplicate\\n            out_file.write(line)\\n            lines_seen.add(line)\\n    out_file.close()\\n    os.remove(\\\"temp_urls.txt\\\")\\n\\n    with open(location + \\\"_restaurant_urls.txt\\\") as file:\\n        categories_lst = file.readlines()\\n\\n    categories_lst = [str(i)[:-1] for i in categories_lst]\\n\\n    # driver = webdriver.Chrome(executable_path=\\\"chromedriver_win32/chromedriver.exe\\\")\\n    # driver.maximize_window()\\n    # driver.set_window_size(1920, 1080)\\n\\n    restaurant_arr = []\\n    for url in categories_lst:\\n        driver.get(url)\\n        restaurant_lst = driver.find_element_by_xpath(\\n            \\\"/html/body/div[1]/div[1]/div/main/div[5]/div\\\"\\n        ).find_elements_by_tag_name(\\\"a\\\")\\n        for i in restaurant_lst:\\n            restaurant_arr.append(i.get_attribute(\\\"href\\\"))\\n\\n    with open(\\\"restaurant_new_test.txt\\\", \\\"a\\\") as f:\\n        restaurant_str2 = list(map(lambda x: str(x) + \\\"\\\\n\\\", restaurant_arr))\\n        for i in restaurant_str2:\\n            f.write(i)\\n\\n    os.remove(\\\"temp_urls.txt\\\")\";\n                var nbb_cells = Jupyter.notebook.get_cells();\n                for (var i = 0; i < nbb_cells.length; ++i) {\n                    if (nbb_cells[i].input_prompt_number == nbb_cell_id) {\n                        if (nbb_cells[i].get_text() == nbb_unformatted_code) {\n                             nbb_cells[i].set_text(nbb_formatted_code);\n                        }\n                        break;\n                    }\n                }\n            }, 500);\n            ",
      "text/plain": [
       "<IPython.core.display.Javascript object>"
      ]
     },
     "metadata": {},
     "output_type": "display_data"
    }
   ],
   "source": [
    "def scrape_restaurants(base_url, location, driver):\n",
    "\n",
    "    cat = []\n",
    "    try: \n",
    "        temp_urls = driver.find_element_by_xpath('/html/body/div[1]/div[1]/div/main/div[2]/div[3]').find_elements_by_tag_name(\"a\")\n",
    "        for url in temp_urls:\n",
    "            cat.append(url.get_attribute('href'))\n",
    "    except:\n",
    "        print(\"Skipped \" + cat)\n",
    "\n",
    "\n",
    "    with open('temp_urls.txt', 'a') as f:\n",
    "        cat_str = list(map(lambda x: str(x)+'\\n', cat))\n",
    "        for i in cat_str:\n",
    "            f.write(i)\n",
    "\n",
    "\n",
    "    lines_seen = set()  # holds lines already seen\n",
    "    out_file = open(location + \"_restaurant_urls.txt\", \"w+\")\n",
    "    for line in open(\"temp_urls.txt\", \"r\"):\n",
    "        if line not in lines_seen:  # not a duplicate\n",
    "            out_file.write(line)\n",
    "            lines_seen.add(line)\n",
    "    out_file.close()\n",
    "    os.remove(\"temp_urls.txt\")\n",
    "\n",
    "    with open(location + \"_restaurant_urls.txt\") as file:\n",
    "        categories_lst = file.readlines()\n",
    "\n",
    "    categories_lst = [str(i)[:-1] for i in categories_lst]\n",
    "\n",
    "    # driver = webdriver.Chrome(executable_path=\"chromedriver_win32/chromedriver.exe\")\n",
    "    # driver.maximize_window()\n",
    "    # driver.set_window_size(1920, 1080)\n",
    "\n",
    "    restaurant_arr = []\n",
    "    for url in categories_lst:\n",
    "        driver.get(url)\n",
    "        restaurant_lst = driver.find_element_by_xpath(\"/html/body/div[1]/div[1]/div/main/div[5]/div\").find_elements_by_tag_name(\"a\")\n",
    "        for i in restaurant_lst:\n",
    "            restaurant_arr.append(i.get_attribute('href'))\n",
    "\n",
    "\n",
    "\n",
    "    with open('restaurant_new_test.txt', 'a') as f:\n",
    "        restaurant_str2 = list(map(lambda x: str(x)+'\\n', restaurant_arr))\n",
    "        for i in restaurant_str2:\n",
    "            f.write(i)\n",
    "\n",
    "    os.remove('temp_urls.txt')\n",
    "\n"
   ]
  },
  {
   "cell_type": "code",
   "execution_count": 4,
   "metadata": {},
   "outputs": [
    {
     "data": {
      "application/javascript": "\n            setTimeout(function() {\n                var nbb_cell_id = 4;\n                var nbb_unformatted_code = \"# base_url = \\\"https://www.ubereats.com/ca/category/\\\"\\n# city_list = [\\\"toronto-on\\\", \\\"hamilton-on\\\", \\\"kingston-on\\\"]\\n\\n# driver = driver_operation(base_url, 14)\\n# for city in city_list:\\n#     scrape_restaurants(base_url, city, driver)\";\n                var nbb_formatted_code = \"# base_url = \\\"https://www.ubereats.com/ca/category/\\\"\\n# city_list = [\\\"toronto-on\\\", \\\"hamilton-on\\\", \\\"kingston-on\\\"]\\n\\n# driver = driver_operation(base_url, 14)\\n# for city in city_list:\\n#     scrape_restaurants(base_url, city, driver)\";\n                var nbb_cells = Jupyter.notebook.get_cells();\n                for (var i = 0; i < nbb_cells.length; ++i) {\n                    if (nbb_cells[i].input_prompt_number == nbb_cell_id) {\n                        if (nbb_cells[i].get_text() == nbb_unformatted_code) {\n                             nbb_cells[i].set_text(nbb_formatted_code);\n                        }\n                        break;\n                    }\n                }\n            }, 500);\n            ",
      "text/plain": [
       "<IPython.core.display.Javascript object>"
      ]
     },
     "metadata": {},
     "output_type": "display_data"
    }
   ],
   "source": [
    "# base_url = \"https://www.ubereats.com/ca/category/\"\n",
    "# city_list = [\"toronto-on\", \"hamilton-on\", \"kingston-on\"]\n",
    "\n",
    "# driver = driver_operation(base_url, 14)\n",
    "# for city in city_list:\n",
    "#     scrape_restaurants(base_url, city, driver)"
   ]
  },
  {
   "cell_type": "code",
   "execution_count": 5,
   "metadata": {},
   "outputs": [
    {
     "data": {
      "application/javascript": "\n            setTimeout(function() {\n                var nbb_cell_id = 5;\n                var nbb_unformatted_code = \"# base_url = \\\"ubereats.com/ca/category/toronto-on\\\"\\n# city_list = [\\\"toronto-on\\\", \\\"hamilton-on\\\", \\\"kingston-on\\\"]\\n\\n# #driver = driver_operation(base_url, 16)\\n\\n# scrape_restaurants(base_url, 'toronto-on')\";\n                var nbb_formatted_code = \"# base_url = \\\"ubereats.com/ca/category/toronto-on\\\"\\n# city_list = [\\\"toronto-on\\\", \\\"hamilton-on\\\", \\\"kingston-on\\\"]\\n\\n# #driver = driver_operation(base_url, 16)\\n\\n# scrape_restaurants(base_url, 'toronto-on')\";\n                var nbb_cells = Jupyter.notebook.get_cells();\n                for (var i = 0; i < nbb_cells.length; ++i) {\n                    if (nbb_cells[i].input_prompt_number == nbb_cell_id) {\n                        if (nbb_cells[i].get_text() == nbb_unformatted_code) {\n                             nbb_cells[i].set_text(nbb_formatted_code);\n                        }\n                        break;\n                    }\n                }\n            }, 500);\n            ",
      "text/plain": [
       "<IPython.core.display.Javascript object>"
      ]
     },
     "metadata": {},
     "output_type": "display_data"
    }
   ],
   "source": [
    "# base_url = \"ubereats.com/ca/category/toronto-on\"\n",
    "# city_list = [\"toronto-on\", \"hamilton-on\", \"kingston-on\"]\n",
    "\n",
    "# #driver = driver_operation(base_url, 16)\n",
    "\n",
    "# scrape_restaurants(base_url, 'toronto-on')"
   ]
  },
  {
   "cell_type": "markdown",
   "metadata": {},
   "source": [
    "### MAIN"
   ]
  },
  {
   "cell_type": "code",
   "execution_count": 6,
   "metadata": {},
   "outputs": [
    {
     "data": {
      "application/javascript": "\n            setTimeout(function() {\n                var nbb_cell_id = 6;\n                var nbb_unformatted_code = \"\\ndef list_urls(file):\\n    with open(file, 'r') as f:\\n        lst_restaurants = f.readlines()\\n    lst_restaurants = [i.replace('\\\\n', '') for i in lst_restaurants if '\\\\n' in i]\\n    return lst_restaurants\";\n                var nbb_formatted_code = \"def list_urls(file):\\n    with open(file, \\\"r\\\") as f:\\n        lst_restaurants = f.readlines()\\n    lst_restaurants = [i.replace(\\\"\\\\n\\\", \\\"\\\") for i in lst_restaurants if \\\"\\\\n\\\" in i]\\n    return lst_restaurants\";\n                var nbb_cells = Jupyter.notebook.get_cells();\n                for (var i = 0; i < nbb_cells.length; ++i) {\n                    if (nbb_cells[i].input_prompt_number == nbb_cell_id) {\n                        if (nbb_cells[i].get_text() == nbb_unformatted_code) {\n                             nbb_cells[i].set_text(nbb_formatted_code);\n                        }\n                        break;\n                    }\n                }\n            }, 500);\n            ",
      "text/plain": [
       "<IPython.core.display.Javascript object>"
      ]
     },
     "metadata": {},
     "output_type": "display_data"
    }
   ],
   "source": [
    "\n",
    "def list_urls(file):\n",
    "    with open(file, 'r') as f:\n",
    "        lst_restaurants = f.readlines()\n",
    "    lst_restaurants = [i.replace('\\n', '') for i in lst_restaurants if '\\n' in i]\n",
    "    return lst_restaurants"
   ]
  },
  {
   "cell_type": "code",
   "execution_count": 54,
   "metadata": {},
   "outputs": [
    {
     "data": {
      "application/javascript": "\n            setTimeout(function() {\n                var nbb_cell_id = 54;\n                var nbb_unformatted_code = \"def get_restaurant_url(base_url, driver, city):  \\n    cat = []\\n\\n    title = ''\\n    image = ''\\n    contingency_image = ''\\n    restaurant_url = ''\\n    df_restaurant = pd.DataFrame(columns = ['title', 'img_url', 'img_url_contingency', 'restaurant_url', 'category', 'city'])\\n\\n\\n    try:\\n        xpath = '/html/body/div[1]/div[1]/div/main/div[5]/div'\\n        list_restaurants_div = driver.find_element_by_xpath(xpath).find_element_by_tag_name(\\\"div\\\")\\n        class_name = list_restaurants_div.get_attribute(\\\"class\\\").replace(' ','.')\\n        list_restaurants = driver.find_element_by_xpath(xpath).find_elements_by_class_name(class_name)\\n        len(list_restaurants)\\n\\n        for i in range(1, len(list_restaurants)+1):\\n            # get restaurant name\\n            try: \\n                title = str(driver.find_element_by_xpath(\\n                                                \\\"/html/body/div[1]/div[1]/div/main/div[5]/div/div[\\\" + str(i) + \\\"]/div/a/h3\\\").text)\\n            except:\\n                titlee = ''\\n\\n\\n            # get avt restaurant\\n            try: \\n                image = str(driver.find_element_by_xpath(\\n                                                \\\"/html/body/div[1]/div[1]/div/main/div[5]/div/div[\\\" + str(i) + \\\"]/div[1]/div/div/figure/div/div/picture/source\\\").get_attribute(\\\"srcset\\\"))\\n                                                \\n            except: \\n                try:  \\n                    image = str(driver.find_element_by_xpath(\\n                                                \\\"/html/body/div[1]/div[1]/div/main/div[5]/div/div[\\\" + str(i) + \\\"]/div[1]/div/div/figure/div/div/picture/img\\\").get_attribute(\\\"src\\\"))\\n                \\n                except:\\n                    image = ''\\n\\n            # get contingency avt restaurant\\n            try: \\n                contingency_image = str(driver.find_element_by_xpath(\\n                                                \\\"/html/body/div[1]/div[1]/div/main/div[5]/div/div[\\\" + str(i) + \\\"]/div[1]/div/div/figure/div/div/picture/img\\\").get_attribute(\\\"src\\\"))\\n            except:\\n                contingency_image = ''\\n                \\n            # get restaurant url\\n            try:  \\n                restaurant_url = str(driver.find_element_by_xpath(\\n                                            \\\"/html/body/div[1]/div[1]/div/main/div[5]/div/div[\\\" + str(i) + \\\"]/div/a\\\").get_attribute('href'))\\n            except:\\n                restaurant_url = ''\\n\\n            df_restaurant = df_restaurant.append({\\n            'title': title,\\n            'img_url': image,\\n            'img_url_contingency': contingency_image,\\n            'restaurant_url': restaurant_url,\\n            'category': base_url.split('/')[-1],\\n            'city': city,\\n            }, ignore_index=True)\\n    except:\\n        print('skip'+base_url)\\n        with open('failed_restaurant_toronto.txt', 'a') as f:\\n            f.write(base_url + '\\\\n')\\n        driver.close()\\n    driver.close()\\n    return df_restaurant\";\n                var nbb_formatted_code = \"def get_restaurant_url(base_url, driver, city):\\n    cat = []\\n\\n    title = \\\"\\\"\\n    image = \\\"\\\"\\n    contingency_image = \\\"\\\"\\n    restaurant_url = \\\"\\\"\\n    df_restaurant = pd.DataFrame(\\n        columns=[\\n            \\\"title\\\",\\n            \\\"img_url\\\",\\n            \\\"img_url_contingency\\\",\\n            \\\"restaurant_url\\\",\\n            \\\"category\\\",\\n            \\\"city\\\",\\n        ]\\n    )\\n\\n    try:\\n        xpath = \\\"/html/body/div[1]/div[1]/div/main/div[5]/div\\\"\\n        list_restaurants_div = driver.find_element_by_xpath(\\n            xpath\\n        ).find_element_by_tag_name(\\\"div\\\")\\n        class_name = list_restaurants_div.get_attribute(\\\"class\\\").replace(\\\" \\\", \\\".\\\")\\n        list_restaurants = driver.find_element_by_xpath(\\n            xpath\\n        ).find_elements_by_class_name(class_name)\\n        len(list_restaurants)\\n\\n        for i in range(1, len(list_restaurants) + 1):\\n            # get restaurant name\\n            try:\\n                title = str(\\n                    driver.find_element_by_xpath(\\n                        \\\"/html/body/div[1]/div[1]/div/main/div[5]/div/div[\\\"\\n                        + str(i)\\n                        + \\\"]/div/a/h3\\\"\\n                    ).text\\n                )\\n            except:\\n                titlee = \\\"\\\"\\n\\n            # get avt restaurant\\n            try:\\n                image = str(\\n                    driver.find_element_by_xpath(\\n                        \\\"/html/body/div[1]/div[1]/div/main/div[5]/div/div[\\\"\\n                        + str(i)\\n                        + \\\"]/div[1]/div/div/figure/div/div/picture/source\\\"\\n                    ).get_attribute(\\\"srcset\\\")\\n                )\\n\\n            except:\\n                try:\\n                    image = str(\\n                        driver.find_element_by_xpath(\\n                            \\\"/html/body/div[1]/div[1]/div/main/div[5]/div/div[\\\"\\n                            + str(i)\\n                            + \\\"]/div[1]/div/div/figure/div/div/picture/img\\\"\\n                        ).get_attribute(\\\"src\\\")\\n                    )\\n\\n                except:\\n                    image = \\\"\\\"\\n\\n            # get contingency avt restaurant\\n            try:\\n                contingency_image = str(\\n                    driver.find_element_by_xpath(\\n                        \\\"/html/body/div[1]/div[1]/div/main/div[5]/div/div[\\\"\\n                        + str(i)\\n                        + \\\"]/div[1]/div/div/figure/div/div/picture/img\\\"\\n                    ).get_attribute(\\\"src\\\")\\n                )\\n            except:\\n                contingency_image = \\\"\\\"\\n\\n            # get restaurant url\\n            try:\\n                restaurant_url = str(\\n                    driver.find_element_by_xpath(\\n                        \\\"/html/body/div[1]/div[1]/div/main/div[5]/div/div[\\\"\\n                        + str(i)\\n                        + \\\"]/div/a\\\"\\n                    ).get_attribute(\\\"href\\\")\\n                )\\n            except:\\n                restaurant_url = \\\"\\\"\\n\\n            df_restaurant = df_restaurant.append(\\n                {\\n                    \\\"title\\\": title,\\n                    \\\"img_url\\\": image,\\n                    \\\"img_url_contingency\\\": contingency_image,\\n                    \\\"restaurant_url\\\": restaurant_url,\\n                    \\\"category\\\": base_url.split(\\\"/\\\")[-1],\\n                    \\\"city\\\": city,\\n                },\\n                ignore_index=True,\\n            )\\n    except:\\n        print(\\\"skip\\\" + base_url)\\n        with open(\\\"failed_restaurant_toronto.txt\\\", \\\"a\\\") as f:\\n            f.write(base_url + \\\"\\\\n\\\")\\n        driver.close()\\n    driver.close()\\n    return df_restaurant\";\n                var nbb_cells = Jupyter.notebook.get_cells();\n                for (var i = 0; i < nbb_cells.length; ++i) {\n                    if (nbb_cells[i].input_prompt_number == nbb_cell_id) {\n                        if (nbb_cells[i].get_text() == nbb_unformatted_code) {\n                             nbb_cells[i].set_text(nbb_formatted_code);\n                        }\n                        break;\n                    }\n                }\n            }, 500);\n            ",
      "text/plain": [
       "<IPython.core.display.Javascript object>"
      ]
     },
     "metadata": {},
     "output_type": "display_data"
    }
   ],
   "source": [
    "def get_restaurant_url(base_url, driver, city):  \n",
    "    cat = []\n",
    "\n",
    "    title = ''\n",
    "    image = ''\n",
    "    contingency_image = ''\n",
    "    restaurant_url = ''\n",
    "    df_restaurant = pd.DataFrame(columns = ['title', 'img_url', 'img_url_contingency', 'restaurant_url', 'category', 'city'])\n",
    "\n",
    "\n",
    "    try:\n",
    "        xpath = '/html/body/div[1]/div[1]/div/main/div[5]/div'\n",
    "        list_restaurants_div = driver.find_element_by_xpath(xpath).find_element_by_tag_name(\"div\")\n",
    "        class_name = list_restaurants_div.get_attribute(\"class\").replace(' ','.')\n",
    "        list_restaurants = driver.find_element_by_xpath(xpath).find_elements_by_class_name(class_name)\n",
    "        len(list_restaurants)\n",
    "\n",
    "        for i in range(1, len(list_restaurants)+1):\n",
    "            # get restaurant name\n",
    "            try: \n",
    "                title = str(driver.find_element_by_xpath(\n",
    "                                                \"/html/body/div[1]/div[1]/div/main/div[5]/div/div[\" + str(i) + \"]/div/a/h3\").text)\n",
    "            except:\n",
    "                titlee = ''\n",
    "\n",
    "\n",
    "            # get avt restaurant\n",
    "            try: \n",
    "                image = str(driver.find_element_by_xpath(\n",
    "                                                \"/html/body/div[1]/div[1]/div/main/div[5]/div/div[\" + str(i) + \"]/div[1]/div/div/figure/div/div/picture/source\").get_attribute(\"srcset\"))\n",
    "                                                \n",
    "            except: \n",
    "                try:  \n",
    "                    image = str(driver.find_element_by_xpath(\n",
    "                                                \"/html/body/div[1]/div[1]/div/main/div[5]/div/div[\" + str(i) + \"]/div[1]/div/div/figure/div/div/picture/img\").get_attribute(\"src\"))\n",
    "                \n",
    "                except:\n",
    "                    image = ''\n",
    "\n",
    "            # get contingency avt restaurant\n",
    "            try: \n",
    "                contingency_image = str(driver.find_element_by_xpath(\n",
    "                                                \"/html/body/div[1]/div[1]/div/main/div[5]/div/div[\" + str(i) + \"]/div[1]/div/div/figure/div/div/picture/img\").get_attribute(\"src\"))\n",
    "            except:\n",
    "                contingency_image = ''\n",
    "                \n",
    "            # get restaurant url\n",
    "            try:  \n",
    "                restaurant_url = str(driver.find_element_by_xpath(\n",
    "                                            \"/html/body/div[1]/div[1]/div/main/div[5]/div/div[\" + str(i) + \"]/div/a\").get_attribute('href'))\n",
    "            except:\n",
    "                restaurant_url = ''\n",
    "\n",
    "            df_restaurant = df_restaurant.append({\n",
    "            'title': title,\n",
    "            'img_url': image,\n",
    "            'img_url_contingency': contingency_image,\n",
    "            'restaurant_url': restaurant_url,\n",
    "            'category': base_url.split('/')[-1],\n",
    "            'city': city,\n",
    "            }, ignore_index=True)\n",
    "    except:\n",
    "        print('skip'+base_url)\n",
    "        with open('failed_restaurant_toronto.txt', 'a') as f:\n",
    "            f.write(base_url + '\\n')\n",
    "        driver.close()\n",
    "    driver.close()\n",
    "    return df_restaurant\n",
    "\n"
   ]
  },
  {
   "cell_type": "code",
   "execution_count": 55,
   "metadata": {},
   "outputs": [
    {
     "data": {
      "application/javascript": "\n            setTimeout(function() {\n                var nbb_cell_id = 55;\n                var nbb_unformatted_code = \"# lst_urls_test = list_urls('hamilton-on_restaurant_urls.txt')\\n# len(lst_urls_test)\";\n                var nbb_formatted_code = \"# lst_urls_test = list_urls('hamilton-on_restaurant_urls.txt')\\n# len(lst_urls_test)\";\n                var nbb_cells = Jupyter.notebook.get_cells();\n                for (var i = 0; i < nbb_cells.length; ++i) {\n                    if (nbb_cells[i].input_prompt_number == nbb_cell_id) {\n                        if (nbb_cells[i].get_text() == nbb_unformatted_code) {\n                             nbb_cells[i].set_text(nbb_formatted_code);\n                        }\n                        break;\n                    }\n                }\n            }, 500);\n            ",
      "text/plain": [
       "<IPython.core.display.Javascript object>"
      ]
     },
     "metadata": {},
     "output_type": "display_data"
    }
   ],
   "source": [
    "# lst_urls_test = list_urls('hamilton-on_restaurant_urls.txt')\n",
    "# len(lst_urls_test)"
   ]
  },
  {
   "cell_type": "code",
   "execution_count": 56,
   "metadata": {},
   "outputs": [
    {
     "data": {
      "application/javascript": "\n            setTimeout(function() {\n                var nbb_cell_id = 56;\n                var nbb_unformatted_code = \"# df = pd.DataFrame(columns = ['title', 'img_url', 'restaurant_url', 'category', 'city'])\\n# df.to_csv('restaurant_hamiton.csv', encoding='utf-8-sig', mode='w', index=False)\\n\\n# for url in lst_urls_test:\\n#     driver = driver_operation(url, 14)\\n#     df = get_restaurant_url(url, driver, 'hamilton')\\n#     if df is not None:\\n#         df.to_csv('restaurant_hamiton.csv', encoding='utf-8-sig', mode='a', header=False, index=False)\\n#         df = df.iloc[0:0]\";\n                var nbb_formatted_code = \"# df = pd.DataFrame(columns = ['title', 'img_url', 'restaurant_url', 'category', 'city'])\\n# df.to_csv('restaurant_hamiton.csv', encoding='utf-8-sig', mode='w', index=False)\\n\\n# for url in lst_urls_test:\\n#     driver = driver_operation(url, 14)\\n#     df = get_restaurant_url(url, driver, 'hamilton')\\n#     if df is not None:\\n#         df.to_csv('restaurant_hamiton.csv', encoding='utf-8-sig', mode='a', header=False, index=False)\\n#         df = df.iloc[0:0]\";\n                var nbb_cells = Jupyter.notebook.get_cells();\n                for (var i = 0; i < nbb_cells.length; ++i) {\n                    if (nbb_cells[i].input_prompt_number == nbb_cell_id) {\n                        if (nbb_cells[i].get_text() == nbb_unformatted_code) {\n                             nbb_cells[i].set_text(nbb_formatted_code);\n                        }\n                        break;\n                    }\n                }\n            }, 500);\n            ",
      "text/plain": [
       "<IPython.core.display.Javascript object>"
      ]
     },
     "metadata": {},
     "output_type": "display_data"
    }
   ],
   "source": [
    "# df = pd.DataFrame(columns = ['title', 'img_url', 'restaurant_url', 'category', 'city'])\n",
    "# df.to_csv('restaurant_hamiton.csv', encoding='utf-8-sig', mode='w', index=False)\n",
    "\n",
    "# for url in lst_urls_test:\n",
    "#     driver = driver_operation(url, 14)\n",
    "#     df = get_restaurant_url(url, driver, 'hamilton')\n",
    "#     if df is not None:\n",
    "#         df.to_csv('restaurant_hamiton.csv', encoding='utf-8-sig', mode='a', header=False, index=False)\n",
    "#         df = df.iloc[0:0]"
   ]
  },
  {
   "cell_type": "markdown",
   "metadata": {},
   "source": [
    "### Toronto"
   ]
  },
  {
   "cell_type": "code",
   "execution_count": 57,
   "metadata": {},
   "outputs": [
    {
     "data": {
      "application/javascript": "\n            setTimeout(function() {\n                var nbb_cell_id = 57;\n                var nbb_unformatted_code = \"#### Toronto\";\n                var nbb_formatted_code = \"#### Toronto\";\n                var nbb_cells = Jupyter.notebook.get_cells();\n                for (var i = 0; i < nbb_cells.length; ++i) {\n                    if (nbb_cells[i].input_prompt_number == nbb_cell_id) {\n                        if (nbb_cells[i].get_text() == nbb_unformatted_code) {\n                             nbb_cells[i].set_text(nbb_formatted_code);\n                        }\n                        break;\n                    }\n                }\n            }, 500);\n            ",
      "text/plain": [
       "<IPython.core.display.Javascript object>"
      ]
     },
     "metadata": {},
     "output_type": "display_data"
    }
   ],
   "source": [
    "#### Toronto"
   ]
  },
  {
   "cell_type": "code",
   "execution_count": 58,
   "metadata": {},
   "outputs": [
    {
     "data": {
      "text/plain": [
       "198"
      ]
     },
     "execution_count": 58,
     "metadata": {},
     "output_type": "execute_result"
    },
    {
     "data": {
      "application/javascript": "\n            setTimeout(function() {\n                var nbb_cell_id = 58;\n                var nbb_unformatted_code = \"lst_urls_test = list_urls('toronto-on_restaurant_urls.txt')\\nlen(lst_urls_test)\";\n                var nbb_formatted_code = \"lst_urls_test = list_urls(\\\"toronto-on_restaurant_urls.txt\\\")\\nlen(lst_urls_test)\";\n                var nbb_cells = Jupyter.notebook.get_cells();\n                for (var i = 0; i < nbb_cells.length; ++i) {\n                    if (nbb_cells[i].input_prompt_number == nbb_cell_id) {\n                        if (nbb_cells[i].get_text() == nbb_unformatted_code) {\n                             nbb_cells[i].set_text(nbb_formatted_code);\n                        }\n                        break;\n                    }\n                }\n            }, 500);\n            ",
      "text/plain": [
       "<IPython.core.display.Javascript object>"
      ]
     },
     "metadata": {},
     "output_type": "display_data"
    }
   ],
   "source": [
    "lst_urls_test = list_urls('toronto-on_restaurant_urls.txt')\n",
    "len(lst_urls_test)"
   ]
  },
  {
   "cell_type": "code",
   "execution_count": 59,
   "metadata": {},
   "outputs": [
    {
     "data": {
      "application/javascript": "\n            setTimeout(function() {\n                var nbb_cell_id = 59;\n                var nbb_unformatted_code = \"df = pd.DataFrame(columns = ['title', 'img_url', 'img_url_contingency', 'restaurant_url', 'category', 'city'])\\ndf.to_csv('restaurant_toronto.csv', encoding='utf-8-sig', mode='w', index=False)\\n\\nfor url in lst_urls_test:\\n    driver = driver_operation(url, 10)\\n    df = get_restaurant_url(url, driver, 'toronto')\\n    if df is not None:\\n        df.to_csv('restaurant_toronto.csv', encoding='utf-8-sig', mode='a', header=False, index=False)\\n        df = df.iloc[0:0]\\n        break\";\n                var nbb_formatted_code = \"df = pd.DataFrame(\\n    columns=[\\n        \\\"title\\\",\\n        \\\"img_url\\\",\\n        \\\"img_url_contingency\\\",\\n        \\\"restaurant_url\\\",\\n        \\\"category\\\",\\n        \\\"city\\\",\\n    ]\\n)\\ndf.to_csv(\\\"restaurant_toronto.csv\\\", encoding=\\\"utf-8-sig\\\", mode=\\\"w\\\", index=False)\\n\\nfor url in lst_urls_test:\\n    driver = driver_operation(url, 10)\\n    df = get_restaurant_url(url, driver, \\\"toronto\\\")\\n    if df is not None:\\n        df.to_csv(\\n            \\\"restaurant_toronto.csv\\\",\\n            encoding=\\\"utf-8-sig\\\",\\n            mode=\\\"a\\\",\\n            header=False,\\n            index=False,\\n        )\\n        df = df.iloc[0:0]\\n        break\";\n                var nbb_cells = Jupyter.notebook.get_cells();\n                for (var i = 0; i < nbb_cells.length; ++i) {\n                    if (nbb_cells[i].input_prompt_number == nbb_cell_id) {\n                        if (nbb_cells[i].get_text() == nbb_unformatted_code) {\n                             nbb_cells[i].set_text(nbb_formatted_code);\n                        }\n                        break;\n                    }\n                }\n            }, 500);\n            ",
      "text/plain": [
       "<IPython.core.display.Javascript object>"
      ]
     },
     "metadata": {},
     "output_type": "display_data"
    }
   ],
   "source": [
    "df = pd.DataFrame(columns = ['title', 'img_url', 'img_url_contingency', 'restaurant_url', 'category', 'city'])\n",
    "df.to_csv('restaurant_toronto.csv', encoding='utf-8-sig', mode='w', index=False)\n",
    "\n",
    "for url in lst_urls_test:\n",
    "    driver = driver_operation(url, 10)\n",
    "    df = get_restaurant_url(url, driver, 'toronto')\n",
    "    if df is not None:\n",
    "        df.to_csv('restaurant_toronto.csv', encoding='utf-8-sig', mode='a', header=False, index=False)\n",
    "        df = df.iloc[0:0]\n",
    "        break"
   ]
  },
  {
   "cell_type": "code",
   "execution_count": null,
   "metadata": {},
   "outputs": [],
   "source": []
  }
 ],
 "metadata": {
  "interpreter": {
   "hash": "25355d53bdc9b0feb20764a4fadf8fea7905d79df72ba215212bfe63b25c590d"
  },
  "kernelspec": {
   "display_name": "Python 3.9.7 64-bit",
   "language": "python",
   "name": "python3"
  },
  "language_info": {
   "codemirror_mode": {
    "name": "ipython",
    "version": 3
   },
   "file_extension": ".py",
   "mimetype": "text/x-python",
   "name": "python",
   "nbconvert_exporter": "python",
   "pygments_lexer": "ipython3",
   "version": "3.10.2"
  },
  "orig_nbformat": 4
 },
 "nbformat": 4,
 "nbformat_minor": 2
}
