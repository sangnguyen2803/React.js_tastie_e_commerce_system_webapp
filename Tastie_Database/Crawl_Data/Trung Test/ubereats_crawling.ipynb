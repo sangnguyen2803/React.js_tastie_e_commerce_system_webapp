{
 "cells": [
  {
   "cell_type": "code",
   "execution_count": 1,
   "id": "ee9bc1a1",
   "metadata": {},
   "outputs": [
    {
     "data": {
      "application/javascript": "\n            setTimeout(function() {\n                var nbb_cell_id = 1;\n                var nbb_unformatted_code = \"import warnings\\n\\nwarnings.filterwarnings(\\\"ignore\\\")\\nfrom selenium.webdriver.common.keys import Keys\\nfrom selenium.webdriver.support.ui import WebDriverWait\\nfrom selenium.webdriver.common.by import By\\nfrom selenium.webdriver.support import expected_conditions as EC\\nfrom selenium.common.exceptions import NoSuchElementException\\nfrom selenium import webdriver\\nfrom selenium.webdriver.chrome.options import Options\\n\\nimport pandas as pd\\nimport time\\nimport os\\nimport json\\nimport numpy as np\\nimport random\\n\\n\\n%load_ext nb_black\\n\\n# selenium _ beautusoup _ request\";\n                var nbb_formatted_code = \"import warnings\\n\\nwarnings.filterwarnings(\\\"ignore\\\")\\nfrom selenium.webdriver.common.keys import Keys\\nfrom selenium.webdriver.support.ui import WebDriverWait\\nfrom selenium.webdriver.common.by import By\\nfrom selenium.webdriver.support import expected_conditions as EC\\nfrom selenium.common.exceptions import NoSuchElementException\\nfrom selenium import webdriver\\nfrom selenium.webdriver.chrome.options import Options\\n\\nimport pandas as pd\\nimport time\\nimport os\\nimport json\\nimport numpy as np\\nimport random\\n\\n\\n%load_ext nb_black\\n\\n# selenium _ beautusoup _ request\";\n                var nbb_cells = Jupyter.notebook.get_cells();\n                for (var i = 0; i < nbb_cells.length; ++i) {\n                    if (nbb_cells[i].input_prompt_number == nbb_cell_id) {\n                        if (nbb_cells[i].get_text() == nbb_unformatted_code) {\n                             nbb_cells[i].set_text(nbb_formatted_code);\n                        }\n                        break;\n                    }\n                }\n            }, 500);\n            ",
      "text/plain": [
       "<IPython.core.display.Javascript object>"
      ]
     },
     "metadata": {},
     "output_type": "display_data"
    }
   ],
   "source": [
    "import warnings\n",
    "\n",
    "warnings.filterwarnings(\"ignore\")\n",
    "from selenium.webdriver.common.keys import Keys\n",
    "from selenium.webdriver.support.ui import WebDriverWait\n",
    "from selenium.webdriver.common.by import By\n",
    "from selenium.webdriver.support import expected_conditions as EC\n",
    "from selenium.common.exceptions import NoSuchElementException\n",
    "from selenium import webdriver\n",
    "from selenium.webdriver.chrome.options import Options\n",
    "\n",
    "import pandas as pd\n",
    "import time\n",
    "import os\n",
    "import json\n",
    "import numpy as np\n",
    "import random\n",
    "\n",
    "\n",
    "%load_ext nb_black\n",
    "\n",
    "# selenium _ beautusoup _ request"
   ]
  },
  {
   "cell_type": "code",
   "execution_count": 2,
   "id": "90972db3",
   "metadata": {},
   "outputs": [
    {
     "data": {
      "application/javascript": "\n            setTimeout(function() {\n                var nbb_cell_id = 2;\n                var nbb_unformatted_code = \"from selenium.common.exceptions import NoSuchElementException\\n\\n\\ndef check_exists_by_xpath(xpath, driver):\\n    try:\\n        driver.find_element_by_xpath(xpath)\\n    except NoSuchElementException:\\n        return False\\n    return True\";\n                var nbb_formatted_code = \"from selenium.common.exceptions import NoSuchElementException\\n\\n\\ndef check_exists_by_xpath(xpath, driver):\\n    try:\\n        driver.find_element_by_xpath(xpath)\\n    except NoSuchElementException:\\n        return False\\n    return True\";\n                var nbb_cells = Jupyter.notebook.get_cells();\n                for (var i = 0; i < nbb_cells.length; ++i) {\n                    if (nbb_cells[i].input_prompt_number == nbb_cell_id) {\n                        if (nbb_cells[i].get_text() == nbb_unformatted_code) {\n                             nbb_cells[i].set_text(nbb_formatted_code);\n                        }\n                        break;\n                    }\n                }\n            }, 500);\n            ",
      "text/plain": [
       "<IPython.core.display.Javascript object>"
      ]
     },
     "metadata": {},
     "output_type": "display_data"
    }
   ],
   "source": [
    "from selenium.common.exceptions import NoSuchElementException\n",
    "\n",
    "\n",
    "def check_exists_by_xpath(xpath, driver):\n",
    "    try:\n",
    "        driver.find_element_by_xpath(xpath)\n",
    "    except NoSuchElementException:\n",
    "        return False\n",
    "    return True\n"
   ]
  },
  {
   "cell_type": "code",
   "execution_count": 3,
   "id": "e52dd342",
   "metadata": {},
   "outputs": [
    {
     "data": {
      "application/javascript": "\n            setTimeout(function() {\n                var nbb_cell_id = 3;\n                var nbb_unformatted_code = \"def driver_operation(url, size):\\n    # options = webdriver.ChromeOptions()  # I would also suggest to use this instead of Options()\\n    # options.add_argument(\\\"--headless\\\")\\n    # options.add_argument(\\\"--enable-javascript\\\")  # To be on the safe side, although it seems to be enabled by default\\n\\n    time.sleep(1)\\n    # options = webdriver.ChromeOptions()\\n    # options.add_experimental_option('excludeSwitches', ['enable-logging'])\\n    # options.headless = True\\n\\n    #driver = webdriver.Chrome(executable_path=\\\"chromedriver_win32/chromedriver.exe\\\", options=options)\\n    driver = webdriver.Chrome(executable_path=\\\"chromedriver_win32/chromedriver.exe\\\")\\n\\n    driver.maximize_window()\\n    #driver.set_window_size(1920, 1080)\\n    driver.get(url) \\n    driver.find_element_by_xpath(\\\"/html/body/div[1]/div[1]/div/div[4]/div/div/div[2]/div[2]/button\\\").click()\\n    time.sleep(1)\\n\\n    for i in range(0, size+1):\\n        driver.execute_script(\\\"window.scrollTo({start}*document.body.scrollHeight/{r}, {end}*document.body.scrollHeight/{r})\\\".format(start=i, end = i+1, r=size))\\n        time.sleep(2)\\n\\n    return driver\\n\\n\\n\\n\\n\\n\\n\\n#scroll_to_bottom(driver)\";\n                var nbb_formatted_code = \"def driver_operation(url, size):\\n    # options = webdriver.ChromeOptions()  # I would also suggest to use this instead of Options()\\n    # options.add_argument(\\\"--headless\\\")\\n    # options.add_argument(\\\"--enable-javascript\\\")  # To be on the safe side, although it seems to be enabled by default\\n\\n    time.sleep(1)\\n    # options = webdriver.ChromeOptions()\\n    # options.add_experimental_option('excludeSwitches', ['enable-logging'])\\n    # options.headless = True\\n\\n    # driver = webdriver.Chrome(executable_path=\\\"chromedriver_win32/chromedriver.exe\\\", options=options)\\n    driver = webdriver.Chrome(executable_path=\\\"chromedriver_win32/chromedriver.exe\\\")\\n\\n    driver.maximize_window()\\n    # driver.set_window_size(1920, 1080)\\n    driver.get(url)\\n    driver.find_element_by_xpath(\\n        \\\"/html/body/div[1]/div[1]/div/div[4]/div/div/div[2]/div[2]/button\\\"\\n    ).click()\\n    time.sleep(1)\\n\\n    for i in range(0, size + 1):\\n        driver.execute_script(\\n            \\\"window.scrollTo({start}*document.body.scrollHeight/{r}, {end}*document.body.scrollHeight/{r})\\\".format(\\n                start=i, end=i + 1, r=size\\n            )\\n        )\\n        time.sleep(2)\\n\\n    return driver\\n\\n\\n# scroll_to_bottom(driver)\";\n                var nbb_cells = Jupyter.notebook.get_cells();\n                for (var i = 0; i < nbb_cells.length; ++i) {\n                    if (nbb_cells[i].input_prompt_number == nbb_cell_id) {\n                        if (nbb_cells[i].get_text() == nbb_unformatted_code) {\n                             nbb_cells[i].set_text(nbb_formatted_code);\n                        }\n                        break;\n                    }\n                }\n            }, 500);\n            ",
      "text/plain": [
       "<IPython.core.display.Javascript object>"
      ]
     },
     "metadata": {},
     "output_type": "display_data"
    }
   ],
   "source": [
    "def driver_operation(url, size):\n",
    "    # options = webdriver.ChromeOptions()  # I would also suggest to use this instead of Options()\n",
    "    # options.add_argument(\"--headless\")\n",
    "    # options.add_argument(\"--enable-javascript\")  # To be on the safe side, although it seems to be enabled by default\n",
    "\n",
    "    time.sleep(1)\n",
    "    # options = webdriver.ChromeOptions()\n",
    "    # options.add_experimental_option('excludeSwitches', ['enable-logging'])\n",
    "    # options.headless = True\n",
    "\n",
    "    #driver = webdriver.Chrome(executable_path=\"chromedriver_win32/chromedriver.exe\", options=options)\n",
    "    driver = webdriver.Chrome(executable_path=\"chromedriver_win32/chromedriver.exe\")\n",
    "\n",
    "    driver.maximize_window()\n",
    "    #driver.set_window_size(1920, 1080)\n",
    "    driver.get(url) \n",
    "    driver.find_element_by_xpath(\"/html/body/div[1]/div[1]/div/div[4]/div/div/div[2]/div[2]/button\").click()\n",
    "    time.sleep(1)\n",
    "\n",
    "    for i in range(0, size+1):\n",
    "        driver.execute_script(\"window.scrollTo({start}*document.body.scrollHeight/{r}, {end}*document.body.scrollHeight/{r})\".format(start=i, end = i+1, r=size))\n",
    "        time.sleep(2)\n",
    "\n",
    "    return driver\n",
    "\n",
    "\n",
    "\n",
    "\n",
    "\n",
    "\n",
    "\n",
    "#scroll_to_bottom(driver)"
   ]
  },
  {
   "cell_type": "code",
   "execution_count": 4,
   "id": "91550578",
   "metadata": {},
   "outputs": [
    {
     "data": {
      "application/javascript": "\n            setTimeout(function() {\n                var nbb_cell_id = 4;\n                var nbb_unformatted_code = \"small_display = '/html/body/div[1]/div[1]/div/main/div[5]/ul'\\nlarge_display = '/html/body/div[1]/div[1]/div/main/div[5]/div[2]/div[4]/ul'\\nlarge_v2_display = '/html/body/div[1]/div[1]/div/main/div[5]/div/div[4]/ul'\";\n                var nbb_formatted_code = \"small_display = \\\"/html/body/div[1]/div[1]/div/main/div[5]/ul\\\"\\nlarge_display = \\\"/html/body/div[1]/div[1]/div/main/div[5]/div[2]/div[4]/ul\\\"\\nlarge_v2_display = \\\"/html/body/div[1]/div[1]/div/main/div[5]/div/div[4]/ul\\\"\";\n                var nbb_cells = Jupyter.notebook.get_cells();\n                for (var i = 0; i < nbb_cells.length; ++i) {\n                    if (nbb_cells[i].input_prompt_number == nbb_cell_id) {\n                        if (nbb_cells[i].get_text() == nbb_unformatted_code) {\n                             nbb_cells[i].set_text(nbb_formatted_code);\n                        }\n                        break;\n                    }\n                }\n            }, 500);\n            ",
      "text/plain": [
       "<IPython.core.display.Javascript object>"
      ]
     },
     "metadata": {},
     "output_type": "display_data"
    }
   ],
   "source": [
    "small_display = '/html/body/div[1]/div[1]/div/main/div[5]/ul'\n",
    "large_display = '/html/body/div[1]/div[1]/div/main/div[5]/div[2]/div[4]/ul'\n",
    "large_v2_display = '/html/body/div[1]/div[1]/div/main/div[5]/div/div[4]/ul'\n",
    "\n"
   ]
  },
  {
   "cell_type": "code",
   "execution_count": 5,
   "id": "1a16e7e6",
   "metadata": {},
   "outputs": [
    {
     "data": {
      "application/javascript": "\n            setTimeout(function() {\n                var nbb_cell_id = 5;\n                var nbb_unformatted_code = \"def scrape_restaurant_info(driver, url):\\n        small_display = '/html/body/div[1]/div[1]/div/main/div[5]/ul'\\n        large_display = '/html/body/div[1]/div[1]/div/main/div[5]/div[2]/div[4]/ul'\\n        large_v2_display = '/html/body/div[1]/div[1]/div/main/div[5]/div/div[4]/ul'\\n                           \\n        lst_check = [check_exists_by_xpath(small_display, driver), check_exists_by_xpath(large_display, driver), check_exists_by_xpath(large_v2_display, driver)]\\n\\n\\n        try: \\n                df_restaurant = scrape_restaurant_small_display(driver)\\n        except:\\n                try:\\n                        df_restaurant = scrape_restaurant_large_display(driver)\\n                except:\\n                        try:\\n                                df_restaurant = scrape_restaurant_large_display_v2(driver)\\n                        except Exception as e:\\n                                print('Skip ' + url)\\n                                print(e)\\n                                with open('restaurant_fail.txt', 'a') as f:\\n                                        f.write(url+'\\\\n')\\n                                #driver.close()\\n                                return None\\n\\n\\n        # try:\\n        #         if lst_check[0] is True:\\n        #                 df_restaurant = scrape_restaurant_small_display(driver)\\n        #                 print('small')\\n        #         elif lst_check[1] is True and lst_check[2] is False:\\n        #                 df_restaurant = scrape_restaurant_large_display(driver)               \\n        #                 print('large')\\n        #         elif lst_check[2] is True and lst_check[1] is False:\\n        #                 df_restaurant = scrape_restaurant_large_display_v2(driver)\\n        #                 print('large v2')\\n        #         elif lst_check[1] is True and lst_check[2] is True:\\n        #                 df_restaurant = scrape_restaurant_large_display(driver)               \\n\\n\\n        # except Exception:\\n        #         print('Skip ' + url)\\n        #         with open('restaurant_fail.txt', 'a') as f:\\n        #                 f.write(url+'\\\\n')\\n        #         driver.close()\\n        #         return None\\n\\n        #driver.close()\\n        return df_restaurant\";\n                var nbb_formatted_code = \"def scrape_restaurant_info(driver, url):\\n    small_display = \\\"/html/body/div[1]/div[1]/div/main/div[5]/ul\\\"\\n    large_display = \\\"/html/body/div[1]/div[1]/div/main/div[5]/div[2]/div[4]/ul\\\"\\n    large_v2_display = \\\"/html/body/div[1]/div[1]/div/main/div[5]/div/div[4]/ul\\\"\\n\\n    lst_check = [\\n        check_exists_by_xpath(small_display, driver),\\n        check_exists_by_xpath(large_display, driver),\\n        check_exists_by_xpath(large_v2_display, driver),\\n    ]\\n\\n    try:\\n        df_restaurant = scrape_restaurant_small_display(driver)\\n    except:\\n        try:\\n            df_restaurant = scrape_restaurant_large_display(driver)\\n        except:\\n            try:\\n                df_restaurant = scrape_restaurant_large_display_v2(driver)\\n            except Exception as e:\\n                print(\\\"Skip \\\" + url)\\n                print(e)\\n                with open(\\\"restaurant_fail.txt\\\", \\\"a\\\") as f:\\n                    f.write(url + \\\"\\\\n\\\")\\n                # driver.close()\\n                return None\\n\\n    # try:\\n    #         if lst_check[0] is True:\\n    #                 df_restaurant = scrape_restaurant_small_display(driver)\\n    #                 print('small')\\n    #         elif lst_check[1] is True and lst_check[2] is False:\\n    #                 df_restaurant = scrape_restaurant_large_display(driver)\\n    #                 print('large')\\n    #         elif lst_check[2] is True and lst_check[1] is False:\\n    #                 df_restaurant = scrape_restaurant_large_display_v2(driver)\\n    #                 print('large v2')\\n    #         elif lst_check[1] is True and lst_check[2] is True:\\n    #                 df_restaurant = scrape_restaurant_large_display(driver)\\n\\n    # except Exception:\\n    #         print('Skip ' + url)\\n    #         with open('restaurant_fail.txt', 'a') as f:\\n    #                 f.write(url+'\\\\n')\\n    #         driver.close()\\n    #         return None\\n\\n    # driver.close()\\n    return df_restaurant\";\n                var nbb_cells = Jupyter.notebook.get_cells();\n                for (var i = 0; i < nbb_cells.length; ++i) {\n                    if (nbb_cells[i].input_prompt_number == nbb_cell_id) {\n                        if (nbb_cells[i].get_text() == nbb_unformatted_code) {\n                             nbb_cells[i].set_text(nbb_formatted_code);\n                        }\n                        break;\n                    }\n                }\n            }, 500);\n            ",
      "text/plain": [
       "<IPython.core.display.Javascript object>"
      ]
     },
     "metadata": {},
     "output_type": "display_data"
    }
   ],
   "source": [
    "def scrape_restaurant_info(driver, url):\n",
    "        small_display = '/html/body/div[1]/div[1]/div/main/div[5]/ul'\n",
    "        large_display = '/html/body/div[1]/div[1]/div/main/div[5]/div[2]/div[4]/ul'\n",
    "        large_v2_display = '/html/body/div[1]/div[1]/div/main/div[5]/div/div[4]/ul'\n",
    "                           \n",
    "        lst_check = [check_exists_by_xpath(small_display, driver), check_exists_by_xpath(large_display, driver), check_exists_by_xpath(large_v2_display, driver)]\n",
    "\n",
    "\n",
    "        try: \n",
    "                df_restaurant = scrape_restaurant_small_display(driver)\n",
    "        except:\n",
    "                try:\n",
    "                        df_restaurant = scrape_restaurant_large_display(driver)\n",
    "                except:\n",
    "                        try:\n",
    "                                df_restaurant = scrape_restaurant_large_display_v2(driver)\n",
    "                        except Exception as e:\n",
    "                                print('Skip ' + url)\n",
    "                                print(e)\n",
    "                                with open('restaurant_fail.txt', 'a') as f:\n",
    "                                        f.write(url+'\\n')\n",
    "                                #driver.close()\n",
    "                                return None\n",
    "\n",
    "\n",
    "        # try:\n",
    "        #         if lst_check[0] is True:\n",
    "        #                 df_restaurant = scrape_restaurant_small_display(driver)\n",
    "        #                 print('small')\n",
    "        #         elif lst_check[1] is True and lst_check[2] is False:\n",
    "        #                 df_restaurant = scrape_restaurant_large_display(driver)               \n",
    "        #                 print('large')\n",
    "        #         elif lst_check[2] is True and lst_check[1] is False:\n",
    "        #                 df_restaurant = scrape_restaurant_large_display_v2(driver)\n",
    "        #                 print('large v2')\n",
    "        #         elif lst_check[1] is True and lst_check[2] is True:\n",
    "        #                 df_restaurant = scrape_restaurant_large_display(driver)               \n",
    "\n",
    "\n",
    "        # except Exception:\n",
    "        #         print('Skip ' + url)\n",
    "        #         with open('restaurant_fail.txt', 'a') as f:\n",
    "        #                 f.write(url+'\\n')\n",
    "        #         driver.close()\n",
    "        #         return None\n",
    "\n",
    "        #driver.close()\n",
    "        return df_restaurant"
   ]
  },
  {
   "cell_type": "code",
   "execution_count": 6,
   "id": "b5e799bf",
   "metadata": {},
   "outputs": [
    {
     "data": {
      "application/javascript": "\n            setTimeout(function() {\n                var nbb_cell_id = 6;\n                var nbb_unformatted_code = \"\\ndef scrape_restaurant_small_display(driver):\\n        small_display = '/html/body/div[1]/div[1]/div/main/div[5]/ul'\\n        df_restaurant = pd.DataFrame(columns = ['title','detail','rating','num_review', 'menu_category', 'name', 'price', 'description', 'status',  'img_url'])\\n\\n        # ===== Header details =====\\n        title = ''\\n        detail = ''\\n        rating = ''\\n        num = ''\\n\\n        try:  \\n                detail = driver.find_element_by_xpath(\\\"/html/body/div[1]/div[1]/div/main/div[4]/div/div[1]/div\\\").text\\n\\n        except:\\n                detail = ''\\n\\n\\n        try:\\n                rating= driver.find_element_by_xpath(\\n                \\\"/html/body/div[1]/div[1]/div/main/div[3]/div/div[2]/div[3]/div[1]/div[2]/div[2]/div[1]/div[1]\\\").text\\n        except:\\n                rating = ''\\n\\n\\n        try:\\n                num = driver.find_element_by_xpath(\\n                \\\"/html/body/div[1]/div[1]/div/main/div[3]/div/div[2]/div[3]/div[1]/div[2]/div[2]/div[1]/div[3]\\\").text\\n        except:\\n                num = ''\\n\\n\\n        try:\\n                title =  driver.find_element_by_xpath(\\\"/html/body/div[1]/div[1]/div/main/div[3]/div/div[2]/div[3]/div[1]/div[2]/div[2]/h1\\\").text,\\n\\n        except:\\n                title = ''\\n\\n\\n        # menu\\n        list_item_element = driver.find_element_by_xpath(small_display).find_element_by_tag_name(\\\"li\\\")\\n        class_name = list_item_element.get_attribute(\\\"class\\\").replace(' ','.')\\n        menu = driver.find_element_by_xpath(small_display).find_elements_by_class_name(class_name)\\n\\n\\n\\n        for x in range(1, len(menu)+1): \\n                cat_pos = \\\"/html/body/div[1]/div[1]/div/main/div[5]/ul/li[\\\" + str(x) + \\\"]/h2\\\"\\n                category = driver.find_element_by_xpath(cat_pos).text \\n\\n                # restaurant['menu'].append({\\n                #         category: []\\n                # })\\n                section = driver.find_element_by_xpath(\\n                        \\\"/html/body/div[1]/div[1]/div/main/div[5]/ul/li[\\\" + str(x) + \\\"]/ul\\\").find_elements_by_tag_name(\\\"li\\\")\\n                        \\n                for y in range(1, len(section)+1):\\n\\n                        # Get Product Name\\n                        try:  \\n                                name = str(driver.find_element_by_xpath(\\n                                        \\\"/html/body/div[1]/div[1]/div/main/div[5]/ul/li[\\\" + str(x) + \\\"]/ul/li[\\\" + str(\\n                                        y) + \\\"]/div/div/div/div[1]/div[1]/h4/div\\\").text)\\n                        except:\\n                                name = ''\\n\\n                        ## Get Product Description\\n                        try:\\n\\n                                description = str(driver.find_element_by_xpath(\\n                                        \\\"/html/body/div[1]/div[1]/div/main/div[5]/ul/li[\\\" + str(x) + \\\"]/ul/li[\\\" + str(\\n                                        y) + \\\"]/div/div/div/div[1]/div[2]/div\\\").text)\\n\\n                        except:\\n                                description = ''\\n\\n                        # Get Product Price\\n                        try:\\n                                price = str(driver.find_element_by_xpath(\\\"/html/body/div[1]/div[1]/div/main/div[5]/ul/li[\\\" + str(x) + \\\"]/ul/li[\\\" + str(\\n                                        y) + \\\"]/div/div/div/div[1]/div[3]/div\\\").text)\\n\\n                                status = \\\"In stock\\\"\\n                                if price == description:\\n                                        description = ''\\n\\n                                if \\\"Sold\\\" in price:\\n                                        status = \\\"Sold out\\\"\\n                                        price = \\\"$\\\" + price.split(\\\"$\\\", 1)[1]\\n                                else:\\n                                        status = \\\"In stock\\\"\\n                        except:\\n\\n                                if \\\"$\\\" in description:\\n                                        price = description\\n                                        description = ''\\n                                else:\\n                                        price = ''\\n                                        status = \\\"In stock\\\"\\n                        \\n                        # Get Image URL  \\n                        \\n                        \\n                        try:  \\n                                img_url = str(driver.find_element_by_xpath(\\n                                        \\\"/html/body/div[1]/div[1]/div/main/div[5]/ul/li[\\\" + str(x) + \\\"]/ul/li[\\\" + str(\\\\\\n                                        y) + \\\"]/div/div/div/div[2]/div/picture/img\\\").get_attribute(\\\"src\\\"))\\n\\n\\n                        \\n                        except:\\n                                img_url = ''\\n\\n\\n                        try:\\n                                df_restaurant = df_restaurant.append({\\n                                'title': title,\\n                                'detail': detail,\\n                                'rating': rating,\\n                                'num_review': num,\\n                                'menu_category': category,\\n                                'name': name,\\n                                'price': price,\\n                                'description': description,\\n                                'status': status,\\n                                'img_url': img_url\\n                                }, ignore_index=True)\\n                        except:\\n                                df_restaurant = df_restaurant.append({\\n                                'title': title,\\n                                'detail': detail,\\n                                'rating': rating,\\n                                'num_review': num,\\n                                'menu_category': category,\\n                                'name': name,\\n                                'price': price,\\n                                'description': description,\\n                                'img_url': img_url\\n                                }, ignore_index=True)\\n                \\n        return df_restaurant\";\n                var nbb_formatted_code = \"def scrape_restaurant_small_display(driver):\\n    small_display = \\\"/html/body/div[1]/div[1]/div/main/div[5]/ul\\\"\\n    df_restaurant = pd.DataFrame(\\n        columns=[\\n            \\\"title\\\",\\n            \\\"detail\\\",\\n            \\\"rating\\\",\\n            \\\"num_review\\\",\\n            \\\"menu_category\\\",\\n            \\\"name\\\",\\n            \\\"price\\\",\\n            \\\"description\\\",\\n            \\\"status\\\",\\n            \\\"img_url\\\",\\n        ]\\n    )\\n\\n    # ===== Header details =====\\n    title = \\\"\\\"\\n    detail = \\\"\\\"\\n    rating = \\\"\\\"\\n    num = \\\"\\\"\\n\\n    try:\\n        detail = driver.find_element_by_xpath(\\n            \\\"/html/body/div[1]/div[1]/div/main/div[4]/div/div[1]/div\\\"\\n        ).text\\n\\n    except:\\n        detail = \\\"\\\"\\n\\n    try:\\n        rating = driver.find_element_by_xpath(\\n            \\\"/html/body/div[1]/div[1]/div/main/div[3]/div/div[2]/div[3]/div[1]/div[2]/div[2]/div[1]/div[1]\\\"\\n        ).text\\n    except:\\n        rating = \\\"\\\"\\n\\n    try:\\n        num = driver.find_element_by_xpath(\\n            \\\"/html/body/div[1]/div[1]/div/main/div[3]/div/div[2]/div[3]/div[1]/div[2]/div[2]/div[1]/div[3]\\\"\\n        ).text\\n    except:\\n        num = \\\"\\\"\\n\\n    try:\\n        title = (\\n            driver.find_element_by_xpath(\\n                \\\"/html/body/div[1]/div[1]/div/main/div[3]/div/div[2]/div[3]/div[1]/div[2]/div[2]/h1\\\"\\n            ).text,\\n        )\\n\\n    except:\\n        title = \\\"\\\"\\n\\n    # menu\\n    list_item_element = driver.find_element_by_xpath(\\n        small_display\\n    ).find_element_by_tag_name(\\\"li\\\")\\n    class_name = list_item_element.get_attribute(\\\"class\\\").replace(\\\" \\\", \\\".\\\")\\n    menu = driver.find_element_by_xpath(small_display).find_elements_by_class_name(\\n        class_name\\n    )\\n\\n    for x in range(1, len(menu) + 1):\\n        cat_pos = \\\"/html/body/div[1]/div[1]/div/main/div[5]/ul/li[\\\" + str(x) + \\\"]/h2\\\"\\n        category = driver.find_element_by_xpath(cat_pos).text\\n\\n        # restaurant['menu'].append({\\n        #         category: []\\n        # })\\n        section = driver.find_element_by_xpath(\\n            \\\"/html/body/div[1]/div[1]/div/main/div[5]/ul/li[\\\" + str(x) + \\\"]/ul\\\"\\n        ).find_elements_by_tag_name(\\\"li\\\")\\n\\n        for y in range(1, len(section) + 1):\\n\\n            # Get Product Name\\n            try:\\n                name = str(\\n                    driver.find_element_by_xpath(\\n                        \\\"/html/body/div[1]/div[1]/div/main/div[5]/ul/li[\\\"\\n                        + str(x)\\n                        + \\\"]/ul/li[\\\"\\n                        + str(y)\\n                        + \\\"]/div/div/div/div[1]/div[1]/h4/div\\\"\\n                    ).text\\n                )\\n            except:\\n                name = \\\"\\\"\\n\\n            ## Get Product Description\\n            try:\\n\\n                description = str(\\n                    driver.find_element_by_xpath(\\n                        \\\"/html/body/div[1]/div[1]/div/main/div[5]/ul/li[\\\"\\n                        + str(x)\\n                        + \\\"]/ul/li[\\\"\\n                        + str(y)\\n                        + \\\"]/div/div/div/div[1]/div[2]/div\\\"\\n                    ).text\\n                )\\n\\n            except:\\n                description = \\\"\\\"\\n\\n            # Get Product Price\\n            try:\\n                price = str(\\n                    driver.find_element_by_xpath(\\n                        \\\"/html/body/div[1]/div[1]/div/main/div[5]/ul/li[\\\"\\n                        + str(x)\\n                        + \\\"]/ul/li[\\\"\\n                        + str(y)\\n                        + \\\"]/div/div/div/div[1]/div[3]/div\\\"\\n                    ).text\\n                )\\n\\n                status = \\\"In stock\\\"\\n                if price == description:\\n                    description = \\\"\\\"\\n\\n                if \\\"Sold\\\" in price:\\n                    status = \\\"Sold out\\\"\\n                    price = \\\"$\\\" + price.split(\\\"$\\\", 1)[1]\\n                else:\\n                    status = \\\"In stock\\\"\\n            except:\\n\\n                if \\\"$\\\" in description:\\n                    price = description\\n                    description = \\\"\\\"\\n                else:\\n                    price = \\\"\\\"\\n                    status = \\\"In stock\\\"\\n\\n            # Get Image URL\\n\\n            try:\\n                img_url = str(\\n                    driver.find_element_by_xpath(\\n                        \\\"/html/body/div[1]/div[1]/div/main/div[5]/ul/li[\\\"\\n                        + str(x)\\n                        + \\\"]/ul/li[\\\"\\n                        + str(y)\\n                        + \\\"]/div/div/div/div[2]/div/picture/img\\\"\\n                    ).get_attribute(\\\"src\\\")\\n                )\\n\\n            except:\\n                img_url = \\\"\\\"\\n\\n            try:\\n                df_restaurant = df_restaurant.append(\\n                    {\\n                        \\\"title\\\": title,\\n                        \\\"detail\\\": detail,\\n                        \\\"rating\\\": rating,\\n                        \\\"num_review\\\": num,\\n                        \\\"menu_category\\\": category,\\n                        \\\"name\\\": name,\\n                        \\\"price\\\": price,\\n                        \\\"description\\\": description,\\n                        \\\"status\\\": status,\\n                        \\\"img_url\\\": img_url,\\n                    },\\n                    ignore_index=True,\\n                )\\n            except:\\n                df_restaurant = df_restaurant.append(\\n                    {\\n                        \\\"title\\\": title,\\n                        \\\"detail\\\": detail,\\n                        \\\"rating\\\": rating,\\n                        \\\"num_review\\\": num,\\n                        \\\"menu_category\\\": category,\\n                        \\\"name\\\": name,\\n                        \\\"price\\\": price,\\n                        \\\"description\\\": description,\\n                        \\\"img_url\\\": img_url,\\n                    },\\n                    ignore_index=True,\\n                )\\n\\n    return df_restaurant\";\n                var nbb_cells = Jupyter.notebook.get_cells();\n                for (var i = 0; i < nbb_cells.length; ++i) {\n                    if (nbb_cells[i].input_prompt_number == nbb_cell_id) {\n                        if (nbb_cells[i].get_text() == nbb_unformatted_code) {\n                             nbb_cells[i].set_text(nbb_formatted_code);\n                        }\n                        break;\n                    }\n                }\n            }, 500);\n            ",
      "text/plain": [
       "<IPython.core.display.Javascript object>"
      ]
     },
     "metadata": {},
     "output_type": "display_data"
    }
   ],
   "source": [
    "\n",
    "def scrape_restaurant_small_display(driver):\n",
    "        small_display = '/html/body/div[1]/div[1]/div/main/div[5]/ul'\n",
    "        df_restaurant = pd.DataFrame(columns = ['title','detail','rating','num_review', 'menu_category', 'name', 'price', 'description', 'status',  'img_url'])\n",
    "\n",
    "        # ===== Header details =====\n",
    "        title = ''\n",
    "        detail = ''\n",
    "        rating = ''\n",
    "        num = ''\n",
    "\n",
    "        try:  \n",
    "                detail = driver.find_element_by_xpath(\"/html/body/div[1]/div[1]/div/main/div[4]/div/div[1]/div\").text\n",
    "\n",
    "        except:\n",
    "                detail = ''\n",
    "\n",
    "\n",
    "        try:\n",
    "                rating= driver.find_element_by_xpath(\n",
    "                \"/html/body/div[1]/div[1]/div/main/div[3]/div/div[2]/div[3]/div[1]/div[2]/div[2]/div[1]/div[1]\").text\n",
    "        except:\n",
    "                rating = ''\n",
    "\n",
    "\n",
    "        try:\n",
    "                num = driver.find_element_by_xpath(\n",
    "                \"/html/body/div[1]/div[1]/div/main/div[3]/div/div[2]/div[3]/div[1]/div[2]/div[2]/div[1]/div[3]\").text\n",
    "        except:\n",
    "                num = ''\n",
    "\n",
    "\n",
    "        try:\n",
    "                title =  driver.find_element_by_xpath(\"/html/body/div[1]/div[1]/div/main/div[3]/div/div[2]/div[3]/div[1]/div[2]/div[2]/h1\").text,\n",
    "\n",
    "        except:\n",
    "                title = ''\n",
    "\n",
    "\n",
    "        # menu\n",
    "        list_item_element = driver.find_element_by_xpath(small_display).find_element_by_tag_name(\"li\")\n",
    "        class_name = list_item_element.get_attribute(\"class\").replace(' ','.')\n",
    "        menu = driver.find_element_by_xpath(small_display).find_elements_by_class_name(class_name)\n",
    "\n",
    "\n",
    "\n",
    "        for x in range(1, len(menu)+1): \n",
    "                cat_pos = \"/html/body/div[1]/div[1]/div/main/div[5]/ul/li[\" + str(x) + \"]/h2\"\n",
    "                category = driver.find_element_by_xpath(cat_pos).text \n",
    "\n",
    "                # restaurant['menu'].append({\n",
    "                #         category: []\n",
    "                # })\n",
    "                section = driver.find_element_by_xpath(\n",
    "                        \"/html/body/div[1]/div[1]/div/main/div[5]/ul/li[\" + str(x) + \"]/ul\").find_elements_by_tag_name(\"li\")\n",
    "                        \n",
    "                for y in range(1, len(section)+1):\n",
    "\n",
    "                        # Get Product Name\n",
    "                        try:  \n",
    "                                name = str(driver.find_element_by_xpath(\n",
    "                                        \"/html/body/div[1]/div[1]/div/main/div[5]/ul/li[\" + str(x) + \"]/ul/li[\" + str(\n",
    "                                        y) + \"]/div/div/div/div[1]/div[1]/h4/div\").text)\n",
    "                        except:\n",
    "                                name = ''\n",
    "\n",
    "                        ## Get Product Description\n",
    "                        try:\n",
    "\n",
    "                                description = str(driver.find_element_by_xpath(\n",
    "                                        \"/html/body/div[1]/div[1]/div/main/div[5]/ul/li[\" + str(x) + \"]/ul/li[\" + str(\n",
    "                                        y) + \"]/div/div/div/div[1]/div[2]/div\").text)\n",
    "\n",
    "                        except:\n",
    "                                description = ''\n",
    "\n",
    "                        # Get Product Price\n",
    "                        try:\n",
    "                                price = str(driver.find_element_by_xpath(\"/html/body/div[1]/div[1]/div/main/div[5]/ul/li[\" + str(x) + \"]/ul/li[\" + str(\n",
    "                                        y) + \"]/div/div/div/div[1]/div[3]/div\").text)\n",
    "\n",
    "                                status = \"In stock\"\n",
    "                                if price == description:\n",
    "                                        description = ''\n",
    "\n",
    "                                if \"Sold\" in price:\n",
    "                                        status = \"Sold out\"\n",
    "                                        price = \"$\" + price.split(\"$\", 1)[1]\n",
    "                                else:\n",
    "                                        status = \"In stock\"\n",
    "                        except:\n",
    "\n",
    "                                if \"$\" in description:\n",
    "                                        price = description\n",
    "                                        description = ''\n",
    "                                else:\n",
    "                                        price = ''\n",
    "                                        status = \"In stock\"\n",
    "                        \n",
    "                        # Get Image URL  \n",
    "                        \n",
    "                        \n",
    "                        try:  \n",
    "                                img_url = str(driver.find_element_by_xpath(\n",
    "                                        \"/html/body/div[1]/div[1]/div/main/div[5]/ul/li[\" + str(x) + \"]/ul/li[\" + str(\\\n",
    "                                        y) + \"]/div/div/div/div[2]/div/picture/img\").get_attribute(\"src\"))\n",
    "\n",
    "\n",
    "                        \n",
    "                        except:\n",
    "                                img_url = ''\n",
    "\n",
    "\n",
    "                        try:\n",
    "                                df_restaurant = df_restaurant.append({\n",
    "                                'title': title,\n",
    "                                'detail': detail,\n",
    "                                'rating': rating,\n",
    "                                'num_review': num,\n",
    "                                'menu_category': category,\n",
    "                                'name': name,\n",
    "                                'price': price,\n",
    "                                'description': description,\n",
    "                                'status': status,\n",
    "                                'img_url': img_url\n",
    "                                }, ignore_index=True)\n",
    "                        except:\n",
    "                                df_restaurant = df_restaurant.append({\n",
    "                                'title': title,\n",
    "                                'detail': detail,\n",
    "                                'rating': rating,\n",
    "                                'num_review': num,\n",
    "                                'menu_category': category,\n",
    "                                'name': name,\n",
    "                                'price': price,\n",
    "                                'description': description,\n",
    "                                'img_url': img_url\n",
    "                                }, ignore_index=True)\n",
    "                \n",
    "        return df_restaurant\n"
   ]
  },
  {
   "cell_type": "code",
   "execution_count": 7,
   "id": "5ed9dec0",
   "metadata": {},
   "outputs": [
    {
     "data": {
      "application/javascript": "\n            setTimeout(function() {\n                var nbb_cell_id = 7;\n                var nbb_unformatted_code = \"\\ndef scrape_restaurant_large_display(driver):\\n        df_restaurant = pd.DataFrame(columns = ['title','detail','rating','num_review', 'menu_category', 'name', 'price', 'description', 'status',  'img_url'])\\n        large_display = '/html/body/div[1]/div[1]/div/main/div[5]/div[2]/div[4]/ul'\\n\\n        \\n        # ===== Header details =====\\n        title = ''\\n        detail = ''\\n        rating = ''\\n        num = ''\\n\\n        try:  \\n                detail = driver.find_element_by_xpath(\\\"/html/body/div[1]/div[1]/div/main/div[4]/div/div[1]/div\\\").text\\n\\n        except:\\n                detail = ''\\n\\n\\n        try:\\n                rating= driver.find_element_by_xpath(\\n                \\\"/html/body/div[1]/div[1]/div/main/div[3]/div/div[2]/div[3]/div[1]/div[2]/div[2]/div[1]/div[1]\\\").text\\n        except:\\n                rating = ''\\n\\n\\n        try:\\n                num = driver.find_element_by_xpath(\\n                \\\"/html/body/div[1]/div[1]/div/main/div[3]/div/div[2]/div[3]/div[1]/div[2]/div[2]/div[1]/div[3]\\\").text\\n        except:\\n                num = ''\\n\\n\\n        try:\\n                title =  driver.find_element_by_xpath(\\\"/html/body/div[1]/div[1]/div/main/div[3]/div/div[2]/div[3]/div[1]/div[2]/div[2]/h1\\\").text,\\n\\n        except:\\n                title = ''\\n\\n\\n        # menu\\n        list_item_element = driver.find_element_by_xpath(large_display).find_element_by_tag_name(\\\"li\\\")\\n        class_name = list_item_element.get_attribute(\\\"class\\\").replace(' ','.')\\n        menu = driver.find_element_by_xpath(large_display).find_elements_by_class_name(class_name)\\n\\n        for x in range(1, len(menu)+1): \\n                cat_pos = \\\"/html/body/div[1]/div[1]/div/main/div[5]/div[2]/div[4]/ul/li[\\\" + str(x) + \\\"]/div[1]\\\"\\n                category = driver.find_element_by_xpath(cat_pos).text \\n                # restaurant['menu'].append({\\n                #         category: []\\n                # })\\n\\n                section = driver.find_element_by_xpath(\\n                        \\\"/html/body/div[1]/div[1]/div/main/div[5]/div[2]/div[4]/ul/li[\\\" + str(x) + \\\"]/ul\\\").find_elements_by_tag_name(\\\"li\\\")\\n                        \\n                for y in range(1, len(section)+1):\\n\\n                        # Get Product Name\\n                        try:  \\n                                name = str(driver.find_element_by_xpath(\\n                                        \\\"/html/body/div[1]/div[1]/div/main/div[5]/div[2]/div[4]/ul/li[\\\" + str(x) + \\\"]/ul/li[\\\" + str(\\n                                        y) + \\\"]/div/div/div[2]/div[1]/span\\\").text)\\n                        except:\\n                                name = ''\\n\\n                        ## Get Product Description\\n                        try:\\n\\n                                description = str(driver.find_element_by_xpath(\\n                                        \\\"/html/body/div[1]/div[1]/div/main/div[5]/div[2]/div[4]/ul/li[\\\" + str(x) + \\\"]/ul/li[\\\" + str(\\n                                        y) + \\\"]/div/div/div[2]/div[1]/span\\\").text)\\n\\n                        except:\\n                                description = ''\\n\\n                        # Get Product Price\\n                        try:\\n                                   \\n                                price = str(driver.find_element_by_xpath(\\\"/html/body/div[1]/div[1]/div/main/div[5]/div[2]/div[4]/ul/li[\\\" + str(x) + \\\"]/ul/li[\\\" + str(\\n                                        y) + \\\"]/div/div/div[2]/div[2]/span\\\").text)\\n\\n                                if price == description:\\n                                        description = ''\\n\\n                                if \\\"Sold\\\" in price:\\n                                        status = \\\"Sold out\\\"\\n                                        price = \\\"$\\\" + price.split(\\\"$\\\", 1)[1]\\n                                else:\\n                                        status = \\\"In stock\\\"\\n                        except:\\n\\n                                if \\\"$\\\" in description:\\n                                        price = description\\n                                        description = ''\\n                                else:\\n                                        price = ''\\n                        \\n                        # Get Image URL  \\n                        try:  \\n                                img_url = str(driver.find_element_by_xpath(\\n                                        \\\"/html/body/div[1]/div[1]/div/main/div[5]/div[2]/div[4]/ul/li[\\\" + str(x) + \\\"]/ul/li[\\\" + str(\\\\\\n                                        y) + \\\"]/div/div/div[1]/div/picture/img\\\").get_attribute(\\\"src\\\"))\\n        \\n                        except:\\n                                img_url = ''\\n\\n                        try:\\n                                df_restaurant = df_restaurant.append({\\n                                'title': title,\\n                                'detail': detail,\\n                                'rating': rating,\\n                                'num_review': num,\\n                                'menu_category': category,\\n                                'name': name,\\n                                'price': price,\\n                                'description': description,\\n                                'status': status,\\n                                'img_url': img_url\\n                                }, ignore_index=True)\\n                        except:\\n                                df_restaurant = df_restaurant.append({\\n                                'title': title,\\n                                'detail': detail,\\n                                'rating': rating,\\n                                'num_review': num,\\n                                'menu_category': category,\\n                                'name': name,\\n                                'price': price,\\n                                'description': description,\\n                                'img_url': img_url\\n                                }, ignore_index=True)\\n                \\n\\n\\n        return df_restaurant\";\n                var nbb_formatted_code = \"def scrape_restaurant_large_display(driver):\\n    df_restaurant = pd.DataFrame(\\n        columns=[\\n            \\\"title\\\",\\n            \\\"detail\\\",\\n            \\\"rating\\\",\\n            \\\"num_review\\\",\\n            \\\"menu_category\\\",\\n            \\\"name\\\",\\n            \\\"price\\\",\\n            \\\"description\\\",\\n            \\\"status\\\",\\n            \\\"img_url\\\",\\n        ]\\n    )\\n    large_display = \\\"/html/body/div[1]/div[1]/div/main/div[5]/div[2]/div[4]/ul\\\"\\n\\n    # ===== Header details =====\\n    title = \\\"\\\"\\n    detail = \\\"\\\"\\n    rating = \\\"\\\"\\n    num = \\\"\\\"\\n\\n    try:\\n        detail = driver.find_element_by_xpath(\\n            \\\"/html/body/div[1]/div[1]/div/main/div[4]/div/div[1]/div\\\"\\n        ).text\\n\\n    except:\\n        detail = \\\"\\\"\\n\\n    try:\\n        rating = driver.find_element_by_xpath(\\n            \\\"/html/body/div[1]/div[1]/div/main/div[3]/div/div[2]/div[3]/div[1]/div[2]/div[2]/div[1]/div[1]\\\"\\n        ).text\\n    except:\\n        rating = \\\"\\\"\\n\\n    try:\\n        num = driver.find_element_by_xpath(\\n            \\\"/html/body/div[1]/div[1]/div/main/div[3]/div/div[2]/div[3]/div[1]/div[2]/div[2]/div[1]/div[3]\\\"\\n        ).text\\n    except:\\n        num = \\\"\\\"\\n\\n    try:\\n        title = (\\n            driver.find_element_by_xpath(\\n                \\\"/html/body/div[1]/div[1]/div/main/div[3]/div/div[2]/div[3]/div[1]/div[2]/div[2]/h1\\\"\\n            ).text,\\n        )\\n\\n    except:\\n        title = \\\"\\\"\\n\\n    # menu\\n    list_item_element = driver.find_element_by_xpath(\\n        large_display\\n    ).find_element_by_tag_name(\\\"li\\\")\\n    class_name = list_item_element.get_attribute(\\\"class\\\").replace(\\\" \\\", \\\".\\\")\\n    menu = driver.find_element_by_xpath(large_display).find_elements_by_class_name(\\n        class_name\\n    )\\n\\n    for x in range(1, len(menu) + 1):\\n        cat_pos = (\\n            \\\"/html/body/div[1]/div[1]/div/main/div[5]/div[2]/div[4]/ul/li[\\\"\\n            + str(x)\\n            + \\\"]/div[1]\\\"\\n        )\\n        category = driver.find_element_by_xpath(cat_pos).text\\n        # restaurant['menu'].append({\\n        #         category: []\\n        # })\\n\\n        section = driver.find_element_by_xpath(\\n            \\\"/html/body/div[1]/div[1]/div/main/div[5]/div[2]/div[4]/ul/li[\\\"\\n            + str(x)\\n            + \\\"]/ul\\\"\\n        ).find_elements_by_tag_name(\\\"li\\\")\\n\\n        for y in range(1, len(section) + 1):\\n\\n            # Get Product Name\\n            try:\\n                name = str(\\n                    driver.find_element_by_xpath(\\n                        \\\"/html/body/div[1]/div[1]/div/main/div[5]/div[2]/div[4]/ul/li[\\\"\\n                        + str(x)\\n                        + \\\"]/ul/li[\\\"\\n                        + str(y)\\n                        + \\\"]/div/div/div[2]/div[1]/span\\\"\\n                    ).text\\n                )\\n            except:\\n                name = \\\"\\\"\\n\\n            ## Get Product Description\\n            try:\\n\\n                description = str(\\n                    driver.find_element_by_xpath(\\n                        \\\"/html/body/div[1]/div[1]/div/main/div[5]/div[2]/div[4]/ul/li[\\\"\\n                        + str(x)\\n                        + \\\"]/ul/li[\\\"\\n                        + str(y)\\n                        + \\\"]/div/div/div[2]/div[1]/span\\\"\\n                    ).text\\n                )\\n\\n            except:\\n                description = \\\"\\\"\\n\\n            # Get Product Price\\n            try:\\n\\n                price = str(\\n                    driver.find_element_by_xpath(\\n                        \\\"/html/body/div[1]/div[1]/div/main/div[5]/div[2]/div[4]/ul/li[\\\"\\n                        + str(x)\\n                        + \\\"]/ul/li[\\\"\\n                        + str(y)\\n                        + \\\"]/div/div/div[2]/div[2]/span\\\"\\n                    ).text\\n                )\\n\\n                if price == description:\\n                    description = \\\"\\\"\\n\\n                if \\\"Sold\\\" in price:\\n                    status = \\\"Sold out\\\"\\n                    price = \\\"$\\\" + price.split(\\\"$\\\", 1)[1]\\n                else:\\n                    status = \\\"In stock\\\"\\n            except:\\n\\n                if \\\"$\\\" in description:\\n                    price = description\\n                    description = \\\"\\\"\\n                else:\\n                    price = \\\"\\\"\\n\\n            # Get Image URL\\n            try:\\n                img_url = str(\\n                    driver.find_element_by_xpath(\\n                        \\\"/html/body/div[1]/div[1]/div/main/div[5]/div[2]/div[4]/ul/li[\\\"\\n                        + str(x)\\n                        + \\\"]/ul/li[\\\"\\n                        + str(y)\\n                        + \\\"]/div/div/div[1]/div/picture/img\\\"\\n                    ).get_attribute(\\\"src\\\")\\n                )\\n\\n            except:\\n                img_url = \\\"\\\"\\n\\n            try:\\n                df_restaurant = df_restaurant.append(\\n                    {\\n                        \\\"title\\\": title,\\n                        \\\"detail\\\": detail,\\n                        \\\"rating\\\": rating,\\n                        \\\"num_review\\\": num,\\n                        \\\"menu_category\\\": category,\\n                        \\\"name\\\": name,\\n                        \\\"price\\\": price,\\n                        \\\"description\\\": description,\\n                        \\\"status\\\": status,\\n                        \\\"img_url\\\": img_url,\\n                    },\\n                    ignore_index=True,\\n                )\\n            except:\\n                df_restaurant = df_restaurant.append(\\n                    {\\n                        \\\"title\\\": title,\\n                        \\\"detail\\\": detail,\\n                        \\\"rating\\\": rating,\\n                        \\\"num_review\\\": num,\\n                        \\\"menu_category\\\": category,\\n                        \\\"name\\\": name,\\n                        \\\"price\\\": price,\\n                        \\\"description\\\": description,\\n                        \\\"img_url\\\": img_url,\\n                    },\\n                    ignore_index=True,\\n                )\\n\\n    return df_restaurant\";\n                var nbb_cells = Jupyter.notebook.get_cells();\n                for (var i = 0; i < nbb_cells.length; ++i) {\n                    if (nbb_cells[i].input_prompt_number == nbb_cell_id) {\n                        if (nbb_cells[i].get_text() == nbb_unformatted_code) {\n                             nbb_cells[i].set_text(nbb_formatted_code);\n                        }\n                        break;\n                    }\n                }\n            }, 500);\n            ",
      "text/plain": [
       "<IPython.core.display.Javascript object>"
      ]
     },
     "metadata": {},
     "output_type": "display_data"
    }
   ],
   "source": [
    "\n",
    "def scrape_restaurant_large_display(driver):\n",
    "        df_restaurant = pd.DataFrame(columns = ['title','detail','rating','num_review', 'menu_category', 'name', 'price', 'description', 'status',  'img_url'])\n",
    "        large_display = '/html/body/div[1]/div[1]/div/main/div[5]/div[2]/div[4]/ul'\n",
    "\n",
    "        \n",
    "        # ===== Header details =====\n",
    "        title = ''\n",
    "        detail = ''\n",
    "        rating = ''\n",
    "        num = ''\n",
    "\n",
    "        try:  \n",
    "                detail = driver.find_element_by_xpath(\"/html/body/div[1]/div[1]/div/main/div[4]/div/div[1]/div\").text\n",
    "\n",
    "        except:\n",
    "                detail = ''\n",
    "\n",
    "\n",
    "        try:\n",
    "                rating= driver.find_element_by_xpath(\n",
    "                \"/html/body/div[1]/div[1]/div/main/div[3]/div/div[2]/div[3]/div[1]/div[2]/div[2]/div[1]/div[1]\").text\n",
    "        except:\n",
    "                rating = ''\n",
    "\n",
    "\n",
    "        try:\n",
    "                num = driver.find_element_by_xpath(\n",
    "                \"/html/body/div[1]/div[1]/div/main/div[3]/div/div[2]/div[3]/div[1]/div[2]/div[2]/div[1]/div[3]\").text\n",
    "        except:\n",
    "                num = ''\n",
    "\n",
    "\n",
    "        try:\n",
    "                title =  driver.find_element_by_xpath(\"/html/body/div[1]/div[1]/div/main/div[3]/div/div[2]/div[3]/div[1]/div[2]/div[2]/h1\").text,\n",
    "\n",
    "        except:\n",
    "                title = ''\n",
    "\n",
    "\n",
    "        # menu\n",
    "        list_item_element = driver.find_element_by_xpath(large_display).find_element_by_tag_name(\"li\")\n",
    "        class_name = list_item_element.get_attribute(\"class\").replace(' ','.')\n",
    "        menu = driver.find_element_by_xpath(large_display).find_elements_by_class_name(class_name)\n",
    "\n",
    "        for x in range(1, len(menu)+1): \n",
    "                cat_pos = \"/html/body/div[1]/div[1]/div/main/div[5]/div[2]/div[4]/ul/li[\" + str(x) + \"]/div[1]\"\n",
    "                category = driver.find_element_by_xpath(cat_pos).text \n",
    "                # restaurant['menu'].append({\n",
    "                #         category: []\n",
    "                # })\n",
    "\n",
    "                section = driver.find_element_by_xpath(\n",
    "                        \"/html/body/div[1]/div[1]/div/main/div[5]/div[2]/div[4]/ul/li[\" + str(x) + \"]/ul\").find_elements_by_tag_name(\"li\")\n",
    "                        \n",
    "                for y in range(1, len(section)+1):\n",
    "\n",
    "                        # Get Product Name\n",
    "                        try:  \n",
    "                                name = str(driver.find_element_by_xpath(\n",
    "                                        \"/html/body/div[1]/div[1]/div/main/div[5]/div[2]/div[4]/ul/li[\" + str(x) + \"]/ul/li[\" + str(\n",
    "                                        y) + \"]/div/div/div[2]/div[1]/span\").text)\n",
    "                        except:\n",
    "                                name = ''\n",
    "\n",
    "                        ## Get Product Description\n",
    "                        try:\n",
    "\n",
    "                                description = str(driver.find_element_by_xpath(\n",
    "                                        \"/html/body/div[1]/div[1]/div/main/div[5]/div[2]/div[4]/ul/li[\" + str(x) + \"]/ul/li[\" + str(\n",
    "                                        y) + \"]/div/div/div[2]/div[1]/span\").text)\n",
    "\n",
    "                        except:\n",
    "                                description = ''\n",
    "\n",
    "                        # Get Product Price\n",
    "                        try:\n",
    "                                   \n",
    "                                price = str(driver.find_element_by_xpath(\"/html/body/div[1]/div[1]/div/main/div[5]/div[2]/div[4]/ul/li[\" + str(x) + \"]/ul/li[\" + str(\n",
    "                                        y) + \"]/div/div/div[2]/div[2]/span\").text)\n",
    "\n",
    "                                if price == description:\n",
    "                                        description = ''\n",
    "\n",
    "                                if \"Sold\" in price:\n",
    "                                        status = \"Sold out\"\n",
    "                                        price = \"$\" + price.split(\"$\", 1)[1]\n",
    "                                else:\n",
    "                                        status = \"In stock\"\n",
    "                        except:\n",
    "\n",
    "                                if \"$\" in description:\n",
    "                                        price = description\n",
    "                                        description = ''\n",
    "                                else:\n",
    "                                        price = ''\n",
    "                        \n",
    "                        # Get Image URL  \n",
    "                        try:  \n",
    "                                img_url = str(driver.find_element_by_xpath(\n",
    "                                        \"/html/body/div[1]/div[1]/div/main/div[5]/div[2]/div[4]/ul/li[\" + str(x) + \"]/ul/li[\" + str(\\\n",
    "                                        y) + \"]/div/div/div[1]/div/picture/img\").get_attribute(\"src\"))\n",
    "        \n",
    "                        except:\n",
    "                                img_url = ''\n",
    "\n",
    "                        try:\n",
    "                                df_restaurant = df_restaurant.append({\n",
    "                                'title': title,\n",
    "                                'detail': detail,\n",
    "                                'rating': rating,\n",
    "                                'num_review': num,\n",
    "                                'menu_category': category,\n",
    "                                'name': name,\n",
    "                                'price': price,\n",
    "                                'description': description,\n",
    "                                'status': status,\n",
    "                                'img_url': img_url\n",
    "                                }, ignore_index=True)\n",
    "                        except:\n",
    "                                df_restaurant = df_restaurant.append({\n",
    "                                'title': title,\n",
    "                                'detail': detail,\n",
    "                                'rating': rating,\n",
    "                                'num_review': num,\n",
    "                                'menu_category': category,\n",
    "                                'name': name,\n",
    "                                'price': price,\n",
    "                                'description': description,\n",
    "                                'img_url': img_url\n",
    "                                }, ignore_index=True)\n",
    "                \n",
    "\n",
    "\n",
    "        return df_restaurant\n"
   ]
  },
  {
   "cell_type": "code",
   "execution_count": 16,
   "id": "e1d0c11f",
   "metadata": {},
   "outputs": [
    {
     "data": {
      "application/javascript": "\n            setTimeout(function() {\n                var nbb_cell_id = 16;\n                var nbb_unformatted_code = \"\\ndef scrape_restaurant_large_display_v2(driver):\\n        df_restaurant = pd.DataFrame(columns = ['title','detail','rating','num_review', 'menu_category', 'name', 'price', 'description', 'status',  'img_url', 'img_url_contingency', 'product_content'])\\n        large_v2_display = '/html/body/div[1]/div[1]/div/main/div[5]/div/div[4]/ul'\\n\\n        \\n        # ===== Header details =====\\n        title = ''\\n        detail = ''\\n        rating = ''\\n        num = ''\\n\\n        try:  \\n                detail = driver.find_element_by_xpath(\\\"/html/body/div[1]/div[1]/div/main/div[4]/div/div[1]/div\\\").text\\n\\n        except:\\n                detail = ''\\n\\n\\n        try:\\n                rating= driver.find_element_by_xpath(\\n                \\\"/html/body/div[1]/div[1]/div/main/div[3]/div/div[2]/div[3]/div[1]/div[2]/div[2]/div[1]/div[1]\\\").text\\n        except:\\n                rating = ''\\n\\n\\n        try:\\n                num = driver.find_element_by_xpath(\\n                \\\"/html/body/div[1]/div[1]/div/main/div[3]/div/div[2]/div[3]/div[1]/div[2]/div[2]/div[1]/div[3]\\\").text\\n        except:\\n                num = ''\\n\\n\\n        try:\\n                title =  driver.find_element_by_xpath(\\\"/html/body/div[1]/div[1]/div/main/div[3]/div/div[2]/div[3]/div[1]/div[2]/div[2]/h1\\\").text,\\n\\n        except:\\n                title = ''\\n\\n\\n        # menu\\n        list_item_element = driver.find_element_by_xpath(large_v2_display).find_element_by_tag_name(\\\"li\\\")\\n        class_name = list_item_element.get_attribute(\\\"class\\\").replace(' ','.')\\n        menu = driver.find_element_by_xpath(large_v2_display).find_elements_by_class_name(class_name)\\n\\n        for x in range(1, len(menu)+1): \\n                cat_pos = \\\"/html/body/div[1]/div[1]/div/main/div[5]/div/div[4]/ul/li[\\\" + str(x) + \\\"]/div[1]\\\"\\n                category = driver.find_element_by_xpath(cat_pos).text \\n                # restaurant['menu'].append({\\n                #         category: []\\n                # }) \\n                section = driver.find_element_by_xpath(\\n                        \\\"/html/body/div[1]/div[1]/div/main/div[5]/div/div[4]/ul/li[\\\" + str(x) + \\\"]/ul\\\").find_elements_by_tag_name(\\\"li\\\")\\n                        \\n                for y in range(1, len(section)+1):\\n\\n                        # Get Product Name\\n                        try:   \\n                                name = str(driver.find_element_by_xpath(\\n                                        \\\"/html/body/div[1]/div[1]/div/main/div[5]/div/div[4]/ul/li[\\\" + str(x) + \\\"]/ul/li[\\\" + str(\\n                                        y) + \\\"]/div/div/div[2]/div[1]/span\\\").text)\\n                        except:\\n                                name = ''\\n\\n                        ## Get Product Description\\n                        try:\\n\\n                                description = str(driver.find_element_by_xpath(\\n                                        \\\"/html/body/div[1]/div[1]/div/main/div[5]/div/div[4]/ul/li[\\\" + str(x) + \\\"]/ul/li[\\\" + str(\\n                                        y) + \\\"]/div/div/div[2]/div[1]/span\\\").text)\\n\\n                        except:\\n                                description = ''\\n\\n                        # Get Product Price\\n                        try:   \\n                                price = str(driver.find_element_by_xpath(\\\"/html/body/div[1]/div[1]/div/main/div[5]/div/div[4]/ul/li[\\\" + str(x) + \\\"]/ul/li[\\\" + str(\\n                                        y) + \\\"]/div/div/div[2]/div[2]/span\\\").text)\\n\\n                                if price == description:\\n                                        description = ''\\n\\n                                if \\\"Sold\\\" in price:\\n                                        status = \\\"Sold out\\\"\\n                                        price = \\\"$\\\" + price.split(\\\"$\\\", 1)[1]\\n                                else:\\n                                        status = \\\"In stock\\\"\\n                        except:\\n\\n                                if \\\"$\\\" in description:\\n                                        price = description\\n                                        description = ''\\n                                else:\\n                                        price = ''\\n                        \\n                        # Get Image URL  \\n                        try:  \\n                                img_url = str(driver.find_element_by_xpath(\\n                                        \\\"/html/body/div[1]/div[1]/div/main/div[5]/div/div[4]/ul/li[\\\" + str(x) + \\\"]/ul/li[\\\" + str(\\\\\\n                                        y) + \\\"]/div/div/div[1]/div/div[1]/picture/img\\\").get_attribute(\\\"src\\\"))\\n        \\n                        except:\\n                                img_url = ''\\n                        \\n                        # get contingency product image\\n                        try:\\n                                img_url_contingency = str(driver.find_element_by_xpath(\\n                                        \\\"/html/body/div[1]/div[1]/div/main/div[5]/div/div[4]/ul/li[\\\" + str(x) + \\\"]/ul/li[\\\" + str(\\\\\\n                                        y) + \\\"]/div/div/div[1]/div/div[1]/picture/source\\\").get_attribute(\\\"src\\\"))\\n                        except: \\n                                img_url_contingency = ''\\n\\n                        # get product content (product description)\\n                        try:\\n                                try:\\n        \\n                                        driver.find_element_by_xpath(\\n                                        \\\"/html/body/div[1]/div[1]/div/main/div[5]/div[2]/div[4]/ul/li[\\\" + str(x) + \\\"]/ul/li[\\\" + str(\\\\\\n                                        y) + \\\"]\\\").click()\\n\\n                                        time.sleep(3)\\n                                        product_content = str(driver.find_element_by_xpath(\\\"/html/body/div[1]/div[1]/div/div[4]/div/div/div[2]/div[4]/div[2]/div[2]\\\").text)\\n                                        driver.find_element_by_xpath(\\\"/html/body/div[1]/div[1]/div/div[4]/div/div/div[2]/div[3]/button\\\").click()\\n\\n                                except: \\n                                        time.sleep(3)\\n                                        product_content = ''\\n                                        driver.find_element_by_xpath(\\\"/html/body/div[1]/div[1]/div/div[4]/div/div/div[2]/div[3]/button\\\").click()\\n                        except Exception as e: \\n                                print(e)\\n                                #pass\\n\\n\\n                        try:\\n                                df_restaurant = df_restaurant.append({\\n                                'title': title,\\n                                'detail': detail,\\n                                'rating': rating,\\n                                'num_review': num,\\n                                'menu_category': category,\\n                                'name': name,\\n                                'price': price,\\n                                'description': description,\\n                                'status': status,\\n                                'img_url': img_url,\\n                                'img_url_contingency': img_url_contingency,\\n                                'product_content' : product_content\\n                                }, ignore_index=True)\\n                        except:\\n                                df_restaurant = df_restaurant.append({\\n                                'title': title,\\n                                'detail': detail,\\n                                'rating': rating,\\n                                'num_review': num,\\n                                'menu_category': category,\\n                                'name': name,\\n                                'price': price,\\n                                'description': description,\\n                                'img_url': img_url,\\n                                'img_url_contingency': img_url_contingency,\\n                                'product_content': product_content\\n                                }, ignore_index=True)\\n                \\n\\n\\n        return df_restaurant\";\n                var nbb_formatted_code = \"def scrape_restaurant_large_display_v2(driver):\\n    df_restaurant = pd.DataFrame(\\n        columns=[\\n            \\\"title\\\",\\n            \\\"detail\\\",\\n            \\\"rating\\\",\\n            \\\"num_review\\\",\\n            \\\"menu_category\\\",\\n            \\\"name\\\",\\n            \\\"price\\\",\\n            \\\"description\\\",\\n            \\\"status\\\",\\n            \\\"img_url\\\",\\n            \\\"img_url_contingency\\\",\\n            \\\"product_content\\\",\\n        ]\\n    )\\n    large_v2_display = \\\"/html/body/div[1]/div[1]/div/main/div[5]/div/div[4]/ul\\\"\\n\\n    # ===== Header details =====\\n    title = \\\"\\\"\\n    detail = \\\"\\\"\\n    rating = \\\"\\\"\\n    num = \\\"\\\"\\n\\n    try:\\n        detail = driver.find_element_by_xpath(\\n            \\\"/html/body/div[1]/div[1]/div/main/div[4]/div/div[1]/div\\\"\\n        ).text\\n\\n    except:\\n        detail = \\\"\\\"\\n\\n    try:\\n        rating = driver.find_element_by_xpath(\\n            \\\"/html/body/div[1]/div[1]/div/main/div[3]/div/div[2]/div[3]/div[1]/div[2]/div[2]/div[1]/div[1]\\\"\\n        ).text\\n    except:\\n        rating = \\\"\\\"\\n\\n    try:\\n        num = driver.find_element_by_xpath(\\n            \\\"/html/body/div[1]/div[1]/div/main/div[3]/div/div[2]/div[3]/div[1]/div[2]/div[2]/div[1]/div[3]\\\"\\n        ).text\\n    except:\\n        num = \\\"\\\"\\n\\n    try:\\n        title = (\\n            driver.find_element_by_xpath(\\n                \\\"/html/body/div[1]/div[1]/div/main/div[3]/div/div[2]/div[3]/div[1]/div[2]/div[2]/h1\\\"\\n            ).text,\\n        )\\n\\n    except:\\n        title = \\\"\\\"\\n\\n    # menu\\n    list_item_element = driver.find_element_by_xpath(\\n        large_v2_display\\n    ).find_element_by_tag_name(\\\"li\\\")\\n    class_name = list_item_element.get_attribute(\\\"class\\\").replace(\\\" \\\", \\\".\\\")\\n    menu = driver.find_element_by_xpath(large_v2_display).find_elements_by_class_name(\\n        class_name\\n    )\\n\\n    for x in range(1, len(menu) + 1):\\n        cat_pos = (\\n            \\\"/html/body/div[1]/div[1]/div/main/div[5]/div/div[4]/ul/li[\\\"\\n            + str(x)\\n            + \\\"]/div[1]\\\"\\n        )\\n        category = driver.find_element_by_xpath(cat_pos).text\\n        # restaurant['menu'].append({\\n        #         category: []\\n        # })\\n        section = driver.find_element_by_xpath(\\n            \\\"/html/body/div[1]/div[1]/div/main/div[5]/div/div[4]/ul/li[\\\"\\n            + str(x)\\n            + \\\"]/ul\\\"\\n        ).find_elements_by_tag_name(\\\"li\\\")\\n\\n        for y in range(1, len(section) + 1):\\n\\n            # Get Product Name\\n            try:\\n                name = str(\\n                    driver.find_element_by_xpath(\\n                        \\\"/html/body/div[1]/div[1]/div/main/div[5]/div/div[4]/ul/li[\\\"\\n                        + str(x)\\n                        + \\\"]/ul/li[\\\"\\n                        + str(y)\\n                        + \\\"]/div/div/div[2]/div[1]/span\\\"\\n                    ).text\\n                )\\n            except:\\n                name = \\\"\\\"\\n\\n            ## Get Product Description\\n            try:\\n\\n                description = str(\\n                    driver.find_element_by_xpath(\\n                        \\\"/html/body/div[1]/div[1]/div/main/div[5]/div/div[4]/ul/li[\\\"\\n                        + str(x)\\n                        + \\\"]/ul/li[\\\"\\n                        + str(y)\\n                        + \\\"]/div/div/div[2]/div[1]/span\\\"\\n                    ).text\\n                )\\n\\n            except:\\n                description = \\\"\\\"\\n\\n            # Get Product Price\\n            try:\\n                price = str(\\n                    driver.find_element_by_xpath(\\n                        \\\"/html/body/div[1]/div[1]/div/main/div[5]/div/div[4]/ul/li[\\\"\\n                        + str(x)\\n                        + \\\"]/ul/li[\\\"\\n                        + str(y)\\n                        + \\\"]/div/div/div[2]/div[2]/span\\\"\\n                    ).text\\n                )\\n\\n                if price == description:\\n                    description = \\\"\\\"\\n\\n                if \\\"Sold\\\" in price:\\n                    status = \\\"Sold out\\\"\\n                    price = \\\"$\\\" + price.split(\\\"$\\\", 1)[1]\\n                else:\\n                    status = \\\"In stock\\\"\\n            except:\\n\\n                if \\\"$\\\" in description:\\n                    price = description\\n                    description = \\\"\\\"\\n                else:\\n                    price = \\\"\\\"\\n\\n            # Get Image URL\\n            try:\\n                img_url = str(\\n                    driver.find_element_by_xpath(\\n                        \\\"/html/body/div[1]/div[1]/div/main/div[5]/div/div[4]/ul/li[\\\"\\n                        + str(x)\\n                        + \\\"]/ul/li[\\\"\\n                        + str(y)\\n                        + \\\"]/div/div/div[1]/div/div[1]/picture/img\\\"\\n                    ).get_attribute(\\\"src\\\")\\n                )\\n\\n            except:\\n                img_url = \\\"\\\"\\n\\n            # get contingency product image\\n            try:\\n                img_url_contingency = str(\\n                    driver.find_element_by_xpath(\\n                        \\\"/html/body/div[1]/div[1]/div/main/div[5]/div/div[4]/ul/li[\\\"\\n                        + str(x)\\n                        + \\\"]/ul/li[\\\"\\n                        + str(y)\\n                        + \\\"]/div/div/div[1]/div/div[1]/picture/source\\\"\\n                    ).get_attribute(\\\"src\\\")\\n                )\\n            except:\\n                img_url_contingency = \\\"\\\"\\n\\n            # get product content (product description)\\n            try:\\n                try:\\n\\n                    driver.find_element_by_xpath(\\n                        \\\"/html/body/div[1]/div[1]/div/main/div[5]/div[2]/div[4]/ul/li[\\\"\\n                        + str(x)\\n                        + \\\"]/ul/li[\\\"\\n                        + str(y)\\n                        + \\\"]\\\"\\n                    ).click()\\n\\n                    time.sleep(3)\\n                    product_content = str(\\n                        driver.find_element_by_xpath(\\n                            \\\"/html/body/div[1]/div[1]/div/div[4]/div/div/div[2]/div[4]/div[2]/div[2]\\\"\\n                        ).text\\n                    )\\n                    driver.find_element_by_xpath(\\n                        \\\"/html/body/div[1]/div[1]/div/div[4]/div/div/div[2]/div[3]/button\\\"\\n                    ).click()\\n\\n                except:\\n                    time.sleep(3)\\n                    product_content = \\\"\\\"\\n                    driver.find_element_by_xpath(\\n                        \\\"/html/body/div[1]/div[1]/div/div[4]/div/div/div[2]/div[3]/button\\\"\\n                    ).click()\\n            except Exception as e:\\n                print(e)\\n                # pass\\n\\n            try:\\n                df_restaurant = df_restaurant.append(\\n                    {\\n                        \\\"title\\\": title,\\n                        \\\"detail\\\": detail,\\n                        \\\"rating\\\": rating,\\n                        \\\"num_review\\\": num,\\n                        \\\"menu_category\\\": category,\\n                        \\\"name\\\": name,\\n                        \\\"price\\\": price,\\n                        \\\"description\\\": description,\\n                        \\\"status\\\": status,\\n                        \\\"img_url\\\": img_url,\\n                        \\\"img_url_contingency\\\": img_url_contingency,\\n                        \\\"product_content\\\": product_content,\\n                    },\\n                    ignore_index=True,\\n                )\\n            except:\\n                df_restaurant = df_restaurant.append(\\n                    {\\n                        \\\"title\\\": title,\\n                        \\\"detail\\\": detail,\\n                        \\\"rating\\\": rating,\\n                        \\\"num_review\\\": num,\\n                        \\\"menu_category\\\": category,\\n                        \\\"name\\\": name,\\n                        \\\"price\\\": price,\\n                        \\\"description\\\": description,\\n                        \\\"img_url\\\": img_url,\\n                        \\\"img_url_contingency\\\": img_url_contingency,\\n                        \\\"product_content\\\": product_content,\\n                    },\\n                    ignore_index=True,\\n                )\\n\\n    return df_restaurant\";\n                var nbb_cells = Jupyter.notebook.get_cells();\n                for (var i = 0; i < nbb_cells.length; ++i) {\n                    if (nbb_cells[i].input_prompt_number == nbb_cell_id) {\n                        if (nbb_cells[i].get_text() == nbb_unformatted_code) {\n                             nbb_cells[i].set_text(nbb_formatted_code);\n                        }\n                        break;\n                    }\n                }\n            }, 500);\n            ",
      "text/plain": [
       "<IPython.core.display.Javascript object>"
      ]
     },
     "metadata": {},
     "output_type": "display_data"
    }
   ],
   "source": [
    "\n",
    "def scrape_restaurant_large_display_v2(driver):\n",
    "        df_restaurant = pd.DataFrame(columns = ['title','detail','rating','num_review', 'menu_category', 'name', 'price', 'description', 'status',  'img_url', 'img_url_contingency', 'product_content'])\n",
    "        large_v2_display = '/html/body/div[1]/div[1]/div/main/div[5]/div/div[4]/ul'\n",
    "\n",
    "        \n",
    "        # ===== Header details =====\n",
    "        title = ''\n",
    "        detail = ''\n",
    "        rating = ''\n",
    "        num = ''\n",
    "\n",
    "        try:  \n",
    "                detail = driver.find_element_by_xpath(\"/html/body/div[1]/div[1]/div/main/div[4]/div/div[1]/div\").text\n",
    "\n",
    "        except:\n",
    "                detail = ''\n",
    "\n",
    "\n",
    "        try:\n",
    "                rating= driver.find_element_by_xpath(\n",
    "                \"/html/body/div[1]/div[1]/div/main/div[3]/div/div[2]/div[3]/div[1]/div[2]/div[2]/div[1]/div[1]\").text\n",
    "        except:\n",
    "                rating = ''\n",
    "\n",
    "\n",
    "        try:\n",
    "                num = driver.find_element_by_xpath(\n",
    "                \"/html/body/div[1]/div[1]/div/main/div[3]/div/div[2]/div[3]/div[1]/div[2]/div[2]/div[1]/div[3]\").text\n",
    "        except:\n",
    "                num = ''\n",
    "\n",
    "\n",
    "        try:\n",
    "                title =  driver.find_element_by_xpath(\"/html/body/div[1]/div[1]/div/main/div[3]/div/div[2]/div[3]/div[1]/div[2]/div[2]/h1\").text,\n",
    "\n",
    "        except:\n",
    "                title = ''\n",
    "\n",
    "\n",
    "        # menu\n",
    "        list_item_element = driver.find_element_by_xpath(large_v2_display).find_element_by_tag_name(\"li\")\n",
    "        class_name = list_item_element.get_attribute(\"class\").replace(' ','.')\n",
    "        menu = driver.find_element_by_xpath(large_v2_display).find_elements_by_class_name(class_name)\n",
    "\n",
    "        for x in range(1, len(menu)+1): \n",
    "                cat_pos = \"/html/body/div[1]/div[1]/div/main/div[5]/div/div[4]/ul/li[\" + str(x) + \"]/div[1]\"\n",
    "                category = driver.find_element_by_xpath(cat_pos).text \n",
    "                # restaurant['menu'].append({\n",
    "                #         category: []\n",
    "                # }) \n",
    "                section = driver.find_element_by_xpath(\n",
    "                        \"/html/body/div[1]/div[1]/div/main/div[5]/div/div[4]/ul/li[\" + str(x) + \"]/ul\").find_elements_by_tag_name(\"li\")\n",
    "                        \n",
    "                for y in range(1, len(section)+1):\n",
    "\n",
    "                        # Get Product Name\n",
    "                        try:   \n",
    "                                name = str(driver.find_element_by_xpath(\n",
    "                                        \"/html/body/div[1]/div[1]/div/main/div[5]/div/div[4]/ul/li[\" + str(x) + \"]/ul/li[\" + str(\n",
    "                                        y) + \"]/div/div/div[2]/div[1]/span\").text)\n",
    "                        except:\n",
    "                                name = ''\n",
    "\n",
    "                        ## Get Product Description\n",
    "                        try:\n",
    "\n",
    "                                description = str(driver.find_element_by_xpath(\n",
    "                                        \"/html/body/div[1]/div[1]/div/main/div[5]/div/div[4]/ul/li[\" + str(x) + \"]/ul/li[\" + str(\n",
    "                                        y) + \"]/div/div/div[2]/div[1]/span\").text)\n",
    "\n",
    "                        except:\n",
    "                                description = ''\n",
    "\n",
    "                        # Get Product Price\n",
    "                        try:   \n",
    "                                price = str(driver.find_element_by_xpath(\"/html/body/div[1]/div[1]/div/main/div[5]/div/div[4]/ul/li[\" + str(x) + \"]/ul/li[\" + str(\n",
    "                                        y) + \"]/div/div/div[2]/div[2]/span\").text)\n",
    "\n",
    "                                if price == description:\n",
    "                                        description = ''\n",
    "\n",
    "                                if \"Sold\" in price:\n",
    "                                        status = \"Sold out\"\n",
    "                                        price = \"$\" + price.split(\"$\", 1)[1]\n",
    "                                else:\n",
    "                                        status = \"In stock\"\n",
    "                        except:\n",
    "\n",
    "                                if \"$\" in description:\n",
    "                                        price = description\n",
    "                                        description = ''\n",
    "                                else:\n",
    "                                        price = ''\n",
    "                        \n",
    "                        # Get Image URL  \n",
    "                        try:  \n",
    "                                img_url = str(driver.find_element_by_xpath(\n",
    "                                        \"/html/body/div[1]/div[1]/div/main/div[5]/div/div[4]/ul/li[\" + str(x) + \"]/ul/li[\" + str(\\\n",
    "                                        y) + \"]/div/div/div[1]/div/div[1]/picture/img\").get_attribute(\"src\"))\n",
    "        \n",
    "                        except:\n",
    "                                img_url = ''\n",
    "                        \n",
    "                        # get contingency product image\n",
    "                        try:\n",
    "                                img_url_contingency = str(driver.find_element_by_xpath(\n",
    "                                        \"/html/body/div[1]/div[1]/div/main/div[5]/div/div[4]/ul/li[\" + str(x) + \"]/ul/li[\" + str(\\\n",
    "                                        y) + \"]/div/div/div[1]/div/div[1]/picture/source\").get_attribute(\"src\"))\n",
    "                        except: \n",
    "                                img_url_contingency = ''\n",
    "\n",
    "                        # get product content (product description)\n",
    "                        try:                    \n",
    "                                try: \n",
    "                                        driver.find_element_by_xpath(\n",
    "                                        \"/html/body/div[1]/div[1]/div/main/div[5]/div[2]/div[4]/ul/li[\" + str(x) + \"]/ul/li[\" + str(\\\n",
    "                                        y) + \"]\").click()\n",
    "\n",
    "                                        time.sleep(3)\n",
    "                                        product_content = str(driver.find_element_by_xpath(\"/html/body/div[1]/div[1]/div/div[4]/div/div/div[2]/div[4]/div[2]/div[2]\").text)\n",
    "                                        driver.find_element_by_xpath(\"/html/body/div[1]/div[1]/div/div[4]/div/div/div[2]/div[3]/button\").click()\n",
    "\n",
    "                                except: \n",
    "                                        time.sleep(3)\n",
    "                                        product_content = ''\n",
    "                                        driver.find_element_by_xpath(\"/html/body/div[1]/div[1]/div/div[4]/div/div/div[2]/div[3]/button\").click()\n",
    "                        except Exception as e: \n",
    "                                print(e)\n",
    "                                pass\n",
    "\n",
    "\n",
    "                        try:\n",
    "                                df_restaurant = df_restaurant.append({\n",
    "                                'title': title,\n",
    "                                'detail': detail,\n",
    "                                'rating': rating,\n",
    "                                'num_review': num,\n",
    "                                'menu_category': category,\n",
    "                                'name': name,\n",
    "                                'price': price,\n",
    "                                'description': description,\n",
    "                                'status': status,\n",
    "                                'img_url': img_url,\n",
    "                                'img_url_contingency': img_url_contingency,\n",
    "                                'product_content' : product_content\n",
    "                                }, ignore_index=True)\n",
    "                        except:\n",
    "                                df_restaurant = df_restaurant.append({\n",
    "                                'title': title,\n",
    "                                'detail': detail,\n",
    "                                'rating': rating,\n",
    "                                'num_review': num,\n",
    "                                'menu_category': category,\n",
    "                                'name': name,\n",
    "                                'price': price,\n",
    "                                'description': description,\n",
    "                                'img_url': img_url,\n",
    "                                'img_url_contingency': img_url_contingency,\n",
    "                                'product_content': product_content\n",
    "                                }, ignore_index=True)\n",
    "                \n",
    "\n",
    "\n",
    "        return df_restaurant\n"
   ]
  },
  {
   "cell_type": "code",
   "execution_count": 9,
   "id": "88dfa805",
   "metadata": {},
   "outputs": [
    {
     "data": {
      "application/javascript": "\n            setTimeout(function() {\n                var nbb_cell_id = 9;\n                var nbb_unformatted_code = \"\\n\\ndef scrape_restaurants(base_url, location, driver):\\n\\n    cat = []\\n    try: \\n        temp_urls = driver.find_element_by_xpath('/html/body/div[1]/div[1]/div/main/div[2]/div[3]').find_elements_by_tag_name(\\\"a\\\")\\n        for url in temp_urls:\\n            cat.append(url.get_attribute('href'))\\n    except:\\n        print(\\\"Skipped \\\" + cat)\\n\\n\\n    with open('temp_urls.txt', 'a') as f:\\n        cat_str = list(map(lambda x: str(x)+'\\\\n', cat))\\n        for i in cat_str:\\n            f.write(i)\\n\\n\\n    lines_seen = set()  # holds lines already seen\\n    out_file = open(location + \\\"_restaurant_urls.txt\\\", \\\"w+\\\")\\n    for line in open(\\\"temp_urls.txt\\\", \\\"r\\\"):\\n        if line not in lines_seen:  # not a duplicate\\n            out_file.write(line)\\n            lines_seen.add(line)\\n    out_file.close()\\n    os.remove(\\\"temp_urls.txt\\\")\\n\\n    with open(location + \\\"_restaurant_urls.txt\\\") as file:\\n        categories_lst = file.readlines()\\n\\n    categories_lst = [str(i)[:-1] for i in categories_lst]\\n\\n    # driver = webdriver.Chrome(executable_path=\\\"chromedriver_win32/chromedriver.exe\\\")\\n    # driver.maximize_window()\\n    # driver.set_window_size(1920, 1080)\\n\\n    restaurant_arr = []\\n    for url in categories_lst:\\n        driver.get(url)\\n        restaurant_lst = driver.find_element_by_xpath(\\\"/html/body/div[1]/div[1]/div/main/div[5]/div\\\").find_elements_by_tag_name(\\\"a\\\")\\n        for i in restaurant_lst:\\n            restaurant_arr.append(i.get_attribute('href'))\\n\\n\\n\\n    with open('restaurant_new_test.txt', 'a') as f:\\n        restaurant_str2 = list(map(lambda x: str(x)+'\\\\n', restaurant_arr))\\n        for i in restaurant_str2:\\n            f.write(i)\\n\\n    os.remove('temp_urls.txt')\";\n                var nbb_formatted_code = \"def scrape_restaurants(base_url, location, driver):\\n\\n    cat = []\\n    try:\\n        temp_urls = driver.find_element_by_xpath(\\n            \\\"/html/body/div[1]/div[1]/div/main/div[2]/div[3]\\\"\\n        ).find_elements_by_tag_name(\\\"a\\\")\\n        for url in temp_urls:\\n            cat.append(url.get_attribute(\\\"href\\\"))\\n    except:\\n        print(\\\"Skipped \\\" + cat)\\n\\n    with open(\\\"temp_urls.txt\\\", \\\"a\\\") as f:\\n        cat_str = list(map(lambda x: str(x) + \\\"\\\\n\\\", cat))\\n        for i in cat_str:\\n            f.write(i)\\n\\n    lines_seen = set()  # holds lines already seen\\n    out_file = open(location + \\\"_restaurant_urls.txt\\\", \\\"w+\\\")\\n    for line in open(\\\"temp_urls.txt\\\", \\\"r\\\"):\\n        if line not in lines_seen:  # not a duplicate\\n            out_file.write(line)\\n            lines_seen.add(line)\\n    out_file.close()\\n    os.remove(\\\"temp_urls.txt\\\")\\n\\n    with open(location + \\\"_restaurant_urls.txt\\\") as file:\\n        categories_lst = file.readlines()\\n\\n    categories_lst = [str(i)[:-1] for i in categories_lst]\\n\\n    # driver = webdriver.Chrome(executable_path=\\\"chromedriver_win32/chromedriver.exe\\\")\\n    # driver.maximize_window()\\n    # driver.set_window_size(1920, 1080)\\n\\n    restaurant_arr = []\\n    for url in categories_lst:\\n        driver.get(url)\\n        restaurant_lst = driver.find_element_by_xpath(\\n            \\\"/html/body/div[1]/div[1]/div/main/div[5]/div\\\"\\n        ).find_elements_by_tag_name(\\\"a\\\")\\n        for i in restaurant_lst:\\n            restaurant_arr.append(i.get_attribute(\\\"href\\\"))\\n\\n    with open(\\\"restaurant_new_test.txt\\\", \\\"a\\\") as f:\\n        restaurant_str2 = list(map(lambda x: str(x) + \\\"\\\\n\\\", restaurant_arr))\\n        for i in restaurant_str2:\\n            f.write(i)\\n\\n    os.remove(\\\"temp_urls.txt\\\")\";\n                var nbb_cells = Jupyter.notebook.get_cells();\n                for (var i = 0; i < nbb_cells.length; ++i) {\n                    if (nbb_cells[i].input_prompt_number == nbb_cell_id) {\n                        if (nbb_cells[i].get_text() == nbb_unformatted_code) {\n                             nbb_cells[i].set_text(nbb_formatted_code);\n                        }\n                        break;\n                    }\n                }\n            }, 500);\n            ",
      "text/plain": [
       "<IPython.core.display.Javascript object>"
      ]
     },
     "metadata": {},
     "output_type": "display_data"
    }
   ],
   "source": [
    "\n",
    "\n",
    "def scrape_restaurants(base_url, location, driver):\n",
    "\n",
    "    cat = []\n",
    "    try: \n",
    "        temp_urls = driver.find_element_by_xpath('/html/body/div[1]/div[1]/div/main/div[2]/div[3]').find_elements_by_tag_name(\"a\")\n",
    "        for url in temp_urls:\n",
    "            cat.append(url.get_attribute('href'))\n",
    "    except:\n",
    "        print(\"Skipped \" + cat)\n",
    "\n",
    "\n",
    "    with open('temp_urls.txt', 'a') as f:\n",
    "        cat_str = list(map(lambda x: str(x)+'\\n', cat))\n",
    "        for i in cat_str:\n",
    "            f.write(i)\n",
    "\n",
    "\n",
    "    lines_seen = set()  # holds lines already seen\n",
    "    out_file = open(location + \"_restaurant_urls.txt\", \"w+\")\n",
    "    for line in open(\"temp_urls.txt\", \"r\"):\n",
    "        if line not in lines_seen:  # not a duplicate\n",
    "            out_file.write(line)\n",
    "            lines_seen.add(line)\n",
    "    out_file.close()\n",
    "    os.remove(\"temp_urls.txt\")\n",
    "\n",
    "    with open(location + \"_restaurant_urls.txt\") as file:\n",
    "        categories_lst = file.readlines()\n",
    "\n",
    "    categories_lst = [str(i)[:-1] for i in categories_lst]\n",
    "\n",
    "    # driver = webdriver.Chrome(executable_path=\"chromedriver_win32/chromedriver.exe\")\n",
    "    # driver.maximize_window()\n",
    "    # driver.set_window_size(1920, 1080)\n",
    "\n",
    "    restaurant_arr = []\n",
    "    for url in categories_lst:\n",
    "        driver.get(url)\n",
    "        restaurant_lst = driver.find_element_by_xpath(\"/html/body/div[1]/div[1]/div/main/div[5]/div\").find_elements_by_tag_name(\"a\")\n",
    "        for i in restaurant_lst:\n",
    "            restaurant_arr.append(i.get_attribute('href'))\n",
    "\n",
    "\n",
    "\n",
    "    with open('restaurant_new_test.txt', 'a') as f:\n",
    "        restaurant_str2 = list(map(lambda x: str(x)+'\\n', restaurant_arr))\n",
    "        for i in restaurant_str2:\n",
    "            f.write(i)\n",
    "\n",
    "    os.remove('temp_urls.txt')\n",
    "\n"
   ]
  },
  {
   "cell_type": "code",
   "execution_count": null,
   "id": "63d497ad",
   "metadata": {},
   "outputs": [],
   "source": []
  },
  {
   "cell_type": "markdown",
   "id": "17cb6ced",
   "metadata": {},
   "source": [
    "# Main"
   ]
  },
  {
   "cell_type": "markdown",
   "id": "3c30a0c8",
   "metadata": {},
   "source": [
    "### Crawl restaurant url"
   ]
  },
  {
   "cell_type": "code",
   "execution_count": 10,
   "id": "ea2d3020",
   "metadata": {},
   "outputs": [
    {
     "data": {
      "application/javascript": "\n            setTimeout(function() {\n                var nbb_cell_id = 10;\n                var nbb_unformatted_code = \"\\n# # done nha\\n# # crawl t\\u1ea5t c\\u1ea3 c\\u00e1c url restaurants\\n# base_url = \\\"https://www.ubereats.com/ca/category/\\\"\\n# city_list = [\\\"toronto-on\\\", \\\"hamilton-on\\\", \\\"kingston-on\\\"]\\n\\n# driver = driver_operation(base_url, 14)\\n\\n# for city in city_list:\\n#     scrape_restaurants(base_url, city)\";\n                var nbb_formatted_code = \"# # done nha\\n# # crawl t\\u1ea5t c\\u1ea3 c\\u00e1c url restaurants\\n# base_url = \\\"https://www.ubereats.com/ca/category/\\\"\\n# city_list = [\\\"toronto-on\\\", \\\"hamilton-on\\\", \\\"kingston-on\\\"]\\n\\n# driver = driver_operation(base_url, 14)\\n\\n# for city in city_list:\\n#     scrape_restaurants(base_url, city)\";\n                var nbb_cells = Jupyter.notebook.get_cells();\n                for (var i = 0; i < nbb_cells.length; ++i) {\n                    if (nbb_cells[i].input_prompt_number == nbb_cell_id) {\n                        if (nbb_cells[i].get_text() == nbb_unformatted_code) {\n                             nbb_cells[i].set_text(nbb_formatted_code);\n                        }\n                        break;\n                    }\n                }\n            }, 500);\n            ",
      "text/plain": [
       "<IPython.core.display.Javascript object>"
      ]
     },
     "metadata": {},
     "output_type": "display_data"
    }
   ],
   "source": [
    "\n",
    "# # done nha\n",
    "# # crawl tất cả các url restaurants\n",
    "# base_url = \"https://www.ubereats.com/ca/category/\"\n",
    "# city_list = [\"toronto-on\", \"hamilton-on\", \"kingston-on\"]\n",
    "\n",
    "# driver = driver_operation(base_url, 14)\n",
    "\n",
    "# for city in city_list:\n",
    "#     scrape_restaurants(base_url, city)"
   ]
  },
  {
   "cell_type": "code",
   "execution_count": 11,
   "id": "68093b18",
   "metadata": {},
   "outputs": [
    {
     "data": {
      "application/javascript": "\n            setTimeout(function() {\n                var nbb_cell_id = 11;\n                var nbb_unformatted_code = \"# base_url = \\\"https://www.ubereats.com/ca/category/\\\"\\n# city_list = [\\\"toronto-on\\\", \\\"hamilton-on\\\", \\\"kingston-on\\\"]\\n\\n# driver = driver_operation(base_url, 14)\\n\\n# scrape_restaurants(driver, base_url, 'toronto-on')\";\n                var nbb_formatted_code = \"# base_url = \\\"https://www.ubereats.com/ca/category/\\\"\\n# city_list = [\\\"toronto-on\\\", \\\"hamilton-on\\\", \\\"kingston-on\\\"]\\n\\n# driver = driver_operation(base_url, 14)\\n\\n# scrape_restaurants(driver, base_url, 'toronto-on')\";\n                var nbb_cells = Jupyter.notebook.get_cells();\n                for (var i = 0; i < nbb_cells.length; ++i) {\n                    if (nbb_cells[i].input_prompt_number == nbb_cell_id) {\n                        if (nbb_cells[i].get_text() == nbb_unformatted_code) {\n                             nbb_cells[i].set_text(nbb_formatted_code);\n                        }\n                        break;\n                    }\n                }\n            }, 500);\n            ",
      "text/plain": [
       "<IPython.core.display.Javascript object>"
      ]
     },
     "metadata": {},
     "output_type": "display_data"
    }
   ],
   "source": [
    "# base_url = \"https://www.ubereats.com/ca/category/\"\n",
    "# city_list = [\"toronto-on\", \"hamilton-on\", \"kingston-on\"]\n",
    "\n",
    "# driver = driver_operation(base_url, 14)\n",
    "\n",
    "# scrape_restaurants(driver, base_url, 'toronto-on')"
   ]
  },
  {
   "cell_type": "markdown",
   "id": "f7690521",
   "metadata": {},
   "source": [
    "### test"
   ]
  },
  {
   "cell_type": "markdown",
   "id": "c075188d",
   "metadata": {},
   "source": [
    "### Test function"
   ]
  },
  {
   "cell_type": "code",
   "execution_count": 12,
   "id": "686abf8b",
   "metadata": {},
   "outputs": [
    {
     "data": {
      "application/javascript": "\n            setTimeout(function() {\n                var nbb_cell_id = 12;\n                var nbb_unformatted_code = \"def scroll_to_bottom(driver):\\n\\n    old_position = 0\\n    new_position = None\\n\\n    while new_position != old_position:\\n        # Get old scroll position\\n        old_position = driver.execute_script(\\n                (\\\"return (window.pageYOffset !== undefined) ?\\\"\\n                 \\\" window.pageYOffset : (document.documentElement ||\\\"\\n                 \\\" document.body.parentNode || document.body);\\\"))\\n        # Sleep and Scroll\\n        time.sleep(1)\\n        driver.execute_script((\\n                \\\"var scrollingElement = (document.scrollingElement ||\\\"\\n                \\\" document.body);scrollingElement.scrollTop =\\\"\\n                \\\" scrollingElement.scrollHeight;\\\"))\\n        # Get new position\\n        new_position = driver.execute_script(\\n                (\\\"return (window.pageYOffset !== undefined) ?\\\"\\n                 \\\" window.pageYOffset : (document.documentElement ||\\\"\\n                 \\\" document.body.parentNode || document.body);\\\"))\";\n                var nbb_formatted_code = \"def scroll_to_bottom(driver):\\n\\n    old_position = 0\\n    new_position = None\\n\\n    while new_position != old_position:\\n        # Get old scroll position\\n        old_position = driver.execute_script(\\n            (\\n                \\\"return (window.pageYOffset !== undefined) ?\\\"\\n                \\\" window.pageYOffset : (document.documentElement ||\\\"\\n                \\\" document.body.parentNode || document.body);\\\"\\n            )\\n        )\\n        # Sleep and Scroll\\n        time.sleep(1)\\n        driver.execute_script(\\n            (\\n                \\\"var scrollingElement = (document.scrollingElement ||\\\"\\n                \\\" document.body);scrollingElement.scrollTop =\\\"\\n                \\\" scrollingElement.scrollHeight;\\\"\\n            )\\n        )\\n        # Get new position\\n        new_position = driver.execute_script(\\n            (\\n                \\\"return (window.pageYOffset !== undefined) ?\\\"\\n                \\\" window.pageYOffset : (document.documentElement ||\\\"\\n                \\\" document.body.parentNode || document.body);\\\"\\n            )\\n        )\";\n                var nbb_cells = Jupyter.notebook.get_cells();\n                for (var i = 0; i < nbb_cells.length; ++i) {\n                    if (nbb_cells[i].input_prompt_number == nbb_cell_id) {\n                        if (nbb_cells[i].get_text() == nbb_unformatted_code) {\n                             nbb_cells[i].set_text(nbb_formatted_code);\n                        }\n                        break;\n                    }\n                }\n            }, 500);\n            ",
      "text/plain": [
       "<IPython.core.display.Javascript object>"
      ]
     },
     "metadata": {},
     "output_type": "display_data"
    }
   ],
   "source": [
    "def scroll_to_bottom(driver):\n",
    "\n",
    "    old_position = 0\n",
    "    new_position = None\n",
    "\n",
    "    while new_position != old_position:\n",
    "        # Get old scroll position\n",
    "        old_position = driver.execute_script(\n",
    "                (\"return (window.pageYOffset !== undefined) ?\"\n",
    "                 \" window.pageYOffset : (document.documentElement ||\"\n",
    "                 \" document.body.parentNode || document.body);\"))\n",
    "        # Sleep and Scroll\n",
    "        time.sleep(1)\n",
    "        driver.execute_script((\n",
    "                \"var scrollingElement = (document.scrollingElement ||\"\n",
    "                \" document.body);scrollingElement.scrollTop =\"\n",
    "                \" scrollingElement.scrollHeight;\"))\n",
    "        # Get new position\n",
    "        new_position = driver.execute_script(\n",
    "                (\"return (window.pageYOffset !== undefined) ?\"\n",
    "                 \" window.pageYOffset : (document.documentElement ||\"\n",
    "                 \" document.body.parentNode || document.body);\"))\n",
    "\n"
   ]
  },
  {
   "cell_type": "code",
   "execution_count": 13,
   "id": "a569f6df",
   "metadata": {},
   "outputs": [
    {
     "data": {
      "text/plain": [
       "'https://www.ubereats.com/ca/store/7-eleven-372-bay-street-%40-richmond/vpLYwxOFQy2Vjg1302A8_g'"
      ]
     },
     "execution_count": 13,
     "metadata": {},
     "output_type": "execute_result"
    },
    {
     "data": {
      "application/javascript": "\n            setTimeout(function() {\n                var nbb_cell_id = 13;\n                var nbb_unformatted_code = \"with open('restaurant.txt') as f:\\n    lst_urls = f.read().splitlines()\\n\\nlst_urls[0]\";\n                var nbb_formatted_code = \"with open(\\\"restaurant.txt\\\") as f:\\n    lst_urls = f.read().splitlines()\\n\\nlst_urls[0]\";\n                var nbb_cells = Jupyter.notebook.get_cells();\n                for (var i = 0; i < nbb_cells.length; ++i) {\n                    if (nbb_cells[i].input_prompt_number == nbb_cell_id) {\n                        if (nbb_cells[i].get_text() == nbb_unformatted_code) {\n                             nbb_cells[i].set_text(nbb_formatted_code);\n                        }\n                        break;\n                    }\n                }\n            }, 500);\n            ",
      "text/plain": [
       "<IPython.core.display.Javascript object>"
      ]
     },
     "metadata": {},
     "output_type": "display_data"
    }
   ],
   "source": [
    "with open('restaurant.txt') as f:\n",
    "    lst_urls = f.read().splitlines()\n",
    "\n",
    "lst_urls[0]\n"
   ]
  },
  {
   "cell_type": "code",
   "execution_count": 16,
   "id": "9dfd58da",
   "metadata": {},
   "outputs": [
    {
     "data": {
      "application/javascript": "\n            setTimeout(function() {\n                var nbb_cell_id = 16;\n                var nbb_unformatted_code = \"# df = pd.DataFrame(columns = ['title','detail','rating','num_review', 'menu_category', 'name', 'price', 'description', 'status',  'img_url', 'img_url_contingency', 'product_content'])\\n# df.to_csv('data_new.csv', encoding='utf-8-sig', mode='w', index=False)\\n# lst_urls_test = random.sample(lst_urls, 5)\\n\\n# for url in lst_urls_test:\\n#     #try:\\n#     driver = driver_operation(url, 16)\\n#     df = scrape_restaurant_info(driver, url)\\n#     if df is not None:\\n#         df.to_csv('data.csv', encoding='utf-8-sig', mode='a', header=False, index=False)\\n#         df = df.iloc[0:0]\\n#     # except: \\n#     #     print('pass ', url)\\n#     #     with open('contingency_restaurant_fail.txt', 'a') as f:\\n#     #         f.write(url+'\\\\n')\\n        \";\n                var nbb_formatted_code = \"# df = pd.DataFrame(columns = ['title','detail','rating','num_review', 'menu_category', 'name', 'price', 'description', 'status',  'img_url', 'img_url_contingency', 'product_content'])\\n# df.to_csv('data_new.csv', encoding='utf-8-sig', mode='w', index=False)\\n# lst_urls_test = random.sample(lst_urls, 5)\\n\\n# for url in lst_urls_test:\\n#     #try:\\n#     driver = driver_operation(url, 16)\\n#     df = scrape_restaurant_info(driver, url)\\n#     if df is not None:\\n#         df.to_csv('data.csv', encoding='utf-8-sig', mode='a', header=False, index=False)\\n#         df = df.iloc[0:0]\\n#     # except:\\n#     #     print('pass ', url)\\n#     #     with open('contingency_restaurant_fail.txt', 'a') as f:\\n#     #         f.write(url+'\\\\n')\";\n                var nbb_cells = Jupyter.notebook.get_cells();\n                for (var i = 0; i < nbb_cells.length; ++i) {\n                    if (nbb_cells[i].input_prompt_number == nbb_cell_id) {\n                        if (nbb_cells[i].get_text() == nbb_unformatted_code) {\n                             nbb_cells[i].set_text(nbb_formatted_code);\n                        }\n                        break;\n                    }\n                }\n            }, 500);\n            ",
      "text/plain": [
       "<IPython.core.display.Javascript object>"
      ]
     },
     "metadata": {},
     "output_type": "display_data"
    }
   ],
   "source": [
    "# df = pd.DataFrame(columns = ['title','detail','rating','num_review', 'menu_category', 'name', 'price', 'description', 'status',  'img_url', 'img_url_contingency', 'product_content'])\n",
    "# df.to_csv('data_new.csv', encoding='utf-8-sig', mode='w', index=False)\n",
    "# lst_urls_test = random.sample(lst_urls, 5)\n",
    "\n",
    "# for url in lst_urls_test:\n",
    "#     #try:\n",
    "#     driver = driver_operation(url, 16)\n",
    "#     df = scrape_restaurant_info(driver, url)\n",
    "#     if df is not None:\n",
    "#         df.to_csv('data.csv', encoding='utf-8-sig', mode='a', header=False, index=False)\n",
    "#         df = df.iloc[0:0]\n",
    "#     # except: \n",
    "#     #     print('pass ', url)\n",
    "#     #     with open('contingency_restaurant_fail.txt', 'a') as f:\n",
    "#     #         f.write(url+'\\n')\n",
    "        \n"
   ]
  },
  {
   "cell_type": "code",
   "execution_count": 34,
   "id": "a74a2589",
   "metadata": {},
   "outputs": [
    {
     "data": {
      "application/javascript": "\n            setTimeout(function() {\n                var nbb_cell_id = 34;\n                var nbb_unformatted_code = \"df = pd.DataFrame(columns = ['title','detail','rating','num_review', 'menu_category', 'name', 'price', 'description', 'status',  'img_url', 'img_url_contingency', 'product_content'])\\ndf.to_csv('data_new.csv', encoding='utf-8-sig', mode='w', index=False)\\nlst_urls_test = random.sample(lst_urls, 1)\\n\\nfor url in lst_urls_test:\\n    #try:\\n    driver = driver_operation(url, 16)\\n    df = scrape_restaurant_info(driver, url)\\n    if df is not None:\\n        df.to_csv('data_new.csv', encoding='utf-8-sig', mode='a', header=False, index=False)\\n        df = df.iloc[0:0]\\n    # except: \\n    #     print('pass ', url)\\n    #     with open('contingency_restaurant_fail.txt', 'a') as f:\\n    #         f.write(url+'\\\\n')\\n        \";\n                var nbb_formatted_code = \"df = pd.DataFrame(\\n    columns=[\\n        \\\"title\\\",\\n        \\\"detail\\\",\\n        \\\"rating\\\",\\n        \\\"num_review\\\",\\n        \\\"menu_category\\\",\\n        \\\"name\\\",\\n        \\\"price\\\",\\n        \\\"description\\\",\\n        \\\"status\\\",\\n        \\\"img_url\\\",\\n        \\\"img_url_contingency\\\",\\n        \\\"product_content\\\",\\n    ]\\n)\\ndf.to_csv(\\\"data_new.csv\\\", encoding=\\\"utf-8-sig\\\", mode=\\\"w\\\", index=False)\\nlst_urls_test = random.sample(lst_urls, 1)\\n\\nfor url in lst_urls_test:\\n    # try:\\n    driver = driver_operation(url, 16)\\n    df = scrape_restaurant_info(driver, url)\\n    if df is not None:\\n        df.to_csv(\\n            \\\"data_new.csv\\\", encoding=\\\"utf-8-sig\\\", mode=\\\"a\\\", header=False, index=False\\n        )\\n        df = df.iloc[0:0]\\n    # except:\\n    #     print('pass ', url)\\n    #     with open('contingency_restaurant_fail.txt', 'a') as f:\\n    #         f.write(url+'\\\\n')\";\n                var nbb_cells = Jupyter.notebook.get_cells();\n                for (var i = 0; i < nbb_cells.length; ++i) {\n                    if (nbb_cells[i].input_prompt_number == nbb_cell_id) {\n                        if (nbb_cells[i].get_text() == nbb_unformatted_code) {\n                             nbb_cells[i].set_text(nbb_formatted_code);\n                        }\n                        break;\n                    }\n                }\n            }, 500);\n            ",
      "text/plain": [
       "<IPython.core.display.Javascript object>"
      ]
     },
     "metadata": {},
     "output_type": "display_data"
    }
   ],
   "source": [
    "df = pd.DataFrame(columns = ['title','detail','rating','num_review', 'menu_category', 'name', 'price', 'description', 'status',  'img_url', 'img_url_contingency', 'product_content'])\n",
    "df.to_csv('data_new.csv', encoding='utf-8-sig', mode='w', index=False)\n",
    "lst_urls_test = random.sample(lst_urls, 1)\n",
    "\n",
    "for url in lst_urls_test:\n",
    "    #try:\n",
    "    driver = driver_operation(url, 16)\n",
    "    df = scrape_restaurant_info(driver, url)\n",
    "    if df is not None:\n",
    "        df.to_csv('data_new.csv', encoding='utf-8-sig', mode='a', header=False, index=False)\n",
    "        df = df.iloc[0:0]\n",
    "    # except: \n",
    "    #     print('pass ', url)\n",
    "    #     with open('contingency_restaurant_fail.txt', 'a') as f:\n",
    "    #         f.write(url+'\\n')\n",
    "        \n"
   ]
  },
  {
   "cell_type": "markdown",
   "id": "28137507",
   "metadata": {},
   "source": [
    "### TEST"
   ]
  },
  {
   "cell_type": "code",
   "execution_count": 17,
   "id": "ddfd3482",
   "metadata": {},
   "outputs": [
    {
     "data": {
      "application/javascript": "\n            setTimeout(function() {\n                var nbb_cell_id = 17;\n                var nbb_unformatted_code = \"#/html/body/div[1]/div[1]/div/main/div[5]/div/div[4]/ul/li[1]/ul/li[1]\\noptions = Options()\\n# options.add_argument(\\\"--headless\\\")\\noptions.add_argument(\\\"window-size=1400,600\\\")\\n\\ndriver = webdriver.Chrome(executable_path=\\\"chromedriver_win32/chromedriver.exe\\\")\\ndriver.maximize_window()\\ndriver.set_window_size(1920, 1080)\\ndriver.get(lst_urls[8000]) \\ndriver.find_element_by_xpath(\\\"/html/body/div[1]/div[1]/div/div[4]/div/div/div[2]/div[2]/button\\\").click()\\nsize=18\\nfor i in range(0, size):\\n    driver.execute_script(\\\"window.scrollTo({start}*document.body.scrollHeight/{r}, {end}*document.body.scrollHeight/{r})\\\".format(start=i, end = i+1, r=size))\\n    time.sleep(1)\\n\\n\\na = scrape_restaurant_large_display_v2(driver)\\n\\n# time.sleep(0.5)\\n\\n# /html/body/div[1]/div[1]/div/div[4]/div/div/div[2]/div[4]/div[2]/div[2]/text()\\n# product_content = driver.find_element_by_xpath(\\\"/html/body/div[1]/div[1]/div/div[4]/div/div/div[2]/div[4]/div[2]/div[2]\\\").text\\n# /html/body/div[1]/div[1]/div/div[4]/div/div/div[2]/div[3]/button\\n# driver.find_element_by_xpath(\\\"/html/body/div[1]/div[1]/div/div[4]/div/div/div[2]/div[3]/button\\\").click()\";\n                var nbb_formatted_code = \"# /html/body/div[1]/div[1]/div/main/div[5]/div/div[4]/ul/li[1]/ul/li[1]\\noptions = Options()\\n# options.add_argument(\\\"--headless\\\")\\noptions.add_argument(\\\"window-size=1400,600\\\")\\n\\ndriver = webdriver.Chrome(executable_path=\\\"chromedriver_win32/chromedriver.exe\\\")\\ndriver.maximize_window()\\ndriver.set_window_size(1920, 1080)\\ndriver.get(lst_urls[8000])\\ndriver.find_element_by_xpath(\\n    \\\"/html/body/div[1]/div[1]/div/div[4]/div/div/div[2]/div[2]/button\\\"\\n).click()\\nsize = 18\\nfor i in range(0, size):\\n    driver.execute_script(\\n        \\\"window.scrollTo({start}*document.body.scrollHeight/{r}, {end}*document.body.scrollHeight/{r})\\\".format(\\n            start=i, end=i + 1, r=size\\n        )\\n    )\\n    time.sleep(1)\\n\\n\\na = scrape_restaurant_large_display_v2(driver)\\n\\n# time.sleep(0.5)\\n\\n# /html/body/div[1]/div[1]/div/div[4]/div/div/div[2]/div[4]/div[2]/div[2]/text()\\n# product_content = driver.find_element_by_xpath(\\\"/html/body/div[1]/div[1]/div/div[4]/div/div/div[2]/div[4]/div[2]/div[2]\\\").text\\n# /html/body/div[1]/div[1]/div/div[4]/div/div/div[2]/div[3]/button\\n# driver.find_element_by_xpath(\\\"/html/body/div[1]/div[1]/div/div[4]/div/div/div[2]/div[3]/button\\\").click()\";\n                var nbb_cells = Jupyter.notebook.get_cells();\n                for (var i = 0; i < nbb_cells.length; ++i) {\n                    if (nbb_cells[i].input_prompt_number == nbb_cell_id) {\n                        if (nbb_cells[i].get_text() == nbb_unformatted_code) {\n                             nbb_cells[i].set_text(nbb_formatted_code);\n                        }\n                        break;\n                    }\n                }\n            }, 500);\n            ",
      "text/plain": [
       "<IPython.core.display.Javascript object>"
      ]
     },
     "metadata": {},
     "output_type": "display_data"
    }
   ],
   "source": [
    "#/html/body/div[1]/div[1]/div/main/div[5]/div/div[4]/ul/li[1]/ul/li[1]\n",
    "options = Options()\n",
    "# options.add_argument(\"--headless\")\n",
    "options.add_argument(\"window-size=1400,600\")\n",
    "\n",
    "driver = webdriver.Chrome(executable_path=\"chromedriver_win32/chromedriver.exe\")\n",
    "driver.maximize_window()\n",
    "driver.set_window_size(1920, 1080)\n",
    "driver.get(lst_urls[8000]) \n",
    "driver.find_element_by_xpath(\"/html/body/div[1]/div[1]/div/div[4]/div/div/div[2]/div[2]/button\").click()\n",
    "size=18\n",
    "for i in range(0, size):\n",
    "    driver.execute_script(\"window.scrollTo({start}*document.body.scrollHeight/{r}, {end}*document.body.scrollHeight/{r})\".format(start=i, end = i+1, r=size))\n",
    "    time.sleep(1)\n",
    "\n",
    "\n",
    "a = scrape_restaurant_large_display_v2(driver)\n",
    "\n",
    "# time.sleep(0.5)\n",
    "\n",
    "# /html/body/div[1]/div[1]/div/div[4]/div/div/div[2]/div[4]/div[2]/div[2]/text()\n",
    "# product_content = driver.find_element_by_xpath(\"/html/body/div[1]/div[1]/div/div[4]/div/div/div[2]/div[4]/div[2]/div[2]\").text\n",
    "# /html/body/div[1]/div[1]/div/div[4]/div/div/div[2]/div[3]/button\n",
    "# driver.find_element_by_xpath(\"/html/body/div[1]/div[1]/div/div[4]/div/div/div[2]/div[3]/button\").click()\n"
   ]
  },
  {
   "cell_type": "code",
   "execution_count": 15,
   "id": "624e8e53",
   "metadata": {},
   "outputs": [
    {
     "data": {
      "text/html": [
       "<div>\n",
       "<style scoped>\n",
       "    .dataframe tbody tr th:only-of-type {\n",
       "        vertical-align: middle;\n",
       "    }\n",
       "\n",
       "    .dataframe tbody tr th {\n",
       "        vertical-align: top;\n",
       "    }\n",
       "\n",
       "    .dataframe thead th {\n",
       "        text-align: right;\n",
       "    }\n",
       "</style>\n",
       "<table border=\"1\" class=\"dataframe\">\n",
       "  <thead>\n",
       "    <tr style=\"text-align: right;\">\n",
       "      <th></th>\n",
       "      <th>title</th>\n",
       "      <th>detail</th>\n",
       "      <th>rating</th>\n",
       "      <th>num_review</th>\n",
       "      <th>menu_category</th>\n",
       "      <th>name</th>\n",
       "      <th>price</th>\n",
       "      <th>description</th>\n",
       "      <th>status</th>\n",
       "      <th>img_url</th>\n",
       "      <th>img_url_contingency</th>\n",
       "      <th>product_content</th>\n",
       "    </tr>\n",
       "  </thead>\n",
       "  <tbody>\n",
       "  </tbody>\n",
       "</table>\n",
       "</div>"
      ],
      "text/plain": [
       "Empty DataFrame\n",
       "Columns: [title, detail, rating, num_review, menu_category, name, price, description, status, img_url, img_url_contingency, product_content]\n",
       "Index: []"
      ]
     },
     "execution_count": 15,
     "metadata": {},
     "output_type": "execute_result"
    },
    {
     "data": {
      "application/javascript": "\n            setTimeout(function() {\n                var nbb_cell_id = 15;\n                var nbb_unformatted_code = \"a\";\n                var nbb_formatted_code = \"a\";\n                var nbb_cells = Jupyter.notebook.get_cells();\n                for (var i = 0; i < nbb_cells.length; ++i) {\n                    if (nbb_cells[i].input_prompt_number == nbb_cell_id) {\n                        if (nbb_cells[i].get_text() == nbb_unformatted_code) {\n                             nbb_cells[i].set_text(nbb_formatted_code);\n                        }\n                        break;\n                    }\n                }\n            }, 500);\n            ",
      "text/plain": [
       "<IPython.core.display.Javascript object>"
      ]
     },
     "metadata": {},
     "output_type": "display_data"
    }
   ],
   "source": [
    "a"
   ]
  },
  {
   "cell_type": "code",
   "execution_count": null,
   "id": "b41cb0b9",
   "metadata": {},
   "outputs": [],
   "source": []
  }
 ],
 "metadata": {
  "kernelspec": {
   "display_name": "Python 3 (ipykernel)",
   "language": "python",
   "name": "python3"
  },
  "language_info": {
   "codemirror_mode": {
    "name": "ipython",
    "version": 3
   },
   "file_extension": ".py",
   "mimetype": "text/x-python",
   "name": "python",
   "nbconvert_exporter": "python",
   "pygments_lexer": "ipython3",
   "version": "3.10.2"
  }
 },
 "nbformat": 4,
 "nbformat_minor": 5
}
